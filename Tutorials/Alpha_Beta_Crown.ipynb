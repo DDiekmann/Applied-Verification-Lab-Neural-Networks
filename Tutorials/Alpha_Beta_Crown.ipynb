{
  "nbformat": 4,
  "nbformat_minor": 0,
  "metadata": {
    "colab": {
      "name": "Alpha-Beta-Crown.ipynb",
      "provenance": [],
      "collapsed_sections": [],
      "authorship_tag": "ABX9TyMz8WqAKg2ASF/48vK97mdM",
      "include_colab_link": true
    },
    "kernelspec": {
      "name": "python3",
      "display_name": "Python 3"
    },
    "language_info": {
      "name": "python"
    }
  },
  "cells": [
    {
      "cell_type": "markdown",
      "metadata": {
        "id": "view-in-github",
        "colab_type": "text"
      },
      "source": [
        "<a href=\"https://colab.research.google.com/github/DDiekmann/Applied-Verification-Lab-Neural-Networks/blob/main/Tutorials/Alpha_Beta_Crown.ipynb\" target=\"_parent\"><img src=\"https://colab.research.google.com/assets/colab-badge.svg\" alt=\"Open In Colab\"/></a>"
      ]
    },
    {
      "cell_type": "markdown",
      "source": [
        "# α,β-CROWN ML-Verification Tutorial"
      ],
      "metadata": {
        "id": "aYgyJk_R5281"
      }
    },
    {
      "cell_type": "markdown",
      "source": [
        "## Installation"
      ],
      "metadata": {
        "id": "n0Quth1B5Wbe"
      }
    },
    {
      "cell_type": "markdown",
      "source": [
        "Installation by [tutorial](https://colab.research.google.com/drive/1mJTOmq2qHxMycHUzBepBN47QWcxda3ov#scrollTo=Y0toepwVIFTG). "
      ],
      "metadata": {
        "id": "Y8neFi6n5da9"
      }
    },
    {
      "cell_type": "code",
      "source": [
        "%%capture\n",
        "%%bash\n",
        "%env PYTHONPATH=\n",
        "MINICONDA_INSTALLER_SCRIPT=Miniconda3-4.5.4-Linux-x86_64.sh\n",
        "MINICONDA_PREFIX=/usr/local\n",
        "wget https://repo.continuum.io/miniconda/$MINICONDA_INSTALLER_SCRIPT\n",
        "chmod +x $MINICONDA_INSTALLER_SCRIPT\n",
        "./$MINICONDA_INSTALLER_SCRIPT -b -f -p $MINICONDA_PREFIX"
      ],
      "metadata": {
        "id": "JV2OjHuS32CK"
      },
      "execution_count": 1,
      "outputs": []
    },
    {
      "cell_type": "code",
      "source": [
        "%%capture\n",
        "%%bash\n",
        "conda install --channel defaults conda python=3.7 --yes\n",
        "conda update --channel defaults --all --yes"
      ],
      "metadata": {
        "id": "2r20b2Wg36Kd"
      },
      "execution_count": 2,
      "outputs": []
    },
    {
      "cell_type": "code",
      "source": [
        "%%capture\n",
        "import sys\n",
        "sys.path\n",
        "!ls /usr/local/lib/python3.7/dist-packages\n",
        "_ = (sys.path\n",
        "        .append(\"/usr/local/lib/python3.7/site-packages\"))"
      ],
      "metadata": {
        "id": "iVia-nO53826"
      },
      "execution_count": 3,
      "outputs": []
    },
    {
      "cell_type": "code",
      "source": [
        "%%capture\n",
        "# Uninstall existing Pytorch on Colab, which might be incompatible or buggy.\n",
        "# !pip uninstall --yes torch torchvision torchaudio torchtext\n",
        "!git clone https://github.com/huanzhang12/alpha-beta-CROWN.git"
      ],
      "metadata": {
        "id": "R3m60hqD3_sQ"
      },
      "execution_count": 4,
      "outputs": []
    },
    {
      "cell_type": "code",
      "source": [
        "%%capture\n",
        "%%bash\n",
        "# Remove the old environment, if necessary.\n",
        "conda env remove --name alpha-beta-crown\n",
        "conda env create -f alpha-beta-CROWN/complete_verifier/environment.yml  # install all dependents into the alpha-beta-crown environment\n",
        "#conda activate alpha-beta-crown  # activate the environment"
      ],
      "metadata": {
        "id": "UThlPEBk4Ckw"
      },
      "execution_count": 5,
      "outputs": []
    },
    {
      "cell_type": "code",
      "source": [
        "%cd alpha-beta-CROWN/complete_verifier/"
      ],
      "metadata": {
        "colab": {
          "base_uri": "https://localhost:8080/"
        },
        "id": "ssVpobxp4GQa",
        "outputId": "ea73016a-b08b-4663-9512-481e7858ca75"
      },
      "execution_count": 6,
      "outputs": [
        {
          "output_type": "stream",
          "name": "stdout",
          "text": [
            "/content/alpha-beta-CROWN/complete_verifier\n"
          ]
        }
      ]
    },
    {
      "cell_type": "code",
      "source": [
        "%%writefile -a exp_configs/tutorial_mnist_example.yaml\n",
        "general:\n",
        "  mode: verified-acc\n",
        "model:\n",
        "  name: mnist_cnn_4layer\n",
        "  path: models/sdp/mnist_cnn_a_adv.model\n",
        "data:\n",
        "  dataset: MNIST\n",
        "  std: [1.]\n",
        "  mean: [0.]\n",
        "specification:\n",
        "  epsilon: 0.3\n",
        "attack:\n",
        "  pgd_restarts: 50\n",
        "solver:\n",
        "  beta-crown:\n",
        "    batch_size: 1024\n",
        "    iteration: 20\n",
        "bab:\n",
        "  timeout: 180"
      ],
      "metadata": {
        "id": "17NoP0IfLWgG",
        "outputId": "54f7e24b-de06-4021-d877-7c3e3c5700a7",
        "colab": {
          "base_uri": "https://localhost:8080/"
        }
      },
      "execution_count": 28,
      "outputs": [
        {
          "output_type": "stream",
          "name": "stdout",
          "text": [
            "Writing exp_configs/tutorial_mnist_example.yaml\n"
          ]
        }
      ]
    },
    {
      "cell_type": "markdown",
      "source": [
        "## Verification of sample"
      ],
      "metadata": {
        "id": "KRxlpLc6MhAt"
      }
    },
    {
      "cell_type": "code",
      "source": [
        "%%bash\n",
        "source activate alpha-beta-crown\n",
        "# python robustness_verifier.py --config exp_configs/tutorial_mnist_example.yaml --start 0 --end 1\n",
        "# python robustness_verifier.py --config exp_configs/tutorial_mnist_example.yaml --start 1 --end 2\n",
        "python robustness_verifier.py --config exp_configs/tutorial_mnist_example.yaml --start 21 --end 22\n",
        "conda deactivate"
      ],
      "metadata": {
        "id": "1nQegTDOLfyj",
        "outputId": "78af064a-706f-4850-b5c9-c9ee2843f079",
        "colab": {
          "base_uri": "https://localhost:8080/"
        }
      },
      "execution_count": 29,
      "outputs": [
        {
          "output_type": "stream",
          "name": "stdout",
          "text": [
            "Configurations:\n",
            "\n",
            "general:\n",
            "  device: cuda\n",
            "  seed: 100\n",
            "  conv_mode: patches\n",
            "  deterministic: false\n",
            "  double_fp: false\n",
            "  loss_reduction_func: sum\n",
            "  record_bounds: false\n",
            "  mode: verified-acc\n",
            "  complete_verifier: bab\n",
            "  enable_incomplete_verification: true\n",
            "  get_crown_verified_acc: false\n",
            "model:\n",
            "  path: models/sdp/mnist_cnn_a_adv.model\n",
            "  name: mnist_cnn_4layer\n",
            "data:\n",
            "  start: 21\n",
            "  end: 22\n",
            "  num_outputs: 10\n",
            "  mean: [0.0]\n",
            "  std: [1.0]\n",
            "  pkl_path: null\n",
            "  dataset: MNIST\n",
            "  data_filter_path: null\n",
            "  data_idx_file: null\n",
            "specification:\n",
            "  type: lp\n",
            "  norm: .inf\n",
            "  epsilon: 0.3\n",
            "solver:\n",
            "  alpha-crown:\n",
            "    lr_alpha: 0.1\n",
            "    iteration: 100\n",
            "    share_slopes: false\n",
            "    no_joint_opt: false\n",
            "  beta-crown:\n",
            "    batch_size: 1024\n",
            "    lr_alpha: 0.01\n",
            "    lr_beta: 0.05\n",
            "    lr_decay: 0.98\n",
            "    optimizer: adam\n",
            "    iteration: 20\n",
            "    beta: true\n",
            "    beta_warmup: true\n",
            "  mip:\n",
            "    parallel_solvers: null\n",
            "    solver_threads: 1\n",
            "    refine_neuron_timeout: 15\n",
            "    refine_neuron_time_percentage: 0.8\n",
            "    early_stop: true\n",
            "bab:\n",
            "  max_domains: 200000\n",
            "  decision_thresh: 0\n",
            "  timeout: 180\n",
            "  get_upper_bound: false\n",
            "  dfs_percent: 0.0\n",
            "  branching:\n",
            "    method: kfsb\n",
            "    candidates: 3\n",
            "    reduceop: min\n",
            "attack:\n",
            "  pgd_order: before\n",
            "  enable_mip_attack: false\n",
            "  pgd_steps: 100\n",
            "  pgd_restarts: 50\n",
            "  pgd_early_stop: true\n",
            "  pgd_lr_decay: 0.99\n",
            "  pgd_alpha: auto\n",
            "debug:\n",
            "  lp_test: null\n",
            "\n",
            "Experiments at Wed Jun  1 07:32:33 2022 on d5510075d755\n",
            "Sequential(\n",
            "  (0): Conv2d(1, 16, kernel_size=(4, 4), stride=(2, 2), padding=(1, 1))\n",
            "  (1): ReLU()\n",
            "  (2): Conv2d(16, 32, kernel_size=(4, 4), stride=(2, 2), padding=(1, 1))\n",
            "  (3): ReLU()\n",
            "  (4): Flatten()\n",
            "  (5): Linear(in_features=1568, out_features=100, bias=True)\n",
            "  (6): ReLU()\n",
            "  (7): Linear(in_features=100, out_features=10, bias=True)\n",
            ")\n",
            "Trying generic MNIST/CIFAR data loader.\n",
            "Downloading http://yann.lecun.com/exdb/mnist/train-images-idx3-ubyte.gz\n",
            "Downloading http://yann.lecun.com/exdb/mnist/train-images-idx3-ubyte.gz to /content/alpha-beta-CROWN/complete_verifier/datasets/MNIST/raw/train-images-idx3-ubyte.gz\n",
            "Extracting /content/alpha-beta-CROWN/complete_verifier/datasets/MNIST/raw/train-images-idx3-ubyte.gz to /content/alpha-beta-CROWN/complete_verifier/datasets/MNIST/raw\n",
            "\n",
            "Downloading http://yann.lecun.com/exdb/mnist/train-labels-idx1-ubyte.gz\n",
            "Downloading http://yann.lecun.com/exdb/mnist/train-labels-idx1-ubyte.gz to /content/alpha-beta-CROWN/complete_verifier/datasets/MNIST/raw/train-labels-idx1-ubyte.gz\n",
            "Extracting /content/alpha-beta-CROWN/complete_verifier/datasets/MNIST/raw/train-labels-idx1-ubyte.gz to /content/alpha-beta-CROWN/complete_verifier/datasets/MNIST/raw\n",
            "\n",
            "Downloading http://yann.lecun.com/exdb/mnist/t10k-images-idx3-ubyte.gz\n",
            "Downloading http://yann.lecun.com/exdb/mnist/t10k-images-idx3-ubyte.gz to /content/alpha-beta-CROWN/complete_verifier/datasets/MNIST/raw/t10k-images-idx3-ubyte.gz\n",
            "Extracting /content/alpha-beta-CROWN/complete_verifier/datasets/MNIST/raw/t10k-images-idx3-ubyte.gz to /content/alpha-beta-CROWN/complete_verifier/datasets/MNIST/raw\n",
            "\n",
            "Downloading http://yann.lecun.com/exdb/mnist/t10k-labels-idx1-ubyte.gz\n",
            "Downloading http://yann.lecun.com/exdb/mnist/t10k-labels-idx1-ubyte.gz to /content/alpha-beta-CROWN/complete_verifier/datasets/MNIST/raw/t10k-labels-idx1-ubyte.gz\n",
            "Extracting /content/alpha-beta-CROWN/complete_verifier/datasets/MNIST/raw/t10k-labels-idx1-ubyte.gz to /content/alpha-beta-CROWN/complete_verifier/datasets/MNIST/raw\n",
            "\n",
            "Processing...\n",
            "Done!\n",
            "epsilon after preprocessing: tensor([[[[0.3000]]]]), data_max = tensor([[[[1.]]]]), data_min = tensor([[[[0.]]]])\n",
            "Task length: 1\n",
            "saving results to Verified_ret_[mnist_cnn_4layer]_start=21_end=22_iter=20_b=1024_timeout=180_branching=kfsb-min-3_lra-init=0.1_lra=0.01_lrb=0.05_PGD=before.npy\n"
          ]
        },
        {
          "output_type": "stream",
          "name": "stderr",
          "text": [
            "\r  0%|          | 0/9912422 [00:00<?, ?it/s]\r 71%|███████   | 7018496/9912422 [00:00<00:00, 70182517.01it/s]\r9913344it [00:00, 81916967.88it/s]                             \n",
            "\r  0%|          | 0/28881 [00:00<?, ?it/s]\r29696it [00:00, 59652323.56it/s]         \n",
            "\r  0%|          | 0/1648877 [00:00<?, ?it/s]\r1649664it [00:00, 24325323.49it/s]         \n",
            "\r  0%|          | 0/4542 [00:00<?, ?it/s]\r5120it [00:00, 20668755.03it/s]         \n",
            "/usr/local/envs/alpha-beta-crown/lib/python3.7/site-packages/torchvision/datasets/mnist.py:502: UserWarning: The given NumPy array is not writeable, and PyTorch does not support non-writeable tensors. This means you can write to the underlying (supposedly non-writeable) NumPy array using the tensor. You may want to copy the array to protect its data or make it writeable before converting it to a tensor. This type of warning will be suppressed for the rest of this program. (Triggered internally at  /opt/conda/conda-bld/pytorch_1627336316785/work/torch/csrc/utils/tensor_numpy.cpp:143.)\n",
            "  return torch.from_numpy(parsed.astype(m[2], copy=False)).view(*s)\n",
            "/usr/local/envs/alpha-beta-crown/lib/python3.7/site-packages/torch/utils/data/dataloader.py:477: UserWarning: This DataLoader will create 4 worker processes in total. Our suggested max number of worker in current system is 2, which is smaller than what this DataLoader is going to create. Please be aware that excessive worker creation might get DataLoader running slow or even freeze, lower the worker number to avoid potential slowness/freeze if necessary.\n",
            "  cpuset_checked))\n",
            "Traceback (most recent call last):\n",
            "  File \"robustness_verifier.py\", line 599, in <module>\n",
            "    main()\n",
            "  File \"robustness_verifier.py\", line 238, in main\n",
            "    model_ori, all_data_max, all_data_min = model_ori.to(arguments.Config[\"general\"][\"device\"]), data_max.to(arguments.Config[\"general\"][\"device\"]), data_min.to(arguments.Config[\"general\"][\"device\"])\n",
            "  File \"/usr/local/envs/alpha-beta-crown/lib/python3.7/site-packages/torch/nn/modules/module.py\", line 673, in to\n",
            "    return self._apply(convert)\n",
            "  File \"/usr/local/envs/alpha-beta-crown/lib/python3.7/site-packages/torch/nn/modules/module.py\", line 387, in _apply\n",
            "    module._apply(fn)\n",
            "  File \"/usr/local/envs/alpha-beta-crown/lib/python3.7/site-packages/torch/nn/modules/module.py\", line 409, in _apply\n",
            "    param_applied = fn(param)\n",
            "  File \"/usr/local/envs/alpha-beta-crown/lib/python3.7/site-packages/torch/nn/modules/module.py\", line 671, in convert\n",
            "    return t.to(device, dtype if t.is_floating_point() or t.is_complex() else None, non_blocking)\n",
            "  File \"/usr/local/envs/alpha-beta-crown/lib/python3.7/site-packages/torch/cuda/__init__.py\", line 170, in _lazy_init\n",
            "    torch._C._cuda_init()\n",
            "RuntimeError: No CUDA GPUs are available\n"
          ]
        }
      ]
    },
    {
      "cell_type": "markdown",
      "source": [
        "## Training of own network"
      ],
      "metadata": {
        "id": "BOZc8RfBMKdt"
      }
    },
    {
      "cell_type": "markdown",
      "source": [
        "TODO: train network"
      ],
      "metadata": {
        "id": "LiR0lyKLMQcP"
      }
    },
    {
      "cell_type": "markdown",
      "source": [
        "## Verification of own network with α,β-CROWN"
      ],
      "metadata": {
        "id": "ivgGYPZUMShY"
      }
    },
    {
      "cell_type": "markdown",
      "source": [
        "TODO: implement"
      ],
      "metadata": {
        "id": "RR1eq90hMZsL"
      }
    }
  ]
}