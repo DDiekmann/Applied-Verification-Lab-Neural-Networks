{
  "nbformat": 4,
  "nbformat_minor": 0,
  "metadata": {
    "colab": {
      "name": "Alpha-Beta-Crown.ipynb",
      "provenance": [],
      "collapsed_sections": [],
      "authorship_tag": "ABX9TyOFNqQMjLjyUL9HLQ9oIb3A",
      "include_colab_link": true
    },
    "kernelspec": {
      "name": "python3",
      "display_name": "Python 3"
    },
    "language_info": {
      "name": "python"
    }
  },
  "cells": [
    {
      "cell_type": "markdown",
      "metadata": {
        "id": "view-in-github",
        "colab_type": "text"
      },
      "source": [
        "<a href=\"https://colab.research.google.com/github/DDiekmann/Applied-Verification-Lab-Neural-Networks/blob/main/Tutorials/Alpha_Beta_Crown.ipynb\" target=\"_parent\"><img src=\"https://colab.research.google.com/assets/colab-badge.svg\" alt=\"Open In Colab\"/></a>"
      ]
    },
    {
      "cell_type": "markdown",
      "source": [
        "# α,β-CROWN ML-Verification Tutorial"
      ],
      "metadata": {
        "id": "aYgyJk_R5281"
      }
    },
    {
      "cell_type": "markdown",
      "source": [
        "## Installation"
      ],
      "metadata": {
        "id": "n0Quth1B5Wbe"
      }
    },
    {
      "cell_type": "markdown",
      "source": [
        "Installation by [tutorial](https://colab.research.google.com/drive/1mJTOmq2qHxMycHUzBepBN47QWcxda3ov#scrollTo=Y0toepwVIFTG). "
      ],
      "metadata": {
        "id": "Y8neFi6n5da9"
      }
    },
    {
      "cell_type": "code",
      "source": [
        "%%capture\n",
        "%%bash\n",
        "%env PYTHONPATH=\n",
        "MINICONDA_INSTALLER_SCRIPT=Miniconda3-4.5.4-Linux-x86_64.sh\n",
        "MINICONDA_PREFIX=/usr/local\n",
        "wget https://repo.continuum.io/miniconda/$MINICONDA_INSTALLER_SCRIPT\n",
        "chmod +x $MINICONDA_INSTALLER_SCRIPT\n",
        "./$MINICONDA_INSTALLER_SCRIPT -b -f -p $MINICONDA_PREFIX"
      ],
      "metadata": {
        "id": "JV2OjHuS32CK"
      },
      "execution_count": 1,
      "outputs": []
    },
    {
      "cell_type": "code",
      "source": [
        "%%capture\n",
        "%%bash\n",
        "conda install --channel defaults conda python=3.7 --yes\n",
        "conda update --channel defaults --all --yes"
      ],
      "metadata": {
        "id": "2r20b2Wg36Kd"
      },
      "execution_count": 2,
      "outputs": []
    },
    {
      "cell_type": "code",
      "source": [
        "%%capture\n",
        "import sys\n",
        "sys.path\n",
        "!ls /usr/local/lib/python3.7/dist-packages\n",
        "_ = (sys.path\n",
        "        .append(\"/usr/local/lib/python3.7/site-packages\"))"
      ],
      "metadata": {
        "id": "iVia-nO53826"
      },
      "execution_count": 3,
      "outputs": []
    },
    {
      "cell_type": "code",
      "source": [
        "%%capture\n",
        "# Uninstall existing Pytorch on Colab, which might be incompatible or buggy.\n",
        "# !pip uninstall --yes torch torchvision torchaudio torchtext\n",
        "!git clone https://github.com/huanzhang12/alpha-beta-CROWN.git"
      ],
      "metadata": {
        "id": "R3m60hqD3_sQ"
      },
      "execution_count": 4,
      "outputs": []
    },
    {
      "cell_type": "code",
      "source": [
        "%%capture\n",
        "%%bash\n",
        "# Remove the old environment, if necessary.\n",
        "conda env remove --name alpha-beta-crown\n",
        "conda env create -f alpha-beta-CROWN/complete_verifier/environment.yml  # install all dependents into the alpha-beta-crown environment\n",
        "#conda activate alpha-beta-crown  # activate the environment"
      ],
      "metadata": {
        "id": "UThlPEBk4Ckw"
      },
      "execution_count": 5,
      "outputs": []
    },
    {
      "cell_type": "code",
      "source": [
        "%cd alpha-beta-CROWN/complete_verifier/"
      ],
      "metadata": {
        "colab": {
          "base_uri": "https://localhost:8080/"
        },
        "id": "ssVpobxp4GQa",
        "outputId": "ec3e665e-cb0b-485b-d165-e35abaefad90"
      },
      "execution_count": 6,
      "outputs": [
        {
          "output_type": "stream",
          "name": "stdout",
          "text": [
            "/content/alpha-beta-CROWN/complete_verifier\n"
          ]
        }
      ]
    },
    {
      "cell_type": "code",
      "source": [
        "%%writefile -a exp_configs/tutorial_mnist_example.yaml\n",
        "general:\n",
        "  mode: verified-acc\n",
        "model:\n",
        "  name: mnist_cnn_4layer\n",
        "  path: models/sdp/mnist_cnn_a_adv.model\n",
        "data:\n",
        "  dataset: MNIST\n",
        "  std: [1.]\n",
        "  mean: [0.]\n",
        "specification:\n",
        "  epsilon: 0.3\n",
        "attack:\n",
        "  pgd_restarts: 50\n",
        "solver:\n",
        "  beta-crown:\n",
        "    batch_size: 1024\n",
        "    iteration: 20\n",
        "bab:\n",
        "  timeout: 180"
      ],
      "metadata": {
        "id": "17NoP0IfLWgG",
        "outputId": "596ed10e-8381-4839-a4bd-afdf96c53176",
        "colab": {
          "base_uri": "https://localhost:8080/"
        }
      },
      "execution_count": 7,
      "outputs": [
        {
          "output_type": "stream",
          "name": "stdout",
          "text": [
            "Writing exp_configs/tutorial_mnist_example.yaml\n"
          ]
        }
      ]
    },
    {
      "cell_type": "markdown",
      "source": [
        "## Verification of sample"
      ],
      "metadata": {
        "id": "KRxlpLc6MhAt"
      }
    },
    {
      "cell_type": "code",
      "source": [
        "%%bash\n",
        "source activate alpha-beta-crown\n",
        "# python robustness_verifier.py --config exp_configs/tutorial_mnist_example.yaml --start 0 --end 1\n",
        "# python robustness_verifier.py --config exp_configs/tutorial_mnist_example.yaml --start 1 --end 2\n",
        "python robustness_verifier.py --config exp_configs/tutorial_mnist_example.yaml --start 21 --end 22\n",
        "conda deactivate"
      ],
      "metadata": {
        "id": "1nQegTDOLfyj",
        "outputId": "2da9b73a-3865-410b-a6f7-ec9fe3c84132",
        "colab": {
          "base_uri": "https://localhost:8080/"
        }
      },
      "execution_count": 8,
      "outputs": [
        {
          "output_type": "stream",
          "name": "stdout",
          "text": [
            "Configurations:\n",
            "\n",
            "general:\n",
            "  device: cuda\n",
            "  seed: 100\n",
            "  conv_mode: patches\n",
            "  deterministic: false\n",
            "  double_fp: false\n",
            "  loss_reduction_func: sum\n",
            "  record_bounds: false\n",
            "  mode: verified-acc\n",
            "  complete_verifier: bab\n",
            "  enable_incomplete_verification: true\n",
            "  get_crown_verified_acc: false\n",
            "model:\n",
            "  path: models/sdp/mnist_cnn_a_adv.model\n",
            "  name: mnist_cnn_4layer\n",
            "data:\n",
            "  start: 21\n",
            "  end: 22\n",
            "  num_outputs: 10\n",
            "  mean: [0.0]\n",
            "  std: [1.0]\n",
            "  pkl_path: null\n",
            "  dataset: MNIST\n",
            "  data_filter_path: null\n",
            "  data_idx_file: null\n",
            "specification:\n",
            "  type: lp\n",
            "  norm: .inf\n",
            "  epsilon: 0.3\n",
            "solver:\n",
            "  alpha-crown:\n",
            "    lr_alpha: 0.1\n",
            "    iteration: 100\n",
            "    share_slopes: false\n",
            "    no_joint_opt: false\n",
            "  beta-crown:\n",
            "    batch_size: 1024\n",
            "    lr_alpha: 0.01\n",
            "    lr_beta: 0.05\n",
            "    lr_decay: 0.98\n",
            "    optimizer: adam\n",
            "    iteration: 20\n",
            "    beta: true\n",
            "    beta_warmup: true\n",
            "  mip:\n",
            "    parallel_solvers: null\n",
            "    solver_threads: 1\n",
            "    refine_neuron_timeout: 15\n",
            "    refine_neuron_time_percentage: 0.8\n",
            "    early_stop: true\n",
            "bab:\n",
            "  max_domains: 200000\n",
            "  decision_thresh: 0\n",
            "  timeout: 180\n",
            "  get_upper_bound: false\n",
            "  dfs_percent: 0.0\n",
            "  branching:\n",
            "    method: kfsb\n",
            "    candidates: 3\n",
            "    reduceop: min\n",
            "attack:\n",
            "  pgd_order: before\n",
            "  enable_mip_attack: false\n",
            "  pgd_steps: 100\n",
            "  pgd_restarts: 50\n",
            "  pgd_early_stop: true\n",
            "  pgd_lr_decay: 0.99\n",
            "  pgd_alpha: auto\n",
            "debug:\n",
            "  lp_test: null\n",
            "\n",
            "Experiments at Wed Jun  1 10:52:24 2022 on 933359f210a4\n",
            "Sequential(\n",
            "  (0): Conv2d(1, 16, kernel_size=(4, 4), stride=(2, 2), padding=(1, 1))\n",
            "  (1): ReLU()\n",
            "  (2): Conv2d(16, 32, kernel_size=(4, 4), stride=(2, 2), padding=(1, 1))\n",
            "  (3): ReLU()\n",
            "  (4): Flatten()\n",
            "  (5): Linear(in_features=1568, out_features=100, bias=True)\n",
            "  (6): ReLU()\n",
            "  (7): Linear(in_features=100, out_features=10, bias=True)\n",
            ")\n",
            "Trying generic MNIST/CIFAR data loader.\n",
            "Downloading http://yann.lecun.com/exdb/mnist/train-images-idx3-ubyte.gz\n",
            "Downloading http://yann.lecun.com/exdb/mnist/train-images-idx3-ubyte.gz to /content/alpha-beta-CROWN/complete_verifier/datasets/MNIST/raw/train-images-idx3-ubyte.gz\n",
            "Extracting /content/alpha-beta-CROWN/complete_verifier/datasets/MNIST/raw/train-images-idx3-ubyte.gz to /content/alpha-beta-CROWN/complete_verifier/datasets/MNIST/raw\n",
            "\n",
            "Downloading http://yann.lecun.com/exdb/mnist/train-labels-idx1-ubyte.gz\n",
            "Downloading http://yann.lecun.com/exdb/mnist/train-labels-idx1-ubyte.gz to /content/alpha-beta-CROWN/complete_verifier/datasets/MNIST/raw/train-labels-idx1-ubyte.gz\n",
            "Extracting /content/alpha-beta-CROWN/complete_verifier/datasets/MNIST/raw/train-labels-idx1-ubyte.gz to /content/alpha-beta-CROWN/complete_verifier/datasets/MNIST/raw\n",
            "\n",
            "Downloading http://yann.lecun.com/exdb/mnist/t10k-images-idx3-ubyte.gz\n",
            "Downloading http://yann.lecun.com/exdb/mnist/t10k-images-idx3-ubyte.gz to /content/alpha-beta-CROWN/complete_verifier/datasets/MNIST/raw/t10k-images-idx3-ubyte.gz\n",
            "Extracting /content/alpha-beta-CROWN/complete_verifier/datasets/MNIST/raw/t10k-images-idx3-ubyte.gz to /content/alpha-beta-CROWN/complete_verifier/datasets/MNIST/raw\n",
            "\n",
            "Downloading http://yann.lecun.com/exdb/mnist/t10k-labels-idx1-ubyte.gz\n",
            "Downloading http://yann.lecun.com/exdb/mnist/t10k-labels-idx1-ubyte.gz to /content/alpha-beta-CROWN/complete_verifier/datasets/MNIST/raw/t10k-labels-idx1-ubyte.gz\n",
            "Extracting /content/alpha-beta-CROWN/complete_verifier/datasets/MNIST/raw/t10k-labels-idx1-ubyte.gz to /content/alpha-beta-CROWN/complete_verifier/datasets/MNIST/raw\n",
            "\n",
            "Processing...\n",
            "Done!\n",
            "epsilon after preprocessing: tensor([[[[0.3000]]]]), data_max = tensor([[[[1.]]]]), data_min = tensor([[[[0.]]]])\n",
            "Task length: 1\n",
            "saving results to Verified_ret_[mnist_cnn_4layer]_start=21_end=22_iter=20_b=1024_timeout=180_branching=kfsb-min-3_lra-init=0.1_lra=0.01_lrb=0.05_PGD=before.npy\n"
          ]
        },
        {
          "output_type": "stream",
          "name": "stderr",
          "text": [
            "\r  0%|          | 0/9912422 [00:00<?, ?it/s]\r 36%|███▌      | 3524608/9912422 [00:00<00:00, 35244685.10it/s]\r9913344it [00:00, 58122935.02it/s]                             \n",
            "\r  0%|          | 0/28881 [00:00<?, ?it/s]\r29696it [00:00, 56105428.64it/s]         \n",
            "\r  0%|          | 0/1648877 [00:00<?, ?it/s]\r1649664it [00:00, 25341313.78it/s]         \n",
            "\r  0%|          | 0/4542 [00:00<?, ?it/s]\r5120it [00:00, 20145249.98it/s]         \n",
            "/usr/local/envs/alpha-beta-crown/lib/python3.7/site-packages/torchvision/datasets/mnist.py:502: UserWarning: The given NumPy array is not writeable, and PyTorch does not support non-writeable tensors. This means you can write to the underlying (supposedly non-writeable) NumPy array using the tensor. You may want to copy the array to protect its data or make it writeable before converting it to a tensor. This type of warning will be suppressed for the rest of this program. (Triggered internally at  /opt/conda/conda-bld/pytorch_1627336316785/work/torch/csrc/utils/tensor_numpy.cpp:143.)\n",
            "  return torch.from_numpy(parsed.astype(m[2], copy=False)).view(*s)\n",
            "/usr/local/envs/alpha-beta-crown/lib/python3.7/site-packages/torch/utils/data/dataloader.py:477: UserWarning: This DataLoader will create 4 worker processes in total. Our suggested max number of worker in current system is 2, which is smaller than what this DataLoader is going to create. Please be aware that excessive worker creation might get DataLoader running slow or even freeze, lower the worker number to avoid potential slowness/freeze if necessary.\n",
            "  cpuset_checked))\n",
            "Traceback (most recent call last):\n",
            "  File \"robustness_verifier.py\", line 599, in <module>\n",
            "    main()\n",
            "  File \"robustness_verifier.py\", line 238, in main\n",
            "    model_ori, all_data_max, all_data_min = model_ori.to(arguments.Config[\"general\"][\"device\"]), data_max.to(arguments.Config[\"general\"][\"device\"]), data_min.to(arguments.Config[\"general\"][\"device\"])\n",
            "  File \"/usr/local/envs/alpha-beta-crown/lib/python3.7/site-packages/torch/nn/modules/module.py\", line 673, in to\n",
            "    return self._apply(convert)\n",
            "  File \"/usr/local/envs/alpha-beta-crown/lib/python3.7/site-packages/torch/nn/modules/module.py\", line 387, in _apply\n",
            "    module._apply(fn)\n",
            "  File \"/usr/local/envs/alpha-beta-crown/lib/python3.7/site-packages/torch/nn/modules/module.py\", line 409, in _apply\n",
            "    param_applied = fn(param)\n",
            "  File \"/usr/local/envs/alpha-beta-crown/lib/python3.7/site-packages/torch/nn/modules/module.py\", line 671, in convert\n",
            "    return t.to(device, dtype if t.is_floating_point() or t.is_complex() else None, non_blocking)\n",
            "  File \"/usr/local/envs/alpha-beta-crown/lib/python3.7/site-packages/torch/cuda/__init__.py\", line 170, in _lazy_init\n",
            "    torch._C._cuda_init()\n",
            "RuntimeError: No CUDA GPUs are available\n"
          ]
        }
      ]
    },
    {
      "cell_type": "markdown",
      "source": [
        "## Training of own network"
      ],
      "metadata": {
        "id": "BOZc8RfBMKdt"
      }
    },
    {
      "cell_type": "code",
      "source": [
        "%%capture\n",
        "\n",
        "!wget --no-cache --backups=1 {'https://raw.githubusercontent.com/DDiekmann/Applied-Verification-Lab-Neural-Networks/main/lib/mnist_trainer.py'}"
      ],
      "metadata": {
        "id": "0m0ZKY_Y1S6q"
      },
      "execution_count": 10,
      "outputs": []
    },
    {
      "cell_type": "code",
      "source": [
        "%%writefile -a model_defs.py\n",
        "import mnist_trainer\n",
        "import torch\n",
        "from torch import nn"
      ],
      "metadata": {
        "colab": {
          "base_uri": "https://localhost:8080/"
        },
        "id": "k3BZQ9701T01",
        "outputId": "089f869d-9f5b-4221-a99e-7521cec439cd"
      },
      "execution_count": 12,
      "outputs": [
        {
          "output_type": "stream",
          "name": "stdout",
          "text": [
            "Appending to model_defs.py\n"
          ]
        }
      ]
    },
    {
      "cell_type": "code",
      "source": [
        "%%writefile -a model_defs.py\n",
        "def my_model(input_dim, output_dim, number_of_neurons):\n",
        "    \"\"\"Simple network with three linear layers and a ReLU activation function.\"\"\"\n",
        "    model = nn.Sequential(\n",
        "            nn.Flatten(),\n",
        "            nn.Linear(input_dim, number_of_neurons),\n",
        "            nn.ReLU(),\n",
        "            nn.Linear(number_of_neurons, number_of_neurons),\n",
        "            nn.ReLU(),\n",
        "            nn.Linear(number_of_neurons, output_dim),\n",
        "        )\n",
        "    return model"
      ],
      "metadata": {
        "colab": {
          "base_uri": "https://localhost:8080/"
        },
        "id": "xMPtFmOY1aix",
        "outputId": "681603f0-4ff8-4a81-d35b-9c1ca04cb4e4"
      },
      "execution_count": 14,
      "outputs": [
        {
          "output_type": "stream",
          "name": "stdout",
          "text": [
            "Appending to model_defs.py\n"
          ]
        }
      ]
    },
    {
      "cell_type": "markdown",
      "source": [
        "## Configure verification"
      ],
      "metadata": {
        "id": "LK3JuZPt4-mC"
      }
    },
    {
      "cell_type": "code",
      "source": [
        "%%writefile exp_configs/my_config.yaml\n",
        "# This is an example configuration file that contains most useful parameter settings.\n",
        "general:\n",
        "  mode: verified-acc  # Compute verified accuracy.\n",
        "model:\n",
        "  name: my_model  # This model is defined in model_defs.py. Add your own model definitions there.\n",
        "  path: models/cifar10_resnet/resnet2b.pth  # Path to PyTorch checkpoint.\n",
        "data:\n",
        "  dataset: MNIST_ERAN_UN # Dataset name.\n",
        "  std: [1.0] # Std for normalization.\n",
        "  mean: [0.0] # Mean for normalization.\n",
        "specification:\n",
        "  norm: .inf  # Linf norm (can also be 2 or 1).\n",
        "  epsilon: 0.00784313725490196  # epsilon=2./255.\n",
        "attack:  # Currently attack is only implemented for Linf norm.\n",
        "  pgd_steps: 100  # Increase for a stronger attack. A PGD attack will be used before verification to filter on non-robust data examples.\n",
        "  pgd_restarts: 30  # Increase for a stronger attack.\n",
        "solver:\n",
        "  alpha-crown:\n",
        "    iteration: 100   # Number of iterations for alpha-CROWN optimization. Alpha-CROWN is used to compute all intermediate layer bounds before branch and bound starts.\n",
        "    lr_alpha: 0.1    # Learning rate for alpha in alpha-CROWN. The default (0.1) is typically ok.\n",
        "  beta-crown:\n",
        "    batch_size: 2048  # Number of subdomains to compute in parallel in beta-CROWN. Increase if you run out of memory.\n",
        "    lr_alpha: 0.01  # Learning rate for optimizing the alpha parameters, the default (0.01) is typically ok, but you can try to tune this parameter to get better lower bound. \n",
        "    lr_beta: 0.05  # Learning rate for optimizing the beta parameters, the default (0.05) is typically ok, but you can try to tune this parameter to get better lower bound.\n",
        "    iteration: 20  # Number of iterations for beta-CROWN optimization. 20 is often sufficient, 50 or 100 can also be used.\n",
        "bab:\n",
        "  timeout: 120  # Timeout threshold for branch and bound. Increase for verifying more points.\n",
        "  branching:  # Parameters for branching heuristics.\n",
        "    reduceop: min  # Reduction function for the branching heuristic scores, min or max. Using max can be better on some models.\n",
        "    method: kfsb  # babsr is fast but less accurate; fsb is slow but most accurate; kfsb is usualy a balance.\n",
        "    candidates: 3  # Number of candidates to consider in fsb and kfsb. More leads to slower but better branching. 3 is typically good enough."
      ],
      "metadata": {
        "id": "Z7fKFQQV5CmY",
        "outputId": "92349475-c33a-48b5-f105-46f0be68163e",
        "colab": {
          "base_uri": "https://localhost:8080/"
        }
      },
      "execution_count": 16,
      "outputs": [
        {
          "output_type": "stream",
          "name": "stdout",
          "text": [
            "Overwriting exp_configs/my_config.yaml\n"
          ]
        }
      ]
    },
    {
      "cell_type": "markdown",
      "source": [
        "## Verification of own network with α,β-CROWN"
      ],
      "metadata": {
        "id": "ivgGYPZUMShY"
      }
    },
    {
      "cell_type": "code",
      "source": [
        "%%bash\n",
        "source activate alpha-beta-crown\n",
        "python robustness_verifier.py --config exp_configs/my_config.yaml --start 3 --end 4\n",
        "conda deactivate"
      ],
      "metadata": {
        "id": "f3uxJyk57EyU",
        "outputId": "e1713bf1-1c3d-40bc-ff4b-8fc9d3b940d1",
        "colab": {
          "base_uri": "https://localhost:8080/"
        }
      },
      "execution_count": 18,
      "outputs": [
        {
          "output_type": "stream",
          "name": "stderr",
          "text": [
            "Traceback (most recent call last):\n",
            "  File \"robustness_verifier.py\", line 23, in <module>\n",
            "    from utils import get_test_acc, load_model, load_verification_dataset\n",
            "  File \"/content/alpha-beta-CROWN/complete_verifier/utils.py\", line 33, in <module>\n",
            "    from model_defs import *\n",
            "  File \"/content/alpha-beta-CROWN/complete_verifier/model_defs.py\", line 1331\n",
            "    import mnist_trainerimport torch\n",
            "                                   ^\n",
            "SyntaxError: invalid syntax\n"
          ]
        }
      ]
    }
  ]
}