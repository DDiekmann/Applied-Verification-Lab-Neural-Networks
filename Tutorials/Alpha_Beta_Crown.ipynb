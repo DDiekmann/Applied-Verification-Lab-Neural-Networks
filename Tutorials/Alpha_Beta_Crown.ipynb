{
  "nbformat": 4,
  "nbformat_minor": 0,
  "metadata": {
    "colab": {
      "name": "Alpha-Beta-Crown.ipynb",
      "provenance": [],
      "collapsed_sections": [],
      "authorship_tag": "ABX9TyNFXFMKkU171ja5TVmvvAXB",
      "include_colab_link": true
    },
    "kernelspec": {
      "name": "python3",
      "display_name": "Python 3"
    },
    "language_info": {
      "name": "python"
    }
  },
  "cells": [
    {
      "cell_type": "markdown",
      "metadata": {
        "id": "view-in-github",
        "colab_type": "text"
      },
      "source": [
        "<a href=\"https://colab.research.google.com/github/DDiekmann/Applied-Verification-Lab-Neural-Networks/blob/main/Tutorials/Alpha_Beta_Crown.ipynb\" target=\"_parent\"><img src=\"https://colab.research.google.com/assets/colab-badge.svg\" alt=\"Open In Colab\"/></a>"
      ]
    },
    {
      "cell_type": "markdown",
      "source": [
        "# α,β-CROWN ML-Verification Tutorial"
      ],
      "metadata": {
        "id": "aYgyJk_R5281"
      }
    },
    {
      "cell_type": "markdown",
      "source": [
        "*This tutorial shows the robustness verification of a neural network trained on the MNIST dataset with use of α,β-CROWN.*"
      ],
      "metadata": {
        "id": "rz2u1ieA8NBv"
      }
    },
    {
      "cell_type": "markdown",
      "source": [
        "**α,β-CROWN**\n",
        "α,β-CROWN is an open-source neural network verifier. The code can be found on [their website](https://github.com/huanzhang12/alpha-beta-CROWN). "
      ],
      "metadata": {
        "id": "sOpfUe1C8xBV"
      }
    },
    {
      "cell_type": "markdown",
      "source": [
        "## Installation"
      ],
      "metadata": {
        "id": "n0Quth1B5Wbe"
      }
    },
    {
      "cell_type": "markdown",
      "source": [
        "Installation by [tutorial](https://colab.research.google.com/drive/1mJTOmq2qHxMycHUzBepBN47QWcxda3ov#scrollTo=Y0toepwVIFTG). "
      ],
      "metadata": {
        "id": "Y8neFi6n5da9"
      }
    },
    {
      "cell_type": "code",
      "source": [
        "%%capture\n",
        "%%bash\n",
        "%env PYTHONPATH=\n",
        "MINICONDA_INSTALLER_SCRIPT=Miniconda3-4.5.4-Linux-x86_64.sh\n",
        "MINICONDA_PREFIX=/usr/local\n",
        "wget https://repo.continuum.io/miniconda/$MINICONDA_INSTALLER_SCRIPT\n",
        "chmod +x $MINICONDA_INSTALLER_SCRIPT\n",
        "./$MINICONDA_INSTALLER_SCRIPT -b -f -p $MINICONDA_PREFIX"
      ],
      "metadata": {
        "id": "JV2OjHuS32CK"
      },
      "execution_count": 1,
      "outputs": []
    },
    {
      "cell_type": "code",
      "source": [
        "%%capture\n",
        "%%bash\n",
        "conda install --channel defaults conda python=3.7 --yes\n",
        "conda update --channel defaults --all --yes"
      ],
      "metadata": {
        "id": "2r20b2Wg36Kd"
      },
      "execution_count": 2,
      "outputs": []
    },
    {
      "cell_type": "code",
      "source": [
        "%%capture\n",
        "import sys\n",
        "sys.path\n",
        "!ls /usr/local/lib/python3.7/dist-packages\n",
        "_ = (sys.path\n",
        "        .append(\"/usr/local/lib/python3.7/site-packages\"))"
      ],
      "metadata": {
        "id": "iVia-nO53826"
      },
      "execution_count": 3,
      "outputs": []
    },
    {
      "cell_type": "code",
      "source": [
        "%%capture\n",
        "# Uninstall existing Pytorch on Colab, which might be incompatible or buggy.\n",
        "# !pip uninstall --yes torch torchvision torchaudio torchtext\n",
        "!git clone https://github.com/huanzhang12/alpha-beta-CROWN.git"
      ],
      "metadata": {
        "id": "R3m60hqD3_sQ"
      },
      "execution_count": 4,
      "outputs": []
    },
    {
      "cell_type": "code",
      "source": [
        "%%capture\n",
        "%%bash\n",
        "# Remove the old environment, if necessary.\n",
        "conda env remove --name alpha-beta-crown\n",
        "conda env create -f alpha-beta-CROWN/complete_verifier/environment.yml  # install all dependents into the alpha-beta-crown environment\n",
        "#conda activate alpha-beta-crown  # activate the environment"
      ],
      "metadata": {
        "id": "UThlPEBk4Ckw"
      },
      "execution_count": 5,
      "outputs": []
    },
    {
      "cell_type": "code",
      "source": [
        "%cd alpha-beta-CROWN/complete_verifier/"
      ],
      "metadata": {
        "colab": {
          "base_uri": "https://localhost:8080/"
        },
        "id": "ssVpobxp4GQa",
        "outputId": "e04dca81-a35b-4cfe-a667-261a1f4d53b2"
      },
      "execution_count": 6,
      "outputs": [
        {
          "output_type": "stream",
          "name": "stdout",
          "text": [
            "/content/alpha-beta-CROWN/complete_verifier\n"
          ]
        }
      ]
    },
    {
      "cell_type": "code",
      "source": [
        "%%writefile -a exp_configs/tutorial_mnist_example.yaml\n",
        "general:\n",
        "  mode: verified-acc\n",
        "model:\n",
        "  name: mnist_cnn_4layer\n",
        "  path: models/sdp/mnist_cnn_a_adv.model\n",
        "data:\n",
        "  dataset: MNIST\n",
        "  std: [1.]\n",
        "  mean: [0.]\n",
        "specification:\n",
        "  epsilon: 0.3\n",
        "attack:\n",
        "  pgd_restarts: 50\n",
        "solver:\n",
        "  beta-crown:\n",
        "    batch_size: 1024\n",
        "    iteration: 20\n",
        "bab:\n",
        "  timeout: 180"
      ],
      "metadata": {
        "id": "17NoP0IfLWgG",
        "outputId": "1139b66a-3232-47cc-9528-c157f8c473bd",
        "colab": {
          "base_uri": "https://localhost:8080/"
        }
      },
      "execution_count": 7,
      "outputs": [
        {
          "output_type": "stream",
          "name": "stdout",
          "text": [
            "Appending to exp_configs/tutorial_mnist_example.yaml\n"
          ]
        }
      ]
    },
    {
      "cell_type": "markdown",
      "source": [
        "## Training of own network"
      ],
      "metadata": {
        "id": "BOZc8RfBMKdt"
      }
    },
    {
      "cell_type": "code",
      "source": [
        "%%capture\n",
        "\n",
        "!wget --no-cache --backups=1 {'https://raw.githubusercontent.com/DDiekmann/Applied-Verification-Lab-Neural-Networks/main/lib/mnist_trainer.py'}"
      ],
      "metadata": {
        "id": "0m0ZKY_Y1S6q"
      },
      "execution_count": 9,
      "outputs": []
    },
    {
      "cell_type": "code",
      "source": [
        "%%writefile my_model.py\n",
        "import mnist_trainer\n",
        "import torch\n",
        "from torch import nn\n",
        "\n",
        "def my_model(input_dim, output_dim, number_of_neurons):\n",
        "    \"\"\"Simple network with three linear layers and a ReLU activation function.\"\"\"\n",
        "    model = nn.Sequential(\n",
        "            nn.Flatten(),\n",
        "            nn.Linear(input_dim, number_of_neurons),\n",
        "            nn.ReLU(),\n",
        "            nn.Linear(number_of_neurons, number_of_neurons),\n",
        "            nn.ReLU(),\n",
        "            nn.Linear(number_of_neurons, output_dim),\n",
        "        )\n",
        "    return model"
      ],
      "metadata": {
        "colab": {
          "base_uri": "https://localhost:8080/"
        },
        "id": "k3BZQ9701T01",
        "outputId": "32a20ce6-3a3f-41ba-8ac1-1b914e5775a6"
      },
      "execution_count": 10,
      "outputs": [
        {
          "output_type": "stream",
          "name": "stdout",
          "text": [
            "Appending to model_defs.py\n"
          ]
        }
      ]
    },
    {
      "cell_type": "markdown",
      "source": [
        "## Configure verification"
      ],
      "metadata": {
        "id": "LK3JuZPt4-mC"
      }
    },
    {
      "cell_type": "code",
      "source": [
        "%%writefile exp_configs/my_config.yaml\n",
        "# This is an example configuration file that contains most useful parameter settings.\n",
        "general:\n",
        "  mode: verified-acc  # Compute verified accuracy.\n",
        "model:\n",
        "  # Use my_model() model in \"my_model.py\".\n",
        "  name: Customized(\"my_model\", \"my_model\", input_dim=10, output_dim=12, number_of_neurons=20)\n",
        "  path: models/cifar10_resnet/resnet2b.pth  # Path to PyTorch checkpoint.\n",
        "data:\n",
        "  dataset: MNIST_ERAN_UN # Dataset name.\n",
        "  std: [1.0] # Std for normalization.\n",
        "  mean: [0.0] # Mean for normalization.\n",
        "specification:\n",
        "  norm: .inf  # Linf norm (can also be 2 or 1).\n",
        "  epsilon: 0.00784313725490196  # epsilon=2./255.\n",
        "attack:  # Currently attack is only implemented for Linf norm.\n",
        "  pgd_steps: 100  # Increase for a stronger attack. A PGD attack will be used before verification to filter on non-robust data examples.\n",
        "  pgd_restarts: 30  # Increase for a stronger attack.\n",
        "solver:\n",
        "  alpha-crown:\n",
        "    iteration: 100   # Number of iterations for alpha-CROWN optimization. Alpha-CROWN is used to compute all intermediate layer bounds before branch and bound starts.\n",
        "    lr_alpha: 0.1    # Learning rate for alpha in alpha-CROWN. The default (0.1) is typically ok.\n",
        "  beta-crown:\n",
        "    batch_size: 2048  # Number of subdomains to compute in parallel in beta-CROWN. Increase if you run out of memory.\n",
        "    lr_alpha: 0.01  # Learning rate for optimizing the alpha parameters, the default (0.01) is typically ok, but you can try to tune this parameter to get better lower bound. \n",
        "    lr_beta: 0.05  # Learning rate for optimizing the beta parameters, the default (0.05) is typically ok, but you can try to tune this parameter to get better lower bound.\n",
        "    iteration: 20  # Number of iterations for beta-CROWN optimization. 20 is often sufficient, 50 or 100 can also be used.\n",
        "bab:\n",
        "  timeout: 120  # Timeout threshold for branch and bound. Increase for verifying more points.\n",
        "  branching:  # Parameters for branching heuristics.\n",
        "    reduceop: min  # Reduction function for the branching heuristic scores, min or max. Using max can be better on some models.\n",
        "    method: kfsb  # babsr is fast but less accurate; fsb is slow but most accurate; kfsb is usualy a balance.\n",
        "    candidates: 3  # Number of candidates to consider in fsb and kfsb. More leads to slower but better branching. 3 is typically good enough."
      ],
      "metadata": {
        "colab": {
          "base_uri": "https://localhost:8080/"
        },
        "id": "Z7fKFQQV5CmY",
        "outputId": "9c2b2b17-81e5-47fa-99ad-017c977d3468"
      },
      "execution_count": 12,
      "outputs": [
        {
          "output_type": "stream",
          "name": "stdout",
          "text": [
            "Overwriting exp_configs/my_config.yaml\n"
          ]
        }
      ]
    },
    {
      "cell_type": "markdown",
      "source": [
        "## Verification of own network with α,β-CROWN"
      ],
      "metadata": {
        "id": "ivgGYPZUMShY"
      }
    },
    {
      "cell_type": "code",
      "source": [
        "%%bash\n",
        "source activate alpha-beta-crown\n",
        "python robustness_verifier.py --config exp_configs/my_config.yaml --start 3 --end 4\n",
        "conda deactivate"
      ],
      "metadata": {
        "colab": {
          "base_uri": "https://localhost:8080/"
        },
        "id": "f3uxJyk57EyU",
        "outputId": "1eccab3f-ac2b-4abf-e53b-7f9736f37dea"
      },
      "execution_count": 13,
      "outputs": [
        {
          "output_type": "stream",
          "name": "stderr",
          "text": [
            "Traceback (most recent call last):\n",
            "  File \"robustness_verifier.py\", line 23, in <module>\n",
            "    from utils import get_test_acc, load_model, load_verification_dataset\n",
            "  File \"/content/alpha-beta-CROWN/complete_verifier/utils.py\", line 33, in <module>\n",
            "    from model_defs import *\n",
            "  File \"/content/alpha-beta-CROWN/complete_verifier/model_defs.py\", line 1331\n",
            "    import mnist_trainerimport torch\n",
            "                                   ^\n",
            "SyntaxError: invalid syntax\n"
          ]
        }
      ]
    },
    {
      "cell_type": "markdown",
      "source": [
        "## Verification of sample"
      ],
      "metadata": {
        "id": "KRxlpLc6MhAt"
      }
    },
    {
      "cell_type": "code",
      "source": [
        "%%bash\n",
        "source activate alpha-beta-crown\n",
        "# python robustness_verifier.py --config exp_configs/tutorial_mnist_example.yaml --start 0 --end 1\n",
        "# python robustness_verifier.py --config exp_configs/tutorial_mnist_example.yaml --start 1 --end 2\n",
        "python robustness_verifier.py --config exp_configs/tutorial_mnist_example.yaml --start 21 --end 22\n",
        "conda deactivate"
      ],
      "metadata": {
        "id": "1nQegTDOLfyj",
        "outputId": "ee558f96-daf6-4a85-e023-9646b3d3f14c",
        "colab": {
          "base_uri": "https://localhost:8080/"
        }
      },
      "execution_count": 8,
      "outputs": [
        {
          "output_type": "stream",
          "name": "stderr",
          "text": [
            "Traceback (most recent call last):\n",
            "  File \"robustness_verifier.py\", line 23, in <module>\n",
            "    from utils import get_test_acc, load_model, load_verification_dataset\n",
            "  File \"/content/alpha-beta-CROWN/complete_verifier/utils.py\", line 33, in <module>\n",
            "    from model_defs import *\n",
            "  File \"/content/alpha-beta-CROWN/complete_verifier/model_defs.py\", line 1331\n",
            "    import mnist_trainerimport torch\n",
            "                                   ^\n",
            "SyntaxError: invalid syntax\n"
          ]
        }
      ]
    }
  ]
}