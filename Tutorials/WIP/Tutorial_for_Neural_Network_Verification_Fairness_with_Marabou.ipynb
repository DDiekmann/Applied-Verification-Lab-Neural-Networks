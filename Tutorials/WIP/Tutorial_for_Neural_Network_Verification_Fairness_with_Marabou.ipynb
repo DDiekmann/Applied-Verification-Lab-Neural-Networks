{
  "nbformat": 4,
  "nbformat_minor": 0,
  "metadata": {
    "colab": {
      "name": "Tutorial for Neural Network Verification Fairness with Marabou.ipynb",
      "provenance": [],
      "authorship_tag": "ABX9TyMUlAP1Lqejmq7ZdILtAN6O",
      "include_colab_link": true
    },
    "kernelspec": {
      "name": "python3",
      "display_name": "Python 3"
    },
    "language_info": {
      "name": "python"
    }
  },
  "cells": [
    {
      "cell_type": "markdown",
      "metadata": {
        "id": "view-in-github",
        "colab_type": "text"
      },
      "source": [
        "<a href=\"https://colab.research.google.com/github/DDiekmann/Applied-Verification-Lab-Neural-Networks/blob/main/Tutorials/WIP/Tutorial_for_Neural_Network_Verification_Fairness_with_Marabou.ipynb\" target=\"_parent\"><img src=\"https://colab.research.google.com/assets/colab-badge.svg\" alt=\"Open In Colab\"/></a>"
      ]
    },
    {
      "cell_type": "markdown",
      "source": [
        "# Verification Of Fairness With Marabou\n",
        "\n",
        "As mentioned in this subsection we guide you through the verification of the fairness property with marabou. For that we will train a network on another dataset and then verify the fairness with marabou as we did with robustness."
      ],
      "metadata": {
        "id": "tz80aOn15QTA"
      }
    },
    {
      "cell_type": "markdown",
      "source": [
        "## Training And Exporting The Neural Network"
      ],
      "metadata": {
        "id": "40q3Vy4q5YqP"
      }
    },
    {
      "cell_type": "markdown",
      "source": [
        "\n",
        "We train the neural network on the [Census Income Data Set](https://archive.ics.uci.edu/ml/datasets/census+income). \n",
        "This classification problem has a set of inputs like age, gender, workclass and other. \n",
        "The classifier now has to predict whether the income is above or below \\$50,000.\n",
        "\n",
        "---\n",
        "\n",
        "Listing of input features (encoded with integers starting with 1):\n",
        "\n",
        "* age: continuous.\n",
        "\n",
        "* workclass: Private, Self-emp-not-inc, Self-emp-inc, Federal-gov, Local-gov, State-gov, Without-pay, Never-worked.\n",
        "\n",
        "* fnlwgt: continuous.\n",
        "\n",
        "* education: Bachelors, Some-college, 11th, HS-grad, Prof-school, Assoc-acdm, Assoc-voc, 9th, 7th-8th, 12th, Masters, 1st-4th, 10th, Doctorate, 5th-6th, Preschool.\n",
        "\n",
        "* education-num: continuous.\n",
        "\n",
        "* marital-status: Married-civ-spouse, Divorced, Never-married, Separated, Widowed, Married-spouse-absent, Married-AF-spouse.\n",
        "\n",
        "* occupation: Tech-support, Craft-repair, Other-service, Sales, Exec-managerial, Prof-specialty, Handlers-cleaners, Machine-op-inspct, Adm-clerical, Farming-fishing, Transport-moving, Priv-house-serv, Protective-serv, Armed-Forces.\n",
        "\n",
        "* relationship: Wife, Own-child, Husband, Not-in-family, Other-relative, Unmarried.\n",
        "\n",
        "* race: White, Asian-Pac-Islander, Amer-Indian-Eskimo, Other, Black.\n",
        "\n",
        "* sex: Female, Male.\n",
        "\n",
        "* capital-gain: continuous.\n",
        "\n",
        "* capital-loss: continuous.\n",
        "\n",
        "* hours-per-week: continuous.\n",
        "\n",
        "* native-country: United-States, Cambodia, England, Puerto-Rico, Canada, Germany, Outlying-US(Guam-USVI-etc), India, Japan, Greece, South, China, Cuba, Iran, Honduras, Philippines, Italy, Poland, Jamaica, Vietnam, Mexico, Portugal, Ireland, France, Dominican-Republic, Laos, Ecuador, Taiwan, Haiti, Columbia, Hungary, Guatemala, Nicaragua, Scotland, Thailand, Yugoslavia, El-Salvador, Trinadad&Tobago, Peru, Hong, Holand-Netherlands.\n",
        "\n",
        "Output (encoded with two neurons): \n",
        "* <=50K or >50K"
      ],
      "metadata": {
        "id": "Oe5r0qHC5dmz"
      }
    },
    {
      "cell_type": "markdown",
      "source": [
        "To check the fairness in Marabou, we need to slightly modify our neural network"
      ],
      "metadata": {
        "id": "l4U8nGo85i-A"
      }
    },
    {
      "cell_type": "code",
      "source": [
        "%%capture\n",
        "census_train_dataloader, census_test_dataloader = mnist_trainer.load_census_income_dataset(batch_size=64)"
      ],
      "metadata": {
        "id": "DZCuhvuo5iA-"
      },
      "execution_count": null,
      "outputs": []
    },
    {
      "cell_type": "code",
      "source": [
        "# train model\n",
        "census_model = mnist_trainer.train_model(\n",
        "    NeuralNetwork(input_dim=14, output_dim=2, number_of_neurons=20), \n",
        "    epochs=5, \n",
        "    train_dataloader=census_train_dataloader,    \n",
        "    test_dataloader=census_test_dataloader,\n",
        "    )\n",
        "\n",
        "# export model\n",
        "census_model_filename = \"census_net.onnx\"\n",
        "export_as_onnx(census_model, model_filename=census_model_filename, dummy_input=torch.randn(2, 14))"
      ],
      "metadata": {
        "id": "3g3GNTsS5mrA"
      },
      "execution_count": null,
      "outputs": []
    },
    {
      "cell_type": "markdown",
      "source": [
        "## Verify Fairness With Marabou"
      ],
      "metadata": {
        "id": "AiKAImtS5o6D"
      }
    },
    {
      "cell_type": "markdown",
      "source": [
        "As before we need to read the network with marabou again."
      ],
      "metadata": {
        "id": "O6DrRf4K5ruB"
      }
    },
    {
      "cell_type": "code",
      "source": [
        "census_network = Marabou.read_onnx(census_model_filename)\n",
        "\n",
        "inputVars1 = census_network.inputVars[0][0]\n",
        "inputVars2 = census_network.inputVars[0][1]\n",
        "outputVars1 = census_network.outputVars[0][0]\n",
        "outputVars2 = census_network.outputVars[0][1]\n",
        "\n",
        "#inputVars1, inputVars2 = split_list(inputVars)\n",
        "#outputVars1, outputVars2 = split_list(outputVars)"
      ],
      "metadata": {
        "id": "hDHhVQVV5sKr"
      },
      "execution_count": null,
      "outputs": []
    },
    {
      "cell_type": "markdown",
      "source": [
        "The fairness property states, that the neural network should output the same result, if exactly one input, but no other, is changed. This can be applied to sensitive attributes like sex or race. In our example a sensitive attribute can be the sex. \n",
        "So if the network predicts that a male earns more than \\\\$50,000 with given attributes, then a female with the same attributes also has to earn more than \\\\$50,000, when the network is fair.\n",
        "\n",
        "Let $\\mathcal{N}$ be our neural network with $\\mathcal{f}_{\\mathcal{N}}: \\mathbb{R}^m\\rightarrow\\mathbb{R}^n$ and $i \\in \\{1...,m\\}$ is a sensitive attribute. \n",
        "\n",
        "The neural network $\\mathcal{N}$ is fair if:\n",
        "$$\n",
        "∀\\vec{x},\\vec{y}\\in\\mathbb{R}^m:(x_i \\neq y_i \\wedge \\displaystyle\\bigwedge_{j \\neq i} x_j = y_j) \\Rightarrow \\mathcal{f}_{\\mathcal{N}}(\\vec{x}) = \\mathcal{f}_{\\mathcal{N}}(\\vec{y}).\n",
        "$$"
      ],
      "metadata": {
        "id": "VSJullh25vGB"
      }
    },
    {
      "cell_type": "code",
      "source": [
        "inputs, classes = next(iter(census_train_dataloader))\n",
        "inputs = inputs[0].numpy()\n",
        "correct_class = classes[0].item()\n",
        "print(inputs)\n",
        "print(correct_class)\n",
        "\n",
        "network_ouput = census_network.evaluateWithoutMarabou([np.array([inputs, inputs])])[0]\n",
        "predicted_class = np.argmax(network_ouput)\n",
        "print(network_ouput)\n",
        "print(predicted_class)"
      ],
      "metadata": {
        "id": "C0AYo07z5wuG"
      },
      "execution_count": null,
      "outputs": []
    },
    {
      "cell_type": "code",
      "source": [
        "# sex: index 9\n",
        "i = 9\n",
        "\n",
        "#network.addEquality([inputVars1[i], inputVars2[i]], [1, -1], 0) # 1*x + (-1)*y = 0\n",
        "\n",
        "for x, y in zip(inputVars1, inputVars2):\n",
        "  if x != inputVars1[i]:\n",
        "    census_network.addEquality([x, y], [1, -1], 0) # 1*x + (-1)*y = 0\n",
        "\n",
        "for i in range(outputVars1.shape[0]):\n",
        "  print(f\"iteration: {i}\")\n",
        "  census_network.maxList = []\n",
        "  census_network.addMaxConstraint(set(outputVars1), outputVars1[i])\n",
        "  census_network.addMaxConstraint(set(outputVars2), outputVars2[i])\n",
        "  \n",
        "  # solve\n",
        "  exit_code, vals, stats = census_network.solve(verbose = False, options = options)\n",
        "  # if solution found, break\n",
        "  print(exit_code)\n",
        "  if len(vals) > 0:\n",
        "    break\n"
      ],
      "metadata": {
        "id": "msTHsWm25yrb"
      },
      "execution_count": null,
      "outputs": []
    }
  ]
}