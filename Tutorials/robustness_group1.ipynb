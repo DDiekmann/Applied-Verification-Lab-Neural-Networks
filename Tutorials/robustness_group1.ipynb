{
 "nbformat": 4,
 "nbformat_minor": 0,
 "metadata": {
  "colab": {
   "name": "VerificationLabGruppe1.ipynb",
   "provenance": [],
   "collapsed_sections": [
    "r-3Drwp1cgZJ",
    "ySLJEk6jckH1",
    "JPIx3y6wcvIC",
    "tPmC_9AZdFB5",
    "crraAujOhC4t",
    "mXUhU6U2OlZW"
   ],
   "include_colab_link": true
  },
  "kernelspec": {
   "name": "python3",
   "display_name": "Python 3"
  },
  "language_info": {
   "name": "python"
  },
  "accelerator": "GPU"
 },
 "cells": [
  {
   "cell_type": "markdown",
   "metadata": {
    "id": "view-in-github",
    "colab_type": "text",
    "pycharm": {
     "name": "#%% md\n"
    }
   },
   "source": [
    "<a href=\"https://colab.research.google.com/github/DDiekmann/Applied-Verification-Lab-Neural-Networks/blob/main/Tutorials/robustness_group1.ipynb\" target=\"_parent\"><img src=\"https://colab.research.google.com/assets/colab-badge.svg\" alt=\"Open In Colab\"/></a>"
   ]
  },
  {
   "cell_type": "markdown",
   "source": [
    "# Applied Verification Lab: Neural Networks\n",
    "Gruppe 1\n",
    "\n",
    "summer term 2022"
   ],
   "metadata": {
    "id": "GDPUqMFDIzis",
    "pycharm": {
     "name": "#%% md\n"
    }
   }
  },
  {
   "cell_type": "markdown",
   "source": [
    "## Aufgabe 1\n",
    "Deductive / Contraint Based Verification\n",
    "\n"
   ],
   "metadata": {
    "id": "DTil0hytI4Iu",
    "pycharm": {
     "name": "#%% md\n"
    }
   }
  },
  {
   "cell_type": "code",
   "source": [
    "# install z3 solver\n",
    "%pip install z3-solver"
   ],
   "metadata": {
    "colab": {
     "base_uri": "https://localhost:8080/"
    },
    "id": "VIlw6z2Hp3QU",
    "outputId": "53419a56-c997-44d1-bc2d-71cb0b72cfd0",
    "pycharm": {
     "name": "#%%\n"
    }
   },
   "execution_count": 1,
   "outputs": [
    {
     "name": "stdout",
     "output_type": "stream",
     "text": [
      "Collecting z3-solver\n",
      "  Downloading z3_solver-4.8.17.0-py2.py3-none-win_amd64.whl (57.1 MB)\n",
      "Installing collected packages: z3-solver\n",
      "Successfully installed z3-solver-4.8.17.0\n",
      "Note: you may need to restart the kernel to use updated packages.\n"
     ]
    }
   ]
  },
  {
   "cell_type": "code",
   "source": [
    "import time\n",
    "\n",
    "import torch\n",
    "from torch import nn\n",
    "from torch.autograd import Variable\n",
    "\n",
    "from z3 import *\n",
    "import numpy as np\n",
    "\n",
    "import matplotlib.pyplot as plt\n",
    "\n",
    "from sklearn.datasets import load_iris\n",
    "from sklearn.model_selection import train_test_split\n",
    "from sklearn.preprocessing import StandardScaler"
   ],
   "metadata": {
    "id": "hJfGODwsb8DM",
    "pycharm": {
     "name": "#%%\n"
    }
   },
   "execution_count": 1,
   "outputs": []
  },
  {
   "cell_type": "markdown",
   "source": [
    "### load data"
   ],
   "metadata": {
    "id": "r-3Drwp1cgZJ",
    "pycharm": {
     "name": "#%% md\n"
    }
   }
  },
  {
   "cell_type": "code",
   "source": [
    "# https://janakiev.com/blog/pytorch-iris/\n",
    "# https://en.wikipedia.org/wiki/Iris_flower_data_set\n",
    "\n",
    "iris = load_iris()\n",
    "X = iris['data']\n",
    "y = iris['target']\n",
    "\n",
    "names = iris['target_names']\n",
    "feature_names = iris['feature_names']\n",
    "\n",
    "# Scale data to have mean 0 and variance 1 \n",
    "# which is importance for convergence of the neural network\n",
    "X_scaled = StandardScaler().fit_transform(X)"
   ],
   "metadata": {
    "id": "k4kYE0d5KLb_",
    "pycharm": {
     "name": "#%%\n"
    }
   },
   "execution_count": 2,
   "outputs": []
  },
  {
   "cell_type": "markdown",
   "source": [
    "### plot data"
   ],
   "metadata": {
    "id": "ySLJEk6jckH1",
    "pycharm": {
     "name": "#%% md\n"
    }
   }
  },
  {
   "cell_type": "code",
   "source": [
    "print(feature_names)\n",
    "print(names)"
   ],
   "metadata": {
    "colab": {
     "base_uri": "https://localhost:8080/"
    },
    "id": "GJIuu_hkQzcN",
    "outputId": "c3941171-c8bb-4c38-dae9-00ed51889bae",
    "pycharm": {
     "name": "#%%\n"
    }
   },
   "execution_count": 3,
   "outputs": [
    {
     "name": "stdout",
     "output_type": "stream",
     "text": [
      "['sepal length (cm)', 'sepal width (cm)', 'petal length (cm)', 'petal width (cm)']\n",
      "['setosa' 'versicolor' 'virginica']\n"
     ]
    }
   ]
  },
  {
   "cell_type": "code",
   "source": [
    "print(X.shape)"
   ],
   "metadata": {
    "colab": {
     "base_uri": "https://localhost:8080/"
    },
    "id": "4G3gcCrUfjFF",
    "outputId": "82b36562-fc96-4d3e-d206-7e3dee94bd9a",
    "pycharm": {
     "name": "#%%\n"
    }
   },
   "execution_count": 4,
   "outputs": [
    {
     "name": "stdout",
     "output_type": "stream",
     "text": [
      "(150, 4)\n"
     ]
    }
   ]
  },
  {
   "cell_type": "code",
   "source": [
    "print(y)"
   ],
   "metadata": {
    "colab": {
     "base_uri": "https://localhost:8080/"
    },
    "id": "OoF_TW-6RMRD",
    "outputId": "bb799c31-3efa-4737-ed2d-d1120b0027d7",
    "pycharm": {
     "name": "#%%\n"
    }
   },
   "execution_count": 5,
   "outputs": [
    {
     "name": "stdout",
     "output_type": "stream",
     "text": [
      "[0 0 0 0 0 0 0 0 0 0 0 0 0 0 0 0 0 0 0 0 0 0 0 0 0 0 0 0 0 0 0 0 0 0 0 0 0\n",
      " 0 0 0 0 0 0 0 0 0 0 0 0 0 1 1 1 1 1 1 1 1 1 1 1 1 1 1 1 1 1 1 1 1 1 1 1 1\n",
      " 1 1 1 1 1 1 1 1 1 1 1 1 1 1 1 1 1 1 1 1 1 1 1 1 1 1 2 2 2 2 2 2 2 2 2 2 2\n",
      " 2 2 2 2 2 2 2 2 2 2 2 2 2 2 2 2 2 2 2 2 2 2 2 2 2 2 2 2 2 2 2 2 2 2 2 2 2\n",
      " 2 2]\n"
     ]
    }
   ]
  },
  {
   "cell_type": "code",
   "source": [
    "print(X[0])\n",
    "print(X_scaled[0])\n",
    "print(y[0])"
   ],
   "metadata": {
    "colab": {
     "base_uri": "https://localhost:8080/"
    },
    "id": "9xCnftmPUKfa",
    "outputId": "3883cb83-0244-4be7-dfcb-9312c848583e",
    "pycharm": {
     "name": "#%%\n"
    }
   },
   "execution_count": 7,
   "outputs": [
    {
     "name": "stdout",
     "output_type": "stream",
     "text": [
      "[5.1 3.5 1.4 0.2]\n",
      "[-0.90068117  1.01900435 -1.34022653 -1.3154443 ]\n",
      "0\n"
     ]
    }
   ]
  },
  {
   "cell_type": "code",
   "source": [
    "def show_plots(X, y, fixed_input_y = None, epsilon = None):\n",
    "  fig, (ax1, ax2) = plt.subplots(1, 2, figsize=(16, 6))\n",
    "  for target, target_name in enumerate(names):\n",
    "      X_plot = X[y == target]\n",
    "      ax1.plot(X_plot[:, 0], X_plot[:, 1], \n",
    "              linestyle='none', \n",
    "              marker='o', \n",
    "              label=target_name)\n",
    "  ax1.set_xlabel(feature_names[0])\n",
    "  ax1.set_ylabel(feature_names[1])\n",
    "  ax1.axis('equal')\n",
    "  ax1.legend()\n",
    "\n",
    "  for target, target_name in enumerate(names):\n",
    "      X_plot = X[y == target]\n",
    "      ax2.plot(X_plot[:, 2], X_plot[:, 3], \n",
    "              linestyle='none', \n",
    "              marker='o', \n",
    "              label=target_name)\n",
    "  ax2.set_xlabel(feature_names[2])\n",
    "  ax2.set_ylabel(feature_names[3])\n",
    "  ax2.axis('equal')\n",
    "  ax2.legend()\n",
    "\n",
    "  if fixed_input_y is not None and epsilon is not None:\n",
    "    circle = plt.Circle((X[0][0], X[0][1]), 0.2, color='r', fill=False)\n",
    "    ax1.set_aspect(\"equal\", adjustable=\"datalim\")\n",
    "    ax1.add_patch(circle)\n",
    "\n",
    "    circle = plt.Circle((X[0][2], X[0][3]), 0.2, color='r', fill=False)\n",
    "    ax2.set_aspect(\"equal\", adjustable=\"datalim\")\n",
    "    ax2.add_patch(circle)"
   ],
   "metadata": {
    "id": "Q8KHUQPQMkm6",
    "pycharm": {
     "name": "#%%\n"
    }
   },
   "execution_count": 8,
   "outputs": []
  },
  {
   "cell_type": "code",
   "source": [
    "show_plots(X, y)"
   ],
   "metadata": {
    "colab": {
     "base_uri": "https://localhost:8080/",
     "height": 388
    },
    "id": "Qd8nG8hcfA8h",
    "outputId": "bd88fa46-0002-427a-cbbd-d1f0ac5caf0a",
    "pycharm": {
     "name": "#%%\n"
    }
   },
   "execution_count": 9,
   "outputs": [
    {
     "data": {
      "text/plain": "<Figure size 1152x432 with 2 Axes>",
      "image/png": "[encoded data removed]"
     },
     "metadata": {
      "needs_background": "light"
     },
     "output_type": "display_data"
    }
   ]
  },
  {
   "cell_type": "markdown",
   "source": [
    "### Define a neural network"
   ],
   "metadata": {
    "id": "JPIx3y6wcvIC",
    "pycharm": {
     "name": "#%% md\n"
    }
   }
  },
  {
   "cell_type": "code",
   "source": [
    "# Get cpu or gpu device for training.\n",
    "device = \"cuda\" if torch.cuda.is_available() else \"cpu\"\n",
    "print(f\"Using {device} device\")\n",
    "\n",
    "# Define model\n",
    "class NeuralNetwork(nn.Module):\n",
    "    def __init__(self, input_dim, output_dim):\n",
    "        super(NeuralNetwork, self).__init__()\n",
    "        self.linear_relu_stack = nn.Sequential(\n",
    "            nn.Linear(input_dim, number_of_neurons),\n",
    "            nn.ReLU(),\n",
    "            nn.Linear(number_of_neurons, number_of_neurons),\n",
    "            nn.ReLU(),\n",
    "            nn.Linear(number_of_neurons, output_dim),\n",
    "            #nn.Softmax(dim=1)\n",
    "        )\n",
    "\n",
    "    def forward(self, x):\n",
    "        logits = self.linear_relu_stack(x)\n",
    "        return logits"
   ],
   "metadata": {
    "colab": {
     "base_uri": "https://localhost:8080/"
    },
    "id": "mYerE5nmkKnt",
    "outputId": "23d9c731-6718-4fbe-f2f3-78bff62801bf",
    "pycharm": {
     "name": "#%%\n"
    }
   },
   "execution_count": 10,
   "outputs": [
    {
     "name": "stdout",
     "output_type": "stream",
     "text": [
      "Using cuda device\n"
     ]
    }
   ]
  },
  {
   "cell_type": "code",
   "source": [
    "def train(X, y, model, loss_fn, optimizer):\n",
    "    model.train()\n",
    "    \n",
    "    # convert numpy array to pytorch tensor\n",
    "    X = Variable(torch.from_numpy(X)).float()\n",
    "    y = Variable(torch.from_numpy(y)).long()\n",
    "    X = X.to(device)\n",
    "    y = y.to(device)\n",
    "\n",
    "    # Compute prediction error\n",
    "    pred = model(X)\n",
    "    loss = loss_fn(pred, y)\n",
    "\n",
    "    # Backpropagation\n",
    "    optimizer.zero_grad()\n",
    "    loss.backward()\n",
    "    optimizer.step()\n",
    "\n",
    "    loss = loss.item()\n",
    "    print(f\"loss: {loss:>7f}\")\n",
    "\n",
    "def predict(X, model):\n",
    "    model.eval()\n",
    "    with torch.no_grad():\n",
    "        X = Variable(torch.from_numpy(X)).float()\n",
    "        X = X.to(device)\n",
    "        pred = model(X)\n",
    "        pred = pred.argmax(1)\n",
    "        pred = pred.cpu().detach().numpy()\n",
    "    return pred\n",
    "\n",
    "def test(X, y, model, loss_fn):\n",
    "    model.eval()\n",
    "    test_loss, correct = 0, 0\n",
    "    with torch.no_grad():\n",
    "        X = Variable(torch.from_numpy(X)).float()\n",
    "        y = Variable(torch.from_numpy(y)).long()\n",
    "        X = X.to(device)\n",
    "        y = y.to(device)\n",
    "        pred = model(X)\n",
    "        test_loss += loss_fn(pred, y).item()\n",
    "        correct += (pred.argmax(1) == y).type(torch.float).sum().item()\n",
    "    correct /= X.shape[0]\n",
    "    print(f\"Test Error: \\n Accuracy: {(100*correct):>0.1f}%, Avg loss: {test_loss:>8f} \\n\")"
   ],
   "metadata": {
    "id": "N8S8JraBqIFu",
    "pycharm": {
     "name": "#%%\n"
    }
   },
   "execution_count": 11,
   "outputs": []
  },
  {
   "cell_type": "code",
   "source": [
    "def train_model(model):\n",
    "  loss_fn = nn.CrossEntropyLoss()\n",
    "  optimizer = torch.optim.Adam(model.parameters(), lr=1e-3)\n",
    "\n",
    "  epochs = 100\n",
    "  for t in range(epochs):\n",
    "      print(f\"Epoch {t+1}\\n-------------------------------\")\n",
    "      train(X_train, y_train, model, loss_fn, optimizer)\n",
    "      test(X_test, y_test, model, loss_fn)\n",
    "  print(\"Done!\")"
   ],
   "metadata": {
    "id": "kqoh76uadQvZ",
    "pycharm": {
     "name": "#%%\n"
    }
   },
   "execution_count": 12,
   "outputs": []
  },
  {
   "cell_type": "markdown",
   "source": [
    "### Train a neural network"
   ],
   "metadata": {
    "id": "tPmC_9AZdFB5",
    "pycharm": {
     "name": "#%% md\n"
    }
   }
  },
  {
   "cell_type": "code",
   "source": [
    "# Split the data set into training and testing\n",
    "X_train, X_test, y_train, y_test = train_test_split(\n",
    "    X,  # CHANGE HERE TO SCALING IF DESIRED\n",
    "    y,\n",
    "    test_size=0.2, random_state=2)\n",
    "print(\"training set\", X_train.shape)\n",
    "print(\"test set\", X_test.shape)"
   ],
   "metadata": {
    "colab": {
     "base_uri": "https://localhost:8080/"
    },
    "id": "gzQSX64ufuiF",
    "outputId": "ede5de08-6986-4ce0-a9ea-a0c651eecd47",
    "pycharm": {
     "name": "#%%\n"
    }
   },
   "execution_count": 13,
   "outputs": [
    {
     "name": "stdout",
     "output_type": "stream",
     "text": [
      "training set (120, 4)\n",
      "test set (30, 4)\n"
     ]
    }
   ]
  },
  {
   "cell_type": "code",
   "source": [
    "torch.manual_seed(0)\n",
    "number_of_neurons = 20\n",
    "\n",
    "model = NeuralNetwork(X_train.shape[1], 3).to(device)\n",
    "print(model)\n",
    "\n",
    "train_model(model)"
   ],
   "metadata": {
    "colab": {
     "base_uri": "https://localhost:8080/"
    },
    "id": "9i--NBloqwmz",
    "outputId": "1e6cf99a-64ed-4ef4-f0b0-7ed8ba9520d3",
    "pycharm": {
     "name": "#%%\n"
    }
   },
   "execution_count": 14,
   "outputs": [
    {
     "name": "stdout",
     "output_type": "stream",
     "text": [
      "NeuralNetwork(\n",
      "  (linear_relu_stack): Sequential(\n",
      "    (0): Linear(in_features=4, out_features=20, bias=True)\n",
      "    (1): ReLU()\n",
      "    (2): Linear(in_features=20, out_features=20, bias=True)\n",
      "    (3): ReLU()\n",
      "    (4): Linear(in_features=20, out_features=3, bias=True)\n",
      "  )\n",
      ")\n",
      "Epoch 1\n",
      "-------------------------------\n",
      "loss: 1.144112\n",
      "Test Error: \n",
      " Accuracy: 73.3%, Avg loss: 1.083378 \n",
      "\n",
      "Epoch 2\n",
      "-------------------------------\n",
      "loss: 1.129105\n",
      "Test Error: \n",
      " Accuracy: 73.3%, Avg loss: 1.072973 \n",
      "\n",
      "Epoch 3\n",
      "-------------------------------\n",
      "loss: 1.114599\n",
      "Test Error: \n",
      " Accuracy: 73.3%, Avg loss: 1.062878 \n",
      "\n",
      "Epoch 4\n",
      "-------------------------------\n",
      "loss: 1.100417\n",
      "Test Error: \n",
      " Accuracy: 73.3%, Avg loss: 1.053025 \n",
      "\n",
      "Epoch 5\n",
      "-------------------------------\n",
      "loss: 1.086648\n",
      "Test Error: \n",
      " Accuracy: 73.3%, Avg loss: 1.043662 \n",
      "\n",
      "Epoch 6\n",
      "-------------------------------\n",
      "loss: 1.073453\n",
      "Test Error: \n",
      " Accuracy: 70.0%, Avg loss: 1.034826 \n",
      "\n",
      "Epoch 7\n",
      "-------------------------------\n",
      "loss: 1.060960\n",
      "Test Error: \n",
      " Accuracy: 70.0%, Avg loss: 1.026630 \n",
      "\n",
      "Epoch 8\n",
      "-------------------------------\n",
      "loss: 1.049138\n",
      "Test Error: \n",
      " Accuracy: 70.0%, Avg loss: 1.018988 \n",
      "\n",
      "Epoch 9\n",
      "-------------------------------\n",
      "loss: 1.038024\n",
      "Test Error: \n",
      " Accuracy: 70.0%, Avg loss: 1.011953 \n",
      "\n",
      "Epoch 10\n",
      "-------------------------------\n",
      "loss: 1.027579\n",
      "Test Error: \n",
      " Accuracy: 70.0%, Avg loss: 1.005408 \n",
      "\n",
      "Epoch 11\n",
      "-------------------------------\n",
      "loss: 1.017744\n",
      "Test Error: \n",
      " Accuracy: 70.0%, Avg loss: 0.999342 \n",
      "\n",
      "Epoch 12\n",
      "-------------------------------\n",
      "loss: 1.008500\n",
      "Test Error: \n",
      " Accuracy: 70.0%, Avg loss: 0.993750 \n",
      "\n",
      "Epoch 13\n",
      "-------------------------------\n",
      "loss: 0.999848\n",
      "Test Error: \n",
      " Accuracy: 70.0%, Avg loss: 0.988499 \n",
      "\n",
      "Epoch 14\n",
      "-------------------------------\n",
      "loss: 0.991787\n",
      "Test Error: \n",
      " Accuracy: 70.0%, Avg loss: 0.983667 \n",
      "\n",
      "Epoch 15\n",
      "-------------------------------\n",
      "loss: 0.984214\n",
      "Test Error: \n",
      " Accuracy: 70.0%, Avg loss: 0.979085 \n",
      "\n",
      "Epoch 16\n",
      "-------------------------------\n",
      "loss: 0.977039\n",
      "Test Error: \n",
      " Accuracy: 70.0%, Avg loss: 0.974698 \n",
      "\n",
      "Epoch 17\n",
      "-------------------------------\n",
      "loss: 0.970169\n",
      "Test Error: \n",
      " Accuracy: 70.0%, Avg loss: 0.970465 \n",
      "\n",
      "Epoch 18\n",
      "-------------------------------\n",
      "loss: 0.963585\n",
      "Test Error: \n",
      " Accuracy: 73.3%, Avg loss: 0.966294 \n",
      "\n",
      "Epoch 19\n",
      "-------------------------------\n",
      "loss: 0.957237\n",
      "Test Error: \n",
      " Accuracy: 73.3%, Avg loss: 0.962134 \n",
      "\n",
      "Epoch 20\n",
      "-------------------------------\n",
      "loss: 0.951097\n",
      "Test Error: \n",
      " Accuracy: 73.3%, Avg loss: 0.957957 \n",
      "\n",
      "Epoch 21\n",
      "-------------------------------\n",
      "loss: 0.945126\n",
      "Test Error: \n",
      " Accuracy: 73.3%, Avg loss: 0.953798 \n",
      "\n",
      "Epoch 22\n",
      "-------------------------------\n",
      "loss: 0.939277\n",
      "Test Error: \n",
      " Accuracy: 73.3%, Avg loss: 0.949630 \n",
      "\n",
      "Epoch 23\n",
      "-------------------------------\n",
      "loss: 0.933526\n",
      "Test Error: \n",
      " Accuracy: 73.3%, Avg loss: 0.945306 \n",
      "\n",
      "Epoch 24\n",
      "-------------------------------\n",
      "loss: 0.927829\n",
      "Test Error: \n",
      " Accuracy: 73.3%, Avg loss: 0.940826 \n",
      "\n",
      "Epoch 25\n",
      "-------------------------------\n",
      "loss: 0.922194\n",
      "Test Error: \n",
      " Accuracy: 73.3%, Avg loss: 0.936174 \n",
      "\n",
      "Epoch 26\n",
      "-------------------------------\n",
      "loss: 0.916589\n",
      "Test Error: \n",
      " Accuracy: 73.3%, Avg loss: 0.931407 \n",
      "\n",
      "Epoch 27\n",
      "-------------------------------\n",
      "loss: 0.910993\n",
      "Test Error: \n",
      " Accuracy: 73.3%, Avg loss: 0.926535 \n",
      "\n",
      "Epoch 28\n",
      "-------------------------------\n",
      "loss: 0.905402\n",
      "Test Error: \n",
      " Accuracy: 73.3%, Avg loss: 0.921559 \n",
      "\n",
      "Epoch 29\n",
      "-------------------------------\n",
      "loss: 0.899873\n",
      "Test Error: \n",
      " Accuracy: 73.3%, Avg loss: 0.916648 \n",
      "\n",
      "Epoch 30\n",
      "-------------------------------\n",
      "loss: 0.894435\n",
      "Test Error: \n",
      " Accuracy: 73.3%, Avg loss: 0.911734 \n",
      "\n",
      "Epoch 31\n",
      "-------------------------------\n",
      "loss: 0.889166\n",
      "Test Error: \n",
      " Accuracy: 73.3%, Avg loss: 0.906778 \n",
      "\n",
      "Epoch 32\n",
      "-------------------------------\n",
      "loss: 0.884098\n",
      "Test Error: \n",
      " Accuracy: 73.3%, Avg loss: 0.901853 \n",
      "\n",
      "Epoch 33\n",
      "-------------------------------\n",
      "loss: 0.879107\n",
      "Test Error: \n",
      " Accuracy: 73.3%, Avg loss: 0.896934 \n",
      "\n",
      "Epoch 34\n",
      "-------------------------------\n",
      "loss: 0.874222\n",
      "Test Error: \n",
      " Accuracy: 73.3%, Avg loss: 0.892160 \n",
      "\n",
      "Epoch 35\n",
      "-------------------------------\n",
      "loss: 0.869420\n",
      "Test Error: \n",
      " Accuracy: 73.3%, Avg loss: 0.887398 \n",
      "\n",
      "Epoch 36\n",
      "-------------------------------\n",
      "loss: 0.864686\n",
      "Test Error: \n",
      " Accuracy: 73.3%, Avg loss: 0.882587 \n",
      "\n",
      "Epoch 37\n",
      "-------------------------------\n",
      "loss: 0.859938\n",
      "Test Error: \n",
      " Accuracy: 73.3%, Avg loss: 0.877720 \n",
      "\n",
      "Epoch 38\n",
      "-------------------------------\n",
      "loss: 0.855147\n",
      "Test Error: \n",
      " Accuracy: 73.3%, Avg loss: 0.872819 \n",
      "\n",
      "Epoch 39\n",
      "-------------------------------\n",
      "loss: 0.850296\n",
      "Test Error: \n",
      " Accuracy: 73.3%, Avg loss: 0.867871 \n",
      "\n",
      "Epoch 40\n",
      "-------------------------------\n",
      "loss: 0.845405\n",
      "Test Error: \n",
      " Accuracy: 73.3%, Avg loss: 0.862882 \n",
      "\n",
      "Epoch 41\n",
      "-------------------------------\n",
      "loss: 0.840512\n",
      "Test Error: \n",
      " Accuracy: 73.3%, Avg loss: 0.857897 \n",
      "\n",
      "Epoch 42\n",
      "-------------------------------\n",
      "loss: 0.835610\n",
      "Test Error: \n",
      " Accuracy: 73.3%, Avg loss: 0.852943 \n",
      "\n",
      "Epoch 43\n",
      "-------------------------------\n",
      "loss: 0.830701\n",
      "Test Error: \n",
      " Accuracy: 73.3%, Avg loss: 0.847982 \n",
      "\n",
      "Epoch 44\n",
      "-------------------------------\n",
      "loss: 0.825798\n",
      "Test Error: \n",
      " Accuracy: 73.3%, Avg loss: 0.843001 \n",
      "\n",
      "Epoch 45\n",
      "-------------------------------\n",
      "loss: 0.820918\n",
      "Test Error: \n",
      " Accuracy: 73.3%, Avg loss: 0.837992 \n",
      "\n",
      "Epoch 46\n",
      "-------------------------------\n",
      "loss: 0.816099\n",
      "Test Error: \n",
      " Accuracy: 73.3%, Avg loss: 0.832942 \n",
      "\n",
      "Epoch 47\n",
      "-------------------------------\n",
      "loss: 0.811369\n",
      "Test Error: \n",
      " Accuracy: 73.3%, Avg loss: 0.827812 \n",
      "\n",
      "Epoch 48\n",
      "-------------------------------\n",
      "loss: 0.806694\n",
      "Test Error: \n",
      " Accuracy: 73.3%, Avg loss: 0.822554 \n",
      "\n",
      "Epoch 49\n",
      "-------------------------------\n",
      "loss: 0.802047\n",
      "Test Error: \n",
      " Accuracy: 73.3%, Avg loss: 0.817135 \n",
      "\n",
      "Epoch 50\n",
      "-------------------------------\n",
      "loss: 0.797375\n",
      "Test Error: \n",
      " Accuracy: 73.3%, Avg loss: 0.811560 \n",
      "\n",
      "Epoch 51\n",
      "-------------------------------\n",
      "loss: 0.792698\n",
      "Test Error: \n",
      " Accuracy: 73.3%, Avg loss: 0.805809 \n",
      "\n",
      "Epoch 52\n",
      "-------------------------------\n",
      "loss: 0.788005\n",
      "Test Error: \n",
      " Accuracy: 73.3%, Avg loss: 0.799925 \n",
      "\n",
      "Epoch 53\n",
      "-------------------------------\n",
      "loss: 0.783308\n",
      "Test Error: \n",
      " Accuracy: 73.3%, Avg loss: 0.794049 \n",
      "\n",
      "Epoch 54\n",
      "-------------------------------\n",
      "loss: 0.778633\n",
      "Test Error: \n",
      " Accuracy: 73.3%, Avg loss: 0.788174 \n",
      "\n",
      "Epoch 55\n",
      "-------------------------------\n",
      "loss: 0.774001\n",
      "Test Error: \n",
      " Accuracy: 73.3%, Avg loss: 0.782435 \n",
      "\n",
      "Epoch 56\n",
      "-------------------------------\n",
      "loss: 0.769425\n",
      "Test Error: \n",
      " Accuracy: 73.3%, Avg loss: 0.776803 \n",
      "\n",
      "Epoch 57\n",
      "-------------------------------\n",
      "loss: 0.764893\n",
      "Test Error: \n",
      " Accuracy: 73.3%, Avg loss: 0.771270 \n",
      "\n",
      "Epoch 58\n",
      "-------------------------------\n",
      "loss: 0.760419\n",
      "Test Error: \n",
      " Accuracy: 73.3%, Avg loss: 0.765884 \n",
      "\n",
      "Epoch 59\n",
      "-------------------------------\n",
      "loss: 0.755959\n",
      "Test Error: \n",
      " Accuracy: 73.3%, Avg loss: 0.760646 \n",
      "\n",
      "Epoch 60\n",
      "-------------------------------\n",
      "loss: 0.751501\n",
      "Test Error: \n",
      " Accuracy: 73.3%, Avg loss: 0.755516 \n",
      "\n",
      "Epoch 61\n",
      "-------------------------------\n",
      "loss: 0.747020\n",
      "Test Error: \n",
      " Accuracy: 73.3%, Avg loss: 0.750485 \n",
      "\n",
      "Epoch 62\n",
      "-------------------------------\n",
      "loss: 0.742518\n",
      "Test Error: \n",
      " Accuracy: 73.3%, Avg loss: 0.745549 \n",
      "\n",
      "Epoch 63\n",
      "-------------------------------\n",
      "loss: 0.738002\n",
      "Test Error: \n",
      " Accuracy: 73.3%, Avg loss: 0.740695 \n",
      "\n",
      "Epoch 64\n",
      "-------------------------------\n",
      "loss: 0.733479\n",
      "Test Error: \n",
      " Accuracy: 73.3%, Avg loss: 0.735910 \n",
      "\n",
      "Epoch 65\n",
      "-------------------------------\n",
      "loss: 0.728969\n",
      "Test Error: \n",
      " Accuracy: 73.3%, Avg loss: 0.731149 \n",
      "\n",
      "Epoch 66\n",
      "-------------------------------\n",
      "loss: 0.724491\n",
      "Test Error: \n",
      " Accuracy: 73.3%, Avg loss: 0.726423 \n",
      "\n",
      "Epoch 67\n",
      "-------------------------------\n",
      "loss: 0.720043\n",
      "Test Error: \n",
      " Accuracy: 73.3%, Avg loss: 0.721683 \n",
      "\n",
      "Epoch 68\n",
      "-------------------------------\n",
      "loss: 0.715608\n",
      "Test Error: \n",
      " Accuracy: 73.3%, Avg loss: 0.716895 \n",
      "\n",
      "Epoch 69\n",
      "-------------------------------\n",
      "loss: 0.711202\n",
      "Test Error: \n",
      " Accuracy: 73.3%, Avg loss: 0.712021 \n",
      "\n",
      "Epoch 70\n",
      "-------------------------------\n",
      "loss: 0.706815\n",
      "Test Error: \n",
      " Accuracy: 73.3%, Avg loss: 0.707040 \n",
      "\n",
      "Epoch 71\n",
      "-------------------------------\n",
      "loss: 0.702438\n",
      "Test Error: \n",
      " Accuracy: 73.3%, Avg loss: 0.701945 \n",
      "\n",
      "Epoch 72\n",
      "-------------------------------\n",
      "loss: 0.698060\n",
      "Test Error: \n",
      " Accuracy: 73.3%, Avg loss: 0.696748 \n",
      "\n",
      "Epoch 73\n",
      "-------------------------------\n",
      "loss: 0.693690\n",
      "Test Error: \n",
      " Accuracy: 73.3%, Avg loss: 0.691500 \n",
      "\n",
      "Epoch 74\n",
      "-------------------------------\n",
      "loss: 0.689334\n",
      "Test Error: \n",
      " Accuracy: 73.3%, Avg loss: 0.686212 \n",
      "\n",
      "Epoch 75\n",
      "-------------------------------\n",
      "loss: 0.684986\n",
      "Test Error: \n",
      " Accuracy: 73.3%, Avg loss: 0.680886 \n",
      "\n",
      "Epoch 76\n",
      "-------------------------------\n",
      "loss: 0.680646\n",
      "Test Error: \n",
      " Accuracy: 73.3%, Avg loss: 0.675533 \n",
      "\n",
      "Epoch 77\n",
      "-------------------------------\n",
      "loss: 0.676315\n",
      "Test Error: \n",
      " Accuracy: 73.3%, Avg loss: 0.670184 \n",
      "\n",
      "Epoch 78\n",
      "-------------------------------\n",
      "loss: 0.671994\n",
      "Test Error: \n",
      " Accuracy: 73.3%, Avg loss: 0.664837 \n",
      "\n",
      "Epoch 79\n",
      "-------------------------------\n",
      "loss: 0.667696\n",
      "Test Error: \n",
      " Accuracy: 73.3%, Avg loss: 0.659501 \n",
      "\n",
      "Epoch 80\n",
      "-------------------------------\n",
      "loss: 0.663413\n",
      "Test Error: \n",
      " Accuracy: 73.3%, Avg loss: 0.654186 \n",
      "\n",
      "Epoch 81\n",
      "-------------------------------\n",
      "loss: 0.659149\n",
      "Test Error: \n",
      " Accuracy: 73.3%, Avg loss: 0.648916 \n",
      "\n",
      "Epoch 82\n",
      "-------------------------------\n",
      "loss: 0.654898\n",
      "Test Error: \n",
      " Accuracy: 73.3%, Avg loss: 0.643701 \n",
      "\n",
      "Epoch 83\n",
      "-------------------------------\n",
      "loss: 0.650658\n",
      "Test Error: \n",
      " Accuracy: 73.3%, Avg loss: 0.638519 \n",
      "\n",
      "Epoch 84\n",
      "-------------------------------\n",
      "loss: 0.646430\n",
      "Test Error: \n",
      " Accuracy: 73.3%, Avg loss: 0.633360 \n",
      "\n",
      "Epoch 85\n",
      "-------------------------------\n",
      "loss: 0.642217\n",
      "Test Error: \n",
      " Accuracy: 73.3%, Avg loss: 0.628237 \n",
      "\n",
      "Epoch 86\n",
      "-------------------------------\n",
      "loss: 0.638017\n",
      "Test Error: \n",
      " Accuracy: 73.3%, Avg loss: 0.623146 \n",
      "\n",
      "Epoch 87\n",
      "-------------------------------\n",
      "loss: 0.633830\n",
      "Test Error: \n",
      " Accuracy: 73.3%, Avg loss: 0.618085 \n",
      "\n",
      "Epoch 88\n",
      "-------------------------------\n",
      "loss: 0.629664\n",
      "Test Error: \n",
      " Accuracy: 73.3%, Avg loss: 0.613050 \n",
      "\n",
      "Epoch 89\n",
      "-------------------------------\n",
      "loss: 0.625515\n",
      "Test Error: \n",
      " Accuracy: 73.3%, Avg loss: 0.608041 \n",
      "\n",
      "Epoch 90\n",
      "-------------------------------\n",
      "loss: 0.621383\n",
      "Test Error: \n",
      " Accuracy: 73.3%, Avg loss: 0.603057 \n",
      "\n",
      "Epoch 91\n",
      "-------------------------------\n",
      "loss: 0.617271\n",
      "Test Error: \n",
      " Accuracy: 73.3%, Avg loss: 0.598098 \n",
      "\n",
      "Epoch 92\n",
      "-------------------------------\n",
      "loss: 0.613178\n",
      "Test Error: \n",
      " Accuracy: 73.3%, Avg loss: 0.593166 \n",
      "\n",
      "Epoch 93\n",
      "-------------------------------\n",
      "loss: 0.609105\n",
      "Test Error: \n",
      " Accuracy: 73.3%, Avg loss: 0.588268 \n",
      "\n",
      "Epoch 94\n",
      "-------------------------------\n",
      "loss: 0.605054\n",
      "Test Error: \n",
      " Accuracy: 76.7%, Avg loss: 0.583411 \n",
      "\n",
      "Epoch 95\n",
      "-------------------------------\n",
      "loss: 0.601023\n",
      "Test Error: \n",
      " Accuracy: 76.7%, Avg loss: 0.578590 \n",
      "\n",
      "Epoch 96\n",
      "-------------------------------\n",
      "loss: 0.597017\n",
      "Test Error: \n",
      " Accuracy: 76.7%, Avg loss: 0.573798 \n",
      "\n",
      "Epoch 97\n",
      "-------------------------------\n",
      "loss: 0.593035\n",
      "Test Error: \n",
      " Accuracy: 76.7%, Avg loss: 0.569033 \n",
      "\n",
      "Epoch 98\n",
      "-------------------------------\n",
      "loss: 0.589080\n",
      "Test Error: \n",
      " Accuracy: 76.7%, Avg loss: 0.564293 \n",
      "\n",
      "Epoch 99\n",
      "-------------------------------\n",
      "loss: 0.585151\n",
      "Test Error: \n",
      " Accuracy: 76.7%, Avg loss: 0.559579 \n",
      "\n",
      "Epoch 100\n",
      "-------------------------------\n",
      "loss: 0.581249\n",
      "Test Error: \n",
      " Accuracy: 76.7%, Avg loss: 0.554889 \n",
      "\n",
      "Done!\n"
     ]
    }
   ]
  },
  {
   "cell_type": "markdown",
   "source": [
    "### show neural network plots on training and test data"
   ],
   "metadata": {
    "id": "crraAujOhC4t",
    "pycharm": {
     "name": "#%% md\n"
    }
   }
  },
  {
   "cell_type": "code",
   "source": [
    "predictions = predict(X, model)"
   ],
   "metadata": {
    "id": "Jgr2INalhI3r",
    "pycharm": {
     "name": "#%%\n"
    }
   },
   "execution_count": 15,
   "outputs": []
  },
  {
   "cell_type": "code",
   "source": [
    "show_plots(X, y)\n",
    "show_plots(X, predict(X, model))"
   ],
   "metadata": {
    "colab": {
     "base_uri": "https://localhost:8080/",
     "height": 759
    },
    "id": "Kvqwf_m1hVCV",
    "outputId": "c7042f8d-296e-4f6a-a9b2-82789fa25858",
    "pycharm": {
     "name": "#%%\n"
    }
   },
   "execution_count": 16,
   "outputs": [
    {
     "data": {
      "text/plain": "<Figure size 1152x432 with 2 Axes>",
      "image/png": "[encoded data removed]"
     },
     "metadata": {
      "needs_background": "light"
     },
     "output_type": "display_data"
    },
    {
     "data": {
      "text/plain": "<Figure size 1152x432 with 2 Axes>",
      "image/png": "[encoded data removed]"
     },
     "metadata": {
      "needs_background": "light"
     },
     "output_type": "display_data"
    }
   ]
  },
  {
   "cell_type": "markdown",
   "source": [
    "# Neural Net Verfication\n",
    "\n",
    "based on this [colab notebook](https://colab.research.google.com/github/philzook58/z3_tutorial/blob/master/Z3%20Tutorial.ipynb#scrollTo=cA_hZ2U3jO4A)"
   ],
   "metadata": {
    "id": "JqTk0-pdjtuO",
    "pycharm": {
     "name": "#%% md\n"
    }
   }
  },
  {
   "cell_type": "code",
   "source": [
    "for name, param in model.named_parameters():\n",
    "  print(name, param.cpu().detach().numpy().shape)\n",
    "  #print(f\"{name} : {param.cpu().detach().numpy()}\")"
   ],
   "metadata": {
    "id": "NCWhjsSaqyhU",
    "colab": {
     "base_uri": "https://localhost:8080/"
    },
    "outputId": "7d89e47f-6792-4ac7-c6c6-441842228842",
    "pycharm": {
     "name": "#%%\n"
    }
   },
   "execution_count": 17,
   "outputs": [
    {
     "name": "stdout",
     "output_type": "stream",
     "text": [
      "linear_relu_stack.0.weight (20, 4)\n",
      "linear_relu_stack.0.bias (20,)\n",
      "linear_relu_stack.2.weight (20, 20)\n",
      "linear_relu_stack.2.bias (20,)\n",
      "linear_relu_stack.4.weight (3, 20)\n",
      "linear_relu_stack.4.bias (3,)\n"
     ]
    }
   ]
  },
  {
   "cell_type": "code",
   "source": [
    "def relu(x):\n",
    "  return If(x >= 0, x, RealVal(0))\n",
    "\n",
    "def verify(fixed_input_y, fixed_input_y_class, epsilon, model):\n",
    "  # Unpack weights of the trained model\n",
    "  w1, b1, w2, b2, w3, b3 = [param.cpu().detach().numpy() for param in model.parameters()]\n",
    "\n",
    "  x0 = RealVector(\"x0\", 4)\n",
    "  x1 = RealVector(\"x1\", number_of_neurons)\n",
    "  x2 = RealVector(\"x2\", number_of_neurons)\n",
    "  output = RealVector(\"output\", 3)\n",
    "\n",
    "  # pre-condition\n",
    "  # basically L_infinity-distance in boolean speak\n",
    "  and_parts = []\n",
    "  for i, x_vi in enumerate(x0):\n",
    "    and_parts.append(And((x_vi - fixed_input_y[i]) <= epsilon, (fixed_input_y[i] - x_vi) <= epsilon))\n",
    "  pre_cond = And(and_parts)\n",
    "  #print(pre_cond)\n",
    "\n",
    "  # assign\n",
    "  and_parts = []\n",
    "  for x, w, b in zip(x1, w1, b1):\n",
    "    and_parts.append(x == relu(w @ x0 + b))\n",
    "\n",
    "  for x, w, b in zip(x2, w2, b2):\n",
    "    and_parts.append(x == relu(w @ x1 + b))\n",
    "\n",
    "  for x, w, b in zip(output, w3, b3):\n",
    "    and_parts.append(x == (w @ x2 + b))\n",
    "  assign = And(and_parts)\n",
    "\n",
    "  # post-condition\n",
    "  # x_vo = x_v'\n",
    "  and_parts = []\n",
    "  for i, x_vo in enumerate(output):\n",
    "    # l is the argmax of fixed_input_y\n",
    "    and_parts.append(x_vo <= output[fixed_input_y_class])\n",
    "  post_cond = And(and_parts)\n",
    "\n",
    "  # verification conditions\n",
    "  verification_cond = Implies(And(pre_cond, assign), post_cond)\n",
    "\n",
    "  # prove using Z3\n",
    "  prove(verification_cond)"
   ],
   "metadata": {
    "id": "lx2rixoCiQQd",
    "pycharm": {
     "name": "#%%\n"
    }
   },
   "execution_count": 18,
   "outputs": []
  },
  {
   "cell_type": "code",
   "source": [
    "def relu_vector(x):\n",
    "  return np.vectorize(lambda y: If(y >= 0 , y, RealVal(0)))(x)\n",
    "\n",
    "def net(x, w1, b1, w2, b2, w3, b3):\n",
    "    x1 = w1 @ x + b1\n",
    "    y1 = relu_vector(x1)\n",
    "    x2 = w2 @ y1 + b2\n",
    "    y2 = relu_vector(x2)\n",
    "    x3 = w3 @ y2 + b3\n",
    "    return x3\n",
    "\n",
    "def verify_simple(fixed_input_y, fixed_input_y_class, epsilon, model):\n",
    "  w1, b1, w2, b2, w3, b3 = [param.cpu().detach().numpy() for param in model.parameters()]\n",
    "\n",
    "  x = RealVector(\"x\", 4)\n",
    "\n",
    "  # pre-condition\n",
    "  # basically L_infinity-distance in boolean speak\n",
    "  and_parts = []\n",
    "  for i, x_vi in enumerate(x):\n",
    "    and_parts.append(And((x_vi - fixed_input_y[i]) <= epsilon, (fixed_input_y[i] - x_vi) <= epsilon))\n",
    "  pre_cond = And(and_parts)\n",
    "\n",
    "  # post-condition\n",
    "  # x_vo = x_v'\n",
    "  output = net(x, w1, b1, w2, b2, w3, b3)\n",
    "  and_parts = []\n",
    "  for i, x_vo in enumerate(output):\n",
    "    and_parts.append(x_vo <= output[fixed_input_y_class])\n",
    "  post_cond = And(and_parts)\n",
    "\n",
    "  verification_cond = Implies(pre_cond, post_cond)\n",
    "\n",
    "  print(\"Pre condition: \")\n",
    "  print(pre_cond)\n",
    "  print(\"Post condition: \")\n",
    "  print(post_cond)\n",
    "  print(\"--------------\")\n",
    "\n",
    "  prove(verification_cond)"
   ],
   "metadata": {
    "id": "dMlwBzNZjxTj",
    "pycharm": {
     "name": "#%%\n"
    }
   },
   "execution_count": 25,
   "outputs": []
  },
  {
   "cell_type": "code",
   "source": [
    "fixed_input_y = X[0]\n",
    "fixed_input_y_class = y[0]\n",
    "epsilon = 0.5\n",
    "\n",
    "show_plots(X, predict(X, model), fixed_input_y, epsilon)"
   ],
   "metadata": {
    "colab": {
     "base_uri": "https://localhost:8080/",
     "height": 388
    },
    "id": "4Cxu0rIPiqMm",
    "outputId": "1bd40db1-0410-4d44-8b92-b5149eb45297",
    "pycharm": {
     "name": "#%%\n"
    }
   },
   "execution_count": 20,
   "outputs": [
    {
     "data": {
      "text/plain": "<Figure size 1152x432 with 2 Axes>",
      "image/png": "[encoded data removed]"
     },
     "metadata": {
      "needs_background": "light"
     },
     "output_type": "display_data"
    }
   ]
  },
  {
   "cell_type": "code",
   "source": [
    "start_time = time.time()\n",
    "verify(fixed_input_y, fixed_input_y_class, epsilon, model)\n",
    "print(f\"{((time.time() - start_time)/60):.2f} minutes\")"
   ],
   "metadata": {
    "id": "NqndKFLfwSZZ",
    "pycharm": {
     "name": "#%%\n"
    }
   },
   "execution_count": 27,
   "outputs": [
    {
     "name": "stdout",
     "output_type": "stream",
     "text": [
      "proved\n",
      "5.03 minutes\n"
     ]
    }
   ]
  },
  {
   "cell_type": "code",
   "source": [
    "start_time = time.time()\n",
    "verify_simple(fixed_input_y, fixed_input_y_class, epsilon, model)\n",
    "print(f\"{((time.time() - start_time)/60):.2f} minutes\")"
   ],
   "metadata": {
    "colab": {
     "base_uri": "https://localhost:8080/"
    },
    "id": "z3an9CB8OaYi",
    "outputId": "12e287a6-a296-4d72-9b8f-a1de54776fa3",
    "pycharm": {
     "name": "#%%\n"
    }
   },
   "execution_count": 26,
   "outputs": [
    {
     "name": "stdout",
     "output_type": "stream",
     "text": [
      "Pre condition: \n",
      "And(And(x__0 - 51/10 <= 1/2, 51/10 - x__0 <= 1/2),\n",
      "    And(x__1 - 7/2 <= 1/2, 7/2 - x__1 <= 1/2),\n",
      "    And(x__2 - 7/5 <= 1/2, 7/5 - x__2 <= 1/2),\n",
      "    And(x__3 - 1/5 <= 1/2, 1/5 - x__3 <= 1/2))\n",
      "Post condition: \n",
      "And(... +\n",
      "    ... +\n",
      "    ... +\n",
      "    ... +\n",
      "    ... +\n",
      "    ... +\n",
      "    ... +\n",
      "    ... +\n",
      "    ... +\n",
      "    ... +\n",
      "    ... +\n",
      "    ... +\n",
      "    ... +\n",
      "    ... +\n",
      "    ... +\n",
      "    ... +\n",
      "    ... +\n",
      "    ... +\n",
      "    ... +\n",
      "    ... +\n",
      "    ... <=\n",
      "    ...,\n",
      "    ...,\n",
      "    ...)\n",
      "--------------\n",
      "proved\n",
      "1.84 minutes\n"
     ]
    }
   ]
  },
  {
   "cell_type": "code",
   "source": [],
   "metadata": {
    "id": "QNZ-RhhwOjgR",
    "pycharm": {
     "name": "#%%\n"
    }
   },
   "execution_count": null,
   "outputs": []
  }
 ]
}