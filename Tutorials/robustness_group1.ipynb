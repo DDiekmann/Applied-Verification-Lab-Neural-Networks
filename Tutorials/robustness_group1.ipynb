{
  "nbformat": 4,
  "nbformat_minor": 0,
  "metadata": {
    "colab": {
      "name": "VerificationLabGruppe1.ipynb",
      "provenance": [],
      "collapsed_sections": [
        "r-3Drwp1cgZJ",
        "ySLJEk6jckH1",
        "JPIx3y6wcvIC",
        "tPmC_9AZdFB5",
        "crraAujOhC4t",
        "mXUhU6U2OlZW"
      ],
      "include_colab_link": true
    },
    "kernelspec": {
      "name": "python3",
      "display_name": "Python 3"
    },
    "language_info": {
      "name": "python"
    },
    "accelerator": "GPU"
  },
  "cells": [
    {
      "cell_type": "markdown",
      "metadata": {
        "id": "view-in-github",
        "colab_type": "text"
      },
      "source": [
        "<a href=\"https://colab.research.google.com/github/DDiekmann/Applied-Verification-Lab-Neural-Networks/blob/main/Tutorials/robustness_group1.ipynb\" target=\"_parent\"><img src=\"https://colab.research.google.com/assets/colab-badge.svg\" alt=\"Open In Colab\"/></a>"
      ]
    },
    {
      "cell_type": "markdown",
      "source": [
        "# Applied Verification Lab: Neural Networks\n",
        "Gruppe 1\n",
        "\n",
        "summer term 2022"
      ],
      "metadata": {
        "id": "GDPUqMFDIzis",
        "pycharm": {
          "name": "#%% md\n"
        }
      }
    },
    {
      "cell_type": "markdown",
      "source": [
        "## Aufgabe 1\n",
        "Deductive / Contraint Based Verification\n",
        "\n"
      ],
      "metadata": {
        "id": "DTil0hytI4Iu",
        "pycharm": {
          "name": "#%% md\n"
        }
      }
    },
    {
      "cell_type": "code",
      "source": [
        "# install z3 solver\n",
        "%pip install z3-solver"
      ],
      "metadata": {
        "colab": {
          "base_uri": "https://localhost:8080/"
        },
        "id": "VIlw6z2Hp3QU",
        "outputId": "a1ccdced-bea7-4042-92a2-41f1a1658ae6",
        "pycharm": {
          "name": "#%%\n"
        }
      },
      "execution_count": 1,
      "outputs": [
        {
          "output_type": "stream",
          "name": "stdout",
          "text": [
            "Collecting z3-solver\n",
            "  Downloading z3_solver-4.8.17.0-py2.py3-none-manylinux1_x86_64.whl (54.5 MB)\n",
            "\u001b[K     |████████████████████████████████| 54.5 MB 94 kB/s \n",
            "\u001b[?25hInstalling collected packages: z3-solver\n",
            "Successfully installed z3-solver-4.8.17.0\n"
          ]
        }
      ]
    },
    {
      "cell_type": "code",
      "source": [
        "import time\n",
        "\n",
        "import torch\n",
        "from torch import nn\n",
        "from torch.autograd import Variable\n",
        "\n",
        "from z3 import *\n",
        "import numpy as np\n",
        "\n",
        "import matplotlib.pyplot as plt\n",
        "\n",
        "from sklearn.datasets import load_iris\n",
        "from sklearn.model_selection import train_test_split\n",
        "from sklearn.preprocessing import StandardScaler"
      ],
      "metadata": {
        "id": "hJfGODwsb8DM",
        "pycharm": {
          "name": "#%%\n"
        }
      },
      "execution_count": 2,
      "outputs": []
    },
    {
      "cell_type": "markdown",
      "source": [
        "### load data"
      ],
      "metadata": {
        "id": "r-3Drwp1cgZJ",
        "pycharm": {
          "name": "#%% md\n"
        }
      }
    },
    {
      "cell_type": "code",
      "source": [
        "# https://janakiev.com/blog/pytorch-iris/\n",
        "# https://en.wikipedia.org/wiki/Iris_flower_data_set\n",
        "\n",
        "iris = load_iris()\n",
        "X = iris['data']\n",
        "y = iris['target']\n",
        "\n",
        "names = iris['target_names']\n",
        "feature_names = iris['feature_names']\n",
        "\n",
        "# Scale data to have mean 0 and variance 1 \n",
        "# which is importance for convergence of the neural network\n",
        "X_scaled = StandardScaler().fit_transform(X)"
      ],
      "metadata": {
        "id": "k4kYE0d5KLb_",
        "pycharm": {
          "name": "#%%\n"
        }
      },
      "execution_count": 3,
      "outputs": []
    },
    {
      "cell_type": "markdown",
      "source": [
        "### plot data"
      ],
      "metadata": {
        "id": "ySLJEk6jckH1",
        "pycharm": {
          "name": "#%% md\n"
        }
      }
    },
    {
      "cell_type": "code",
      "source": [
        "print(feature_names)\n",
        "print(names)"
      ],
      "metadata": {
        "colab": {
          "base_uri": "https://localhost:8080/"
        },
        "id": "GJIuu_hkQzcN",
        "outputId": "86b77dbb-b564-4f91-a633-55711708aedb",
        "pycharm": {
          "name": "#%%\n"
        }
      },
      "execution_count": 4,
      "outputs": [
        {
          "output_type": "stream",
          "name": "stdout",
          "text": [
            "['sepal length (cm)', 'sepal width (cm)', 'petal length (cm)', 'petal width (cm)']\n",
            "['setosa' 'versicolor' 'virginica']\n"
          ]
        }
      ]
    },
    {
      "cell_type": "code",
      "source": [
        "print(X.shape)"
      ],
      "metadata": {
        "colab": {
          "base_uri": "https://localhost:8080/"
        },
        "id": "4G3gcCrUfjFF",
        "outputId": "6a399f8c-0212-4907-b41d-62dab365f1b2",
        "pycharm": {
          "name": "#%%\n"
        }
      },
      "execution_count": 5,
      "outputs": [
        {
          "output_type": "stream",
          "name": "stdout",
          "text": [
            "(150, 4)\n"
          ]
        }
      ]
    },
    {
      "cell_type": "code",
      "source": [
        "print(y)"
      ],
      "metadata": {
        "colab": {
          "base_uri": "https://localhost:8080/"
        },
        "id": "OoF_TW-6RMRD",
        "outputId": "c35daa70-8b9c-4c28-e1b2-5283cc34fe01",
        "pycharm": {
          "name": "#%%\n"
        }
      },
      "execution_count": 6,
      "outputs": [
        {
          "output_type": "stream",
          "name": "stdout",
          "text": [
            "[0 0 0 0 0 0 0 0 0 0 0 0 0 0 0 0 0 0 0 0 0 0 0 0 0 0 0 0 0 0 0 0 0 0 0 0 0\n",
            " 0 0 0 0 0 0 0 0 0 0 0 0 0 1 1 1 1 1 1 1 1 1 1 1 1 1 1 1 1 1 1 1 1 1 1 1 1\n",
            " 1 1 1 1 1 1 1 1 1 1 1 1 1 1 1 1 1 1 1 1 1 1 1 1 1 1 2 2 2 2 2 2 2 2 2 2 2\n",
            " 2 2 2 2 2 2 2 2 2 2 2 2 2 2 2 2 2 2 2 2 2 2 2 2 2 2 2 2 2 2 2 2 2 2 2 2 2\n",
            " 2 2]\n"
          ]
        }
      ]
    },
    {
      "cell_type": "code",
      "source": [
        "print(X[0])\n",
        "print(X_scaled[0])\n",
        "print(y[0])"
      ],
      "metadata": {
        "colab": {
          "base_uri": "https://localhost:8080/"
        },
        "id": "9xCnftmPUKfa",
        "outputId": "6975e932-dc27-4597-abbe-00dae663bda4",
        "pycharm": {
          "name": "#%%\n"
        }
      },
      "execution_count": 7,
      "outputs": [
        {
          "output_type": "stream",
          "name": "stdout",
          "text": [
            "[5.1 3.5 1.4 0.2]\n",
            "[-0.90068117  1.01900435 -1.34022653 -1.3154443 ]\n",
            "0\n"
          ]
        }
      ]
    },
    {
      "cell_type": "code",
      "source": [
        "def show_plots(X, y, fixed_input_y = None, epsilon = None):\n",
        "  fig, (ax1, ax2) = plt.subplots(1, 2, figsize=(16, 6))\n",
        "  for target, target_name in enumerate(names):\n",
        "      X_plot = X[y == target]\n",
        "      ax1.plot(X_plot[:, 0], X_plot[:, 1], \n",
        "              linestyle='none', \n",
        "              marker='o', \n",
        "              label=target_name)\n",
        "  ax1.set_xlabel(feature_names[0])\n",
        "  ax1.set_ylabel(feature_names[1])\n",
        "  ax1.axis('equal')\n",
        "  ax1.legend()\n",
        "\n",
        "  for target, target_name in enumerate(names):\n",
        "      X_plot = X[y == target]\n",
        "      ax2.plot(X_plot[:, 2], X_plot[:, 3], \n",
        "              linestyle='none', \n",
        "              marker='o', \n",
        "              label=target_name)\n",
        "  ax2.set_xlabel(feature_names[2])\n",
        "  ax2.set_ylabel(feature_names[3])\n",
        "  ax2.axis('equal')\n",
        "  ax2.legend()\n",
        "\n",
        "  if fixed_input_y is not None and epsilon is not None:\n",
        "    circle = plt.Circle((X[0][0], X[0][1]), 0.2, color='r', fill=False)\n",
        "    ax1.set_aspect(\"equal\", adjustable=\"datalim\")\n",
        "    ax1.add_patch(circle)\n",
        "\n",
        "    circle = plt.Circle((X[0][2], X[0][3]), 0.2, color='r', fill=False)\n",
        "    ax2.set_aspect(\"equal\", adjustable=\"datalim\")\n",
        "    ax2.add_patch(circle)"
      ],
      "metadata": {
        "id": "Q8KHUQPQMkm6",
        "pycharm": {
          "name": "#%%\n"
        }
      },
      "execution_count": 8,
      "outputs": []
    },
    {
      "cell_type": "code",
      "source": [
        "show_plots(X, y)"
      ],
      "metadata": {
        "colab": {
          "base_uri": "https://localhost:8080/",
          "height": 388
        },
        "id": "Qd8nG8hcfA8h",
        "outputId": "bb164773-61e2-4bfd-ca9f-3f85237217d0",
        "pycharm": {
          "name": "#%%\n"
        }
      },
      "execution_count": 9,
      "outputs": [
        {
          "output_type": "display_data",
          "data": {
            "text/plain": [
              "<Figure size 1152x432 with 2 Axes>"
            ],
            "image/png": "[encoded data removed]"
          },
          "metadata": {
            "needs_background": "light"
          }
        }
      ]
    },
    {
      "cell_type": "markdown",
      "source": [
        "### Define a neural network"
      ],
      "metadata": {
        "id": "JPIx3y6wcvIC",
        "pycharm": {
          "name": "#%% md\n"
        }
      }
    },
    {
      "cell_type": "code",
      "source": [
        "# Get cpu or gpu device for training.\n",
        "device = \"cuda\" if torch.cuda.is_available() else \"cpu\"\n",
        "print(f\"Using {device} device\")\n",
        "\n",
        "# Define model\n",
        "class NeuralNetwork(nn.Module):\n",
        "    def __init__(self, input_dim, output_dim):\n",
        "        super(NeuralNetwork, self).__init__()\n",
        "        self.linear_relu_stack = nn.Sequential(\n",
        "            nn.Linear(input_dim, number_of_neurons),\n",
        "            nn.ReLU(),\n",
        "            nn.Linear(number_of_neurons, number_of_neurons),\n",
        "            nn.ReLU(),\n",
        "            nn.Linear(number_of_neurons, output_dim),\n",
        "            #nn.Softmax(dim=1)\n",
        "        )\n",
        "\n",
        "    def forward(self, x):\n",
        "        logits = self.linear_relu_stack(x)\n",
        "        return logits"
      ],
      "metadata": {
        "colab": {
          "base_uri": "https://localhost:8080/"
        },
        "id": "mYerE5nmkKnt",
        "outputId": "00aa9053-a9a5-4b0c-d35a-0c8cdaaee64b",
        "pycharm": {
          "name": "#%%\n"
        }
      },
      "execution_count": 10,
      "outputs": [
        {
          "output_type": "stream",
          "name": "stdout",
          "text": [
            "Using cuda device\n"
          ]
        }
      ]
    },
    {
      "cell_type": "code",
      "source": [
        "def train(X, y, model, loss_fn, optimizer):\n",
        "    model.train()\n",
        "    \n",
        "    # convert numpy array to pytorch tensor\n",
        "    X = Variable(torch.from_numpy(X)).float()\n",
        "    y = Variable(torch.from_numpy(y)).long()\n",
        "    X = X.to(device)\n",
        "    y = y.to(device)\n",
        "\n",
        "    # Compute prediction error\n",
        "    pred = model(X)\n",
        "    loss = loss_fn(pred, y)\n",
        "\n",
        "    # Backpropagation\n",
        "    optimizer.zero_grad()\n",
        "    loss.backward()\n",
        "    optimizer.step()\n",
        "\n",
        "    loss = loss.item()\n",
        "    print(f\"loss: {loss:>7f}\")\n",
        "\n",
        "def predict(X, model):\n",
        "    model.eval()\n",
        "    with torch.no_grad():\n",
        "        X = Variable(torch.from_numpy(X)).float()\n",
        "        X = X.to(device)\n",
        "        pred = model(X)\n",
        "        pred = pred.argmax(1)\n",
        "        pred = pred.cpu().detach().numpy()\n",
        "    return pred\n",
        "\n",
        "def test(X, y, model, loss_fn):\n",
        "    model.eval()\n",
        "    test_loss, correct = 0, 0\n",
        "    with torch.no_grad():\n",
        "        X = Variable(torch.from_numpy(X)).float()\n",
        "        y = Variable(torch.from_numpy(y)).long()\n",
        "        X = X.to(device)\n",
        "        y = y.to(device)\n",
        "        pred = model(X)\n",
        "        test_loss += loss_fn(pred, y).item()\n",
        "        correct += (pred.argmax(1) == y).type(torch.float).sum().item()\n",
        "    correct /= X.shape[0]\n",
        "    print(f\"Test Error: \\n Accuracy: {(100*correct):>0.1f}%, Avg loss: {test_loss:>8f} \\n\")"
      ],
      "metadata": {
        "id": "N8S8JraBqIFu",
        "pycharm": {
          "name": "#%%\n"
        }
      },
      "execution_count": 11,
      "outputs": []
    },
    {
      "cell_type": "code",
      "source": [
        "def train_model(model):\n",
        "  loss_fn = nn.CrossEntropyLoss()\n",
        "  optimizer = torch.optim.Adam(model.parameters(), lr=1e-3)\n",
        "\n",
        "  epochs = 100\n",
        "  for t in range(epochs):\n",
        "      print(f\"Epoch {t+1}\\n-------------------------------\")\n",
        "      train(X_train, y_train, model, loss_fn, optimizer)\n",
        "      test(X_test, y_test, model, loss_fn)\n",
        "  print(\"Done!\")"
      ],
      "metadata": {
        "id": "kqoh76uadQvZ",
        "pycharm": {
          "name": "#%%\n"
        }
      },
      "execution_count": 12,
      "outputs": []
    },
    {
      "cell_type": "markdown",
      "source": [
        "### Train a neural network"
      ],
      "metadata": {
        "id": "tPmC_9AZdFB5",
        "pycharm": {
          "name": "#%% md\n"
        }
      }
    },
    {
      "cell_type": "code",
      "source": [
        "# Split the data set into training and testing\n",
        "X_train, X_test, y_train, y_test = train_test_split(\n",
        "    X,  # CHANGE HERE TO SCALING IF DESIRED\n",
        "    y,\n",
        "    test_size=0.2, random_state=2)\n",
        "print(\"training set\", X_train.shape)\n",
        "print(\"test set\", X_test.shape)"
      ],
      "metadata": {
        "colab": {
          "base_uri": "https://localhost:8080/"
        },
        "id": "gzQSX64ufuiF",
        "outputId": "d206ba78-efda-440f-80ae-5ee4849c4c26",
        "pycharm": {
          "name": "#%%\n"
        }
      },
      "execution_count": 13,
      "outputs": [
        {
          "output_type": "stream",
          "name": "stdout",
          "text": [
            "training set (120, 4)\n",
            "test set (30, 4)\n"
          ]
        }
      ]
    },
    {
      "cell_type": "code",
      "source": [
        "torch.manual_seed(42)\n",
        "number_of_neurons = 20\n",
        "\n",
        "model = NeuralNetwork(X_train.shape[1], 3).to(device)\n",
        "print(model)\n",
        "\n",
        "train_model(model)"
      ],
      "metadata": {
        "colab": {
          "base_uri": "https://localhost:8080/"
        },
        "id": "9i--NBloqwmz",
        "outputId": "281bb1c3-ad5b-43ee-aa1a-25276a90abaa",
        "pycharm": {
          "name": "#%%\n"
        }
      },
      "execution_count": 18,
      "outputs": [
        {
          "output_type": "stream",
          "name": "stdout",
          "text": [
            "NeuralNetwork(\n",
            "  (linear_relu_stack): Sequential(\n",
            "    (0): Linear(in_features=4, out_features=20, bias=True)\n",
            "    (1): ReLU()\n",
            "    (2): Linear(in_features=20, out_features=20, bias=True)\n",
            "    (3): ReLU()\n",
            "    (4): Linear(in_features=20, out_features=3, bias=True)\n",
            "  )\n",
            ")\n",
            "Epoch 1\n",
            "-------------------------------\n",
            "loss: 1.149673\n",
            "Test Error: \n",
            " Accuracy: 56.7%, Avg loss: 1.094345 \n",
            "\n",
            "Epoch 2\n",
            "-------------------------------\n",
            "loss: 1.137505\n",
            "Test Error: \n",
            " Accuracy: 56.7%, Avg loss: 1.085836 \n",
            "\n",
            "Epoch 3\n",
            "-------------------------------\n",
            "loss: 1.125678\n",
            "Test Error: \n",
            " Accuracy: 53.3%, Avg loss: 1.077585 \n",
            "\n",
            "Epoch 4\n",
            "-------------------------------\n",
            "loss: 1.114303\n",
            "Test Error: \n",
            " Accuracy: 53.3%, Avg loss: 1.069809 \n",
            "\n",
            "Epoch 5\n",
            "-------------------------------\n",
            "loss: 1.103254\n",
            "Test Error: \n",
            " Accuracy: 53.3%, Avg loss: 1.061940 \n",
            "\n",
            "Epoch 6\n",
            "-------------------------------\n",
            "loss: 1.092519\n",
            "Test Error: \n",
            " Accuracy: 60.0%, Avg loss: 1.053857 \n",
            "\n",
            "Epoch 7\n",
            "-------------------------------\n",
            "loss: 1.082085\n",
            "Test Error: \n",
            " Accuracy: 66.7%, Avg loss: 1.046353 \n",
            "\n",
            "Epoch 8\n",
            "-------------------------------\n",
            "loss: 1.072651\n",
            "Test Error: \n",
            " Accuracy: 73.3%, Avg loss: 1.039966 \n",
            "\n",
            "Epoch 9\n",
            "-------------------------------\n",
            "loss: 1.064621\n",
            "Test Error: \n",
            " Accuracy: 73.3%, Avg loss: 1.034363 \n",
            "\n",
            "Epoch 10\n",
            "-------------------------------\n",
            "loss: 1.057290\n",
            "Test Error: \n",
            " Accuracy: 73.3%, Avg loss: 1.028967 \n",
            "\n",
            "Epoch 11\n",
            "-------------------------------\n",
            "loss: 1.050124\n",
            "Test Error: \n",
            " Accuracy: 73.3%, Avg loss: 1.023814 \n",
            "\n",
            "Epoch 12\n",
            "-------------------------------\n",
            "loss: 1.043195\n",
            "Test Error: \n",
            " Accuracy: 73.3%, Avg loss: 1.018966 \n",
            "\n",
            "Epoch 13\n",
            "-------------------------------\n",
            "loss: 1.036717\n",
            "Test Error: \n",
            " Accuracy: 70.0%, Avg loss: 1.014310 \n",
            "\n",
            "Epoch 14\n",
            "-------------------------------\n",
            "loss: 1.030789\n",
            "Test Error: \n",
            " Accuracy: 76.7%, Avg loss: 1.010187 \n",
            "\n",
            "Epoch 15\n",
            "-------------------------------\n",
            "loss: 1.025766\n",
            "Test Error: \n",
            " Accuracy: 80.0%, Avg loss: 1.007400 \n",
            "\n",
            "Epoch 16\n",
            "-------------------------------\n",
            "loss: 1.021647\n",
            "Test Error: \n",
            " Accuracy: 80.0%, Avg loss: 1.005496 \n",
            "\n",
            "Epoch 17\n",
            "-------------------------------\n",
            "loss: 1.018517\n",
            "Test Error: \n",
            " Accuracy: 80.0%, Avg loss: 1.003901 \n",
            "\n",
            "Epoch 18\n",
            "-------------------------------\n",
            "loss: 1.015509\n",
            "Test Error: \n",
            " Accuracy: 80.0%, Avg loss: 1.002356 \n",
            "\n",
            "Epoch 19\n",
            "-------------------------------\n",
            "loss: 1.012334\n",
            "Test Error: \n",
            " Accuracy: 83.3%, Avg loss: 1.000801 \n",
            "\n",
            "Epoch 20\n",
            "-------------------------------\n",
            "loss: 1.008961\n",
            "Test Error: \n",
            " Accuracy: 86.7%, Avg loss: 0.999231 \n",
            "\n",
            "Epoch 21\n",
            "-------------------------------\n",
            "loss: 1.005423\n",
            "Test Error: \n",
            " Accuracy: 76.7%, Avg loss: 0.997662 \n",
            "\n",
            "Epoch 22\n",
            "-------------------------------\n",
            "loss: 1.001770\n",
            "Test Error: \n",
            " Accuracy: 73.3%, Avg loss: 0.996096 \n",
            "\n",
            "Epoch 23\n",
            "-------------------------------\n",
            "loss: 0.998038\n",
            "Test Error: \n",
            " Accuracy: 76.7%, Avg loss: 0.994556 \n",
            "\n",
            "Epoch 24\n",
            "-------------------------------\n",
            "loss: 0.994253\n",
            "Test Error: \n",
            " Accuracy: 73.3%, Avg loss: 0.993033 \n",
            "\n",
            "Epoch 25\n",
            "-------------------------------\n",
            "loss: 0.990493\n",
            "Test Error: \n",
            " Accuracy: 73.3%, Avg loss: 0.991510 \n",
            "\n",
            "Epoch 26\n",
            "-------------------------------\n",
            "loss: 0.986782\n",
            "Test Error: \n",
            " Accuracy: 73.3%, Avg loss: 0.990032 \n",
            "\n",
            "Epoch 27\n",
            "-------------------------------\n",
            "loss: 0.983259\n",
            "Test Error: \n",
            " Accuracy: 73.3%, Avg loss: 0.988509 \n",
            "\n",
            "Epoch 28\n",
            "-------------------------------\n",
            "loss: 0.979927\n",
            "Test Error: \n",
            " Accuracy: 73.3%, Avg loss: 0.987077 \n",
            "\n",
            "Epoch 29\n",
            "-------------------------------\n",
            "loss: 0.976758\n",
            "Test Error: \n",
            " Accuracy: 73.3%, Avg loss: 0.985487 \n",
            "\n",
            "Epoch 30\n",
            "-------------------------------\n",
            "loss: 0.973571\n",
            "Test Error: \n",
            " Accuracy: 73.3%, Avg loss: 0.983621 \n",
            "\n",
            "Epoch 31\n",
            "-------------------------------\n",
            "loss: 0.970323\n",
            "Test Error: \n",
            " Accuracy: 73.3%, Avg loss: 0.981398 \n",
            "\n",
            "Epoch 32\n",
            "-------------------------------\n",
            "loss: 0.966970\n",
            "Test Error: \n",
            " Accuracy: 73.3%, Avg loss: 0.978816 \n",
            "\n",
            "Epoch 33\n",
            "-------------------------------\n",
            "loss: 0.963527\n",
            "Test Error: \n",
            " Accuracy: 73.3%, Avg loss: 0.975950 \n",
            "\n",
            "Epoch 34\n",
            "-------------------------------\n",
            "loss: 0.959978\n",
            "Test Error: \n",
            " Accuracy: 73.3%, Avg loss: 0.972869 \n",
            "\n",
            "Epoch 35\n",
            "-------------------------------\n",
            "loss: 0.956366\n",
            "Test Error: \n",
            " Accuracy: 73.3%, Avg loss: 0.969580 \n",
            "\n",
            "Epoch 36\n",
            "-------------------------------\n",
            "loss: 0.952757\n",
            "Test Error: \n",
            " Accuracy: 73.3%, Avg loss: 0.966121 \n",
            "\n",
            "Epoch 37\n",
            "-------------------------------\n",
            "loss: 0.949148\n",
            "Test Error: \n",
            " Accuracy: 73.3%, Avg loss: 0.962570 \n",
            "\n",
            "Epoch 38\n",
            "-------------------------------\n",
            "loss: 0.945531\n",
            "Test Error: \n",
            " Accuracy: 73.3%, Avg loss: 0.958997 \n",
            "\n",
            "Epoch 39\n",
            "-------------------------------\n",
            "loss: 0.941924\n",
            "Test Error: \n",
            " Accuracy: 73.3%, Avg loss: 0.955280 \n",
            "\n",
            "Epoch 40\n",
            "-------------------------------\n",
            "loss: 0.938338\n",
            "Test Error: \n",
            " Accuracy: 73.3%, Avg loss: 0.951333 \n",
            "\n",
            "Epoch 41\n",
            "-------------------------------\n",
            "loss: 0.934659\n",
            "Test Error: \n",
            " Accuracy: 73.3%, Avg loss: 0.947210 \n",
            "\n",
            "Epoch 42\n",
            "-------------------------------\n",
            "loss: 0.930858\n",
            "Test Error: \n",
            " Accuracy: 73.3%, Avg loss: 0.942904 \n",
            "\n",
            "Epoch 43\n",
            "-------------------------------\n",
            "loss: 0.926944\n",
            "Test Error: \n",
            " Accuracy: 73.3%, Avg loss: 0.938411 \n",
            "\n",
            "Epoch 44\n",
            "-------------------------------\n",
            "loss: 0.922913\n",
            "Test Error: \n",
            " Accuracy: 73.3%, Avg loss: 0.933742 \n",
            "\n",
            "Epoch 45\n",
            "-------------------------------\n",
            "loss: 0.918758\n",
            "Test Error: \n",
            " Accuracy: 73.3%, Avg loss: 0.928901 \n",
            "\n",
            "Epoch 46\n",
            "-------------------------------\n",
            "loss: 0.914518\n",
            "Test Error: \n",
            " Accuracy: 73.3%, Avg loss: 0.923924 \n",
            "\n",
            "Epoch 47\n",
            "-------------------------------\n",
            "loss: 0.910280\n",
            "Test Error: \n",
            " Accuracy: 73.3%, Avg loss: 0.918853 \n",
            "\n",
            "Epoch 48\n",
            "-------------------------------\n",
            "loss: 0.905997\n",
            "Test Error: \n",
            " Accuracy: 73.3%, Avg loss: 0.913736 \n",
            "\n",
            "Epoch 49\n",
            "-------------------------------\n",
            "loss: 0.901665\n",
            "Test Error: \n",
            " Accuracy: 73.3%, Avg loss: 0.908516 \n",
            "\n",
            "Epoch 50\n",
            "-------------------------------\n",
            "loss: 0.897267\n",
            "Test Error: \n",
            " Accuracy: 73.3%, Avg loss: 0.903179 \n",
            "\n",
            "Epoch 51\n",
            "-------------------------------\n",
            "loss: 0.892818\n",
            "Test Error: \n",
            " Accuracy: 73.3%, Avg loss: 0.897734 \n",
            "\n",
            "Epoch 52\n",
            "-------------------------------\n",
            "loss: 0.888316\n",
            "Test Error: \n",
            " Accuracy: 73.3%, Avg loss: 0.892209 \n",
            "\n",
            "Epoch 53\n",
            "-------------------------------\n",
            "loss: 0.883767\n",
            "Test Error: \n",
            " Accuracy: 73.3%, Avg loss: 0.886604 \n",
            "\n",
            "Epoch 54\n",
            "-------------------------------\n",
            "loss: 0.879171\n",
            "Test Error: \n",
            " Accuracy: 73.3%, Avg loss: 0.880946 \n",
            "\n",
            "Epoch 55\n",
            "-------------------------------\n",
            "loss: 0.874526\n",
            "Test Error: \n",
            " Accuracy: 73.3%, Avg loss: 0.875191 \n",
            "\n",
            "Epoch 56\n",
            "-------------------------------\n",
            "loss: 0.869829\n",
            "Test Error: \n",
            " Accuracy: 73.3%, Avg loss: 0.869349 \n",
            "\n",
            "Epoch 57\n",
            "-------------------------------\n",
            "loss: 0.865073\n",
            "Test Error: \n",
            " Accuracy: 73.3%, Avg loss: 0.863428 \n",
            "\n",
            "Epoch 58\n",
            "-------------------------------\n",
            "loss: 0.860255\n",
            "Test Error: \n",
            " Accuracy: 73.3%, Avg loss: 0.857434 \n",
            "\n",
            "Epoch 59\n",
            "-------------------------------\n",
            "loss: 0.855374\n",
            "Test Error: \n",
            " Accuracy: 73.3%, Avg loss: 0.851367 \n",
            "\n",
            "Epoch 60\n",
            "-------------------------------\n",
            "loss: 0.850434\n",
            "Test Error: \n",
            " Accuracy: 73.3%, Avg loss: 0.845233 \n",
            "\n",
            "Epoch 61\n",
            "-------------------------------\n",
            "loss: 0.845433\n",
            "Test Error: \n",
            " Accuracy: 73.3%, Avg loss: 0.839038 \n",
            "\n",
            "Epoch 62\n",
            "-------------------------------\n",
            "loss: 0.840370\n",
            "Test Error: \n",
            " Accuracy: 73.3%, Avg loss: 0.832772 \n",
            "\n",
            "Epoch 63\n",
            "-------------------------------\n",
            "loss: 0.835262\n",
            "Test Error: \n",
            " Accuracy: 73.3%, Avg loss: 0.826451 \n",
            "\n",
            "Epoch 64\n",
            "-------------------------------\n",
            "loss: 0.830105\n",
            "Test Error: \n",
            " Accuracy: 73.3%, Avg loss: 0.820076 \n",
            "\n",
            "Epoch 65\n",
            "-------------------------------\n",
            "loss: 0.824896\n",
            "Test Error: \n",
            " Accuracy: 73.3%, Avg loss: 0.813633 \n",
            "\n",
            "Epoch 66\n",
            "-------------------------------\n",
            "loss: 0.819634\n",
            "Test Error: \n",
            " Accuracy: 73.3%, Avg loss: 0.807130 \n",
            "\n",
            "Epoch 67\n",
            "-------------------------------\n",
            "loss: 0.814347\n",
            "Test Error: \n",
            " Accuracy: 73.3%, Avg loss: 0.800624 \n",
            "\n",
            "Epoch 68\n",
            "-------------------------------\n",
            "loss: 0.809029\n",
            "Test Error: \n",
            " Accuracy: 73.3%, Avg loss: 0.794116 \n",
            "\n",
            "Epoch 69\n",
            "-------------------------------\n",
            "loss: 0.803676\n",
            "Test Error: \n",
            " Accuracy: 73.3%, Avg loss: 0.787615 \n",
            "\n",
            "Epoch 70\n",
            "-------------------------------\n",
            "loss: 0.798301\n",
            "Test Error: \n",
            " Accuracy: 73.3%, Avg loss: 0.781120 \n",
            "\n",
            "Epoch 71\n",
            "-------------------------------\n",
            "loss: 0.792911\n",
            "Test Error: \n",
            " Accuracy: 73.3%, Avg loss: 0.774635 \n",
            "\n",
            "Epoch 72\n",
            "-------------------------------\n",
            "loss: 0.787479\n",
            "Test Error: \n",
            " Accuracy: 73.3%, Avg loss: 0.768156 \n",
            "\n",
            "Epoch 73\n",
            "-------------------------------\n",
            "loss: 0.782022\n",
            "Test Error: \n",
            " Accuracy: 73.3%, Avg loss: 0.761675 \n",
            "\n",
            "Epoch 74\n",
            "-------------------------------\n",
            "loss: 0.776543\n",
            "Test Error: \n",
            " Accuracy: 73.3%, Avg loss: 0.755190 \n",
            "\n",
            "Epoch 75\n",
            "-------------------------------\n",
            "loss: 0.771050\n",
            "Test Error: \n",
            " Accuracy: 73.3%, Avg loss: 0.748645 \n",
            "\n",
            "Epoch 76\n",
            "-------------------------------\n",
            "loss: 0.765537\n",
            "Test Error: \n",
            " Accuracy: 73.3%, Avg loss: 0.742039 \n",
            "\n",
            "Epoch 77\n",
            "-------------------------------\n",
            "loss: 0.759995\n",
            "Test Error: \n",
            " Accuracy: 73.3%, Avg loss: 0.735422 \n",
            "\n",
            "Epoch 78\n",
            "-------------------------------\n",
            "loss: 0.754433\n",
            "Test Error: \n",
            " Accuracy: 73.3%, Avg loss: 0.728750 \n",
            "\n",
            "Epoch 79\n",
            "-------------------------------\n",
            "loss: 0.748854\n",
            "Test Error: \n",
            " Accuracy: 73.3%, Avg loss: 0.722026 \n",
            "\n",
            "Epoch 80\n",
            "-------------------------------\n",
            "loss: 0.743251\n",
            "Test Error: \n",
            " Accuracy: 73.3%, Avg loss: 0.715252 \n",
            "\n",
            "Epoch 81\n",
            "-------------------------------\n",
            "loss: 0.737653\n",
            "Test Error: \n",
            " Accuracy: 73.3%, Avg loss: 0.708479 \n",
            "\n",
            "Epoch 82\n",
            "-------------------------------\n",
            "loss: 0.732039\n",
            "Test Error: \n",
            " Accuracy: 73.3%, Avg loss: 0.701718 \n",
            "\n",
            "Epoch 83\n",
            "-------------------------------\n",
            "loss: 0.726397\n",
            "Test Error: \n",
            " Accuracy: 73.3%, Avg loss: 0.694954 \n",
            "\n",
            "Epoch 84\n",
            "-------------------------------\n",
            "loss: 0.720745\n",
            "Test Error: \n",
            " Accuracy: 73.3%, Avg loss: 0.688179 \n",
            "\n",
            "Epoch 85\n",
            "-------------------------------\n",
            "loss: 0.715088\n",
            "Test Error: \n",
            " Accuracy: 73.3%, Avg loss: 0.681421 \n",
            "\n",
            "Epoch 86\n",
            "-------------------------------\n",
            "loss: 0.709432\n",
            "Test Error: \n",
            " Accuracy: 73.3%, Avg loss: 0.674681 \n",
            "\n",
            "Epoch 87\n",
            "-------------------------------\n",
            "loss: 0.703781\n",
            "Test Error: \n",
            " Accuracy: 73.3%, Avg loss: 0.667868 \n",
            "\n",
            "Epoch 88\n",
            "-------------------------------\n",
            "loss: 0.698066\n",
            "Test Error: \n",
            " Accuracy: 73.3%, Avg loss: 0.660953 \n",
            "\n",
            "Epoch 89\n",
            "-------------------------------\n",
            "loss: 0.692277\n",
            "Test Error: \n",
            " Accuracy: 73.3%, Avg loss: 0.654026 \n",
            "\n",
            "Epoch 90\n",
            "-------------------------------\n",
            "loss: 0.686310\n",
            "Test Error: \n",
            " Accuracy: 73.3%, Avg loss: 0.646998 \n",
            "\n",
            "Epoch 91\n",
            "-------------------------------\n",
            "loss: 0.680102\n",
            "Test Error: \n",
            " Accuracy: 76.7%, Avg loss: 0.639904 \n",
            "\n",
            "Epoch 92\n",
            "-------------------------------\n",
            "loss: 0.673688\n",
            "Test Error: \n",
            " Accuracy: 76.7%, Avg loss: 0.632540 \n",
            "\n",
            "Epoch 93\n",
            "-------------------------------\n",
            "loss: 0.667059\n",
            "Test Error: \n",
            " Accuracy: 76.7%, Avg loss: 0.624651 \n",
            "\n",
            "Epoch 94\n",
            "-------------------------------\n",
            "loss: 0.660077\n",
            "Test Error: \n",
            " Accuracy: 76.7%, Avg loss: 0.616776 \n",
            "\n",
            "Epoch 95\n",
            "-------------------------------\n",
            "loss: 0.653115\n",
            "Test Error: \n",
            " Accuracy: 76.7%, Avg loss: 0.609206 \n",
            "\n",
            "Epoch 96\n",
            "-------------------------------\n",
            "loss: 0.646674\n",
            "Test Error: \n",
            " Accuracy: 83.3%, Avg loss: 0.602417 \n",
            "\n",
            "Epoch 97\n",
            "-------------------------------\n",
            "loss: 0.640645\n",
            "Test Error: \n",
            " Accuracy: 86.7%, Avg loss: 0.596419 \n",
            "\n",
            "Epoch 98\n",
            "-------------------------------\n",
            "loss: 0.635468\n",
            "Test Error: \n",
            " Accuracy: 86.7%, Avg loss: 0.590501 \n",
            "\n",
            "Epoch 99\n",
            "-------------------------------\n",
            "loss: 0.630397\n",
            "Test Error: \n",
            " Accuracy: 90.0%, Avg loss: 0.584663 \n",
            "\n",
            "Epoch 100\n",
            "-------------------------------\n",
            "loss: 0.625286\n",
            "Test Error: \n",
            " Accuracy: 90.0%, Avg loss: 0.578899 \n",
            "\n",
            "Done!\n"
          ]
        }
      ]
    },
    {
      "cell_type": "markdown",
      "source": [
        "### show neural network plots on training and test data"
      ],
      "metadata": {
        "id": "crraAujOhC4t",
        "pycharm": {
          "name": "#%% md\n"
        }
      }
    },
    {
      "cell_type": "code",
      "source": [
        "predictions = predict(X, model)"
      ],
      "metadata": {
        "id": "Jgr2INalhI3r",
        "pycharm": {
          "name": "#%%\n"
        }
      },
      "execution_count": 19,
      "outputs": []
    },
    {
      "cell_type": "code",
      "source": [
        "show_plots(X, y)\n",
        "show_plots(X, predict(X, model))"
      ],
      "metadata": {
        "colab": {
          "base_uri": "https://localhost:8080/",
          "height": 759
        },
        "id": "Kvqwf_m1hVCV",
        "outputId": "d77c1f26-1028-4bab-d34f-c7d054cef66b",
        "pycharm": {
          "name": "#%%\n"
        }
      },
      "execution_count": 20,
      "outputs": [
        {
          "output_type": "display_data",
          "data": {
            "text/plain": [
              "<Figure size 1152x432 with 2 Axes>"
            ],
            "image/png": "[encoded data removed]"
          },
          "metadata": {
            "needs_background": "light"
          }
        },
        {
          "output_type": "display_data",
          "data": {
            "text/plain": [
              "<Figure size 1152x432 with 2 Axes>"
            ],
            "image/png": "[encoded data removed]"
          },
          "metadata": {
            "needs_background": "light"
          }
        }
      ]
    },
    {
      "cell_type": "markdown",
      "source": [
        "# Neural Net Verfication\n",
        "\n",
        "based on this [colab notebook](https://colab.research.google.com/github/philzook58/z3_tutorial/blob/master/Z3%20Tutorial.ipynb#scrollTo=cA_hZ2U3jO4A)"
      ],
      "metadata": {
        "id": "JqTk0-pdjtuO",
        "pycharm": {
          "name": "#%% md\n"
        }
      }
    },
    {
      "cell_type": "code",
      "source": [
        "for name, param in model.named_parameters():\n",
        "  print(name, param.cpu().detach().numpy().shape)\n",
        "  #print(f\"{name} : {param.cpu().detach().numpy()}\")"
      ],
      "metadata": {
        "id": "NCWhjsSaqyhU",
        "colab": {
          "base_uri": "https://localhost:8080/"
        },
        "outputId": "0a62ebd3-7cbe-4017-d49a-3a70192f739a",
        "pycharm": {
          "name": "#%%\n"
        }
      },
      "execution_count": 21,
      "outputs": [
        {
          "output_type": "stream",
          "name": "stdout",
          "text": [
            "linear_relu_stack.0.weight (20, 4)\n",
            "linear_relu_stack.0.bias (20,)\n",
            "linear_relu_stack.2.weight (20, 20)\n",
            "linear_relu_stack.2.bias (20,)\n",
            "linear_relu_stack.4.weight (3, 20)\n",
            "linear_relu_stack.4.bias (3,)\n"
          ]
        }
      ]
    },
    {
      "cell_type": "code",
      "source": [
        "def get_weights_and_biases_pytorch(model):\n",
        "  weights_and_biases = [param.cpu().detach().numpy() for param in model.parameters()]\n",
        "  weights = weights_and_biases[0::2]\n",
        "  biases = weights_and_biases[1::2]\n",
        "  return weights, biases\n",
        "\n",
        "\n",
        "weights, biases = get_weights_and_biases_pytorch(model)"
      ],
      "metadata": {
        "id": "XOrT264hZbtm"
      },
      "execution_count": null,
      "outputs": []
    },
    {
      "cell_type": "code",
      "source": [
        "def relu(x):\n",
        "  return If(x >= 0, x, RealVal(0))\n",
        "\n",
        "def verify(fixed_input_y, fixed_input_y_class, epsilon, weights, biases):\n",
        "  # Unpack weights of the trained model\n",
        "  input_size = fixed_input_y.shape[0]\n",
        "  neurons = []\n",
        "  x = RealVector(\"x\", input_size)\n",
        "  output  = [RealVector(f\"x{i}\", weight.shape[0]) for i, weight in enumerate(weights)]\n",
        "\n",
        "  # pre-condition\n",
        "  # basically L_infinity-distance in boolean speak\n",
        "  and_parts = []\n",
        "  for i, x_vi in enumerate(x):\n",
        "    and_parts.append(And((x_vi - fixed_input_y[i]) <= epsilon, (fixed_input_y[i] - x_vi) <= epsilon))\n",
        "  pre_cond = And(and_parts)\n",
        "  #print(pre_cond)\n",
        "\n",
        "  # assign\n",
        "  and_parts = []\n",
        "  # for each layer\n",
        "  for layer_i, (layer_output, layer_weights, layer_biases) in enumerate(zip(output, weights, biases)):\n",
        "    # for each neuron\n",
        "    for neuron_output, neuron_weights, neuron_bias in zip(layer_output, layer_weights, layer_biases):\n",
        "      if layer_i == 0:\n",
        "        # neuron input is net input\n",
        "        neuron_inputs = x\n",
        "      else:\n",
        "        # neuron input is output of previous layer\n",
        "        neuron_inputs = output[layer_i - 1]\n",
        "      and_parts.append(neuron_output == relu(neuron_weights @ neuron_inputs + neuron_bias))\n",
        "  assign = And(and_parts)\n",
        "\n",
        "  # post-condition\n",
        "  # x_vo = x_v'\n",
        "  and_parts = []\n",
        "  for i, x_vo in enumerate(output[-1]):\n",
        "    # l is the argmax of fixed_input_y\n",
        "    and_parts.append(x_vo <= output[-1][fixed_input_y_class])\n",
        "  post_cond = And(and_parts)\n",
        "\n",
        "  # verification conditions\n",
        "  verification_cond = Implies(And(pre_cond, assign), post_cond)\n",
        "\n",
        "  # prove using Z3\n",
        "  prove(verification_cond)"
      ],
      "metadata": {
        "id": "lx2rixoCiQQd",
        "pycharm": {
          "name": "#%%\n"
        }
      },
      "execution_count": 104,
      "outputs": []
    },
    {
      "cell_type": "code",
      "source": [
        "def relu_vector(x):\n",
        "  return np.vectorize(lambda y: If(y >= 0 , y, RealVal(0)))(x)\n",
        "\n",
        "def net(x, weights, biases):\n",
        "  output = x\n",
        "\n",
        "  for i, (weight, bias) in enumerate(zip(weights, biases)):\n",
        "    output = weight @ output + bias\n",
        "    # apply relu except in last layer\n",
        "    if i != len(weights) - 1:\n",
        "      output = relu_vector(output)\n",
        "  return output\n",
        "\n",
        "def verify_simple(fixed_input_y, fixed_input_y_class, epsilon, weights, biases):\n",
        "  \"\"\"assumption: the model to verify has only fully connected layers and relu between them\"\"\"\n",
        "  input_size = fixed_input_y.shape[0]\n",
        "  x = RealVector(\"x\", input_size)\n",
        "\n",
        "  # pre-condition\n",
        "  # basically L_infinity-distance in boolean speak\n",
        "  and_parts = []\n",
        "  for i, x_vi in enumerate(x):\n",
        "    and_parts.append(And((x_vi - fixed_input_y[i]) <= epsilon, (fixed_input_y[i] - x_vi) <= epsilon))\n",
        "  pre_cond = And(and_parts)\n",
        "\n",
        "  # post-condition\n",
        "  # x_vo = x_v'\n",
        "  output = net(x, weights, biases)\n",
        "  and_parts = []\n",
        "  for i, x_vo in enumerate(output):\n",
        "    and_parts.append(x_vo <= output[fixed_input_y_class])\n",
        "  post_cond = And(and_parts)\n",
        "\n",
        "  verification_cond = Implies(pre_cond, post_cond)\n",
        "\n",
        "  print(\"Pre condition: \")\n",
        "  print(pre_cond)\n",
        "  print(\"Post condition: \")\n",
        "  print(post_cond)\n",
        "  print(\"--------------\")\n",
        "\n",
        "  prove(verification_cond)"
      ],
      "metadata": {
        "id": "dMlwBzNZjxTj",
        "pycharm": {
          "name": "#%%\n"
        }
      },
      "execution_count": 76,
      "outputs": []
    },
    {
      "cell_type": "code",
      "source": [
        "fixed_input_y = X[0]\n",
        "fixed_input_y_class = y[0]\n",
        "epsilon = 0.5\n",
        "\n",
        "show_plots(X, predict(X, model), fixed_input_y, epsilon)"
      ],
      "metadata": {
        "colab": {
          "base_uri": "https://localhost:8080/",
          "height": 388
        },
        "id": "4Cxu0rIPiqMm",
        "outputId": "18314e7b-a152-48c4-9afe-6f7230ad19e1",
        "pycharm": {
          "name": "#%%\n"
        }
      },
      "execution_count": 42,
      "outputs": [
        {
          "output_type": "display_data",
          "data": {
            "text/plain": [
              "<Figure size 1152x432 with 2 Axes>"
            ],
            "image/png": "[encoded data removed]"
          },
          "metadata": {
            "needs_background": "light"
          }
        }
      ]
    },
    {
      "cell_type": "code",
      "source": [
        "start_time = time.time()\n",
        "verify(fixed_input_y, fixed_input_y_class, epsilon, weights, biases)\n",
        "print(f\"{((time.time() - start_time)/60):.2f} minutes\")"
      ],
      "metadata": {
        "id": "NqndKFLfwSZZ",
        "pycharm": {
          "name": "#%%\n"
        },
        "colab": {
          "base_uri": "https://localhost:8080/"
        },
        "outputId": "31b3f9cf-084b-479b-bdbd-58d9d94fb49e"
      },
      "execution_count": 103,
      "outputs": [
        {
          "output_type": "stream",
          "name": "stdout",
          "text": [
            "0\n",
            "1\n",
            "(20,) -0.054149706\n",
            "[-0.12805295  0.0558578  -0.02951457 -0.16231304  0.00524508 -0.15274167\n",
            " -0.18970726 -0.12313191 -0.19570337 -0.14237896  0.22351934  0.04223372\n",
            "  0.06890661 -0.20855455 -0.14685908 -0.07442883  0.03496565 -0.1967564\n",
            " -0.09634614 -0.13386635] [x0__0, x0__1, x0__2, x0__3, x0__4, x0__5, x0__6, x0__7, x0__8, x0__9, x0__10, x0__11, x0__12, x0__13, x0__14, x0__15, x0__16, x0__17, x0__18, x0__19] -0.054149706\n",
            "(20,) -0.108029865\n",
            "[ 0.00061967 -0.08320481 -0.015495   -0.1515226  -0.15348263 -0.1304526\n",
            " -0.07654003 -0.17648856  0.18748756 -0.04437791  0.19239056  0.06967187\n",
            " -0.18934956  0.15474378 -0.06152425 -0.08571431 -0.1856094  -0.22230108\n",
            "  0.06397628 -0.04884553] [x0__0, x0__1, x0__2, x0__3, x0__4, x0__5, x0__6, x0__7, x0__8, x0__9, x0__10, x0__11, x0__12, x0__13, x0__14, x0__15, x0__16, x0__17, x0__18, x0__19] -0.108029865\n",
            "(20,) -0.014070703\n",
            "[ 0.07794051 -0.18350592  0.2741     -0.06636471 -0.09774719  0.04670468\n",
            "  0.11543741  0.27965155  0.25056434 -0.24547908  0.16830492  0.01550222\n",
            " -0.02450391 -0.12193655  0.3126693  -0.16411632  0.22618717  0.09651406\n",
            " -0.06042625  0.02087454] [x0__0, x0__1, x0__2, x0__3, x0__4, x0__5, x0__6, x0__7, x0__8, x0__9, x0__10, x0__11, x0__12, x0__13, x0__14, x0__15, x0__16, x0__17, x0__18, x0__19] -0.014070703\n",
            "(20,) 0.2530608\n",
            "[ 0.2828572   0.04913769  0.01424254 -0.1713531   0.1856021  -0.03354562\n",
            " -0.1024397   0.13082728  0.12051044 -0.03313571 -0.16591477 -0.04571956\n",
            "  0.12485338 -0.06894118 -0.15147285 -0.07657255 -0.17303187  0.07974544\n",
            "  0.30814603 -0.3277378 ] [x0__0, x0__1, x0__2, x0__3, x0__4, x0__5, x0__6, x0__7, x0__8, x0__9, x0__10, x0__11, x0__12, x0__13, x0__14, x0__15, x0__16, x0__17, x0__18, x0__19] 0.2530608\n",
            "(20,) 0.25424364\n",
            "[ 0.11373936  0.11551344 -0.00261554 -0.08210913  0.20157318  0.11750831\n",
            "  0.08361267 -0.12436366 -0.00629688  0.10614657 -0.11710952 -0.12906262\n",
            "  0.142931    0.15256223 -0.06746054 -0.05006486 -0.02386207 -0.02455\n",
            "  0.19342189 -0.07051469] [x0__0, x0__1, x0__2, x0__3, x0__4, x0__5, x0__6, x0__7, x0__8, x0__9, x0__10, x0__11, x0__12, x0__13, x0__14, x0__15, x0__16, x0__17, x0__18, x0__19] 0.25424364\n",
            "(20,) 0.11418348\n",
            "[-0.22762774 -0.08251934  0.29083607  0.18721017 -0.08576254 -0.13481382\n",
            " -0.13680378 -0.26957265 -0.02149634 -0.02650641  0.24618274  0.20748615\n",
            " -0.19765589 -0.1707639   0.06667056  0.21630593  0.13353354 -0.07476729\n",
            " -0.02923348 -0.07639477] [x0__0, x0__1, x0__2, x0__3, x0__4, x0__5, x0__6, x0__7, x0__8, x0__9, x0__10, x0__11, x0__12, x0__13, x0__14, x0__15, x0__16, x0__17, x0__18, x0__19] 0.11418348\n",
            "(20,) -0.16455929\n",
            "[-0.14473076  0.16320775 -0.10167441 -0.04482573 -0.222445    0.14965346\n",
            "  0.16941226  0.08149309 -0.15591525 -0.22068647 -0.18160874  0.16674364\n",
            "  0.10735491  0.18816611  0.11714087  0.05659313 -0.00218971 -0.17005432\n",
            " -0.19158009 -0.20915031] [x0__0, x0__1, x0__2, x0__3, x0__4, x0__5, x0__6, x0__7, x0__8, x0__9, x0__10, x0__11, x0__12, x0__13, x0__14, x0__15, x0__16, x0__17, x0__18, x0__19] -0.16455929\n",
            "(20,) -0.1281292\n",
            "[ 0.08341024 -0.10978378 -0.05312379 -0.13680871 -0.04887142 -0.15738226\n",
            " -0.14610818  0.07417279 -0.07457907  0.1299191  -0.07980273 -0.17213853\n",
            " -0.03945294 -0.10839281 -0.07649584 -0.21287268  0.11699485 -0.15567607\n",
            "  0.10427085  0.10146923] [x0__0, x0__1, x0__2, x0__3, x0__4, x0__5, x0__6, x0__7, x0__8, x0__9, x0__10, x0__11, x0__12, x0__13, x0__14, x0__15, x0__16, x0__17, x0__18, x0__19] -0.1281292\n",
            "(20,) -0.041889437\n",
            "[ 0.16352934 -0.17151806  0.15805675 -0.10865095  0.09431028  0.20999242\n",
            " -0.03153568 -0.01775218 -0.0462137  -0.18161507  0.09814354 -0.22805166\n",
            "  0.13881508  0.1506206   0.204264   -0.05274427 -0.18956617  0.03600227\n",
            "  0.22697863 -0.21940349] [x0__0, x0__1, x0__2, x0__3, x0__4, x0__5, x0__6, x0__7, x0__8, x0__9, x0__10, x0__11, x0__12, x0__13, x0__14, x0__15, x0__16, x0__17, x0__18, x0__19] -0.041889437\n",
            "(20,) -0.04121613\n",
            "[-0.05075509 -0.13404232 -0.01955749 -0.11006228 -0.09140321 -0.07098596\n",
            " -0.21249443  0.18347105  0.18745656 -0.03507699 -0.0254648  -0.09125838\n",
            " -0.20193098 -0.2176017   0.08310536 -0.12277045 -0.14375167 -0.01744652\n",
            " -0.07446355 -0.07234144] [x0__0, x0__1, x0__2, x0__3, x0__4, x0__5, x0__6, x0__7, x0__8, x0__9, x0__10, x0__11, x0__12, x0__13, x0__14, x0__15, x0__16, x0__17, x0__18, x0__19] -0.04121613\n",
            "(20,) -0.0039024607\n",
            "[-0.01511785 -0.04742978 -0.09953925 -0.12941156 -0.2045081   0.1874959\n",
            " -0.08948456  0.03376604 -0.10012474 -0.00392173  0.18627463  0.08041929\n",
            " -0.19377758  0.06861269  0.19006354  0.05882722  0.12763855  0.20365085\n",
            " -0.03426304  0.02135091] [x0__0, x0__1, x0__2, x0__3, x0__4, x0__5, x0__6, x0__7, x0__8, x0__9, x0__10, x0__11, x0__12, x0__13, x0__14, x0__15, x0__16, x0__17, x0__18, x0__19] -0.0039024607\n",
            "(20,) -0.22240122\n",
            "[-0.17243075 -0.04608024  0.14837056  0.09745539 -0.15869853 -0.17930694\n",
            " -0.15280476 -0.23952529 -0.18968998 -0.07233981  0.13394298  0.02019687\n",
            " -0.17007655 -0.19348887  0.09401336 -0.16632797 -0.04475892  0.09090453\n",
            " -0.10348792 -0.0387291 ] [x0__0, x0__1, x0__2, x0__3, x0__4, x0__5, x0__6, x0__7, x0__8, x0__9, x0__10, x0__11, x0__12, x0__13, x0__14, x0__15, x0__16, x0__17, x0__18, x0__19] -0.22240122\n",
            "(20,) 0.06959643\n",
            "[-0.01946374 -0.05290164 -0.11337584 -0.19933167 -0.18075413 -0.11973286\n",
            "  0.21596788 -0.10800537 -0.15015823  0.05420099  0.06162834  0.12251634\n",
            "  0.16996808  0.12452085 -0.22170636  0.01983138  0.1354505  -0.02066696\n",
            " -0.13176683  0.21317326] [x0__0, x0__1, x0__2, x0__3, x0__4, x0__5, x0__6, x0__7, x0__8, x0__9, x0__10, x0__11, x0__12, x0__13, x0__14, x0__15, x0__16, x0__17, x0__18, x0__19] 0.06959643\n",
            "(20,) -0.17058338\n",
            "[-0.08363517 -0.12730931 -0.20159383  0.00998814  0.09908757  0.04949823\n",
            "  0.04421818 -0.1695806  -0.20882353  0.00393757  0.2038923   0.12900354\n",
            " -0.13019153 -0.02902607 -0.16483925 -0.10787316  0.04049482  0.12176251\n",
            "  0.18522899 -0.20529476] [x0__0, x0__1, x0__2, x0__3, x0__4, x0__5, x0__6, x0__7, x0__8, x0__9, x0__10, x0__11, x0__12, x0__13, x0__14, x0__15, x0__16, x0__17, x0__18, x0__19] -0.17058338\n",
            "(20,) -0.20388429\n",
            "[ 0.21194318 -0.15770811  0.16956986  0.26047355  0.00517497  0.20343947\n",
            " -0.1905245   0.02193118  0.20001066 -0.04090596  0.05875645  0.00394145\n",
            "  0.15413354  0.15604694  0.14303277 -0.1256589  -0.1539446   0.04188859\n",
            "  0.10393311  0.02848622] [x0__0, x0__1, x0__2, x0__3, x0__4, x0__5, x0__6, x0__7, x0__8, x0__9, x0__10, x0__11, x0__12, x0__13, x0__14, x0__15, x0__16, x0__17, x0__18, x0__19] -0.20388429\n",
            "(20,) -0.18590277\n",
            "[-0.06256466  0.15101682  0.01781245  0.01008877 -0.05502975 -0.202496\n",
            " -0.21024795 -0.10688742 -0.11366412  0.0696655  -0.06509434 -0.08747993\n",
            "  0.21319339  0.07788736  0.1594098  -0.1082509  -0.09133595  0.08218455\n",
            " -0.14898364 -0.14617267] [x0__0, x0__1, x0__2, x0__3, x0__4, x0__5, x0__6, x0__7, x0__8, x0__9, x0__10, x0__11, x0__12, x0__13, x0__14, x0__15, x0__16, x0__17, x0__18, x0__19] -0.18590277\n",
            "(20,) 0.16985822\n",
            "[-0.03588925 -0.08178657 -0.192687    0.10786641  0.15464063  0.03627424\n",
            " -0.03893291 -0.20712094 -0.10664699  0.03207064  0.08132862 -0.05333729\n",
            " -0.08840358  0.10322067 -0.20234552  0.1413235  -0.1113017   0.00342239\n",
            " -0.07118209  0.02710985] [x0__0, x0__1, x0__2, x0__3, x0__4, x0__5, x0__6, x0__7, x0__8, x0__9, x0__10, x0__11, x0__12, x0__13, x0__14, x0__15, x0__16, x0__17, x0__18, x0__19] 0.16985822\n",
            "(20,) -0.23473786\n",
            "[-0.09171084  0.16259053 -0.02902304  0.15099049  0.19105054 -0.10893921\n",
            " -0.16312319  0.19274081  0.1508699  -0.19381478 -0.02772768 -0.23711367\n",
            " -0.18304433  0.02475289  0.0374749   0.0474004  -0.08368555  0.22013497\n",
            " -0.01168053 -0.15788476] [x0__0, x0__1, x0__2, x0__3, x0__4, x0__5, x0__6, x0__7, x0__8, x0__9, x0__10, x0__11, x0__12, x0__13, x0__14, x0__15, x0__16, x0__17, x0__18, x0__19] -0.23473786\n",
            "(20,) 0.13530517\n",
            "[-0.09209761  0.0536981   0.17879146 -0.06245269 -0.02411235 -0.11423661\n",
            " -0.1858039  -0.22486411  0.1970663   0.07700828  0.30420464  0.2350275\n",
            "  0.16892365 -0.06582554 -0.02135107  0.1117266  -0.01533815 -0.16759263\n",
            " -0.19745786  0.03349396] [x0__0, x0__1, x0__2, x0__3, x0__4, x0__5, x0__6, x0__7, x0__8, x0__9, x0__10, x0__11, x0__12, x0__13, x0__14, x0__15, x0__16, x0__17, x0__18, x0__19] 0.13530517\n",
            "(20,) 0.03662479\n",
            "[ 0.1256126  -0.0868509  -0.17489456  0.0012675  -0.0865657  -0.14558175\n",
            "  0.11655547 -0.10019033  0.2057635   0.26604864  0.00499117  0.02368058\n",
            "  0.05149301 -0.03164224 -0.06104092  0.00307328  0.0464539   0.19082198\n",
            "  0.0832673  -0.22643387] [x0__0, x0__1, x0__2, x0__3, x0__4, x0__5, x0__6, x0__7, x0__8, x0__9, x0__10, x0__11, x0__12, x0__13, x0__14, x0__15, x0__16, x0__17, x0__18, x0__19] 0.03662479\n",
            "2\n",
            "(20,) 0.15718482\n",
            "[-0.0260052   0.13986124 -0.11106491  0.26198435  0.28190604 -0.28882816\n",
            "  0.08604031  0.05027014  0.08440566  0.03264468  0.04370077 -0.12064237\n",
            " -0.02860851  0.21245328  0.08845124 -0.00840056 -0.19046263  0.02794161\n",
            " -0.2481199   0.23784006] [x1__0, x1__1, x1__2, x1__3, x1__4, x1__5, x1__6, x1__7, x1__8, x1__9, x1__10, x1__11, x1__12, x1__13, x1__14, x1__15, x1__16, x1__17, x1__18, x1__19] 0.15718482\n",
            "(20,) -0.14496733\n",
            "[-0.13574886 -0.01614477  0.05091083 -0.06708732  0.10504822  0.12730104\n",
            "  0.12950501  0.16555418  0.10592089 -0.07722294 -0.0733254   0.09302571\n",
            " -0.06101507  0.10470701 -0.1183885  -0.15166183  0.07136504  0.01633401\n",
            "  0.1911693   0.13349877] [x1__0, x1__1, x1__2, x1__3, x1__4, x1__5, x1__6, x1__7, x1__8, x1__9, x1__10, x1__11, x1__12, x1__13, x1__14, x1__15, x1__16, x1__17, x1__18, x1__19] -0.14496733\n",
            "(20,) 0.00049525494\n",
            "[ 0.15266372  0.21197502  0.09844672 -0.31943318 -0.28171894 -0.0498121\n",
            " -0.19705312 -0.12002889 -0.2224205  -0.20630305 -0.11491829 -0.20672362\n",
            " -0.13725263  0.08526321  0.2517095  -0.06651471 -0.08511957  0.10101783\n",
            " -0.0234244  -0.14479151] [x1__0, x1__1, x1__2, x1__3, x1__4, x1__5, x1__6, x1__7, x1__8, x1__9, x1__10, x1__11, x1__12, x1__13, x1__14, x1__15, x1__16, x1__17, x1__18, x1__19] 0.00049525494\n",
            "proved\n",
            "17.06 minutes\n"
          ]
        }
      ]
    },
    {
      "cell_type": "code",
      "source": [
        "start_time = time.time()\n",
        "verify_simple(fixed_input_y, fixed_input_y_class, epsilon, weights, biases)\n",
        "print(f\"{((time.time() - start_time)/60):.2f} minutes\")"
      ],
      "metadata": {
        "colab": {
          "base_uri": "https://localhost:8080/"
        },
        "id": "z3an9CB8OaYi",
        "outputId": "267a68ae-1b79-4125-d68d-cf21b29cd4ff",
        "pycharm": {
          "name": "#%%\n"
        }
      },
      "execution_count": 46,
      "outputs": [
        {
          "output_type": "stream",
          "name": "stdout",
          "text": [
            "Pre condition: \n",
            "And(And(x__0 - 51/10 <= 1/2, 51/10 - x__0 <= 1/2),\n",
            "    And(x__1 - 7/2 <= 1/2, 7/2 - x__1 <= 1/2),\n",
            "    And(x__2 - 7/5 <= 1/2, 7/5 - x__2 <= 1/2),\n",
            "    And(x__3 - 1/5 <= 1/2, 1/5 - x__3 <= 1/2))\n",
            "Post condition: \n",
            "And(... +\n",
            "    ... +\n",
            "    ... +\n",
            "    ... +\n",
            "    ... +\n",
            "    ... +\n",
            "    ... +\n",
            "    ... +\n",
            "    ... +\n",
            "    ... +\n",
            "    ... +\n",
            "    ... +\n",
            "    ... +\n",
            "    ... +\n",
            "    ... +\n",
            "    ... +\n",
            "    ... +\n",
            "    ... +\n",
            "    ... +\n",
            "    ... +\n",
            "    ... <=\n",
            "    ...,\n",
            "    ...,\n",
            "    ...)\n",
            "--------------\n",
            "proved\n",
            "2.54 minutes\n"
          ]
        }
      ]
    },
    {
      "cell_type": "code",
      "source": [
        ""
      ],
      "metadata": {
        "id": "QNZ-RhhwOjgR",
        "pycharm": {
          "name": "#%%\n"
        }
      },
      "execution_count": null,
      "outputs": []
    }
  ]
}