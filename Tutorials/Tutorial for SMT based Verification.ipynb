{
  "cells": [
    {
      "cell_type": "markdown",
      "metadata": {
        "id": "view-in-github",
        "colab_type": "text"
      },
      "source": [
        "<a href=\"https://colab.research.google.com/github/DDiekmann/Applied-Verification-Lab-Neural-Networks/blob/main/Tutorials/Tutorial%20for%20SMT%20based%20Verification.ipynb\" target=\"_parent\"><img src=\"https://colab.research.google.com/assets/colab-badge.svg\" alt=\"Open In Colab\"/></a>"
      ]
    },
    {
      "cell_type": "markdown",
      "metadata": {
        "id": "0I3UiB_UXOJ4"
      },
      "source": [
        "# Tutorial for SMT based Neural Network Verification\n",
        "\n",
        "---\n",
        "\n",
        "*As an example we try to verifiy the **robustness** of a classification Network trained on the iris dataset. We learn how to train a small neural network in pytorch and use the weights and biases to create a number of terms and formulas.*\n",
        "\n",
        "---\n",
        "\n",
        "Because of the focus of this tutorial we don't go into details about the data pre processing and training. If you are interested in that part you can look into the training code for this tutorial at [Iris_Trainer](https://github.com/DDiekmann/Applied-Verification-Lab-Neural-Networks/blob/main/lib/iris_trainer.py) or other tutorials like this [Pytorch Tutorial](https://pytorch.org/tutorials/beginner/blitz/cifar10_tutorial.html#sphx-glr-beginner-blitz-cifar10-tutorial-py).\n"
      ]
    },
    {
      "cell_type": "code",
      "execution_count": null,
      "metadata": {
        "vscode": {
          "languageId": "plaintext"
        },
        "id": "Rtt_lGk_XOJ5"
      },
      "outputs": [],
      "source": [
        "%%capture\n",
        "\n",
        "!wget --no-cache --backups=1 {'https://raw.githubusercontent.com/DDiekmann/Applied-Verification-Lab-Neural-Networks/main/lib/iris_trainer.py'}\n",
        "import iris_trainer\n",
        "\n",
        "!wget --no-cache --backups=1 {'https://raw.githubusercontent.com/DDiekmann/Applied-Verification-Lab-Neural-Networks/main/lib/plots.py'}\n",
        "import plots\n",
        "\n",
        "# SMT solver\n",
        "%pip install z3-solver\n",
        "from z3 import *\n",
        "\n",
        "from torch import nn\n",
        "import numpy as np\n",
        "import time"
      ]
    },
    {
      "cell_type": "markdown",
      "metadata": {
        "id": "gENozSC5XOJ6"
      },
      "source": [
        "<a id='header_training'></a>\n",
        "## Training of Neural Network"
      ]
    },
    {
      "cell_type": "code",
      "execution_count": null,
      "metadata": {
        "vscode": {
          "languageId": "plaintext"
        },
        "id": "xbJZAWRWXOJ7"
      },
      "outputs": [],
      "source": [
        "class NeuralNetwork(nn.Module):\n",
        "    def __init__(self, input_dim, output_dim, number_of_neurons):\n",
        "        super(NeuralNetwork, self).__init__()\n",
        "        self.linear_relu_stack = nn.Sequential(\n",
        "            nn.Linear(input_dim, number_of_neurons),\n",
        "            nn.ReLU(),\n",
        "            nn.Linear(number_of_neurons, output_dim),\n",
        "        )\n",
        "\n",
        "    def forward(self, x):\n",
        "        logits = self.linear_relu_stack(x)\n",
        "        return logits"
      ]
    },
    {
      "cell_type": "code",
      "execution_count": null,
      "metadata": {
        "vscode": {
          "languageId": "plaintext"
        },
        "colab": {
          "base_uri": "https://localhost:8080/"
        },
        "id": "9MlzFtwDXOJ7",
        "outputId": "9c13a1df-f765-453c-fe4c-340d60626a0c"
      },
      "outputs": [
        {
          "output_type": "stream",
          "name": "stdout",
          "text": [
            "Shape of X (data): (150, 4)\n",
            "Shape of y (target): (150,) int64\n",
            "Example of x and y pair: [5.1 3.5 1.4 0.2] 0\n",
            "Shape of training set X (120, 4)\n",
            "Shape of test set X (30, 4)\n"
          ]
        },
        {
          "output_type": "stream",
          "name": "stderr",
          "text": [
            "100%|██████████| 100/100 [00:00<00:00, 762.61it/s]"
          ]
        },
        {
          "output_type": "stream",
          "name": "stdout",
          "text": [
            "\n",
            "Done. Accuracy: 0.5333333333333333\n"
          ]
        },
        {
          "output_type": "stream",
          "name": "stderr",
          "text": [
            "\n"
          ]
        }
      ],
      "source": [
        "names, feature_names, X, y, X_scaled, X_train, X_test, y_train, y_test = iris_trainer.load_dataset()\n",
        "\n",
        "model = iris_trainer.train_model(\n",
        "    NeuralNetwork(input_dim=X_train.shape[1], output_dim=3, number_of_neurons=5), \n",
        "    epochs=100, \n",
        "    X_train=X_train, \n",
        "    X_test=X_test, \n",
        "    y_train=y_train, \n",
        "    y_test=y_test)"
      ]
    },
    {
      "cell_type": "code",
      "source": [
        "plots.show_plots(names, feature_names, X, y, title = 'Ground Truth')\n",
        "plots.show_plots(names, feature_names, X, iris_trainer.predict(X_scaled, model), title = 'Classification from our network')"
      ],
      "metadata": {
        "colab": {
          "base_uri": "https://localhost:8080/"
        },
        "id": "Imzt6WDbL8F7",
        "outputId": "f68c9e45-bf49-4450-e14c-3adbcf59be12"
      },
      "execution_count": null,
      "outputs": [
        {
          "output_type": "display_data",
          "data": {
            "text/plain": [
              "<Figure size 1152x432 with 2 Axes>"
            ],
            "image/png": "[encoded data removed]"
          },
          "metadata": {
            "needs_background": "light"
          }
        },
        {
          "output_type": "display_data",
          "data": {
            "text/plain": [
              "<Figure size 1152x432 with 2 Axes>"
            ],
            "image/png": "[encoded data removed]"
          },
          "metadata": {
            "needs_background": "light"
          }
        }
      ]
    },
    {
      "cell_type": "markdown",
      "source": [
        "## Define Coditions for Robustness"
      ],
      "metadata": {
        "id": "dO5FJUDyNNJL"
      }
    },
    {
      "cell_type": "markdown",
      "source": [
        "### Pre Condition\n",
        "\n"
      ],
      "metadata": {
        "id": "L-MAh91RNZjB"
      }
    },
    {
      "cell_type": "code",
      "source": [
        "fixed_input_y = X_scaled[0]\n",
        "fixed_input_y_class = y[0]\n",
        "epsilon = 0.5"
      ],
      "metadata": {
        "id": "UdCmlerzPdwm"
      },
      "execution_count": null,
      "outputs": []
    },
    {
      "cell_type": "code",
      "source": [
        "plots.show_plots(names, feature_names, X_scaled, y, fixed_input_y, epsilon, title = 'Epsilon Area on Ground Truth Data')"
      ],
      "metadata": {
        "id": "a_QN7nOmQIjY",
        "outputId": "ed1f51a0-6119-4744-ac9d-e4ecae7a6e6e",
        "colab": {
          "base_uri": "https://localhost:8080/"
        }
      },
      "execution_count": null,
      "outputs": [
        {
          "output_type": "display_data",
          "data": {
            "text/plain": [
              "<Figure size 1152x432 with 2 Axes>"
            ],
            "image/png": "[encoded data removed]"
          },
          "metadata": {
            "needs_background": "light"
          }
        }
      ]
    },
    {
      "cell_type": "code",
      "source": [
        "input_size = fixed_input_y.shape[0]\n",
        "x = RealVector(\"x\", input_size)\n",
        "\n",
        "and_parts = []\n",
        "for i, x_vi in enumerate(x):\n",
        "  and_parts.append(And((x_vi - fixed_input_y[i]) <= epsilon, (fixed_input_y[i] - x_vi) <= epsilon))\n",
        "pre_cond = And(and_parts)"
      ],
      "metadata": {
        "id": "BKiBn54vO1_O"
      },
      "execution_count": null,
      "outputs": []
    },
    {
      "cell_type": "code",
      "source": [
        "print(pre_cond)"
      ],
      "metadata": {
        "id": "v7NieWIqTY2K",
        "outputId": "ffe149c7-9b67-4837-c0b2-2e18e4625476",
        "colab": {
          "base_uri": "https://localhost:8080/"
        }
      },
      "execution_count": null,
      "outputs": [
        {
          "output_type": "stream",
          "name": "stdout",
          "text": [
            "And(And(x__0 - -9006811702978099/10000000000000000 <= 1/2,\n",
            "        -9006811702978099/10000000000000000 - x__0 <= 1/2),\n",
            "    And(x__1 - 2038008703943213/2000000000000000 <= 1/2,\n",
            "        2038008703943213/2000000000000000 - x__1 <= 1/2),\n",
            "    And(x__2 - -2680453053245527/2000000000000000 <= 1/2,\n",
            "        -2680453053245527/2000000000000000 - x__2 <= 1/2),\n",
            "    And(x__3 - -13154442950077407/10000000000000000 <= 1/2,\n",
            "        -13154442950077407/10000000000000000 - x__3 <= 1/2))\n"
          ]
        }
      ]
    },
    {
      "cell_type": "markdown",
      "source": [
        "### Post Condition"
      ],
      "metadata": {
        "id": "jiCaL3jqNco_"
      }
    },
    {
      "cell_type": "code",
      "source": [
        "model_parameters = [param.cpu().detach().numpy() for param in model.parameters()]\n",
        "weights = model_parameters[0::2]\n",
        "output  = [RealVector(f\"x{i}\", weight.shape[0]) for i, weight in enumerate(weights)]"
      ],
      "metadata": {
        "id": "YOtJ9Zj7U6xq"
      },
      "execution_count": null,
      "outputs": []
    },
    {
      "cell_type": "code",
      "source": [
        "# post-condition\n",
        "# x_vo = x_v'\n",
        "and_parts = []\n",
        "for i, x_vo in enumerate(output[-1]):\n",
        "  # l is the argmax of fixed_input_y\n",
        "  and_parts.append(x_vo <= output[-1][fixed_input_y_class])\n",
        "post_cond = And(and_parts)"
      ],
      "metadata": {
        "id": "iqLg_7u6TVxj"
      },
      "execution_count": null,
      "outputs": []
    },
    {
      "cell_type": "code",
      "source": [
        "print(post_cond)"
      ],
      "metadata": {
        "id": "_nFkLduPVNs5",
        "outputId": "4c1b0be4-5ef0-43ad-b305-4fe4763b2f47",
        "colab": {
          "base_uri": "https://localhost:8080/"
        }
      },
      "execution_count": null,
      "outputs": [
        {
          "output_type": "stream",
          "name": "stdout",
          "text": [
            "And(x1__0 <= x1__0, x1__1 <= x1__0, x1__2 <= x1__0)\n"
          ]
        }
      ]
    },
    {
      "cell_type": "markdown",
      "metadata": {
        "id": "qT37gmhkXOJ8"
      },
      "source": [
        "## Defining the Assignment"
      ]
    },
    {
      "cell_type": "markdown",
      "source": [
        "Next we create a solver in order to find Aversarial Examples. \"An adversarial example is an instance with small, intentional feature perturbations that cause a machine learning model to make a false prediction.\" (For more information on adversarial examples see [this article](https://christophm.github.io/interpretable-ml-book/adversarial.html).\n",
        "\n",
        "We use Z3 in this Tutorial. Z3 is a theorem prover from Microsoft Research (for more information on z3 see [z3 on pypi](https://pypi.org/project/z3-solver/)). \n",
        "\n",
        "**Two different approaches** to create formulas are explained in this tutorial. You can just use the one more interesting to you or try both. The ML model was trained on the iris dataset in the previous section. Now we recreate the model using the trained weights and the layers of the model.\n",
        "\n",
        "---\n",
        "\n",
        "In both cases we start with extracting the learned weights and biases from the model. This is done by iterating over the layers and saving the weights and biases of the Linear Layers into lists."
      ],
      "metadata": {
        "id": "dmAzY8aibE9V"
      }
    },
    {
      "cell_type": "code",
      "source": [
        "model_parameters = [param.cpu().detach().numpy() for param in model.parameters()]\n",
        "weights = model_parameters[0::2]\n",
        "biases = model_parameters[1::2]"
      ],
      "metadata": {
        "id": "zPfOyvYiKlqH"
      },
      "execution_count": null,
      "outputs": []
    },
    {
      "cell_type": "markdown",
      "source": [
        "### Approach 1: Black Box"
      ],
      "metadata": {
        "id": "KTHm6ZeYb-P4"
      }
    },
    {
      "cell_type": "markdown",
      "source": [
        "Like we explained in the first part [(Training of Neural Network)](#header_training) only fully connected layer with the Relu activation function are used in the networks we are trying to test on robustness.\n",
        "\n"
      ],
      "metadata": {
        "id": "4SvKKsXmFFFX"
      }
    },
    {
      "cell_type": "code",
      "source": [
        "def Relu(x):\n",
        "    return np.vectorize(lambda y: If(y >= 0 , y, RealVal(0)))(x)\n",
        "  \n",
        "def Abs(x):\n",
        "    ret = If(x <= 0, -x, x)\n",
        "    return ret"
      ],
      "metadata": {
        "id": "fJsKgn4OzBb9"
      },
      "execution_count": null,
      "outputs": []
    },
    {
      "cell_type": "markdown",
      "source": [
        ""
      ],
      "metadata": {
        "id": "Y1CloAm9E_p3"
      }
    },
    {
      "cell_type": "code",
      "source": [
        "def net(x, weights, biases):\n",
        "  output = x\n",
        "\n",
        "  for i, (weight, bias) in enumerate(zip(weights, biases)):\n",
        "    output = weight @ output + bias\n",
        "    # apply relu except in last layer\n",
        "    if i != len(weights) - 1:\n",
        "      output = Relu(output)\n",
        "  return output"
      ],
      "metadata": {
        "id": "28qYB5zZE_2e"
      },
      "execution_count": null,
      "outputs": []
    },
    {
      "cell_type": "markdown",
      "source": [
        ""
      ],
      "metadata": {
        "id": "rCXyULzsFEPg"
      }
    },
    {
      "cell_type": "code",
      "source": [
        "assign = [x_vo <= output[fixed_input_y_class]]"
      ],
      "metadata": {
        "id": "YTpGPg4YMaSp"
      },
      "execution_count": null,
      "outputs": []
    },
    {
      "cell_type": "markdown",
      "source": [
        "### Approach 2: Encode each neuron individually"
      ],
      "metadata": {
        "id": "DpTr6SjYx_FR"
      }
    },
    {
      "cell_type": "code",
      "source": [
        "def ReluSingleNeuron(x):\n",
        "  return If(x >= 0, x, RealVal(0))"
      ],
      "metadata": {
        "id": "RbDQa9HtHcc9"
      },
      "execution_count": null,
      "outputs": []
    },
    {
      "cell_type": "code",
      "source": [
        "# assign\n",
        "assign_parts = []\n",
        "# for each layer\n",
        "for layer_i, (layer_output, layer_weights, layer_biases) in enumerate(zip(output, weights, biases)):\n",
        "  # for each neuron\n",
        "  for neuron_output, neuron_weights, neuron_bias in zip(layer_output, layer_weights, layer_biases):\n",
        "    if layer_i == 0:\n",
        "      # neuron input is net input\n",
        "      neuron_inputs = x\n",
        "    else:\n",
        "      # neuron input is output of previous layer\n",
        "      neuron_inputs = output[layer_i - 1]\n",
        "    assign_parts.append(neuron_output == ReluSingleNeuron(neuron_weights @ neuron_inputs + neuron_bias))\n",
        "assign = And(assign_parts)"
      ],
      "metadata": {
        "id": "Pi1WCKkEK5mH"
      },
      "execution_count": null,
      "outputs": []
    },
    {
      "cell_type": "code",
      "source": [
        "print(assign_parts[0])"
      ],
      "metadata": {
        "id": "39-W3x7wKGUV",
        "outputId": "40fb6523-31cc-47d1-ebe2-70e15e8513d6",
        "colab": {
          "base_uri": "https://localhost:8080/"
        }
      },
      "execution_count": null,
      "outputs": [
        {
          "output_type": "stream",
          "name": "stdout",
          "text": [
            "x0__0 ==\n",
            "If(-8674851655960083/20000000000000000*x__0 +\n",
            "   3678886592388153/20000000000000000*x__1 +\n",
            "   9243759326636791/500000000000000000*x__2 +\n",
            "   -9736315906047821/25000000000000000*x__3 +\n",
            "   4599399/25000000 >=\n",
            "   0,\n",
            "   -8674851655960083/20000000000000000*x__0 +\n",
            "   3678886592388153/20000000000000000*x__1 +\n",
            "   9243759326636791/500000000000000000*x__2 +\n",
            "   -9736315906047821/25000000000000000*x__3 +\n",
            "   4599399/25000000,\n",
            "   0)\n"
          ]
        }
      ]
    },
    {
      "cell_type": "markdown",
      "metadata": {
        "id": "gXuIL-ZpXOJ8"
      },
      "source": [
        "## Verifying robustness"
      ]
    },
    {
      "cell_type": "code",
      "source": [
        "# verification conditions\n",
        "verification_cond = Implies(And(pre_cond, assign), post_cond)\n",
        "\n",
        "# prove using Z3\n",
        "prove(verification_cond)"
      ],
      "metadata": {
        "id": "KX5etK1TW7xf",
        "outputId": "e7671540-246f-48b6-f4b9-a1e07397b405",
        "colab": {
          "base_uri": "https://localhost:8080/"
        }
      },
      "execution_count": null,
      "outputs": [
        {
          "output_type": "stream",
          "name": "stdout",
          "text": [
            "proved\n"
          ]
        }
      ]
    },
    {
      "cell_type": "markdown",
      "source": [
        "### Binary search for upper epsilon"
      ],
      "metadata": {
        "id": "UwifjR6Js4i1"
      }
    },
    {
      "cell_type": "markdown",
      "source": [
        "TODO add explanation"
      ],
      "metadata": {
        "id": "BKpXO6D7tO13"
      }
    },
    {
      "cell_type": "code",
      "source": [
        "def prove():\n",
        "  solver = Solver()\n",
        "  solver.add(Not(verification_cond))\n",
        "  result = solver.check()\n",
        "  if result == unsat:\n",
        "      print(\"proved\")\n",
        "      return True\n",
        "  elif result == unknown:\n",
        "      print(\"failed to prove\")\n",
        "      print(solver.model())\n",
        "      return False\n",
        "  else:\n",
        "      print(\"counterexample\")\n",
        "      print(solver.model())\n",
        "      return False"
      ],
      "metadata": {
        "id": "KvA0TU5Cs45F"
      },
      "execution_count": null,
      "outputs": []
    },
    {
      "cell_type": "code",
      "source": [
        "max_iter = 50\n",
        "eps = 0\n",
        "eps_r = 10\n",
        "eps_l = 0\n",
        "eps_max = 20 \n",
        "eps_min = .00005\n",
        "\n",
        "while max_iter > 0: \n",
        "  print(\"CURRENT EPS: \", eps)\n",
        "  max_iter -= 1\n",
        "  eps = (eps_r + eps_l) / 2\n",
        "  res = verify(fixed_input_y, fixed_input_y_class, eps, weights, biases)\n",
        "  if res == False: \n",
        "    eps_r = eps\n",
        "  else: \n",
        "    eps_l = eps\n",
        "  if eps_r <= eps_l:\n",
        "    print(\"Eps_r <= eps_l\")\n",
        "    break\n",
        "  if eps >= eps_max or eps <= eps_min:\n",
        "    print(\"Eps <= eps_min or >= eps_max\")\n",
        "    break\n",
        "\n",
        "print(\"Upper Bound EPS: \", eps)"
      ],
      "metadata": {
        "id": "8_StVw0stJKw"
      },
      "execution_count": null,
      "outputs": []
    },
    {
      "cell_type": "markdown",
      "source": [
        "# Tip"
      ],
      "metadata": {
        "id": "ZARYxh9Ks1V8"
      }
    },
    {
      "cell_type": "markdown",
      "metadata": {
        "id": "utCkeyFBXOJ8"
      },
      "source": [
        "TIP: This verification could take a long time depending on how big your network is. You will want to let this run as you sleep or go to work for the day, etc. However, Colab Cloud Service kicks you off it's VMs if you are idle for too long (30-90 mins).\n",
        "\n",
        "To avoid this hold (CTRL + SHIFT + i) at the same time to open up the inspector view on your browser.\n",
        "\n",
        "Paste the following code into your console window and hit **Enter**\n",
        "```\n",
        "function ClickConnect(){\n",
        "console.log(\"Working\"); \n",
        "document\n",
        "  .querySelector('#top-toolbar > colab-connect-button')\n",
        "  .shadowRoot.querySelector('#connect')\n",
        "  .click() \n",
        "}\n",
        "setInterval(ClickConnect,60000)\n",
        "```\n",
        "Looks like this, it will click the screen every 10 minutes so that you don't get kicked off for being idle! HACKS!"
      ]
    },
    {
      "cell_type": "markdown",
      "source": [
        ""
      ],
      "metadata": {
        "id": "Dak6_GxEXsJa"
      }
    }
  ],
  "metadata": {
    "language_info": {
      "name": "python"
    },
    "orig_nbformat": 4,
    "colab": {
      "name": "Tutorial for SMT based Verification.ipynb",
      "provenance": [],
      "include_colab_link": true
    },
    "kernelspec": {
      "name": "python3",
      "display_name": "Python 3"
    }
  },
  "nbformat": 4,
  "nbformat_minor": 0
}