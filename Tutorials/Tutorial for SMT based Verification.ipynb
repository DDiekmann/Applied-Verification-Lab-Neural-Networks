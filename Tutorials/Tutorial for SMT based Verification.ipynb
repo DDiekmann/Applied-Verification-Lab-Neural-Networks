{
  "cells": [
    {
      "cell_type": "markdown",
      "metadata": {
        "id": "view-in-github",
        "colab_type": "text"
      },
      "source": [
        "<a href=\"https://colab.research.google.com/github/DDiekmann/Applied-Verification-Lab-Neural-Networks/blob/main/Tutorials/Tutorial%20for%20SMT%20based%20Verification.ipynb\" target=\"_parent\"><img src=\"https://colab.research.google.com/assets/colab-badge.svg\" alt=\"Open In Colab\"/></a>"
      ]
    },
    {
      "cell_type": "markdown",
      "metadata": {
        "id": "0I3UiB_UXOJ4"
      },
      "source": [
        "# Tutorial for SMT based Neural Network Verification\n",
        "\n",
        "As an example we try to verifiy the **robustness** of a classification Network trained on the iris dataset. We learn how to train a small neural network in pytorch and use the weights and biases to create a number of terms and formulas.\n",
        "\n"
      ]
    },
    {
      "cell_type": "code",
      "execution_count": 1,
      "metadata": {
        "vscode": {
          "languageId": "plaintext"
        },
        "colab": {
          "base_uri": "https://localhost:8080/"
        },
        "id": "Rtt_lGk_XOJ5",
        "outputId": "b4d7f959-fc21-4b88-940f-bd61d5532d02"
      },
      "outputs": [
        {
          "output_type": "stream",
          "name": "stdout",
          "text": [
            "--2022-05-25 08:16:04--  https://raw.githubusercontent.com/DDiekmann/Applied-Verification-Lab-Neural-Networks/main/lib/iris_trainer.py\n",
            "Resolving raw.githubusercontent.com (raw.githubusercontent.com)... 185.199.110.133, 185.199.108.133, 185.199.109.133, ...\n",
            "Connecting to raw.githubusercontent.com (raw.githubusercontent.com)|185.199.110.133|:443... connected.\n",
            "HTTP request sent, awaiting response... 200 OK\n",
            "Length: 2934 (2.9K) [text/plain]\n",
            "Failed to rename iris_trainer.py to iris_trainer.py.1: (2) No such file or directory\n",
            "Saving to: ‘iris_trainer.py’\n",
            "\n",
            "iris_trainer.py     100%[===================>]   2.87K  --.-KB/s    in 0s      \n",
            "\n",
            "2022-05-25 08:16:04 (36.2 MB/s) - ‘iris_trainer.py’ saved [2934/2934]\n",
            "\n",
            "--2022-05-25 08:16:10--  https://raw.githubusercontent.com/DDiekmann/Applied-Verification-Lab-Neural-Networks/main/lib/plots.py\n",
            "Resolving raw.githubusercontent.com (raw.githubusercontent.com)... 185.199.110.133, 185.199.111.133, 185.199.109.133, ...\n",
            "Connecting to raw.githubusercontent.com (raw.githubusercontent.com)|185.199.110.133|:443... connected.\n",
            "HTTP request sent, awaiting response... 200 OK\n",
            "Length: 1726 (1.7K) [text/plain]\n",
            "Failed to rename plots.py to plots.py.1: (2) No such file or directory\n",
            "Saving to: ‘plots.py’\n",
            "\n",
            "plots.py            100%[===================>]   1.69K  --.-KB/s    in 0s      \n",
            "\n",
            "2022-05-25 08:16:11 (17.6 MB/s) - ‘plots.py’ saved [1726/1726]\n",
            "\n",
            "Looking in indexes: https://pypi.org/simple, https://us-python.pkg.dev/colab-wheels/public/simple/\n",
            "Collecting z3-solver\n",
            "  Downloading z3_solver-4.8.17.0-py2.py3-none-manylinux1_x86_64.whl (54.5 MB)\n",
            "\u001b[K     |████████████████████████████████| 54.5 MB 122 kB/s \n",
            "\u001b[?25hInstalling collected packages: z3-solver\n",
            "Successfully installed z3-solver-4.8.17.0\n"
          ]
        }
      ],
      "source": [
        "!wget --no-cache --backups=1 {'https://raw.githubusercontent.com/DDiekmann/Applied-Verification-Lab-Neural-Networks/main/lib/iris_trainer.py'}\n",
        "import iris_trainer\n",
        "\n",
        "!wget --no-cache --backups=1 {'https://raw.githubusercontent.com/DDiekmann/Applied-Verification-Lab-Neural-Networks/main/lib/plots.py'}\n",
        "import plots\n",
        "\n",
        "from torch import nn\n",
        "\n",
        "# numpy\n",
        "import numpy as np\n",
        "\n",
        "# for plots\n",
        "import matplotlib.pyplot as plt\n",
        "\n",
        "# for measuring runtime\n",
        "import time\n",
        "\n",
        "# SMT solver\n",
        "%pip install z3-solver\n",
        "from z3 import *"
      ]
    },
    {
      "cell_type": "markdown",
      "metadata": {
        "id": "gENozSC5XOJ6"
      },
      "source": [
        "<a id='header_training'></a>\n",
        "## Training of Neural Network"
      ]
    },
    {
      "cell_type": "code",
      "execution_count": 2,
      "metadata": {
        "vscode": {
          "languageId": "plaintext"
        },
        "id": "xbJZAWRWXOJ7"
      },
      "outputs": [],
      "source": [
        "class NeuralNetwork(nn.Module):\n",
        "    def __init__(self, input_dim, output_dim, number_of_neurons):\n",
        "        super(NeuralNetwork, self).__init__()\n",
        "        self.linear_relu_stack = nn.Sequential(\n",
        "            nn.Linear(input_dim, number_of_neurons),\n",
        "            nn.ReLU(),\n",
        "            nn.Linear(number_of_neurons, number_of_neurons),\n",
        "            nn.ReLU(),\n",
        "            nn.Linear(number_of_neurons, output_dim),\n",
        "        )\n",
        "\n",
        "    def forward(self, x):\n",
        "        logits = self.linear_relu_stack(x)\n",
        "        return logits"
      ]
    },
    {
      "cell_type": "code",
      "execution_count": 3,
      "metadata": {
        "vscode": {
          "languageId": "plaintext"
        },
        "colab": {
          "base_uri": "https://localhost:8080/"
        },
        "id": "9MlzFtwDXOJ7",
        "outputId": "badc7e94-823c-4509-8bfa-4eb8185a8dda"
      },
      "outputs": [
        {
          "output_type": "stream",
          "name": "stdout",
          "text": [
            "Shape of X (data): (150, 4)\n",
            "Shape of y (target): (150,) int64\n",
            "Example of x and y pair: [5.1 3.5 1.4 0.2] 0\n",
            "Shape of training set X (120, 4)\n",
            "Shape of test set X (30, 4)\n"
          ]
        },
        {
          "output_type": "stream",
          "name": "stderr",
          "text": [
            "100%|██████████| 100/100 [00:00<00:00, 591.39it/s]"
          ]
        },
        {
          "output_type": "stream",
          "name": "stdout",
          "text": [
            "\n",
            "Done. Accuracy: 0.9\n"
          ]
        },
        {
          "output_type": "stream",
          "name": "stderr",
          "text": [
            "\n"
          ]
        }
      ],
      "source": [
        "names, feature_names, X, y, X_scaled, X_train, X_test, y_train, y_test = iris_trainer.load_dataset()\n",
        "\n",
        "model = iris_trainer.train_model(\n",
        "    NeuralNetwork(input_dim=X_train.shape[1], output_dim=3, number_of_neurons=20), \n",
        "    epochs=100, \n",
        "    X_train=X_train, \n",
        "    X_test=X_test, \n",
        "    y_train=y_train, \n",
        "    y_test=y_test)"
      ]
    },
    {
      "cell_type": "code",
      "source": [
        "plots.show_plots(names, feature_names, X, y, title = 'Ground Truth')\n",
        "plots.show_plots(names, feature_names, X, iris_trainer.predict(X_scaled, model), title = 'Classification from our network')"
      ],
      "metadata": {
        "colab": {
          "base_uri": "https://localhost:8080/",
          "height": 845
        },
        "id": "Imzt6WDbL8F7",
        "outputId": "f63bd1d3-149b-41dd-f52c-96dd531d3a0c"
      },
      "execution_count": 5,
      "outputs": [
        {
          "output_type": "display_data",
          "data": {
            "text/plain": [
              "<Figure size 1152x432 with 2 Axes>"
            ],
            "image/png": "[encoded data removed]"
          },
          "metadata": {
            "needs_background": "light"
          }
        },
        {
          "output_type": "display_data",
          "data": {
            "text/plain": [
              "<Figure size 1152x432 with 2 Axes>"
            ],
            "image/png": "[encoded data removed]"
          },
          "metadata": {
            "needs_background": "light"
          }
        }
      ]
    },
    {
      "cell_type": "markdown",
      "source": [
        "## Define Coditions for Robustness"
      ],
      "metadata": {
        "id": "dO5FJUDyNNJL"
      }
    },
    {
      "cell_type": "markdown",
      "source": [
        "### Pre Condition\n",
        "\n"
      ],
      "metadata": {
        "id": "L-MAh91RNZjB"
      }
    },
    {
      "cell_type": "code",
      "source": [
        "fixed_input_y = X_scaled[0]\n",
        "fixed_input_y_class = y[0]\n",
        "epsilon = 0.5"
      ],
      "metadata": {
        "id": "UdCmlerzPdwm"
      },
      "execution_count": 11,
      "outputs": []
    },
    {
      "cell_type": "code",
      "source": [
        "plots.show_plots(names, feature_names, X_scaled, y, fixed_input_y, epsilon, title = 'Epsilon Area on Ground Truth Data')"
      ],
      "metadata": {
        "id": "a_QN7nOmQIjY",
        "outputId": "d36f7b24-9e76-4256-811e-6d205e2f4df8",
        "colab": {
          "base_uri": "https://localhost:8080/",
          "height": 431
        }
      },
      "execution_count": 12,
      "outputs": [
        {
          "output_type": "display_data",
          "data": {
            "text/plain": [
              "<Figure size 1152x432 with 2 Axes>"
            ],
            "image/png": "[encoded data removed]"
          },
          "metadata": {
            "needs_background": "light"
          }
        }
      ]
    },
    {
      "cell_type": "code",
      "source": [
        "input_size = fixed_input_y.shape[0]\n",
        "x = RealVector(\"x\", input_size)\n",
        "\n",
        "and_parts = []\n",
        "for i, x_vi in enumerate(x):\n",
        "  and_parts.append(And((x_vi - fixed_input_y[i]) <= epsilon, (fixed_input_y[i] - x_vi) <= epsilon))\n",
        "pre_cond = And(and_parts)"
      ],
      "metadata": {
        "id": "BKiBn54vO1_O"
      },
      "execution_count": 7,
      "outputs": []
    },
    {
      "cell_type": "code",
      "source": [
        "print(pre_cond)"
      ],
      "metadata": {
        "id": "v7NieWIqTY2K",
        "outputId": "d6e85d8d-3e11-454a-844f-c82353546f83",
        "colab": {
          "base_uri": "https://localhost:8080/"
        }
      },
      "execution_count": 14,
      "outputs": [
        {
          "output_type": "stream",
          "name": "stdout",
          "text": [
            "And(And(x__0 - -9006811702978099/10000000000000000 <= 1/2,\n",
            "        -9006811702978099/10000000000000000 - x__0 <= 1/2),\n",
            "    And(x__1 - 2038008703943213/2000000000000000 <= 1/2,\n",
            "        2038008703943213/2000000000000000 - x__1 <= 1/2),\n",
            "    And(x__2 - -2680453053245527/2000000000000000 <= 1/2,\n",
            "        -2680453053245527/2000000000000000 - x__2 <= 1/2),\n",
            "    And(x__3 - -13154442950077407/10000000000000000 <= 1/2,\n",
            "        -13154442950077407/10000000000000000 - x__3 <= 1/2))\n"
          ]
        }
      ]
    },
    {
      "cell_type": "markdown",
      "source": [
        "### Post Condition"
      ],
      "metadata": {
        "id": "jiCaL3jqNco_"
      }
    },
    {
      "cell_type": "code",
      "source": [
        "model_parameters = [param.cpu().detach().numpy() for param in model.parameters()]\n",
        "weights = model_parameters[0::2]\n",
        "output  = [RealVector(f\"x{i}\", weight.shape[0]) for i, weight in enumerate(weights)]"
      ],
      "metadata": {
        "id": "YOtJ9Zj7U6xq"
      },
      "execution_count": 16,
      "outputs": []
    },
    {
      "cell_type": "code",
      "source": [
        "# post-condition\n",
        "# x_vo = x_v'\n",
        "and_parts = []\n",
        "for i, x_vo in enumerate(output[-1]):\n",
        "  # l is the argmax of fixed_input_y\n",
        "  and_parts.append(x_vo <= output[-1][fixed_input_y_class])\n",
        "post_cond = And(and_parts)"
      ],
      "metadata": {
        "id": "iqLg_7u6TVxj"
      },
      "execution_count": 17,
      "outputs": []
    },
    {
      "cell_type": "code",
      "source": [
        "print(post_cond)"
      ],
      "metadata": {
        "id": "_nFkLduPVNs5",
        "outputId": "8110e6e9-d961-4d4d-edbd-7305bc105a9f",
        "colab": {
          "base_uri": "https://localhost:8080/"
        }
      },
      "execution_count": 18,
      "outputs": [
        {
          "output_type": "stream",
          "name": "stdout",
          "text": [
            "And(x2__0 <= x2__0, x2__1 <= x2__0, x2__2 <= x2__0)\n"
          ]
        }
      ]
    },
    {
      "cell_type": "markdown",
      "metadata": {
        "id": "qT37gmhkXOJ8"
      },
      "source": [
        "## Defining the Assignment"
      ]
    },
    {
      "cell_type": "markdown",
      "source": [
        "Next we create a solver in order to find Aversarial Examples. \"An adversarial example is an instance with small, intentional feature perturbations that cause a machine learning model to make a false prediction.\" (For more information on adversarial examples see [this article](https://christophm.github.io/interpretable-ml-book/adversarial.html).\n",
        "\n",
        "We use Z3 in this Tutorial. Z3 is a theorem prover from Microsoft Research (for more information on z3 see [z3 on pypi](https://pypi.org/project/z3-solver/)). \n",
        "\n",
        "**Two different approaches** to create formulas are explained in this tutorial. You can just use the one more interesting to you or try both. The ML model was trained on the iris dataset in the previous section. Now we recreate the model using the trained weights and the layers of the model.\n",
        "\n",
        "---\n",
        "\n",
        "In both cases we start with extracting the learned weights and biases from the model. This is done by iterating over the layers and saving the weights and biases of the Linear Layers into lists."
      ],
      "metadata": {
        "id": "dmAzY8aibE9V"
      }
    },
    {
      "cell_type": "code",
      "source": [
        "model_parameters = [param.cpu().detach().numpy() for param in model.parameters()]\n",
        "weights = model_parameters[0::2]\n",
        "biases = model_parameters[1::2]"
      ],
      "metadata": {
        "id": "zPfOyvYiKlqH"
      },
      "execution_count": 19,
      "outputs": []
    },
    {
      "cell_type": "markdown",
      "source": [
        "### Approach 1: Black Box"
      ],
      "metadata": {
        "id": "KTHm6ZeYb-P4"
      }
    },
    {
      "cell_type": "markdown",
      "source": [
        "Like we explained in the first part [(Training of Neural Network)](#header_training) only fully connected layer with the Relu activation function are used in the networks we are trying to test on robustness.\n",
        "\n"
      ],
      "metadata": {
        "id": "4SvKKsXmFFFX"
      }
    },
    {
      "cell_type": "code",
      "source": [
        "def Relu(x):\n",
        "    return np.vectorize(lambda y: If(y >= 0 , y, RealVal(0)))(x)\n",
        "  \n",
        "def Abs(x):\n",
        "    ret = If(x <= 0, -x, x)\n",
        "    return ret"
      ],
      "metadata": {
        "id": "fJsKgn4OzBb9"
      },
      "execution_count": 1,
      "outputs": []
    },
    {
      "cell_type": "markdown",
      "source": [
        ""
      ],
      "metadata": {
        "id": "Y1CloAm9E_p3"
      }
    },
    {
      "cell_type": "code",
      "source": [
        "def net(x, weights, biases):\n",
        "  output = x\n",
        "\n",
        "  for i, (weight, bias) in enumerate(zip(weights, biases)):\n",
        "    output = weight @ output + bias\n",
        "    # apply relu except in last layer\n",
        "    if i != len(weights) - 1:\n",
        "      output = Relu(output)\n",
        "  return output"
      ],
      "metadata": {
        "id": "28qYB5zZE_2e"
      },
      "execution_count": 2,
      "outputs": []
    },
    {
      "cell_type": "markdown",
      "source": [
        ""
      ],
      "metadata": {
        "id": "rCXyULzsFEPg"
      }
    },
    {
      "cell_type": "code",
      "source": [
        "assign = [x_vo <= output[fixed_input_y_class]]"
      ],
      "metadata": {
        "id": "YTpGPg4YMaSp"
      },
      "execution_count": null,
      "outputs": []
    },
    {
      "cell_type": "markdown",
      "source": [
        "### Approach 2: Encode each neuron individually"
      ],
      "metadata": {
        "id": "DpTr6SjYx_FR"
      }
    },
    {
      "cell_type": "code",
      "source": [
        "def ReluSingleNeuron(x):\n",
        "  return If(x >= 0, x, RealVal(0))"
      ],
      "metadata": {
        "id": "RbDQa9HtHcc9"
      },
      "execution_count": 20,
      "outputs": []
    },
    {
      "cell_type": "code",
      "source": [
        "# assign\n",
        "assign_parts = []\n",
        "# for each layer\n",
        "for layer_i, (layer_output, layer_weights, layer_biases) in enumerate(zip(output, weights, biases)):\n",
        "  # for each neuron\n",
        "  for neuron_output, neuron_weights, neuron_bias in zip(layer_output, layer_weights, layer_biases):\n",
        "    if layer_i == 0:\n",
        "      # neuron input is net input\n",
        "      neuron_inputs = x\n",
        "    else:\n",
        "      # neuron input is output of previous layer\n",
        "      neuron_inputs = output[layer_i - 1]\n",
        "    assign_parts.append(neuron_output == ReluSingleNeuron(neuron_weights @ neuron_inputs + neuron_bias))\n",
        "assign = And(assign_parts)"
      ],
      "metadata": {
        "id": "Pi1WCKkEK5mH"
      },
      "execution_count": 23,
      "outputs": []
    },
    {
      "cell_type": "code",
      "source": [
        "print(assign_parts[0])"
      ],
      "metadata": {
        "id": "39-W3x7wKGUV",
        "outputId": "7d778e19-cc14-4724-c724-a8de8a3b96c8",
        "colab": {
          "base_uri": "https://localhost:8080/"
        }
      },
      "execution_count": 24,
      "outputs": [
        {
          "output_type": "stream",
          "name": "stdout",
          "text": [
            "x0__0 ==\n",
            "If(565168559551239/1000000000000000*x__0 +\n",
            "   6880897283554077/100000000000000000*x__1 +\n",
            "   4803081452846527/10000000000000000*x__2 +\n",
            "   -2045958861708641/25000000000000000*x__3 +\n",
            "   5452609/10000000 >=\n",
            "   0,\n",
            "   565168559551239/1000000000000000*x__0 +\n",
            "   6880897283554077/100000000000000000*x__1 +\n",
            "   4803081452846527/10000000000000000*x__2 +\n",
            "   -2045958861708641/25000000000000000*x__3 +\n",
            "   5452609/10000000,\n",
            "   0)\n"
          ]
        }
      ]
    },
    {
      "cell_type": "markdown",
      "metadata": {
        "id": "gXuIL-ZpXOJ8"
      },
      "source": [
        "## Verifying robustness"
      ]
    },
    {
      "cell_type": "code",
      "source": [
        "# verification conditions\n",
        "verification_cond = Implies(And(pre_cond, assign), post_cond)\n",
        "\n",
        "# prove using Z3\n",
        "prove(verification_cond)"
      ],
      "metadata": {
        "id": "KX5etK1TW7xf"
      },
      "execution_count": null,
      "outputs": []
    },
    {
      "cell_type": "markdown",
      "metadata": {
        "id": "utCkeyFBXOJ8"
      },
      "source": [
        "TIP: This verification could take a long time depending on how big your network is. You will want to let this run as you sleep or go to work for the day, etc. However, Colab Cloud Service kicks you off it's VMs if you are idle for too long (30-90 mins).\n",
        "\n",
        "To avoid this hold (CTRL + SHIFT + i) at the same time to open up the inspector view on your browser.\n",
        "\n",
        "Paste the following code into your console window and hit **Enter**\n",
        "```\n",
        "function ClickConnect(){\n",
        "console.log(\"Working\"); \n",
        "document\n",
        "  .querySelector('#top-toolbar > colab-connect-button')\n",
        "  .shadowRoot.querySelector('#connect')\n",
        "  .click() \n",
        "}\n",
        "setInterval(ClickConnect,60000)\n",
        "```\n",
        "Looks like this, it will click the screen every 10 minutes so that you don't get kicked off for being idle! HACKS!"
      ]
    },
    {
      "cell_type": "markdown",
      "source": [
        ""
      ],
      "metadata": {
        "id": "Dak6_GxEXsJa"
      }
    }
  ],
  "metadata": {
    "language_info": {
      "name": "python"
    },
    "orig_nbformat": 4,
    "colab": {
      "name": "Tutorial for SMT based Verification.ipynb",
      "provenance": [],
      "include_colab_link": true
    },
    "kernelspec": {
      "name": "python3",
      "display_name": "Python 3"
    }
  },
  "nbformat": 4,
  "nbformat_minor": 0
}