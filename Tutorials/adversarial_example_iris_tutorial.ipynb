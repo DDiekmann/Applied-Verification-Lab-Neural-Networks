{
  "nbformat": 4,
  "nbformat_minor": 0,
  "metadata": {
    "colab": {
      "name": "iris.ipynb",
      "provenance": [],
      "collapsed_sections": []
    },
    "kernelspec": {
      "name": "python3",
      "display_name": "Python 3"
    },
    "language_info": {
      "name": "python"
    },
    "accelerator": "GPU"
  },
  "cells": [
    {
      "cell_type": "markdown",
      "source": [
        "# ML-model verification with z3\n",
        "In this tutorial, the first step is to implement a machine learning model for image recognition using the python library pytorch. In the second step, the model is verified using the SMT solver z3."
      ],
      "metadata": {
        "id": "bvjqBedigGT5"
      }
    },
    {
      "cell_type": "markdown",
      "source": [
        "Using pip, the z3 solver is downloaded and the required parts are imported from pytorch."
      ],
      "metadata": {
        "id": "zLfqLvsfgLB8"
      }
    },
    {
      "cell_type": "code",
      "source": [
        "!nvidia-smi\n",
        "!pip install z3-solver\n",
        "\n",
        "import torch\n",
        "from torch import nn\n",
        "from torch.utils.data import DataLoader\n",
        "from torchvision import datasets\n",
        "from torchvision.transforms import ToTensor\n",
        "from sklearn.datasets import load_iris"
      ],
      "metadata": {
        "colab": {
          "base_uri": "https://localhost:8080/"
        },
        "id": "VWF6jABWwH_B",
        "outputId": "b2464251-aa29-4c4d-a564-893f7e481d06",
        "pycharm": {
          "name": "#%%\n"
        }
      },
      "execution_count": null,
      "outputs": [
        {
          "output_type": "stream",
          "name": "stdout",
          "text": [
            "Wed May 11 09:34:00 2022       \n",
            "+-----------------------------------------------------------------------------+\n",
            "| NVIDIA-SMI 460.32.03    Driver Version: 460.32.03    CUDA Version: 11.2     |\n",
            "|-------------------------------+----------------------+----------------------+\n",
            "| GPU  Name        Persistence-M| Bus-Id        Disp.A | Volatile Uncorr. ECC |\n",
            "| Fan  Temp  Perf  Pwr:Usage/Cap|         Memory-Usage | GPU-Util  Compute M. |\n",
            "|                               |                      |               MIG M. |\n",
            "|===============================+======================+======================|\n",
            "|   0  Tesla K80           Off  | 00000000:00:04.0 Off |                    0 |\n",
            "| N/A   49C    P8    30W / 149W |      0MiB / 11441MiB |      0%      Default |\n",
            "|                               |                      |                  N/A |\n",
            "+-------------------------------+----------------------+----------------------+\n",
            "                                                                               \n",
            "+-----------------------------------------------------------------------------+\n",
            "| Processes:                                                                  |\n",
            "|  GPU   GI   CI        PID   Type   Process name                  GPU Memory |\n",
            "|        ID   ID                                                   Usage      |\n",
            "|=============================================================================|\n",
            "|  No running processes found                                                 |\n",
            "+-----------------------------------------------------------------------------+\n",
            "Requirement already satisfied: z3-solver in /usr/local/lib/python3.7/dist-packages (4.8.17.0)\n"
          ]
        }
      ]
    },
    {
      "cell_type": "markdown",
      "source": [
        "# Get Dataset"
      ],
      "metadata": {
        "id": "FO71uVM2tZwz",
        "pycharm": {
          "name": "#%% md\n"
        }
      }
    },
    {
      "cell_type": "markdown",
      "source": [
        "Training and test data must be available to train the ML model. These are downloaded from a public library and extracted via a DataLoader. "
      ],
      "metadata": {
        "id": "AB_4QZ5VgUiw"
      }
    },
    {
      "cell_type": "code",
      "execution_count": null,
      "metadata": {
        "colab": {
          "base_uri": "https://localhost:8080/"
        },
        "id": "rUzWjRQVsplE",
        "outputId": "24a6113e-54b2-49b7-c701-0aa96878a58f",
        "pycharm": {
          "name": "#%%\n"
        }
      },
      "outputs": [
        {
          "output_type": "stream",
          "name": "stdout",
          "text": [
            "Shape of X (data): (150, 4)\n",
            "Shape of y (target): (150,) int64\n",
            "Example of x and y pair: [5.1 3.5 1.4 0.2] 0\n"
          ]
        }
      ],
      "source": [
        "from sklearn.model_selection import train_test_split\n",
        "from sklearn.preprocessing import StandardScaler\n",
        "\n",
        "iris = load_iris()\n",
        "# print(iris_dataset)\n",
        "\n",
        "X = iris['data']\n",
        "y = iris['target']\n",
        "names = iris['target_names']\n",
        "feature_names = iris['feature_names']\n",
        "  \n",
        "print(f\"Shape of X (data): {X.shape}\")\n",
        "print(f\"Shape of y (target): {y.shape} {y.dtype}\")\n",
        "print(f\"Example of x and y pair: {X[0]} {y[0]}\")\n",
        "\n",
        "scaler = StandardScaler()\n",
        "X_scaled = scaler.fit_transform(X)\n",
        "\n",
        "X_train, X_test, y_train, y_test = train_test_split(\n",
        "    X_scaled, y, test_size=0.2, random_state=2)"
      ]
    },
    {
      "cell_type": "markdown",
      "source": [
        "# Visualize"
      ],
      "metadata": {
        "id": "bFFc6c7YheLj"
      }
    },
    {
      "cell_type": "code",
      "source": [
        "import matplotlib.pyplot as plt\n",
        "\n",
        "plt.style.use('ggplot')\n",
        "\n",
        "fig, (ax1, ax2) = plt.subplots(1, 2, figsize=(16, 6))\n",
        "for target, target_name in enumerate(names):\n",
        "    X_plot = X[y == target]\n",
        "    ax1.plot(X_plot[:, 0], X_plot[:, 1], \n",
        "             linestyle='none', \n",
        "             marker='o', \n",
        "             label=target_name)\n",
        "ax1.set_xlabel(feature_names[0])\n",
        "ax1.set_ylabel(feature_names[1])\n",
        "ax1.axis('equal')\n",
        "ax1.legend();\n",
        "\n",
        "for target, target_name in enumerate(names):\n",
        "    X_plot = X[y == target]\n",
        "    ax2.plot(X_plot[:, 2], X_plot[:, 3], \n",
        "             linestyle='none', \n",
        "             marker='o', \n",
        "             label=target_name)\n",
        "ax2.set_xlabel(feature_names[2])\n",
        "ax2.set_ylabel(feature_names[3])\n",
        "ax2.axis('equal')\n",
        "ax2.legend();"
      ],
      "metadata": {
        "colab": {
          "base_uri": "https://localhost:8080/",
          "height": 391
        },
        "id": "qrfkEq_shgv6",
        "outputId": "528a1a43-18a6-46fb-b59c-4aad54b5e47e"
      },
      "execution_count": null,
      "outputs": [
        {
          "output_type": "display_data",
          "data": {
            "text/plain": [
              "<Figure size 1152x432 with 2 Axes>"
            ],
            "image/png": "[encoded data removed]"
          },
          "metadata": {}
        }
      ]
    },
    {
      "cell_type": "markdown",
      "source": [
        "## Create Model\n",
        "\n",
        "The class NeuralNetwork(nn.Module) allows initializing a neural network with different layers. \n",
        "Here, we use a simple network with only two linear layers, because complex networks as complex networks require a high computational effort for verification."
      ],
      "metadata": {
        "id": "t1RHVlUOgcce"
      }
    },
    {
      "cell_type": "code",
      "source": [
        "import torch.nn.functional as F\n",
        "# Get cpu or gpu device for training.\n",
        "device = \"cuda\" if torch.cuda.is_available() else \"cpu\"\n",
        "print(f\"Using {device} device\")\n",
        "\n",
        "# Define model\n",
        "class NeuralNetwork(nn.Module):\n",
        "    def __init__(self):\n",
        "        super(NeuralNetwork, self).__init__()\n",
        "        self.linear_relu_stack = nn.Sequential(\n",
        "            nn.Linear(4, 12),\n",
        "            nn.ReLU(),\n",
        "            nn.Linear(12, 3)\n",
        "        )\n",
        "\n",
        "    def forward(self, x):\n",
        "        logits = self.linear_relu_stack(x)\n",
        "        return logits"
      ],
      "metadata": {
        "id": "-XS6KcOvgkjI"
      },
      "execution_count": null,
      "outputs": []
    },
    {
      "cell_type": "markdown",
      "source": [
        "An instance of the class NeuralNetwork() is then created and trained by using an optimizer and loss function."
      ],
      "metadata": {
        "id": "4DVpoTyqgjHB"
      }
    },
    {
      "cell_type": "code",
      "source": [
        "model = NeuralNetwork()   #.to(device)\n",
        "\n",
        "loss_fn = nn.CrossEntropyLoss()\n",
        "optimizer = torch.optim.Adam(model.parameters(), lr=1e-3)\n",
        "\n",
        "import tqdm\n",
        "from torch.autograd import Variable\n",
        "import numpy as np\n",
        "\n",
        "EPOCHS  = 100\n",
        "X_train_tensor = Variable(torch.from_numpy(X_train)).float()\n",
        "y_train_tensor = Variable(torch.from_numpy(y_train)).long()\n",
        "X_test_tensor  = Variable(torch.from_numpy(X_test)).float()\n",
        "y_test_tensor = Variable(torch.from_numpy(y_test)).long()\n",
        "\n",
        "loss_list     = np.zeros((EPOCHS,))\n",
        "accuracy_list = np.zeros((EPOCHS,))\n",
        "\n",
        "for epoch in tqdm.trange(EPOCHS):\n",
        "    y_pred = model(X_train_tensor)\n",
        "    loss = loss_fn(y_pred, y_train_tensor)\n",
        "    loss_list[epoch] = loss.item()\n",
        "    \n",
        "    # Zero gradients\n",
        "    optimizer.zero_grad()\n",
        "    loss.backward()\n",
        "    optimizer.step()\n",
        "    \n",
        "    with torch.no_grad():\n",
        "        y_pred = model(X_test_tensor)\n",
        "        correct = (torch.argmax(y_pred, dim=1) == y_test_tensor).type(torch.FloatTensor)\n",
        "        accuracy_list[epoch] = correct.mean()\n",
        "\n",
        "print(model)\n",
        "print(accuracy_list)"
      ],
      "metadata": {
        "colab": {
          "base_uri": "https://localhost:8080/"
        },
        "id": "F8Ghv3vGvKFv",
        "outputId": "68a29db2-c062-4cd6-fd00-e8a9aaec5e87",
        "pycharm": {
          "name": "#%%\n"
        }
      },
      "execution_count": null,
      "outputs": [
        {
          "output_type": "stream",
          "name": "stdout",
          "text": [
            "Using cuda device\n"
          ]
        },
        {
          "output_type": "stream",
          "name": "stderr",
          "text": [
            "100%|██████████| 100/100 [00:00<00:00, 527.31it/s]\n"
          ]
        },
        {
          "output_type": "stream",
          "name": "stdout",
          "text": [
            "NeuralNetwork(\n",
            "  (linear_relu_stack): Sequential(\n",
            "    (0): Linear(in_features=4, out_features=12, bias=True)\n",
            "    (1): ReLU()\n",
            "    (2): Linear(in_features=12, out_features=3, bias=True)\n",
            "  )\n",
            ")\n",
            "[0.         0.         0.         0.         0.         0.03333334\n",
            " 0.03333334 0.03333334 0.03333334 0.03333334 0.03333334 0.03333334\n",
            " 0.03333334 0.03333334 0.03333334 0.06666667 0.06666667 0.1\n",
            " 0.1        0.1        0.1        0.13333334 0.16666667 0.23333333\n",
            " 0.23333333 0.23333333 0.30000001 0.30000001 0.36666667 0.36666667\n",
            " 0.46666667 0.53333336 0.53333336 0.53333336 0.53333336 0.63333333\n",
            " 0.63333333 0.63333333 0.69999999 0.76666665 0.76666665 0.76666665\n",
            " 0.76666665 0.76666665 0.76666665 0.76666665 0.76666665 0.76666665\n",
            " 0.76666665 0.76666665 0.80000001 0.83333331 0.83333331 0.83333331\n",
            " 0.86666667 0.86666667 0.86666667 0.86666667 0.86666667 0.86666667\n",
            " 0.86666667 0.89999998 0.89999998 0.89999998 0.89999998 0.89999998\n",
            " 0.89999998 0.89999998 0.89999998 0.89999998 0.89999998 0.89999998\n",
            " 0.89999998 0.89999998 0.89999998 0.89999998 0.89999998 0.89999998\n",
            " 0.89999998 0.89999998 0.89999998 0.89999998 0.89999998 0.89999998\n",
            " 0.89999998 0.89999998 0.89999998 0.89999998 0.89999998 0.89999998\n",
            " 0.89999998 0.89999998 0.89999998 0.89999998 0.89999998 0.89999998\n",
            " 0.89999998 0.89999998 0.89999998 0.89999998]\n"
          ]
        }
      ]
    },
    {
      "cell_type": "markdown",
      "source": [
        "# Create Solver to find Adversarial Examples"
      ],
      "metadata": {
        "id": "Qn24qqA3tiYE",
        "pycharm": {
          "name": "#%% md\n"
        }
      }
    },
    {
      "cell_type": "markdown",
      "source": [
        "The next step will be to create a solver with z3 in order to find Aversarial Examples. \"An adversarial example is an instance with small, intentional feature perturbations that cause a machine learning model to make a false prediction.\" (For more information on adversarial examples see [this article](https://christophm.github.io/interpretable-ml-book/adversarial.html).\n",
        "Z3 is a theorem prover from Microsoft Research (for more information on z3 see [z3 on pypi](https://pypi.org/project/z3-solver/)). \n",
        "\n",
        "We first need to import the numpy and z3 library."
      ],
      "metadata": {
        "id": "Pjikqx_Hg6o2"
      }
    },
    {
      "cell_type": "code",
      "source": [
        "import numpy as np\n",
        "from z3 import *"
      ],
      "metadata": {
        "id": "3R-lntkbg-aA"
      },
      "execution_count": null,
      "outputs": []
    },
    {
      "cell_type": "markdown",
      "source": [
        "The ML model was trained on the MNIST dataset in the previous section.\n",
        "Now the task is to recreate the model using the trained weights and the layers of the model. To do this, the learned weights and biases must first be extracted from the model. This is done by iterating over the layers and saving the weights and biases of the Linear Layers into lists."
      ],
      "metadata": {
        "id": "3ya0UOSGhA43"
      }
    },
    {
      "cell_type": "code",
      "source": [
        "# get weights and biases\n",
        "weights = list()\n",
        "biases = list()\n",
        "\n",
        "for child in model.children():\n",
        "    if isinstance(child, nn.Sequential):\n",
        "        for layer in child.children():\n",
        "            if isinstance(layer, nn.Linear):\n",
        "              weights.append(layer.weight.data)\n",
        "              biases.append(layer.bias.data)"
      ],
      "metadata": {
        "id": "4aQ70HKYhEEX"
      },
      "execution_count": null,
      "outputs": []
    },
    {
      "cell_type": "markdown",
      "source": [
        "To analyze the network with z3 later on, we have to manually define our activation function which in our case is the Relu function as our solver can only deal with (partially) linear activation functions. In the same way the absolute value is defined as a helper function to aid in calculating the distance between 2 vectors when using z3."
      ],
      "metadata": {
        "id": "L0WP9GSyhKL-"
      }
    },
    {
      "cell_type": "code",
      "source": [
        "def Relu(x):\n",
        "    return np.vectorize(lambda y: If(y >= 0 , y, RealVal(0)))(x)\n",
        "\n",
        "\n",
        "def Abs(x):\n",
        "    ret = If(x <= 0, -x, x)\n",
        "    return ret"
      ],
      "metadata": {
        "id": "hrgBiMwChOXy"
      },
      "execution_count": null,
      "outputs": []
    },
    {
      "cell_type": "markdown",
      "source": [
        "In the following function the model is defined. \n",
        "The input x are z3 variables. They iterate through each layer with the previously extracted weights and biases. \n",
        "This results in a z3 formula with the z3 inputs."
      ],
      "metadata": {
        "id": "LAkaqwdqhVOd"
      }
    },
    {
      "cell_type": "code",
      "source": [
        "def net(x):\n",
        "    if len(weights) is not len(biases):\n",
        "        raise RuntimeError(\"List of weights and biases must have same length.\")\n",
        "    num_layers = len(weights)\n",
        "    x1 = x @ np.transpose(weights[0].cpu().detach().numpy()) + biases[0].cpu().detach().numpy()\n",
        "    y1 = Relu(x1)\n",
        "    x2 = y1 @ np.transpose(weights[1].cpu().detach().numpy()) + biases[1].cpu().detach().numpy()\n",
        "    return x2"
      ],
      "metadata": {
        "id": "2amkevaNhajr"
      },
      "execution_count": null,
      "outputs": []
    },
    {
      "cell_type": "markdown",
      "source": [
        "In the next section we search the adversarial example to a sample of the dataset. Therefore a sample runs through the trained model to predict an outcome. \n",
        "The beforehand written function ```net(x)``` gets a manipulated input of the sample. A epsilon is added to every value of the input of the function.\n",
        "To generate a vector epsilon which will constitute our manipulation of the input data with z3 the solver has to be defined first and then the constraints of our vectors as well as the inputs and outputs are added to the solver. The solver then has to check the satisfiability of the given constraints and a model is returned and printed if a vector epsilon which has a taxicab norm smaller than the constant e and changes the category with the highest probability exists."
      ],
      "metadata": {
        "id": "JMnbeZ8PhhPa"
      }
    },
    {
      "cell_type": "code",
      "execution_count": null,
      "outputs": [],
      "source": [
        "def find_adversarial_example(num, s):\n",
        "   # predict outcome of inputs with network\n",
        "    sample = Variable(torch.from_numpy(X_test[num])).float()\n",
        "    y1 =  torch.argmax(model(sample)).tolist()\n",
        "    if (y1 == y_test[num]):\n",
        "      print(\"The ML model predicted the correct flower.\")\n",
        "    else:\n",
        "      print(\"The ML model predicted the wrong flower, for a correct example rerun the script.\")\n",
        "\n",
        "    epsilon = RealVector('epsilon', 4)\n",
        "    # new sample with a little difference e (adversarial example)\n",
        "    new_X = [x + e for (x, e) in zip(sample.cpu().detach().numpy(), epsilon)]\n",
        "    y2_pred = net(new_X)\n",
        "\n",
        "    s.push()\n",
        "    e = 1\n",
        "    s.add(Sum([Abs(a) for a in epsilon]) < e)\n",
        "    # does work :\n",
        "    # s.add(torch.argmax(y1).cpu().detach().numpy() != y2_pred)\n",
        "    s.add(Or(y2_pred[0] > y2_pred[y1], y2_pred[1] > y2_pred[y1], y2_pred[2] > y2_pred[y1]))\n",
        "    res = s.check()\n",
        "    print(res)\n",
        "    if res == sat:\n",
        "        m = s.model()\n",
        "        print(m)\n",
        "    s.pop()\n",
        "\n",
        "\n"
      ],
      "metadata": {
        "pycharm": {
          "name": "#%%\n"
        },
        "id": "JR0iIrYdd9uH"
      }
    },
    {
      "cell_type": "code",
      "source": [
        "for i in range(len(X_test)):\n",
        "  s = Solver()\n",
        "  find_adversarial_example(i, s)"
      ],
      "metadata": {
        "colab": {
          "base_uri": "https://localhost:8080/"
        },
        "id": "Ak4hXgNXcmFa",
        "outputId": "a05a7606-7211-48f8-e046-e0a4fd2407bf"
      },
      "execution_count": null,
      "outputs": [
        {
          "output_type": "stream",
          "name": "stdout",
          "text": [
            "The ML model predicted the correct flower.\n",
            "unsat\n",
            "The ML model predicted the correct flower.\n",
            "unsat\n",
            "The ML model predicted the correct flower.\n",
            "sat\n",
            "[epsilon__0 = 172616485348679837844902620781392844994382335035530543448360938691/14937691951199917571417023207927580249108822043278850000000000000000,\n",
            " epsilon__3 = 172616485348679837844902620781392844994382335035530543448360938691/14937691951199917571417023207927580249108822043278850000000000000000,\n",
            " epsilon__1 = -2525619300569443532343809499480524718913105874040193790522958277243/9336057469499948482135639504954737655693013777049281250000000000000,\n",
            " epsilon__2 = 172616485348679837844902620781392844994382335035530543448360938691/14937691951199917571417023207927580249108822043278850000000000000000]\n",
            "The ML model predicted the correct flower.\n",
            "sat\n",
            "[epsilon__0 = 41211004452497590087872976394637933487412606625079/5224691051235432080096971231112553520000000000000000,\n",
            " epsilon__3 = 41211004452497590087872976394637933487412606625079/5224691051235432080096971231112553520000000000000000,\n",
            " epsilon__1 = -16664584641075369338151317508302968468639011743332591533284137064865954381894888811069/19986616142575636094916930812371644348463083884592927404559515788482600000000000000000,\n",
            " epsilon__2 = 5698167616538652866488680915665300234307356578536529728381259258243450884120248626867/39973232285151272189833861624743288696926167769185854809119031576965200000000000000000]\n",
            "The ML model predicted the correct flower.\n",
            "unsat\n",
            "The ML model predicted the correct flower.\n",
            "sat\n",
            "[epsilon__0 = 1112238833842391318821069395543888085000765598028956053751621852187413935955878379/2967998672834709249631539372042328153598032892491235693999812244200000000000000000,\n",
            " epsilon__2 = -3212014598006459222599687729020386188392008559802730236502580178845211078450288681/5935997345669418499263078744084656307196065784982471387999624488400000000000000000,\n",
            " epsilon__1 = 263060714633246763238735173090261381568840293661533/9378449387628307441371043803083015600000000000000000,\n",
            " epsilon__3 = 263060714633246763238735173090261381568840293661533/9378449387628307441371043803083015600000000000000000]\n",
            "The ML model predicted the correct flower.\n",
            "unknown\n",
            "The ML model predicted the correct flower.\n",
            "sat\n",
            "[epsilon__0 = 4994701716415003064007389220933/206755690975114709500000000000000,\n",
            " epsilon__2 = 4994701716415003064007389220933/206755690975114709500000000000000,\n",
            " epsilon__1 = 4994701716415003064007389220933/206755690975114709500000000000000,\n",
            " epsilon__3 = -46694221027363674310992610779067/51688922743778677375000000000000]\n",
            "The ML model predicted the correct flower.\n",
            "sat\n",
            "[epsilon__0 = 655997070854174879258855776887354244353418519323/208280160050788636157744246694346810000000000000000,\n",
            " epsilon__3 = -51414042941842984160177205896699348255646581480677/52070040012697159039436061673586702500000000000000,\n",
            " epsilon__2 = 655997070854174879258855776887354244353418519323/208280160050788636157744246694346810000000000000000,\n",
            " epsilon__1 = 655997070854174879258855776887354244353418519323/208280160050788636157744246694346810000000000000000]\n",
            "The ML model predicted the correct flower.\n",
            "unknown\n",
            "The ML model predicted the correct flower.\n",
            "unknown\n",
            "The ML model predicted the correct flower.\n",
            "unsat\n",
            "The ML model predicted the correct flower.\n",
            "unsat\n",
            "The ML model predicted the correct flower.\n",
            "unsat\n",
            "The ML model predicted the wrong flower, for a correct example rerun the script.\n",
            "sat\n",
            "[epsilon__0 = 203830199536690516354300764865607828588824111388355064217453375255009160051300598190182217983945079940303267657807534367353372101187743176384462827681141291558612533099/1358630113717690480201709615491638926709623993721909324449897162597522591307809150096554076899626916005848775967363469053195772559740130965385369835245150000000000000000,\n",
            " epsilon__2 = 257596927999022334051241428050722922846862095329463434869031902081242596621048288866719806904985299127904594622626075750501912656380889661020263248350924390770319116113/2717260227435380960403419230983277853419247987443818648899794325195045182615618300193108153799253832011697551934726938106391545119480261930770739670490300000000000000000,\n",
            " epsilon__1 = 294779755498339239247933592139096078503646072190286411849103090252865552352339272112577517496699747/105797255266659502868383054742395158490176996375615061250481816300869568797248029370580000000000000000,\n",
            " epsilon__3 = -1154447138902706827014944680422973491002107636985357488040203860985293609182727636696710846205988669854089651580142829366635569754201636197074053092623636899095234549881/2717260227435380960403419230983277853419247987443818648899794325195045182615618300193108153799253832011697551934726938106391545119480261930770739670490300000000000000000]\n",
            "The ML model predicted the correct flower.\n",
            "sat\n",
            "[epsilon__0 = 581115542671470254904301782517/8846816606819629296875000000000,\n",
            " epsilon__2 = 1630588609033437069314448217483/2211704151704907324218750000000,\n",
            " epsilon__1 = 581115542671470254904301782517/8846816606819629296875000000000,\n",
            " epsilon__3 = 581115542671470254904301782517/8846816606819629296875000000000]\n",
            "The ML model predicted the wrong flower, for a correct example rerun the script.\n",
            "sat\n",
            "[epsilon__0 = 483566243264272124803373259407350730206143068014382684993763884339/21943093637192002182906730981534776071894054332845522500000000000000,\n",
            " epsilon__2 = 199325234528885863254510278985112963123901224489118122186078369366653433518147363926544541584619814761/1809659353090877131176782792800606416041309623835215258676823745608670580158960707145025000000000000000,\n",
            " epsilon__1 = 1490694173151697063459429914392116653202692012254537033915007460156698861292644489204537500074564524109/1809659353090877131176782792800606416041309623835215258676823745608670580158960707145025000000000000000,\n",
            " epsilon__3 = 483566243264272124803373259407350730206143068014382684993763884339/21943093637192002182906730981534776071894054332845522500000000000000]\n",
            "The ML model predicted the correct flower.\n",
            "sat\n",
            "[epsilon__0 = 19614550275285616896680576639099454609289256128084108619826658598207597135150537201/639705728934605159824548915252387101736603988675398364671206329496000000000000000000,\n",
            " epsilon__2 = -322059449241095623390704401483980795071789754103433495681295053048860616661700616487/639705728934605159824548915252387101736603988675398364671206329496000000000000000000,\n",
            " epsilon__1 = 1475985665164283230891732860003435260268063079821350428520703694572542713017919623/3198528644673025799122744576261935508683019943376991823356031647480000000000000000,\n",
            " epsilon__3 = 2839608059258900984187373690542894223051111406447/1281673505839479486906772416259627000000000000000000]\n",
            "The ML model predicted the correct flower.\n",
            "unsat\n",
            "The ML model predicted the correct flower.\n",
            "unsat\n",
            "The ML model predicted the wrong flower, for a correct example rerun the script.\n",
            "sat\n",
            "[epsilon__0 = 8349667793522264298400170943075856524200028431429/693148236413947899491776729337288750000000000000000,\n",
            " epsilon__3 = -297647186278359263100110557337041063190663182466269/346574118206973949745888364668644375000000000000000,\n",
            " epsilon__1 = 8349667793522264298400170943075856524200028431429/693148236413947899491776729337288750000000000000000,\n",
            " epsilon__2 = 2912194419066503215854204073359162161842941990927/27725929456557915979671069173491550000000000000000]\n",
            "The ML model predicted the correct flower.\n",
            "sat\n",
            "[epsilon__0 = -140559087969334280095042689905924520060049673467320752361230033/60844562322185445520872555367679597494794341027570000000000000000,\n",
            " epsilon__2 = 27162040679819617394893558910003178682958254554984295552721098688646148862686872985761929049793550918034357765027/33694324948203639936025591466211482981915022588103846881802221359296186799631284420139617125258898000000000000000,\n",
            " epsilon__1 = 140559087969334280095042689905924520060049673467320752361230033/30422281161092722760436277683839798747397170513785000000000000000,\n",
            " epsilon__3 = 5679212990878359413404524695036927428451579894975876625652876898307621345230565120278905496240505414343578467591/673886498964072798720511829324229659638300451762076937636044427185923735992625688402792342505177960000000000000000]\n",
            "The ML model predicted the correct flower.\n",
            "unsat\n",
            "The ML model predicted the correct flower.\n",
            "sat\n",
            "[epsilon__0 = 34689190129219623731902688775201054569051826485115440070844031660717/187148349485360109519435955996749395649740088349393420000000000000000,\n",
            " epsilon__2 = -497196222472894103324054861750640436314656979735445107301189750507/93574174742680054759717977998374697824870044174696710000000000000000,\n",
            " epsilon__1 = -497196222472894103324054861750640436314656979735445107301189750507/93574174742680054759717977998374697824870044174696710000000000000000,\n",
            " epsilon__3 = 148481589576357332960940828327543217590171006026394419070746450335227/187148349485360109519435955996749395649740088349393420000000000000000]\n",
            "The ML model predicted the correct flower.\n",
            "sat\n",
            "[epsilon__0 = 3994379854471030962886507224331185514360841262409635520071013802861/570819982855813317395314318823138124312056192440755380000000000000000,\n",
            " epsilon__2 = 16228921785012311150716249152949744298706855610886877300481183240956599377696840575034245712381119812623295322308704971/33174078229621212635514758802857796678913557486581327996158341437659207979549783491778711364410722842500000000000000000,\n",
            " epsilon__1 = 122360614277466851089841720032975427261291293610193090390397528656680456188205963283507550961652620399706411972588095609/1194266816266363654878531316902880680440888069516927807861700291755731487263792205704033609118786022330000000000000000000,\n",
            " epsilon__3 = 94190194635679179795607928697238403112612726438367899102444810163263146054781732830360281407570532154781220115369369687/238853363253272730975706263380576136088177613903385561572340058351146297452758441140806721823757204466000000000000000000]\n",
            "The ML model predicted the correct flower.\n",
            "unsat\n",
            "The ML model predicted the correct flower.\n",
            "unsat\n",
            "The ML model predicted the correct flower.\n",
            "sat\n",
            "[epsilon__0 = -1420860305852279963207796235108316117946135978809519534412280161469/3195783417228916352204284222463004172792441903184000000000000000000,\n",
            " epsilon__2 = 79294706564261758503332867494106937478505238559/322547763526475591116244955956062600000000000000000,\n",
            " epsilon__1 = 79294706564261758503332867494106937478505238559/322547763526475591116244955956062600000000000000000,\n",
            " epsilon__3 = -1772566170139082588780931575026410590374753045896302464061536532851/3195783417228916352204284222463004172792441903184000000000000000000]\n",
            "The ML model predicted the correct flower.\n",
            "unsat\n",
            "The ML model predicted the correct flower.\n",
            "sat\n",
            "[epsilon__0 = 1436454756036761748416684212852744165831622423697957041629054124726212899635287448577/20170680510867673392743368992080395267755733328563009362811463575673620000000000000000,\n",
            " epsilon__2 = -7375309172619319350484668382901844806385951856589165450292347216911665129969524162791/8068272204347069357097347596832158107102293331425203745124585430269448000000000000000,\n",
            " epsilon__1 = 22878710851202522190544367592612848722030769233153/4677899287746770415531834266046646760000000000000000,\n",
            " epsilon__3 = 22878710851202522190544367592612848722030769233153/4677899287746770415531834266046646760000000000000000]\n"
          ]
        }
      ]
    }
  ]
}