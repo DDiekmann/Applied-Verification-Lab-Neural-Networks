{
  "nbformat": 4,
  "nbformat_minor": 0,
  "metadata": {
    "colab": {
      "name": "iris.ipynb",
      "provenance": [],
      "collapsed_sections": [],
      "include_colab_link": true
    },
    "kernelspec": {
      "name": "python3",
      "display_name": "Python 3"
    },
    "language_info": {
      "name": "python"
    },
    "accelerator": "GPU"
  },
  "cells": [
    {
      "cell_type": "markdown",
      "metadata": {
        "id": "view-in-github",
        "colab_type": "text"
      },
      "source": [
        "<a href=\"https://colab.research.google.com/github/DDiekmann/Applied-Verification-Lab-Neural-Networks/blob/main/Tutorials/adversarial_example_iris_tutorial.ipynb\" target=\"_parent\"><img src=\"https://colab.research.google.com/assets/colab-badge.svg\" alt=\"Open In Colab\"/></a>"
      ]
    },
    {
      "cell_type": "markdown",
      "source": [
        "# TODO\n",
        "- explanations and documentation\n",
        "- rectangle plot\n",
        "- upper bound for epsilon \n",
        "- Transpose?\n",
        "- second example for fixed_input_y"
      ],
      "metadata": {
        "id": "EANjAB09ya41"
      }
    },
    {
      "cell_type": "markdown",
      "source": [
        "# Neural network verification with z3\n",
        "\n",
        "In this tutorial, the first step is to implement a machine learning model for image recognition using the python library pytorch. In the second step, the model is verified using the SMT solver z3."
      ],
      "metadata": {
        "id": "bvjqBedigGT5"
      }
    },
    {
      "cell_type": "markdown",
      "source": [
        "Using pip, the z3 solver is downloaded and the required parts are imported from pytorch."
      ],
      "metadata": {
        "id": "zLfqLvsfgLB8"
      }
    },
    {
      "cell_type": "code",
      "source": [
        "!nvidia-smi\n",
        "%pip install z3-solver"
      ],
      "metadata": {
        "colab": {
          "base_uri": "https://localhost:8080/"
        },
        "id": "VWF6jABWwH_B",
        "outputId": "a535e535-0c9c-41e4-c224-c4c75fb65f2e",
        "pycharm": {
          "name": "#%%\n"
        }
      },
      "execution_count": 7,
      "outputs": [
        {
          "output_type": "stream",
          "name": "stdout",
          "text": [
            "Wed May 18 11:07:51 2022       \n",
            "+-----------------------------------------------------------------------------+\n",
            "| NVIDIA-SMI 460.32.03    Driver Version: 460.32.03    CUDA Version: 11.2     |\n",
            "|-------------------------------+----------------------+----------------------+\n",
            "| GPU  Name        Persistence-M| Bus-Id        Disp.A | Volatile Uncorr. ECC |\n",
            "| Fan  Temp  Perf  Pwr:Usage/Cap|         Memory-Usage | GPU-Util  Compute M. |\n",
            "|                               |                      |               MIG M. |\n",
            "|===============================+======================+======================|\n",
            "|   0  Tesla K80           Off  | 00000000:00:04.0 Off |                    0 |\n",
            "| N/A   35C    P8    26W / 149W |      3MiB / 11441MiB |      0%      Default |\n",
            "|                               |                      |                  N/A |\n",
            "+-------------------------------+----------------------+----------------------+\n",
            "                                                                               \n",
            "+-----------------------------------------------------------------------------+\n",
            "| Processes:                                                                  |\n",
            "|  GPU   GI   CI        PID   Type   Process name                  GPU Memory |\n",
            "|        ID   ID                                                   Usage      |\n",
            "|=============================================================================|\n",
            "|  No running processes found                                                 |\n",
            "+-----------------------------------------------------------------------------+\n",
            "Requirement already satisfied: z3-solver in /usr/local/lib/python3.7/dist-packages (4.8.17.0)\n"
          ]
        }
      ]
    },
    {
      "cell_type": "code",
      "source": [
        "# imports for torch\n",
        "import torch\n",
        "from torch import nn\n",
        "from torch.autograd import Variable\n",
        "\n",
        "# imports for sklearn\n",
        "from sklearn.datasets import load_iris\n",
        "from sklearn.model_selection import train_test_split\n",
        "from sklearn.preprocessing import StandardScaler\n",
        "\n",
        "# import for progress bar\n",
        "import tqdm\n",
        "\n",
        "# numpy\n",
        "import numpy as np\n",
        "\n",
        "# for plots\n",
        "import matplotlib.pyplot as plt\n",
        "\n",
        "# for measuring runtime\n",
        "import time"
      ],
      "metadata": {
        "id": "aCsqsBSE2mY3"
      },
      "execution_count": 46,
      "outputs": []
    },
    {
      "cell_type": "markdown",
      "source": [
        "## Get Dataset"
      ],
      "metadata": {
        "id": "FO71uVM2tZwz",
        "pycharm": {
          "name": "#%% md\n"
        }
      }
    },
    {
      "cell_type": "markdown",
      "source": [
        "Training and test data must be available to train the ML model. These are downloaded from a public library and extracted via a DataLoader. "
      ],
      "metadata": {
        "id": "AB_4QZ5VgUiw"
      }
    },
    {
      "cell_type": "code",
      "execution_count": 4,
      "metadata": {
        "colab": {
          "base_uri": "https://localhost:8080/"
        },
        "id": "rUzWjRQVsplE",
        "outputId": "5c771bb0-3415-40d1-b1ef-c0f3d21fbdcd",
        "pycharm": {
          "name": "#%%\n"
        }
      },
      "outputs": [
        {
          "output_type": "stream",
          "name": "stdout",
          "text": [
            "Shape of X (data): (150, 4)\n",
            "Shape of y (target): (150,) int64\n",
            "Example of x and y pair: [5.1 3.5 1.4 0.2] 0\n"
          ]
        }
      ],
      "source": [
        "\n",
        "\n",
        "iris = load_iris()\n",
        "# print(iris_dataset)\n",
        "\n",
        "X = iris['data']\n",
        "y = iris['target']\n",
        "names = iris['target_names']\n",
        "feature_names = iris['feature_names']\n",
        "  \n",
        "print(f\"Shape of X (data): {X.shape}\")\n",
        "print(f\"Shape of y (target): {y.shape} {y.dtype}\")\n",
        "print(f\"Example of x and y pair: {X[0]} {y[0]}\")\n",
        "\n",
        "# Scale data to have mean 0 and variance 1 \n",
        "scaler = StandardScaler()\n",
        "X_scaled = scaler.fit_transform(X)\n",
        "\n",
        "# Split the data set into training and testing\n",
        "X_train, X_test, y_train, y_test = train_test_split(\n",
        "    X_scaled, y, test_size=0.2, random_state=2)\n",
        "\n",
        "print(\"Shape of training set X\", X_train.shape)\n",
        "print(\"Shape of test set X\", X_test.shape)"
      ]
    },
    {
      "cell_type": "markdown",
      "source": [
        "## Visualize"
      ],
      "metadata": {
        "id": "bFFc6c7YheLj"
      }
    },
    {
      "cell_type": "code",
      "source": [
        "plt.style.use('ggplot')\n",
        "\n",
        "def show_plots(X, y, fixed_input_y = None, epsilon = None):\n",
        "  fig, (ax1, ax2) = plt.subplots(1, 2, figsize=(16, 6))\n",
        "  for target, target_name in enumerate(names):\n",
        "      X_plot = X[y == target]\n",
        "      ax1.plot(X_plot[:, 0], X_plot[:, 1], \n",
        "              linestyle='none', \n",
        "              marker='o', \n",
        "              label=target_name)\n",
        "  ax1.set_xlabel(feature_names[0])\n",
        "  ax1.set_ylabel(feature_names[1])\n",
        "  ax1.axis('equal')\n",
        "  ax1.legend()\n",
        "\n",
        "  for target, target_name in enumerate(names):\n",
        "      X_plot = X[y == target]\n",
        "      ax2.plot(X_plot[:, 2], X_plot[:, 3], \n",
        "              linestyle='none', \n",
        "              marker='o', \n",
        "              label=target_name)\n",
        "  ax2.set_xlabel(feature_names[2])\n",
        "  ax2.set_ylabel(feature_names[3])\n",
        "  ax2.axis('equal')\n",
        "  ax2.legend()\n",
        "\n",
        "  if fixed_input_y is not None and epsilon is not None:\n",
        "    # TODO add rectangle (l infinitiy norm) +-epsilon\n",
        "    circle = plt.Circle((X[0][0], X[0][1]), 0.2, color='r', fill=False)\n",
        "    ax1.set_aspect(\"equal\", adjustable=\"datalim\")\n",
        "    ax1.add_patch(circle)\n",
        "\n",
        "    circle = plt.Circle((X[0][2], X[0][3]), 0.2, color='r', fill=False)\n",
        "    ax2.set_aspect(\"equal\", adjustable=\"datalim\")\n",
        "    ax2.add_patch(circle)"
      ],
      "metadata": {
        "id": "qrfkEq_shgv6"
      },
      "execution_count": 45,
      "outputs": []
    },
    {
      "cell_type": "code",
      "source": [
        "show_plots(X, y)"
      ],
      "metadata": {
        "id": "OOxEBcN3z2kF",
        "outputId": "8e163e70-0b94-4c0a-aab1-b607cdd0abb7",
        "colab": {
          "base_uri": "https://localhost:8080/",
          "height": 391
        }
      },
      "execution_count": 5,
      "outputs": [
        {
          "output_type": "display_data",
          "data": {
            "text/plain": [
              "<Figure size 1152x432 with 2 Axes>"
            ],
            "image/png": "[encoded data removed]"
          },
          "metadata": {}
        }
      ]
    },
    {
      "cell_type": "markdown",
      "source": [
        "## Create Model\n",
        "\n",
        "The class NeuralNetwork(nn.Module) allows initializing a neural network with different layers. \n",
        "Here, we use a simple network with only two linear layers, because complex networks as complex networks require a high computational effort for verification."
      ],
      "metadata": {
        "id": "t1RHVlUOgcce"
      }
    },
    {
      "cell_type": "code",
      "source": [
        "import torch.nn.functional as F\n",
        "# Get cpu or gpu device for training.\n",
        "device = \"cuda\" if torch.cuda.is_available() else \"cpu\"\n",
        "print(f\"Using {device} device\")\n",
        "\n",
        "# Define model\n",
        "class NeuralNetwork(nn.Module):\n",
        "    def __init__(self, input_dim, output_dim, number_of_neurons):\n",
        "        super(NeuralNetwork, self).__init__()\n",
        "        self.linear_relu_stack = nn.Sequential(\n",
        "            nn.Linear(input_dim, number_of_neurons),\n",
        "            nn.ReLU(),\n",
        "            nn.Linear(number_of_neurons, number_of_neurons),\n",
        "            nn.ReLU(),\n",
        "            nn.Linear(number_of_neurons, output_dim),\n",
        "        )\n",
        "\n",
        "    def forward(self, x):\n",
        "        logits = self.linear_relu_stack(x)\n",
        "        return logits"
      ],
      "metadata": {
        "id": "-XS6KcOvgkjI",
        "outputId": "7ea63c0b-b581-415f-9ce5-dd404703c5e3",
        "colab": {
          "base_uri": "https://localhost:8080/"
        }
      },
      "execution_count": 10,
      "outputs": [
        {
          "output_type": "stream",
          "name": "stdout",
          "text": [
            "Using cuda device\n"
          ]
        }
      ]
    },
    {
      "cell_type": "markdown",
      "source": [
        "## Train model"
      ],
      "metadata": {
        "id": "-_0_55YG73tT"
      }
    },
    {
      "cell_type": "markdown",
      "source": [
        "An instance of the class NeuralNetwork() is then created and trained by using an optimizer and loss function."
      ],
      "metadata": {
        "id": "4DVpoTyqgjHB"
      }
    },
    {
      "cell_type": "code",
      "source": [
        "def train(X, y, model, loss_fn, optimizer):\n",
        "    model.train()\n",
        "    \n",
        "    # convert numpy array to pytorch tensor\n",
        "    X = Variable(torch.from_numpy(X)).float()\n",
        "    y = Variable(torch.from_numpy(y)).long()\n",
        "    X = X.to(device)\n",
        "    y = y.to(device)\n",
        "\n",
        "    # Compute prediction error\n",
        "    pred = model(X)\n",
        "    loss = loss_fn(pred, y)\n",
        "\n",
        "    # Backpropagation\n",
        "    optimizer.zero_grad()\n",
        "    loss.backward()\n",
        "    optimizer.step()\n",
        "\n",
        "    loss = loss.item()\n",
        "    return loss\n",
        "\n",
        "def predict(X, model):\n",
        "    model.eval()\n",
        "    with torch.no_grad():\n",
        "        X = Variable(torch.from_numpy(X)).float()\n",
        "        X = X.to(device)\n",
        "        pred = model(X)\n",
        "        pred = pred.argmax(1)\n",
        "        pred = pred.cpu().detach().numpy()\n",
        "    return pred\n",
        "\n",
        "def test(X, y, model, loss_fn):\n",
        "    model.eval()\n",
        "    test_loss, correct = 0, 0\n",
        "    with torch.no_grad():\n",
        "        X = Variable(torch.from_numpy(X)).float()\n",
        "        y = Variable(torch.from_numpy(y)).long()\n",
        "        X = X.to(device)\n",
        "        y = y.to(device)\n",
        "        pred = model(X)\n",
        "        test_loss += loss_fn(pred, y).item()\n",
        "        correct += (pred.argmax(1) == y).type(torch.float).sum().item()\n",
        "    correct /= X.shape[0]\n",
        "    return correct, test_loss"
      ],
      "metadata": {
        "id": "HiTu5K_Z0zU4"
      },
      "execution_count": 11,
      "outputs": []
    },
    {
      "cell_type": "code",
      "source": [
        "def train_model(model, epochs):\n",
        "  loss_fn = nn.CrossEntropyLoss()\n",
        "  optimizer = torch.optim.Adam(model.parameters(), lr=1e-3)\n",
        "\n",
        "\n",
        "  loss_list     = np.zeros((epochs,))\n",
        "  accuracy_list = np.zeros((epochs,))\n",
        "\n",
        "  for epoch in tqdm.trange(epochs):\n",
        "    loss_list[epoch] = train(X_train, y_train, model, loss_fn, optimizer)\n",
        "    correct, test_loss = test(X_test, y_test, model, loss_fn)\n",
        "    accuracy_list[epoch] = correct\n",
        "  \n",
        "  print()\n",
        "  print(\"Done. Accuracy:\", accuracy_list[-1])"
      ],
      "metadata": {
        "id": "se6iQ-3m05bp"
      },
      "execution_count": 29,
      "outputs": []
    },
    {
      "cell_type": "code",
      "source": [
        "torch.manual_seed(42)\n",
        "\n",
        "model = NeuralNetwork(input_dim=X_train.shape[1], output_dim=3, number_of_neurons=20).to(device)\n",
        "print(model)\n",
        "\n",
        "train_model(model, epochs=100)"
      ],
      "metadata": {
        "id": "6J812JwE09Zg",
        "outputId": "92c2e93e-f374-4db6-957d-9e10bfefed5b",
        "colab": {
          "base_uri": "https://localhost:8080/"
        }
      },
      "execution_count": 30,
      "outputs": [
        {
          "output_type": "stream",
          "name": "stdout",
          "text": [
            "NeuralNetwork(\n",
            "  (linear_relu_stack): Sequential(\n",
            "    (0): Linear(in_features=4, out_features=20, bias=True)\n",
            "    (1): ReLU()\n",
            "    (2): Linear(in_features=20, out_features=20, bias=True)\n",
            "    (3): ReLU()\n",
            "    (4): Linear(in_features=20, out_features=3, bias=True)\n",
            "  )\n",
            ")\n"
          ]
        },
        {
          "output_type": "stream",
          "name": "stderr",
          "text": [
            "100%|██████████| 100/100 [00:00<00:00, 179.46it/s]"
          ]
        },
        {
          "output_type": "stream",
          "name": "stdout",
          "text": [
            "\n",
            "Done. Accuracy: 0.9\n"
          ]
        },
        {
          "output_type": "stream",
          "name": "stderr",
          "text": [
            "\n"
          ]
        }
      ]
    },
    {
      "cell_type": "code",
      "source": [
        "show_plots(X, y)\n",
        "show_plots(X, predict(X, model))"
      ],
      "metadata": {
        "id": "ZIS92z7j4LaU",
        "outputId": "41dbef5d-d957-459e-b5da-ae168dc36e08",
        "colab": {
          "base_uri": "https://localhost:8080/",
          "height": 765
        }
      },
      "execution_count": 32,
      "outputs": [
        {
          "output_type": "display_data",
          "data": {
            "text/plain": [
              "<Figure size 1152x432 with 2 Axes>"
            ],
            "image/png": "[encoded data removed]"
          },
          "metadata": {}
        },
        {
          "output_type": "display_data",
          "data": {
            "text/plain": [
              "<Figure size 1152x432 with 2 Axes>"
            ],
            "image/png": "[encoded data removed]"
          },
          "metadata": {}
        }
      ]
    },
    {
      "cell_type": "markdown",
      "source": [
        "## Verification of a neural network using Z3"
      ],
      "metadata": {
        "id": "Qn24qqA3tiYE",
        "pycharm": {
          "name": "#%% md\n"
        }
      }
    },
    {
      "cell_type": "markdown",
      "source": [
        "The next step will be to create a solver with z3 in order to find Aversarial Examples. \"An adversarial example is an instance with small, intentional feature perturbations that cause a machine learning model to make a false prediction.\" (For more information on adversarial examples see [this article](https://christophm.github.io/interpretable-ml-book/adversarial.html).\n",
        "Z3 is a theorem prover from Microsoft Research (for more information on z3 see [z3 on pypi](https://pypi.org/project/z3-solver/)). \n",
        "\n",
        "We first need to import the numpy and z3 library."
      ],
      "metadata": {
        "id": "Pjikqx_Hg6o2"
      }
    },
    {
      "cell_type": "code",
      "source": [
        "import numpy as np\n",
        "from z3 import *"
      ],
      "metadata": {
        "id": "3R-lntkbg-aA"
      },
      "execution_count": 35,
      "outputs": []
    },
    {
      "cell_type": "markdown",
      "source": [
        "The ML model was trained on the MNIST dataset in the previous section.\n",
        "Now the task is to recreate the model using the trained weights and the layers of the model. To do this, the learned weights and biases must first be extracted from the model. This is done by iterating over the layers and saving the weights and biases of the Linear Layers into lists."
      ],
      "metadata": {
        "id": "3ya0UOSGhA43"
      }
    },
    {
      "cell_type": "code",
      "source": [
        "def get_weights_and_biases_pytorch(model):\n",
        "  weights_and_biases = [param.cpu().detach().numpy() for param in model.parameters()]\n",
        "  weights = weights_and_biases[0::2]\n",
        "  biases = weights_and_biases[1::2]\n",
        "  return weights, biases\n",
        "\n",
        "\n",
        "weights, biases = get_weights_and_biases_pytorch(model)"
      ],
      "metadata": {
        "id": "fqsUPwfb4kLd"
      },
      "execution_count": 36,
      "outputs": []
    },
    {
      "cell_type": "markdown",
      "source": [
        "To analyze the network with z3 later on, we have to manually define our activation function which in our case is the Relu function as our solver can only deal with (partially) linear activation functions. In the same way the absolute value is defined as a helper function to aid in calculating the distance between 2 vectors when using z3."
      ],
      "metadata": {
        "id": "L0WP9GSyhKL-"
      }
    },
    {
      "cell_type": "code",
      "source": [
        "def Relu(x):\n",
        "    return np.vectorize(lambda y: If(y >= 0 , y, RealVal(0)))(x)\n",
        "\n",
        "\n",
        "def Abs(x):\n",
        "    ret = If(x <= 0, -x, x)\n",
        "    return ret"
      ],
      "metadata": {
        "id": "hrgBiMwChOXy"
      },
      "execution_count": 37,
      "outputs": []
    },
    {
      "cell_type": "markdown",
      "source": [
        "In the following function the model is defined. \n",
        "The input x are z3 variables. They iterate through each layer with the previously extracted weights and biases. \n",
        "This results in a z3 formula with the z3 inputs."
      ],
      "metadata": {
        "id": "LAkaqwdqhVOd"
      }
    },
    {
      "cell_type": "markdown",
      "source": [
        "TODO: check transpose\n",
        "\n",
        "x @ np.transpose(weights) ???"
      ],
      "metadata": {
        "id": "t-ybbWSZ6xJv"
      }
    },
    {
      "cell_type": "code",
      "source": [
        "def net(x, weights, biases):\n",
        "  output = x\n",
        "\n",
        "  for i, (weight, bias) in enumerate(zip(weights, biases)):\n",
        "    output = weight @ output + bias\n",
        "    # apply relu except in last layer\n",
        "    if i != len(weights) - 1:\n",
        "      output = Relu(output)\n",
        "  return output"
      ],
      "metadata": {
        "id": "qE5iTY365wnn"
      },
      "execution_count": 39,
      "outputs": []
    },
    {
      "cell_type": "markdown",
      "source": [
        "In the next section we search the adversarial example to a sample of the dataset. Therefore a sample runs through the trained model to predict an outcome. \n",
        "The beforehand written function ```net(x)``` gets a manipulated input of the sample. A epsilon is added to every value of the input of the function.\n",
        "To generate a vector epsilon which will constitute our manipulation of the input data with z3 the solver has to be defined first and then the constraints of our vectors as well as the inputs and outputs are added to the solver. The solver then has to check the satisfiability of the given constraints and a model is returned and printed if a vector epsilon which has a taxicab norm smaller than the constant e and changes the category with the highest probability exists."
      ],
      "metadata": {
        "id": "JMnbeZ8PhhPa"
      }
    },
    {
      "cell_type": "markdown",
      "source": [
        "## Robustness verification"
      ],
      "metadata": {
        "id": "GacyP55L8QpC"
      }
    },
    {
      "cell_type": "markdown",
      "source": [
        "Adversarial robustness with fixed input $\\vec{y} ∈ R^m $, L∞-distance, 𝑉_𝑖={𝜈_1, …, 𝜈_𝑚 }, and 𝑉_𝑜={𝜈_1^′, …, 𝜈_𝑛^′ }:\n",
        "\n",
        "verification condition: $ \\psi≔(φ_{pre} ∧ φ_{assign}) ⇒ φ_{post} $\n",
        "\n",
        "precondition: $ \\varphi_{pre} ≔ ⋀_{i=1}^n ((x_{v_i} - y_i ≤ ε) ∧ (y_i - x_{v_i} ≤ ε)) $\n",
        "\n",
        "assign: $ \\varphi_{assign} ≔ φ^N $\n",
        "\n",
        "post condition: $ \\varphi_{post} ≔ ⋀_{i=1}^m x_{v'_i} ≤ x_{v'_l} $ for $ \\ell = \\arg\\max f_N(\\vec{y}) $\n",
        "\n",
        "\n",
        "proving robustness means proving the verification condition"
      ],
      "metadata": {
        "id": "NjswTTcO9aYc"
      }
    },
    {
      "cell_type": "code",
      "source": [
        "def verify(fixed_input_y, fixed_input_y_class, epsilon, weights, biases):\n",
        "  \"\"\"assumption: the model to verify has only fully connected layers with bias in every layer and relu between them\"\"\"\n",
        "  input_size = fixed_input_y.shape[0]\n",
        "  x = RealVector(\"x\", input_size)\n",
        "\n",
        "  # pre-condition\n",
        "  # basically L_infinity-distance in boolean speak\n",
        "  and_parts = []\n",
        "  for i, x_vi in enumerate(x):\n",
        "    and_parts.append(And((x_vi - fixed_input_y[i]) <= epsilon, (fixed_input_y[i] - x_vi) <= epsilon))\n",
        "  pre_cond = And(and_parts)\n",
        "\n",
        "  # post-condition\n",
        "  # x_vo = x_v'\n",
        "  output = net(x, weights, biases)\n",
        "  and_parts = []\n",
        "  for i, x_vo in enumerate(output):\n",
        "    and_parts.append(x_vo <= output[fixed_input_y_class])\n",
        "  post_cond = And(and_parts)\n",
        "\n",
        "  verification_cond = Implies(pre_cond, post_cond)\n",
        "\n",
        "  print(\"Pre condition: \")\n",
        "  print(pre_cond)\n",
        "  print(\"Post condition: \")\n",
        "  print(post_cond)\n",
        "  print(\"--------------\")\n",
        "\n",
        "  prove(verification_cond)"
      ],
      "metadata": {
        "id": "gBY3e2Kw7Uq2"
      },
      "execution_count": 41,
      "outputs": []
    },
    {
      "cell_type": "markdown",
      "source": [
        "TODO add second fixed input example"
      ],
      "metadata": {
        "id": "1qLUFDtw8Uuk"
      }
    },
    {
      "cell_type": "code",
      "source": [
        "fixed_input_y = X[0]\n",
        "fixed_input_y_class = y[0]\n",
        "epsilon = 0.5"
      ],
      "metadata": {
        "id": "toXBusE57iQo"
      },
      "execution_count": 42,
      "outputs": []
    },
    {
      "cell_type": "code",
      "source": [
        "start_time = time.time()\n",
        "verify(fixed_input_y, fixed_input_y_class, epsilon, weights, biases)\n",
        "print(f\"{((time.time() - start_time)/60):.2f} minutes\")"
      ],
      "metadata": {
        "id": "A0Uzopda7ZUh"
      },
      "execution_count": null,
      "outputs": []
    },
    {
      "cell_type": "markdown",
      "source": [
        "## Prediction plots with epsilon"
      ],
      "metadata": {
        "id": "p8xujoQA8Ys7"
      }
    },
    {
      "cell_type": "code",
      "source": [
        "show_plots(X, predict(X, model), fixed_input_y, epsilon)"
      ],
      "metadata": {
        "id": "F9qPlsh77d6r",
        "outputId": "b778eb79-9aa9-4365-818d-a167e09b2f61",
        "colab": {
          "base_uri": "https://localhost:8080/",
          "height": 391
        }
      },
      "execution_count": 44,
      "outputs": [
        {
          "output_type": "display_data",
          "data": {
            "text/plain": [
              "<Figure size 1152x432 with 2 Axes>"
            ],
            "image/png": "[encoded data removed]"
          },
          "metadata": {}
        }
      ]
    },
    {
      "cell_type": "code",
      "source": [
        ""
      ],
      "metadata": {
        "id": "bIYvrjk37kNW"
      },
      "execution_count": null,
      "outputs": []
    },
    {
      "cell_type": "markdown",
      "source": [
        "## Task: find largest epsilon for robustness with binary search\n",
        "with a certain accuracy\n",
        "\n",
        "TODO"
      ],
      "metadata": {
        "id": "11VVB4Uj8p13"
      }
    },
    {
      "cell_type": "code",
      "source": [
        ""
      ],
      "metadata": {
        "id": "GyRTysoE83UV"
      },
      "execution_count": null,
      "outputs": []
    },
    {
      "cell_type": "markdown",
      "source": [
        "## Appendix"
      ],
      "metadata": {
        "id": "j6ftZQcs9Sea"
      }
    },
    {
      "cell_type": "markdown",
      "source": [
        "### Verify with each neuron encoded seperately"
      ],
      "metadata": {
        "id": "f1bdvZ3w9UWX"
      }
    },
    {
      "cell_type": "code",
      "source": [
        "def ReluSingleNeuron(x):\n",
        "  return If(x >= 0, x, RealVal(0))\n",
        "\n",
        "def verify_each_neuron(fixed_input_y, fixed_input_y_class, epsilon, weights, biases):\n",
        "  # Unpack weights of the trained model\n",
        "  input_size = fixed_input_y.shape[0]\n",
        "  neurons = []\n",
        "  x = RealVector(\"x\", input_size)\n",
        "  output  = [RealVector(f\"x{i}\", weight.shape[0]) for i, weight in enumerate(weights)]\n",
        "\n",
        "  # pre-condition\n",
        "  # basically L_infinity-distance in boolean speak\n",
        "  and_parts = []\n",
        "  for i, x_vi in enumerate(x):\n",
        "    and_parts.append(And((x_vi - fixed_input_y[i]) <= epsilon, (fixed_input_y[i] - x_vi) <= epsilon))\n",
        "  pre_cond = And(and_parts)\n",
        "  #print(pre_cond)\n",
        "\n",
        "  # assign\n",
        "  and_parts = []\n",
        "  # for each layer\n",
        "  for layer_i, (layer_output, layer_weights, layer_biases) in enumerate(zip(output, weights, biases)):\n",
        "    # for each neuron\n",
        "    for neuron_output, neuron_weights, neuron_bias in zip(layer_output, layer_weights, layer_biases):\n",
        "      if layer_i == 0:\n",
        "        # neuron input is net input\n",
        "        neuron_inputs = x\n",
        "      else:\n",
        "        # neuron input is output of previous layer\n",
        "        neuron_inputs = output[layer_i - 1]\n",
        "      and_parts.append(neuron_output == ReluSingleNeuron(neuron_weights @ neuron_inputs + neuron_bias))\n",
        "  assign = And(and_parts)\n",
        "\n",
        "  # post-condition\n",
        "  # x_vo = x_v'\n",
        "  and_parts = []\n",
        "  for i, x_vo in enumerate(output[-1]):\n",
        "    # l is the argmax of fixed_input_y\n",
        "    and_parts.append(x_vo <= output[-1][fixed_input_y_class])\n",
        "  post_cond = And(and_parts)\n",
        "\n",
        "  # verification conditions\n",
        "  verification_cond = Implies(And(pre_cond, assign), post_cond)\n",
        "\n",
        "  # prove using Z3\n",
        "  prove(verification_cond)"
      ],
      "metadata": {
        "id": "gjo9A2oZ9T0R"
      },
      "execution_count": null,
      "outputs": []
    },
    {
      "cell_type": "code",
      "source": [
        "start_time = time.time()\n",
        "verify_each_neuron(fixed_input_y, fixed_input_y_class, epsilon, weights, biases)\n",
        "print(f\"{((time.time() - start_time)/60):.2f} minutes\")"
      ],
      "metadata": {
        "id": "-skIa28D916V"
      },
      "execution_count": null,
      "outputs": []
    },
    {
      "cell_type": "markdown",
      "source": [
        "### Another approach: Create Solver to find Adversarial Examples"
      ],
      "metadata": {
        "id": "xx60TlqD-UUT"
      }
    },
    {
      "cell_type": "code",
      "execution_count": null,
      "outputs": [],
      "source": [
        "def find_adversarial_example(num, s):\n",
        "   # predict outcome of inputs with network\n",
        "    sample = Variable(torch.from_numpy(X_test[num])).float()\n",
        "    y1 =  torch.argmax(model(sample)).tolist()\n",
        "    if (y1 == y_test[num]):\n",
        "      print(\"The ML model predicted the correct flower.\")\n",
        "    else:\n",
        "      print(\"The ML model predicted the wrong flower, for a correct example rerun the script.\")\n",
        "\n",
        "    epsilon = RealVector('epsilon', 4)\n",
        "    # new sample with a little difference e (adversarial example)\n",
        "    new_X = [x + e for (x, e) in zip(sample.cpu().detach().numpy(), epsilon)]\n",
        "    y2_pred = net(new_X)\n",
        "\n",
        "    s.push()\n",
        "    e = 1\n",
        "    s.add(Sum([Abs(a) for a in epsilon]) < e)\n",
        "    # does work :\n",
        "    # s.add(torch.argmax(y1).cpu().detach().numpy() != y2_pred)\n",
        "    s.add(Or(y2_pred[0] > y2_pred[y1], y2_pred[1] > y2_pred[y1], y2_pred[2] > y2_pred[y1]))\n",
        "    res = s.check()\n",
        "    print(res)\n",
        "    if res == sat:\n",
        "        m = s.model()\n",
        "        print(m)\n",
        "    s.pop()"
      ],
      "metadata": {
        "pycharm": {
          "name": "#%%\n"
        },
        "id": "JR0iIrYdd9uH"
      }
    },
    {
      "cell_type": "code",
      "source": [
        "for i in range(len(X_test)):\n",
        "  s = Solver()\n",
        "  find_adversarial_example(i, s)"
      ],
      "metadata": {
        "id": "Ak4hXgNXcmFa"
      },
      "execution_count": null,
      "outputs": []
    }
  ]
}