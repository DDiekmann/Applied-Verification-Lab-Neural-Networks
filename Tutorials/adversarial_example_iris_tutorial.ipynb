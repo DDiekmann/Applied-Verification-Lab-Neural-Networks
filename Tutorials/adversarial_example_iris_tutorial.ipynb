{
  "cells": [
    {
      "cell_type": "markdown",
      "metadata": {
        "id": "view-in-github",
        "colab_type": "text"
      },
      "source": [
        "<a href=\"https://colab.research.google.com/github/DDiekmann/Applied-Verification-Lab-Neural-Networks/blob/main/Tutorials/adversarial_example_iris_tutorial.ipynb\" target=\"_parent\"><img src=\"https://colab.research.google.com/assets/colab-badge.svg\" alt=\"Open In Colab\"/></a>"
      ]
    },
    {
      "cell_type": "markdown",
      "metadata": {
        "id": "EANjAB09ya41"
      },
      "source": [
        "# TODO\n",
        "- explanations and documentation (mostly done)\n",
        "- rectangle plot (done)\n",
        "- upper bound for epsilon \n",
        "- Transpose? (done)\n",
        "- second example for fixed_input_y (done)\n",
        "- fix error in method find_adversarial_example()"
      ]
    },
    {
      "cell_type": "markdown",
      "metadata": {
        "id": "bvjqBedigGT5"
      },
      "source": [
        "# Neural network verification with z3\n",
        "\n",
        "In this tutorial, the first step is to implement a machine learning model for image recognition using the python library pytorch. In the second step, the model is verified using the SMT solver z3."
      ]
    },
    {
      "cell_type": "markdown",
      "metadata": {
        "id": "zLfqLvsfgLB8"
      },
      "source": [
        "Using pip, the z3 solver is downloaded and the required parts are imported from pytorch."
      ]
    },
    {
      "cell_type": "code",
      "execution_count": null,
      "metadata": {
        "colab": {
          "base_uri": "https://localhost:8080/"
        },
        "id": "VWF6jABWwH_B",
        "outputId": "fd447faf-9584-4084-cb7a-aaadd87c5f9d",
        "pycharm": {
          "name": "#%%\n"
        }
      },
      "outputs": [
        {
          "output_type": "stream",
          "name": "stdout",
          "text": [
            "Wed May 25 08:26:08 2022       \n",
            "+-----------------------------------------------------------------------------+\n",
            "| NVIDIA-SMI 460.32.03    Driver Version: 460.32.03    CUDA Version: 11.2     |\n",
            "|-------------------------------+----------------------+----------------------+\n",
            "| GPU  Name        Persistence-M| Bus-Id        Disp.A | Volatile Uncorr. ECC |\n",
            "| Fan  Temp  Perf  Pwr:Usage/Cap|         Memory-Usage | GPU-Util  Compute M. |\n",
            "|                               |                      |               MIG M. |\n",
            "|===============================+======================+======================|\n",
            "|   0  Tesla K80           Off  | 00000000:00:04.0 Off |                    0 |\n",
            "| N/A   33C    P8    27W / 149W |      0MiB / 11441MiB |      0%      Default |\n",
            "|                               |                      |                  N/A |\n",
            "+-------------------------------+----------------------+----------------------+\n",
            "                                                                               \n",
            "+-----------------------------------------------------------------------------+\n",
            "| Processes:                                                                  |\n",
            "|  GPU   GI   CI        PID   Type   Process name                  GPU Memory |\n",
            "|        ID   ID                                                   Usage      |\n",
            "|=============================================================================|\n",
            "|  No running processes found                                                 |\n",
            "+-----------------------------------------------------------------------------+\n",
            "Looking in indexes: https://pypi.org/simple, https://us-python.pkg.dev/colab-wheels/public/simple/\n",
            "Collecting z3-solver\n",
            "  Downloading z3_solver-4.8.17.0-py2.py3-none-manylinux1_x86_64.whl (54.5 MB)\n",
            "\u001b[K     |████████████████████████████████| 54.5 MB 85 kB/s \n",
            "\u001b[?25hInstalling collected packages: z3-solver\n",
            "Successfully installed z3-solver-4.8.17.0\n"
          ]
        }
      ],
      "source": [
        "!nvidia-smi\n",
        "%pip install z3-solver"
      ]
    },
    {
      "cell_type": "markdown",
      "metadata": {
        "id": "YMauJvpWLJtD"
      },
      "source": [
        "To carry out the individual steps, some Python libraries are imported. \\\\\n",
        "Pytorch is a machine learning framework. For further information on pytorch see [their website](https://pytorch.org/)."
      ]
    },
    {
      "cell_type": "code",
      "execution_count": null,
      "metadata": {
        "id": "INBFX6hvLyxu"
      },
      "outputs": [],
      "source": [
        "# imports for torch\n",
        "import torch\n",
        "from torch import nn\n",
        "from torch.autograd import Variable"
      ]
    },
    {
      "cell_type": "markdown",
      "metadata": {
        "id": "8qGmjPbuMM93"
      },
      "source": [
        "In addition, the sklearn library is used to import the data set. Further information on sklearn can be found on [their website](https://scikit-learn.org/stable/)."
      ]
    },
    {
      "cell_type": "code",
      "execution_count": null,
      "metadata": {
        "id": "QNpJOVpWMXv0"
      },
      "outputs": [],
      "source": [
        "# imports for sklearn\n",
        "from sklearn.datasets import load_iris\n",
        "from sklearn.model_selection import train_test_split\n",
        "from sklearn.preprocessing import StandardScaler"
      ]
    },
    {
      "cell_type": "markdown",
      "metadata": {
        "id": "66mb5wR2MZ9w"
      },
      "source": [
        "Some other libraries provide extended functionalities. "
      ]
    },
    {
      "cell_type": "code",
      "execution_count": null,
      "metadata": {
        "id": "aCsqsBSE2mY3"
      },
      "outputs": [],
      "source": [
        "# import for progress bar\n",
        "import tqdm\n",
        "\n",
        "# numpy\n",
        "import numpy as np\n",
        "\n",
        "# for plots\n",
        "import matplotlib.pyplot as plt\n",
        "from matplotlib.patches import Rectangle\n",
        "\n",
        "# for measuring runtime\n",
        "import time\n",
        "\n",
        "# for SMT-based verification\n",
        "from z3 import *"
      ]
    },
    {
      "cell_type": "markdown",
      "metadata": {
        "id": "FO71uVM2tZwz",
        "pycharm": {
          "name": "#%% md\n"
        }
      },
      "source": [
        "## Get Dataset"
      ]
    },
    {
      "cell_type": "markdown",
      "metadata": {
        "id": "AB_4QZ5VgUiw"
      },
      "source": [
        "Training and test data must be available to train the ML model. These are downloaded from a public library and extracted via a DataLoader. "
      ]
    },
    {
      "cell_type": "code",
      "execution_count": null,
      "metadata": {
        "colab": {
          "base_uri": "https://localhost:8080/"
        },
        "id": "rUzWjRQVsplE",
        "outputId": "02f257eb-c170-47b0-d8e0-8445efeaea89",
        "pycharm": {
          "name": "#%%\n"
        }
      },
      "outputs": [
        {
          "output_type": "stream",
          "name": "stdout",
          "text": [
            "Shape of X (data): (150, 4)\n",
            "Shape of y (target): (150,) int64\n",
            "Example of x and y pair: [5.1 3.5 1.4 0.2] 0\n",
            "Shape of training set X (120, 4)\n",
            "Shape of test set X (30, 4)\n"
          ]
        }
      ],
      "source": [
        "iris = load_iris()\n",
        "\n",
        "X = iris['data']\n",
        "y = iris['target']\n",
        "names = iris['target_names']\n",
        "feature_names = iris['feature_names']\n",
        "  \n",
        "print(f\"Shape of X (data): {X.shape}\")\n",
        "print(f\"Shape of y (target): {y.shape} {y.dtype}\")\n",
        "print(f\"Example of x and y pair: {X[0]} {y[0]}\")\n",
        "\n",
        "# Scale data to have mean 0 and variance 1 \n",
        "scaler = StandardScaler()\n",
        "X_scaled = scaler.fit_transform(X)\n",
        "\n",
        "# Split the data set into training and testing\n",
        "X_train, X_test, y_train, y_test = train_test_split(\n",
        "    X_scaled, y, test_size=0.2, random_state=2)\n",
        "\n",
        "print(\"Shape of training set X\", X_train.shape)\n",
        "print(\"Shape of test set X\", X_test.shape)"
      ]
    },
    {
      "cell_type": "markdown",
      "metadata": {
        "id": "bFFc6c7YheLj"
      },
      "source": [
        "## Visualize"
      ]
    },
    {
      "cell_type": "markdown",
      "metadata": {
        "id": "QDnQlWDTNfI-"
      },
      "source": [
        "A visualisation of the data shows the correct classification of the input data. The dataset consists of the so-called [Iris Dataset](https://scikit-learn.org/stable/auto_examples/datasets/plot_iris_dataset.html). This data sets consists of 3 different types of irises’ (Setosa, Versicolour, and Virginica). The input features are the sepal length, the sepal width, the petal length and the petal width. "
      ]
    },
    {
      "cell_type": "code",
      "execution_count": null,
      "metadata": {
        "id": "qrfkEq_shgv6"
      },
      "outputs": [],
      "source": [
        "plt.style.use('ggplot')\n",
        "\n",
        "def show_plots(X, y, fixed_input = None, epsilon = None, title = ''):\n",
        "  fig, (ax1, ax2) = plt.subplots(1, 2, figsize=(16, 6))\n",
        "  fig.suptitle(title, fontsize=16)\n",
        "  for target, target_name in enumerate(names):\n",
        "      X_plot = X[y == target]\n",
        "      ax1.plot(X_plot[:, 0], X_plot[:, 1], \n",
        "              linestyle='none', \n",
        "              marker='o', \n",
        "              label=target_name)\n",
        "  ax1.set_xlabel(feature_names[0])\n",
        "  ax1.set_ylabel(feature_names[1])\n",
        "  ax1.axis('equal')\n",
        "  ax1.legend()\n",
        "\n",
        "  for target, target_name in enumerate(names):\n",
        "      X_plot = X[y == target]\n",
        "      ax2.plot(X_plot[:, 2], X_plot[:, 3], \n",
        "              linestyle='none', \n",
        "              marker='o', \n",
        "              label=target_name)\n",
        "  ax2.set_xlabel(feature_names[2])\n",
        "  ax2.set_ylabel(feature_names[3])\n",
        "  ax2.axis('equal')\n",
        "  ax2.legend()\n",
        "\n",
        "  if fixed_input is not None and epsilon is not None:\n",
        "    #add rectangle to plot -> shows infinity norm \n",
        "    ax1.add_patch(Rectangle((fixed_input[0] - epsilon, fixed_input[1] - epsilon), \n",
        "                            2*epsilon, 2*epsilon, \n",
        "                            edgecolor='pink',\n",
        "                            facecolor='none',      \n",
        "                            lw=4))\n",
        "    ax1.set_aspect(\"equal\", adjustable=\"datalim\")\n",
        "\n",
        "    ax2.add_patch(Rectangle((fixed_input[2]-epsilon, fixed_input[3]-epsilon), \n",
        "                            2*epsilon, 2*epsilon, \n",
        "                            edgecolor='pink',\n",
        "                            facecolor='none',      \n",
        "                            lw=4))\n",
        "    ax2.set_aspect(\"equal\", adjustable=\"datalim\")\n"
      ]
    },
    {
      "cell_type": "code",
      "execution_count": null,
      "metadata": {
        "colab": {
          "base_uri": "https://localhost:8080/",
          "height": 434
        },
        "id": "OOxEBcN3z2kF",
        "outputId": "7edbd25b-e1d9-440d-b2f6-59e8781a0284"
      },
      "outputs": [
        {
          "output_type": "display_data",
          "data": {
            "text/plain": [
              "<Figure size 1152x432 with 2 Axes>"
            ],
            "image/png": "[encoded data removed]"
          },
          "metadata": {}
        }
      ],
      "source": [
        "show_plots(X, y, title='Classification of input data')"
      ]
    },
    {
      "cell_type": "markdown",
      "metadata": {
        "id": "t1RHVlUOgcce"
      },
      "source": [
        "## Create Model\n",
        "\n",
        "The class NeuralNetwork(nn.Module) allows initializing a neural network with different layers. \n",
        "Here, we use a simple network with only three linear layers, because complex networks require high computational effort for verification."
      ]
    },
    {
      "cell_type": "code",
      "execution_count": null,
      "metadata": {
        "colab": {
          "base_uri": "https://localhost:8080/"
        },
        "id": "-XS6KcOvgkjI",
        "outputId": "adbaa8df-a949-46b0-83b4-92af78a6a9ef"
      },
      "outputs": [
        {
          "output_type": "stream",
          "name": "stdout",
          "text": [
            "Using cuda device\n"
          ]
        }
      ],
      "source": [
        "import torch.nn.functional as F\n",
        "# Get cpu or gpu device for training.\n",
        "device = \"cuda\" if torch.cuda.is_available() else \"cpu\"\n",
        "print(f\"Using {device} device\")\n",
        "\n",
        "# Define model\n",
        "class NeuralNetwork(nn.Module):\n",
        "    def __init__(self, input_dim, output_dim, number_of_neurons):\n",
        "        super(NeuralNetwork, self).__init__()\n",
        "        self.linear_relu_stack = nn.Sequential(\n",
        "            nn.Linear(input_dim, number_of_neurons),\n",
        "            nn.ReLU(),\n",
        "            nn.Linear(number_of_neurons, number_of_neurons),\n",
        "            nn.ReLU(),\n",
        "            nn.Linear(number_of_neurons, output_dim),\n",
        "        )\n",
        "\n",
        "    def forward(self, x):\n",
        "        logits = self.linear_relu_stack(x)\n",
        "        return logits"
      ]
    },
    {
      "cell_type": "markdown",
      "metadata": {
        "id": "-_0_55YG73tT"
      },
      "source": [
        "## Train model"
      ]
    },
    {
      "cell_type": "markdown",
      "metadata": {
        "id": "4DVpoTyqgjHB"
      },
      "source": [
        "An instance of the class NeuralNetwork() is then created and trained by using an optimizer and loss function."
      ]
    },
    {
      "cell_type": "code",
      "execution_count": null,
      "metadata": {
        "id": "sugcndu9OaTj"
      },
      "outputs": [],
      "source": [
        "def train(X, y, model, loss_fn, optimizer):\n",
        "    model.train()\n",
        "    \n",
        "    # convert numpy array to pytorch tensor\n",
        "    X = Variable(torch.from_numpy(X)).float()\n",
        "    y = Variable(torch.from_numpy(y)).long()\n",
        "    X = X.to(device)\n",
        "    y = y.to(device)\n",
        "\n",
        "    # Compute prediction error\n",
        "    pred = model(X)\n",
        "    loss = loss_fn(pred, y)\n",
        "\n",
        "    # Backpropagation\n",
        "    optimizer.zero_grad()\n",
        "    loss.backward()\n",
        "    optimizer.step()\n",
        "\n",
        "    loss = loss.item()\n",
        "    return loss"
      ]
    },
    {
      "cell_type": "markdown",
      "metadata": {
        "id": "I8U6G9huV8MO"
      },
      "source": [
        "The predict() method is used to generate the output of the ML model based on the learned weights and biases."
      ]
    },
    {
      "cell_type": "code",
      "execution_count": null,
      "metadata": {
        "id": "Vf2SKRe_OmrY"
      },
      "outputs": [],
      "source": [
        "def predict(X, model):\n",
        "    model.eval()\n",
        "    with torch.no_grad():\n",
        "        X = Variable(torch.from_numpy(X)).float()\n",
        "        X = X.to(device)\n",
        "        pred = model(X)\n",
        "        pred = pred.argmax(1)\n",
        "        pred = pred.cpu().detach().numpy()\n",
        "    return pred"
      ]
    },
    {
      "cell_type": "markdown",
      "metadata": {
        "id": "QzkbngYIWFMD"
      },
      "source": [
        "In the test() method, the output of the ML model for input values is compared with the expected (and correct) classification. "
      ]
    },
    {
      "cell_type": "code",
      "execution_count": null,
      "metadata": {
        "id": "HiTu5K_Z0zU4"
      },
      "outputs": [],
      "source": [
        "def test(X, y, model, loss_fn):\n",
        "    model.eval()\n",
        "    test_loss, correct = 0, 0\n",
        "    with torch.no_grad():\n",
        "        X = Variable(torch.from_numpy(X)).float()\n",
        "        y = Variable(torch.from_numpy(y)).long()\n",
        "        X = X.to(device)\n",
        "        y = y.to(device)\n",
        "        pred = model(X)\n",
        "        test_loss += loss_fn(pred, y).item()\n",
        "        correct += (pred.argmax(1) == y).type(torch.float).sum().item()\n",
        "    correct /= X.shape[0]\n",
        "    return correct, test_loss"
      ]
    },
    {
      "cell_type": "markdown",
      "metadata": {
        "id": "ezkHFNY4WjIT"
      },
      "source": [
        "In the following, the model is trained and tested over a number of epochs in order to increase the accuracy of the model. "
      ]
    },
    {
      "cell_type": "code",
      "execution_count": null,
      "metadata": {
        "id": "se6iQ-3m05bp"
      },
      "outputs": [],
      "source": [
        "def train_model(model, epochs):\n",
        "  loss_fn = nn.CrossEntropyLoss()\n",
        "  optimizer = torch.optim.Adam(model.parameters(), lr=1e-3)\n",
        "\n",
        "\n",
        "  loss_list     = np.zeros((epochs,))\n",
        "  accuracy_list = np.zeros((epochs,))\n",
        "\n",
        "  for epoch in tqdm.trange(epochs):\n",
        "    loss_list[epoch] = train(X_train, y_train, model, loss_fn, optimizer)\n",
        "    correct, test_loss = test(X_test, y_test, model, loss_fn)\n",
        "    accuracy_list[epoch] = correct\n",
        "  \n",
        "  print()\n",
        "  print(\"Done. Accuracy:\", accuracy_list[-1])"
      ]
    },
    {
      "cell_type": "markdown",
      "metadata": {
        "id": "vmSZQ_YrW6t5"
      },
      "source": [
        "Now the model is initialized and trained via the explained methods."
      ]
    },
    {
      "cell_type": "code",
      "execution_count": null,
      "metadata": {
        "colab": {
          "base_uri": "https://localhost:8080/"
        },
        "id": "6J812JwE09Zg",
        "outputId": "a88a1c66-97e9-41d0-b60f-94c123087065"
      },
      "outputs": [
        {
          "output_type": "stream",
          "name": "stdout",
          "text": [
            "NeuralNetwork(\n",
            "  (linear_relu_stack): Sequential(\n",
            "    (0): Linear(in_features=4, out_features=20, bias=True)\n",
            "    (1): ReLU()\n",
            "    (2): Linear(in_features=20, out_features=20, bias=True)\n",
            "    (3): ReLU()\n",
            "    (4): Linear(in_features=20, out_features=3, bias=True)\n",
            "  )\n",
            ")\n"
          ]
        },
        {
          "output_type": "stream",
          "name": "stderr",
          "text": [
            "100%|██████████| 100/100 [00:00<00:00, 255.91it/s]"
          ]
        },
        {
          "output_type": "stream",
          "name": "stdout",
          "text": [
            "\n",
            "Done. Accuracy: 0.8666666666666667\n"
          ]
        },
        {
          "output_type": "stream",
          "name": "stderr",
          "text": [
            "\n"
          ]
        }
      ],
      "source": [
        "torch.manual_seed(42)\n",
        "\n",
        "model = NeuralNetwork(input_dim=X_train.shape[1], output_dim=3, number_of_neurons=20).to(device)\n",
        "print(model)\n",
        "\n",
        "train_model(model, epochs=100)"
      ]
    },
    {
      "cell_type": "code",
      "execution_count": null,
      "metadata": {
        "colab": {
          "base_uri": "https://localhost:8080/",
          "height": 851
        },
        "id": "ZIS92z7j4LaU",
        "outputId": "506b5b0d-8077-4a27-b63f-a56fe4168bb6"
      },
      "outputs": [
        {
          "output_type": "display_data",
          "data": {
            "text/plain": [
              "<Figure size 1152x432 with 2 Axes>"
            ],
            "image/png": "[encoded data removed]"
          },
          "metadata": {}
        },
        {
          "output_type": "display_data",
          "data": {
            "text/plain": [
              "<Figure size 1152x432 with 2 Axes>"
            ],
            "image/png": "[encoded data removed]"
          },
          "metadata": {}
        }
      ],
      "source": [
        "show_plots(X, y, title = 'Expected classification')\n",
        "show_plots(X, predict(X_scaled, model), title = 'Actual classification')"
      ]
    },
    {
      "cell_type": "markdown",
      "metadata": {
        "id": "Qn24qqA3tiYE",
        "pycharm": {
          "name": "#%% md\n"
        }
      },
      "source": [
        "## Verification of a neural network using Z3"
      ]
    },
    {
      "cell_type": "markdown",
      "metadata": {
        "id": "Pjikqx_Hg6o2"
      },
      "source": [
        "The next step will be to create a solver with z3 in order to find Aversarial Examples. \"An adversarial example is an instance with small, intentional feature perturbations that cause a machine learning model to make a false prediction.\" (For more information on adversarial examples see [this article](https://christophm.github.io/interpretable-ml-book/adversarial.html).\n",
        "Z3 is a theorem prover from Microsoft Research (for more information on z3 see [z3 on pypi](https://pypi.org/project/z3-solver/)). "
      ]
    },
    {
      "cell_type": "markdown",
      "metadata": {
        "id": "3ya0UOSGhA43"
      },
      "source": [
        "The ML model was trained on the iris dataset in the previous section.\n",
        "Now the task is to recreate the model using the trained weights and the layers of the model. To do this, the learned weights and biases must first be extracted from the model. This is done by iterating over the layers and saving the weights and biases of the Linear Layers into lists."
      ]
    },
    {
      "cell_type": "code",
      "execution_count": null,
      "metadata": {
        "id": "fqsUPwfb4kLd"
      },
      "outputs": [],
      "source": [
        "def get_weights_and_biases_pytorch(model):\n",
        "  weights_and_biases = [param.cpu().detach().numpy() for param in model.parameters()]\n",
        "  weights = weights_and_biases[0::2]\n",
        "  biases = weights_and_biases[1::2]\n",
        "  return weights, biases\n",
        "\n",
        "\n",
        "weights, biases = get_weights_and_biases_pytorch(model)"
      ]
    },
    {
      "cell_type": "markdown",
      "metadata": {
        "id": "L0WP9GSyhKL-"
      },
      "source": [
        "To analyze the network with z3 later on, we have to manually define our activation function which in our case is the Relu function as our solver can only deal with (partially) linear activation functions. In the same way the absolute value is defined as a helper function to aid in calculating the distance between 2 vectors when using z3."
      ]
    },
    {
      "cell_type": "code",
      "execution_count": null,
      "metadata": {
        "id": "hrgBiMwChOXy"
      },
      "outputs": [],
      "source": [
        "def Relu(x):\n",
        "    return np.vectorize(lambda y: If(y >= 0 , y, RealVal(0)))(x)\n",
        "\n",
        "\n",
        "def Abs(x):\n",
        "    ret = If(x <= 0, -x, x)\n",
        "    return ret"
      ]
    },
    {
      "cell_type": "markdown",
      "metadata": {
        "id": "LAkaqwdqhVOd"
      },
      "source": [
        "In the following function the model is defined. \n",
        "The input x are z3 variables. They iterate through each layer with the previously extracted weights and biases. \n",
        "This results in a z3 formula with the z3 inputs."
      ]
    },
    {
      "cell_type": "markdown",
      "source": [
        "The implementation of the neural network is based on pytorch. Therefore, the [Linear Layer of pytorch is used](https://pytorch.org/docs/stable/generated/torch.nn.Linear.html). The calculation there is defined as: \n",
        "\\begin{equation}\n",
        "y = xA^{T}+b\n",
        "\\end{equation}\n",
        "where $y$ is the current output, $x$ is the current input, $A$ is the weight of the layer and $b$ stands for the bias.\n",
        "Here, it's assumed that the model to verify has only fully connected layers with bias in every layer and relu between them. \n",
        "Now, it's possible to rebuild the network by using z3 variables and weights/biases trained by the network: "
      ],
      "metadata": {
        "id": "sqRCdqv4Wk8x"
      }
    },
    {
      "cell_type": "code",
      "execution_count": null,
      "metadata": {
        "id": "qE5iTY365wnn"
      },
      "outputs": [],
      "source": [
        "def net(x, weights, biases):\n",
        "  output = x\n",
        "\n",
        "  for i, (weight, bias) in enumerate(zip(weights, biases)):\n",
        "    # apply formular used for nn.Linear in pytorch\n",
        "    output = output @ np.transpose(weight) + bias\n",
        "    # apply relu except in last layer\n",
        "    if i != len(weights) - 1:\n",
        "      output = Relu(output)\n",
        "  return output"
      ]
    },
    {
      "cell_type": "markdown",
      "metadata": {
        "id": "JMnbeZ8PhhPa"
      },
      "source": [
        "In the next section we search the adversarial example to a sample of the dataset. Therefore a sample runs through the trained model to predict an outcome. \n",
        "The beforehand written function ```net(x)``` gets a manipulated input of the sample. A epsilon is added to every value of the input of the function.\n",
        "To generate a vector epsilon which will constitute our manipulation of the input data with z3 the solver has to be defined first and then the constraints of our vectors as well as the inputs and outputs are added to the solver. The solver then has to check the satisfiability of the given constraints and a model is returned and printed if a vector epsilon which has a taxicab norm smaller than the constant e and changes the category with the highest probability exists."
      ]
    },
    {
      "cell_type": "markdown",
      "metadata": {
        "id": "GacyP55L8QpC"
      },
      "source": [
        "## Robustness verification"
      ]
    },
    {
      "cell_type": "markdown",
      "source": [
        "TODO adapt formulas to verify function"
      ],
      "metadata": {
        "id": "mvATrRNyaJSm"
      }
    },
    {
      "cell_type": "markdown",
      "metadata": {
        "id": "NjswTTcO9aYc"
      },
      "source": [
        "Adversarial robustness with fixed input $\\vec{y} ∈ R^m $, $ L_∞ $-distance, $ 𝑉_𝑖={𝜈_1, …, 𝜈_𝑚 } $, and $ 𝑉_𝑜={𝜈_1^′, …, 𝜈_𝑛^′ } $: \n",
        "\n",
        "verification condition: $ \\psi≔(φ_{pre} ∧ φ_{assign}) ⇒ φ_{post} $\n",
        "\n",
        "precondition: $ \\varphi_{pre} ≔ ⋀_{i=1}^n ((x_{v_i} - y_i ≤ ε) ∧ (y_i - x_{v_i} ≤ ε)) $\n",
        "\n",
        "assign: $ \\varphi_{assign} ≔ φ^N $\n",
        "\n",
        "post condition: $ \\varphi_{post} ≔ ⋀_{i=1}^m x_{v'_i} ≤ x_{v'_l} $ for $ \\ell = \\arg\\max f_N(\\vec{y}) $\n",
        "\n",
        "\n",
        "proving robustness means proving the verification condition"
      ]
    },
    {
      "cell_type": "code",
      "execution_count": null,
      "metadata": {
        "id": "gBY3e2Kw7Uq2"
      },
      "outputs": [],
      "source": [
        "def verify(fixed_input_y, fixed_input_y_class, epsilon, weights, biases):\n",
        "  input_size = fixed_input_y.shape[0]\n",
        "  x = RealVector(\"x\", input_size)\n",
        "\n",
        "  # pre-condition\n",
        "  # basically L_infinity-distance in boolean speak\n",
        "  and_parts = []\n",
        "  for i, x_vi in enumerate(x):\n",
        "    and_parts.append(And((x_vi - fixed_input_y[i]) <= epsilon, (fixed_input_y[i] - x_vi) <= epsilon))\n",
        "  pre_cond = And(and_parts)\n",
        "\n",
        "  # post-condition\n",
        "  # x_vo = x_v'\n",
        "  output = net(x, weights, biases)\n",
        "  and_parts = []\n",
        "  for i, x_vo in enumerate(output):\n",
        "    and_parts.append(x_vo <= output[fixed_input_y_class])\n",
        "  post_cond = And(and_parts)\n",
        "\n",
        "  verification_cond = Implies(pre_cond, post_cond)\n",
        "\n",
        "  print(\"Pre condition: \")\n",
        "  print(pre_cond)\n",
        "  print(\"Post condition: \")\n",
        "  print(post_cond)\n",
        "  print(\"--------------\")\n",
        "\n",
        "  prove(verification_cond)"
      ]
    },
    {
      "cell_type": "markdown",
      "source": [
        "Fix some input value $ \\vec{y} $ (here the first datapoint of the dataset) and choose an epsilon value (e. g. 0.5)"
      ],
      "metadata": {
        "id": "GbHXdDw0ZBWh"
      }
    },
    {
      "cell_type": "code",
      "execution_count": null,
      "metadata": {
        "id": "toXBusE57iQo"
      },
      "outputs": [],
      "source": [
        "fixed_input_y = X_scaled[0]\n",
        "fixed_input_y_class = y[0]\n",
        "epsilon = 0.5"
      ]
    },
    {
      "cell_type": "markdown",
      "source": [
        "Verify the robustness of the neural network with that specific input value"
      ],
      "metadata": {
        "id": "hNvAoFXLZJ-g"
      }
    },
    {
      "cell_type": "code",
      "execution_count": null,
      "metadata": {
        "colab": {
          "base_uri": "https://localhost:8080/",
          "height": 1000
        },
        "id": "A0Uzopda7ZUh",
        "outputId": "658a61cf-aa3c-47cb-c0e3-2874c3d0c259"
      },
      "outputs": [
        {
          "output_type": "stream",
          "name": "stdout",
          "text": [
            "Pre condition: \n",
            "And(And(x__0 - -9006811702978099/10000000000000000 <= 1/2,\n",
            "        -9006811702978099/10000000000000000 - x__0 <= 1/2),\n",
            "    And(x__1 - 2038008703943213/2000000000000000 <= 1/2,\n",
            "        2038008703943213/2000000000000000 - x__1 <= 1/2),\n",
            "    And(x__2 - -2680453053245527/2000000000000000 <= 1/2,\n",
            "        -2680453053245527/2000000000000000 - x__2 <= 1/2),\n",
            "    And(x__3 - -13154442950077407/10000000000000000 <= 1/2,\n",
            "        -13154442950077407/10000000000000000 - x__3 <= 1/2))\n",
            "Post condition: \n",
            "And(... +\n",
            "    ... +\n",
            "    ... +\n",
            "    ... +\n",
            "    ... +\n",
            "    ... +\n",
            "    ... +\n",
            "    ... +\n",
            "    ... +\n",
            "    ... +\n",
            "    ... +\n",
            "    ... +\n",
            "    ... +\n",
            "    ... +\n",
            "    ... +\n",
            "    ... +\n",
            "    ... +\n",
            "    ... +\n",
            "    ... +\n",
            "    ... +\n",
            "    ... <=\n",
            "    ...,\n",
            "    ...,\n",
            "    ...)\n",
            "--------------\n",
            "failed to prove\n"
          ]
        },
        {
          "output_type": "error",
          "ename": "Z3Exception",
          "evalue": "ignored",
          "traceback": [
            "\u001b[0;31m---------------------------------------------------------------------------\u001b[0m",
            "\u001b[0;31mZ3Exception\u001b[0m                               Traceback (most recent call last)",
            "\u001b[0;32m/usr/local/lib/python3.7/dist-packages/z3/z3.py\u001b[0m in \u001b[0;36mmodel\u001b[0;34m(self)\u001b[0m\n\u001b[1;32m   7101\u001b[0m         \u001b[0;32mtry\u001b[0m\u001b[0;34m:\u001b[0m\u001b[0;34m\u001b[0m\u001b[0;34m\u001b[0m\u001b[0m\n\u001b[0;32m-> 7102\u001b[0;31m             \u001b[0;32mreturn\u001b[0m \u001b[0mModelRef\u001b[0m\u001b[0;34m(\u001b[0m\u001b[0mZ3_solver_get_model\u001b[0m\u001b[0;34m(\u001b[0m\u001b[0mself\u001b[0m\u001b[0;34m.\u001b[0m\u001b[0mctx\u001b[0m\u001b[0;34m.\u001b[0m\u001b[0mref\u001b[0m\u001b[0;34m(\u001b[0m\u001b[0;34m)\u001b[0m\u001b[0;34m,\u001b[0m \u001b[0mself\u001b[0m\u001b[0;34m.\u001b[0m\u001b[0msolver\u001b[0m\u001b[0;34m)\u001b[0m\u001b[0;34m,\u001b[0m \u001b[0mself\u001b[0m\u001b[0;34m.\u001b[0m\u001b[0mctx\u001b[0m\u001b[0;34m)\u001b[0m\u001b[0;34m\u001b[0m\u001b[0;34m\u001b[0m\u001b[0m\n\u001b[0m\u001b[1;32m   7103\u001b[0m         \u001b[0;32mexcept\u001b[0m \u001b[0mZ3Exception\u001b[0m\u001b[0;34m:\u001b[0m\u001b[0;34m\u001b[0m\u001b[0;34m\u001b[0m\u001b[0m\n",
            "\u001b[0;32m/usr/local/lib/python3.7/dist-packages/z3/z3core.py\u001b[0m in \u001b[0;36mZ3_solver_get_model\u001b[0;34m(a0, a1, _elems)\u001b[0m\n\u001b[1;32m   3987\u001b[0m   \u001b[0mr\u001b[0m \u001b[0;34m=\u001b[0m \u001b[0m_elems\u001b[0m\u001b[0;34m.\u001b[0m\u001b[0mf\u001b[0m\u001b[0;34m(\u001b[0m\u001b[0ma0\u001b[0m\u001b[0;34m,\u001b[0m \u001b[0ma1\u001b[0m\u001b[0;34m)\u001b[0m\u001b[0;34m\u001b[0m\u001b[0;34m\u001b[0m\u001b[0m\n\u001b[0;32m-> 3988\u001b[0;31m   \u001b[0m_elems\u001b[0m\u001b[0;34m.\u001b[0m\u001b[0mCheck\u001b[0m\u001b[0;34m(\u001b[0m\u001b[0ma0\u001b[0m\u001b[0;34m)\u001b[0m\u001b[0;34m\u001b[0m\u001b[0;34m\u001b[0m\u001b[0m\n\u001b[0m\u001b[1;32m   3989\u001b[0m   \u001b[0;32mreturn\u001b[0m \u001b[0mr\u001b[0m\u001b[0;34m\u001b[0m\u001b[0;34m\u001b[0m\u001b[0m\n",
            "\u001b[0;32m/usr/local/lib/python3.7/dist-packages/z3/z3core.py\u001b[0m in \u001b[0;36mCheck\u001b[0;34m(self, ctx)\u001b[0m\n\u001b[1;32m   1458\u001b[0m     \u001b[0;32mif\u001b[0m \u001b[0merr\u001b[0m \u001b[0;34m!=\u001b[0m \u001b[0mself\u001b[0m\u001b[0;34m.\u001b[0m\u001b[0mOK\u001b[0m\u001b[0;34m:\u001b[0m\u001b[0;34m\u001b[0m\u001b[0;34m\u001b[0m\u001b[0m\n\u001b[0;32m-> 1459\u001b[0;31m         \u001b[0;32mraise\u001b[0m \u001b[0mself\u001b[0m\u001b[0;34m.\u001b[0m\u001b[0mException\u001b[0m\u001b[0;34m(\u001b[0m\u001b[0mself\u001b[0m\u001b[0;34m.\u001b[0m\u001b[0mget_error_message\u001b[0m\u001b[0;34m(\u001b[0m\u001b[0mctx\u001b[0m\u001b[0;34m,\u001b[0m \u001b[0merr\u001b[0m\u001b[0;34m)\u001b[0m\u001b[0;34m)\u001b[0m\u001b[0;34m\u001b[0m\u001b[0;34m\u001b[0m\u001b[0m\n\u001b[0m\u001b[1;32m   1460\u001b[0m \u001b[0;34m\u001b[0m\u001b[0m\n",
            "\u001b[0;31mZ3Exception\u001b[0m: b'there is no current model'",
            "\nDuring handling of the above exception, another exception occurred:\n",
            "\u001b[0;31mZ3Exception\u001b[0m                               Traceback (most recent call last)",
            "\u001b[0;32m<ipython-input-25-e9bc0e42530c>\u001b[0m in \u001b[0;36m<module>\u001b[0;34m()\u001b[0m\n\u001b[1;32m      1\u001b[0m \u001b[0mstart_time\u001b[0m \u001b[0;34m=\u001b[0m \u001b[0mtime\u001b[0m\u001b[0;34m.\u001b[0m\u001b[0mtime\u001b[0m\u001b[0;34m(\u001b[0m\u001b[0;34m)\u001b[0m\u001b[0;34m\u001b[0m\u001b[0;34m\u001b[0m\u001b[0m\n\u001b[0;32m----> 2\u001b[0;31m \u001b[0mverify\u001b[0m\u001b[0;34m(\u001b[0m\u001b[0mfixed_input_y\u001b[0m\u001b[0;34m,\u001b[0m \u001b[0mfixed_input_y_class\u001b[0m\u001b[0;34m,\u001b[0m \u001b[0mepsilon\u001b[0m\u001b[0;34m,\u001b[0m \u001b[0mweights\u001b[0m\u001b[0;34m,\u001b[0m \u001b[0mbiases\u001b[0m\u001b[0;34m)\u001b[0m\u001b[0;34m\u001b[0m\u001b[0;34m\u001b[0m\u001b[0m\n\u001b[0m\u001b[1;32m      3\u001b[0m \u001b[0mprint\u001b[0m\u001b[0;34m(\u001b[0m\u001b[0;34mf\"{((time.time() - start_time)/60):.2f} minutes\"\u001b[0m\u001b[0;34m)\u001b[0m\u001b[0;34m\u001b[0m\u001b[0;34m\u001b[0m\u001b[0m\n",
            "\u001b[0;32m<ipython-input-23-d7c60d532e7b>\u001b[0m in \u001b[0;36mverify\u001b[0;34m(fixed_input_y, fixed_input_y_class, epsilon, weights, biases)\u001b[0m\n\u001b[1;32m     26\u001b[0m   \u001b[0mprint\u001b[0m\u001b[0;34m(\u001b[0m\u001b[0;34m\"--------------\"\u001b[0m\u001b[0;34m)\u001b[0m\u001b[0;34m\u001b[0m\u001b[0;34m\u001b[0m\u001b[0m\n\u001b[1;32m     27\u001b[0m \u001b[0;34m\u001b[0m\u001b[0m\n\u001b[0;32m---> 28\u001b[0;31m   \u001b[0mprove\u001b[0m\u001b[0;34m(\u001b[0m\u001b[0mverification_cond\u001b[0m\u001b[0;34m)\u001b[0m\u001b[0;34m\u001b[0m\u001b[0;34m\u001b[0m\u001b[0m\n\u001b[0m",
            "\u001b[0;32m/usr/local/lib/python3.7/dist-packages/z3/z3.py\u001b[0m in \u001b[0;36mprove\u001b[0;34m(claim, show, **keywords)\u001b[0m\n\u001b[1;32m   9036\u001b[0m     \u001b[0;32melif\u001b[0m \u001b[0mr\u001b[0m \u001b[0;34m==\u001b[0m \u001b[0munknown\u001b[0m\u001b[0;34m:\u001b[0m\u001b[0;34m\u001b[0m\u001b[0;34m\u001b[0m\u001b[0m\n\u001b[1;32m   9037\u001b[0m         \u001b[0mprint\u001b[0m\u001b[0;34m(\u001b[0m\u001b[0;34m\"failed to prove\"\u001b[0m\u001b[0;34m)\u001b[0m\u001b[0;34m\u001b[0m\u001b[0;34m\u001b[0m\u001b[0m\n\u001b[0;32m-> 9038\u001b[0;31m         \u001b[0mprint\u001b[0m\u001b[0;34m(\u001b[0m\u001b[0ms\u001b[0m\u001b[0;34m.\u001b[0m\u001b[0mmodel\u001b[0m\u001b[0;34m(\u001b[0m\u001b[0;34m)\u001b[0m\u001b[0;34m)\u001b[0m\u001b[0;34m\u001b[0m\u001b[0;34m\u001b[0m\u001b[0m\n\u001b[0m\u001b[1;32m   9039\u001b[0m     \u001b[0;32melse\u001b[0m\u001b[0;34m:\u001b[0m\u001b[0;34m\u001b[0m\u001b[0;34m\u001b[0m\u001b[0m\n\u001b[1;32m   9040\u001b[0m         \u001b[0mprint\u001b[0m\u001b[0;34m(\u001b[0m\u001b[0;34m\"counterexample\"\u001b[0m\u001b[0;34m)\u001b[0m\u001b[0;34m\u001b[0m\u001b[0;34m\u001b[0m\u001b[0m\n",
            "\u001b[0;32m/usr/local/lib/python3.7/dist-packages/z3/z3.py\u001b[0m in \u001b[0;36mmodel\u001b[0;34m(self)\u001b[0m\n\u001b[1;32m   7102\u001b[0m             \u001b[0;32mreturn\u001b[0m \u001b[0mModelRef\u001b[0m\u001b[0;34m(\u001b[0m\u001b[0mZ3_solver_get_model\u001b[0m\u001b[0;34m(\u001b[0m\u001b[0mself\u001b[0m\u001b[0;34m.\u001b[0m\u001b[0mctx\u001b[0m\u001b[0;34m.\u001b[0m\u001b[0mref\u001b[0m\u001b[0;34m(\u001b[0m\u001b[0;34m)\u001b[0m\u001b[0;34m,\u001b[0m \u001b[0mself\u001b[0m\u001b[0;34m.\u001b[0m\u001b[0msolver\u001b[0m\u001b[0;34m)\u001b[0m\u001b[0;34m,\u001b[0m \u001b[0mself\u001b[0m\u001b[0;34m.\u001b[0m\u001b[0mctx\u001b[0m\u001b[0;34m)\u001b[0m\u001b[0;34m\u001b[0m\u001b[0;34m\u001b[0m\u001b[0m\n\u001b[1;32m   7103\u001b[0m         \u001b[0;32mexcept\u001b[0m \u001b[0mZ3Exception\u001b[0m\u001b[0;34m:\u001b[0m\u001b[0;34m\u001b[0m\u001b[0;34m\u001b[0m\u001b[0m\n\u001b[0;32m-> 7104\u001b[0;31m             \u001b[0;32mraise\u001b[0m \u001b[0mZ3Exception\u001b[0m\u001b[0;34m(\u001b[0m\u001b[0;34m\"model is not available\"\u001b[0m\u001b[0;34m)\u001b[0m\u001b[0;34m\u001b[0m\u001b[0;34m\u001b[0m\u001b[0m\n\u001b[0m\u001b[1;32m   7105\u001b[0m \u001b[0;34m\u001b[0m\u001b[0m\n\u001b[1;32m   7106\u001b[0m     \u001b[0;32mdef\u001b[0m \u001b[0mimport_model_converter\u001b[0m\u001b[0;34m(\u001b[0m\u001b[0mself\u001b[0m\u001b[0;34m,\u001b[0m \u001b[0mother\u001b[0m\u001b[0;34m)\u001b[0m\u001b[0;34m:\u001b[0m\u001b[0;34m\u001b[0m\u001b[0;34m\u001b[0m\u001b[0m\n",
            "\u001b[0;31mZ3Exception\u001b[0m: model is not available"
          ]
        }
      ],
      "source": [
        "start_time = time.time()\n",
        "verify(fixed_input_y, fixed_input_y_class, epsilon, weights, biases)\n",
        "print(f\"{((time.time() - start_time)/60):.2f} minutes\")"
      ]
    },
    {
      "cell_type": "markdown",
      "source": [
        "Second example: Fix another input value $ \\vec{y_2} $ and Z3 finds a counterexample"
      ],
      "metadata": {
        "id": "wq5W316sY1Ut"
      }
    },
    {
      "cell_type": "code",
      "source": [
        "fixed_input_y2 = X_scaled[50]\n",
        "fixed_input_y2_class = y[50]\n",
        "\n",
        "start_time = time.time()\n",
        "verify(fixed_input_y2, fixed_input_y2_class, epsilon, weights, biases)\n",
        "print(f\"{((time.time() - start_time)/60):.2f} minutes\")"
      ],
      "metadata": {
        "id": "t-r-eotnY5y2",
        "outputId": "5feec6cd-19f4-48a3-bc8b-d26abae5e7fc",
        "colab": {
          "base_uri": "https://localhost:8080/"
        }
      },
      "execution_count": null,
      "outputs": [
        {
          "output_type": "stream",
          "name": "stdout",
          "text": [
            "Pre condition: \n",
            "And(And(x__0 - 280301673626313/200000000000000 <= 1/2,\n",
            "        280301673626313/200000000000000 - x__0 <= 1/2),\n",
            "    And(x__1 - 131365621278267/400000000000000 <= 1/2,\n",
            "        131365621278267/400000000000000 - x__1 <= 1/2),\n",
            "    And(x__2 - 5354085615261401/10000000000000000 <= 1/2,\n",
            "        5354085615261401/10000000000000000 - x__2 <= 1/2),\n",
            "    And(x__3 - 2641419164758693/10000000000000000 <= 1/2,\n",
            "        2641419164758693/10000000000000000 - x__3 <= 1/2))\n",
            "Post condition: \n",
            "And(... +\n",
            "    ... +\n",
            "    ... +\n",
            "    ... +\n",
            "    ... +\n",
            "    ... +\n",
            "    ... +\n",
            "    ... +\n",
            "    ... +\n",
            "    ... +\n",
            "    ... +\n",
            "    ... +\n",
            "    ... +\n",
            "    ... +\n",
            "    ... +\n",
            "    ... +\n",
            "    ... +\n",
            "    ... +\n",
            "    ... +\n",
            "    ... +\n",
            "    ... <=\n",
            "    ...,\n",
            "    ...,\n",
            "    ...)\n",
            "--------------\n",
            "counterexample\n",
            "[x__2 = 51149230228144214082979816096347621270558775442916815900406660803/74078449754116187492072604300685184005784721506415000000000000000,\n",
            " x__3 = -2358580835241307/10000000000000000,\n",
            " x__0 = 15204491686828069695701568147712999328813340674975540103860500397/14815689950823237498414520860137036801156944301283000000000000000,\n",
            " x__1 = 89271087086716183505311691827492742539503323031292063452412081/1646187772313693055379391206681892977906327144587000000000000000]\n",
            "1.51 minutes\n"
          ]
        }
      ]
    },
    {
      "cell_type": "markdown",
      "metadata": {
        "id": "p8xujoQA8Ys7"
      },
      "source": [
        "## Prediction plots with epsilon\n",
        "\n",
        "Show the plots of the dataset (here scaled) and plot the $ L_∞ $-distance of fixed input $ \\vec{y} $ as a square"
      ]
    },
    {
      "cell_type": "code",
      "execution_count": null,
      "metadata": {
        "id": "F9qPlsh77d6r"
      },
      "outputs": [],
      "source": [
        "show_plots(X_scaled, y, title = 'Expected classification (scaled values)')\n",
        "show_plots(X_scaled, predict(X_scaled, model), fixed_input_y, epsilon, title = 'Actual classification (scaled values)')"
      ]
    },
    {
      "cell_type": "code",
      "execution_count": null,
      "metadata": {
        "id": "bIYvrjk37kNW"
      },
      "outputs": [],
      "source": [
        ""
      ]
    },
    {
      "cell_type": "markdown",
      "metadata": {
        "id": "11VVB4Uj8p13"
      },
      "source": [
        "## Task: find largest epsilon for robustness with binary search\n",
        "with a certain accuracy\n",
        "\n",
        "TODO"
      ]
    },
    {
      "cell_type": "code",
      "execution_count": null,
      "metadata": {
        "id": "GyRTysoE83UV"
      },
      "outputs": [],
      "source": [
        ""
      ]
    },
    {
      "cell_type": "markdown",
      "metadata": {
        "id": "j6ftZQcs9Sea"
      },
      "source": [
        "## Appendix"
      ]
    },
    {
      "cell_type": "markdown",
      "metadata": {
        "id": "f1bdvZ3w9UWX"
      },
      "source": [
        "### Verify with each neuron encoded seperately"
      ]
    },
    {
      "cell_type": "code",
      "execution_count": null,
      "metadata": {
        "id": "gjo9A2oZ9T0R"
      },
      "outputs": [],
      "source": [
        "def ReluSingleNeuron(x):\n",
        "  return If(x >= 0, x, RealVal(0))\n",
        "\n",
        "def verify_each_neuron(fixed_input_y, fixed_input_y_class, epsilon, weights, biases):\n",
        "  # Unpack weights of the trained model\n",
        "  input_size = fixed_input_y.shape[0]\n",
        "  neurons = []\n",
        "  x = RealVector(\"x\", input_size)\n",
        "  output  = [RealVector(f\"x{i}\", weight.shape[0]) for i, weight in enumerate(weights)]\n",
        "\n",
        "  # pre-condition\n",
        "  # basically L_infinity-distance in boolean speak\n",
        "  and_parts = []\n",
        "  for i, x_vi in enumerate(x):\n",
        "    and_parts.append(And((x_vi - fixed_input_y[i]) <= epsilon, (fixed_input_y[i] - x_vi) <= epsilon))\n",
        "  pre_cond = And(and_parts)\n",
        "  #print(pre_cond)\n",
        "\n",
        "  # assign\n",
        "  and_parts = []\n",
        "  # for each layer\n",
        "  for layer_i, (layer_output, layer_weights, layer_biases) in enumerate(zip(output, weights, biases)):\n",
        "    # for each neuron\n",
        "    for neuron_output, neuron_weights, neuron_bias in zip(layer_output, layer_weights, layer_biases):\n",
        "      if layer_i == 0:\n",
        "        # neuron input is net input\n",
        "        neuron_inputs = x\n",
        "      else:\n",
        "        # neuron input is output of previous layer\n",
        "        neuron_inputs = output[layer_i - 1]\n",
        "      and_parts.append(neuron_output == ReluSingleNeuron(neuron_weights @ neuron_inputs + neuron_bias))\n",
        "  assign = And(and_parts)\n",
        "\n",
        "  # post-condition\n",
        "  # x_vo = x_v'\n",
        "  and_parts = []\n",
        "  for i, x_vo in enumerate(output[-1]):\n",
        "    # l is the argmax of fixed_input_y\n",
        "    and_parts.append(x_vo <= output[-1][fixed_input_y_class])\n",
        "  post_cond = And(and_parts)\n",
        "\n",
        "  # verification conditions\n",
        "  verification_cond = Implies(And(pre_cond, assign), post_cond)\n",
        "\n",
        "  # prove using Z3\n",
        "  prove(verification_cond)"
      ]
    },
    {
      "cell_type": "code",
      "execution_count": null,
      "metadata": {
        "id": "-skIa28D916V"
      },
      "outputs": [],
      "source": [
        "start_time = time.time()\n",
        "verify_each_neuron(fixed_input_y, fixed_input_y_class, epsilon, weights, biases)\n",
        "print(f\"{((time.time() - start_time)/60):.2f} minutes\")"
      ]
    },
    {
      "cell_type": "markdown",
      "metadata": {
        "id": "xx60TlqD-UUT"
      },
      "source": [
        "### Another approach: Create Solver to find Adversarial Examples"
      ]
    },
    {
      "cell_type": "code",
      "execution_count": null,
      "metadata": {
        "id": "JR0iIrYdd9uH",
        "pycharm": {
          "name": "#%%\n"
        }
      },
      "outputs": [],
      "source": [
        "def find_adversarial_example(num, s):\n",
        "   # predict outcome of inputs with network\n",
        "    sample = Variable(torch.from_numpy(X_test[num])).float()\n",
        "    y1 =  torch.argmax(model(sample)).tolist()\n",
        "    if (y1 == y_test[num]):\n",
        "      print(\"The ML model predicted the correct flower.\")\n",
        "    else:\n",
        "      print(\"The ML model predicted the wrong flower, for a correct example rerun the script.\")\n",
        "\n",
        "    epsilon = RealVector('epsilon', 4)\n",
        "    # new sample with a little difference e (adversarial example)\n",
        "    new_X = [x + e for (x, e) in zip(sample.cpu().detach().numpy(), epsilon)]\n",
        "    y2_pred = net(new_X)\n",
        "\n",
        "    e = 1\n",
        "    s.add(Sum([Abs(a) for a in epsilon]) < e)\n",
        "    # does work :\n",
        "    # s.add(torch.argmax(y1).cpu().detach().numpy() != y2_pred)\n",
        "    s.add(Or(y2_pred[0] > y2_pred[y1], y2_pred[1] > y2_pred[y1], y2_pred[2] > y2_pred[y1]))\n",
        "    res = s.check()\n",
        "    print(res)\n",
        "    if res == sat:\n",
        "        m = s.model()\n",
        "        print(m)"
      ]
    },
    {
      "cell_type": "code",
      "execution_count": null,
      "metadata": {
        "id": "Ak4hXgNXcmFa"
      },
      "outputs": [],
      "source": [
        "for i in range(len(X_test)):\n",
        "  s = Solver()\n",
        "  find_adversarial_example(i, s)"
      ]
    }
  ],
  "metadata": {
    "accelerator": "GPU",
    "colab": {
      "collapsed_sections": [],
      "name": "iris.ipynb",
      "provenance": [],
      "include_colab_link": true
    },
    "kernelspec": {
      "display_name": "Python 3",
      "name": "python3"
    },
    "language_info": {
      "name": "python"
    }
  },
  "nbformat": 4,
  "nbformat_minor": 0
}