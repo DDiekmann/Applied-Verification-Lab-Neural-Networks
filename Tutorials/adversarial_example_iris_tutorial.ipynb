{
  "nbformat": 4,
  "nbformat_minor": 0,
  "metadata": {
    "colab": {
      "name": "iris.ipynb",
      "provenance": [],
      "collapsed_sections": [],
      "include_colab_link": true
    },
    "kernelspec": {
      "name": "python3",
      "display_name": "Python 3"
    },
    "language_info": {
      "name": "python"
    },
    "accelerator": "GPU"
  },
  "cells": [
    {
      "cell_type": "markdown",
      "metadata": {
        "id": "view-in-github",
        "colab_type": "text"
      },
      "source": [
        "<a href=\"https://colab.research.google.com/github/DDiekmann/Applied-Verification-Lab-Neural-Networks/blob/main/Tutorials/adversarial_example_iris_tutorial.ipynb\" target=\"_parent\"><img src=\"https://colab.research.google.com/assets/colab-badge.svg\" alt=\"Open In Colab\"/></a>"
      ]
    },
    {
      "cell_type": "markdown",
      "source": [
        "# TODO\n",
        "- explanations and documentation\n",
        "- rectangle plot\n",
        "- upper bound for epsilon \n",
        "- Transpose?\n",
        "- second example for fixed_input_y\n",
        "- fix error in method find_adversarial_example()"
      ],
      "metadata": {
        "id": "EANjAB09ya41"
      }
    },
    {
      "cell_type": "markdown",
      "source": [
        "# Neural network verification with z3\n",
        "\n",
        "In this tutorial, the first step is to implement a machine learning model for image recognition using the python library pytorch. In the second step, the model is verified using the SMT solver z3."
      ],
      "metadata": {
        "id": "bvjqBedigGT5"
      }
    },
    {
      "cell_type": "markdown",
      "source": [
        "Using pip, the z3 solver is downloaded and the required parts are imported from pytorch."
      ],
      "metadata": {
        "id": "zLfqLvsfgLB8"
      }
    },
    {
      "cell_type": "code",
      "source": [
        "!nvidia-smi\n",
        "%pip install z3-solver"
      ],
      "metadata": {
        "colab": {
          "base_uri": "https://localhost:8080/"
        },
        "id": "VWF6jABWwH_B",
        "outputId": "e96c3373-c073-4f5e-a040-acf9719fa7d8",
        "pycharm": {
          "name": "#%%\n"
        }
      },
      "execution_count": 1,
      "outputs": [
        {
          "output_type": "stream",
          "name": "stdout",
          "text": [
            "Wed May 18 12:34:34 2022       \n",
            "+-----------------------------------------------------------------------------+\n",
            "| NVIDIA-SMI 460.32.03    Driver Version: 460.32.03    CUDA Version: 11.2     |\n",
            "|-------------------------------+----------------------+----------------------+\n",
            "| GPU  Name        Persistence-M| Bus-Id        Disp.A | Volatile Uncorr. ECC |\n",
            "| Fan  Temp  Perf  Pwr:Usage/Cap|         Memory-Usage | GPU-Util  Compute M. |\n",
            "|                               |                      |               MIG M. |\n",
            "|===============================+======================+======================|\n",
            "|   0  Tesla T4            Off  | 00000000:00:04.0 Off |                    0 |\n",
            "| N/A   34C    P8     9W /  70W |      0MiB / 15109MiB |      0%      Default |\n",
            "|                               |                      |                  N/A |\n",
            "+-------------------------------+----------------------+----------------------+\n",
            "                                                                               \n",
            "+-----------------------------------------------------------------------------+\n",
            "| Processes:                                                                  |\n",
            "|  GPU   GI   CI        PID   Type   Process name                  GPU Memory |\n",
            "|        ID   ID                                                   Usage      |\n",
            "|=============================================================================|\n",
            "|  No running processes found                                                 |\n",
            "+-----------------------------------------------------------------------------+\n",
            "Collecting z3-solver\n",
            "  Downloading z3_solver-4.8.17.0-py2.py3-none-manylinux1_x86_64.whl (54.5 MB)\n",
            "\u001b[K     |████████████████████████████████| 54.5 MB 148 kB/s \n",
            "\u001b[?25hInstalling collected packages: z3-solver\n",
            "Successfully installed z3-solver-4.8.17.0\n"
          ]
        }
      ]
    },
    {
      "cell_type": "markdown",
      "source": [
        "To carry out the individual steps, some Python libraries are imported. \\\\\n",
        "Pytorch is a machine learning framework. For further information on pytorch see [their website](https://pytorch.org/)."
      ],
      "metadata": {
        "id": "YMauJvpWLJtD"
      }
    },
    {
      "cell_type": "code",
      "source": [
        "# imports for torch\n",
        "import torch\n",
        "from torch import nn\n",
        "from torch.autograd import Variable"
      ],
      "metadata": {
        "id": "INBFX6hvLyxu"
      },
      "execution_count": null,
      "outputs": []
    },
    {
      "cell_type": "markdown",
      "source": [
        "In addition, the sklearn library is used to import the data set. Further information on sklearn can be found on [their website](https://scikit-learn.org/stable/)."
      ],
      "metadata": {
        "id": "8qGmjPbuMM93"
      }
    },
    {
      "cell_type": "code",
      "source": [
        "# imports for sklearn\n",
        "from sklearn.datasets import load_iris\n",
        "from sklearn.model_selection import train_test_split\n",
        "from sklearn.preprocessing import StandardScaler"
      ],
      "metadata": {
        "id": "QNpJOVpWMXv0"
      },
      "execution_count": null,
      "outputs": []
    },
    {
      "cell_type": "markdown",
      "source": [
        "Some other libraries provide extended functionalities. "
      ],
      "metadata": {
        "id": "66mb5wR2MZ9w"
      }
    },
    {
      "cell_type": "code",
      "source": [
        "# import for progress bar\n",
        "import tqdm\n",
        "\n",
        "# numpy\n",
        "import numpy as np\n",
        "\n",
        "# for plots\n",
        "import matplotlib.pyplot as plt\n",
        "\n",
        "# for measuring runtime\n",
        "import time"
      ],
      "metadata": {
        "id": "aCsqsBSE2mY3"
      },
      "execution_count": 2,
      "outputs": []
    },
    {
      "cell_type": "markdown",
      "source": [
        "## Get Dataset"
      ],
      "metadata": {
        "id": "FO71uVM2tZwz",
        "pycharm": {
          "name": "#%% md\n"
        }
      }
    },
    {
      "cell_type": "markdown",
      "source": [
        "Training and test data must be available to train the ML model. These are downloaded from a public library and extracted via a DataLoader. "
      ],
      "metadata": {
        "id": "AB_4QZ5VgUiw"
      }
    },
    {
      "cell_type": "code",
      "execution_count": 3,
      "metadata": {
        "colab": {
          "base_uri": "https://localhost:8080/"
        },
        "id": "rUzWjRQVsplE",
        "outputId": "47b5017b-caa4-47af-ecd3-519ab2322682",
        "pycharm": {
          "name": "#%%\n"
        }
      },
      "outputs": [
        {
          "output_type": "stream",
          "name": "stdout",
          "text": [
            "Shape of X (data): (150, 4)\n",
            "Shape of y (target): (150,) int64\n",
            "Example of x and y pair: [5.1 3.5 1.4 0.2] 0\n",
            "Shape of training set X (120, 4)\n",
            "Shape of test set X (30, 4)\n"
          ]
        }
      ],
      "source": [
        "iris = load_iris()\n",
        "\n",
        "X = iris['data']\n",
        "y = iris['target']\n",
        "names = iris['target_names']\n",
        "feature_names = iris['feature_names']\n",
        "  \n",
        "print(f\"Shape of X (data): {X.shape}\")\n",
        "print(f\"Shape of y (target): {y.shape} {y.dtype}\")\n",
        "print(f\"Example of x and y pair: {X[0]} {y[0]}\")\n",
        "\n",
        "# Scale data to have mean 0 and variance 1 \n",
        "scaler = StandardScaler()\n",
        "X_scaled = scaler.fit_transform(X)\n",
        "\n",
        "# Split the data set into training and testing\n",
        "X_train, X_test, y_train, y_test = train_test_split(\n",
        "    X_scaled, y, test_size=0.2, random_state=2)\n",
        "\n",
        "print(\"Shape of training set X\", X_train.shape)\n",
        "print(\"Shape of test set X\", X_test.shape)"
      ]
    },
    {
      "cell_type": "markdown",
      "source": [
        "## Visualize"
      ],
      "metadata": {
        "id": "bFFc6c7YheLj"
      }
    },
    {
      "cell_type": "markdown",
      "source": [
        "A visualisation of the data shows the correct classification of the input data. The dataset consists of the so-called [Iris Dataset](https://scikit-learn.org/stable/auto_examples/datasets/plot_iris_dataset.html). This data sets consists of 3 different types of irises’ (Setosa, Versicolour, and Virginica). The input features are the sepal length, the sepal width, the petal length and the petal width. "
      ],
      "metadata": {
        "id": "QDnQlWDTNfI-"
      }
    },
    {
      "cell_type": "code",
      "source": [
        "plt.style.use('ggplot')\n",
        "\n",
        "def show_plots(X, y, fixed_input_y = None, epsilon = None):\n",
        "  fig, (ax1, ax2) = plt.subplots(1, 2, figsize=(16, 6))\n",
        "  for target, target_name in enumerate(names):\n",
        "      X_plot = X[y == target]\n",
        "      ax1.plot(X_plot[:, 0], X_plot[:, 1], \n",
        "              linestyle='none', \n",
        "              marker='o', \n",
        "              label=target_name)\n",
        "  ax1.set_xlabel(feature_names[0])\n",
        "  ax1.set_ylabel(feature_names[1])\n",
        "  ax1.axis('equal')\n",
        "  ax1.legend()\n",
        "\n",
        "  for target, target_name in enumerate(names):\n",
        "      X_plot = X[y == target]\n",
        "      ax2.plot(X_plot[:, 2], X_plot[:, 3], \n",
        "              linestyle='none', \n",
        "              marker='o', \n",
        "              label=target_name)\n",
        "  ax2.set_xlabel(feature_names[2])\n",
        "  ax2.set_ylabel(feature_names[3])\n",
        "  ax2.axis('equal')\n",
        "  ax2.legend()\n",
        "\n",
        "  if fixed_input_y is not None and epsilon is not None:\n",
        "    # TODO add rectangle (l infinitiy norm) +-epsilon\n",
        "    circle = plt.Circle((X[0][0], X[0][1]), 0.2, color='r', fill=False)\n",
        "    ax1.set_aspect(\"equal\", adjustable=\"datalim\")\n",
        "    ax1.add_patch(circle)\n",
        "\n",
        "    circle = plt.Circle((X[0][2], X[0][3]), 0.2, color='r', fill=False)\n",
        "    ax2.set_aspect(\"equal\", adjustable=\"datalim\")\n",
        "    ax2.add_patch(circle)"
      ],
      "metadata": {
        "id": "qrfkEq_shgv6"
      },
      "execution_count": 4,
      "outputs": []
    },
    {
      "cell_type": "code",
      "source": [
        "show_plots(X, y)"
      ],
      "metadata": {
        "id": "OOxEBcN3z2kF",
        "outputId": "c3e710bc-b6a1-4c45-9073-a451eb583dc4",
        "colab": {
          "base_uri": "https://localhost:8080/",
          "height": 391
        }
      },
      "execution_count": 5,
      "outputs": [
        {
          "output_type": "display_data",
          "data": {
            "text/plain": [
              "<Figure size 1152x432 with 2 Axes>"
            ],
            "image/png": "[encoded data removed]"
          },
          "metadata": {}
        }
      ]
    },
    {
      "cell_type": "markdown",
      "source": [
        "## Create Model\n",
        "\n",
        "The class NeuralNetwork(nn.Module) allows initializing a neural network with different layers. \n",
        "Here, we use a simple network with only three linear layers, because complex networks require high computational effort for verification."
      ],
      "metadata": {
        "id": "t1RHVlUOgcce"
      }
    },
    {
      "cell_type": "code",
      "source": [
        "import torch.nn.functional as F\n",
        "# Get cpu or gpu device for training.\n",
        "device = \"cuda\" if torch.cuda.is_available() else \"cpu\"\n",
        "print(f\"Using {device} device\")\n",
        "\n",
        "# Define model\n",
        "class NeuralNetwork(nn.Module):\n",
        "    def __init__(self, input_dim, output_dim, number_of_neurons):\n",
        "        super(NeuralNetwork, self).__init__()\n",
        "        self.linear_relu_stack = nn.Sequential(\n",
        "            nn.Linear(input_dim, number_of_neurons),\n",
        "            nn.ReLU(),\n",
        "            nn.Linear(number_of_neurons, number_of_neurons),\n",
        "            nn.ReLU(),\n",
        "            nn.Linear(number_of_neurons, output_dim),\n",
        "        )\n",
        "\n",
        "    def forward(self, x):\n",
        "        logits = self.linear_relu_stack(x)\n",
        "        return logits"
      ],
      "metadata": {
        "id": "-XS6KcOvgkjI",
        "outputId": "1118cc4a-ec56-49d3-93a6-ba524dcd530d",
        "colab": {
          "base_uri": "https://localhost:8080/"
        }
      },
      "execution_count": 6,
      "outputs": [
        {
          "output_type": "stream",
          "name": "stdout",
          "text": [
            "Using cuda device\n"
          ]
        }
      ]
    },
    {
      "cell_type": "markdown",
      "source": [
        "## Train model"
      ],
      "metadata": {
        "id": "-_0_55YG73tT"
      }
    },
    {
      "cell_type": "markdown",
      "source": [
        "An instance of the class NeuralNetwork() is then created and trained by using an optimizer and loss function."
      ],
      "metadata": {
        "id": "4DVpoTyqgjHB"
      }
    },
    {
      "cell_type": "code",
      "source": [
        "def train(X, y, model, loss_fn, optimizer):\n",
        "    model.train()\n",
        "    \n",
        "    # convert numpy array to pytorch tensor\n",
        "    X = Variable(torch.from_numpy(X)).float()\n",
        "    y = Variable(torch.from_numpy(y)).long()\n",
        "    X = X.to(device)\n",
        "    y = y.to(device)\n",
        "\n",
        "    # Compute prediction error\n",
        "    pred = model(X)\n",
        "    loss = loss_fn(pred, y)\n",
        "\n",
        "    # Backpropagation\n",
        "    optimizer.zero_grad()\n",
        "    loss.backward()\n",
        "    optimizer.step()\n",
        "\n",
        "    loss = loss.item()\n",
        "    return loss"
      ],
      "metadata": {
        "id": "sugcndu9OaTj"
      },
      "execution_count": null,
      "outputs": []
    },
    {
      "cell_type": "code",
      "source": [
        "def predict(X, model):\n",
        "    model.eval()\n",
        "    with torch.no_grad():\n",
        "        X = Variable(torch.from_numpy(X)).float()\n",
        "        X = X.to(device)\n",
        "        pred = model(X)\n",
        "        pred = pred.argmax(1)\n",
        "        pred = pred.cpu().detach().numpy()\n",
        "    return pred"
      ],
      "metadata": {
        "id": "Vf2SKRe_OmrY"
      },
      "execution_count": null,
      "outputs": []
    },
    {
      "cell_type": "code",
      "source": [
        "def test(X, y, model, loss_fn):\n",
        "    model.eval()\n",
        "    test_loss, correct = 0, 0\n",
        "    with torch.no_grad():\n",
        "        X = Variable(torch.from_numpy(X)).float()\n",
        "        y = Variable(torch.from_numpy(y)).long()\n",
        "        X = X.to(device)\n",
        "        y = y.to(device)\n",
        "        pred = model(X)\n",
        "        test_loss += loss_fn(pred, y).item()\n",
        "        correct += (pred.argmax(1) == y).type(torch.float).sum().item()\n",
        "    correct /= X.shape[0]\n",
        "    return correct, test_loss"
      ],
      "metadata": {
        "id": "HiTu5K_Z0zU4"
      },
      "execution_count": 7,
      "outputs": []
    },
    {
      "cell_type": "code",
      "source": [
        "def train_model(model, epochs):\n",
        "  loss_fn = nn.CrossEntropyLoss()\n",
        "  optimizer = torch.optim.Adam(model.parameters(), lr=1e-3)\n",
        "\n",
        "\n",
        "  loss_list     = np.zeros((epochs,))\n",
        "  accuracy_list = np.zeros((epochs,))\n",
        "\n",
        "  for epoch in tqdm.trange(epochs):\n",
        "    loss_list[epoch] = train(X_train, y_train, model, loss_fn, optimizer)\n",
        "    correct, test_loss = test(X_test, y_test, model, loss_fn)\n",
        "    accuracy_list[epoch] = correct\n",
        "  \n",
        "  print()\n",
        "  print(\"Done. Accuracy:\", accuracy_list[-1])"
      ],
      "metadata": {
        "id": "se6iQ-3m05bp"
      },
      "execution_count": 8,
      "outputs": []
    },
    {
      "cell_type": "code",
      "source": [
        "torch.manual_seed(42)\n",
        "\n",
        "model = NeuralNetwork(input_dim=X_train.shape[1], output_dim=3, number_of_neurons=20).to(device)\n",
        "print(model)\n",
        "\n",
        "train_model(model, epochs=100)"
      ],
      "metadata": {
        "id": "6J812JwE09Zg",
        "outputId": "faab8df9-5a50-49c1-854c-a776a1ea426f",
        "colab": {
          "base_uri": "https://localhost:8080/"
        }
      },
      "execution_count": 9,
      "outputs": [
        {
          "output_type": "stream",
          "name": "stdout",
          "text": [
            "NeuralNetwork(\n",
            "  (linear_relu_stack): Sequential(\n",
            "    (0): Linear(in_features=4, out_features=20, bias=True)\n",
            "    (1): ReLU()\n",
            "    (2): Linear(in_features=20, out_features=20, bias=True)\n",
            "    (3): ReLU()\n",
            "    (4): Linear(in_features=20, out_features=3, bias=True)\n",
            "  )\n",
            ")\n"
          ]
        },
        {
          "output_type": "stream",
          "name": "stderr",
          "text": [
            "100%|██████████| 100/100 [00:00<00:00, 173.20it/s]"
          ]
        },
        {
          "output_type": "stream",
          "name": "stdout",
          "text": [
            "\n",
            "Done. Accuracy: 0.8666666666666667\n"
          ]
        },
        {
          "output_type": "stream",
          "name": "stderr",
          "text": [
            "\n"
          ]
        }
      ]
    },
    {
      "cell_type": "code",
      "source": [
        "show_plots(X, y)\n",
        "show_plots(X, predict(X, model))"
      ],
      "metadata": {
        "id": "ZIS92z7j4LaU",
        "outputId": "c2eb711f-76e5-4922-bb78-5434e6823936",
        "colab": {
          "base_uri": "https://localhost:8080/",
          "height": 765
        }
      },
      "execution_count": 10,
      "outputs": [
        {
          "output_type": "display_data",
          "data": {
            "text/plain": [
              "<Figure size 1152x432 with 2 Axes>"
            ],
            "image/png": "[encoded data removed]"
          },
          "metadata": {}
        },
        {
          "output_type": "display_data",
          "data": {
            "text/plain": [
              "<Figure size 1152x432 with 2 Axes>"
            ],
            "image/png": "[encoded data removed]"
          },
          "metadata": {}
        }
      ]
    },
    {
      "cell_type": "markdown",
      "source": [
        "## Verification of a neural network using Z3"
      ],
      "metadata": {
        "id": "Qn24qqA3tiYE",
        "pycharm": {
          "name": "#%% md\n"
        }
      }
    },
    {
      "cell_type": "markdown",
      "source": [
        "The next step will be to create a solver with z3 in order to find Aversarial Examples. \"An adversarial example is an instance with small, intentional feature perturbations that cause a machine learning model to make a false prediction.\" (For more information on adversarial examples see [this article](https://christophm.github.io/interpretable-ml-book/adversarial.html).\n",
        "Z3 is a theorem prover from Microsoft Research (for more information on z3 see [z3 on pypi](https://pypi.org/project/z3-solver/)). \n",
        "\n",
        "We first need to import the numpy and z3 library."
      ],
      "metadata": {
        "id": "Pjikqx_Hg6o2"
      }
    },
    {
      "cell_type": "code",
      "source": [
        "import numpy as np\n",
        "from z3 import *"
      ],
      "metadata": {
        "id": "3R-lntkbg-aA"
      },
      "execution_count": 11,
      "outputs": []
    },
    {
      "cell_type": "markdown",
      "source": [
        "The ML model was trained on the MNIST dataset in the previous section.\n",
        "Now the task is to recreate the model using the trained weights and the layers of the model. To do this, the learned weights and biases must first be extracted from the model. This is done by iterating over the layers and saving the weights and biases of the Linear Layers into lists."
      ],
      "metadata": {
        "id": "3ya0UOSGhA43"
      }
    },
    {
      "cell_type": "code",
      "source": [
        "def get_weights_and_biases_pytorch(model):\n",
        "  weights_and_biases = [param.cpu().detach().numpy() for param in model.parameters()]\n",
        "  weights = weights_and_biases[0::2]\n",
        "  biases = weights_and_biases[1::2]\n",
        "  return weights, biases\n",
        "\n",
        "\n",
        "weights, biases = get_weights_and_biases_pytorch(model)"
      ],
      "metadata": {
        "id": "fqsUPwfb4kLd"
      },
      "execution_count": 12,
      "outputs": []
    },
    {
      "cell_type": "markdown",
      "source": [
        "To analyze the network with z3 later on, we have to manually define our activation function which in our case is the Relu function as our solver can only deal with (partially) linear activation functions. In the same way the absolute value is defined as a helper function to aid in calculating the distance between 2 vectors when using z3."
      ],
      "metadata": {
        "id": "L0WP9GSyhKL-"
      }
    },
    {
      "cell_type": "code",
      "source": [
        "def Relu(x):\n",
        "    return np.vectorize(lambda y: If(y >= 0 , y, RealVal(0)))(x)\n",
        "\n",
        "\n",
        "def Abs(x):\n",
        "    ret = If(x <= 0, -x, x)\n",
        "    return ret"
      ],
      "metadata": {
        "id": "hrgBiMwChOXy"
      },
      "execution_count": 13,
      "outputs": []
    },
    {
      "cell_type": "markdown",
      "source": [
        "In the following function the model is defined. \n",
        "The input x are z3 variables. They iterate through each layer with the previously extracted weights and biases. \n",
        "This results in a z3 formula with the z3 inputs."
      ],
      "metadata": {
        "id": "LAkaqwdqhVOd"
      }
    },
    {
      "cell_type": "markdown",
      "source": [
        "TODO: check transpose\n",
        "\n",
        "x @ np.transpose(weights) ???"
      ],
      "metadata": {
        "id": "t-ybbWSZ6xJv"
      }
    },
    {
      "cell_type": "code",
      "source": [
        "def net(x, weights, biases):\n",
        "  output = x\n",
        "\n",
        "  for i, (weight, bias) in enumerate(zip(weights, biases)):\n",
        "    output = weight @ output + bias\n",
        "    # apply relu except in last layer\n",
        "    if i != len(weights) - 1:\n",
        "      output = Relu(output)\n",
        "  return output"
      ],
      "metadata": {
        "id": "qE5iTY365wnn"
      },
      "execution_count": 14,
      "outputs": []
    },
    {
      "cell_type": "markdown",
      "source": [
        "In the next section we search the adversarial example to a sample of the dataset. Therefore a sample runs through the trained model to predict an outcome. \n",
        "The beforehand written function ```net(x)``` gets a manipulated input of the sample. A epsilon is added to every value of the input of the function.\n",
        "To generate a vector epsilon which will constitute our manipulation of the input data with z3 the solver has to be defined first and then the constraints of our vectors as well as the inputs and outputs are added to the solver. The solver then has to check the satisfiability of the given constraints and a model is returned and printed if a vector epsilon which has a taxicab norm smaller than the constant e and changes the category with the highest probability exists."
      ],
      "metadata": {
        "id": "JMnbeZ8PhhPa"
      }
    },
    {
      "cell_type": "markdown",
      "source": [
        "## Robustness verification"
      ],
      "metadata": {
        "id": "GacyP55L8QpC"
      }
    },
    {
      "cell_type": "markdown",
      "source": [
        "Adversarial robustness with fixed input $\\vec{y} ∈ R^m $, L∞-distance, 𝑉_𝑖={𝜈_1, …, 𝜈_𝑚 }, and 𝑉_𝑜={𝜈_1^′, …, 𝜈_𝑛^′ }:\n",
        "\n",
        "verification condition: $ \\psi≔(φ_{pre} ∧ φ_{assign}) ⇒ φ_{post} $\n",
        "\n",
        "precondition: $ \\varphi_{pre} ≔ ⋀_{i=1}^n ((x_{v_i} - y_i ≤ ε) ∧ (y_i - x_{v_i} ≤ ε)) $\n",
        "\n",
        "assign: $ \\varphi_{assign} ≔ φ^N $\n",
        "\n",
        "post condition: $ \\varphi_{post} ≔ ⋀_{i=1}^m x_{v'_i} ≤ x_{v'_l} $ for $ \\ell = \\arg\\max f_N(\\vec{y}) $\n",
        "\n",
        "\n",
        "proving robustness means proving the verification condition"
      ],
      "metadata": {
        "id": "NjswTTcO9aYc"
      }
    },
    {
      "cell_type": "code",
      "source": [
        "def verify(fixed_input_y, fixed_input_y_class, epsilon, weights, biases):\n",
        "  \"\"\"assumption: the model to verify has only fully connected layers with bias in every layer and relu between them\"\"\"\n",
        "  input_size = fixed_input_y.shape[0]\n",
        "  x = RealVector(\"x\", input_size)\n",
        "\n",
        "  # pre-condition\n",
        "  # basically L_infinity-distance in boolean speak\n",
        "  and_parts = []\n",
        "  for i, x_vi in enumerate(x):\n",
        "    and_parts.append(And((x_vi - fixed_input_y[i]) <= epsilon, (fixed_input_y[i] - x_vi) <= epsilon))\n",
        "  pre_cond = And(and_parts)\n",
        "\n",
        "  # post-condition\n",
        "  # x_vo = x_v'\n",
        "  output = net(x, weights, biases)\n",
        "  and_parts = []\n",
        "  for i, x_vo in enumerate(output):\n",
        "    and_parts.append(x_vo <= output[fixed_input_y_class])\n",
        "  post_cond = And(and_parts)\n",
        "\n",
        "  verification_cond = Implies(pre_cond, post_cond)\n",
        "\n",
        "  print(\"Pre condition: \")\n",
        "  print(pre_cond)\n",
        "  print(\"Post condition: \")\n",
        "  print(post_cond)\n",
        "  print(\"--------------\")\n",
        "\n",
        "  prove(verification_cond)"
      ],
      "metadata": {
        "id": "gBY3e2Kw7Uq2"
      },
      "execution_count": 15,
      "outputs": []
    },
    {
      "cell_type": "markdown",
      "source": [
        "TODO add second fixed input example"
      ],
      "metadata": {
        "id": "1qLUFDtw8Uuk"
      }
    },
    {
      "cell_type": "code",
      "source": [
        "fixed_input_y = X[0]\n",
        "fixed_input_y_class = y[0]\n",
        "epsilon = 0.5"
      ],
      "metadata": {
        "id": "toXBusE57iQo"
      },
      "execution_count": 16,
      "outputs": []
    },
    {
      "cell_type": "code",
      "source": [
        "start_time = time.time()\n",
        "verify(fixed_input_y, fixed_input_y_class, epsilon, weights, biases)\n",
        "print(f\"{((time.time() - start_time)/60):.2f} minutes\")"
      ],
      "metadata": {
        "id": "A0Uzopda7ZUh",
        "outputId": "fc3c6600-a172-4775-8359-88c91228d00e",
        "colab": {
          "base_uri": "https://localhost:8080/"
        }
      },
      "execution_count": 17,
      "outputs": [
        {
          "output_type": "stream",
          "name": "stdout",
          "text": [
            "Pre condition: \n",
            "And(And(x__0 - 51/10 <= 1/2, 51/10 - x__0 <= 1/2),\n",
            "    And(x__1 - 7/2 <= 1/2, 7/2 - x__1 <= 1/2),\n",
            "    And(x__2 - 7/5 <= 1/2, 7/5 - x__2 <= 1/2),\n",
            "    And(x__3 - 1/5 <= 1/2, 1/5 - x__3 <= 1/2))\n",
            "Post condition: \n",
            "And(... +\n",
            "    ... +\n",
            "    ... +\n",
            "    ... +\n",
            "    ... +\n",
            "    ... +\n",
            "    ... +\n",
            "    ... +\n",
            "    ... +\n",
            "    ... +\n",
            "    ... +\n",
            "    ... +\n",
            "    ... +\n",
            "    ... +\n",
            "    ... +\n",
            "    ... +\n",
            "    ... +\n",
            "    ... +\n",
            "    ... +\n",
            "    ... +\n",
            "    ... <=\n",
            "    ...,\n",
            "    ...,\n",
            "    ...)\n",
            "--------------\n",
            "counterexample\n",
            "[x__3 = -3/10,\n",
            " x__0 = 23/5,\n",
            " x__1 = 612769848322629954041821379849898507/155073482884252647271243535653411610,\n",
            " x__2 = 9/10]\n",
            "0.81 minutes\n"
          ]
        }
      ]
    },
    {
      "cell_type": "markdown",
      "source": [
        "## Prediction plots with epsilon"
      ],
      "metadata": {
        "id": "p8xujoQA8Ys7"
      }
    },
    {
      "cell_type": "code",
      "source": [
        "show_plots(X, predict(X, model), fixed_input_y, epsilon)"
      ],
      "metadata": {
        "id": "F9qPlsh77d6r",
        "outputId": "810c37d2-717e-489d-babd-38173632f528",
        "colab": {
          "base_uri": "https://localhost:8080/",
          "height": 391
        }
      },
      "execution_count": 18,
      "outputs": [
        {
          "output_type": "display_data",
          "data": {
            "text/plain": [
              "<Figure size 1152x432 with 2 Axes>"
            ],
            "image/png": "[encoded data removed]"
          },
          "metadata": {}
        }
      ]
    },
    {
      "cell_type": "code",
      "source": [
        ""
      ],
      "metadata": {
        "id": "bIYvrjk37kNW"
      },
      "execution_count": 18,
      "outputs": []
    },
    {
      "cell_type": "markdown",
      "source": [
        "## Task: find largest epsilon for robustness with binary search\n",
        "with a certain accuracy\n",
        "\n",
        "TODO"
      ],
      "metadata": {
        "id": "11VVB4Uj8p13"
      }
    },
    {
      "cell_type": "code",
      "source": [
        ""
      ],
      "metadata": {
        "id": "GyRTysoE83UV"
      },
      "execution_count": 18,
      "outputs": []
    },
    {
      "cell_type": "markdown",
      "source": [
        "## Appendix"
      ],
      "metadata": {
        "id": "j6ftZQcs9Sea"
      }
    },
    {
      "cell_type": "markdown",
      "source": [
        "### Verify with each neuron encoded seperately"
      ],
      "metadata": {
        "id": "f1bdvZ3w9UWX"
      }
    },
    {
      "cell_type": "code",
      "source": [
        "def ReluSingleNeuron(x):\n",
        "  return If(x >= 0, x, RealVal(0))\n",
        "\n",
        "def verify_each_neuron(fixed_input_y, fixed_input_y_class, epsilon, weights, biases):\n",
        "  # Unpack weights of the trained model\n",
        "  input_size = fixed_input_y.shape[0]\n",
        "  neurons = []\n",
        "  x = RealVector(\"x\", input_size)\n",
        "  output  = [RealVector(f\"x{i}\", weight.shape[0]) for i, weight in enumerate(weights)]\n",
        "\n",
        "  # pre-condition\n",
        "  # basically L_infinity-distance in boolean speak\n",
        "  and_parts = []\n",
        "  for i, x_vi in enumerate(x):\n",
        "    and_parts.append(And((x_vi - fixed_input_y[i]) <= epsilon, (fixed_input_y[i] - x_vi) <= epsilon))\n",
        "  pre_cond = And(and_parts)\n",
        "  #print(pre_cond)\n",
        "\n",
        "  # assign\n",
        "  and_parts = []\n",
        "  # for each layer\n",
        "  for layer_i, (layer_output, layer_weights, layer_biases) in enumerate(zip(output, weights, biases)):\n",
        "    # for each neuron\n",
        "    for neuron_output, neuron_weights, neuron_bias in zip(layer_output, layer_weights, layer_biases):\n",
        "      if layer_i == 0:\n",
        "        # neuron input is net input\n",
        "        neuron_inputs = x\n",
        "      else:\n",
        "        # neuron input is output of previous layer\n",
        "        neuron_inputs = output[layer_i - 1]\n",
        "      and_parts.append(neuron_output == ReluSingleNeuron(neuron_weights @ neuron_inputs + neuron_bias))\n",
        "  assign = And(and_parts)\n",
        "\n",
        "  # post-condition\n",
        "  # x_vo = x_v'\n",
        "  and_parts = []\n",
        "  for i, x_vo in enumerate(output[-1]):\n",
        "    # l is the argmax of fixed_input_y\n",
        "    and_parts.append(x_vo <= output[-1][fixed_input_y_class])\n",
        "  post_cond = And(and_parts)\n",
        "\n",
        "  # verification conditions\n",
        "  verification_cond = Implies(And(pre_cond, assign), post_cond)\n",
        "\n",
        "  # prove using Z3\n",
        "  prove(verification_cond)"
      ],
      "metadata": {
        "id": "gjo9A2oZ9T0R"
      },
      "execution_count": 19,
      "outputs": []
    },
    {
      "cell_type": "code",
      "source": [
        "start_time = time.time()\n",
        "verify_each_neuron(fixed_input_y, fixed_input_y_class, epsilon, weights, biases)\n",
        "print(f\"{((time.time() - start_time)/60):.2f} minutes\")"
      ],
      "metadata": {
        "id": "-skIa28D916V",
        "outputId": "6144abe0-393a-4108-8478-d01f5db2ce1d",
        "colab": {
          "base_uri": "https://localhost:8080/"
        }
      },
      "execution_count": 20,
      "outputs": [
        {
          "output_type": "stream",
          "name": "stdout",
          "text": [
            "counterexample\n",
            "[x1__15 = 0,\n",
            " x1__16 = 1909960704049475296363439592033848326968045003015931/781658664345741250000000000000000000000000000000000,\n",
            " x1__10 = 0,\n",
            " x0__10 = 561429651639880388124350559351521/625326931476593000000000000000000,\n",
            " x0__9 = 1518522119222499287016274923755609/1250653862953186000000000000000000,\n",
            " x0__17 = 0,\n",
            " x1__11 = 0,\n",
            " x0__14 = 171450931215274618545350683681659/125065386295318600000000000000000,\n",
            " x1__2 = 24611189566517562963010549854850690997986964733941147/7816586643457412500000000000000000000000000000000000,\n",
            " x2__1 = 0,\n",
            " x0__7 = 0,\n",
            " x0__5 = 0,\n",
            " x1__8 = 0,\n",
            " x0__4 = 4728601043783610885386501849008227/1563317328691482500000000000000000,\n",
            " x__1 = 3,\n",
            " x1__13 = 0,\n",
            " x0__19 = 0,\n",
            " x1__17 = 4538981059895711605784548893525162307182857431370431/1563317328691482500000000000000000000000000000000000,\n",
            " x1__6 = 0,\n",
            " x1__3 = 436923783856992100227156898871438816669054614509311/6253269314765930000000000000000000000000000000000000,\n",
            " x0__18 = 0,\n",
            " x1__12 = 0,\n",
            " x1__14 = 2539130125398584236051572067106051330834561214390073/781658664345741250000000000000000000000000000000000,\n",
            " x0__8 = 3620593250732096797324297137336713/1250653862953186000000000000000000,\n",
            " x0__0 = 10784502718829872287057086670087867/3126634657382965000000000000000000,\n",
            " x1__18 = 6202050327645900683803753990623427700996680784227751/3126634657382965000000000000000000000000000000000000,\n",
            " x1__1 = 49871760567999260700339153427140062776679882313722623/31266346573829650000000000000000000000000000000000000,\n",
            " x0__3 = 94414753391271119135569660277342577/31266346573829650000000000000000000,\n",
            " x1__19 = 538326906267881018066196719351557174707459672683293/3126634657382965000000000000000000000000000000000000,\n",
            " x__0 = 28/5,\n",
            " x0__1 = 0,\n",
            " x0__2 = 7273309808899611692529325069445593/3126634657382965000000000000000000,\n",
            " x1__5 = 2253239259945523102852911362463398550212888296261341/1250653862953186000000000000000000000000000000000000,\n",
            " x1__9 = 0,\n",
            " x0__11 = 1179538126867768368181128925974499/781658664345741250000000000000000,\n",
            " x0__15 = 0,\n",
            " x1__7 = 0,\n",
            " x__3 = 12363557808666221/62532693147659300,\n",
            " x1__0 = 1686314039662782462940301869040828630963520806658583/3126634657382965000000000000000000000000000000000000,\n",
            " x0__16 = 523620493225039658322867412326557/390829332172870625000000000000000,\n",
            " x0__12 = 596976905043043537400166708667797/3126634657382965000000000000000000,\n",
            " x__2 = 9/10,\n",
            " x2__0 = 0,\n",
            " x0__13 = 0,\n",
            " x1__4 = 0,\n",
            " x2__2 = 8559466206535117195978341103598980275344015732332703492969531315828763/3126634657382965000000000000000000000000000000000000000000000000000000,\n",
            " x0__6 = 0]\n",
            "17.54 minutes\n"
          ]
        }
      ]
    },
    {
      "cell_type": "markdown",
      "source": [
        "### Another approach: Create Solver to find Adversarial Examples"
      ],
      "metadata": {
        "id": "xx60TlqD-UUT"
      }
    },
    {
      "cell_type": "code",
      "execution_count": 21,
      "outputs": [],
      "source": [
        "def find_adversarial_example(num, s):\n",
        "   # predict outcome of inputs with network\n",
        "    sample = Variable(torch.from_numpy(X_test[num])).float()\n",
        "    y1 =  torch.argmax(model(sample)).tolist()\n",
        "    if (y1 == y_test[num]):\n",
        "      print(\"The ML model predicted the correct flower.\")\n",
        "    else:\n",
        "      print(\"The ML model predicted the wrong flower, for a correct example rerun the script.\")\n",
        "\n",
        "    epsilon = RealVector('epsilon', 4)\n",
        "    # new sample with a little difference e (adversarial example)\n",
        "    new_X = [x + e for (x, e) in zip(sample.cpu().detach().numpy(), epsilon)]\n",
        "    y2_pred = net(new_X)\n",
        "\n",
        "    e = 1\n",
        "    s.add(Sum([Abs(a) for a in epsilon]) < e)\n",
        "    # does work :\n",
        "    # s.add(torch.argmax(y1).cpu().detach().numpy() != y2_pred)\n",
        "    s.add(Or(y2_pred[0] > y2_pred[y1], y2_pred[1] > y2_pred[y1], y2_pred[2] > y2_pred[y1]))\n",
        "    res = s.check()\n",
        "    print(res)\n",
        "    if res == sat:\n",
        "        m = s.model()\n",
        "        print(m)"
      ],
      "metadata": {
        "pycharm": {
          "name": "#%%\n"
        },
        "id": "JR0iIrYdd9uH"
      }
    },
    {
      "cell_type": "code",
      "source": [
        "for i in range(len(X_test)):\n",
        "  s = Solver()\n",
        "  find_adversarial_example(i, s)"
      ],
      "metadata": {
        "id": "Ak4hXgNXcmFa",
        "outputId": "c5ec68f6-6a13-49be-c43d-ff2d38a960cd",
        "colab": {
          "base_uri": "https://localhost:8080/",
          "height": 364
        }
      },
      "execution_count": 22,
      "outputs": [
        {
          "output_type": "error",
          "ename": "RuntimeError",
          "evalue": "ignored",
          "traceback": [
            "\u001b[0;31m---------------------------------------------------------------------------\u001b[0m",
            "\u001b[0;31mRuntimeError\u001b[0m                              Traceback (most recent call last)",
            "\u001b[0;32m<ipython-input-22-3bdd023d6bd0>\u001b[0m in \u001b[0;36m<module>\u001b[0;34m()\u001b[0m\n\u001b[1;32m      1\u001b[0m \u001b[0;32mfor\u001b[0m \u001b[0mi\u001b[0m \u001b[0;32min\u001b[0m \u001b[0mrange\u001b[0m\u001b[0;34m(\u001b[0m\u001b[0mlen\u001b[0m\u001b[0;34m(\u001b[0m\u001b[0mX_test\u001b[0m\u001b[0;34m)\u001b[0m\u001b[0;34m)\u001b[0m\u001b[0;34m:\u001b[0m\u001b[0;34m\u001b[0m\u001b[0;34m\u001b[0m\u001b[0m\n\u001b[1;32m      2\u001b[0m   \u001b[0ms\u001b[0m \u001b[0;34m=\u001b[0m \u001b[0mSolver\u001b[0m\u001b[0;34m(\u001b[0m\u001b[0;34m)\u001b[0m\u001b[0;34m\u001b[0m\u001b[0;34m\u001b[0m\u001b[0m\n\u001b[0;32m----> 3\u001b[0;31m   \u001b[0mfind_adversarial_example\u001b[0m\u001b[0;34m(\u001b[0m\u001b[0mi\u001b[0m\u001b[0;34m,\u001b[0m \u001b[0ms\u001b[0m\u001b[0;34m)\u001b[0m\u001b[0;34m\u001b[0m\u001b[0;34m\u001b[0m\u001b[0m\n\u001b[0m",
            "\u001b[0;32m<ipython-input-21-96b145858e7d>\u001b[0m in \u001b[0;36mfind_adversarial_example\u001b[0;34m(num, s)\u001b[0m\n\u001b[1;32m      2\u001b[0m    \u001b[0;31m# predict outcome of inputs with network\u001b[0m\u001b[0;34m\u001b[0m\u001b[0;34m\u001b[0m\u001b[0;34m\u001b[0m\u001b[0m\n\u001b[1;32m      3\u001b[0m     \u001b[0msample\u001b[0m \u001b[0;34m=\u001b[0m \u001b[0mVariable\u001b[0m\u001b[0;34m(\u001b[0m\u001b[0mtorch\u001b[0m\u001b[0;34m.\u001b[0m\u001b[0mfrom_numpy\u001b[0m\u001b[0;34m(\u001b[0m\u001b[0mX_test\u001b[0m\u001b[0;34m[\u001b[0m\u001b[0mnum\u001b[0m\u001b[0;34m]\u001b[0m\u001b[0;34m)\u001b[0m\u001b[0;34m)\u001b[0m\u001b[0;34m.\u001b[0m\u001b[0mfloat\u001b[0m\u001b[0;34m(\u001b[0m\u001b[0;34m)\u001b[0m\u001b[0;34m\u001b[0m\u001b[0;34m\u001b[0m\u001b[0m\n\u001b[0;32m----> 4\u001b[0;31m     \u001b[0my1\u001b[0m \u001b[0;34m=\u001b[0m  \u001b[0mtorch\u001b[0m\u001b[0;34m.\u001b[0m\u001b[0margmax\u001b[0m\u001b[0;34m(\u001b[0m\u001b[0mmodel\u001b[0m\u001b[0;34m(\u001b[0m\u001b[0msample\u001b[0m\u001b[0;34m)\u001b[0m\u001b[0;34m)\u001b[0m\u001b[0;34m.\u001b[0m\u001b[0mtolist\u001b[0m\u001b[0;34m(\u001b[0m\u001b[0;34m)\u001b[0m\u001b[0;34m\u001b[0m\u001b[0;34m\u001b[0m\u001b[0m\n\u001b[0m\u001b[1;32m      5\u001b[0m     \u001b[0;32mif\u001b[0m \u001b[0;34m(\u001b[0m\u001b[0my1\u001b[0m \u001b[0;34m==\u001b[0m \u001b[0my_test\u001b[0m\u001b[0;34m[\u001b[0m\u001b[0mnum\u001b[0m\u001b[0;34m]\u001b[0m\u001b[0;34m)\u001b[0m\u001b[0;34m:\u001b[0m\u001b[0;34m\u001b[0m\u001b[0;34m\u001b[0m\u001b[0m\n\u001b[1;32m      6\u001b[0m       \u001b[0mprint\u001b[0m\u001b[0;34m(\u001b[0m\u001b[0;34m\"The ML model predicted the correct flower.\"\u001b[0m\u001b[0;34m)\u001b[0m\u001b[0;34m\u001b[0m\u001b[0;34m\u001b[0m\u001b[0m\n",
            "\u001b[0;32m/usr/local/lib/python3.7/dist-packages/torch/nn/modules/module.py\u001b[0m in \u001b[0;36m_call_impl\u001b[0;34m(self, *input, **kwargs)\u001b[0m\n\u001b[1;32m   1108\u001b[0m         if not (self._backward_hooks or self._forward_hooks or self._forward_pre_hooks or _global_backward_hooks\n\u001b[1;32m   1109\u001b[0m                 or _global_forward_hooks or _global_forward_pre_hooks):\n\u001b[0;32m-> 1110\u001b[0;31m             \u001b[0;32mreturn\u001b[0m \u001b[0mforward_call\u001b[0m\u001b[0;34m(\u001b[0m\u001b[0;34m*\u001b[0m\u001b[0minput\u001b[0m\u001b[0;34m,\u001b[0m \u001b[0;34m**\u001b[0m\u001b[0mkwargs\u001b[0m\u001b[0;34m)\u001b[0m\u001b[0;34m\u001b[0m\u001b[0;34m\u001b[0m\u001b[0m\n\u001b[0m\u001b[1;32m   1111\u001b[0m         \u001b[0;31m# Do not call functions when jit is used\u001b[0m\u001b[0;34m\u001b[0m\u001b[0;34m\u001b[0m\u001b[0;34m\u001b[0m\u001b[0m\n\u001b[1;32m   1112\u001b[0m         \u001b[0mfull_backward_hooks\u001b[0m\u001b[0;34m,\u001b[0m \u001b[0mnon_full_backward_hooks\u001b[0m \u001b[0;34m=\u001b[0m \u001b[0;34m[\u001b[0m\u001b[0;34m]\u001b[0m\u001b[0;34m,\u001b[0m \u001b[0;34m[\u001b[0m\u001b[0;34m]\u001b[0m\u001b[0;34m\u001b[0m\u001b[0;34m\u001b[0m\u001b[0m\n",
            "\u001b[0;32m<ipython-input-6-00af925abd28>\u001b[0m in \u001b[0;36mforward\u001b[0;34m(self, x)\u001b[0m\n\u001b[1;32m     17\u001b[0m \u001b[0;34m\u001b[0m\u001b[0m\n\u001b[1;32m     18\u001b[0m     \u001b[0;32mdef\u001b[0m \u001b[0mforward\u001b[0m\u001b[0;34m(\u001b[0m\u001b[0mself\u001b[0m\u001b[0;34m,\u001b[0m \u001b[0mx\u001b[0m\u001b[0;34m)\u001b[0m\u001b[0;34m:\u001b[0m\u001b[0;34m\u001b[0m\u001b[0;34m\u001b[0m\u001b[0m\n\u001b[0;32m---> 19\u001b[0;31m         \u001b[0mlogits\u001b[0m \u001b[0;34m=\u001b[0m \u001b[0mself\u001b[0m\u001b[0;34m.\u001b[0m\u001b[0mlinear_relu_stack\u001b[0m\u001b[0;34m(\u001b[0m\u001b[0mx\u001b[0m\u001b[0;34m)\u001b[0m\u001b[0;34m\u001b[0m\u001b[0;34m\u001b[0m\u001b[0m\n\u001b[0m\u001b[1;32m     20\u001b[0m         \u001b[0;32mreturn\u001b[0m \u001b[0mlogits\u001b[0m\u001b[0;34m\u001b[0m\u001b[0;34m\u001b[0m\u001b[0m\n",
            "\u001b[0;32m/usr/local/lib/python3.7/dist-packages/torch/nn/modules/module.py\u001b[0m in \u001b[0;36m_call_impl\u001b[0;34m(self, *input, **kwargs)\u001b[0m\n\u001b[1;32m   1108\u001b[0m         if not (self._backward_hooks or self._forward_hooks or self._forward_pre_hooks or _global_backward_hooks\n\u001b[1;32m   1109\u001b[0m                 or _global_forward_hooks or _global_forward_pre_hooks):\n\u001b[0;32m-> 1110\u001b[0;31m             \u001b[0;32mreturn\u001b[0m \u001b[0mforward_call\u001b[0m\u001b[0;34m(\u001b[0m\u001b[0;34m*\u001b[0m\u001b[0minput\u001b[0m\u001b[0;34m,\u001b[0m \u001b[0;34m**\u001b[0m\u001b[0mkwargs\u001b[0m\u001b[0;34m)\u001b[0m\u001b[0;34m\u001b[0m\u001b[0;34m\u001b[0m\u001b[0m\n\u001b[0m\u001b[1;32m   1111\u001b[0m         \u001b[0;31m# Do not call functions when jit is used\u001b[0m\u001b[0;34m\u001b[0m\u001b[0;34m\u001b[0m\u001b[0;34m\u001b[0m\u001b[0m\n\u001b[1;32m   1112\u001b[0m         \u001b[0mfull_backward_hooks\u001b[0m\u001b[0;34m,\u001b[0m \u001b[0mnon_full_backward_hooks\u001b[0m \u001b[0;34m=\u001b[0m \u001b[0;34m[\u001b[0m\u001b[0;34m]\u001b[0m\u001b[0;34m,\u001b[0m \u001b[0;34m[\u001b[0m\u001b[0;34m]\u001b[0m\u001b[0;34m\u001b[0m\u001b[0;34m\u001b[0m\u001b[0m\n",
            "\u001b[0;32m/usr/local/lib/python3.7/dist-packages/torch/nn/modules/container.py\u001b[0m in \u001b[0;36mforward\u001b[0;34m(self, input)\u001b[0m\n\u001b[1;32m    139\u001b[0m     \u001b[0;32mdef\u001b[0m \u001b[0mforward\u001b[0m\u001b[0;34m(\u001b[0m\u001b[0mself\u001b[0m\u001b[0;34m,\u001b[0m \u001b[0minput\u001b[0m\u001b[0;34m)\u001b[0m\u001b[0;34m:\u001b[0m\u001b[0;34m\u001b[0m\u001b[0;34m\u001b[0m\u001b[0m\n\u001b[1;32m    140\u001b[0m         \u001b[0;32mfor\u001b[0m \u001b[0mmodule\u001b[0m \u001b[0;32min\u001b[0m \u001b[0mself\u001b[0m\u001b[0;34m:\u001b[0m\u001b[0;34m\u001b[0m\u001b[0;34m\u001b[0m\u001b[0m\n\u001b[0;32m--> 141\u001b[0;31m             \u001b[0minput\u001b[0m \u001b[0;34m=\u001b[0m \u001b[0mmodule\u001b[0m\u001b[0;34m(\u001b[0m\u001b[0minput\u001b[0m\u001b[0;34m)\u001b[0m\u001b[0;34m\u001b[0m\u001b[0;34m\u001b[0m\u001b[0m\n\u001b[0m\u001b[1;32m    142\u001b[0m         \u001b[0;32mreturn\u001b[0m \u001b[0minput\u001b[0m\u001b[0;34m\u001b[0m\u001b[0;34m\u001b[0m\u001b[0m\n\u001b[1;32m    143\u001b[0m \u001b[0;34m\u001b[0m\u001b[0m\n",
            "\u001b[0;32m/usr/local/lib/python3.7/dist-packages/torch/nn/modules/module.py\u001b[0m in \u001b[0;36m_call_impl\u001b[0;34m(self, *input, **kwargs)\u001b[0m\n\u001b[1;32m   1108\u001b[0m         if not (self._backward_hooks or self._forward_hooks or self._forward_pre_hooks or _global_backward_hooks\n\u001b[1;32m   1109\u001b[0m                 or _global_forward_hooks or _global_forward_pre_hooks):\n\u001b[0;32m-> 1110\u001b[0;31m             \u001b[0;32mreturn\u001b[0m \u001b[0mforward_call\u001b[0m\u001b[0;34m(\u001b[0m\u001b[0;34m*\u001b[0m\u001b[0minput\u001b[0m\u001b[0;34m,\u001b[0m \u001b[0;34m**\u001b[0m\u001b[0mkwargs\u001b[0m\u001b[0;34m)\u001b[0m\u001b[0;34m\u001b[0m\u001b[0;34m\u001b[0m\u001b[0m\n\u001b[0m\u001b[1;32m   1111\u001b[0m         \u001b[0;31m# Do not call functions when jit is used\u001b[0m\u001b[0;34m\u001b[0m\u001b[0;34m\u001b[0m\u001b[0;34m\u001b[0m\u001b[0m\n\u001b[1;32m   1112\u001b[0m         \u001b[0mfull_backward_hooks\u001b[0m\u001b[0;34m,\u001b[0m \u001b[0mnon_full_backward_hooks\u001b[0m \u001b[0;34m=\u001b[0m \u001b[0;34m[\u001b[0m\u001b[0;34m]\u001b[0m\u001b[0;34m,\u001b[0m \u001b[0;34m[\u001b[0m\u001b[0;34m]\u001b[0m\u001b[0;34m\u001b[0m\u001b[0;34m\u001b[0m\u001b[0m\n",
            "\u001b[0;32m/usr/local/lib/python3.7/dist-packages/torch/nn/modules/linear.py\u001b[0m in \u001b[0;36mforward\u001b[0;34m(self, input)\u001b[0m\n\u001b[1;32m    101\u001b[0m \u001b[0;34m\u001b[0m\u001b[0m\n\u001b[1;32m    102\u001b[0m     \u001b[0;32mdef\u001b[0m \u001b[0mforward\u001b[0m\u001b[0;34m(\u001b[0m\u001b[0mself\u001b[0m\u001b[0;34m,\u001b[0m \u001b[0minput\u001b[0m\u001b[0;34m:\u001b[0m \u001b[0mTensor\u001b[0m\u001b[0;34m)\u001b[0m \u001b[0;34m->\u001b[0m \u001b[0mTensor\u001b[0m\u001b[0;34m:\u001b[0m\u001b[0;34m\u001b[0m\u001b[0;34m\u001b[0m\u001b[0m\n\u001b[0;32m--> 103\u001b[0;31m         \u001b[0;32mreturn\u001b[0m \u001b[0mF\u001b[0m\u001b[0;34m.\u001b[0m\u001b[0mlinear\u001b[0m\u001b[0;34m(\u001b[0m\u001b[0minput\u001b[0m\u001b[0;34m,\u001b[0m \u001b[0mself\u001b[0m\u001b[0;34m.\u001b[0m\u001b[0mweight\u001b[0m\u001b[0;34m,\u001b[0m \u001b[0mself\u001b[0m\u001b[0;34m.\u001b[0m\u001b[0mbias\u001b[0m\u001b[0;34m)\u001b[0m\u001b[0;34m\u001b[0m\u001b[0;34m\u001b[0m\u001b[0m\n\u001b[0m\u001b[1;32m    104\u001b[0m \u001b[0;34m\u001b[0m\u001b[0m\n\u001b[1;32m    105\u001b[0m     \u001b[0;32mdef\u001b[0m \u001b[0mextra_repr\u001b[0m\u001b[0;34m(\u001b[0m\u001b[0mself\u001b[0m\u001b[0;34m)\u001b[0m \u001b[0;34m->\u001b[0m \u001b[0mstr\u001b[0m\u001b[0;34m:\u001b[0m\u001b[0;34m\u001b[0m\u001b[0;34m\u001b[0m\u001b[0m\n",
            "\u001b[0;31mRuntimeError\u001b[0m: Expected all tensors to be on the same device, but found at least two devices, cpu and cuda:0! (when checking argument for argument mat2 in method wrapper_mm)"
          ]
        }
      ]
    }
  ]
}