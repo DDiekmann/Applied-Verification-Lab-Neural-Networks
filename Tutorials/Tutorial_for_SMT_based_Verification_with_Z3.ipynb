{
  "cells": [
    {
      "cell_type": "markdown",
      "metadata": {
        "id": "view-in-github",
        "colab_type": "text"
      },
      "source": [
        "<a href=\"https://colab.research.google.com/github/DDiekmann/Applied-Verification-Lab-Neural-Networks/blob/main/Tutorials/Tutorial_for_SMT_based_Verification_with_Z3.ipynb\" target=\"_parent\"><img src=\"https://colab.research.google.com/assets/colab-badge.svg\" alt=\"Open In Colab\"/></a>"
      ]
    },
    {
      "cell_type": "markdown",
      "metadata": {
        "id": "0I3UiB_UXOJ4"
      },
      "source": [
        "# Tutorial for SMT based Neural Network Verification with Z3\n",
        "\n",
        "---\n",
        "\n",
        "*As an example we try to verifiy the **robustness** of a classification network trained on the iris dataset. We learn how to train a small neural network in pytorch and use the weights and biases to create a number of terms and formulas.*\n",
        "\n",
        "---\n",
        "\n",
        "Because of the focus of this tutorial we don't go into details about the data pre processing and training. If you are interested in that part you can look into the training code for this tutorial at [Iris_Trainer](https://github.com/DDiekmann/Applied-Verification-Lab-Neural-Networks/blob/main/lib/iris_trainer.py) or other tutorials like this [Pytorch Tutorial](https://pytorch.org/tutorials/beginner/blitz/cifar10_tutorial.html#sphx-glr-beginner-blitz-cifar10-tutorial-py).\n"
      ]
    },
    {
      "cell_type": "markdown",
      "metadata": {
        "id": "auGddJ6w4Kyc"
      },
      "source": [
        "Before building our neural network verification, we have to import the necessary packages. For the sake of readability we put helper functions for the import of the dataset as well as plotting into the iris_trainer and plots libraries. We also import Z3 for our SMT-solver, torch for our neural network learning, numpy for our calculations and time for the purpose of benchmarking."
      ]
    },
    {
      "cell_type": "code",
      "execution_count": 3,
      "metadata": {
        "id": "Rtt_lGk_XOJ5",
        "vscode": {
          "languageId": "plaintext"
        }
      },
      "outputs": [],
      "source": [
        "%%capture\n",
        "\n",
        "!wget --no-cache --backups=1 {'https://raw.githubusercontent.com/DDiekmann/Applied-Verification-Lab-Neural-Networks/main/lib/iris_trainer.py'}\n",
        "import iris_trainer\n",
        "\n",
        "!wget --no-cache --backups=1 {'https://raw.githubusercontent.com/DDiekmann/Applied-Verification-Lab-Neural-Networks/main/lib/plots.py'}\n",
        "import plots\n",
        "\n",
        "# SMT solver\n",
        "%pip install z3-solver\n",
        "from z3 import *\n",
        "\n",
        "from torch import nn\n",
        "import numpy as np\n",
        "import time"
      ]
    },
    {
      "cell_type": "markdown",
      "metadata": {
        "id": "gENozSC5XOJ6"
      },
      "source": [
        "<a id='header_training'></a>\n",
        "## Training of the Classification Neural Network\n",
        "To verify the robustness of a neural network, we first have to train our neural network. Using pytorch we create a neural network with an input layer, a hidden layer with ReLu activation function and an output layer."
      ]
    },
    {
      "cell_type": "code",
      "execution_count": 4,
      "metadata": {
        "id": "xbJZAWRWXOJ7",
        "vscode": {
          "languageId": "plaintext"
        }
      },
      "outputs": [],
      "source": [
        "class NeuralNetwork(nn.Module):\n",
        "    def __init__(self, input_dim, output_dim, number_of_neurons):\n",
        "        super(NeuralNetwork, self).__init__()\n",
        "        self.linear_relu_stack = nn.Sequential(\n",
        "            nn.Linear(input_dim, number_of_neurons),\n",
        "            nn.ReLU(),\n",
        "            nn.Linear(number_of_neurons, output_dim),\n",
        "        )\n",
        "\n",
        "    def forward(self, x):\n",
        "        logits = self.linear_relu_stack(x)\n",
        "        return logits"
      ]
    },
    {
      "cell_type": "markdown",
      "metadata": {
        "id": "RegszNxX56BX"
      },
      "source": [
        "After initializing the neural network, we load the dataset and use the dataset as an input to train the model. For detail on this you can take a look at the source code [here](https://github.com/DDiekmann/Applied-Verification-Lab-Neural-Networks/blob/main/lib/iris_trainer.py)."
      ]
    },
    {
      "cell_type": "code",
      "execution_count": 5,
      "metadata": {
        "colab": {
          "base_uri": "https://localhost:8080/"
        },
        "id": "9MlzFtwDXOJ7",
        "outputId": "d421323d-5b3a-451d-e71e-3c144107b1cc",
        "vscode": {
          "languageId": "plaintext"
        }
      },
      "outputs": [
        {
          "output_type": "stream",
          "name": "stdout",
          "text": [
            "Shape of X (data): (150, 4)\n",
            "Shape of y (target): (150,) int64\n",
            "Example of x and y pair: [5.1 3.5 1.4 0.2] 0\n",
            "Shape of training set X (120, 4)\n",
            "Shape of test set X (30, 4)\n"
          ]
        },
        {
          "output_type": "stream",
          "name": "stderr",
          "text": [
            "100%|██████████| 250/250 [00:00<00:00, 586.98it/s]"
          ]
        },
        {
          "output_type": "stream",
          "name": "stdout",
          "text": [
            "\n",
            "Done. Accuracy: 0.8666666666666667\n"
          ]
        },
        {
          "output_type": "stream",
          "name": "stderr",
          "text": [
            "\n"
          ]
        }
      ],
      "source": [
        "names, feature_names, X, y, X_scaled, X_train, X_test, y_train, y_test = iris_trainer.load_dataset()\n",
        "\n",
        "model = iris_trainer.train_model(\n",
        "    NeuralNetwork(input_dim=X_train.shape[1], output_dim=3, number_of_neurons=5), \n",
        "    epochs=250, \n",
        "    X_train=X_train, \n",
        "    X_test=X_test, \n",
        "    y_train=y_train, \n",
        "    y_test=y_test)"
      ]
    },
    {
      "cell_type": "markdown",
      "metadata": {
        "id": "r_Qqz6Lb8rwX"
      },
      "source": [
        "We can now plot the test dataset with its correct predictions and the predictions of our trained neural network. \n",
        "The input data has four dimensions. So one datapoint is represented as two points with one in each plot. \n",
        "In the left plots you see the sepal length and width and in the right plot the petal length and width. "
      ]
    },
    {
      "cell_type": "code",
      "execution_count": 6,
      "metadata": {
        "colab": {
          "base_uri": "https://localhost:8080/",
          "height": 845
        },
        "id": "Imzt6WDbL8F7",
        "outputId": "3a1999a5-9e78-4798-eed5-2f6af4f4e315"
      },
      "outputs": [
        {
          "output_type": "display_data",
          "data": {
            "text/plain": [
              "<Figure size 1152x432 with 2 Axes>"
            ],
            "image/png": "[encoded data removed]"
          },
          "metadata": {
            "needs_background": "light"
          }
        },
        {
          "output_type": "display_data",
          "data": {
            "text/plain": [
              "<Figure size 1152x432 with 2 Axes>"
            ],
            "image/png": "[encoded data removed]"
          },
          "metadata": {
            "needs_background": "light"
          }
        }
      ],
      "source": [
        "plots.show_plots(names, feature_names, X, y, title = 'Ground Truth')\n",
        "plots.show_plots(names, feature_names, X, iris_trainer.predict(X_scaled, model), title = 'Classification from our network')"
      ]
    },
    {
      "cell_type": "markdown",
      "metadata": {
        "id": "dO5FJUDyNNJL"
      },
      "source": [
        "## Define Conditions for Robustness"
      ]
    },
    {
      "cell_type": "markdown",
      "metadata": {
        "id": "IlrTu1pi-A9O"
      },
      "source": [
        "To check the robustness we need to define a procondition and a postcondition. \n",
        "The precondition defines a condition for an testsample. In our case that means that a given point $x$ has a pertubation $c$ with an distance of epsilon $ϵ$, so that:\n",
        "\n",
        "$$\n",
        "precondition: || x - c || \\leq  \\epsilon\n",
        "$$\n",
        "\n",
        "The postcondition now checks if the class of the output $r$ is the same in the pertubated sample as the label $y$:\n",
        "\n",
        "$$\n",
        "postcondition: class(r) = y\n",
        "$$\n",
        "\n",
        "The complete verification condition for a neural network $f(x)$ states:\n",
        "\n",
        "$$\n",
        "precondition ∧ f(x) \\Rightarrow postcondition\n",
        "$$\n",
        "\n",
        "After training our models in the last section we can begin with checking its robustness. Therefore we will choose a fixed element $x$ from the test dataset and an epsilon $ϵ$ for which we will check the robustness. \n",
        "We check if there exists an element $c$ with a maximum difference $\\epsilon$ to $x$, for which the classification is wrong."
      ]
    },
    {
      "cell_type": "markdown",
      "metadata": {
        "id": "L-MAh91RNZjB"
      },
      "source": [
        "### Precondition : $|| x - c || \\leq \\epsilon$\n",
        "\n"
      ]
    },
    {
      "cell_type": "markdown",
      "metadata": {
        "id": "DBuPGhyy-zLX"
      },
      "source": [
        "For the precondition we choose an element from the test dataset and extract its class. Then we also set ```epsilon``` for the boundary $ϵ$."
      ]
    },
    {
      "cell_type": "code",
      "execution_count": 7,
      "metadata": {
        "id": "UdCmlerzPdwm"
      },
      "outputs": [],
      "source": [
        "fixed_input_y = X_scaled[0]\n",
        "fixed_input_y_class = y[0]\n",
        "epsilon = 0.1"
      ]
    },
    {
      "cell_type": "markdown",
      "metadata": {
        "id": "Nrskts3r_F-U"
      },
      "source": [
        "We can plot our data with a red box of for epsilon around our chosen element."
      ]
    },
    {
      "cell_type": "code",
      "execution_count": 8,
      "metadata": {
        "colab": {
          "base_uri": "https://localhost:8080/",
          "height": 431
        },
        "id": "a_QN7nOmQIjY",
        "outputId": "c4a796fe-19b0-416b-9e52-3b53b55c6995"
      },
      "outputs": [
        {
          "output_type": "display_data",
          "data": {
            "text/plain": [
              "<Figure size 1152x432 with 2 Axes>"
            ],
            "image/png": "[encoded data removed]"
          },
          "metadata": {
            "needs_background": "light"
          }
        }
      ],
      "source": [
        "plots.show_plots(names, feature_names, X_scaled, y, fixed_input_y, epsilon, title = 'Epsilon Area on Ground Truth Data')"
      ]
    },
    {
      "cell_type": "markdown",
      "metadata": {
        "id": "Wizq77YOXVuR"
      },
      "source": [
        "To calculate a counterexample to the robustness, we create a ```RealVector``` from Z3 for our misclassified example. Then we conjunct constraints about the difference of our fixed input and the misclassified example to work as our precondition."
      ]
    },
    {
      "cell_type": "code",
      "execution_count": 9,
      "metadata": {
        "id": "BKiBn54vO1_O"
      },
      "outputs": [],
      "source": [
        "input_size = fixed_input_y.shape[0]\n",
        "x = RealVector(\"x\", input_size)\n",
        "\n",
        "def create_pre_condition():\n",
        "  and_parts = []\n",
        "  for i, x_vi in enumerate(x):\n",
        "    and_parts.append(And((x_vi - fixed_input_y[i]) <= epsilon, (fixed_input_y[i] - x_vi) <= epsilon))\n",
        "  return And(and_parts)\n",
        "\n",
        "pre_cond = create_pre_condition()"
      ]
    },
    {
      "cell_type": "markdown",
      "metadata": {
        "id": "Lrg81ug5YzP0"
      },
      "source": [
        "We can now print our precondition to see, that our misclassified example is still only consisting of symbolic variables, as we haven't used Z3 to search for a model of our constraint system."
      ]
    },
    {
      "cell_type": "code",
      "execution_count": 10,
      "metadata": {
        "colab": {
          "base_uri": "https://localhost:8080/"
        },
        "id": "v7NieWIqTY2K",
        "outputId": "bbe7fb68-04a6-4c4d-ddc3-82a167e3d803"
      },
      "outputs": [
        {
          "output_type": "stream",
          "name": "stdout",
          "text": [
            "And(And(x__0 - -9006811702978099/10000000000000000 <= 1/10,\n",
            "        -9006811702978099/10000000000000000 - x__0 <= 1/10),\n",
            "    And(x__1 - 2038008703943213/2000000000000000 <= 1/10,\n",
            "        2038008703943213/2000000000000000 - x__1 <= 1/10),\n",
            "    And(x__2 - -2680453053245527/2000000000000000 <= 1/10,\n",
            "        -2680453053245527/2000000000000000 - x__2 <= 1/10),\n",
            "    And(x__3 - -13154442950077407/10000000000000000 <= 1/10,\n",
            "        -13154442950077407/10000000000000000 - x__3 <= 1/10))\n"
          ]
        }
      ],
      "source": [
        "print(pre_cond)"
      ]
    },
    {
      "cell_type": "markdown",
      "metadata": {
        "id": "jiCaL3jqNco_"
      },
      "source": [
        "### Postcondition: $class(r) = y$"
      ]
    },
    {
      "cell_type": "markdown",
      "metadata": {
        "id": "6T4PeTB_Jwqj"
      },
      "source": [
        "For our postcondition we can ask that our biased input is still classified with the same label as our fixed input. For that all other outputs must be smaller or equal than the correct label."
      ]
    },
    {
      "cell_type": "code",
      "execution_count": 11,
      "metadata": {
        "id": "YOtJ9Zj7U6xq"
      },
      "outputs": [],
      "source": [
        "model_parameters = [param.cpu().detach().numpy() for param in model.parameters()]\n",
        "weights = model_parameters[0::2]\n",
        "output  = [RealVector(f\"x{i}\", weight.shape[0]) for i, weight in enumerate(weights)]"
      ]
    },
    {
      "cell_type": "code",
      "execution_count": 12,
      "metadata": {
        "id": "iqLg_7u6TVxj"
      },
      "outputs": [],
      "source": [
        "# post-condition\n",
        "# x_vo = x_v'\n",
        "and_parts = []\n",
        "for i, x_vo in enumerate(output[-1]):\n",
        "  # l is the argmax of fixed_input_y\n",
        "  and_parts.append(x_vo <= output[-1][fixed_input_y_class])\n",
        "post_cond = And(and_parts)"
      ]
    },
    {
      "cell_type": "code",
      "execution_count": 13,
      "metadata": {
        "colab": {
          "base_uri": "https://localhost:8080/"
        },
        "id": "_nFkLduPVNs5",
        "outputId": "e66cbd71-d5cf-488d-b70f-d7edb8b4c4b2"
      },
      "outputs": [
        {
          "output_type": "stream",
          "name": "stdout",
          "text": [
            "And(x1__0 <= x1__0, x1__1 <= x1__0, x1__2 <= x1__0)\n"
          ]
        }
      ],
      "source": [
        "print(post_cond)"
      ]
    },
    {
      "cell_type": "markdown",
      "metadata": {
        "id": "qT37gmhkXOJ8"
      },
      "source": [
        "## Defining the Assignment"
      ]
    },
    {
      "cell_type": "markdown",
      "metadata": {
        "id": "dmAzY8aibE9V"
      },
      "source": [
        "Next we create a solver in order to find adversarial examples. \"An adversarial example is an instance with small, intentional feature perturbations that cause a machine learning model to make a false prediction.\" (For more information on adversarial examples see [this article](https://christophm.github.io/interpretable-ml-book/adversarial.html)).\n",
        "\n",
        "We use Z3 in this tutorial. Z3 is a theorem prover from Microsoft Research (for more information on Z3 see [Z3 on pypi](https://pypi.org/project/z3-solver/)). \n",
        "\n",
        "The ML model was trained on the iris dataset in the previous section. Now we recreate the model using the trained weights and the layers of the model.\n",
        "\n",
        "---\n",
        "\n",
        "We start with extracting the learned weights and biases from the model. This is done by iterating over the layers and saving the weights and biases of the Linear Layers into lists."
      ]
    },
    {
      "cell_type": "code",
      "execution_count": 14,
      "metadata": {
        "id": "zPfOyvYiKlqH"
      },
      "outputs": [],
      "source": [
        "model_parameters = [param.cpu().detach().numpy() for param in model.parameters()]\n",
        "weights = model_parameters[0::2]\n",
        "biases = model_parameters[1::2]"
      ]
    },
    {
      "cell_type": "markdown",
      "metadata": {
        "id": "8ktvu5I7aO8o"
      },
      "source": [
        "The ReLu Function for a single neuron is encoded in z3 with an ```If``` condition for the value of the input."
      ]
    },
    {
      "cell_type": "code",
      "execution_count": 15,
      "metadata": {
        "id": "RbDQa9HtHcc9"
      },
      "outputs": [],
      "source": [
        "def ReluSingleNeuron(x):\n",
        "  return If(x >= 0, x, RealVal(0))"
      ]
    },
    {
      "cell_type": "markdown",
      "metadata": {
        "id": "lqa3R9WtkKJv"
      },
      "source": [
        "Now ee can recreate the function of our neural network by computing the output of each neuron symbolically and adding the input output relation constraints to our set of constraints as an assign part."
      ]
    },
    {
      "cell_type": "code",
      "execution_count": 16,
      "metadata": {
        "id": "Pi1WCKkEK5mH"
      },
      "outputs": [],
      "source": [
        "# assign\n",
        "assign_parts = []\n",
        "# for each layer\n",
        "for layer_i, (layer_output, layer_weights, layer_biases) in enumerate(zip(output, weights, biases)):\n",
        "  # for each neuron\n",
        "  for neuron_output, neuron_weights, neuron_bias in zip(layer_output, layer_weights, layer_biases):\n",
        "    if layer_i == 0:\n",
        "      # neuron input is net input\n",
        "      neuron_inputs = x\n",
        "    else:\n",
        "      # neuron input is output of previous layer\n",
        "      neuron_inputs = output[layer_i - 1]\n",
        "    assign_parts.append(neuron_output == ReluSingleNeuron(neuron_weights @ neuron_inputs + neuron_bias))\n",
        "assign = And(assign_parts)"
      ]
    },
    {
      "cell_type": "markdown",
      "metadata": {
        "id": "Haroz_p3ls9z"
      },
      "source": [
        "We then print out our assign part again sybolically."
      ]
    },
    {
      "cell_type": "code",
      "execution_count": 17,
      "metadata": {
        "colab": {
          "base_uri": "https://localhost:8080/"
        },
        "id": "39-W3x7wKGUV",
        "outputId": "a93ca3e5-dcc3-4f9a-e50c-75599ea24d5a"
      },
      "outputs": [
        {
          "output_type": "stream",
          "name": "stdout",
          "text": [
            "x0__0 ==\n",
            "If(5720100402832031/10000000000000000*x__0 +\n",
            "   23438198864459991/100000000000000000*x__1 +\n",
            "   2489657886326313/25000000000000000*x__2 +\n",
            "   6861506700515747/10000000000000000*x__3 +\n",
            "   21379767/1000000000 >=\n",
            "   0,\n",
            "   5720100402832031/10000000000000000*x__0 +\n",
            "   23438198864459991/100000000000000000*x__1 +\n",
            "   2489657886326313/25000000000000000*x__2 +\n",
            "   6861506700515747/10000000000000000*x__3 +\n",
            "   21379767/1000000000,\n",
            "   0)\n"
          ]
        }
      ],
      "source": [
        "print(assign_parts[0])"
      ]
    },
    {
      "cell_type": "markdown",
      "metadata": {
        "id": "gXuIL-ZpXOJ8"
      },
      "source": [
        "## Verifying robustness: $precondition ∧ f(x) ⇒ postcondition$"
      ]
    },
    {
      "cell_type": "markdown",
      "metadata": {
        "id": "yssqsjdTl4f9"
      },
      "source": [
        "The verification condition for our neural network is obtained from our precondition, our assign constraints and our postcondition.\n",
        "The verification condition is then given to the SMT-Solver z3 and the validity proven."
      ]
    },
    {
      "cell_type": "code",
      "execution_count": 18,
      "metadata": {
        "colab": {
          "base_uri": "https://localhost:8080/"
        },
        "id": "KX5etK1TW7xf",
        "outputId": "29a6c074-1b3c-4b8c-8e2e-8417d611d2c7"
      },
      "outputs": [
        {
          "output_type": "stream",
          "name": "stdout",
          "text": [
            "proved\n"
          ]
        }
      ],
      "source": [
        "# verification conditions\n",
        "verification_cond = Implies(And(pre_cond, assign), post_cond)\n",
        "\n",
        "# prove using Z3\n",
        "solver = Solver()\n",
        "solver.add(Not(verification_cond))\n",
        "if solver.check() == unsat:\n",
        "  print(\"proved\")\n",
        "else:\n",
        "  print(\"failed to prove\")"
      ]
    },
    {
      "cell_type": "markdown",
      "source": [
        "If you want a counterexample you can use the build in prove function from Z3."
      ],
      "metadata": {
        "id": "I-oZX70Ij3WN"
      }
    },
    {
      "cell_type": "code",
      "execution_count": 19,
      "metadata": {
        "id": "Sg5iEDCELrcd",
        "colab": {
          "base_uri": "https://localhost:8080/"
        },
        "outputId": "3d4843aa-bb25-4d47-adc2-89dd08ceeead"
      },
      "outputs": [
        {
          "output_type": "stream",
          "name": "stdout",
          "text": [
            "proved\n"
          ]
        }
      ],
      "source": [
        "prove(verification_cond)"
      ]
    },
    {
      "cell_type": "markdown",
      "metadata": {
        "id": "UwifjR6Js4i1"
      },
      "source": [
        "### Binary search for upper epsilon\n",
        "Until now we chose our epsilon freely. But maybe we want to search for an upper epsilon, where our condition does not hold. This can be easily achieved by creating the following function. In this function we recreate the verification condition and solve it. Just like we did before in this tutorial."
      ]
    },
    {
      "cell_type": "code",
      "execution_count": 40,
      "metadata": {
        "id": "3doOQ6DKI0Yb"
      },
      "outputs": [],
      "source": [
        "def prove_for_epsilon():\n",
        "  start_time = time.time()\n",
        "  pre_cond = create_pre_condition()\n",
        "  verification_cond = Implies(And(pre_cond, assign), post_cond)\n",
        "  solver = Solver()\n",
        "  solver.add(Not(verification_cond))\n",
        "  result = solver.check()\n",
        "  t = (time.time() - start_time)/60\n",
        "  res = True if result == unsat else False\n",
        "  print(f\"{t:.4f} minutes of solving time\")\n",
        "  return res, t"
      ]
    },
    {
      "cell_type": "markdown",
      "source": [
        "Now we can change our epsilon and easiyl try to prove the robustness based on that value."
      ],
      "metadata": {
        "id": "8sjqw-iJkxDi"
      }
    },
    {
      "cell_type": "code",
      "execution_count": 38,
      "metadata": {
        "colab": {
          "base_uri": "https://localhost:8080/"
        },
        "id": "qU-EYLt9MTnj",
        "outputId": "d14f796f-1faa-4454-fea3-6bc6b528a5e8"
      },
      "outputs": [
        {
          "output_type": "stream",
          "name": "stdout",
          "text": [
            "0.0013 minutes of solving time\n"
          ]
        },
        {
          "output_type": "execute_result",
          "data": {
            "text/plain": [
              "True"
            ]
          },
          "metadata": {},
          "execution_count": 38
        }
      ],
      "source": [
        "epsilon = 0.6\n",
        "res, t = prove_for_epsilon()\n",
        "res"
      ]
    },
    {
      "cell_type": "markdown",
      "source": [
        "Now we can use binary search to find an approximation of the upper bound for epsilon."
      ],
      "metadata": {
        "id": "kh2sgsTslDKS"
      }
    },
    {
      "cell_type": "code",
      "execution_count": 46,
      "metadata": {
        "colab": {
          "base_uri": "https://localhost:8080/",
          "height": 1000
        },
        "id": "1_zQtX17FIxA",
        "outputId": "030d5656-fabe-44b1-9d7a-3a96a9d193cc"
      },
      "outputs": [
        {
          "output_type": "stream",
          "name": "stdout",
          "text": [
            "0.0039 minutes of solving time\n",
            "Not proven for epsilon = 5.0\n",
            "0.0012 minutes of solving time\n",
            "Not proven for epsilon = 2.5\n",
            "0.0036 minutes of solving time\n",
            "Not proven for epsilon = 1.25\n",
            "0.0052 minutes of solving time\n",
            "Not proven for epsilon = 0.625\n",
            "0.0008 minutes of solving time\n",
            "Proven for epsilon = 0.3125\n",
            "0.0006 minutes of solving time\n",
            "Proven for epsilon = 0.46875\n",
            "0.0005 minutes of solving time\n",
            "Proven for epsilon = 0.546875\n",
            "0.0007 minutes of solving time\n",
            "Proven for epsilon = 0.5859375\n",
            "0.0006 minutes of solving time\n",
            "Proven for epsilon = 0.60546875\n",
            "0.0010 minutes of solving time\n",
            "Proven for epsilon = 0.615234375\n",
            "0.0007 minutes of solving time\n",
            "Proven for epsilon = 0.6201171875\n",
            "0.0006 minutes of solving time\n",
            "Proven for epsilon = 0.62255859375\n",
            "0.0009 minutes of solving time\n",
            "Proven for epsilon = 0.623779296875\n",
            "0.0008 minutes of solving time\n",
            "Proven for epsilon = 0.6243896484375\n",
            "0.0010 minutes of solving time\n",
            "Proven for epsilon = 0.62469482421875\n",
            "0.0009 minutes of solving time\n",
            "Proven for epsilon = 0.624847412109375\n",
            "0.0012 minutes of solving time\n",
            "Proven for epsilon = 0.6249237060546875\n",
            "0.0008 minutes of solving time\n",
            "Proven for epsilon = 0.6249618530273438\n",
            "0.0008 minutes of solving time\n",
            "Proven for epsilon = 0.6249809265136719\n",
            "0.0006 minutes of solving time\n",
            "Proven for epsilon = 0.6249904632568359\n",
            "0.0008 minutes of solving time\n",
            "Proven for epsilon = 0.624995231628418\n",
            "0.0011 minutes of solving time\n",
            "Proven for epsilon = 0.624997615814209\n",
            "0.0007 minutes of solving time\n",
            "Proven for epsilon = 0.6249988079071045\n",
            "0.0010 minutes of solving time\n",
            "Proven for epsilon = 0.6249994039535522\n",
            "0.0011 minutes of solving time\n",
            "Proven for epsilon = 0.6249997019767761\n",
            "0.0010 minutes of solving time\n",
            "Proven for epsilon = 0.6249998509883881\n",
            "0.0012 minutes of solving time\n",
            "Proven for epsilon = 0.624999925494194\n",
            "0.0011 minutes of solving time\n",
            "Proven for epsilon = 0.624999962747097\n",
            "0.0011 minutes of solving time\n",
            "Proven for epsilon = 0.6249999813735485\n",
            "0.0011 minutes of solving time\n",
            "Proven for epsilon = 0.6249999906867743\n",
            "0.0008 minutes of solving time\n",
            "Proven for epsilon = 0.6249999953433871\n",
            "0.0012 minutes of solving time\n",
            "Proven for epsilon = 0.6249999976716936\n",
            "0.0010 minutes of solving time\n",
            "Proven for epsilon = 0.6249999988358468\n",
            "0.0011 minutes of solving time\n",
            "Proven for epsilon = 0.6249999994179234\n",
            "0.0011 minutes of solving time\n",
            "Proven for epsilon = 0.6249999997089617\n",
            "0.0011 minutes of solving time\n",
            "Proven for epsilon = 0.6249999998544808\n",
            "0.0010 minutes of solving time\n",
            "Proven for epsilon = 0.6249999999272404\n",
            "0.0008 minutes of solving time\n",
            "Proven for epsilon = 0.6249999999636202\n",
            "0.0013 minutes of solving time\n",
            "Proven for epsilon = 0.6249999999818101\n",
            "0.0010 minutes of solving time\n",
            "Proven for epsilon = 0.624999999990905\n",
            "0.0009 minutes of solving time\n",
            "Proven for epsilon = 0.6249999999954525\n",
            "0.0010 minutes of solving time\n",
            "Proven for epsilon = 0.6249999999977263\n",
            "0.0011 minutes of solving time\n",
            "Proven for epsilon = 0.6249999999988631\n",
            "0.0008 minutes of solving time\n",
            "Proven for epsilon = 0.6249999999994316\n",
            "0.0013 minutes of solving time\n",
            "Proven for epsilon = 0.6249999999997158\n",
            "0.0008 minutes of solving time\n",
            "Proven for epsilon = 0.6249999999998579\n",
            "0.0008 minutes of solving time\n",
            "Proven for epsilon = 0.624999999999929\n",
            "0.0013 minutes of solving time\n",
            "Proven for epsilon = 0.6249999999999645\n",
            "0.0006 minutes of solving time\n",
            "Proven for epsilon = 0.6249999999999822\n",
            "0.0008 minutes of solving time\n",
            "Proven for epsilon = 0.6249999999999911\n",
            "0.0011 minutes of solving time\n",
            "Proven for epsilon = 0.6249999999999956\n",
            "0.0012 minutes of solving time\n",
            "Proven for epsilon = 0.6249999999999978\n",
            "0.0008 minutes of solving time\n",
            "Proven for epsilon = 0.6249999999999989\n",
            "0.0009 minutes of solving time\n",
            "Proven for epsilon = 0.6249999999999994\n",
            "0.0009 minutes of solving time\n",
            "Proven for epsilon = 0.6249999999999998\n",
            "0.0012 minutes of solving time\n",
            "Proven for epsilon = 0.6249999999999999\n",
            "0.0008 minutes of solving time\n",
            "Proven for epsilon = 0.625\n",
            "Eps_right <= Eps_left\n",
            "The smallest epsilon found in 0.0631 minutes = 0.625\n"
          ]
        },
        {
          "output_type": "display_data",
          "data": {
            "text/plain": [
              "<Figure size 1152x432 with 2 Axes>"
            ],
            "image/png": "[encoded data removed]"
          },
          "metadata": {
            "needs_background": "light"
          }
        }
      ],
      "source": [
        "# set inital values for epsilon, max_time and upper/lower limits of binary search \n",
        "max_time  = 5  # minutes\n",
        "cur_time  = 0\n",
        "epsilon   = 5 \n",
        "eps_right = 10\n",
        "eps_left  = 0\n",
        "\n",
        "while True: \n",
        "  res, t = prove_for_epsilon()\n",
        "  cur_time += t\n",
        "  if cur_time > max_time:\n",
        "    break\n",
        "  \n",
        "  epsilon = (eps_right + eps_left) / 2\n",
        "  if res: \n",
        "    print(\"Proven for epsilon =\", epsilon)\n",
        "    eps_left = epsilon \n",
        "  else: \n",
        "    print(\"Not proven for epsilon =\", epsilon)\n",
        "    eps_right = epsilon \n",
        "  \n",
        "  if eps_right <= eps_left: \n",
        "    print(\"Eps_right <= Eps_left\")\n",
        "    break\n",
        "\n",
        "print(f\"The smallest epsilon found in {cur_time:.4f} minutes = {epsilon}\")\n",
        "plots.show_plots(names, feature_names, X_scaled, y, fixed_input_y, epsilon, title = f'Maximum epsilon {epsilon} found by binary search')"
      ]
    },
    {
      "cell_type": "markdown",
      "metadata": {
        "id": "ZARYxh9Ks1V8"
      },
      "source": [
        "# Tip"
      ]
    },
    {
      "cell_type": "markdown",
      "metadata": {
        "id": "utCkeyFBXOJ8"
      },
      "source": [
        "TIP: This verification could take a long time depending on how big your network is. You will want to let this run as you sleep or go to work for the day, etc. However, Colab Cloud Service kicks you off it's VMs if you are idle for too long (30-90 mins).\n",
        "\n",
        "To avoid this hold (CTRL + SHIFT + i) at the same time to open up the inspector view on your browser.\n",
        "\n",
        "Paste the following code into your console window and hit **Enter**\n",
        "```\n",
        "function ClickConnect(){\n",
        "console.log(\"Working\"); \n",
        "document\n",
        "  .querySelector('#top-toolbar > colab-connect-button')\n",
        "  .shadowRoot.querySelector('#connect')\n",
        "  .click() \n",
        "}\n",
        "setInterval(ClickConnect,60000)\n",
        "```\n",
        "Looks like this, it will click the screen every 10 minutes so that you don't get kicked off for being idle! HACKS!"
      ]
    },
    {
      "cell_type": "markdown",
      "metadata": {
        "id": "Dak6_GxEXsJa"
      },
      "source": [
        ""
      ]
    }
  ],
  "metadata": {
    "colab": {
      "name": "Tutorial for SMT based Verification.ipynb",
      "provenance": [],
      "include_colab_link": true
    },
    "kernelspec": {
      "display_name": "Python 3",
      "name": "python3"
    },
    "language_info": {
      "name": "python"
    },
    "orig_nbformat": 4
  },
  "nbformat": 4,
  "nbformat_minor": 0
}