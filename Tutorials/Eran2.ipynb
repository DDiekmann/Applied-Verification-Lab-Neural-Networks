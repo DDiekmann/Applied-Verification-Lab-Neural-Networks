{
  "nbformat": 4,
  "nbformat_minor": 0,
  "metadata": {
    "colab": {
      "name": "Untitled2.ipynb",
      "provenance": [],
      "collapsed_sections": [],
      "authorship_tag": "ABX9TyPqGcgHlZGgQypaF0FTHIz9",
      "include_colab_link": true
    },
    "kernelspec": {
      "name": "python3",
      "display_name": "Python 3"
    },
    "language_info": {
      "name": "python"
    },
    "gpuClass": "standard"
  },
  "cells": [
    {
      "cell_type": "markdown",
      "metadata": {
        "id": "view-in-github",
        "colab_type": "text"
      },
      "source": [
        "<a href=\"https://colab.research.google.com/github/DDiekmann/Applied-Verification-Lab-Neural-Networks/blob/main/Tutorials/Eran2.ipynb\" target=\"_parent\"><img src=\"https://colab.research.google.com/assets/colab-badge.svg\" alt=\"Open In Colab\"/></a>"
      ]
    },
    {
      "cell_type": "code",
      "execution_count": 1,
      "metadata": {
        "id": "7kf3zWHF5Pl2"
      },
      "outputs": [],
      "source": [
        "%%capture\n",
        "%%bash\n",
        "\n",
        "git clone https://github.com/eth-sri/ERAN.git\n",
        "\n",
        "sudo apt install m4\n",
        "sudo apt install build-essential\n",
        "sudo apt install autoconf\n",
        "sudo apt install libtool\n",
        "sudo apt install texlive-latex-base\n",
        "\n",
        "cd ERAN\n",
        "sudo bash ./install.sh\n",
        "pip install -r requirements.txt"
      ]
    },
    {
      "cell_type": "code",
      "source": [
        "%pip uninstall -y pillow\n",
        "%pip install pillow\n",
        "\n",
        "# Currently you have to do this and restart the runtime\n",
        "# This needs to go by removing pillow from the requirements.txt before installing it or installing the packages manually"
      ],
      "metadata": {
        "colab": {
          "base_uri": "https://localhost:8080/",
          "height": 297
        },
        "id": "l5ZRw3BK6XUu",
        "outputId": "ce8ecbc9-dbab-482a-8473-dddd4f339dd1"
      },
      "execution_count": 2,
      "outputs": [
        {
          "output_type": "stream",
          "name": "stdout",
          "text": [
            "Found existing installation: Pillow 9.2.0\n",
            "Uninstalling Pillow-9.2.0:\n",
            "  Successfully uninstalled Pillow-9.2.0\n",
            "Looking in indexes: https://pypi.org/simple, https://us-python.pkg.dev/colab-wheels/public/simple/\n",
            "Collecting pillow\n",
            "  Using cached Pillow-9.2.0-cp37-cp37m-manylinux_2_17_x86_64.manylinux2014_x86_64.whl (3.1 MB)\n",
            "Installing collected packages: pillow\n",
            "\u001b[31mERROR: pip's dependency resolver does not currently take into account all the packages that are installed. This behaviour is the source of the following dependency conflicts.\n",
            "albumentations 0.1.12 requires imgaug<0.2.7,>=0.2.5, but you have imgaug 0.2.9 which is incompatible.\u001b[0m\n",
            "Successfully installed pillow-9.2.0\n"
          ]
        },
        {
          "output_type": "display_data",
          "data": {
            "application/vnd.colab-display-data+json": {
              "pip_warning": {
                "packages": [
                  "PIL"
                ]
              }
            }
          },
          "metadata": {}
        }
      ]
    },
    {
      "cell_type": "code",
      "source": [
        "%%capture\n",
        "\n",
        "%pip install onnx onnxruntime\n",
        "\n",
        "import torch\n",
        "from torch import nn\n",
        "import numpy as np\n",
        "import torch.onnx\n",
        "import sys\n",
        "\n",
        "import matplotlib.pyplot as plt\n",
        "\n",
        "!wget --no-cache --backups=1 {'https://raw.githubusercontent.com/DDiekmann/Applied-Verification-Lab-Neural-Networks/main/lib/iris_trainer.py'}\n",
        "import iris_trainer\n",
        "\n",
        "!wget --no-cache --backups=1 {'https://raw.githubusercontent.com/DDiekmann/Applied-Verification-Lab-Neural-Networks/main/lib/plots.py'}\n",
        "import plots\n",
        "\n",
        "!wget --no-cache --backups=1 {'https://raw.githubusercontent.com/DDiekmann/zonotpy/main/src/zonotope.py'}\n",
        "from zonotope import zono\n",
        "\n",
        "!wget --no-cache --backups=1 {'https://raw.githubusercontent.com/DDiekmann/zonotpy/main/src/interval_abstraction.py'}\n",
        "import interval_abstraction as ia\n",
        "\n",
        "!wget --no-cache --backups=1 {'https://raw.githubusercontent.com/DDiekmann/zonotpy/main/src/nn_functions.py'}\n",
        "import nn_functions as zf"
      ],
      "metadata": {
        "id": "tQpEBnbI5z_v"
      },
      "execution_count": 49,
      "outputs": []
    },
    {
      "cell_type": "code",
      "source": [
        "class NeuralNetwork(nn.Module):\n",
        "    def __init__(self, input_dim, output_dim, number_of_neurons):\n",
        "        super(NeuralNetwork, self).__init__()\n",
        "        self.linear_relu_stack = nn.Sequential(\n",
        "            nn.Linear(input_dim, number_of_neurons),\n",
        "            nn.ReLU(),\n",
        "            nn.Linear(number_of_neurons, output_dim),\n",
        "        )\n",
        "\n",
        "    def forward(self, x):\n",
        "        logits = self.linear_relu_stack(x)\n",
        "        return logits\n",
        "\n",
        "names, feature_names, X, y, X_scaled, X_train, X_test, y_train, y_test = iris_trainer.load_dataset()\n",
        "\n",
        "model = iris_trainer.train_model(\n",
        "    NeuralNetwork(input_dim=X_train.shape[1], output_dim=3, number_of_neurons=10), \n",
        "    epochs=100, \n",
        "    X_train=X_train, \n",
        "    X_test=X_test, \n",
        "    y_train=y_train, \n",
        "    y_test=y_test)\n",
        "\n",
        "plots.show_plots(names, feature_names, X, y, title = 'Ground Truth')\n",
        "plots.show_plots(names, feature_names, X, iris_trainer.predict(X_scaled, model), title = 'Classification from our network')"
      ],
      "metadata": {
        "colab": {
          "base_uri": "https://localhost:8080/",
          "height": 984
        },
        "id": "qEZG7ZZg6I0j",
        "outputId": "569dbd7d-0b89-4a3f-93f2-1583ab387017"
      },
      "execution_count": 7,
      "outputs": [
        {
          "output_type": "stream",
          "name": "stdout",
          "text": [
            "Shape of X (data): (150, 4)\n",
            "Shape of y (target): (150,) int64\n",
            "Example of x and y pair: [5.1 3.5 1.4 0.2] 0\n",
            "Shape of training set X (120, 4)\n",
            "Shape of test set X (30, 4)\n"
          ]
        },
        {
          "output_type": "stream",
          "name": "stderr",
          "text": [
            "100%|██████████| 100/100 [00:00<00:00, 833.79it/s]"
          ]
        },
        {
          "output_type": "stream",
          "name": "stdout",
          "text": [
            "\n",
            "Done. Accuracy: 0.8\n"
          ]
        },
        {
          "output_type": "stream",
          "name": "stderr",
          "text": [
            "\n"
          ]
        },
        {
          "output_type": "display_data",
          "data": {
            "text/plain": [
              "<Figure size 1152x432 with 2 Axes>"
            ],
            "image/png": "[encoded data removed]"
          },
          "metadata": {
            "needs_background": "light"
          }
        },
        {
          "output_type": "display_data",
          "data": {
            "text/plain": [
              "<Figure size 1152x432 with 2 Axes>"
            ],
            "image/png": "[encoded data removed]"
          },
          "metadata": {
            "needs_background": "light"
          }
        }
      ]
    },
    {
      "cell_type": "code",
      "source": [
        "print(X[0])\n",
        "print(y[0])"
      ],
      "metadata": {
        "colab": {
          "base_uri": "https://localhost:8080/"
        },
        "id": "I9EbbJN9fnVM",
        "outputId": "e2f39fae-66cf-4f29-cfa4-225cf4eaa67c"
      },
      "execution_count": 34,
      "outputs": [
        {
          "output_type": "stream",
          "name": "stdout",
          "text": [
            "[5.1 3.5 1.4 0.2]\n",
            "0\n"
          ]
        }
      ]
    },
    {
      "cell_type": "code",
      "source": [
        "model_parameters = [param.cpu().detach().numpy() for param in model.parameters()]\n",
        "weights = model_parameters[0::2]\n",
        "print(weights)\n",
        "biases = model_parameters[1::2]\n",
        "print(biases)"
      ],
      "metadata": {
        "colab": {
          "base_uri": "https://localhost:8080/"
        },
        "id": "pqDhTNOJ8C6S",
        "outputId": "c37490d9-3a28-40c4-ad8c-c9b83d99ddaa"
      },
      "execution_count": 20,
      "outputs": [
        {
          "output_type": "stream",
          "name": "stdout",
          "text": [
            "[array([[ 0.46685746,  0.32909364, -0.0282767 ,  0.54955614],\n",
            "       [ 0.0172611 ,  0.02290974, -0.12281221,  0.41526493],\n",
            "       [ 0.523001  , -0.478515  ,  0.5259937 ,  0.18491063],\n",
            "       [ 0.2740115 ,  0.16081864,  0.14608881, -0.16564141],\n",
            "       [ 0.28994012,  0.16899002, -0.3296092 ,  0.03140867],\n",
            "       [-0.36010888,  0.08178136, -0.336214  ,  0.19957386],\n",
            "       [-0.4992351 , -0.2792941 , -0.25612512, -0.41110736],\n",
            "       [ 0.13729134, -0.4165266 ,  0.55389017, -0.32846192],\n",
            "       [ 0.27337956,  0.18386434, -0.26979002,  0.19589926],\n",
            "       [ 0.14065513,  0.34247053,  0.11684313, -0.09563331]],\n",
            "      dtype=float32), array([[-4.0884161e-01, -1.7889611e-01, -3.3641985e-01,  1.9724481e-01,\n",
            "         1.5924151e-01,  2.3257905e-01,  1.9868356e-01, -9.8084882e-02,\n",
            "         1.9088311e-01, -1.5485901e-01],\n",
            "       [-6.5957919e-02, -3.4132412e-01,  2.0124383e-01, -2.7870901e-02,\n",
            "         1.7993769e-04, -1.6354296e-01,  1.4877616e-01, -9.6463762e-02,\n",
            "        -2.3989472e-01, -2.6587668e-01],\n",
            "       [ 3.7759656e-01,  2.0749961e-01,  3.8943952e-01, -2.1692863e-01,\n",
            "        -3.6565483e-01, -3.5277921e-01, -3.0854264e-01,  4.3128148e-02,\n",
            "         1.7861252e-01,  2.0175856e-01]], dtype=float32)]\n",
            "[array([ 0.22665791, -0.03349002,  0.30813634,  0.4619193 ,  0.40144727,\n",
            "       -0.08242362,  0.38586575,  0.01563552,  0.19276443, -0.35747567],\n",
            "      dtype=float32), array([-0.0633375 , -0.11824076,  0.06886448], dtype=float32)]\n"
          ]
        }
      ]
    },
    {
      "cell_type": "code",
      "source": [
        "model_filename = \"iris_net.onnx\"\n",
        "dummy_input=torch.randn(1, 4)\n",
        "\n",
        "# set model to eval mode\n",
        "model.eval()\n",
        "\n",
        "# create a dummy input in the shape of the input values\n",
        "device = \"cuda\" if torch.cuda.is_available() else \"cpu\"\n",
        "dummy_input = dummy_input.to(device)\n",
        "\n",
        "torch.onnx.export(model,\n",
        "                  dummy_input,\n",
        "                  model_filename,\n",
        "                  export_params=True,\n",
        "                  verbose=False,\n",
        "                  input_names=['data'],\n",
        "                  output_names=['classification'],\n",
        "                  )"
      ],
      "metadata": {
        "id": "fnldKAA2AiSD"
      },
      "execution_count": 21,
      "outputs": []
    },
    {
      "cell_type": "code",
      "source": [
        "%%writefile input_box.txt\n",
        "[5.1, 5.11]\n",
        "[3.5, 3.51]\n",
        "[1.4, 1.41]\n",
        "[0.2, 0.21]"
      ],
      "metadata": {
        "colab": {
          "base_uri": "https://localhost:8080/"
        },
        "id": "Sg1JB7r4Az_z",
        "outputId": "6e656ba9-dfa7-40d6-9f7b-f0b785be7046"
      },
      "execution_count": 52,
      "outputs": [
        {
          "output_type": "stream",
          "name": "stdout",
          "text": [
            "Overwriting input_box.txt\n"
          ]
        }
      ]
    },
    {
      "cell_type": "code",
      "source": [
        "%%writefile zonotype_example.txt\n",
        "4\n",
        "3\n",
        "5.1 0.03 0.0\n",
        "3.5 0.0 0.03\n",
        "1.4 0.03 0.0 \n",
        "0.2 0.0 0.03"
      ],
      "metadata": {
        "colab": {
          "base_uri": "https://localhost:8080/"
        },
        "id": "GAcpKOZaA5-K",
        "outputId": "73b74ade-0135-4b05-ae96-7ff49c394fab"
      },
      "execution_count": 64,
      "outputs": [
        {
          "output_type": "stream",
          "name": "stdout",
          "text": [
            "Overwriting zonotype_example.txt\n"
          ]
        }
      ]
    },
    {
      "cell_type": "code",
      "source": [
        "%%bash\n",
        "cd ERAN/tf_verify/\n",
        "\n",
        "python3 . --netname ../../iris_net.onnx --zonotope ../../zonotype_example.txt --input_box ../../input_box.txt --domain deepzono --debug true "
      ],
      "metadata": {
        "colab": {
          "base_uri": "https://localhost:8080/"
        },
        "id": "1GnAWwRBBuuB",
        "outputId": "f46ebc0d-668b-41c2-a640-0769ff7c4c51"
      },
      "execution_count": 67,
      "outputs": [
        {
          "output_type": "stream",
          "name": "stdout",
          "text": [
            "{'approx_k': True,\n",
            " 'attack': False,\n",
            " 'complete': False,\n",
            " 'data_dir': None,\n",
            " 'dataset': None,\n",
            " 'debug': True,\n",
            " 'delta': 0.3,\n",
            " 'domain': 'deepzono',\n",
            " 'epsfile': None,\n",
            " 'epsilon': 0,\n",
            " 'from_test': 0,\n",
            " 'gamma': inf,\n",
            " 'geometric': False,\n",
            " 'geometric_config': None,\n",
            " 'input_box': '../../input_box.txt',\n",
            " 'k': 3,\n",
            " 'logdir': None,\n",
            " 'logname': None,\n",
            " 'max_milp_neurons': 30,\n",
            " 'mean': None,\n",
            " 'n_milp_refine': 1,\n",
            " 'netname': '../../iris_net.onnx',\n",
            " 'normalized_region': True,\n",
            " 'num_params': 0,\n",
            " 'num_tests': None,\n",
            " 'numproc': 2,\n",
            " 'output_constraints': None,\n",
            " 'partial_milp': 0,\n",
            " 'quant_step': None,\n",
            " 'refine_neurons': False,\n",
            " 's': -2,\n",
            " 'sparse_n': 70,\n",
            " 'spatial': False,\n",
            " 'specnumber': None,\n",
            " 'std': None,\n",
            " 'subset': None,\n",
            " 't_norm': 'inf',\n",
            " 'target': None,\n",
            " 'timeout_complete': None,\n",
            " 'timeout_final_lp': 100,\n",
            " 'timeout_final_milp': 100,\n",
            " 'timeout_lp': 1,\n",
            " 'timeout_milp': 1,\n",
            " 'use_default_heuristic': True,\n",
            " 'use_milp': True,\n",
            " 'vnn_lib_spec': None,\n",
            " 'zonotope': '../../zonotype_example.txt'}\n",
            "netname  ../../iris_net.onnx  epsilon  0  domain  deepzono  dataset  None args complete  False  complete  False  timeout_lp  1\n",
            "This network has 10 neurons.\n",
            "nlb  [-1.4279368975591649, -0.9645034124419851, 1.6871358926373774]\n",
            "nub  [-1.3820733648542822, -0.9310149631177176, 1.740443278568097]\n",
            "Failed\n"
          ]
        },
        {
          "output_type": "stream",
          "name": "stderr",
          "text": [
            "2022-07-13 09:21:38.983584: E tensorflow/stream_executor/cuda/cuda_driver.cc:271] failed call to cuInit: CUDA_ERROR_NO_DEVICE: no CUDA-capable device is detected\n",
            "./optimizer.py:26: UserWarning: gpupoly not available.\n",
            "  warnings.warn(\"gpupoly not available.\")\n"
          ]
        }
      ]
    },
    {
      "cell_type": "code",
      "source": [
        "def relu(x):\n",
        "  if x > 0: return x\n",
        "  return 0\n",
        "\n",
        "input_nodes = [5.1, 3.5, 1.4, 0.2]\n",
        "\n",
        "def calculate_point(input_node):\n",
        "  hidden_nodes = []\n",
        "  for i in range(10):\n",
        "    z = 0\n",
        "    for w in range(4):\n",
        "      z = z + (input_nodes[w] * weights[0][i][w])\n",
        "    hidden_nodes.append(z)\n",
        "\n",
        "  for i in range(10):\n",
        "    hidden_nodes[i] = hidden_nodes[i] + biases[0][i]\n",
        "\n",
        "\n",
        "  for i in range(10):\n",
        "    hidden_nodes[i] = relu(hidden_nodes[i])\n",
        "\n",
        "\n",
        "  output_nodes = []\n",
        "  for i in range(3):\n",
        "    z = 0\n",
        "    for w in range(10):\n",
        "      z = z + (hidden_nodes[w] * weights[1][i][w])\n",
        "    output_nodes.append(z)\n",
        "\n",
        "  for i in range(3):\n",
        "    output_nodes[i] = output_nodes[i] + biases[1][i]\n",
        "\n",
        "  return output_nodes"
      ],
      "metadata": {
        "colab": {
          "base_uri": "https://localhost:8080/"
        },
        "id": "c3HK_PgyBPpu",
        "outputId": "420c2173-1cb5-4e2c-fa75-e93f40b1ea35"
      },
      "execution_count": 63,
      "outputs": [
        {
          "output_type": "stream",
          "name": "stdout",
          "text": [
            "[-1.404938534903796, -0.947693692162117, 1.7137603030554713]\n"
          ]
        }
      ]
    },
    {
      "cell_type": "code",
      "source": [
        "def create_plot():\n",
        "  fig, ax = plt.subplots(2, 2)\n",
        "\n",
        "  fig.set_size_inches(18, 14)\n",
        "\n",
        "  ax[0][0].set_title(\"Input\")\n",
        "  ax[0][0].set_xlim(4, 8)\n",
        "  ax[0][0].set_ylim(1.5, 4.7)\n",
        "  ax[0][1].set_title(\"Output\")\n",
        "  ax[0][1].set_xlim(4, 8)\n",
        "  ax[0][1].set_ylim(1.5, 4.7)\n",
        "\n",
        "  ax[1][0].set_title(\"Input\")\n",
        "  ax[1][0].set_xlim(0.8, 7.1)\n",
        "  ax[1][0].set_ylim(-1.2, 3.8)\n",
        "  ax[1][1].set_title(\"Output\")\n",
        "  ax[1][1].set_xlim(0.8, 7.1)\n",
        "  ax[1][1].set_ylim(-1.2, 3.8)\n",
        "  return fig, ax\n",
        "\n",
        "fig, ax = create_plot()\n",
        "\n",
        "input = zono(values = np.array([[5.1, 0.1, 0], [3.5, 0, 0.1], [1.4, 0.1, 0], [0.2, 0, 0.1]]))\n",
        "print(input.to_intervals())\n",
        "k1, k2 = input.split()\n",
        "i1, i2 = k1.split()\n",
        "i3, i4 = k2.split()\n",
        "\n",
        "input_nodes = [i1, i2, i3, i4]\n",
        "\n",
        "k1.visualize(shape=True, fig=fig, ax=ax[0][0])\n",
        "k2.visualize(shape=True, fig=fig, ax=ax[1][0])\n",
        "\n",
        "hidden_nodes = []\n",
        "for i in range(10):\n",
        "  z = zono()\n",
        "  for w in range(4):\n",
        "    z = z + (input_nodes[w] * weights[0][i][w])\n",
        "  hidden_nodes.append(z)\n",
        "\n",
        "for i in range(10):\n",
        "  hidden_nodes[i] = hidden_nodes[i] + zono(values = np.array([[biases[0][i]]]))\n",
        "\n",
        "\n",
        "for i in range(10):\n",
        "  hidden_nodes[i] = zf.relu(hidden_nodes[i])\n",
        "\n",
        "\n",
        "output_nodes = []\n",
        "for i in range(3):\n",
        "  z = zono()\n",
        "  for w in range(10):\n",
        "    z = z + (hidden_nodes[w] * weights[1][i][w])\n",
        "  output_nodes.append(z)\n",
        "\n",
        "for i in range(3):\n",
        "  output_nodes[i] = output_nodes[i] + zono(values = np.array([[biases[1][i]]]))\n",
        "\n",
        "output = output_nodes[0].combine(output_nodes[1]).combine(output_nodes[2])\n",
        "\n",
        "print(output.to_intervals())\n",
        "print(output)\n",
        "\n",
        "print(output.upper_bound(1))\n",
        "print(output.lower_bound(1))\n",
        "\n",
        "print(output.upper_bound(2))\n",
        "print(output.lower_bound(2))\n",
        "\n",
        "print(output.upper_bound(3))\n",
        "print(output.lower_bound(3))\n",
        "\n",
        "plt.show()"
      ],
      "metadata": {
        "colab": {
          "base_uri": "https://localhost:8080/",
          "height": 1000
        },
        "id": "0S1LudCR8FRR",
        "outputId": "7781c669-2e67-4bbb-f5c3-222e7fa5e5bf"
      },
      "execution_count": 59,
      "outputs": [
        {
          "output_type": "stream",
          "name": "stdout",
          "text": [
            "[(5.0, 5.199999999999999), (3.4, 3.6), (1.2999999999999998, 1.5), (0.1, 0.30000000000000004)]\n",
            "[(-1.4854501551016916, -1.3287805380283988), (-1.0037260930949883, -0.8960536438917288), (1.6249111724772785, 1.8046099578540924)]\n",
            "[[-1.40711535 -0.05037377 -0.02796104  0.        ]\n",
            " [-0.94988987  0.01084902 -0.0429872   0.        ]\n",
            " [ 1.71476057  0.05414659  0.0357028   0.        ]]\n",
            "-1.3287805380283988\n",
            "-1.4854501551016916\n",
            "-0.8960536438917288\n",
            "-1.0037260930949883\n",
            "1.8046099578540924\n",
            "1.6249111724772785\n"
          ]
        },
        {
          "output_type": "display_data",
          "data": {
            "text/plain": [
              "<Figure size 1296x1008 with 4 Axes>"
            ],
            "image/png": "[encoded data removed]"
          },
          "metadata": {
            "needs_background": "light"
          }
        }
      ]
    },
    {
      "cell_type": "code",
      "source": [
        ""
      ],
      "metadata": {
        "id": "9mLa1iYJzyaW"
      },
      "execution_count": null,
      "outputs": []
    }
  ]
}