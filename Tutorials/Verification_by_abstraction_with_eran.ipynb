{
  "nbformat": 4,
  "nbformat_minor": 0,
  "metadata": {
    "colab": {
      "name": "Verification_by_abstraction_with_eran.ipynb",
      "provenance": [],
      "collapsed_sections": [],
      "toc_visible": true,
      "include_colab_link": true
    },
    "kernelspec": {
      "name": "python3",
      "display_name": "Python 3"
    },
    "language_info": {
      "name": "python"
    }
  },
  "cells": [
    {
      "cell_type": "markdown",
      "metadata": {
        "id": "view-in-github",
        "colab_type": "text"
      },
      "source": [
        "<a href=\"https://colab.research.google.com/github/DDiekmann/Applied-Verification-Lab-Neural-Networks/blob/main/Tutorials/Verification_by_abstraction_with_eran.ipynb\" target=\"_parent\"><img src=\"https://colab.research.google.com/assets/colab-badge.svg\" alt=\"Open In Colab\"/></a>"
      ]
    },
    {
      "cell_type": "markdown",
      "source": [
        "# Tutorial for Neural Network Verification with ERAN\n",
        "\n",
        "---\n",
        "\n",
        "*This tutorial gives an overview of the features of ERAN. \\\\\n",
        "\"ETH Robustness Analyzer for Neural Networks (ERAN) is a state-of-the-art sound, precise, scalable, and extensible analyzer based on abstract interpretation for the complete and incomplete verification\" (for more details see their [repo](https://github.com/eth-sri/eran)). \\\\\n",
        "First, we will use the example of a neural network trained on the IRIS dataset to show how abstract verification can be performed using zonotopes. For this purpose, a network is first trained on the data, then saved in ONNX format and then verified with ERAN. \\\\\n",
        "Second, we try to verifiy the **robustness** of a classification Network trained on the MNIST dataset.*\n",
        "\n",
        "Important Links:\n",
        "- [ERANs Github Repo](https://github.com/eth-sri/eran)\n",
        "- [ERANs documentation](https://files.sri.inf.ethz.ch/eran/docs/eran_manual.pdf)\n",
        "\n",
        "---"
      ],
      "metadata": {
        "id": "4sgHPyzZd9Sq"
      }
    },
    {
      "cell_type": "markdown",
      "source": [
        "![img](https://raw.githubusercontent.com/eth-sri/eran/master/overview.png)"
      ],
      "metadata": {
        "id": "ORqUKV3lET-y"
      }
    },
    {
      "cell_type": "markdown",
      "source": [
        "# Installation"
      ],
      "metadata": {
        "id": "5hdDqmYjIUdG"
      }
    },
    {
      "cell_type": "markdown",
      "source": [
        "First we need to install some required packages. \\\\\n",
        "(We are using a fork of ERAN here, because of a bug in their code.)"
      ],
      "metadata": {
        "id": "0GX9xgN5EjXp"
      }
    },
    {
      "cell_type": "code",
      "source": [
        "%%capture\n",
        "%%bash\n",
        "\n",
        "git clone https://github.com/DDiekmann/eran.git\n",
        "\n",
        "sudo apt install m4\n",
        "sudo apt install build-essential\n",
        "sudo apt install autoconf\n",
        "sudo apt install libtool\n",
        "sudo apt install texlive-latex-base\n",
        "\n",
        "cd eran\n",
        "sudo bash ./install.sh\n",
        "pip install -r requirements.txt"
      ],
      "metadata": {
        "id": "YT7GCZXCeIsH"
      },
      "execution_count": 1,
      "outputs": []
    },
    {
      "cell_type": "markdown",
      "source": [
        "# Imports\n",
        "\n",
        "Next we need to import the required libraries."
      ],
      "metadata": {
        "id": "aUGl-42VIYZ1"
      }
    },
    {
      "cell_type": "code",
      "source": [
        "%%capture\n",
        "\n",
        "%pip install onnx onnxruntime\n",
        "\n",
        "import torch\n",
        "from torch import nn\n",
        "import numpy as np\n",
        "import torch.onnx\n",
        "import sys\n",
        "\n",
        "import matplotlib.pyplot as plt\n",
        "\n",
        "!wget --no-cache --backups=1 {'https://raw.githubusercontent.com/DDiekmann/Applied-Verification-Lab-Neural-Networks/main/lib/iris_trainer.py'}\n",
        "import iris_trainer\n",
        "\n",
        "!wget --no-cache --backups=1 {'https://raw.githubusercontent.com/DDiekmann/Applied-Verification-Lab-Neural-Networks/main/lib/plots.py'}\n",
        "import plots\n",
        "\n",
        "!wget --no-cache --backups=1 {'https://raw.githubusercontent.com/DDiekmann/zonotpy/main/src/zonotope.py'}\n",
        "from zonotope import zono\n",
        "\n",
        "!wget --no-cache --backups=1 {'https://raw.githubusercontent.com/DDiekmann/zonotpy/main/src/interval_abstraction.py'}\n",
        "import interval_abstraction as ia\n",
        "\n",
        "!wget --no-cache --backups=1 {'https://raw.githubusercontent.com/DDiekmann/zonotpy/main/src/nn_functions.py'}\n",
        "import nn_functions as zf"
      ],
      "metadata": {
        "id": "a7ryCxcGehat"
      },
      "execution_count": 2,
      "outputs": []
    },
    {
      "cell_type": "markdown",
      "source": [
        "# Abstract verification of a NN trained on IRIS dataset\n",
        "In this section we will first define a neural network and train it on the [IRIS dataset](https://archive.ics.uci.edu/ml/datasets/iris). This will be saved in ONNX format. \\\n",
        "Then we define a zonotope for abstract verification of the network with ERAN. \\\n",
        "The verification will then be performed using ERAN on the network with the defined zonotope."
      ],
      "metadata": {
        "id": "tC_p5OAYIoOu"
      }
    },
    {
      "cell_type": "markdown",
      "source": [
        "## Definition of a Neural Network\n",
        "We define a network with one linear layer and ReLU as activation function. "
      ],
      "metadata": {
        "id": "be6Gj0sIHE5y"
      }
    },
    {
      "cell_type": "code",
      "source": [
        "class NeuralNetwork(nn.Module):\n",
        "    def __init__(self, input_dim, output_dim, number_of_neurons):\n",
        "        super(NeuralNetwork, self).__init__()\n",
        "        self.linear_relu_stack = nn.Sequential(\n",
        "            nn.Linear(input_dim, number_of_neurons),\n",
        "            nn.ReLU(),\n",
        "            nn.Linear(number_of_neurons, output_dim),\n",
        "        )\n",
        "\n",
        "    def forward(self, x):\n",
        "        logits = self.linear_relu_stack(x)\n",
        "        return logits"
      ],
      "metadata": {
        "id": "qEZG7ZZg6I0j"
      },
      "execution_count": 3,
      "outputs": []
    },
    {
      "cell_type": "markdown",
      "source": [
        "## Training\n",
        "The model is then trained on the iris dataset."
      ],
      "metadata": {
        "id": "hdGIwABcHTK2"
      }
    },
    {
      "cell_type": "code",
      "source": [
        "names, feature_names, X, y, X_scaled, X_train, X_test, y_train, y_test = iris_trainer.load_dataset()\n",
        "\n",
        "model = iris_trainer.train_model(\n",
        "    NeuralNetwork(input_dim=X_train.shape[1], output_dim=3, number_of_neurons=10), \n",
        "    epochs=100, \n",
        "    X_train=X_train, \n",
        "    X_test=X_test, \n",
        "    y_train=y_train, \n",
        "    y_test=y_test)"
      ],
      "metadata": {
        "colab": {
          "base_uri": "https://localhost:8080/"
        },
        "id": "5VAdEWM9G49w",
        "outputId": "6e4af813-ea1c-465f-b31a-b748a6230f03"
      },
      "execution_count": 4,
      "outputs": [
        {
          "output_type": "stream",
          "name": "stdout",
          "text": [
            "Shape of X (data): (150, 4)\n",
            "Shape of y (target): (150,) int64\n",
            "Example of x and y pair: [5.1 3.5 1.4 0.2] 0\n",
            "Shape of training set X (120, 4)\n",
            "Shape of test set X (30, 4)\n"
          ]
        },
        {
          "output_type": "stream",
          "name": "stderr",
          "text": [
            "100%|██████████| 100/100 [00:00<00:00, 279.60it/s]"
          ]
        },
        {
          "output_type": "stream",
          "name": "stdout",
          "text": [
            "\n",
            "Done. Accuracy: 0.8\n"
          ]
        },
        {
          "output_type": "stream",
          "name": "stderr",
          "text": [
            "\n"
          ]
        }
      ]
    },
    {
      "cell_type": "markdown",
      "source": [
        "## Visualization\n",
        "The plots below show the target values and the classification made by the network on the data. "
      ],
      "metadata": {
        "id": "JFG2Y6b2HbHg"
      }
    },
    {
      "cell_type": "code",
      "source": [
        "plots.show_plots(names, feature_names, X, y, title = 'Ground Truth')\n",
        "plots.show_plots(names, feature_names, X, iris_trainer.predict(X_scaled, model), title = 'Classification from our network')"
      ],
      "metadata": {
        "colab": {
          "base_uri": "https://localhost:8080/",
          "height": 845
        },
        "id": "ZrGC024sG8lB",
        "outputId": "47ec6074-c27f-4011-a5e9-4dc063fbd2f5"
      },
      "execution_count": 6,
      "outputs": [
        {
          "output_type": "display_data",
          "data": {
            "text/plain": [
              "<Figure size 1152x432 with 2 Axes>"
            ],
            "image/png": "[encoded data removed]"
          },
          "metadata": {
            "needs_background": "light"
          }
        },
        {
          "output_type": "display_data",
          "data": {
            "text/plain": [
              "<Figure size 1152x432 with 2 Axes>"
            ],
            "image/png": "[encoded data removed]"
          },
          "metadata": {
            "needs_background": "light"
          }
        }
      ]
    },
    {
      "cell_type": "markdown",
      "source": [
        "##TODO: raus oder erklären ? "
      ],
      "metadata": {
        "id": "RfMVVyPgH3zP"
      }
    },
    {
      "cell_type": "code",
      "source": [
        "model_parameters = [param.cpu().detach().numpy() for param in model.parameters()]\n",
        "weights = model_parameters[0::2]\n",
        "print(weights)\n",
        "biases = model_parameters[1::2]\n",
        "print(biases)"
      ],
      "metadata": {
        "colab": {
          "base_uri": "https://localhost:8080/"
        },
        "id": "pqDhTNOJ8C6S",
        "outputId": "c37490d9-3a28-40c4-ad8c-c9b83d99ddaa"
      },
      "execution_count": null,
      "outputs": [
        {
          "output_type": "stream",
          "name": "stdout",
          "text": [
            "[array([[ 0.46685746,  0.32909364, -0.0282767 ,  0.54955614],\n",
            "       [ 0.0172611 ,  0.02290974, -0.12281221,  0.41526493],\n",
            "       [ 0.523001  , -0.478515  ,  0.5259937 ,  0.18491063],\n",
            "       [ 0.2740115 ,  0.16081864,  0.14608881, -0.16564141],\n",
            "       [ 0.28994012,  0.16899002, -0.3296092 ,  0.03140867],\n",
            "       [-0.36010888,  0.08178136, -0.336214  ,  0.19957386],\n",
            "       [-0.4992351 , -0.2792941 , -0.25612512, -0.41110736],\n",
            "       [ 0.13729134, -0.4165266 ,  0.55389017, -0.32846192],\n",
            "       [ 0.27337956,  0.18386434, -0.26979002,  0.19589926],\n",
            "       [ 0.14065513,  0.34247053,  0.11684313, -0.09563331]],\n",
            "      dtype=float32), array([[-4.0884161e-01, -1.7889611e-01, -3.3641985e-01,  1.9724481e-01,\n",
            "         1.5924151e-01,  2.3257905e-01,  1.9868356e-01, -9.8084882e-02,\n",
            "         1.9088311e-01, -1.5485901e-01],\n",
            "       [-6.5957919e-02, -3.4132412e-01,  2.0124383e-01, -2.7870901e-02,\n",
            "         1.7993769e-04, -1.6354296e-01,  1.4877616e-01, -9.6463762e-02,\n",
            "        -2.3989472e-01, -2.6587668e-01],\n",
            "       [ 3.7759656e-01,  2.0749961e-01,  3.8943952e-01, -2.1692863e-01,\n",
            "        -3.6565483e-01, -3.5277921e-01, -3.0854264e-01,  4.3128148e-02,\n",
            "         1.7861252e-01,  2.0175856e-01]], dtype=float32)]\n",
            "[array([ 0.22665791, -0.03349002,  0.30813634,  0.4619193 ,  0.40144727,\n",
            "       -0.08242362,  0.38586575,  0.01563552,  0.19276443, -0.35747567],\n",
            "      dtype=float32), array([-0.0633375 , -0.11824076,  0.06886448], dtype=float32)]\n"
          ]
        }
      ]
    },
    {
      "cell_type": "markdown",
      "source": [
        "## Save the network\n",
        "The network is then exported to a ONNX file."
      ],
      "metadata": {
        "id": "qX8ZXCSXH8yW"
      }
    },
    {
      "cell_type": "code",
      "source": [
        "model_filename = \"iris_net.onnx\"\n",
        "dummy_input=torch.randn(1, 4)\n",
        "\n",
        "# set model to eval mode\n",
        "model.eval()\n",
        "\n",
        "# create a dummy input in the shape of the input values\n",
        "device = \"cuda\" if torch.cuda.is_available() else \"cpu\"\n",
        "dummy_input = dummy_input.to(device)\n",
        "\n",
        "torch.onnx.export(model,\n",
        "                  dummy_input,\n",
        "                  model_filename,\n",
        "                  export_params=True,\n",
        "                  verbose=False,\n",
        "                  input_names=['data'],\n",
        "                  output_names=['classification'],\n",
        "                  )"
      ],
      "metadata": {
        "id": "fnldKAA2AiSD"
      },
      "execution_count": 7,
      "outputs": []
    },
    {
      "cell_type": "markdown",
      "source": [
        "## Definition of the zonotope\n",
        "In order to use ERAN on a custom dataset and network, one needs to define the zonotope used in abstract verification. \\\n",
        "For an explanation on zonotopes see for example this [website](https://mitadmissions.org/blogs/entry/what-is-a-zonotope/). \\\n",
        "As described in the [manual of ERAN](https://files.sri.inf.ethz.ch/eran/docs/eran_manual.pdf), \"the zonotope file\n",
        "has two integers followed by a number of floats. The numbers can be separated by spaces, commas, or newlines. The first integer denotes the input dimension (e.g. 784 for MNIST).\n",
        "The second integer is one plus the number of error terms of the zonotope. The number of floats is the two integers multiplied. Looking at an input of $i = [x0, x1, ... , xk]$, the file has all $\\alpha$ values of the affine forms following each other.\""
      ],
      "metadata": {
        "id": "ZHEXXGZ2IGjo"
      }
    },
    {
      "cell_type": "markdown",
      "source": [
        "We first want a small zonotope surrounding a point in the dataset. The chance, that we can successfully verify the robustness of the network here is probably high. \\\n",
        "Therefore, we take the first value of X and Y:"
      ],
      "metadata": {
        "id": "tgCyWrSBKmd3"
      }
    },
    {
      "cell_type": "code",
      "source": [
        "print(X[0])\n",
        "print(y[0])"
      ],
      "metadata": {
        "colab": {
          "base_uri": "https://localhost:8080/"
        },
        "id": "I9EbbJN9fnVM",
        "outputId": "23db7dde-be71-4e5a-e25e-41fb913813b7"
      },
      "execution_count": null,
      "outputs": [
        {
          "output_type": "stream",
          "name": "stdout",
          "text": [
            "[5.1 3.5 1.4 0.2]\n",
            "0\n"
          ]
        }
      ]
    },
    {
      "cell_type": "markdown",
      "source": [
        "As we can see, the input values are $[5.1, 3.5, 1.4, 0.2]$. The classification label for that input is $0$. "
      ],
      "metadata": {
        "id": "qGeEb24MLBC9"
      }
    },
    {
      "cell_type": "markdown",
      "source": [
        "Our zonotope is then defined as follows: "
      ],
      "metadata": {
        "id": "L1d65NndKFTm"
      }
    },
    {
      "cell_type": "code",
      "source": [
        "%%writefile zonotype_example.txt\n",
        "4\n",
        "3\n",
        "5.1 0.03 0.0\n",
        "3.5 0.0 0.03\n",
        "1.4 0.03 0.0 \n",
        "0.2 0.0 0.03"
      ],
      "metadata": {
        "colab": {
          "base_uri": "https://localhost:8080/"
        },
        "id": "GAcpKOZaA5-K",
        "outputId": "85897743-7fc4-4801-aa77-00612e088434"
      },
      "execution_count": 8,
      "outputs": [
        {
          "output_type": "stream",
          "name": "stdout",
          "text": [
            "Writing zonotype_example.txt\n"
          ]
        }
      ]
    },
    {
      "cell_type": "markdown",
      "source": [
        "## Abstract verification with ERAN\n",
        "Now we can run the verificator of ERAN on the model with use of the defined zonotope. "
      ],
      "metadata": {
        "id": "cpTXbfcYKJxg"
      }
    },
    {
      "cell_type": "code",
      "source": [
        "%%bash\n",
        "cd eran/tf_verify/\n",
        "\n",
        "python3 . --netname ../../iris_net.onnx --zonotope ../../zonotype_example.txt --domain deepzono --debug true "
      ],
      "metadata": {
        "colab": {
          "base_uri": "https://localhost:8080/"
        },
        "id": "bJ218kHX6mfK",
        "outputId": "420d78e2-b99c-47b6-e9d1-174d067658f6"
      },
      "execution_count": 9,
      "outputs": [
        {
          "output_type": "stream",
          "name": "stdout",
          "text": [
            "{'approx_k': True,\n",
            " 'attack': False,\n",
            " 'complete': False,\n",
            " 'data_dir': None,\n",
            " 'dataset': None,\n",
            " 'debug': True,\n",
            " 'delta': 0.3,\n",
            " 'domain': 'deepzono',\n",
            " 'epsfile': None,\n",
            " 'epsilon': 0,\n",
            " 'from_test': 0,\n",
            " 'gamma': inf,\n",
            " 'geometric': False,\n",
            " 'geometric_config': None,\n",
            " 'input_box': None,\n",
            " 'k': 3,\n",
            " 'logdir': None,\n",
            " 'logname': None,\n",
            " 'max_milp_neurons': 30,\n",
            " 'mean': None,\n",
            " 'n_milp_refine': 1,\n",
            " 'netname': '../../iris_net.onnx',\n",
            " 'normalized_region': True,\n",
            " 'num_params': 0,\n",
            " 'num_tests': None,\n",
            " 'numproc': 2,\n",
            " 'output_constraints': None,\n",
            " 'partial_milp': 0,\n",
            " 'quant_step': None,\n",
            " 'refine_neurons': False,\n",
            " 's': -2,\n",
            " 'sparse_n': 70,\n",
            " 'spatial': False,\n",
            " 'specnumber': None,\n",
            " 'std': None,\n",
            " 'subset': None,\n",
            " 't_norm': 'inf',\n",
            " 'target': None,\n",
            " 'timeout_complete': None,\n",
            " 'timeout_final_lp': 100,\n",
            " 'timeout_final_milp': 100,\n",
            " 'timeout_lp': 1,\n",
            " 'timeout_milp': 1,\n",
            " 'use_default_heuristic': True,\n",
            " 'use_milp': True,\n",
            " 'vnn_lib_spec': None,\n",
            " 'zonotope': '../../zonotype_example.txt'}\n",
            "netname  ../../iris_net.onnx  epsilon  0  domain  deepzono  dataset  None args complete  False  complete  False  timeout_lp  1\n",
            "This network has 10 neurons.\n",
            "nlb  [-0.7837978098298048, -0.5256577576549079, 0.9198264565533186]\n",
            "nub  [-0.7573367319200128, -0.5121181138530416, 0.9389565816530939]\n",
            "Verified\n"
          ]
        },
        {
          "output_type": "stream",
          "name": "stderr",
          "text": [
            "2022-07-16 17:59:00.125001: E tensorflow/stream_executor/cuda/cuda_driver.cc:271] failed call to cuInit: CUDA_ERROR_NO_DEVICE: no CUDA-capable device is detected\n",
            "./optimizer.py:26: UserWarning: gpupoly not available.\n",
            "  warnings.warn(\"gpupoly not available.\")\n"
          ]
        }
      ]
    },
    {
      "cell_type": "markdown",
      "source": [
        "## Another zonotope\n",
        "In the next step, we select the same point as before as the centre of the zonotope, but make the zonotope significantly larger. What can we expect from the verification? "
      ],
      "metadata": {
        "id": "y6b1VAehLh8e"
      }
    },
    {
      "cell_type": "code",
      "source": [
        "%%writefile zonotype_example.txt\n",
        "4\n",
        "3\n",
        "5.1 4.0 0.0\n",
        "3.5 0.0 4.0\n",
        "1.4 4.0 0.0 \n",
        "0.2 0.0 4.0"
      ],
      "metadata": {
        "colab": {
          "base_uri": "https://localhost:8080/"
        },
        "id": "NnsV0OUL6Rbs",
        "outputId": "fe9b5f71-a417-4953-8482-61c83c80122b"
      },
      "execution_count": null,
      "outputs": [
        {
          "output_type": "stream",
          "name": "stdout",
          "text": [
            "Overwriting zonotype_example.txt\n"
          ]
        }
      ]
    },
    {
      "cell_type": "code",
      "source": [
        "%%bash\n",
        "cd eran/tf_verify/\n",
        "\n",
        "python3 . --netname ../../iris_net.onnx --zonotope ../../zonotype_example.txt --domain deepzono --debug true "
      ],
      "metadata": {
        "colab": {
          "base_uri": "https://localhost:8080/"
        },
        "id": "1GnAWwRBBuuB",
        "outputId": "d24e386f-5d4c-4d28-a82f-855050b3f163"
      },
      "execution_count": null,
      "outputs": [
        {
          "output_type": "stream",
          "name": "stdout",
          "text": [
            "{'approx_k': True,\n",
            " 'attack': False,\n",
            " 'complete': False,\n",
            " 'data_dir': None,\n",
            " 'dataset': None,\n",
            " 'debug': True,\n",
            " 'delta': 0.3,\n",
            " 'domain': 'deepzono',\n",
            " 'epsfile': None,\n",
            " 'epsilon': 0,\n",
            " 'from_test': 0,\n",
            " 'gamma': inf,\n",
            " 'geometric': False,\n",
            " 'geometric_config': None,\n",
            " 'input_box': '../../input_box.txt',\n",
            " 'k': 3,\n",
            " 'logdir': None,\n",
            " 'logname': None,\n",
            " 'max_milp_neurons': 30,\n",
            " 'mean': None,\n",
            " 'n_milp_refine': 1,\n",
            " 'netname': '../../iris_net.onnx',\n",
            " 'normalized_region': True,\n",
            " 'num_params': 0,\n",
            " 'num_tests': None,\n",
            " 'numproc': 2,\n",
            " 'output_constraints': None,\n",
            " 'partial_milp': 0,\n",
            " 'quant_step': None,\n",
            " 'refine_neurons': False,\n",
            " 's': -2,\n",
            " 'sparse_n': 70,\n",
            " 'spatial': False,\n",
            " 'specnumber': None,\n",
            " 'std': None,\n",
            " 'subset': None,\n",
            " 't_norm': 'inf',\n",
            " 'target': None,\n",
            " 'timeout_complete': None,\n",
            " 'timeout_final_lp': 100,\n",
            " 'timeout_final_milp': 100,\n",
            " 'timeout_lp': 1,\n",
            " 'timeout_milp': 1,\n",
            " 'use_default_heuristic': True,\n",
            " 'use_milp': True,\n",
            " 'vnn_lib_spec': None,\n",
            " 'zonotope': '../../zonotype_example.txt'}\n",
            "netname  ../../iris_net.onnx  epsilon  0  domain  deepzono  dataset  None args complete  False  complete  False  timeout_lp  1\n",
            "This network has 10 neurons.\n",
            "nlb  [-5.548442849249393, -3.4558799875801154, -2.6315255623732012]\n",
            "nub  [2.0340123461426276, 1.1061109211780453, 6.587370350308227]\n",
            "Failed\n"
          ]
        },
        {
          "output_type": "stream",
          "name": "stderr",
          "text": [
            "2022-07-13 10:04:33.437799: E tensorflow/stream_executor/cuda/cuda_driver.cc:271] failed call to cuInit: CUDA_ERROR_NO_DEVICE: no CUDA-capable device is detected\n",
            "./optimizer.py:26: UserWarning: gpupoly not available.\n",
            "  warnings.warn(\"gpupoly not available.\")\n"
          ]
        }
      ]
    },
    {
      "cell_type": "markdown",
      "source": [
        "As we can see, the robustness of the network could not be verified with a larger zonotope. "
      ],
      "metadata": {
        "id": "8F-70HbjMXLc"
      }
    },
    {
      "cell_type": "markdown",
      "source": [
        "## Visualization (TODO)"
      ],
      "metadata": {
        "id": "af1tvYerMEqe"
      }
    },
    {
      "cell_type": "code",
      "source": [
        "def relu(x):\n",
        "  if x > 0: return x\n",
        "  return 0\n",
        "\n",
        "input_nodes = [5.1, 3.5, 1.4, 0.2]\n",
        "\n",
        "def calculate_point(input_node):\n",
        "  hidden_nodes = []\n",
        "  for i in range(10):\n",
        "    z = 0\n",
        "    for w in range(4):\n",
        "      z = z + (input_nodes[w] * weights[0][i][w])\n",
        "    hidden_nodes.append(z)\n",
        "\n",
        "  for i in range(10):\n",
        "    hidden_nodes[i] = hidden_nodes[i] + biases[0][i]\n",
        "\n",
        "\n",
        "  for i in range(10):\n",
        "    hidden_nodes[i] = relu(hidden_nodes[i])\n",
        "\n",
        "\n",
        "  output_nodes = []\n",
        "  for i in range(3):\n",
        "    z = 0\n",
        "    for w in range(10):\n",
        "      z = z + (hidden_nodes[w] * weights[1][i][w])\n",
        "    output_nodes.append(z)\n",
        "\n",
        "  for i in range(3):\n",
        "    output_nodes[i] = output_nodes[i] + biases[1][i]\n",
        "\n",
        "  return output_nodes"
      ],
      "metadata": {
        "colab": {
          "base_uri": "https://localhost:8080/"
        },
        "id": "c3HK_PgyBPpu",
        "outputId": "420c2173-1cb5-4e2c-fa75-e93f40b1ea35"
      },
      "execution_count": null,
      "outputs": [
        {
          "output_type": "stream",
          "name": "stdout",
          "text": [
            "[-1.404938534903796, -0.947693692162117, 1.7137603030554713]\n"
          ]
        }
      ]
    },
    {
      "cell_type": "code",
      "source": [
        "model.forward(torch.Tensor(X[0]))"
      ],
      "metadata": {
        "id": "ueMlikg9CD_R",
        "outputId": "b47a5f38-d31b-4210-cc2a-162aa25673c6",
        "colab": {
          "base_uri": "https://localhost:8080/"
        }
      },
      "execution_count": null,
      "outputs": [
        {
          "output_type": "execute_result",
          "data": {
            "text/plain": [
              "tensor([-1.4049, -0.9477,  1.7138], grad_fn=<AddBackward0>)"
            ]
          },
          "metadata": {},
          "execution_count": 13
        }
      ]
    },
    {
      "cell_type": "code",
      "source": [
        "def create_plot():\n",
        "  fig, ax = plt.subplots(2, 2)\n",
        "\n",
        "  fig.set_size_inches(18, 14)\n",
        "\n",
        "  ax[0][0].set_title(\"Input\")\n",
        "  ax[0][0].set_xlim(4, 8)\n",
        "  ax[0][0].set_ylim(1.5, 4.7)\n",
        "  ax[0][1].set_title(\"Output\")\n",
        "  ax[0][1].set_xlim(4, 8)\n",
        "  ax[0][1].set_ylim(1.5, 4.7)\n",
        "\n",
        "  ax[1][0].set_title(\"Input\")\n",
        "  ax[1][0].set_xlim(0.8, 7.1)\n",
        "  ax[1][0].set_ylim(-1.2, 3.8)\n",
        "  ax[1][1].set_title(\"Output\")\n",
        "  ax[1][1].set_xlim(0.8, 7.1)\n",
        "  ax[1][1].set_ylim(-1.2, 3.8)\n",
        "  return fig, ax\n",
        "\n",
        "fig, ax = create_plot()\n",
        "\n",
        "input = zono(values = np.array([[5.1, 0.1, 0], [3.5, 0, 0.1], [1.4, 0.1, 0], [0.2, 0, 0.1]]))\n",
        "print(input.to_intervals())\n",
        "k1, k2 = input.split()\n",
        "i1, i2 = k1.split()\n",
        "i3, i4 = k2.split()\n",
        "\n",
        "input_nodes = [i1, i2, i3, i4]\n",
        "\n",
        "k1.visualize(shape=True, fig=fig, ax=ax[0][0])\n",
        "k2.visualize(shape=True, fig=fig, ax=ax[1][0])\n",
        "\n",
        "hidden_nodes = []\n",
        "for i in range(10):\n",
        "  z = zono()\n",
        "  for w in range(4):\n",
        "    z = z + (input_nodes[w] * weights[0][i][w])\n",
        "  hidden_nodes.append(z)\n",
        "\n",
        "for i in range(10):\n",
        "  hidden_nodes[i] = hidden_nodes[i] + zono(values = np.array([[biases[0][i]]]))\n",
        "\n",
        "\n",
        "for i in range(10):\n",
        "  hidden_nodes[i] = zf.relu(hidden_nodes[i])\n",
        "\n",
        "\n",
        "output_nodes = []\n",
        "for i in range(3):\n",
        "  z = zono()\n",
        "  for w in range(10):\n",
        "    z = z + (hidden_nodes[w] * weights[1][i][w])\n",
        "  output_nodes.append(z)\n",
        "\n",
        "for i in range(3):\n",
        "  output_nodes[i] = output_nodes[i] + zono(values = np.array([[biases[1][i]]]))\n",
        "\n",
        "output = output_nodes[0].combine(output_nodes[1]).combine(output_nodes[2])\n",
        "\n",
        "print(output.to_intervals())\n",
        "print(output)\n",
        "\n",
        "print(output.upper_bound(1))\n",
        "print(output.lower_bound(1))\n",
        "\n",
        "print(output.upper_bound(2))\n",
        "print(output.lower_bound(2))\n",
        "\n",
        "print(output.upper_bound(3))\n",
        "print(output.lower_bound(3))\n",
        "\n",
        "plt.show()"
      ],
      "metadata": {
        "colab": {
          "base_uri": "https://localhost:8080/",
          "height": 1000
        },
        "id": "0S1LudCR8FRR",
        "outputId": "7781c669-2e67-4bbb-f5c3-222e7fa5e5bf"
      },
      "execution_count": null,
      "outputs": [
        {
          "output_type": "stream",
          "name": "stdout",
          "text": [
            "[(5.0, 5.199999999999999), (3.4, 3.6), (1.2999999999999998, 1.5), (0.1, 0.30000000000000004)]\n",
            "[(-1.4854501551016916, -1.3287805380283988), (-1.0037260930949883, -0.8960536438917288), (1.6249111724772785, 1.8046099578540924)]\n",
            "[[-1.40711535 -0.05037377 -0.02796104  0.        ]\n",
            " [-0.94988987  0.01084902 -0.0429872   0.        ]\n",
            " [ 1.71476057  0.05414659  0.0357028   0.        ]]\n",
            "-1.3287805380283988\n",
            "-1.4854501551016916\n",
            "-0.8960536438917288\n",
            "-1.0037260930949883\n",
            "1.8046099578540924\n",
            "1.6249111724772785\n"
          ]
        },
        {
          "output_type": "display_data",
          "data": {
            "text/plain": [
              "<Figure size 1296x1008 with 4 Axes>"
            ],
            "image/png": "[encoded data removed]"
          },
          "metadata": {
            "needs_background": "light"
          }
        }
      ]
    },
    {
      "cell_type": "markdown",
      "source": [
        "# mnist"
      ],
      "metadata": {
        "id": "XPlDEXUNK3HV"
      }
    },
    {
      "cell_type": "markdown",
      "source": [
        "## define and train nn"
      ],
      "metadata": {
        "id": "cOjZCOQwIaUn"
      }
    },
    {
      "cell_type": "code",
      "source": [
        "class NeuralNetwork(nn.Module):\n",
        "    def __init__(self, input_dim, output_dim, number_of_neurons):\n",
        "        super(NeuralNetwork, self).__init__()\n",
        "        self.linear_relu_stack = nn.Sequential(\n",
        "            nn.Flatten(),\n",
        "            nn.Linear(input_dim, number_of_neurons),\n",
        "            nn.ReLU(),\n",
        "            nn.Linear(number_of_neurons, number_of_neurons),\n",
        "            nn.ReLU(),\n",
        "            nn.Linear(number_of_neurons, output_dim),\n",
        "        )\n",
        "\n",
        "    def forward(self, x):\n",
        "        logits = self.linear_relu_stack(x)\n",
        "        return logits"
      ],
      "metadata": {
        "id": "5p4IEz_ClDFR"
      },
      "execution_count": null,
      "outputs": []
    },
    {
      "cell_type": "code",
      "source": [
        "%%capture\n",
        "train_dataloader, test_dataloader = mnist_trainer.load_mnist_dataset(batch_size=64)"
      ],
      "metadata": {
        "id": "3dn4lukHmn2C"
      },
      "execution_count": null,
      "outputs": []
    },
    {
      "cell_type": "code",
      "source": [
        "model = mnist_trainer.train_model(\n",
        "    NeuralNetwork(input_dim=28*28, output_dim=10, number_of_neurons=20), \n",
        "    epochs=3, \n",
        "    train_dataloader=train_dataloader,\n",
        "    test_dataloader=test_dataloader,\n",
        "    )"
      ],
      "metadata": {
        "colab": {
          "base_uri": "https://localhost:8080/"
        },
        "id": "cp4tgOYXmrkC",
        "outputId": "7da37c4b-69be-4b04-c22c-7ef933972cd5"
      },
      "execution_count": null,
      "outputs": [
        {
          "output_type": "stream",
          "name": "stdout",
          "text": [
            "Epoch 1\n",
            "-------------------------------\n"
          ]
        },
        {
          "output_type": "stream",
          "name": "stderr",
          "text": [
            "100%|██████████| 938/938 [00:11<00:00, 83.60it/s]\n"
          ]
        },
        {
          "output_type": "stream",
          "name": "stdout",
          "text": [
            "Test Error: \n",
            " Accuracy: 91.6%, Avg loss: 0.281683 \n",
            "\n",
            "Epoch 2\n",
            "-------------------------------\n"
          ]
        },
        {
          "output_type": "stream",
          "name": "stderr",
          "text": [
            "100%|██████████| 938/938 [00:11<00:00, 85.09it/s]\n"
          ]
        },
        {
          "output_type": "stream",
          "name": "stdout",
          "text": [
            "Test Error: \n",
            " Accuracy: 92.9%, Avg loss: 0.233787 \n",
            "\n",
            "Epoch 3\n",
            "-------------------------------\n"
          ]
        },
        {
          "output_type": "stream",
          "name": "stderr",
          "text": [
            "100%|██████████| 938/938 [00:11<00:00, 84.84it/s]\n"
          ]
        },
        {
          "output_type": "stream",
          "name": "stdout",
          "text": [
            "Test Error: \n",
            " Accuracy: 93.8%, Avg loss: 0.205878 \n",
            "\n",
            "Done!\n"
          ]
        }
      ]
    },
    {
      "cell_type": "markdown",
      "source": [
        "export model"
      ],
      "metadata": {
        "id": "1jgcNfKMIfWa"
      }
    },
    {
      "cell_type": "code",
      "source": [
        "model_filename = \"mnist_net.onnx\"\n",
        "dummy_input=torch.randn(1, 28, 28)\n",
        "\n",
        "# set model to eval mode\n",
        "model.eval()\n",
        "\n",
        "# create a dummy input in the shape of the input values\n",
        "device = \"cuda\" if torch.cuda.is_available() else \"cpu\"\n",
        "dummy_input = dummy_input.to(device)\n",
        "\n",
        "torch.onnx.export(model,\n",
        "                  dummy_input,\n",
        "                  model_filename,\n",
        "                  export_params=True,\n",
        "                  verbose=False,\n",
        "                  input_names=['image'],\n",
        "                  output_names=['classification'],\n",
        "                  )"
      ],
      "metadata": {
        "id": "6r3kJO7lmwSP"
      },
      "execution_count": null,
      "outputs": []
    },
    {
      "cell_type": "markdown",
      "source": [
        "## abstract verification"
      ],
      "metadata": {
        "id": "250PCShAIhG0"
      }
    },
    {
      "cell_type": "code",
      "source": [
        "%%bash\n",
        "\n",
        "cd ERAN/tf_verify/\n",
        "\n",
        "python3 . --netname ../../mnist_net.onnx --epsilon 0.1 --domain deepzono --dataset mnist"
      ],
      "metadata": {
        "colab": {
          "base_uri": "https://localhost:8080/"
        },
        "id": "cNYPaOIsm7nJ",
        "outputId": "9fa2df62-7e6e-47b9-b7e9-ac36230e526e"
      },
      "execution_count": null,
      "outputs": [
        {
          "output_type": "stream",
          "name": "stdout",
          "text": [
            "{'approx_k': True,\n",
            " 'attack': False,\n",
            " 'complete': False,\n",
            " 'data_dir': None,\n",
            " 'dataset': 'mnist',\n",
            " 'debug': False,\n",
            " 'delta': 0.3,\n",
            " 'domain': 'deepzono',\n",
            " 'epsfile': None,\n",
            " 'epsilon': 0.1,\n",
            " 'from_test': 0,\n",
            " 'gamma': inf,\n",
            " 'geometric': False,\n",
            " 'geometric_config': None,\n",
            " 'input_box': None,\n",
            " 'k': 3,\n",
            " 'logdir': None,\n",
            " 'logname': None,\n",
            " 'max_milp_neurons': 30,\n",
            " 'mean': None,\n",
            " 'n_milp_refine': 1,\n",
            " 'netname': '../../mnist_net.onnx',\n",
            " 'normalized_region': True,\n",
            " 'num_params': 0,\n",
            " 'num_tests': None,\n",
            " 'numproc': 2,\n",
            " 'output_constraints': None,\n",
            " 'partial_milp': 0,\n",
            " 'quant_step': None,\n",
            " 'refine_neurons': False,\n",
            " 's': -2,\n",
            " 'sparse_n': 70,\n",
            " 'spatial': False,\n",
            " 'specnumber': None,\n",
            " 'std': None,\n",
            " 'subset': None,\n",
            " 't_norm': 'inf',\n",
            " 'target': None,\n",
            " 'timeout_complete': None,\n",
            " 'timeout_final_lp': 100,\n",
            " 'timeout_final_milp': 100,\n",
            " 'timeout_lp': 1,\n",
            " 'timeout_milp': 1,\n",
            " 'use_default_heuristic': True,\n",
            " 'use_milp': True,\n",
            " 'vnn_lib_spec': None,\n",
            " 'zonotope': None}\n",
            "netname  ../../mnist_net.onnx  epsilon  0.1  domain  deepzono  dataset  mnist args complete  False  complete  False  timeout_lp  1\n",
            "This network has 40 neurons.\n",
            "Only the first 100 samples are available.\n",
            "concrete  [-3.3864569323248697, -5.195731188934774, -0.15406078059366546, -1.438521947695639, -4.81544115237038, -1.6150412808939645, -12.128801848972143, 5.7998382963287405, -3.9550196275110574, -1.5586431672171286]\n",
            "nlb  [-11.830885672190558, -16.216727768091474, -7.928547187828444, -7.8776959972723875, -16.757123400665414, -8.985374790045332, -21.652598172768137, -8.470512767886001, -11.931130710408102, -14.53478223975298]  nub  [6.271624292423558, 5.376440824946966, 8.584619366521098, 6.9166081032161415, 3.409831471241786, 7.5250725532089975, 0.2505379508233117, 13.611300633891725, 5.182385504416464, 7.430235829620831] adv labels  None\n",
            "img 0 Failed\n",
            "progress: 1/None, correct:  1/1, verified: 0/1, unsafe: 0/1,  time: 0.214; 0.214; 0.214\n",
            "concrete  [2.30062482036696, -5.071733796761561, 6.622963640445386, 2.393045748297542, -15.558902242807264, 3.3010200926749653, 0.8434764857672703, -11.976689109297094, 0.47954919784885586, -13.561084535538098]\n",
            "nlb  [-4.519223916901775, -13.488910929757228, -3.0439187451056973, -5.071805007814358, -24.26222515012062, -3.342259953556723, -8.235066062881186, -20.869168212262316, -5.721409392232568, -22.766725510394338]  nub  [8.18150001932429, 4.024245979070135, 13.946494985402483, 9.838225088243712, -6.734246956922791, 12.029456418214624, 8.626463353471731, -5.0730728203038185, 6.968375509812557, -3.6819787861887363] adv labels  None\n",
            "img 1 Failed\n",
            "progress: 2/None, correct:  2/2, verified: 0/2, unsafe: 0/2,  time: 0.211; 0.213; 0.426\n",
            "concrete  [-5.097109652321349, 6.391938986218574, -0.06809964634182569, -0.8415010690188173, -3.548139519365711, -1.6412937545043649, -1.1294466233387632, 0.010781684203881762, -0.6104147460847266, -4.925747954351606]\n",
            "nlb  [-15.193624492962021, -11.899243642682887, -10.57388789186329, -10.48806548485694, -16.341251113313106, -11.151555079867583, -16.862205430832233, -14.95337526670664, -10.55662966089995, -18.619292591246666]  nub  [6.385050884005502, 15.008907809893799, 10.807906099256329, 8.369500286866293, 6.942649443311415, 9.24939041508985, 11.925969474142178, 10.303438548932485, 9.476026492170467, 8.099471109778849] adv labels  None\n",
            "img 2 Failed\n",
            "progress: 3/None, correct:  3/3, verified: 0/3, unsafe: 0/3,  time: 0.212; 0.212; 0.637\n",
            "concrete  [8.502943680354598, -12.703141609318576, -0.6800590683419705, -3.716649577348533, -11.216615179512294, -0.44225198073155925, -1.2542687137896795, -2.5003306890923978, -3.4449846906259896, -4.793130905030579]\n",
            "nlb  [-4.699893750503431, -21.160453342334474, -10.193334872457816, -11.583069551704785, -21.405571740217987, -7.553408760964635, -16.344594453058427, -16.747178370678917, -12.954960867604088, -17.340466810403083]  nub  [14.29465109120396, 0.011084319983450053, 7.903220416795416, 5.321206897234655, -0.35626312240822816, 9.296671925170441, 10.907829688415426, 8.248911131938529, 6.915835889352337, 5.235111787593752] adv labels  None\n",
            "img 3 Failed\n",
            "progress: 4/None, correct:  4/4, verified: 0/4, unsafe: 0/4,  time: 0.219; 0.214; 0.857\n",
            "concrete  [-4.039969156729644, -8.497811569124192, -2.0848129430342315, -4.214705130951042, 5.413072263249783, -1.963619782244379, -3.2797748575094783, -1.537245944725932, -0.48909740294840276, 2.2491931680867703]\n",
            "nlb  [-15.014554228632457, -20.6446128732983, -11.71233562898674, -13.3780667290883, -11.450840072852655, -11.979577870701208, -18.846068635303773, -16.33270251178844, -11.834948288040986, -14.89267234930507]  nub  [7.980473824623163, 7.167514392399956, 9.34065240091138, 6.735605333927485, 13.139216527235062, 8.961313760539495, 12.0448140587656, 11.70307573509081, 10.015578830577425, 12.219402316504668] adv labels  None\n",
            "img 4 Failed\n",
            "progress: 5/None, correct:  5/5, verified: 0/5, unsafe: 0/5,  time: 0.212; 0.214; 1.069\n",
            "concrete  [-7.346142553348094, 7.106931011327016, -1.0143346874548989, -0.5376371703771967, -4.5282359042754985, -2.9693987768672088, -4.162880908553299, 1.5672624189863051, -0.3499080520628763, -4.539880563712047]\n",
            "nlb  [-15.79438574693391, -9.985063945998755, -10.419936212707407, -9.533781650267395, -16.312789140347643, -11.208821440089809, -18.00361568977274, -13.278728674222583, -9.386845643333977, -18.00597552278352]  nub  [4.35244161011046, 15.108175452661031, 9.80496330938334, 8.106154039063892, 4.748307394849964, 7.604429063370328, 9.829307242168673, 10.261716220632492, 8.928899098028078, 7.402934623240661] adv labels  None\n",
            "img 5 Failed\n",
            "progress: 6/None, correct:  6/6, verified: 0/6, unsafe: 0/6,  time: 0.214; 0.214; 1.283\n",
            "concrete  [-6.991141181864902, -6.410395785943591, -5.684622541943202, -3.857155476511642, 6.4178966027141575, 0.7537212936579725, -6.128830722379344, -1.36458680196145, -1.6481611525450242, 0.8663080482048546]\n",
            "nlb  [-16.448792650213676, -18.145021335551462, -12.772483476148889, -11.849366139579752, -9.3975165923387, -9.378666140869788, -18.794894800971377, -16.342576058298235, -10.51538366339376, -12.325263566786651]  nub  [4.54333308474179, 7.898903762140592, 3.5706756464605807, 6.6312466728016926, 13.13412356269923, 10.566701754468022, 7.413408470007179, 10.819978428239844, 9.317936071401462, 10.137281314169405] adv labels  None\n",
            "img 6 Failed\n",
            "progress: 7/None, correct:  7/7, verified: 0/7, unsafe: 0/7,  time: 0.211; 0.213; 1.494\n",
            "concrete  [-7.751054610136127, -4.293705174508523, -4.145690083058903, -0.41219315964722075, 1.0473935697020027, 0.03921787274529953, -8.430619949473941, -1.4527608669536671, 0.2569315711914735, 4.792622794749484]\n",
            "nlb  [-17.42236677877841, -15.770703613465603, -12.938419747788314, -9.648653536806211, -13.17567325656358, -9.6266909307632, -21.530379949899284, -15.963557675514306, -9.304315713034535, -12.72772337331879]  nub  [3.8487396518336876, 9.928431871572998, 7.616851054738052, 8.374856559751224, 9.728749564313318, 10.571476804899902, 7.8907175269383965, 9.808676022101713, 10.123738187322322, 13.511678627095547] adv labels  None\n",
            "img 7 Failed\n",
            "progress: 8/None, correct:  8/8, verified: 0/8, unsafe: 0/8,  time: 0.213; 0.213; 1.707\n",
            "concrete  [0.8986360879355317, -10.353353331858544, -3.682721581227343, -11.567769657520612, 2.9713577300790934, 3.686984552865363, 6.376700213070251, -12.140566158490609, 1.1806225686432645, -3.6333706652396844]\n",
            "img 8 not considered, incorrectly classified\n",
            "progress: 9/None, correct:  8/9, verified: 0/8, unsafe: 0/8,  time: 0.004; 0.213; 1.707\n",
            "concrete  [-7.962180179978514, -11.276678295592317, -8.22173769906826, -4.315010705784394, 2.2197284119691134, -2.8365701877098015, -11.91943586761332, 0.9757459770238472, 0.5369244181093155, 8.397496413936633]\n",
            "nlb  [-17.38538973213303, -22.24519904240792, -15.476518699544485, -13.010330487370831, -11.816338325103649, -11.620606208643906, -24.528878623184777, -14.456862351610615, -9.720329057358281, -7.662479874340536]  nub  [3.9777388826741324, 2.933914883661847, 2.8595679136977146, 6.003818907475686, 10.89630437247532, 7.769173038557698, 3.7060174592690456, 13.445386060220242, 10.713345416126677, 16.343544733588395] adv labels  None\n",
            "img 9 Failed\n",
            "progress: 10/None, correct:  9/10, verified: 0/9, unsafe: 0/9,  time: 0.219; 0.214; 1.926\n",
            "concrete  [6.99810978030523, -12.511363977979068, -0.15204564504607454, -2.3649706929828893, -8.913078487195497, 2.2461731920215624, -2.402448867029154, -5.185547111837933, -1.8343891236849474, -6.378353817367725]\n",
            "nlb  [-4.820632166151343, -22.152103058165217, -8.857180074645724, -10.423637995565034, -20.441847566352717, -5.960273951818946, -15.764158815695613, -18.0906586118598, -10.647737491900498, -18.664185852566355]  nub  [13.482561488832813, -0.07921257120927055, 8.989068756862256, 6.925254520936577, 1.0663053716313176, 11.316598019911343, 8.806494437870422, 5.220877175577199, 8.35794252268448, 4.329235843573481] adv labels  None\n",
            "img 10 Failed\n",
            "progress: 11/None, correct:  10/11, verified: 0/10, unsafe: 0/10,  time: 0.210; 0.214; 2.136\n",
            "concrete  [-1.9478838612803513, -3.5066920671060964, -0.47261207604737543, -2.863597406116753, -0.5909539485523099, -1.1012827663552258, 4.027142528873709, -8.044326613240925, 0.9544763012293587, -4.492737622400586]\n",
            "nlb  [-13.670831011916897, -17.63173177749107, -11.247574411541972, -11.867732661025155, -14.767439125974628, -11.060869939892289, -13.91754957572335, -20.566742736456458, -9.493982969011315, -18.371023732738273]  nub  [8.570994174594054, 9.401162063589444, 10.033959608784532, 8.123183352891312, 9.423648730666544, 10.07594444758983, 15.910406072429822, 5.5912933806453715, 10.948502782368081, 8.589285137446947] adv labels  None\n",
            "img 11 Failed\n",
            "progress: 12/None, correct:  11/12, verified: 0/11, unsafe: 0/11,  time: 0.211; 0.213; 2.347\n",
            "concrete  [-7.033045114731514, -9.663949812609056, -5.885887587108482, -2.23382454613716, 1.6602452312262657, -0.9199224650466471, -11.248272334880351, -0.107461377300204, 0.6776643064672612, 7.122963877944059]\n",
            "nlb  [-16.671374160506666, -20.70017000145665, -13.546153299700952, -11.45418351508946, -13.496941846104733, -10.484731510214374, -23.71300419454545, -15.59535202680676, -10.587128048863747, -11.41761700598261]  nub  [5.510502263714041, 5.15546447120822, 6.023699914970013, 7.931638013989167, 10.169039978319148, 9.52558428958709, 5.386132881892265, 12.315970369833394, 10.517580976187878, 14.829954883988078] adv labels  None\n",
            "img 12 Failed\n",
            "progress: 13/None, correct:  12/13, verified: 0/12, unsafe: 0/12,  time: 0.213; 0.213; 2.560\n",
            "concrete  [5.476127585485212, -13.280079855335009, -1.8404547971432292, -3.263260183474148, -7.7279750963985805, -0.316049526519401, -5.424970737630372, -0.7365208857587353, -0.988117342961945, -1.2886454635501268]\n",
            "nlb  [-6.669349094694596, -22.117056945714367, -10.226339688402419, -11.598821092631823, -18.40827096694094, -7.192981043593497, -18.6354356144167, -15.719165660391704, -10.740868215940928, -14.946351428342911]  nub  [13.006864098594159, -0.44003704333454563, 7.257442185243257, 5.720341891139545, 2.4973567545898843, 9.552593296581273, 7.8243490664491135, 8.996028292705997, 9.101001197727888, 8.506341052918083] adv labels  None\n",
            "img 13 Failed\n",
            "progress: 14/None, correct:  13/14, verified: 0/13, unsafe: 0/13,  time: 0.211; 0.213; 2.770\n",
            "concrete  [-8.138781375952448, 8.481034651441469, -2.491819567231893, 0.7197007287251955, -5.958695100892211, -2.038944394987815, -3.017690695883062, -1.842411686914025, 0.23267204821916176, -4.327518236113512]\n",
            "nlb  [-15.702365097545451, -7.105552418297976, -11.315951459042614, -7.0295488285293235, -17.059535568401262, -9.438844558257946, -17.393266245294885, -14.76718529273369, -8.099985587455043, -16.846838097789245]  nub  [2.2885187094345065, 15.771248837880883, 7.9880487911918845, 8.883674130392393, 2.441198252281072, 7.710100191039942, 9.101415334546447, 7.67333432174947, 8.871352692244097, 7.043371715646473] adv labels  None\n",
            "img 14 Failed\n",
            "progress: 15/None, correct:  14/15, verified: 0/14, unsafe: 0/14,  time: 0.218; 0.213; 2.988\n",
            "concrete  [-1.7059220564543176, -0.9916059964014521, -2.9465888849170945, 1.5061452250648701, -4.729461232920083, 5.186841378197234, -3.267309670187653, -6.52161886255515, 1.594551494887988, -2.7581345047600014]\n",
            "nlb  [-13.30240184228214, -15.113865657209175, -11.52779065438129, -8.665524365482927, -18.452158620809804, -5.584232196916468, -17.532042535571183, -19.246677569689123, -9.735391332651927, -16.825931017238155]  nub  [8.415122127430964, 10.483972261645311, 7.544090373032068, 10.475135106351486, 5.1636995318306536, 14.230406148343947, 7.6236335459745455, 6.319396273707125, 11.220053460232744, 7.6599682385243755] adv labels  None\n",
            "img 15 Failed\n",
            "progress: 16/None, correct:  15/16, verified: 0/15, unsafe: 0/15,  time: 0.215; 0.214; 3.203\n",
            "concrete  [-5.110939154573856, -11.046343853769686, -4.3639498507762085, -3.208532699849696, 2.122561692832415, -2.4166201933854365, -9.14296270211984, 0.00611328142367884, 0.8516810523762348, 6.623523151551691]\n",
            "nlb  [-15.07534717488336, -21.78095414935352, -12.255630803973759, -12.186134988389107, -13.024904303021975, -11.603318247471279, -21.871248341219115, -14.55666911188698, -10.290572661831181, -11.549860236518828]  nub  [6.786425778007414, 4.056014631281609, 7.03625507440898, 7.075836139775137, 10.53682915840246, 8.047189110808079, 6.234468638386208, 12.502466323958814, 10.262504963197552, 14.333597599012535] adv labels  None\n",
            "img 16 Failed\n",
            "progress: 17/None, correct:  16/17, verified: 0/16, unsafe: 0/16,  time: 0.215; 0.214; 3.419\n",
            "concrete  [-2.2742603684425338, -6.054969823261384, -0.10047310411787502, -0.27976219188499524, -5.803480640685123, -2.58098329368352, -11.620497682296353, 5.420217811876386, -5.4073212592533535, -3.3519709134954003]\n",
            "nlb  [-10.746519099318, -15.811406427783211, -7.924941680874945, -6.323305941852572, -17.042894887372434, -9.685471579510896, -21.287153212351516, -7.653419824945454, -13.029658769311345, -15.411886413180257]  nub  [6.851456355982098, 3.7181222510085803, 8.393151049889301, 7.468277496825395, 1.7316945369963899, 6.448746790381441, -0.3826946404279851, 13.602769490476044, 3.312392995839253, 5.955320343604966] adv labels  None\n",
            "img 17 Failed\n",
            "progress: 18/None, correct:  17/18, verified: 0/17, unsafe: 0/17,  time: 0.211; 0.214; 3.630\n",
            "concrete  [-4.777790368214943, -0.08913866363082712, -1.0513896963451554, 3.323013342845633, -3.085942520528779, 2.4498480144631136, -1.1590354286217959, -8.606512727003278, 2.492673768951257, -3.885887839923201]\n",
            "nlb  [-16.462570162741095, -15.627661161241612, -11.964929005341485, -8.372990157513474, -18.316710382518128, -9.182956820586481, -18.150240100833162, -21.39886343485587, -10.652833255155011, -19.842226414169723]  nub  [7.157324971378559, 12.76357263151202, 10.81867131074223, 12.091138049047625, 7.726001648913604, 13.227480301292468, 11.80669420035532, 6.302422536663781, 12.15746316253781, 8.621888011598303] adv labels  None\n",
            "img 18 Failed\n",
            "progress: 19/None, correct:  18/19, verified: 0/18, unsafe: 0/18,  time: 0.212; 0.213; 3.842\n",
            "concrete  [-6.176780645249591, -6.128232426646051, -3.764686034534712, -3.022417438184627, 6.549420640849974, -0.27708468447140966, -4.3267224746504285, -1.7535100720561498, -2.183676299683834, 1.8705093453175332]\n",
            "nlb  [-16.28657882394268, -19.048911701864057, -12.615444441529041, -12.108400758182343, -10.667469185203682, -10.622480046988121, -19.503072321974212, -16.770775016995007, -12.542233523783514, -14.72492176196267]  nub  [6.744604149168226, 8.549724280278205, 7.851919518807033, 7.73515153627287, 13.597494834731778, 10.331879599172039, 11.436049649307295, 11.250217799635323, 9.011624026032916, 11.709926591104962] adv labels  None\n",
            "img 19 Failed\n",
            "progress: 20/None, correct:  19/20, verified: 0/19, unsafe: 0/19,  time: 0.221; 0.214; 4.063\n",
            "concrete  [-8.488427018871231, -7.964485951089923, -8.566244975502618, -0.6726327966411101, 0.6121632542154605, -1.3251639202552061, -15.672504743216086, 3.9543169799467393, -1.9060465497660286, 6.691278360993641]\n",
            "nlb  [-17.491139001367593, -19.248260950062885, -15.197034545191022, -9.597764588631245, -12.556377598297237, -9.945069078552445, -25.97046551745405, -13.162462484111549, -11.079405957222008, -8.681618895615774]  nub  [3.0481891435367836, 5.037331102465112, 1.972695499471707, 8.896807134481225, 9.360058214644681, 8.982787974192991, 0.9387448435811355, 13.87517299225251, 9.376910250246718, 14.825797173804157] adv labels  None\n",
            "img 20 Failed\n",
            "progress: 21/None, correct:  20/21, verified: 0/20, unsafe: 0/20,  time: 0.214; 0.214; 4.277\n",
            "concrete  [-0.603432233178586, -3.654640108474224, -0.4464579988379904, -3.6047470124641863, -1.0692402002339876, 3.0202420082087884, 6.360109868429725, -11.261651774367373, 0.1767176739449018, -6.238910042881739]\n",
            "nlb  [-11.81634404498009, -15.793059230916004, -10.262129872551776, -11.817389760077369, -15.217894115794769, -7.523727593832911, -11.06851264791052, -22.083799707465683, -9.547467333578794, -18.881896558887913]  nub  [9.07874790286581, 8.456513228460931, 9.727865147475521, 7.28069658758232, 7.926124872418278, 12.730800841567122, 16.630578996702823, 2.2838043847977323, 10.051036676069021, 5.5173318005424115] adv labels  None\n",
            "img 21 Failed\n",
            "progress: 22/None, correct:  21/22, verified: 0/21, unsafe: 0/21,  time: 0.212; 0.214; 4.489\n",
            "concrete  [-5.2792568097553625, 0.7043320869576444, -0.0892301936622091, -5.185112969450725, 3.0175873227654098, -5.961330514097466, 5.08885941130448, -3.3934761016529915, -1.6435796892266854, -5.3233033791361555]\n",
            "nlb  [-15.949431358466416, -13.8532609969251, -10.959374526192173, -12.941157757289437, -12.039479368348792, -13.618545155138344, -13.9632571747548, -17.009675272925836, -10.830125329259946, -18.160497340850167]  nub  [5.677406099455731, 12.791289410023287, 9.862990604300665, 6.0156208755488185, 11.125006258357514, 6.526069419981503, 16.658761203766662, 9.2638566067276, 9.477082846261833, 7.890298374325296] adv labels  None\n",
            "img 22 Failed\n",
            "progress: 23/None, correct:  22/23, verified: 0/22, unsafe: 0/22,  time: 0.213; 0.214; 4.703\n",
            "concrete  [-0.5433081215354454, -5.514855712870004, -3.7390775632054725, -3.1919655174477066, -0.6253581133898569, 6.567797317671007, -0.5216009920191876, -8.33340896346871, -0.40013146341310135, -4.972551187692003]\n",
            "nlb  [-12.585914946031174, -17.6329985076545, -12.301626431177556, -11.852041307783523, -15.494549833319152, -5.113779428346978, -16.931474716866976, -21.26391718414149, -11.119360044298487, -18.42756310726529]  nub  [9.606107165079656, 7.046258927142705, 7.3990786871853444, 6.968142251475684, 7.7055419646495125, 15.006256309363838, 12.460821990627666, 5.724043192362678, 9.60460627378895, 6.48610624431202] adv labels  None\n",
            "img 23 Failed\n",
            "progress: 24/None, correct:  23/24, verified: 0/23, unsafe: 0/23,  time: 0.218; 0.214; 4.921\n",
            "concrete  [-5.853839097218683, -3.990089090189361, -2.7604695011051255, -2.1457430646866524, 4.980153974866118, -0.7758136190290408, -4.559230899926778, 0.08381293488078725, -2.580473313174402, 2.017927824747573]\n",
            "nlb  [-16.711988774714065, -19.05187726731572, -12.560067098036788, -12.529750318821264, -12.560735656122723, -11.726128212222424, -20.28737087615907, -15.966734295139917, -13.76311695554593, -16.050687979103845]  nub  [7.656816416173072, 10.985394780987823, 9.89592189407136, 8.37630174977273, 13.54806425945708, 10.233749290222423, 11.990207127406542, 13.108835170872203, 9.483849825074355, 12.441058088892268] adv labels  None\n",
            "img 24 Failed\n",
            "progress: 25/None, correct:  24/25, verified: 0/24, unsafe: 0/24,  time: 0.215; 0.214; 5.135\n",
            "concrete  [12.546611068999281, -22.15524736200691, -2.852660208229124, -13.730993151736735, -4.91767952947974, 3.441262786925657, 5.217540456932186, -9.89402076916599, -2.0154367327459393, -8.654763669923597]\n",
            "nlb  [0.3319212232820439, -29.506537524334536, -10.566307346716906, -19.46629242803363, -16.858293739505125, -3.7385065909723076, -11.193519375771844, -21.722504729204292, -10.664975552680643, -18.732503156963034]  nub  [18.35049576673199, -10.073436363032085, 5.868550784578049, -3.0188123832214284, 3.1124886834587526, 11.533056964919712, 15.282737789183685, 2.730013455236417, 7.749901718383496, 1.3438827185755187] adv labels  None\n",
            "img 25 Failed\n",
            "progress: 26/None, correct:  25/26, verified: 0/25, unsafe: 0/25,  time: 0.212; 0.214; 5.347\n",
            "concrete  [-3.6282948791186493, -2.5395470610406434, -2.7848799458474924, -1.0137438377965222, -3.3087581459910758, -0.830581381484488, -9.437858568010492, 4.935899866460707, -2.409360680169376, 1.3145893126583015]\n",
            "nlb  [-13.573012422900373, -15.887481499349658, -11.284382812513138, -10.1367683385299, -16.130656658294082, -9.70846630841347, -21.312514367298405, -11.807369653855824, -12.06978406835275, -13.454470017068058]  nub  [7.0647700379498275, 9.833330569609464, 7.327244914106034, 7.800155658892257, 6.181423337728782, 9.639217024858178, 5.284396620470401, 14.405968172928626, 8.121582483324442, 10.865140146973955] adv labels  None\n",
            "img 26 Failed\n",
            "progress: 27/None, correct:  26/27, verified: 0/26, unsafe: 0/26,  time: 0.214; 0.214; 5.560\n",
            "concrete  [-5.5653966790407745, -10.011465132329143, -3.997403114032789, -4.668845798235363, 7.338080479757927, -0.3369999567964781, -4.610895855128659, -3.144222887027216, -1.5014118067339919, 2.6398896250606017]\n",
            "nlb  [-15.808752089825347, -21.20796779161469, -12.678080327040213, -12.876445762895372, -9.39418466650095, -10.23687166157883, -19.748058483844563, -17.193065280784218, -11.599825615218625, -13.653374600658532]  nub  [6.457835549442381, 4.970270021369406, 7.334729484800498, 6.537844240491038, 14.119567753561345, 10.02889992280422, 10.585878221879751, 9.993057755697864, 8.832273803230823, 12.166047301325131] adv labels  None\n",
            "img 27 Failed\n",
            "progress: 28/None, correct:  27/28, verified: 0/27, unsafe: 0/27,  time: 0.229; 0.214; 5.789\n",
            "concrete  [8.594552636740586, -15.356264629161172, -1.5103782040060874, -1.2806369389354897, -13.420808148334373, 0.46091962772037975, -6.200693532111174, -3.112607478975546, -2.58605674693738, -3.9651024696582757]\n",
            "nlb  [-3.2687443796570057, -23.284055372686588, -9.88501407082288, -8.878940122011883, -23.19514729176779, -6.643183036872593, -18.420208244204638, -16.16650077788767, -11.265681002203694, -17.409727869210965]  nub  [14.848631230010882, -2.9035717032394035, 8.025036945993584, 7.392491977917933, -3.376404151021994, 9.576683135818428, 6.147539629357809, 6.282983066623303, 7.314559351744255, 5.506785838423319] adv labels  None\n",
            "img 28 Failed\n",
            "progress: 29/None, correct:  28/29, verified: 0/28, unsafe: 0/28,  time: 0.233; 0.215; 6.022\n",
            "concrete  [-6.204161271207043, 6.181627130055555, -3.0716730947810773, -0.08568528226464263, -3.354497079195656, 0.36830747563105487, -1.01044081288859, -3.6469731313502374, 1.207253523919472, -3.3659406254085775]\n",
            "nlb  [-15.691044907655808, -11.187482881282325, -11.819034861492364, -9.853945542239154, -16.806478332461403, -9.466645253171121, -16.472486576981712, -17.39929306308167, -9.75307416317695, -17.85855819878344]  nub  [6.004621785834647, 15.223325488172362, 8.766689455310843, 8.901436484861868, 6.521728902310549, 11.012722608348373, 11.631376074370653, 8.296031874965369, 10.553772216687914, 8.183802188546393] adv labels  None\n",
            "img 29 Failed\n",
            "progress: 30/None, correct:  29/30, verified: 0/29, unsafe: 0/29,  time: 0.214; 0.215; 6.236\n",
            "concrete  [-6.606711138850055, -3.586600066749874, -6.485355544127402, 5.40999050902842, -6.772280519081112, 0.7266168369233379, -13.168817065967431, -0.8000385487578565, -0.8521908508367676, 1.6405175211539835]\n",
            "nlb  [-15.430405343769744, -14.104419996973894, -13.313606691399457, -4.400868149226953, -18.94408703810362, -7.763504280090313, -23.7023693441039, -16.28934999138329, -10.027929221025728, -14.089208160055795]  nub  [3.821257151673814, 8.513073737845716, 4.632711111871413, 12.30718184115381, 2.555192433533778, 11.283304710727117, 2.102287920266118, 9.1335918743106, 9.15300986196813, 10.422432242589252] adv labels  None\n",
            "img 30 Failed\n",
            "progress: 31/None, correct:  30/31, verified: 0/30, unsafe: 0/30,  time: 0.215; 0.215; 6.451\n",
            "concrete  [-6.556463426362396, 4.941522583678924, -3.0832714578815206, 0.4725783175749817, -2.4130410419638313, -0.8109517289082617, -3.4282747792820265, -0.9134572564429704, -0.2776413840921694, -1.3164672324500293]\n",
            "nlb  [-15.9810949348504, -11.829243310104602, -11.966427749704685, -9.522735763074982, -16.051864305271213, -10.418617331845132, -17.98298793109254, -15.687707252187465, -10.649849819264512, -16.538646238869255]  nub  [5.487140623637287, 15.040997524825627, 8.623934878017923, 9.364162485344533, 7.368579458800851, 10.246455598854922, 10.266178324039055, 10.405128575269304, 9.750667140317976, 9.726968778194951] adv labels  None\n",
            "img 31 Failed\n",
            "progress: 32/None, correct:  31/32, verified: 0/31, unsafe: 0/31,  time: 0.214; 0.215; 6.666\n",
            "concrete  [-4.955947585826936, -5.284122691889966, -3.8049961428410772, 5.961007434185767, -4.653392908826769, 3.2239500963187613, -8.01799087081257, -7.491376309819685, 1.2703473633846383, -2.4184363821843116]\n",
            "nlb  [-14.927541181163615, -17.309222454969827, -11.711428728977232, -4.489900183307109, -17.52601245094167, -6.428330174308977, -20.95894678035307, -21.062849404197873, -9.157391090216631, -16.55177707116271]  nub  [5.3878167180020355, 7.378520511086474, 6.365156157485043, 13.404194809117717, 4.792626360847616, 13.293334522634812, 5.884078842129964, 4.422817538309106, 10.415962649573823, 8.06122262754312] adv labels  None\n",
            "img 32 Failed\n",
            "progress: 33/None, correct:  32/33, verified: 0/32, unsafe: 0/32,  time: 0.209; 0.215; 6.875\n",
            "concrete  [4.486649881126805, -12.077986686595388, 0.278148705729266, -9.688710933266469, 2.3685295308411325, 2.9040352794153685, 5.408706060280812, -8.234469270805736, 0.6963960921043033, -3.851196373526955]\n",
            "img 33 not considered, incorrectly classified\n",
            "progress: 34/None, correct:  32/34, verified: 0/32, unsafe: 0/32,  time: 0.004; 0.215; 6.875\n",
            "concrete  [-6.7354603877241495, -3.738413316265072, 1.1816027078540374, -0.3654616723399285, -5.656126431471629, -3.3585103972797454, -14.79878662218332, 6.267984409519198, -2.8440729870935564, -2.63828510083976]\n",
            "nlb  [-14.304477802084273, -15.456394386200374, -7.612502106702862, -8.053984175096081, -17.07018348739021, -9.886368443118087, -24.231594352100952, -8.328756039512632, -10.088221278264443, -15.419487689779405]  nub  [3.402351840903931, 6.03017988679885, 9.980607083193869, 7.313994140223616, 3.015038154045811, 5.942972815087207, -1.1404859922268602, 13.394404210257923, 6.702021579770634, 7.780549770872844] adv labels  None\n",
            "img 34 Failed\n",
            "progress: 35/None, correct:  33/35, verified: 0/33, unsafe: 0/33,  time: 0.222; 0.215; 7.097\n",
            "concrete  [-1.3379976022586875, -1.048205138348651, 6.7488314166991925, 1.2390309135022737, -11.327697738935292, 1.061281490510566, -1.7110625735556788, -7.741392451727391, 1.1895316293635105, -12.035333361543785]\n",
            "nlb  [-10.614234240194548, -12.101258781630282, -3.996157988012355, -7.090232117254043, -22.160582714532204, -6.8395207440254575, -14.397730053755426, -17.631144398713015, -8.283620432797507, -23.47704914699977]  nub  [7.040422776050701, 8.553728949216223, 15.149510146799551, 8.995599987583446, -1.8322543083481837, 10.276406552039274, 7.787723228886713, 2.9913801899468573, 8.937118897667201, -0.8461280515906572] adv labels  None\n",
            "img 35 Failed\n",
            "progress: 36/None, correct:  34/36, verified: 0/34, unsafe: 0/34,  time: 0.215; 0.215; 7.312\n",
            "concrete  [-5.178458315069084, -2.7476564827597487, -0.10262454044939706, -0.643800654020193, -5.52112707997084, -1.2268815683290064, -12.080927603367611, 4.9468476944754824, -2.4132071895374625, -1.2175390582191716]\n",
            "nlb  [-13.666649386115864, -15.429343770040326, -8.770415101402518, -8.061312256364127, -17.422999347063005, -9.27231791427753, -22.578717724972947, -10.040737199101796, -11.589963109530153, -15.340205202465214]  nub  [5.668185050191202, 7.598034137669432, 9.177216623005657, 7.687181845600516, 3.5656532509359673, 8.376711847816383, 1.5859293145764783, 13.60962727940483, 6.721172955694092, 8.421297401945274] adv labels  None\n",
            "img 36 Failed\n",
            "progress: 37/None, correct:  35/37, verified: 0/35, unsafe: 0/35,  time: 0.211; 0.215; 7.523\n",
            "concrete  [-7.6048496820323725, 7.4267430314204885, -3.0337317790680456, -0.28772139996916996, -4.294963512413641, -1.4741491794116084, -2.9505255858697907, -1.1755406018237788, 0.31744207587958584, -3.50612097323468]\n",
            "nlb  [-16.105259924918506, -9.220698112773423, -11.726699549501229, -9.305636462904003, -16.76614731190358, -9.957510477202144, -17.344466907654116, -15.336632250940935, -9.027400328623782, -17.135341591804654]  nub  [4.104493508112104, 16.06526152039615, 7.9974467459303105, 8.389867189019913, 4.89318765962126, 9.281756429750697, 9.999081123291502, 9.104626098850824, 9.773173640658833, 8.044360328360074] adv labels  None\n",
            "img 37 Failed\n",
            "progress: 38/None, correct:  36/38, verified: 0/36, unsafe: 0/36,  time: 0.211; 0.215; 7.734\n",
            "concrete  [-0.5493866026802179, 0.26768972823493, 2.4292304992662594, 3.4424501612262945, -12.175328927345383, 2.284345706812084, -2.65127127555161, -7.091713068453772, 0.5187463597736112, -7.605437074226822]\n",
            "img 38 not considered, incorrectly classified\n",
            "progress: 39/None, correct:  36/39, verified: 0/36, unsafe: 0/36,  time: 0.003; 0.215; 7.734\n",
            "concrete  [-7.5638700148180265, 7.776568648593945, -2.9613433634339406, -0.09037616650782015, -6.961357507731106, -1.4413384980465804, -2.2274483426963982, -3.617921824271691, 1.6936751587609833, -4.487008770393382]\n",
            "nlb  [-15.545950406947316, -8.29895667275838, -11.966128829348335, -8.21795216084207, -18.529434688447353, -9.30795785542869, -17.384094488236713, -16.02900111225006, -7.237067219210508, -17.65771223583869]  nub  [3.6053288913046786, 15.61144937818653, 8.024037826551162, 8.640176181944915, 1.6018976361727264, 8.580911012704718, 10.157873890539992, 6.334287618037087, 10.00477844109815, 7.068580622928893] adv labels  None\n",
            "img 39 Failed\n",
            "progress: 40/None, correct:  37/40, verified: 0/37, unsafe: 0/37,  time: 0.218; 0.215; 7.952\n",
            "concrete  [-3.765353729488135, 5.410850918485112, -0.8856787031873321, -0.4884964449059276, -3.7376677193344343, -0.8995005752511973, -1.354496872262113, 0.17296308956320589, -0.6422810283159263, -3.314536519053861]\n",
            "nlb  [-14.675306457366457, -12.78021700389916, -11.049406128254288, -10.689590459558584, -16.511663073157482, -11.050850978973113, -16.992577976567805, -15.28807943427774, -11.246938352679006, -17.996090641256878]  nub  [7.415631767442436, 14.841594447263832, 10.383889108353152, 8.683472017709034, 7.371927340195869, 10.020606390068203, 11.960334939161505, 11.040192239911933, 9.545293011699476, 9.050998250756077] adv labels  None\n",
            "img 40 Failed\n",
            "progress: 41/None, correct:  38/41, verified: 0/38, unsafe: 0/38,  time: 0.214; 0.215; 8.166\n",
            "concrete  [-5.130406082590034, -2.4133263821674844, -1.4679825133417939, -0.9906377179210081, -3.0316124293513886, -0.5547639220211827, -10.905011739281845, 5.0527378193206225, -2.1027133334736106, 0.8072605958091992]\n",
            "nlb  [-15.509230309357521, -16.17741084456287, -10.816714431865503, -10.14939311902653, -16.32595119426376, -10.360545813694287, -22.709485494883253, -12.492713050067012, -12.82393681583405, -16.13154482156651]  nub  [6.733872191321309, 9.98158309198845, 10.085174901849443, 7.973039708572525, 7.256294790550194, 9.68365828852624, 6.2473571998935755, 14.58425709277234, 8.005898398868386, 10.817322822475198] adv labels  None\n",
            "img 41 Failed\n",
            "progress: 42/None, correct:  39/42, verified: 0/39, unsafe: 0/39,  time: 0.214; 0.215; 8.380\n",
            "concrete  [-13.628425906131094, -3.9617155594089866, -5.134296440438231, -2.1693074544183326, 6.1222219669143145, -4.373783894220539, -9.792077023409801, 0.39409688895199346, 0.052937895139776925, 3.699257146841386]\n",
            "nlb  [-20.084722274944863, -16.531803984220907, -13.06595639173621, -10.38363385263509, -8.689585339797633, -11.951962429531768, -22.14881433036103, -14.100052256442602, -8.382640331593427, -10.917443868083108]  nub  [-0.8417589521344699, 8.667395136367839, 4.772261161364987, 7.2350803107304245, 12.92644563186546, 7.117097103705867, 4.32648522545434, 11.128295447963874, 9.630446841083122, 12.739982256561069] adv labels  None\n",
            "img 42 Failed\n",
            "progress: 43/None, correct:  40/43, verified: 0/40, unsafe: 0/40,  time: 0.216; 0.215; 8.596\n",
            "concrete  [-2.9454589947043583, 0.8898292873311211, 3.5403597594365244, 0.6858954036336584, -3.2660565655378253, -0.9721189698860304, 0.17415384958814378, -3.3270247977898952, 0.6238928736504756, -4.625124104062523]\n",
            "nlb  [-14.218252231433583, -14.545417759821206, -9.128608712814104, -9.385743026627981, -15.807506540161977, -10.501462094461292, -16.242217423861327, -15.886556559917398, -9.217216640257266, -18.39105396322301]  nub  [7.061592418642325, 12.063041054700351, 12.888957022479799, 9.447892665743783, 7.083483662126675, 9.640402468242069, 12.241797571480785, 7.59338071465702, 9.657894141592129, 8.375195517223721] adv labels  None\n",
            "img 43 Failed\n",
            "progress: 44/None, correct:  41/44, verified: 0/41, unsafe: 0/41,  time: 0.214; 0.215; 8.810\n",
            "concrete  [-3.8354876331570047, -2.2461607886476576, -1.8746741646826581, 3.1480524557215963, -3.6490406101987043, 0.9852557145736193, -2.3315630776775547, -6.535319158226089, 0.19106713704656697, -1.9678318252063205]\n",
            "nlb  [-14.893108405114198, -15.622344075717331, -11.531744127116399, -7.914278782800742, -17.442265313515776, -9.065850109171825, -18.131892991496304, -19.55155173553065, -10.877952777981788, -17.786591403076535]  nub  [7.1617964782684815, 10.611441548550314, 9.313809867655417, 11.073540302017104, 6.606523443737296, 11.843553937878838, 10.942867337272977, 7.127257852904344, 10.493597308443976, 8.979182249502452] adv labels  None\n",
            "img 44 Failed\n",
            "progress: 45/None, correct:  42/45, verified: 0/42, unsafe: 0/42,  time: 0.222; 0.215; 9.032\n",
            "concrete  [0.08120096484457329, -5.755836506939564, -4.523384640320174, 0.3766320117737586, -4.642403256546742, 4.961521578891462, -3.9243203824520174, -6.725435331504296, 1.2629468181621184, -2.070883576037127]\n",
            "nlb  [-12.518954468103598, -17.65029405367566, -12.562390832197991, -9.414781583894952, -17.076497834032757, -6.092372083332448, -18.356124839297024, -20.57694177062063, -10.151305741379874, -16.451950695538013]  nub  [9.502035250545656, 7.118549718541318, 6.519392378789774, 9.31005592468211, 5.413105403833804, 14.03659556666432, 10.222963895662053, 6.075827908132361, 10.987988633230323, 8.855754353890392] adv labels  None\n",
            "img 45 Failed\n",
            "progress: 46/None, correct:  43/46, verified: 0/43, unsafe: 0/43,  time: 0.215; 0.215; 9.247\n",
            "concrete  [-10.227282762303842, 5.5460232701699, -2.588615592693279, 2.9394821807587217, -1.8765595888730109, 0.19700955118728042, -4.428346950409597, -4.54347996040799, 0.9551611703411136, -2.6257154149044992]\n",
            "nlb  [-18.39634374381766, -10.340299887680805, -11.856875057739103, -6.294463436504662, -16.159691598421176, -9.279747834946994, -19.20167789217052, -18.29235819880093, -9.151263334794114, -17.402607890175773]  nub  [2.136890646275359, 15.367228038715497, 8.957625213409628, 11.238711817488927, 6.924664421301645, 10.89862364815821, 9.007438883511867, 7.309249436457209, 10.783743620286966, 9.044375081552928] adv labels  None\n",
            "img 46 Failed\n",
            "progress: 47/None, correct:  44/47, verified: 0/44, unsafe: 0/44,  time: 0.216; 0.215; 9.463\n",
            "concrete  [-1.510994242256387, 0.5161721449304646, 6.835728348406377, -0.0926786495835534, -3.9636066008561093, -2.3761891448264008, 4.734502759005896, -4.689690063846237, -1.3701632922947489, -8.872382720502832]\n",
            "nlb  [-11.927961437917874, -13.710428459768705, -6.332565567616598, -9.857426103578826, -17.755065172407473, -10.548971899023677, -11.123465606226738, -17.530348780235233, -10.536978730036553, -22.1434313406674]  nub  [7.933476706416007, 12.18590269709149, 15.144459854760933, 8.72803989050579, 7.2938365082416325, 9.287374068731552, 15.454922027771142, 5.433623899547068, 8.038993339825751, 3.767189116088236] adv labels  None\n",
            "img 47 Failed\n",
            "progress: 48/None, correct:  45/48, verified: 0/45, unsafe: 0/45,  time: 0.215; 0.215; 9.678\n",
            "concrete  [-11.720647510516937, -12.382346437311057, -9.98907974594456, -4.798747470555226, 9.075810754221925, 1.8335030953356677, -10.868450955766757, -6.193685521458116, 0.7408383682127091, 4.996256200858843]\n",
            "nlb  [-18.859632251875794, -21.666511073523008, -15.461425620932612, -11.40598488711444, -4.699695638643897, -7.2965690973292485, -22.16297659848869, -18.162423290424204, -7.295740016200384, -7.19791137039965]  nub  [-0.8133815455283964, -0.1427916490803433, -1.1694787836217373, 5.191470668649141, 14.104840002462531, 10.064297742733212, 1.808422340260751, 5.807990308299512, 9.370108919198765, 12.17026488926021] adv labels  None\n",
            "img 48 Failed\n",
            "progress: 49/None, correct:  46/49, verified: 0/46, unsafe: 0/46,  time: 0.211; 0.215; 9.889\n",
            "concrete  [-7.1890401560837685, -7.456461142073869, -2.3037965811015453, -3.942113385023046, 6.654851293046641, -4.617467671651521, -3.6471086615782435, -1.3437374987362023, -0.6497938381444046, 2.3784224818573625]\n",
            "nlb  [-16.47947568551524, -20.003671471007287, -11.612864927259011, -12.858228535159476, -8.835379367026235, -13.454541587266814, -18.585929855329017, -15.436252033330637, -11.445715640184655, -13.197881396264568]  nub  [5.389377900560475, 6.316690004351119, 8.280793935178904, 6.10735457614981, 14.276193099248356, 6.768764700902952, 11.13574785512655, 11.42890076937699, 9.35337802965425, 12.38667600062902] adv labels  None\n",
            "img 49 Failed\n",
            "progress: 50/None, correct:  47/50, verified: 0/47, unsafe: 0/47,  time: 0.224; 0.215; 10.113\n",
            "concrete  [1.3211942580085947, -4.602155519752167, 0.27461005713214426, -3.0191704672846074, -3.4704079452969, 1.728149359220295, 6.348818921327319, -9.414384876695902, -2.2491997961203163, -7.157258902352821]\n",
            "nlb  [-9.658576518973735, -17.044586900130636, -9.447976153585122, -11.199529551515647, -16.620517875873823, -7.786429017053328, -11.101733672422474, -21.286395692031785, -11.742556508035882, -18.757647477773613]  nub  [10.354644568449732, 6.983200406420029, 9.8482696385873, 7.336406037798732, 6.591245600741312, 12.036559653391077, 16.138165575214348, 3.9094706883747774, 8.343162226102843, 4.357690053839101] adv labels  None\n",
            "img 50 Failed\n",
            "progress: 51/None, correct:  48/51, verified: 0/48, unsafe: 0/48,  time: 0.216; 0.215; 10.329\n",
            "concrete  [-4.358272196998977, -5.296630980982401, -2.9392574917389815, 7.098354581627908, -5.6556479722696364, -0.0006469153447310472, -8.734321335365065, -3.6534421817920064, -2.3875926148390714, -2.894088328255976]\n",
            "nlb  [-14.739174737336421, -16.826799330002814, -11.680961182079647, -3.9345153550468117, -18.977972328276238, -9.111667569468318, -21.595803238613875, -19.0465038772721, -11.720769027619962, -18.28860306148407]  nub  [5.530384200282879, 7.812112190618322, 8.040551166323993, 13.881739492092517, 4.337794927761005, 11.34864051115692, 6.073685578800824, 7.419153203012536, 8.587562499553261, 8.099530362785798] adv labels  None\n",
            "img 51 Failed\n",
            "progress: 52/None, correct:  49/52, verified: 0/49, unsafe: 0/49,  time: 0.215; 0.215; 10.544\n",
            "concrete  [-1.5661648328826479, -5.470069474782673, -5.4767129358184485, -4.53654089265395, -0.5741937156223016, 4.0685623757653975, -3.6004901868620065, -3.5300948145644813, -2.67969730839439, -3.2557852347183998]\n",
            "nlb  [-13.365970174349103, -18.256866758214, -13.540725796833291, -13.00846253583787, -15.03349451687832, -6.720500612200439, -19.14078918034505, -19.217408487736417, -12.920312250790916, -17.289217462634124]  nub  [9.329419978387877, 7.138882792327991, 6.289970409294869, 6.469282933488372, 8.46438961612773, 13.686152722008348, 11.567487925586907, 9.106303339067578, 8.85037063162242, 8.048211344724647] adv labels  None\n",
            "img 52 Failed\n",
            "progress: 53/None, correct:  50/53, verified: 0/50, unsafe: 0/50,  time: 0.212; 0.215; 10.756\n",
            "concrete  [-2.0120216990824398, -1.107201788269899, -3.8269341305352462, -0.1812897056873743, -1.1911510994866594, 3.707677079955239, -2.5118569333174317, -3.8646657856315243, -0.010764847141214229, -2.3999096131343594]\n",
            "nlb  [-14.349607326359706, -16.29779208808092, -12.358162081359753, -10.5539499537008, -15.673399043264965, -8.144517313715104, -17.63152073446177, -18.40829921296577, -11.662835264642998, -16.508834935104744]  nub  [8.868737203478343, 11.482824154213404, 7.363880886142381, 9.4800231089698, 9.172870417851632, 13.075193079659876, 10.653394325928582, 9.313873554683408, 10.590986784443373, 9.036784709140871] adv labels  None\n",
            "img 53 Failed\n",
            "progress: 54/None, correct:  51/54, verified: 0/51, unsafe: 0/51,  time: 0.214; 0.215; 10.970\n",
            "concrete  [-1.9841113983627254, -3.5793310805559133, 5.141021155624873, -5.973938574054329, -0.20985398552231205, -2.4060084975196294, 8.666756005236035, -10.271002900439333, 1.8070587087281473, -8.742449944442207]\n",
            "nlb  [-11.497693533080513, -15.802349786662031, -6.253230099613642, -12.683948282730439, -13.731757457840752, -11.1162339421539, -7.51127599305068, -20.346881249168433, -7.099742712849116, -20.361614766318116]  nub  [7.541828457390633, 7.209123943373321, 14.016726848453747, 4.52795446176991, 8.39470353823914, 7.077972433433117, 18.08249308698881, 1.4816007343438051, 10.644027011627815, 4.227623026488297] adv labels  None\n",
            "img 54 Failed\n",
            "progress: 55/None, correct:  52/55, verified: 0/52, unsafe: 0/52,  time: 0.224; 0.215; 11.194\n",
            "concrete  [6.278347509404722, -12.478465265705942, -3.4164978927024356, -3.6690590240757324, -7.576323998957192, 3.1940362498106634, -2.3329802617638102, -5.3909871313013555, 0.15757479323225032, -3.027619467439258]\n",
            "nlb  [-6.005138195571933, -21.581256244454806, -11.142820993514366, -11.475992741241969, -19.175055717102794, -5.371946281632402, -16.46972181427515, -19.21890488322484, -9.760607928792927, -17.06494761854145]  nub  [13.556039521581049, 0.4559948471372688, 7.33285387684669, 5.812117697908813, 1.6865844576925733, 12.275911709272135, 10.460912407324745, 5.420499151852732, 9.943259510207293, 7.1408035223338135] adv labels  None\n",
            "img 55 Failed\n",
            "progress: 56/None, correct:  53/56, verified: 0/53, unsafe: 0/53,  time: 0.211; 0.215; 11.405\n",
            "concrete  [-6.493536172106786, -11.639528921913698, -4.456749347404342, -5.008920694273235, 9.038752497795631, -0.8208578314873898, -4.679628606366764, -4.2302688115954545, -0.8399828714872307, 2.1845220191420167]\n",
            "nlb  [-16.323586546902746, -22.06862670722131, -12.677567987285446, -12.990532652994453, -7.88714639558124, -10.65680446737819, -19.01392619011117, -17.762142086292542, -10.78753072133777, -13.208397329028042]  nub  [5.450730033988502, 3.5169624806873077, 6.239346798207689, 6.07799486740589, 15.249616521204716, 9.532492159652913, 9.741991646361802, 8.978824573840235, 9.242908755114623, 11.43559648560752] adv labels  None\n",
            "img 56 Failed\n",
            "progress: 57/None, correct:  54/57, verified: 0/54, unsafe: 0/54,  time: 0.212; 0.215; 11.617\n",
            "concrete  [-5.55738393893472, 5.625522588411675, -1.1043209953977813, -0.19578522574866059, -4.682985639886617, -1.9108179427807466, -3.8572551364362746, 1.1443733479443583, -0.2732344661024601, -3.160675243065171]\n",
            "nlb  [-14.966095842496495, -11.348855954559609, -10.779573096646928, -9.596448731102612, -16.453947789242488, -10.816014674334204, -17.766057848245232, -13.945844228545548, -9.785601383539081, -17.312191827313058]  nub  [5.764492901588655, 14.407996845871029, 9.755521060481723, 8.64216638137445, 5.320228096219974, 8.685189238590624, 10.15362234256314, 10.300439341114489, 9.189914098294578, 8.626370362547506] adv labels  None\n",
            "img 57 Failed\n",
            "progress: 58/None, correct:  55/58, verified: 0/55, unsafe: 0/55,  time: 0.214; 0.215; 11.831\n",
            "concrete  [-7.041120901883105, -9.626321357664695, -7.320167334921943, -3.825562693374949, 1.8816232916160758, -2.3172360384788715, -10.158240759961064, 0.13979816083542107, 0.03762482336491341, 7.446327523670817]\n",
            "nlb  [-16.444944216960003, -21.28974882172625, -14.684787965041197, -12.487046510728756, -12.404666898514746, -11.197329680980973, -23.077636094481715, -15.155286895721654, -10.690391800136624, -9.209437566046795]  nub  [5.292154669503824, 4.138680187455799, 4.008354643135208, 6.827642250189665, 10.430533192549, 8.439490589643794, 5.510689957387458, 12.489263944119585, 10.208904653366417, 15.56423437707047] adv labels  None\n",
            "img 58 Failed\n",
            "progress: 59/None, correct:  56/59, verified: 0/56, unsafe: 0/56,  time: 0.221; 0.215; 12.052\n",
            "concrete  [-0.739734823386391, -2.7394806476460136, -3.1731212162110114, -3.6927233762939617, -1.05319116044175, 3.0399836439227084, -2.9727314951891928, -0.8838520213220421, -0.651975310995561, -1.9519466680027766]\n",
            "nlb  [-13.04436874386506, -17.960859949179024, -12.30899000874817, -13.528308036593295, -16.110284047060105, -9.273633180447261, -18.24221010157918, -16.77626422830646, -12.620459069130698, -17.460180158586958]  nub  [10.065926125606403, 11.0170240058951, 9.028420929345748, 6.938188175462735, 9.412881585743278, 12.78701159235889, 11.400256151315569, 11.975673329718166, 9.981624251051906, 9.238638110584882] adv labels  None\n",
            "img 59 Failed\n",
            "progress: 60/None, correct:  57/60, verified: 0/57, unsafe: 0/57,  time: 0.215; 0.215; 12.267\n",
            "concrete  [-6.699847733963764, -0.26196314093097905, -2.5659482484510945, 0.17566447411917624, -3.961215781966081, -2.134093421888177, -12.48456815363532, 6.530099554148956, -3.1900768043560594, 0.06139186946011943]\n",
            "nlb  [-14.178119336352438, -11.823878582880159, -9.661335594800308, -6.1598619032625175, -15.098417669068413, -9.480355035760477, -21.85209058155204, -7.557302082333961, -11.850820196800905, -13.000085094997761]  nub  [2.5697841041976397, 8.955690972892763, 6.339423580904214, 8.029602194679253, 3.6965249088863197, 7.622184899686345, -1.4265959280211946, 14.649050381881018, 4.779583047431732, 8.219145815736239] adv labels  None\n",
            "img 60 Failed\n",
            "progress: 61/None, correct:  58/61, verified: 0/58, unsafe: 0/58,  time: 0.217; 0.215; 12.484\n",
            "concrete  [-0.2614461013970093, -10.587688901079998, -0.2974097701225795, -5.466438099465082, -4.603705968133083, 0.549539027614808, -1.9002731115909535, -7.7306033621370975, 6.252964481227768, 0.2693822035200011]\n",
            "nlb  [-11.123151303900999, -20.936274021778992, -9.73888491020937, -12.968561333653268, -16.79796190615635, -7.652934766481003, -17.06515977089303, -18.893557410752287, -3.635221687880289, -15.967068924509348]  nub  [8.895486875526295, 2.6023712081260832, 10.64967716408149, 4.707360024038809, 4.45492805197434, 10.54109401073339, 10.910311756854457, 3.0370225436862173, 12.761744060087057, 10.415239679357747] adv labels  None\n",
            "img 61 Failed\n",
            "progress: 62/None, correct:  59/62, verified: 0/59, unsafe: 0/59,  time: 0.214; 0.215; 12.697\n",
            "concrete  [-4.830816986063681, -5.608646606849983, -3.1136904843396547, -2.441367267325385, 2.1501683866840517, 0.2548739239919239, -5.913020559292538, -1.0274823149121683, 0.421209900512704, 3.0851021994825736]\n",
            "nlb  [-16.012970211538263, -19.026652557497695, -12.191252305078534, -12.332311011386368, -14.223909332381197, -10.49970233393487, -20.462904053388492, -16.411587419965553, -11.252046851675537, -15.660300113793932]  nub  [7.793784964076737, 9.835504952686799, 9.54547004787141, 7.9384964171409305, 11.334976202537916, 10.993316974105594, 10.561271413887106, 11.526966534552368, 10.366550118029739, 12.425981693407959] adv labels  None\n",
            "img 62 Failed\n",
            "progress: 63/None, correct:  60/63, verified: 0/60, unsafe: 0/60,  time: 0.212; 0.215; 12.909\n",
            "concrete  [-2.8138755516984824, -3.070705513639658, 2.830211086511005, 3.943113912321829, -5.031942635379564, -0.4758715657777959, -2.634041464106483, -5.562598866613749, 0.6306197465456072, -4.3775514049087185]\n",
            "nlb  [-13.673173657855768, -16.196345589086917, -8.877562848442764, -6.433957398636888, -18.027336146962963, -9.174732509655714, -17.643642414961416, -18.04237034437518, -8.650433523479458, -18.858251949409656]  nub  [6.639441658775651, 8.845241031909264, 12.494789175665844, 11.346021017300748, 5.464128063803186, 9.821064025535861, 9.788095254032346, 5.448557499896032, 9.7209661791312, 8.397429790291639] adv labels  None\n",
            "img 63 Failed\n",
            "progress: 64/None, correct:  61/64, verified: 0/61, unsafe: 0/61,  time: 0.221; 0.215; 13.130\n",
            "concrete  [-8.487391041854906, -5.276143977114128, -1.2617317122529723, 1.2434132268776972, -2.7471714051174745, -4.069844510722271, -16.243866126395734, 6.710532761203116, -1.9228793865769471, 0.8773095544575695]\n",
            "nlb  [-17.59847867554123, -18.123512718025278, -10.403477624333707, -7.9749952409022695, -15.138971112170532, -12.331130210532976, -27.187989660256168, -9.34359748565082, -11.65093362883526, -15.061375715649467]  nub  [3.030385216012839, 6.381811902734143, 10.03698757606619, 9.379485883264373, 6.988125797796675, 6.204056468310253, -0.11292974579528461, 15.515559377826724, 7.740049611642267, 11.94419944075954] adv labels  None\n",
            "img 64 Failed\n",
            "progress: 65/None, correct:  62/65, verified: 0/62, unsafe: 0/62,  time: 0.214; 0.215; 13.344\n",
            "concrete  [-6.4518697265294245, -2.598949588587886, -3.182386416957832, -1.3195170084854497, 3.650103091299421, 0.900878213213079, -2.8644389746751604, -3.6662735707680647, -1.0989974450001407, 0.20237589782034343]\n",
            "nlb  [-16.195753965231017, -16.832943767135315, -12.20402496276266, -10.654664966158522, -12.462811235073264, -9.832946792392164, -18.54409577370985, -17.746370748416826, -11.815027099282247, -15.358035571356877]  nub  [6.823359208204524, 10.2453073221125, 7.874813094511101, 8.671179560246003, 11.60538756458035, 11.164599190534808, 11.831054828470382, 9.832310432113244, 9.831815767687509, 10.78336603131686] adv labels  None\n",
            "img 65 Failed\n",
            "progress: 66/None, correct:  63/66, verified: 0/63, unsafe: 0/63,  time: 0.212; 0.215; 13.555\n",
            "concrete  [-3.196189658360121, -0.20486854014084066, -0.24963242914978695, -0.8485188054104766, -0.6862335755903696, -2.7034554810888687, 1.8507341615913806, -3.6925049028835293, -0.7051426438708678, -4.491349173628909]\n",
            "nlb  [-15.47314548202621, -16.553068066016657, -11.605126816619034, -11.675625380645089, -16.3540956409977, -12.458306132561793, -17.148572960719253, -18.155500963586853, -12.78165585579814, -20.09652369496199]  nub  [8.44950921716048, 13.153443095703151, 11.42139456067492, 9.265668457322848, 10.082581028790726, 9.707884710932193, 14.774972521495451, 10.713779377682114, 10.27941503043932, 9.022451034468723] adv labels  None\n",
            "img 66 Failed\n",
            "progress: 67/None, correct:  64/67, verified: 0/64, unsafe: 0/64,  time: 0.213; 0.215; 13.769\n",
            "concrete  [-5.5616253463489285, -9.201560154965236, -3.542737163326088, -5.663645518085653, 7.108662873029421, -2.4384830293121014, -3.5767735809975436, -2.0087385052326483, -0.6019386177989775, 2.5026090405949]\n",
            "nlb  [-15.748575109169359, -20.830437692745125, -12.44881404898576, -14.489083108739221, -8.547414905038014, -12.516776137910094, -18.30729925231486, -16.010172032394806, -11.39627346871044, -13.2249123240694]  nub  [6.488699488867843, 5.393862003359626, 7.475960019350077, 4.654084084585175, 14.728947985338811, 7.89634215984936, 11.761557489158381, 11.373956804365632, 9.270105395139554, 12.191795607163279] adv labels  None\n",
            "img 67 Failed\n",
            "progress: 68/None, correct:  65/68, verified: 0/65, unsafe: 0/65,  time: 0.212; 0.215; 13.981\n",
            "concrete  [-7.648965118535564, -8.147331920014883, -6.76358261902399, 6.861377631394299, -5.816802654428007, 1.6565696938086933, -13.155025986283915, -6.918009523711704, 1.609305164932859, -0.5712865664923701]\n",
            "nlb  [-16.157396137323502, -18.595952974130327, -13.365195184976196, -2.9628592335240156, -18.021172718551927, -7.350643671851826, -24.48391307600852, -21.103151201867686, -8.316243522794654, -15.857697540992865]  nub  [2.8256308520144104, 4.575470598555907, 4.88215891643407, 14.175866347101216, 2.6878536213211426, 11.678264154636445, 2.4725237456132687, 4.393080917880853, 10.744191288740774, 9.197339155971147] adv labels  None\n",
            "img 68 Failed\n",
            "progress: 69/None, correct:  66/69, verified: 0/66, unsafe: 0/66,  time: 0.223; 0.215; 14.204\n",
            "concrete  [8.36830929011565, -8.488760683572615, 0.8313963464814491, -4.41835893427251, -12.14900897649469, 4.419144435136994, 0.09782840412598848, -6.0194110728538845, -2.0426823090922785, -9.133700116091765]\n",
            "nlb  [-3.1675718587495085, -18.438096868659105, -7.554519616168029, -11.85064400195984, -22.1849989137037, -3.7541115713267095, -13.634330805243112, -18.59116631164047, -11.057401583758312, -19.656150506908226]  nub  [14.805165792349293, 2.478792991960557, 9.222213295672196, 4.138105866407433, -2.273471278142746, 12.963150652376806, 11.02936995139187, 4.911921020142163, 7.735336797938903, 1.418270372072529] adv labels  None\n",
            "img 69 Failed\n",
            "progress: 70/None, correct:  67/70, verified: 0/67, unsafe: 0/67,  time: 0.210; 0.215; 14.414\n",
            "concrete  [-2.0977676380287344, -4.550199819368002, -0.34993790402861413, -1.373609907371798, -4.852711777837055, -4.514437410740539, -10.31328118614547, 7.778852261012487, -5.477223804088318, -2.572442539702626]\n",
            "nlb  [-11.78648487051462, -15.539432978547442, -8.84858511242118, -7.850870611824611, -16.469980878622895, -11.497582801466672, -21.637216126659297, -6.612601797705634, -14.238428682630524, -15.949372387408179]  nub  [7.460203976680493, 5.676297043556561, 8.94800155244573, 7.083821981258884, 3.4907104027844658, 5.1668223247861915, 2.036981262489961, 16.103836810095434, 3.972489789660764, 7.420097084434826] adv labels  None\n",
            "img 70 Failed\n",
            "progress: 71/None, correct:  68/71, verified: 0/68, unsafe: 0/68,  time: 0.212; 0.215; 14.626\n",
            "concrete  [10.671504813797695, -14.532109902491092, -0.29693275869145674, -5.529335263233028, -12.741525729320001, 3.2532648521227525, -0.29579390271899175, -6.865351233161076, -1.0685594427868645, -8.37104122360085]\n",
            "nlb  [-1.1922435546752816, -23.39431167919968, -8.481598169484467, -12.257382278940643, -22.850166836553516, -4.809693005078276, -13.763769644012369, -19.423183485546254, -9.833272580098305, -19.69527774202627]  nub  [16.312207473263342, -3.265677832894046, 8.500348019783521, 4.189391060290014, -2.831031362916998, 11.533026553560997, 10.616465561185178, 2.9634329743198395, 8.432545994487484, 2.0580207560410266] adv labels  None\n",
            "img 71 Failed\n",
            "progress: 72/None, correct:  69/72, verified: 0/69, unsafe: 0/69,  time: 0.210; 0.215; 14.836\n",
            "concrete  [0.9587006007780405, -6.5883311675251015, 6.3183309101293474, 3.205106974549697, -11.151385336241015, -0.42084621567068403, -1.629613778903431, -7.450850703842967, -0.9930113373062226, -10.649643044020003]\n",
            "nlb  [-7.4267114126469105, -17.033291639696202, -4.391198534073764, -5.228823848643288, -21.97524270401601, -7.435049494454399, -12.368926591424326, -18.325951376238294, -9.271802139920561, -22.706942387892795]  nub  [9.126132794068262, 4.430016176810145, 14.48734027283081, 10.964109133465534, -0.9332183307316628, 9.261324753924121, 8.292516225016946, 1.5511249457261624, 7.466287123643945, 0.3345136426012754] adv labels  None\n",
            "img 72 Failed\n",
            "progress: 73/None, correct:  70/73, verified: 0/70, unsafe: 0/70,  time: 0.212; 0.215; 15.048\n",
            "concrete  [-8.770439258437772, -1.6393917175996733, -5.162292214904692, 1.5988992974005223, -5.888967246746158, -1.7591147374622023, -14.865470360033443, 2.093958719260031, 2.937175414407605, 4.787432600165187]\n",
            "nlb  [-17.7906489848487, -14.588324608026058, -13.632435058205356, -8.00168969575488, -17.671405102840147, -10.275121321555808, -25.547236215372514, -13.319337338394574, -6.993725773322125, -11.468368119506785]  nub  [2.0028720049068576, 10.712252950837891, 5.491628248823593, 10.016709266348926, 4.109548156852337, 8.447691633650102, 0.9260643750361093, 11.952527977078836, 11.399089019376499, 13.951521049868266] adv labels  None\n",
            "img 73 Failed\n",
            "progress: 74/None, correct:  71/74, verified: 0/71, unsafe: 0/71,  time: 0.228; 0.215; 15.276\n",
            "concrete  [-7.351621541342284, 6.884705683474653, -3.3540870098809976, -0.2893938564950277, -5.073101824257568, -0.9961351358336643, -2.9058604816195626, -2.302351483686289, 1.2679597202267703, -3.0967667972547877]\n",
            "nlb  [-15.85739448719559, -9.510862542992777, -11.96531194014922, -9.268603012258444, -17.34320852409509, -9.532346912068764, -17.363604867726547, -16.122743970958574, -8.501706344666884, -17.10385110411864]  nub  [4.48050713375523, 15.564296597322352, 7.9288150277867215, 8.337795267306667, 4.174366232622016, 9.598319461996697, 10.3506135953049, 8.168676280326864, 10.321283367831311, 8.220785813505813] adv labels  None\n",
            "img 74 Failed\n",
            "progress: 75/None, correct:  72/75, verified: 0/72, unsafe: 0/72,  time: 0.214; 0.215; 15.491\n",
            "concrete  [-10.938819926189957, -0.265028511671334, -2.1345043075702255, -0.6345509334918443, -0.8183835125956356, -5.427930664109713, -13.108882917650508, 7.503847305138023, -2.624075891967395, 0.9138917057530757]\n",
            "nlb  [-18.588510950799737, -14.058095265138334, -11.514547483597505, -10.24718426197228, -14.26078466185316, -12.636474343485233, -24.103047087195872, -11.00449926195087, -10.964476631947678, -14.680188209204214]  nub  [1.2110830185583716, 12.07012624446884, 8.602040019713735, 7.54295026854174, 7.998408052440098, 6.789039513929239, 3.9499489376114343, 15.6560395566291, 9.102228100984977, 11.253567006175373] adv labels  None\n",
            "img 75 Failed\n",
            "progress: 76/None, correct:  73/76, verified: 0/73, unsafe: 0/73,  time: 0.213; 0.215; 15.704\n",
            "concrete  [-3.31010217183857, -0.16965288488628483, -3.1628677544301413, 5.3575172051655064, -7.2378765134143315, 2.700283904820756, -4.774249498790554, -6.618545605229899, 1.5964983323955972, -2.2866920358472016]\n",
            "nlb  [-14.559341002471257, -14.595549998433235, -11.770605849947627, -6.401020513705815, -19.371895298810472, -7.754736552277924, -18.8896393387447, -19.913878581519974, -9.875490993288198, -17.893072917004254]  nub  [6.995276517196758, 11.638480906304636, 8.25173837651306, 12.414589421882235, 3.9282996749071226, 12.997352345834372, 8.55739872599303, 6.070529361827017, 11.10202530237429, 8.27963949475551] adv labels  None\n",
            "img 76 Failed\n",
            "progress: 77/None, correct:  74/77, verified: 0/74, unsafe: 0/74,  time: 0.210; 0.215; 15.915\n",
            "concrete  [-1.3568218809814003, -0.38544368855978095, 3.819490725040711, -2.092583735558493, -5.114579992566223, -0.9094226581068701, -3.1211833530977113, 1.4423556659669563, -2.056039941536305, -5.447374468415143]\n",
            "nlb  [-13.719977218672046, -14.860889350846834, -8.54980579881692, -11.566739494078723, -18.112483854101605, -10.693222588116805, -18.567816217274203, -15.039144079981584, -12.337600142418351, -20.694034202410805]  nub  [8.881924255364902, 12.134895210507034, 13.462029619088728, 6.851994269102569, 6.742077595910302, 10.163140257301968, 11.702059415961127, 12.573846434288118, 9.05588535114226, 7.81769477920608] adv labels  None\n",
            "img 77 Failed\n",
            "progress: 78/None, correct:  75/78, verified: 0/75, unsafe: 0/75,  time: 0.251; 0.216; 16.166\n",
            "concrete  [-8.734725686488298, -1.6471130912823468, -6.562100116891976, -0.2584794035732652, -0.5096406882597342, -0.37876971405572113, -8.330311773676662, -2.073393450675224, 1.7111832280588946, 3.6639840904817906]\n",
            "nlb  [-17.339395474835552, -15.400954427435906, -13.739795605550027, -9.518360771010167, -15.038446522307652, -10.01049009280883, -21.466789748862166, -16.513941765458313, -9.067078764366483, -12.99605013549877]  nub  [3.9902919410043083, 11.105628437845242, 5.124440898903567, 9.50669433174658, 8.355572245537246, 10.52166038307122, 6.388643989963108, 10.359186653134524, 11.296397773902287, 12.837548721771183] adv labels  None\n",
            "img 78 Failed\n",
            "progress: 79/None, correct:  76/79, verified: 0/76, unsafe: 0/76,  time: 0.214; 0.216; 16.380\n",
            "concrete  [-8.054475953301814, -4.775407523288308, -5.64886304375099, -1.9667583729568694, -7.210935775658316, -3.955863062308981, -19.365677830603083, 9.935786933634294, -2.092419866187918, 3.395490775070094]\n",
            "nlb  [-15.73200548380055, -15.789464535590259, -12.440599260143461, -9.44424828489582, -17.47619040446385, -10.654091505277432, -28.128055094941804, -5.672535408912384, -9.708593992876379, -9.433052418529122]  nub  [0.5972819231515798, 6.092550567364381, 3.2100420868435044, 5.646377587868124, 1.9717273879238686, 5.8070121839832805, -6.106737523276206, 17.579307935848462, 7.097644872941979, 11.785308217783324] adv labels  None\n",
            "img 79 Failed\n",
            "progress: 80/None, correct:  77/80, verified: 0/77, unsafe: 0/77,  time: 0.214; 0.216; 16.594\n",
            "concrete  [-5.793225830362438, -4.355868368644595, -4.849490787473344, -0.8019739871897813, -1.6256641088496449, 0.2077236482305499, -12.376200204011653, 4.904757479323867, -3.4047132079116276, 2.9119896122082074]\n",
            "nlb  [-14.932734669646116, -16.192097757093766, -12.378833145873365, -9.875447368936152, -14.460985711111935, -8.153134535155049, -23.171511681469916, -12.494508854482401, -12.31860852825207, -11.711217974405878]  nub  [5.1559600580366425, 7.192339135485944, 5.431652366203799, 7.596276646087919, 7.6168174485644, 10.244695766213654, 3.617011781570025, 13.822058143386084, 7.7653014023913105, 11.579452844521578] adv labels  None\n",
            "img 80 Failed\n",
            "progress: 81/None, correct:  78/81, verified: 0/78, unsafe: 0/78,  time: 0.212; 0.215; 16.805\n",
            "concrete  [0.8421760465563037, -6.323780307089677, 0.5932429471896151, -5.106675916472088, -0.944984179406114, 1.838802454099563, 6.130486543759248, -9.516138520568461, -1.168290923542671, -5.153590277168902]\n",
            "nlb  [-11.511442641647863, -18.492549715919733, -9.611054558278802, -12.977540402411375, -16.170199749727693, -8.461180023871332, -13.046410710457431, -21.336488390704442, -11.844808734858182, -19.230448700922647]  nub  [10.275111733833628, 7.0638384229253255, 11.010286765826157, 6.035826306749982, 8.825667699539238, 11.985502543803625, 16.62156406489058, 5.36858383231343, 9.277524850531902, 6.392996294728623] adv labels  None\n",
            "img 81 Failed\n",
            "progress: 82/None, correct:  79/82, verified: 0/79, unsafe: 0/79,  time: 0.211; 0.215; 17.016\n",
            "concrete  [-0.624673215249198, -5.377489743867633, 10.899248024484084, 0.7623301896604199, -8.858922501590381, -2.6635600143730622, 0.7934958528737881, -6.710206713128316, 0.8771955241551377, -12.884294407937897]\n",
            "nlb  [-9.272310900286884, -15.681728850452812, -1.2606149142665526, -7.107932946423445, -19.501173646267674, -9.112120638233321, -12.36955649763468, -17.05930151453721, -5.911756870035935, -23.408118877990145]  nub  [6.484095828746963, 4.948710293643978, 17.759654463723532, 8.464486038952725, 0.46513598649488896, 6.669548386564626, 10.897869079440872, 1.2543001515260939, 8.389972092120155, 0.300386973970513] adv labels  None\n",
            "img 82 Failed\n",
            "progress: 83/None, correct:  80/83, verified: 0/80, unsafe: 0/80,  time: 0.218; 0.215; 17.235\n",
            "concrete  [-5.153575740214486, -4.333293950517989, -3.5528946916225426, -1.2536250927033006, -1.645094402214729, -0.5483862286481896, -12.44431105215932, 6.432201957360719, -3.468983068361839, 1.9504538864340022]\n",
            "nlb  [-13.966635979471713, -16.885690336156486, -11.175894149871185, -9.920452239348146, -15.06584360745781, -9.287248699130336, -22.396721786191268, -10.437150809207965, -12.35668350249931, -12.442443975088942]  nub  [5.472697177080792, 7.68787904754554, 6.38746148072715, 7.262700207133632, 7.341361505043953, 9.255351839686565, 2.1999953802312557, 14.861165791597353, 6.888056217074383, 10.737498230517803] adv labels  None\n",
            "img 83 Failed\n",
            "progress: 84/None, correct:  81/84, verified: 0/81, unsafe: 0/81,  time: 0.212; 0.215; 17.447\n",
            "concrete  [-5.4857849085209, -3.6743043230365173, -3.986737885532439, -4.862342698033533, -1.2348399481213017, 2.6462515050256177, -3.258585979796821, -7.221381015027464, 4.657891405446792, -2.729008741939361]\n",
            "nlb  [-15.50331940697925, -15.643166521483257, -12.168153586333167, -12.59214582371857, -14.815333578310192, -6.97196438444793, -17.797158693010363, -19.80724802067817, -5.209832467591872, -17.049176857876645]  nub  [5.5199337184801855, 8.284115650932229, 6.839823772667141, 5.131483843175442, 7.454874412479858, 12.517352290612079, 9.910747542539523, 4.694780373758532, 12.386968526384827, 8.40911807389956] adv labels  None\n",
            "img 84 Failed\n",
            "progress: 85/None, correct:  82/85, verified: 0/82, unsafe: 0/82,  time: 0.210; 0.215; 17.657\n",
            "concrete  [-11.64360659357682, -11.008445036713992, -9.233328871652063, -5.947314173326168, 11.476221162662853, 0.23507410958157204, -7.419961572661934, -5.949102109052316, -0.6783398335164259, 3.390498343575195]\n",
            "nlb  [-19.009098787868496, -20.7468072003204, -15.485693822124126, -12.57517993688999, -3.0038150950549145, -8.82930418496893, -20.05968434538985, -18.56556905236297, -9.0268071711224, -9.258727374603476]  nub  [0.2124309732387895, 1.2850662868570275, 0.271426425261062, 4.5220067135873965, 15.96301582386084, 9.407564222098005, 6.090875492493961, 6.0476832952558714, 8.737303317909562, 11.144591726005883] adv labels  None\n",
            "img 85 Failed\n",
            "progress: 86/None, correct:  83/86, verified: 0/83, unsafe: 0/83,  time: 0.211; 0.215; 17.868\n",
            "concrete  [-8.51909761657168, -0.14119195235918514, -0.4826230889640567, -1.7667097552032827, -6.136115707379661, -3.6668956058900157, -15.69017683968608, 8.699749084067403, -2.705262205867106, -1.4276168100597335]\n",
            "nlb  [-16.745056829581912, -13.374225032703581, -9.198974870462033, -10.018324628634335, -17.125399836712745, -11.573332327496459, -25.175367171565206, -7.655531968339728, -10.796688745878846, -15.022301756201728]  nub  [1.6623217462039135, 10.609662444461748, 8.642230418658762, 6.513023344483186, 3.317832317383856, 6.4418636459759675, -0.8683090133105977, 16.470312816059163, 7.276455328113477, 8.909185891945585] adv labels  None\n",
            "img 86 Failed\n",
            "progress: 87/None, correct:  84/87, verified: 0/84, unsafe: 0/84,  time: 0.212; 0.215; 18.080\n",
            "concrete  [-3.342186981763897, -3.33125283481702, -6.093452582868995, 1.817084066291411, -2.6491646197328085, 1.6662198621957995, -6.390796531137807, -1.3927858561796311, -5.759065669629959, -5.047185860279318]\n",
            "nlb  [-12.957348199020375, -15.504269324842456, -13.09608485454241, -7.327819474535348, -13.894457854207747, -6.713074480350137, -18.972951323915993, -17.40333609108848, -13.244091255589934, -15.655995667085428]  nub  [6.526856280470663, 6.830727948285548, 3.6758785089566133, 10.322446280238912, 5.69983224925384, 11.174000025788487, 8.450240114433136, 8.26701749439604, 6.328208824505786, 5.688988040394386] adv labels  None\n",
            "img 87 Failed\n",
            "progress: 88/None, correct:  85/88, verified: 0/85, unsafe: 0/85,  time: 0.218; 0.215; 18.299\n",
            "concrete  [-2.308850690639882, -3.1282895702268, 2.480228702964337, -6.179432945809237, 3.4082288246492505, -2.3343977588076035, 10.763271835074207, -9.53921580198812, -1.7124919307382673, -7.270103808857713]\n",
            "nlb  [-12.727012340044762, -16.71696018487528, -8.625466308110148, -13.357444880405689, -13.007898041947568, -11.616843850848765, -8.506076032867734, -21.16792028151469, -11.196189568902936, -19.797219948963786]  nub  [8.352153966393114, 9.593263461396567, 12.063242077708523, 5.693017821477428, 12.003334659284084, 9.324987722332168, 19.836746834695845, 4.2612457635970395, 8.568628403432074, 5.233171455603097] adv labels  None\n",
            "img 88 Failed\n",
            "progress: 89/None, correct:  86/89, verified: 0/86, unsafe: 0/86,  time: 0.219; 0.215; 18.518\n",
            "concrete  [-7.884162942302883, 8.309446822709237, -0.17394952449608883, -1.1762550131695637, -3.6691841653488764, -2.5902771215323535, -0.6025476910476552, -1.5264656179650322, -0.0350032505751014, -7.166619586010877]\n",
            "nlb  [-15.980385767164044, -8.736824353166956, -9.838766782363939, -9.348485929778207, -15.90370714309163, -10.759890309668943, -16.15647168282403, -14.426802509211909, -8.540538531899145, -19.1905715980371]  nub  [3.5493091305573743, 15.544437847563959, 10.296968549534304, 7.53956664957281, 4.774029810731172, 7.583926748166494, 11.474589940195177, 7.950568135829055, 9.069062581950739, 5.450076469071068] adv labels  None\n",
            "img 89 Failed\n",
            "progress: 90/None, correct:  87/90, verified: 0/87, unsafe: 0/87,  time: 0.215; 0.215; 18.733\n",
            "concrete  [-3.596178166564304, -3.3971594105916876, -4.002136340584632, 6.526362634113831, -8.626634548357623, 2.1543528509007746, -9.7260080725206, -5.142697978614153, 0.9992344681305343, -0.36506057442159723]\n",
            "nlb  [-13.57617280886085, -15.654888543094204, -11.680460703342176, -4.12829893693455, -20.62047919613626, -6.828412222175923, -21.5510857885189, -18.219263824264328, -9.12254195806905, -16.25811778406137]  nub  [6.3460059428486835, 8.768028590519164, 7.057420258212666, 13.304780651016838, 1.3099971308715705, 12.265910217919728, 3.3676882616156947, 6.294839456592262, 10.131047864165668, 8.815871100432362] adv labels  None\n",
            "img 90 Failed\n",
            "progress: 91/None, correct:  88/91, verified: 0/88, unsafe: 0/88,  time: 0.211; 0.215; 18.944\n",
            "concrete  [-3.4055205906500574, 0.5343922020242715, 1.1569294314087761, -4.376357383471366, -0.17725263732600438, -0.7579725485085613, 9.146605207921825, -10.55891653926611, -0.1431868193851436, -7.401093908914357]\n",
            "nlb  [-13.305796749904836, -13.174724798415573, -9.288791903673962, -11.861905428733595, -14.254294220484123, -9.428169329425119, -9.022788209138428, -20.799306969683236, -9.02061874434318, -19.592265834574594]  nub  [6.730081052735713, 11.372621568233374, 11.051736771272559, 6.174828540691368, 8.996809223586757, 10.509213965714345, 18.09886034181869, 1.7329751336251908, 9.081032369216496, 4.791379284521079] adv labels  None\n",
            "img 91 Failed\n",
            "progress: 92/None, correct:  89/92, verified: 0/89, unsafe: 0/89,  time: 0.210; 0.215; 19.154\n",
            "concrete  [-5.619015104229402, -2.9533379653188803, -2.96901637564417, -1.6943641964616385, 1.8877052626913895, -0.46184855332554764, -5.0292207540758085, -0.9392161312446639, 0.8447658715918438, 2.2932054355646634]\n",
            "nlb  [-16.82603466314822, -18.367796498383644, -12.690392146018944, -12.636206524998515, -15.07369771243172, -11.692215158778627, -20.566146280998705, -16.895464556190177, -12.184615830466445, -17.18106572498289]  nub  [8.059383095619882, 12.29820176839408, 10.31913703672793, 8.830962557366918, 11.781849196419554, 11.045401092212817, 11.928270640896717, 12.456588262469888, 10.92947991668421, 12.330672300881316] adv labels  None\n",
            "img 92 Failed\n",
            "progress: 93/None, correct:  90/93, verified: 0/90, unsafe: 0/90,  time: 0.225; 0.215; 19.379\n",
            "concrete  [-6.641778781828236, -5.499350808281751, -7.742977608485254, 6.237446944539799, -9.941925804057767, 2.090783012058262, -16.434903154141605, -2.0361519829173504, -0.6933886259209479, 1.4946721929568036]\n",
            "nlb  [-14.964031211588738, -16.062957768026923, -14.322321023617832, -3.7173889756457688, -21.132711912381872, -6.48768126128236, -26.10803628830758, -17.78431011107536, -9.393151093585463, -14.396070217720833]  nub  [3.8260478566588034, 6.0868539521391485, 3.8859774943788405, 12.965281390751342, -0.7980939431722357, 11.949582382841298, -0.08323871777100933, 7.594519177606054, 9.552408743500672, 10.088677595212824] adv labels  None\n",
            "img 93 Failed\n",
            "progress: 94/None, correct:  91/94, verified: 0/91, unsafe: 0/91,  time: 0.213; 0.215; 19.592\n",
            "concrete  [-11.322765738305598, 8.387545353492193, -2.8569408172689044, 0.31465116180707203, -3.361064051379424, -1.7782365771056985, -2.026955095456666, -5.197252078783424, 1.84227046542399, -5.4483895839764545]\n",
            "nlb  [-18.48935935323835, -6.611041778852691, -11.178959590921064, -6.978214212468987, -15.698136968768189, -9.17214013640119, -16.927975676880454, -17.313075662115523, -6.3027777867412995, -17.826427197826135]  nub  [0.024627566834284464, 16.511953840089767, 8.047067818653414, 8.593078472547202, 4.28211283421357, 8.212913721628057, 10.06990925222251, 5.04362993972064, 10.35726742778613, 5.909122292576061] adv labels  None\n",
            "img 94 Failed\n",
            "progress: 95/None, correct:  92/95, verified: 0/92, unsafe: 0/92,  time: 0.224; 0.215; 19.817\n",
            "concrete  [-10.88438035128598, -8.529946869803611, -8.119041302286934, -10.983834460332966, 8.301912101071624, -5.616393566933832, -2.6935036559782493, -3.812544223980548, -1.0865491735552055, 2.491024103691257]\n",
            "nlb  [-18.72043888847285, -20.018723567975265, -16.273299633016716, -17.171450665032946, -4.852130646151799, -12.900534509422513, -17.25582341523843, -16.97780059671545, -9.457457397703582, -10.811978969070381]  nub  [1.0805308985682605, 2.5589246253386198, 3.0379471009320604, -0.005624122615291445, 14.8038656263047, 5.507771641540758, 11.077176958229574, 6.775408587350464, 8.523766513067137, 12.549549847720726] adv labels  None\n",
            "img 95 Failed\n",
            "progress: 96/None, correct:  93/96, verified: 0/93, unsafe: 0/93,  time: 0.210; 0.215; 20.027\n",
            "concrete  [-7.110348328396018, 3.484957663611995, -3.556175048856928, 0.7606703999734798, -1.35242211804077, 0.05279664375129639, -4.4261054488537335, -1.489518648273132, 0.1114656035410696, -0.19428810385436557]\n",
            "nlb  [-16.353801254757524, -12.37454364164818, -12.154702305753188, -9.489472249167141, -15.395986025191142, -9.821222805771843, -18.480956882506245, -16.09360802295182, -10.402243098034205, -15.81533607645967]  nub  [5.247324530632, 14.444734996745222, 7.9313757390403445, 9.381276985216402, 8.15626050507771, 11.077037288408341, 9.503578137846693, 10.265020186201383, 10.099622065650035, 10.277673223140253] adv labels  None\n",
            "img 96 Failed\n",
            "progress: 97/None, correct:  94/97, verified: 0/94, unsafe: 0/94,  time: 0.232; 0.216; 20.258\n",
            "concrete  [-11.108858388369867, 2.177086717515835, -3.098230973550507, -2.0929557846076765, -2.817376104330101, -5.013001934977458, -9.21706914946083, 3.244722893574404, -1.526588567857804, -2.2299597892931127]\n",
            "nlb  [-18.503164972001613, -12.481084868801025, -12.159161295040429, -10.283358461490284, -16.49947944422008, -12.814321950174197, -22.750210355169596, -12.546443010515116, -10.536945890063388, -17.671505356995905]  nub  [1.7379763735572964, 13.1439454801878, 9.167269444814501, 7.533810526254932, 5.519771953321118, 6.296494167034472, 7.017649856965873, 12.928897098303022, 8.64442183919004, 9.221136489241024] adv labels  None\n",
            "img 97 Failed\n",
            "progress: 98/None, correct:  95/98, verified: 0/95, unsafe: 0/95,  time: 0.210; 0.215; 20.468\n",
            "concrete  [2.7805033583662686, -5.08511398004223, 1.30421367122422, -6.034569437824806, -3.528332338976447, 4.670232148222519, 6.95458983114103, -11.385376033518112, 0.8891394507667363, -7.860909854892065]\n",
            "nlb  [-8.267973172895665, -16.29471295535377, -8.601056181402473, -13.383485678296676, -18.194946820475, -5.691514695188204, -9.700105077778918, -22.130264497628826, -9.456278863256719, -20.58377104231324]  nub  [11.466225874166737, 6.918592896637933, 11.117701325987047, 4.95669678790343, 5.766120456493377, 13.695770484729728, 16.39286107246704, 1.8936759905504497, 9.836122637219361, 2.739524985627764] adv labels  None\n",
            "img 98 Failed\n",
            "progress: 99/None, correct:  96/99, verified: 0/96, unsafe: 0/96,  time: 0.211; 0.215; 20.679\n",
            "concrete  [-10.656992196609545, -9.947834461600031, -5.938438646845625, -1.5218976756207607, 2.4116687039969675, -4.264846519488544, -14.293307290993482, 1.2951211740123632, 1.2218844326463336, 10.119667347180746]\n",
            "nlb  [-19.252367895286184, -20.629273852577633, -14.18449762086692, -10.780952261631551, -12.091349462516286, -12.90071439118987, -25.890899129012702, -13.087450227218014, -8.568871097288248, -7.7875773412462115]  nub  [1.441870705493648, 5.065776737315951, 5.363855797168093, 7.691031891732186, 10.695436237506891, 6.506410214328569, 1.6833021775169654, 13.001320837474383, 10.57542422941633, 17.329347958497504] adv labels  None\n",
            "img 99 Failed\n",
            "progress: 100/None, correct:  97/100, verified: 0/97, unsafe: 0/97,  time: 0.211; 0.215; 20.890\n",
            "analysis precision  0 /  97\n"
          ]
        },
        {
          "output_type": "stream",
          "name": "stderr",
          "text": [
            "2022-07-04 09:50:24.529822: E tensorflow/stream_executor/cuda/cuda_driver.cc:271] failed call to cuInit: CUDA_ERROR_NO_DEVICE: no CUDA-capable device is detected\n",
            "./optimizer.py:26: UserWarning: gpupoly not available.\n",
            "  warnings.warn(\"gpupoly not available.\")\n"
          ]
        }
      ]
    },
    {
      "cell_type": "code",
      "source": [
        "%%bash\n",
        "\n",
        "cd ERAN/tf_verify/\n",
        "\n",
        "python3 . --netname ../../ffnnRELU__PGDK_w_0_3_6_500.onnx --epsilon 0.1 --domain deepzono --dataset mnist"
      ],
      "metadata": {
        "id": "mmy74K6SJ3i0"
      },
      "execution_count": null,
      "outputs": []
    },
    {
      "cell_type": "code",
      "source": [
        ""
      ],
      "metadata": {
        "id": "yAUHLNzOJ9em"
      },
      "execution_count": null,
      "outputs": []
    },
    {
      "cell_type": "code",
      "source": [
        "%%bash\n",
        "\n",
        "cd ERAN/tf_verify/\n",
        "\n",
        "python3 . --netname ../../mnist_net.onnx --epsilon 0.03 --domain deepzono --dataset mnist"
      ],
      "metadata": {
        "id": "HnAs3fn-q7Ex"
      },
      "execution_count": null,
      "outputs": []
    },
    {
      "cell_type": "code",
      "source": [
        "%%bash\n",
        "\n",
        "cd ERAN/tf_verify/\n",
        "\n",
        "python3 . --netname ../../mnist_net.onnx --epsilon 0.03 --domain deepzono --from_test 240 --dataset mnist"
      ],
      "metadata": {
        "id": "qBZ4WKn1s4dJ"
      },
      "execution_count": null,
      "outputs": []
    },
    {
      "cell_type": "code",
      "source": [
        "%%bash\n",
        "wget --no-cache --backups=1 {'https://github.com/eth-sri/eran/files/3653882/zonotope_example.txt'}\n",
        "\n",
        "cd ERAN/tf_verify/\n",
        "\n",
        "python3 . --netname ../../mnist_net.onnx --zonotope ../../zonotope_example.txt --domain deepzono --dataset mnist"
      ],
      "metadata": {
        "id": "nCLa0iZy3A6X",
        "colab": {
          "base_uri": "https://localhost:8080/"
        },
        "outputId": "15fa909d-88f0-4326-a825-c3d22c88f3d1"
      },
      "execution_count": null,
      "outputs": [
        {
          "output_type": "stream",
          "name": "stdout",
          "text": [
            "{'approx_k': True,\n",
            " 'attack': False,\n",
            " 'complete': False,\n",
            " 'data_dir': None,\n",
            " 'dataset': 'mnist',\n",
            " 'debug': False,\n",
            " 'delta': 0.3,\n",
            " 'domain': 'deepzono',\n",
            " 'epsfile': None,\n",
            " 'epsilon': 0,\n",
            " 'from_test': 0,\n",
            " 'gamma': inf,\n",
            " 'geometric': False,\n",
            " 'geometric_config': None,\n",
            " 'input_box': None,\n",
            " 'k': 3,\n",
            " 'logdir': None,\n",
            " 'logname': None,\n",
            " 'max_milp_neurons': 30,\n",
            " 'mean': None,\n",
            " 'n_milp_refine': 1,\n",
            " 'netname': '../../mnist_net.onnx',\n",
            " 'normalized_region': True,\n",
            " 'num_params': 0,\n",
            " 'num_tests': None,\n",
            " 'numproc': 2,\n",
            " 'output_constraints': None,\n",
            " 'partial_milp': 0,\n",
            " 'quant_step': None,\n",
            " 'refine_neurons': False,\n",
            " 's': -2,\n",
            " 'sparse_n': 70,\n",
            " 'spatial': False,\n",
            " 'specnumber': None,\n",
            " 'std': None,\n",
            " 'subset': None,\n",
            " 't_norm': 'inf',\n",
            " 'target': None,\n",
            " 'timeout_complete': None,\n",
            " 'timeout_final_lp': 100,\n",
            " 'timeout_final_milp': 100,\n",
            " 'timeout_lp': 1,\n",
            " 'timeout_milp': 1,\n",
            " 'use_default_heuristic': True,\n",
            " 'use_milp': True,\n",
            " 'vnn_lib_spec': None,\n",
            " 'zonotope': '../../zonotope_example.txt'}\n"
          ]
        },
        {
          "output_type": "stream",
          "name": "stderr",
          "text": [
            "{https://github.com/eth-sri/eran/files/3653882/zonotope_example.txt}: Scheme missing.\n",
            "2022-07-06 11:15:56.682168: E tensorflow/stream_executor/cuda/cuda_driver.cc:271] failed call to cuInit: CUDA_ERROR_NO_DEVICE: no CUDA-capable device is detected\n",
            "./optimizer.py:26: UserWarning: gpupoly not available.\n",
            "  warnings.warn(\"gpupoly not available.\")\n",
            "Traceback (most recent call last):\n",
            "  File \"/usr/lib/python3.7/runpy.py\", line 193, in _run_module_as_main\n",
            "    \"__main__\", mod_spec)\n",
            "  File \"/usr/lib/python3.7/runpy.py\", line 85, in _run_code\n",
            "    exec(code, run_globals)\n",
            "  File \"./__main__.py\", line 427, in <module>\n",
            "    zonotope = read_zonotope(zonotope_file)\n",
            "  File \"./read_zonotope_file.py\", line 23, in read_zonotope\n",
            "    assert os.path.isfile(zonotope_file), 'There exists no zonotope file.'\n",
            "AssertionError: There exists no zonotope file.\n"
          ]
        }
      ]
    },
    {
      "cell_type": "code",
      "source": [
        "%%bash\n",
        "\n",
        "cd ERAN/tf_verify/\n",
        "python3 . --netname ../../mnist_net.onnx --dataset mnist --domain deeppoly --spatial --t-norm inf --delta 3"
      ],
      "metadata": {
        "id": "ugKJ0ukgJ9p9"
      },
      "execution_count": null,
      "outputs": []
    },
    {
      "cell_type": "code",
      "source": [
        "%%bash\n",
        "\n",
        "#wget --no-cache --backups=1 {'https://files.sri.inf.ethz.ch/eran/nets/onnx/mnist/mnist_relu_3_50.onnx'}\n",
        "\n",
        "cd ERAN/tf_verify/\n",
        "\n",
        "python3 . --netname ../../mnist_relu_3_50.onnx --epsilon 0.1 --domain deepzono --dataset mnist"
      ],
      "metadata": {
        "id": "wlWXTYR5DkKo"
      },
      "execution_count": null,
      "outputs": []
    },
    {
      "cell_type": "code",
      "source": [
        "!wget --no-cache --backups=1 {'https://raw.githubusercontent.com/eth-sri/deepg/master/code/examples/example1/config.txt'}"
      ],
      "metadata": {
        "id": "wisjOONdJxRU"
      },
      "execution_count": null,
      "outputs": []
    },
    {
      "cell_type": "code",
      "source": [
        "%%bash\n",
        "\n",
        "cd ERAN\n",
        "\n",
        "set -e\n",
        "\n",
        "cd gurobi912/linux64/src/build\n",
        "sed -ie 's/^C++FLAGS =.*$/& -fPIC/' Makefile\n",
        "make\n",
        "cp libgurobi_c++.a ../../lib/\n",
        "cp ../../lib/libgurobi90.so /usr/lib\n",
        "cd ..\n",
        "\n",
        "export GUROBI_HOME=\"$(pwd)/gurobi900/linux64\"\n",
        "export PATH=\"${PATH}:${GUROBI_HOME}/bin\"\n",
        "export CPATH=\"${CPATH}:${GUROBI_HOME}/include\"\n",
        "export LD_LIBRARY_PATH=$LD_LIBRARY_PATH:/usr/local/lib:${GUROBI_HOME}/lib\n",
        "\n",
        "git clone https://github.com/eth-sri/deepg.git\n",
        "cd deepg/code\n",
        "mkdir build\n",
        "make shared_object\n",
        "cp ./build/libgeometric.so /usr/lib\n",
        "cd ../..\n",
        "\n",
        "export LD_LIBRARY_PATH=$LD_LIBRARY_PATH:/usr/local/lib:/usr/lib\n",
        "\n",
        "ldconfig\n",
        "\n",
        "Footer\n",
        "\n",
        "cd tf_verify/\n",
        "\n",
        "python3 . --netname ../../mnist_net.onnx --geometric --geometric_config ../../config.txt --num_params 1 --dataset mnist"
      ],
      "metadata": {
        "id": "l8IkFD2nnixn"
      },
      "execution_count": null,
      "outputs": []
    }
  ]
}