{
  "nbformat": 4,
  "nbformat_minor": 0,
  "metadata": {
    "colab": {
      "name": "Verification_by_abstraction_with_eran.ipynb",
      "provenance": [],
      "collapsed_sections": [],
      "include_colab_link": true
    },
    "kernelspec": {
      "name": "python3",
      "display_name": "Python 3"
    },
    "language_info": {
      "name": "python"
    },
    "widgets": {
      "application/vnd.jupyter.widget-state+json": {
        "3184da12b05940cabada4316fc301afd": {
          "model_module": "@jupyter-widgets/controls",
          "model_name": "HBoxModel",
          "model_module_version": "1.5.0",
          "state": {
            "_dom_classes": [],
            "_model_module": "@jupyter-widgets/controls",
            "_model_module_version": "1.5.0",
            "_model_name": "HBoxModel",
            "_view_count": null,
            "_view_module": "@jupyter-widgets/controls",
            "_view_module_version": "1.5.0",
            "_view_name": "HBoxView",
            "box_style": "",
            "children": [
              "IPY_MODEL_194cbb682c62422582e77852b66513fc",
              "IPY_MODEL_bf8413c1773b4eb19a3c0d0ccdb6b391",
              "IPY_MODEL_951b65622130460d9ac97beb1447c6af"
            ],
            "layout": "IPY_MODEL_95f82c0421ed4b94a7a32b75d84f1ca4"
          }
        },
        "194cbb682c62422582e77852b66513fc": {
          "model_module": "@jupyter-widgets/controls",
          "model_name": "HTMLModel",
          "model_module_version": "1.5.0",
          "state": {
            "_dom_classes": [],
            "_model_module": "@jupyter-widgets/controls",
            "_model_module_version": "1.5.0",
            "_model_name": "HTMLModel",
            "_view_count": null,
            "_view_module": "@jupyter-widgets/controls",
            "_view_module_version": "1.5.0",
            "_view_name": "HTMLView",
            "description": "",
            "description_tooltip": null,
            "layout": "IPY_MODEL_e685d0d1c48a4740a146b48bd6939c92",
            "placeholder": "​",
            "style": "IPY_MODEL_9d5cb96561b04db9bc17096e335eb2fb",
            "value": "100%"
          }
        },
        "bf8413c1773b4eb19a3c0d0ccdb6b391": {
          "model_module": "@jupyter-widgets/controls",
          "model_name": "FloatProgressModel",
          "model_module_version": "1.5.0",
          "state": {
            "_dom_classes": [],
            "_model_module": "@jupyter-widgets/controls",
            "_model_module_version": "1.5.0",
            "_model_name": "FloatProgressModel",
            "_view_count": null,
            "_view_module": "@jupyter-widgets/controls",
            "_view_module_version": "1.5.0",
            "_view_name": "ProgressView",
            "bar_style": "success",
            "description": "",
            "description_tooltip": null,
            "layout": "IPY_MODEL_1747a41864754f7cb8b820ab41b18f6c",
            "max": 9912422,
            "min": 0,
            "orientation": "horizontal",
            "style": "IPY_MODEL_defdb306578140a980f77b993d19e0b8",
            "value": 9912422
          }
        },
        "951b65622130460d9ac97beb1447c6af": {
          "model_module": "@jupyter-widgets/controls",
          "model_name": "HTMLModel",
          "model_module_version": "1.5.0",
          "state": {
            "_dom_classes": [],
            "_model_module": "@jupyter-widgets/controls",
            "_model_module_version": "1.5.0",
            "_model_name": "HTMLModel",
            "_view_count": null,
            "_view_module": "@jupyter-widgets/controls",
            "_view_module_version": "1.5.0",
            "_view_name": "HTMLView",
            "description": "",
            "description_tooltip": null,
            "layout": "IPY_MODEL_0bd113ae8e1b48d18bcce695852b4d36",
            "placeholder": "​",
            "style": "IPY_MODEL_f5d3fe134f83466c91ab41428141cf00",
            "value": " 9912422/9912422 [00:00&lt;00:00, 7205668.38it/s]"
          }
        },
        "95f82c0421ed4b94a7a32b75d84f1ca4": {
          "model_module": "@jupyter-widgets/base",
          "model_name": "LayoutModel",
          "model_module_version": "1.2.0",
          "state": {
            "_model_module": "@jupyter-widgets/base",
            "_model_module_version": "1.2.0",
            "_model_name": "LayoutModel",
            "_view_count": null,
            "_view_module": "@jupyter-widgets/base",
            "_view_module_version": "1.2.0",
            "_view_name": "LayoutView",
            "align_content": null,
            "align_items": null,
            "align_self": null,
            "border": null,
            "bottom": null,
            "display": null,
            "flex": null,
            "flex_flow": null,
            "grid_area": null,
            "grid_auto_columns": null,
            "grid_auto_flow": null,
            "grid_auto_rows": null,
            "grid_column": null,
            "grid_gap": null,
            "grid_row": null,
            "grid_template_areas": null,
            "grid_template_columns": null,
            "grid_template_rows": null,
            "height": null,
            "justify_content": null,
            "justify_items": null,
            "left": null,
            "margin": null,
            "max_height": null,
            "max_width": null,
            "min_height": null,
            "min_width": null,
            "object_fit": null,
            "object_position": null,
            "order": null,
            "overflow": null,
            "overflow_x": null,
            "overflow_y": null,
            "padding": null,
            "right": null,
            "top": null,
            "visibility": null,
            "width": null
          }
        },
        "e685d0d1c48a4740a146b48bd6939c92": {
          "model_module": "@jupyter-widgets/base",
          "model_name": "LayoutModel",
          "model_module_version": "1.2.0",
          "state": {
            "_model_module": "@jupyter-widgets/base",
            "_model_module_version": "1.2.0",
            "_model_name": "LayoutModel",
            "_view_count": null,
            "_view_module": "@jupyter-widgets/base",
            "_view_module_version": "1.2.0",
            "_view_name": "LayoutView",
            "align_content": null,
            "align_items": null,
            "align_self": null,
            "border": null,
            "bottom": null,
            "display": null,
            "flex": null,
            "flex_flow": null,
            "grid_area": null,
            "grid_auto_columns": null,
            "grid_auto_flow": null,
            "grid_auto_rows": null,
            "grid_column": null,
            "grid_gap": null,
            "grid_row": null,
            "grid_template_areas": null,
            "grid_template_columns": null,
            "grid_template_rows": null,
            "height": null,
            "justify_content": null,
            "justify_items": null,
            "left": null,
            "margin": null,
            "max_height": null,
            "max_width": null,
            "min_height": null,
            "min_width": null,
            "object_fit": null,
            "object_position": null,
            "order": null,
            "overflow": null,
            "overflow_x": null,
            "overflow_y": null,
            "padding": null,
            "right": null,
            "top": null,
            "visibility": null,
            "width": null
          }
        },
        "9d5cb96561b04db9bc17096e335eb2fb": {
          "model_module": "@jupyter-widgets/controls",
          "model_name": "DescriptionStyleModel",
          "model_module_version": "1.5.0",
          "state": {
            "_model_module": "@jupyter-widgets/controls",
            "_model_module_version": "1.5.0",
            "_model_name": "DescriptionStyleModel",
            "_view_count": null,
            "_view_module": "@jupyter-widgets/base",
            "_view_module_version": "1.2.0",
            "_view_name": "StyleView",
            "description_width": ""
          }
        },
        "1747a41864754f7cb8b820ab41b18f6c": {
          "model_module": "@jupyter-widgets/base",
          "model_name": "LayoutModel",
          "model_module_version": "1.2.0",
          "state": {
            "_model_module": "@jupyter-widgets/base",
            "_model_module_version": "1.2.0",
            "_model_name": "LayoutModel",
            "_view_count": null,
            "_view_module": "@jupyter-widgets/base",
            "_view_module_version": "1.2.0",
            "_view_name": "LayoutView",
            "align_content": null,
            "align_items": null,
            "align_self": null,
            "border": null,
            "bottom": null,
            "display": null,
            "flex": null,
            "flex_flow": null,
            "grid_area": null,
            "grid_auto_columns": null,
            "grid_auto_flow": null,
            "grid_auto_rows": null,
            "grid_column": null,
            "grid_gap": null,
            "grid_row": null,
            "grid_template_areas": null,
            "grid_template_columns": null,
            "grid_template_rows": null,
            "height": null,
            "justify_content": null,
            "justify_items": null,
            "left": null,
            "margin": null,
            "max_height": null,
            "max_width": null,
            "min_height": null,
            "min_width": null,
            "object_fit": null,
            "object_position": null,
            "order": null,
            "overflow": null,
            "overflow_x": null,
            "overflow_y": null,
            "padding": null,
            "right": null,
            "top": null,
            "visibility": null,
            "width": null
          }
        },
        "defdb306578140a980f77b993d19e0b8": {
          "model_module": "@jupyter-widgets/controls",
          "model_name": "ProgressStyleModel",
          "model_module_version": "1.5.0",
          "state": {
            "_model_module": "@jupyter-widgets/controls",
            "_model_module_version": "1.5.0",
            "_model_name": "ProgressStyleModel",
            "_view_count": null,
            "_view_module": "@jupyter-widgets/base",
            "_view_module_version": "1.2.0",
            "_view_name": "StyleView",
            "bar_color": null,
            "description_width": ""
          }
        },
        "0bd113ae8e1b48d18bcce695852b4d36": {
          "model_module": "@jupyter-widgets/base",
          "model_name": "LayoutModel",
          "model_module_version": "1.2.0",
          "state": {
            "_model_module": "@jupyter-widgets/base",
            "_model_module_version": "1.2.0",
            "_model_name": "LayoutModel",
            "_view_count": null,
            "_view_module": "@jupyter-widgets/base",
            "_view_module_version": "1.2.0",
            "_view_name": "LayoutView",
            "align_content": null,
            "align_items": null,
            "align_self": null,
            "border": null,
            "bottom": null,
            "display": null,
            "flex": null,
            "flex_flow": null,
            "grid_area": null,
            "grid_auto_columns": null,
            "grid_auto_flow": null,
            "grid_auto_rows": null,
            "grid_column": null,
            "grid_gap": null,
            "grid_row": null,
            "grid_template_areas": null,
            "grid_template_columns": null,
            "grid_template_rows": null,
            "height": null,
            "justify_content": null,
            "justify_items": null,
            "left": null,
            "margin": null,
            "max_height": null,
            "max_width": null,
            "min_height": null,
            "min_width": null,
            "object_fit": null,
            "object_position": null,
            "order": null,
            "overflow": null,
            "overflow_x": null,
            "overflow_y": null,
            "padding": null,
            "right": null,
            "top": null,
            "visibility": null,
            "width": null
          }
        },
        "f5d3fe134f83466c91ab41428141cf00": {
          "model_module": "@jupyter-widgets/controls",
          "model_name": "DescriptionStyleModel",
          "model_module_version": "1.5.0",
          "state": {
            "_model_module": "@jupyter-widgets/controls",
            "_model_module_version": "1.5.0",
            "_model_name": "DescriptionStyleModel",
            "_view_count": null,
            "_view_module": "@jupyter-widgets/base",
            "_view_module_version": "1.2.0",
            "_view_name": "StyleView",
            "description_width": ""
          }
        },
        "e25a75e572b94537ab670e821bcdacb9": {
          "model_module": "@jupyter-widgets/controls",
          "model_name": "HBoxModel",
          "model_module_version": "1.5.0",
          "state": {
            "_dom_classes": [],
            "_model_module": "@jupyter-widgets/controls",
            "_model_module_version": "1.5.0",
            "_model_name": "HBoxModel",
            "_view_count": null,
            "_view_module": "@jupyter-widgets/controls",
            "_view_module_version": "1.5.0",
            "_view_name": "HBoxView",
            "box_style": "",
            "children": [
              "IPY_MODEL_c5d0f235a3a0469eb18523cfe5cb6b10",
              "IPY_MODEL_aae116a3777f45f88b34b5d26b86ee12",
              "IPY_MODEL_86d4aad536c3464a9dadc34b8ae6e031"
            ],
            "layout": "IPY_MODEL_3c751dbfc95c490295c22205061c9a96"
          }
        },
        "c5d0f235a3a0469eb18523cfe5cb6b10": {
          "model_module": "@jupyter-widgets/controls",
          "model_name": "HTMLModel",
          "model_module_version": "1.5.0",
          "state": {
            "_dom_classes": [],
            "_model_module": "@jupyter-widgets/controls",
            "_model_module_version": "1.5.0",
            "_model_name": "HTMLModel",
            "_view_count": null,
            "_view_module": "@jupyter-widgets/controls",
            "_view_module_version": "1.5.0",
            "_view_name": "HTMLView",
            "description": "",
            "description_tooltip": null,
            "layout": "IPY_MODEL_6738358edb7d4e8e8c1621e070375a26",
            "placeholder": "​",
            "style": "IPY_MODEL_ac335f8fa253490cadc15e6e1d9b3074",
            "value": "100%"
          }
        },
        "aae116a3777f45f88b34b5d26b86ee12": {
          "model_module": "@jupyter-widgets/controls",
          "model_name": "FloatProgressModel",
          "model_module_version": "1.5.0",
          "state": {
            "_dom_classes": [],
            "_model_module": "@jupyter-widgets/controls",
            "_model_module_version": "1.5.0",
            "_model_name": "FloatProgressModel",
            "_view_count": null,
            "_view_module": "@jupyter-widgets/controls",
            "_view_module_version": "1.5.0",
            "_view_name": "ProgressView",
            "bar_style": "success",
            "description": "",
            "description_tooltip": null,
            "layout": "IPY_MODEL_f35d5dbe31934eeabb7c0e56115c88b1",
            "max": 28881,
            "min": 0,
            "orientation": "horizontal",
            "style": "IPY_MODEL_81b4bd3511fd4a06aadf2c40efd65fb4",
            "value": 28881
          }
        },
        "86d4aad536c3464a9dadc34b8ae6e031": {
          "model_module": "@jupyter-widgets/controls",
          "model_name": "HTMLModel",
          "model_module_version": "1.5.0",
          "state": {
            "_dom_classes": [],
            "_model_module": "@jupyter-widgets/controls",
            "_model_module_version": "1.5.0",
            "_model_name": "HTMLModel",
            "_view_count": null,
            "_view_module": "@jupyter-widgets/controls",
            "_view_module_version": "1.5.0",
            "_view_name": "HTMLView",
            "description": "",
            "description_tooltip": null,
            "layout": "IPY_MODEL_a1a47b28bb4e48f1a322cc0414ae91e0",
            "placeholder": "​",
            "style": "IPY_MODEL_3e953bf81aca4bf7b08c9d6eca946a85",
            "value": " 28881/28881 [00:00&lt;00:00, 629001.86it/s]"
          }
        },
        "3c751dbfc95c490295c22205061c9a96": {
          "model_module": "@jupyter-widgets/base",
          "model_name": "LayoutModel",
          "model_module_version": "1.2.0",
          "state": {
            "_model_module": "@jupyter-widgets/base",
            "_model_module_version": "1.2.0",
            "_model_name": "LayoutModel",
            "_view_count": null,
            "_view_module": "@jupyter-widgets/base",
            "_view_module_version": "1.2.0",
            "_view_name": "LayoutView",
            "align_content": null,
            "align_items": null,
            "align_self": null,
            "border": null,
            "bottom": null,
            "display": null,
            "flex": null,
            "flex_flow": null,
            "grid_area": null,
            "grid_auto_columns": null,
            "grid_auto_flow": null,
            "grid_auto_rows": null,
            "grid_column": null,
            "grid_gap": null,
            "grid_row": null,
            "grid_template_areas": null,
            "grid_template_columns": null,
            "grid_template_rows": null,
            "height": null,
            "justify_content": null,
            "justify_items": null,
            "left": null,
            "margin": null,
            "max_height": null,
            "max_width": null,
            "min_height": null,
            "min_width": null,
            "object_fit": null,
            "object_position": null,
            "order": null,
            "overflow": null,
            "overflow_x": null,
            "overflow_y": null,
            "padding": null,
            "right": null,
            "top": null,
            "visibility": null,
            "width": null
          }
        },
        "6738358edb7d4e8e8c1621e070375a26": {
          "model_module": "@jupyter-widgets/base",
          "model_name": "LayoutModel",
          "model_module_version": "1.2.0",
          "state": {
            "_model_module": "@jupyter-widgets/base",
            "_model_module_version": "1.2.0",
            "_model_name": "LayoutModel",
            "_view_count": null,
            "_view_module": "@jupyter-widgets/base",
            "_view_module_version": "1.2.0",
            "_view_name": "LayoutView",
            "align_content": null,
            "align_items": null,
            "align_self": null,
            "border": null,
            "bottom": null,
            "display": null,
            "flex": null,
            "flex_flow": null,
            "grid_area": null,
            "grid_auto_columns": null,
            "grid_auto_flow": null,
            "grid_auto_rows": null,
            "grid_column": null,
            "grid_gap": null,
            "grid_row": null,
            "grid_template_areas": null,
            "grid_template_columns": null,
            "grid_template_rows": null,
            "height": null,
            "justify_content": null,
            "justify_items": null,
            "left": null,
            "margin": null,
            "max_height": null,
            "max_width": null,
            "min_height": null,
            "min_width": null,
            "object_fit": null,
            "object_position": null,
            "order": null,
            "overflow": null,
            "overflow_x": null,
            "overflow_y": null,
            "padding": null,
            "right": null,
            "top": null,
            "visibility": null,
            "width": null
          }
        },
        "ac335f8fa253490cadc15e6e1d9b3074": {
          "model_module": "@jupyter-widgets/controls",
          "model_name": "DescriptionStyleModel",
          "model_module_version": "1.5.0",
          "state": {
            "_model_module": "@jupyter-widgets/controls",
            "_model_module_version": "1.5.0",
            "_model_name": "DescriptionStyleModel",
            "_view_count": null,
            "_view_module": "@jupyter-widgets/base",
            "_view_module_version": "1.2.0",
            "_view_name": "StyleView",
            "description_width": ""
          }
        },
        "f35d5dbe31934eeabb7c0e56115c88b1": {
          "model_module": "@jupyter-widgets/base",
          "model_name": "LayoutModel",
          "model_module_version": "1.2.0",
          "state": {
            "_model_module": "@jupyter-widgets/base",
            "_model_module_version": "1.2.0",
            "_model_name": "LayoutModel",
            "_view_count": null,
            "_view_module": "@jupyter-widgets/base",
            "_view_module_version": "1.2.0",
            "_view_name": "LayoutView",
            "align_content": null,
            "align_items": null,
            "align_self": null,
            "border": null,
            "bottom": null,
            "display": null,
            "flex": null,
            "flex_flow": null,
            "grid_area": null,
            "grid_auto_columns": null,
            "grid_auto_flow": null,
            "grid_auto_rows": null,
            "grid_column": null,
            "grid_gap": null,
            "grid_row": null,
            "grid_template_areas": null,
            "grid_template_columns": null,
            "grid_template_rows": null,
            "height": null,
            "justify_content": null,
            "justify_items": null,
            "left": null,
            "margin": null,
            "max_height": null,
            "max_width": null,
            "min_height": null,
            "min_width": null,
            "object_fit": null,
            "object_position": null,
            "order": null,
            "overflow": null,
            "overflow_x": null,
            "overflow_y": null,
            "padding": null,
            "right": null,
            "top": null,
            "visibility": null,
            "width": null
          }
        },
        "81b4bd3511fd4a06aadf2c40efd65fb4": {
          "model_module": "@jupyter-widgets/controls",
          "model_name": "ProgressStyleModel",
          "model_module_version": "1.5.0",
          "state": {
            "_model_module": "@jupyter-widgets/controls",
            "_model_module_version": "1.5.0",
            "_model_name": "ProgressStyleModel",
            "_view_count": null,
            "_view_module": "@jupyter-widgets/base",
            "_view_module_version": "1.2.0",
            "_view_name": "StyleView",
            "bar_color": null,
            "description_width": ""
          }
        },
        "a1a47b28bb4e48f1a322cc0414ae91e0": {
          "model_module": "@jupyter-widgets/base",
          "model_name": "LayoutModel",
          "model_module_version": "1.2.0",
          "state": {
            "_model_module": "@jupyter-widgets/base",
            "_model_module_version": "1.2.0",
            "_model_name": "LayoutModel",
            "_view_count": null,
            "_view_module": "@jupyter-widgets/base",
            "_view_module_version": "1.2.0",
            "_view_name": "LayoutView",
            "align_content": null,
            "align_items": null,
            "align_self": null,
            "border": null,
            "bottom": null,
            "display": null,
            "flex": null,
            "flex_flow": null,
            "grid_area": null,
            "grid_auto_columns": null,
            "grid_auto_flow": null,
            "grid_auto_rows": null,
            "grid_column": null,
            "grid_gap": null,
            "grid_row": null,
            "grid_template_areas": null,
            "grid_template_columns": null,
            "grid_template_rows": null,
            "height": null,
            "justify_content": null,
            "justify_items": null,
            "left": null,
            "margin": null,
            "max_height": null,
            "max_width": null,
            "min_height": null,
            "min_width": null,
            "object_fit": null,
            "object_position": null,
            "order": null,
            "overflow": null,
            "overflow_x": null,
            "overflow_y": null,
            "padding": null,
            "right": null,
            "top": null,
            "visibility": null,
            "width": null
          }
        },
        "3e953bf81aca4bf7b08c9d6eca946a85": {
          "model_module": "@jupyter-widgets/controls",
          "model_name": "DescriptionStyleModel",
          "model_module_version": "1.5.0",
          "state": {
            "_model_module": "@jupyter-widgets/controls",
            "_model_module_version": "1.5.0",
            "_model_name": "DescriptionStyleModel",
            "_view_count": null,
            "_view_module": "@jupyter-widgets/base",
            "_view_module_version": "1.2.0",
            "_view_name": "StyleView",
            "description_width": ""
          }
        },
        "8b55246811a44036898c42b21abeb507": {
          "model_module": "@jupyter-widgets/controls",
          "model_name": "HBoxModel",
          "model_module_version": "1.5.0",
          "state": {
            "_dom_classes": [],
            "_model_module": "@jupyter-widgets/controls",
            "_model_module_version": "1.5.0",
            "_model_name": "HBoxModel",
            "_view_count": null,
            "_view_module": "@jupyter-widgets/controls",
            "_view_module_version": "1.5.0",
            "_view_name": "HBoxView",
            "box_style": "",
            "children": [
              "IPY_MODEL_d84df0fd05f249d9a09feb97290856eb",
              "IPY_MODEL_705680c60194472eb37f3c564ed95a15",
              "IPY_MODEL_346d0f48e93344f38ddf1fb0c18e54f1"
            ],
            "layout": "IPY_MODEL_42297310754f49bc888f447e5b544218"
          }
        },
        "d84df0fd05f249d9a09feb97290856eb": {
          "model_module": "@jupyter-widgets/controls",
          "model_name": "HTMLModel",
          "model_module_version": "1.5.0",
          "state": {
            "_dom_classes": [],
            "_model_module": "@jupyter-widgets/controls",
            "_model_module_version": "1.5.0",
            "_model_name": "HTMLModel",
            "_view_count": null,
            "_view_module": "@jupyter-widgets/controls",
            "_view_module_version": "1.5.0",
            "_view_name": "HTMLView",
            "description": "",
            "description_tooltip": null,
            "layout": "IPY_MODEL_7e0e0e53710345bf8987008f5757205b",
            "placeholder": "​",
            "style": "IPY_MODEL_9c52c60e146549f4a219aeaeaf497c85",
            "value": "100%"
          }
        },
        "705680c60194472eb37f3c564ed95a15": {
          "model_module": "@jupyter-widgets/controls",
          "model_name": "FloatProgressModel",
          "model_module_version": "1.5.0",
          "state": {
            "_dom_classes": [],
            "_model_module": "@jupyter-widgets/controls",
            "_model_module_version": "1.5.0",
            "_model_name": "FloatProgressModel",
            "_view_count": null,
            "_view_module": "@jupyter-widgets/controls",
            "_view_module_version": "1.5.0",
            "_view_name": "ProgressView",
            "bar_style": "success",
            "description": "",
            "description_tooltip": null,
            "layout": "IPY_MODEL_c81dfffe60b24cdc940c5f5243bbdd8a",
            "max": 1648877,
            "min": 0,
            "orientation": "horizontal",
            "style": "IPY_MODEL_8f70be208b8a4eb3b05cc9120b111195",
            "value": 1648877
          }
        },
        "346d0f48e93344f38ddf1fb0c18e54f1": {
          "model_module": "@jupyter-widgets/controls",
          "model_name": "HTMLModel",
          "model_module_version": "1.5.0",
          "state": {
            "_dom_classes": [],
            "_model_module": "@jupyter-widgets/controls",
            "_model_module_version": "1.5.0",
            "_model_name": "HTMLModel",
            "_view_count": null,
            "_view_module": "@jupyter-widgets/controls",
            "_view_module_version": "1.5.0",
            "_view_name": "HTMLView",
            "description": "",
            "description_tooltip": null,
            "layout": "IPY_MODEL_9e046b9936304a809ee6a526951749ac",
            "placeholder": "​",
            "style": "IPY_MODEL_55148a75f9284373a88a7c076117beac",
            "value": " 1648877/1648877 [00:00&lt;00:00, 4724005.40it/s]"
          }
        },
        "42297310754f49bc888f447e5b544218": {
          "model_module": "@jupyter-widgets/base",
          "model_name": "LayoutModel",
          "model_module_version": "1.2.0",
          "state": {
            "_model_module": "@jupyter-widgets/base",
            "_model_module_version": "1.2.0",
            "_model_name": "LayoutModel",
            "_view_count": null,
            "_view_module": "@jupyter-widgets/base",
            "_view_module_version": "1.2.0",
            "_view_name": "LayoutView",
            "align_content": null,
            "align_items": null,
            "align_self": null,
            "border": null,
            "bottom": null,
            "display": null,
            "flex": null,
            "flex_flow": null,
            "grid_area": null,
            "grid_auto_columns": null,
            "grid_auto_flow": null,
            "grid_auto_rows": null,
            "grid_column": null,
            "grid_gap": null,
            "grid_row": null,
            "grid_template_areas": null,
            "grid_template_columns": null,
            "grid_template_rows": null,
            "height": null,
            "justify_content": null,
            "justify_items": null,
            "left": null,
            "margin": null,
            "max_height": null,
            "max_width": null,
            "min_height": null,
            "min_width": null,
            "object_fit": null,
            "object_position": null,
            "order": null,
            "overflow": null,
            "overflow_x": null,
            "overflow_y": null,
            "padding": null,
            "right": null,
            "top": null,
            "visibility": null,
            "width": null
          }
        },
        "7e0e0e53710345bf8987008f5757205b": {
          "model_module": "@jupyter-widgets/base",
          "model_name": "LayoutModel",
          "model_module_version": "1.2.0",
          "state": {
            "_model_module": "@jupyter-widgets/base",
            "_model_module_version": "1.2.0",
            "_model_name": "LayoutModel",
            "_view_count": null,
            "_view_module": "@jupyter-widgets/base",
            "_view_module_version": "1.2.0",
            "_view_name": "LayoutView",
            "align_content": null,
            "align_items": null,
            "align_self": null,
            "border": null,
            "bottom": null,
            "display": null,
            "flex": null,
            "flex_flow": null,
            "grid_area": null,
            "grid_auto_columns": null,
            "grid_auto_flow": null,
            "grid_auto_rows": null,
            "grid_column": null,
            "grid_gap": null,
            "grid_row": null,
            "grid_template_areas": null,
            "grid_template_columns": null,
            "grid_template_rows": null,
            "height": null,
            "justify_content": null,
            "justify_items": null,
            "left": null,
            "margin": null,
            "max_height": null,
            "max_width": null,
            "min_height": null,
            "min_width": null,
            "object_fit": null,
            "object_position": null,
            "order": null,
            "overflow": null,
            "overflow_x": null,
            "overflow_y": null,
            "padding": null,
            "right": null,
            "top": null,
            "visibility": null,
            "width": null
          }
        },
        "9c52c60e146549f4a219aeaeaf497c85": {
          "model_module": "@jupyter-widgets/controls",
          "model_name": "DescriptionStyleModel",
          "model_module_version": "1.5.0",
          "state": {
            "_model_module": "@jupyter-widgets/controls",
            "_model_module_version": "1.5.0",
            "_model_name": "DescriptionStyleModel",
            "_view_count": null,
            "_view_module": "@jupyter-widgets/base",
            "_view_module_version": "1.2.0",
            "_view_name": "StyleView",
            "description_width": ""
          }
        },
        "c81dfffe60b24cdc940c5f5243bbdd8a": {
          "model_module": "@jupyter-widgets/base",
          "model_name": "LayoutModel",
          "model_module_version": "1.2.0",
          "state": {
            "_model_module": "@jupyter-widgets/base",
            "_model_module_version": "1.2.0",
            "_model_name": "LayoutModel",
            "_view_count": null,
            "_view_module": "@jupyter-widgets/base",
            "_view_module_version": "1.2.0",
            "_view_name": "LayoutView",
            "align_content": null,
            "align_items": null,
            "align_self": null,
            "border": null,
            "bottom": null,
            "display": null,
            "flex": null,
            "flex_flow": null,
            "grid_area": null,
            "grid_auto_columns": null,
            "grid_auto_flow": null,
            "grid_auto_rows": null,
            "grid_column": null,
            "grid_gap": null,
            "grid_row": null,
            "grid_template_areas": null,
            "grid_template_columns": null,
            "grid_template_rows": null,
            "height": null,
            "justify_content": null,
            "justify_items": null,
            "left": null,
            "margin": null,
            "max_height": null,
            "max_width": null,
            "min_height": null,
            "min_width": null,
            "object_fit": null,
            "object_position": null,
            "order": null,
            "overflow": null,
            "overflow_x": null,
            "overflow_y": null,
            "padding": null,
            "right": null,
            "top": null,
            "visibility": null,
            "width": null
          }
        },
        "8f70be208b8a4eb3b05cc9120b111195": {
          "model_module": "@jupyter-widgets/controls",
          "model_name": "ProgressStyleModel",
          "model_module_version": "1.5.0",
          "state": {
            "_model_module": "@jupyter-widgets/controls",
            "_model_module_version": "1.5.0",
            "_model_name": "ProgressStyleModel",
            "_view_count": null,
            "_view_module": "@jupyter-widgets/base",
            "_view_module_version": "1.2.0",
            "_view_name": "StyleView",
            "bar_color": null,
            "description_width": ""
          }
        },
        "9e046b9936304a809ee6a526951749ac": {
          "model_module": "@jupyter-widgets/base",
          "model_name": "LayoutModel",
          "model_module_version": "1.2.0",
          "state": {
            "_model_module": "@jupyter-widgets/base",
            "_model_module_version": "1.2.0",
            "_model_name": "LayoutModel",
            "_view_count": null,
            "_view_module": "@jupyter-widgets/base",
            "_view_module_version": "1.2.0",
            "_view_name": "LayoutView",
            "align_content": null,
            "align_items": null,
            "align_self": null,
            "border": null,
            "bottom": null,
            "display": null,
            "flex": null,
            "flex_flow": null,
            "grid_area": null,
            "grid_auto_columns": null,
            "grid_auto_flow": null,
            "grid_auto_rows": null,
            "grid_column": null,
            "grid_gap": null,
            "grid_row": null,
            "grid_template_areas": null,
            "grid_template_columns": null,
            "grid_template_rows": null,
            "height": null,
            "justify_content": null,
            "justify_items": null,
            "left": null,
            "margin": null,
            "max_height": null,
            "max_width": null,
            "min_height": null,
            "min_width": null,
            "object_fit": null,
            "object_position": null,
            "order": null,
            "overflow": null,
            "overflow_x": null,
            "overflow_y": null,
            "padding": null,
            "right": null,
            "top": null,
            "visibility": null,
            "width": null
          }
        },
        "55148a75f9284373a88a7c076117beac": {
          "model_module": "@jupyter-widgets/controls",
          "model_name": "DescriptionStyleModel",
          "model_module_version": "1.5.0",
          "state": {
            "_model_module": "@jupyter-widgets/controls",
            "_model_module_version": "1.5.0",
            "_model_name": "DescriptionStyleModel",
            "_view_count": null,
            "_view_module": "@jupyter-widgets/base",
            "_view_module_version": "1.2.0",
            "_view_name": "StyleView",
            "description_width": ""
          }
        },
        "efbe3092fd6842c3ba731e1bb426e06b": {
          "model_module": "@jupyter-widgets/controls",
          "model_name": "HBoxModel",
          "model_module_version": "1.5.0",
          "state": {
            "_dom_classes": [],
            "_model_module": "@jupyter-widgets/controls",
            "_model_module_version": "1.5.0",
            "_model_name": "HBoxModel",
            "_view_count": null,
            "_view_module": "@jupyter-widgets/controls",
            "_view_module_version": "1.5.0",
            "_view_name": "HBoxView",
            "box_style": "",
            "children": [
              "IPY_MODEL_d4c17ad4b20c4d3892b3864d59597850",
              "IPY_MODEL_f82fbc059d994a2fbe87e14ca0f2dea0",
              "IPY_MODEL_77682f3092b44495a80658763be7cc4e"
            ],
            "layout": "IPY_MODEL_8063a99eb069490ea0380ef906ebe7be"
          }
        },
        "d4c17ad4b20c4d3892b3864d59597850": {
          "model_module": "@jupyter-widgets/controls",
          "model_name": "HTMLModel",
          "model_module_version": "1.5.0",
          "state": {
            "_dom_classes": [],
            "_model_module": "@jupyter-widgets/controls",
            "_model_module_version": "1.5.0",
            "_model_name": "HTMLModel",
            "_view_count": null,
            "_view_module": "@jupyter-widgets/controls",
            "_view_module_version": "1.5.0",
            "_view_name": "HTMLView",
            "description": "",
            "description_tooltip": null,
            "layout": "IPY_MODEL_bf3215f8874046abad030005d28e5602",
            "placeholder": "​",
            "style": "IPY_MODEL_10a4fd5aaf134c91933327f9b5880893",
            "value": "100%"
          }
        },
        "f82fbc059d994a2fbe87e14ca0f2dea0": {
          "model_module": "@jupyter-widgets/controls",
          "model_name": "FloatProgressModel",
          "model_module_version": "1.5.0",
          "state": {
            "_dom_classes": [],
            "_model_module": "@jupyter-widgets/controls",
            "_model_module_version": "1.5.0",
            "_model_name": "FloatProgressModel",
            "_view_count": null,
            "_view_module": "@jupyter-widgets/controls",
            "_view_module_version": "1.5.0",
            "_view_name": "ProgressView",
            "bar_style": "success",
            "description": "",
            "description_tooltip": null,
            "layout": "IPY_MODEL_f317f5f3eed64ec88c075a77d1ef8380",
            "max": 4542,
            "min": 0,
            "orientation": "horizontal",
            "style": "IPY_MODEL_6c17f70194264ecc92d1ac727cc95446",
            "value": 4542
          }
        },
        "77682f3092b44495a80658763be7cc4e": {
          "model_module": "@jupyter-widgets/controls",
          "model_name": "HTMLModel",
          "model_module_version": "1.5.0",
          "state": {
            "_dom_classes": [],
            "_model_module": "@jupyter-widgets/controls",
            "_model_module_version": "1.5.0",
            "_model_name": "HTMLModel",
            "_view_count": null,
            "_view_module": "@jupyter-widgets/controls",
            "_view_module_version": "1.5.0",
            "_view_name": "HTMLView",
            "description": "",
            "description_tooltip": null,
            "layout": "IPY_MODEL_6b54da4c4473495da3c88bdf6db339ef",
            "placeholder": "​",
            "style": "IPY_MODEL_748ced62eb3946e4adc43c9d6538682b",
            "value": " 4542/4542 [00:00&lt;00:00, 109621.25it/s]"
          }
        },
        "8063a99eb069490ea0380ef906ebe7be": {
          "model_module": "@jupyter-widgets/base",
          "model_name": "LayoutModel",
          "model_module_version": "1.2.0",
          "state": {
            "_model_module": "@jupyter-widgets/base",
            "_model_module_version": "1.2.0",
            "_model_name": "LayoutModel",
            "_view_count": null,
            "_view_module": "@jupyter-widgets/base",
            "_view_module_version": "1.2.0",
            "_view_name": "LayoutView",
            "align_content": null,
            "align_items": null,
            "align_self": null,
            "border": null,
            "bottom": null,
            "display": null,
            "flex": null,
            "flex_flow": null,
            "grid_area": null,
            "grid_auto_columns": null,
            "grid_auto_flow": null,
            "grid_auto_rows": null,
            "grid_column": null,
            "grid_gap": null,
            "grid_row": null,
            "grid_template_areas": null,
            "grid_template_columns": null,
            "grid_template_rows": null,
            "height": null,
            "justify_content": null,
            "justify_items": null,
            "left": null,
            "margin": null,
            "max_height": null,
            "max_width": null,
            "min_height": null,
            "min_width": null,
            "object_fit": null,
            "object_position": null,
            "order": null,
            "overflow": null,
            "overflow_x": null,
            "overflow_y": null,
            "padding": null,
            "right": null,
            "top": null,
            "visibility": null,
            "width": null
          }
        },
        "bf3215f8874046abad030005d28e5602": {
          "model_module": "@jupyter-widgets/base",
          "model_name": "LayoutModel",
          "model_module_version": "1.2.0",
          "state": {
            "_model_module": "@jupyter-widgets/base",
            "_model_module_version": "1.2.0",
            "_model_name": "LayoutModel",
            "_view_count": null,
            "_view_module": "@jupyter-widgets/base",
            "_view_module_version": "1.2.0",
            "_view_name": "LayoutView",
            "align_content": null,
            "align_items": null,
            "align_self": null,
            "border": null,
            "bottom": null,
            "display": null,
            "flex": null,
            "flex_flow": null,
            "grid_area": null,
            "grid_auto_columns": null,
            "grid_auto_flow": null,
            "grid_auto_rows": null,
            "grid_column": null,
            "grid_gap": null,
            "grid_row": null,
            "grid_template_areas": null,
            "grid_template_columns": null,
            "grid_template_rows": null,
            "height": null,
            "justify_content": null,
            "justify_items": null,
            "left": null,
            "margin": null,
            "max_height": null,
            "max_width": null,
            "min_height": null,
            "min_width": null,
            "object_fit": null,
            "object_position": null,
            "order": null,
            "overflow": null,
            "overflow_x": null,
            "overflow_y": null,
            "padding": null,
            "right": null,
            "top": null,
            "visibility": null,
            "width": null
          }
        },
        "10a4fd5aaf134c91933327f9b5880893": {
          "model_module": "@jupyter-widgets/controls",
          "model_name": "DescriptionStyleModel",
          "model_module_version": "1.5.0",
          "state": {
            "_model_module": "@jupyter-widgets/controls",
            "_model_module_version": "1.5.0",
            "_model_name": "DescriptionStyleModel",
            "_view_count": null,
            "_view_module": "@jupyter-widgets/base",
            "_view_module_version": "1.2.0",
            "_view_name": "StyleView",
            "description_width": ""
          }
        },
        "f317f5f3eed64ec88c075a77d1ef8380": {
          "model_module": "@jupyter-widgets/base",
          "model_name": "LayoutModel",
          "model_module_version": "1.2.0",
          "state": {
            "_model_module": "@jupyter-widgets/base",
            "_model_module_version": "1.2.0",
            "_model_name": "LayoutModel",
            "_view_count": null,
            "_view_module": "@jupyter-widgets/base",
            "_view_module_version": "1.2.0",
            "_view_name": "LayoutView",
            "align_content": null,
            "align_items": null,
            "align_self": null,
            "border": null,
            "bottom": null,
            "display": null,
            "flex": null,
            "flex_flow": null,
            "grid_area": null,
            "grid_auto_columns": null,
            "grid_auto_flow": null,
            "grid_auto_rows": null,
            "grid_column": null,
            "grid_gap": null,
            "grid_row": null,
            "grid_template_areas": null,
            "grid_template_columns": null,
            "grid_template_rows": null,
            "height": null,
            "justify_content": null,
            "justify_items": null,
            "left": null,
            "margin": null,
            "max_height": null,
            "max_width": null,
            "min_height": null,
            "min_width": null,
            "object_fit": null,
            "object_position": null,
            "order": null,
            "overflow": null,
            "overflow_x": null,
            "overflow_y": null,
            "padding": null,
            "right": null,
            "top": null,
            "visibility": null,
            "width": null
          }
        },
        "6c17f70194264ecc92d1ac727cc95446": {
          "model_module": "@jupyter-widgets/controls",
          "model_name": "ProgressStyleModel",
          "model_module_version": "1.5.0",
          "state": {
            "_model_module": "@jupyter-widgets/controls",
            "_model_module_version": "1.5.0",
            "_model_name": "ProgressStyleModel",
            "_view_count": null,
            "_view_module": "@jupyter-widgets/base",
            "_view_module_version": "1.2.0",
            "_view_name": "StyleView",
            "bar_color": null,
            "description_width": ""
          }
        },
        "6b54da4c4473495da3c88bdf6db339ef": {
          "model_module": "@jupyter-widgets/base",
          "model_name": "LayoutModel",
          "model_module_version": "1.2.0",
          "state": {
            "_model_module": "@jupyter-widgets/base",
            "_model_module_version": "1.2.0",
            "_model_name": "LayoutModel",
            "_view_count": null,
            "_view_module": "@jupyter-widgets/base",
            "_view_module_version": "1.2.0",
            "_view_name": "LayoutView",
            "align_content": null,
            "align_items": null,
            "align_self": null,
            "border": null,
            "bottom": null,
            "display": null,
            "flex": null,
            "flex_flow": null,
            "grid_area": null,
            "grid_auto_columns": null,
            "grid_auto_flow": null,
            "grid_auto_rows": null,
            "grid_column": null,
            "grid_gap": null,
            "grid_row": null,
            "grid_template_areas": null,
            "grid_template_columns": null,
            "grid_template_rows": null,
            "height": null,
            "justify_content": null,
            "justify_items": null,
            "left": null,
            "margin": null,
            "max_height": null,
            "max_width": null,
            "min_height": null,
            "min_width": null,
            "object_fit": null,
            "object_position": null,
            "order": null,
            "overflow": null,
            "overflow_x": null,
            "overflow_y": null,
            "padding": null,
            "right": null,
            "top": null,
            "visibility": null,
            "width": null
          }
        },
        "748ced62eb3946e4adc43c9d6538682b": {
          "model_module": "@jupyter-widgets/controls",
          "model_name": "DescriptionStyleModel",
          "model_module_version": "1.5.0",
          "state": {
            "_model_module": "@jupyter-widgets/controls",
            "_model_module_version": "1.5.0",
            "_model_name": "DescriptionStyleModel",
            "_view_count": null,
            "_view_module": "@jupyter-widgets/base",
            "_view_module_version": "1.2.0",
            "_view_name": "StyleView",
            "description_width": ""
          }
        }
      }
    }
  },
  "cells": [
    {
      "cell_type": "markdown",
      "metadata": {
        "id": "view-in-github",
        "colab_type": "text"
      },
      "source": [
        "<a href=\"https://colab.research.google.com/github/DDiekmann/Applied-Verification-Lab-Neural-Networks/blob/main/Tutorials/Verification_by_abstraction_with_eran.ipynb\" target=\"_parent\"><img src=\"https://colab.research.google.com/assets/colab-badge.svg\" alt=\"Open In Colab\"/></a>"
      ]
    },
    {
      "cell_type": "markdown",
      "source": [
        "# Tutorial for Neural Network Verification with ERAN\n",
        "\n",
        "---\n",
        "\n",
        "*This tutorial gives an overview of the features of ERAN. \\\\\n",
        "\"ETH Robustness Analyzer for Neural Networks (ERAN) is a state-of-the-art sound, precise, scalable, and extensible analyzer based on abstract interpretation for the complete and incomplete verification\". \\\\\n",
        "First, we will use the example of a neural network trained on the IRIS dataset to show how abstract verification can be performed using zonotopes. For this purpose, a network is first trained on the data, then saved in ONNX format and then verified with ERAN. \\\\\n",
        "Second, we try to verifiy the **robustness** of a classification Network trained on the MNIST dataset.*\n",
        "\n",
        "Important Links:\n",
        "- [ERANs Github Repo](https://github.com/eth-sri/eran)\n",
        "- [ERANs documentation](https://files.sri.inf.ethz.ch/eran/docs/eran_manual.pdf)\n",
        "\n",
        "---\n",
        "\n",
        "**This is a interactive tutorials. So feel free to experiment and change stuff. In every spot we think it would be intersting to change some stuff around we put this little icon.**\n",
        "\n",
        "<img src=\"https://upload.wikimedia.org/wikipedia/commons/thumb/6/64/Edit_icon_%28the_Noun_Project_30184%29.svg/1024px-Edit_icon_%28the_Noun_Project_30184%29.svg.png\" alt=\"drawing\" width=\"50\"/>\n",
        "\n",
        "---"
      ],
      "metadata": {
        "id": "4sgHPyzZd9Sq"
      }
    },
    {
      "cell_type": "markdown",
      "source": [
        "![img](https://raw.githubusercontent.com/eth-sri/eran/master/overview.png)"
      ],
      "metadata": {
        "id": "ORqUKV3lET-y"
      }
    },
    {
      "cell_type": "markdown",
      "source": [
        "# Preperation\n",
        "\n",
        "First we have to prepare our working environment. This takes around 7 minutes.\n",
        "\n",
        "If you want to, you can take the time to look at the therotical background for abstract verification in this [book](https://arxiv.org/pdf/2109.10317.pdf). It gives an introductions into different forms of verification of neural networks. The chapter 9 explains the basics of zonotope abstraction, which is used in this tutorial."
      ],
      "metadata": {
        "id": "5hdDqmYjIUdG"
      }
    },
    {
      "cell_type": "markdown",
      "source": [
        "## Installation\n",
        "\n",
        "First we need to install some required packages. \\\\\n",
        "(We are using a fork of ERAN here, because of a bug in their code. This will change in the future, should the bug be fixed)"
      ],
      "metadata": {
        "id": "0GX9xgN5EjXp"
      }
    },
    {
      "cell_type": "code",
      "source": [
        "%%capture\n",
        "%%bash\n",
        "\n",
        "git clone https://github.com/DDiekmann/eran.git\n",
        "\n",
        "sudo apt install m4\n",
        "sudo apt install build-essential\n",
        "sudo apt install autoconf\n",
        "sudo apt install libtool\n",
        "sudo apt install texlive-latex-base\n",
        "\n",
        "cd eran\n",
        "sudo bash ./install.sh\n",
        "pip install -r requirements.txt\n",
        "pip install onnx onnxruntime"
      ],
      "metadata": {
        "id": "YT7GCZXCeIsH"
      },
      "execution_count": null,
      "outputs": []
    },
    {
      "cell_type": "markdown",
      "source": [
        "## Imports\n",
        "\n",
        "Next we need to import the required libraries."
      ],
      "metadata": {
        "id": "aUGl-42VIYZ1"
      }
    },
    {
      "cell_type": "code",
      "source": [
        "%%capture\n",
        "\n",
        "import torch\n",
        "from torch import nn\n",
        "import numpy as np\n",
        "import torch.onnx\n",
        "import sys\n",
        "\n",
        "import matplotlib.pyplot as plt\n",
        "\n",
        "!wget --no-cache --backups=1 {'https://raw.githubusercontent.com/DDiekmann/Applied-Verification-Lab-Neural-Networks/main/lib/iris_trainer.py'}\n",
        "import iris_trainer\n",
        "\n",
        "!wget --no-cache --backups=1 {'https://raw.githubusercontent.com/DDiekmann/Applied-Verification-Lab-Neural-Networks/main/lib/mnist_trainer.py'}\n",
        "import mnist_trainer\n",
        "\n",
        "!wget --no-cache --backups=1 {'https://raw.githubusercontent.com/DDiekmann/Applied-Verification-Lab-Neural-Networks/main/lib/plots.py'}\n",
        "import plots\n",
        "\n",
        "!wget --no-cache --backups=1 {'https://raw.githubusercontent.com/DDiekmann/zonotpy/main/src/zonotope.py'}\n",
        "from zonotope import zono"
      ],
      "metadata": {
        "id": "a7ryCxcGehat"
      },
      "execution_count": 133,
      "outputs": []
    },
    {
      "cell_type": "markdown",
      "source": [
        "# Training of a simple neural network\n",
        "\n",
        "In this section we will first define a neural network and train it on the [IRIS dataset](https://archive.ics.uci.edu/ml/datasets/iris). This will be saved in ONNX format."
      ],
      "metadata": {
        "id": "tC_p5OAYIoOu"
      }
    },
    {
      "cell_type": "markdown",
      "source": [
        "## Definition of the Neural Network\n",
        "We define a network with one linear layer and ReLU as activation function. \n",
        "\n",
        "<img src=\"https://upload.wikimedia.org/wikipedia/commons/thumb/6/64/Edit_icon_%28the_Noun_Project_30184%29.svg/1024px-Edit_icon_%28the_Noun_Project_30184%29.svg.png\" alt=\"drawing\" width=\"50\"/>"
      ],
      "metadata": {
        "id": "be6Gj0sIHE5y"
      }
    },
    {
      "cell_type": "code",
      "source": [
        "class NeuralNetwork(nn.Module):\n",
        "    def __init__(self, input_dim, output_dim, number_of_neurons):\n",
        "        super(NeuralNetwork, self).__init__()\n",
        "        self.linear_relu_stack = nn.Sequential(\n",
        "            nn.Linear(input_dim, number_of_neurons),\n",
        "            nn.ReLU(),\n",
        "            nn.Linear(number_of_neurons, output_dim),\n",
        "        )\n",
        "\n",
        "    def forward(self, x):\n",
        "        logits = self.linear_relu_stack(x)\n",
        "        return logits"
      ],
      "metadata": {
        "id": "qEZG7ZZg6I0j"
      },
      "execution_count": 50,
      "outputs": []
    },
    {
      "cell_type": "markdown",
      "source": [
        "## Training\n",
        "The model is then trained on the iris dataset."
      ],
      "metadata": {
        "id": "hdGIwABcHTK2"
      }
    },
    {
      "cell_type": "code",
      "source": [
        "names, feature_names, X, y, X_scaled, X_train, X_test, y_train, y_test = iris_trainer.load_dataset()\n",
        "\n",
        "model = iris_trainer.train_model(\n",
        "    NeuralNetwork(input_dim=X_train.shape[1], output_dim=3, number_of_neurons=10), \n",
        "    epochs=200, \n",
        "    X_train=X_train, \n",
        "    X_test=X_test, \n",
        "    y_train=y_train, \n",
        "    y_test=y_test)"
      ],
      "metadata": {
        "colab": {
          "base_uri": "https://localhost:8080/"
        },
        "id": "5VAdEWM9G49w",
        "outputId": "3d27325d-e827-482b-c65a-1b2f1ffb6023"
      },
      "execution_count": 123,
      "outputs": [
        {
          "output_type": "stream",
          "name": "stdout",
          "text": [
            "Shape of X (data): (150, 4)\n",
            "Shape of y (target): (150,) int64\n",
            "Example of x and y pair: [5.1 3.5 1.4 0.2] 0\n",
            "Shape of training set X (120, 4)\n",
            "Shape of test set X (30, 4)\n"
          ]
        },
        {
          "output_type": "stream",
          "name": "stderr",
          "text": [
            "100%|██████████| 200/200 [00:00<00:00, 645.04it/s]"
          ]
        },
        {
          "output_type": "stream",
          "name": "stdout",
          "text": [
            "\n",
            "Done. Accuracy: 0.8333333333333334\n"
          ]
        },
        {
          "output_type": "stream",
          "name": "stderr",
          "text": [
            "\n"
          ]
        }
      ]
    },
    {
      "cell_type": "markdown",
      "source": [
        "## Visualization\n",
        "The plots below show the ground truth values and the classification made by the network on the data. "
      ],
      "metadata": {
        "id": "JFG2Y6b2HbHg"
      }
    },
    {
      "cell_type": "code",
      "source": [
        "plots.show_plots(names, feature_names, X_scaled, y, title = 'Ground Truth')\n",
        "plots.show_plots(names, feature_names, X_scaled, iris_trainer.predict(X_scaled, model), title = 'Classification from our network')"
      ],
      "metadata": {
        "colab": {
          "base_uri": "https://localhost:8080/",
          "height": 845
        },
        "id": "ZrGC024sG8lB",
        "outputId": "9d14368f-8471-4090-830b-6291f20157d0"
      },
      "execution_count": 124,
      "outputs": [
        {
          "output_type": "display_data",
          "data": {
            "text/plain": [
              "<Figure size 1152x432 with 2 Axes>"
            ],
            "image/png": "[encoded data removed]"
          },
          "metadata": {
            "needs_background": "light"
          }
        },
        {
          "output_type": "display_data",
          "data": {
            "text/plain": [
              "<Figure size 1152x432 with 2 Axes>"
            ],
            "image/png": "[encoded data removed]"
          },
          "metadata": {
            "needs_background": "light"
          }
        }
      ]
    },
    {
      "cell_type": "markdown",
      "source": [
        "## Save the network\n",
        "The network is then exported to a ONNX file."
      ],
      "metadata": {
        "id": "qX8ZXCSXH8yW"
      }
    },
    {
      "cell_type": "code",
      "source": [
        "model_filename = \"iris_net.onnx\"\n",
        "dummy_input=torch.randn(1, 4)\n",
        "\n",
        "# set model to eval mode\n",
        "model.eval()\n",
        "\n",
        "# create a dummy input in the shape of the input values\n",
        "device = \"cuda\" if torch.cuda.is_available() else \"cpu\"\n",
        "dummy_input = dummy_input.to(device)\n",
        "\n",
        "torch.onnx.export(model,\n",
        "                  dummy_input,\n",
        "                  model_filename,\n",
        "                  export_params=True,\n",
        "                  verbose=False,\n",
        "                  input_names=['data'],\n",
        "                  output_names=['classification'],\n",
        "                  )"
      ],
      "metadata": {
        "id": "fnldKAA2AiSD"
      },
      "execution_count": 125,
      "outputs": []
    },
    {
      "cell_type": "markdown",
      "source": [
        "# Verifications with Zonotope Abstraction\n",
        "\n",
        "In the next steps we define a zonotope for abstract verification of the network with ERAN.\n",
        "The verification will then be performed using ERAN on the network with the defined zonotope."
      ],
      "metadata": {
        "id": "jWvx85c5c-9H"
      }
    },
    {
      "cell_type": "markdown",
      "source": [
        "## Definition of the zonotope\n",
        "In order to use ERAN on a custom dataset and network, one needs to define the zonotope used in abstract verification. \\\n",
        "For an explanation on zonotopes see for example this [website](https://mitadmissions.org/blogs/entry/what-is-a-zonotope/). \\\n",
        "As described in the [manual of ERAN](https://files.sri.inf.ethz.ch/eran/docs/eran_manual.pdf), \"the zonotope file\n",
        "has two integers followed by a number of floats. The numbers can be separated by spaces, commas, or newlines. The first integer denotes the input dimension (e.g. 784 for MNIST).\n",
        "The second integer is one plus the number of error terms of the zonotope. The number of floats is the two integers multiplied. Looking at an input of $i = [x0, x1, ... , xk]$, the file has all $\\alpha$ values of the affine forms following each other.\""
      ],
      "metadata": {
        "id": "ZHEXXGZ2IGjo"
      }
    },
    {
      "cell_type": "markdown",
      "source": [
        "We first want a small zonotope surrounding a point in the dataset. The chance, that we can successfully verify the robustness of the network here is probably high. \\\n",
        "Therefore, we take the first value of X and Y:"
      ],
      "metadata": {
        "id": "tgCyWrSBKmd3"
      }
    },
    {
      "cell_type": "code",
      "source": [
        "print(X_scaled[0])\n",
        "print(y[0])"
      ],
      "metadata": {
        "colab": {
          "base_uri": "https://localhost:8080/"
        },
        "id": "I9EbbJN9fnVM",
        "outputId": "4bfd81fc-7204-496e-bf76-2e8afc435608"
      },
      "execution_count": 57,
      "outputs": [
        {
          "output_type": "stream",
          "name": "stdout",
          "text": [
            "[-0.90068117  1.01900435 -1.34022653 -1.3154443 ]\n",
            "0\n"
          ]
        }
      ]
    },
    {
      "cell_type": "markdown",
      "source": [
        "As we can see, the input values are roughly $[-0.9, 1.02, -1.34, -1.32]$. The classification label for that input is $0$. If we visualize this in the graph of our ground truth data, we can see, that there is some space around it, which should only be classified as 'setosa'. \n",
        "\n",
        "*The point is marked by the red cross.*"
      ],
      "metadata": {
        "id": "qGeEb24MLBC9"
      }
    },
    {
      "cell_type": "code",
      "source": [
        "fig, ax = plt.subplots(1, 2)\n",
        "fig.set_size_inches(18, 7)\n",
        "\n",
        "plots.show_plots(names, feature_names, X_scaled, y, title = 'Ground Truth', fig=fig, ax1= ax[0], ax2=ax[1])\n",
        "ax[0].plot(X_scaled[0][0], X_scaled[0][1], marker=\"X\", markersize=14, markerfacecolor=\"red\")\n",
        "ax[1].plot(X_scaled[0][2], X_scaled[0][3], marker=\"X\", markersize=14, markerfacecolor=\"red\")"
      ],
      "metadata": {
        "colab": {
          "base_uri": "https://localhost:8080/",
          "height": 510
        },
        "id": "PiKiU2oUeBWn",
        "outputId": "8770a31b-a53b-470e-d337-a3b1b07a671b"
      },
      "execution_count": 59,
      "outputs": [
        {
          "output_type": "execute_result",
          "data": {
            "text/plain": [
              "[<matplotlib.lines.Line2D at 0x7f8b285c79d0>]"
            ]
          },
          "metadata": {},
          "execution_count": 59
        },
        {
          "output_type": "display_data",
          "data": {
            "text/plain": [
              "<Figure size 1296x504 with 2 Axes>"
            ],
            "image/png": "[encoded data removed]"
          },
          "metadata": {
            "needs_background": "light"
          }
        }
      ]
    },
    {
      "cell_type": "markdown",
      "source": [
        "We now describe our zonotope. If you are not familiar with zonotope description with generators you can find some information in this [book](https://arxiv.org/pdf/2109.10317.pdf) in chapter 9. \n",
        "\n",
        "**Lets start with a really small zonotope. Which is defined as follows:** "
      ],
      "metadata": {
        "id": "L1d65NndKFTm"
      }
    },
    {
      "cell_type": "code",
      "source": [
        "%%writefile small_zonotope_example.txt\n",
        "4\n",
        "3\n",
        "-0.90068117 0.03 0.0 \n",
        "1.01900435 0.0 0.03 \n",
        "-1.34022653  0.03 0.0 \n",
        "-1.3154443  0.0 0.03"
      ],
      "metadata": {
        "colab": {
          "base_uri": "https://localhost:8080/"
        },
        "id": "GAcpKOZaA5-K",
        "outputId": "aad76dc2-3b34-4658-adf9-8606d58bc3dd"
      },
      "execution_count": 161,
      "outputs": [
        {
          "output_type": "stream",
          "name": "stdout",
          "text": [
            "Overwriting small_zonotope_example.txt\n"
          ]
        }
      ]
    },
    {
      "cell_type": "markdown",
      "source": [
        "This zonotpe creates a 4 dimensional cube, which is hard to look at for us humans. But we can view at in the already seen graphs.For this we have to zoom in a lot, because the zonotope is very small."
      ],
      "metadata": {
        "id": "lYQLqKp-gfi8"
      }
    },
    {
      "cell_type": "code",
      "source": [
        "fig, ax = plt.subplots(1, 2)\n",
        "fig.set_size_inches(18, 7)\n",
        "\n",
        "plots.show_plots(names, feature_names, X_scaled[:5], y[:5], title = 'Ground Truth', fig=fig, ax1= ax[0], ax2=ax[1])\n",
        "\n",
        "z = zono.from_file(\"small_zonotope_example.txt\")\n",
        "z1, z2 = z.split()\n",
        "z1.visualize(shape = True, fig=fig, ax=ax[0])\n",
        "z2.visualize(shape = True, fig=fig, ax=ax[1])"
      ],
      "metadata": {
        "id": "unk299UtgqBJ",
        "colab": {
          "base_uri": "https://localhost:8080/",
          "height": 493
        },
        "outputId": "71bbc373-e5d3-4cc5-8027-b5858ff1035d"
      },
      "execution_count": 165,
      "outputs": [
        {
          "output_type": "display_data",
          "data": {
            "text/plain": [
              "<Figure size 1296x504 with 2 Axes>"
            ],
            "image/png": "[encoded data removed]"
          },
          "metadata": {
            "needs_background": "light"
          }
        }
      ]
    },
    {
      "cell_type": "markdown",
      "source": [
        "## Abstract verification with ERAN\n",
        "Now we can run the verificator of ERAN on the model with use of the defined zonotope. \n",
        "\n",
        "For this follwing parameters have to be provided:\n",
        "* --netname : the location of the onnx file \n",
        "* --zonotope : the location of the zonotope file we just created \n",
        "* --domain : which domain should be used (we use the domain 'deepzono', if you want to have a look at other domains, the manual will help you) "
      ],
      "metadata": {
        "id": "cpTXbfcYKJxg"
      }
    },
    {
      "cell_type": "code",
      "source": [
        "%%bash\n",
        "cd eran/tf_verify/\n",
        "\n",
        "python3 . --netname ../../iris_net.onnx --zonotope ../../small_zonotope_example.txt --domain deepzono"
      ],
      "metadata": {
        "colab": {
          "base_uri": "https://localhost:8080/"
        },
        "id": "bJ218kHX6mfK",
        "outputId": "689adc57-6009-4a68-ce69-6ad20f2d5f22"
      },
      "execution_count": 162,
      "outputs": [
        {
          "output_type": "stream",
          "name": "stdout",
          "text": [
            "{'approx_k': True,\n",
            " 'attack': False,\n",
            " 'complete': False,\n",
            " 'data_dir': None,\n",
            " 'dataset': None,\n",
            " 'debug': False,\n",
            " 'delta': 0.3,\n",
            " 'domain': 'deepzono',\n",
            " 'epsfile': None,\n",
            " 'epsilon': 0,\n",
            " 'from_test': 0,\n",
            " 'gamma': inf,\n",
            " 'geometric': False,\n",
            " 'geometric_config': None,\n",
            " 'input_box': None,\n",
            " 'k': 3,\n",
            " 'logdir': None,\n",
            " 'logname': None,\n",
            " 'max_milp_neurons': 30,\n",
            " 'mean': None,\n",
            " 'n_milp_refine': 1,\n",
            " 'netname': '../../iris_net.onnx',\n",
            " 'normalized_region': True,\n",
            " 'num_params': 0,\n",
            " 'num_tests': None,\n",
            " 'numproc': 2,\n",
            " 'output_constraints': None,\n",
            " 'partial_milp': 0,\n",
            " 'quant_step': None,\n",
            " 'refine_neurons': False,\n",
            " 's': -2,\n",
            " 'sparse_n': 70,\n",
            " 'spatial': False,\n",
            " 'specnumber': None,\n",
            " 'std': None,\n",
            " 'subset': None,\n",
            " 't_norm': 'inf',\n",
            " 'target': None,\n",
            " 'timeout_complete': None,\n",
            " 'timeout_final_lp': 100,\n",
            " 'timeout_final_milp': 100,\n",
            " 'timeout_lp': 1,\n",
            " 'timeout_milp': 1,\n",
            " 'use_default_heuristic': True,\n",
            " 'use_milp': True,\n",
            " 'vnn_lib_spec': None,\n",
            " 'zonotope': '../../small_zonotope_example.txt'}\n",
            "netname  ../../iris_net.onnx  epsilon  0  domain  deepzono  dataset  None args complete  False  complete  False  timeout_lp  1\n",
            "This network has 10 neurons.\n",
            "nlb  [1.4098315422693364, -0.49327635819197285, -1.9458545682197226]\n",
            "nub  [1.4504346666345953, -0.455261065573977, -1.8944465579897332]\n",
            "Verified\n"
          ]
        },
        {
          "output_type": "stream",
          "name": "stderr",
          "text": [
            "2022-07-20 09:05:51.502059: E tensorflow/stream_executor/cuda/cuda_driver.cc:271] failed call to cuInit: CUDA_ERROR_NO_DEVICE: no CUDA-capable device is detected\n",
            "./optimizer.py:26: UserWarning: gpupoly not available.\n",
            "  warnings.warn(\"gpupoly not available.\")\n"
          ]
        }
      ]
    },
    {
      "cell_type": "markdown",
      "source": [
        "The verifcation returns multiple pieces of information.\n",
        "\n",
        "First we can see, for our input zonotope robustness could be verified. In addition we are given the nlb (lower bound) and nub (upper bound) of our output zonotope.\n",
        "\n",
        "Because the lower bound in our first dimension is higher than the upper bounds in the second and third dimension, our network will classify all points in our input zonotope as 'setosa'. This is what we expected.\n",
        "\n",
        "But what if we make it bigger? 😲\n"
      ],
      "metadata": {
        "id": "TbkeURhekE1V"
      }
    },
    {
      "cell_type": "markdown",
      "source": [
        "## Another zonotope\n",
        "In the next step, we select the same point as before as the centre of the zonotope, but make the zonotope significantly larger. What can we expect from the verification? \n",
        "\n",
        "<img src=\"https://upload.wikimedia.org/wikipedia/commons/thumb/6/64/Edit_icon_%28the_Noun_Project_30184%29.svg/1024px-Edit_icon_%28the_Noun_Project_30184%29.svg.png\" alt=\"drawing\" width=\"50\"/>"
      ],
      "metadata": {
        "id": "y6b1VAehLh8e"
      }
    },
    {
      "cell_type": "code",
      "source": [
        "%%writefile big_zonotope_example.txt\n",
        "4\n",
        "3\n",
        "-0.90068117 2 0.0 \n",
        "1.01900435 0.0 2 \n",
        "-1.34022653 2 0.0 \n",
        "-1.3154443 0.0 2"
      ],
      "metadata": {
        "colab": {
          "base_uri": "https://localhost:8080/"
        },
        "id": "NnsV0OUL6Rbs",
        "outputId": "24f4f5a0-558c-436b-a238-a68e8826f72a"
      },
      "execution_count": 169,
      "outputs": [
        {
          "output_type": "stream",
          "name": "stdout",
          "text": [
            "Overwriting big_zonotope_example.txt\n"
          ]
        }
      ]
    },
    {
      "cell_type": "code",
      "source": [
        "fig, ax = plt.subplots(1, 2)\n",
        "fig.set_size_inches(18, 7)\n",
        "\n",
        "plots.show_plots(names, feature_names, X_scaled, y, title = 'Ground Truth', fig=fig, ax1= ax[0], ax2=ax[1])\n",
        "\n",
        "z = zono.from_file(\"big_zonotope_example.txt\")\n",
        "z1, z2 = z.split()\n",
        "z1.visualize(shape = True, fig=fig, ax=ax[0])\n",
        "z2.visualize(shape = True, fig=fig, ax=ax[1])"
      ],
      "metadata": {
        "colab": {
          "base_uri": "https://localhost:8080/",
          "height": 493
        },
        "id": "T_czkAOqnKH0",
        "outputId": "10d8338b-70b8-4175-fc27-b03f208abf52"
      },
      "execution_count": 170,
      "outputs": [
        {
          "output_type": "display_data",
          "data": {
            "text/plain": [
              "<Figure size 1296x504 with 2 Axes>"
            ],
            "image/png": "[encoded data removed]"
          },
          "metadata": {
            "needs_background": "light"
          }
        }
      ]
    },
    {
      "cell_type": "code",
      "source": [
        "%%bash\n",
        "cd eran/tf_verify/\n",
        "\n",
        "python3 . --netname ../../iris_net.onnx --zonotope ../../big_zonotope_example.txt --domain deepzono --debug true "
      ],
      "metadata": {
        "colab": {
          "base_uri": "https://localhost:8080/"
        },
        "id": "1GnAWwRBBuuB",
        "outputId": "e61f3f30-4cab-46e5-ec32-79657739d0e6"
      },
      "execution_count": 171,
      "outputs": [
        {
          "output_type": "stream",
          "name": "stdout",
          "text": [
            "{'approx_k': True,\n",
            " 'attack': False,\n",
            " 'complete': False,\n",
            " 'data_dir': None,\n",
            " 'dataset': None,\n",
            " 'debug': True,\n",
            " 'delta': 0.3,\n",
            " 'domain': 'deepzono',\n",
            " 'epsfile': None,\n",
            " 'epsilon': 0,\n",
            " 'from_test': 0,\n",
            " 'gamma': inf,\n",
            " 'geometric': False,\n",
            " 'geometric_config': None,\n",
            " 'input_box': None,\n",
            " 'k': 3,\n",
            " 'logdir': None,\n",
            " 'logname': None,\n",
            " 'max_milp_neurons': 30,\n",
            " 'mean': None,\n",
            " 'n_milp_refine': 1,\n",
            " 'netname': '../../iris_net.onnx',\n",
            " 'normalized_region': True,\n",
            " 'num_params': 0,\n",
            " 'num_tests': None,\n",
            " 'numproc': 2,\n",
            " 'output_constraints': None,\n",
            " 'partial_milp': 0,\n",
            " 'quant_step': None,\n",
            " 'refine_neurons': False,\n",
            " 's': -2,\n",
            " 'sparse_n': 70,\n",
            " 'spatial': False,\n",
            " 'specnumber': None,\n",
            " 'std': None,\n",
            " 'subset': None,\n",
            " 't_norm': 'inf',\n",
            " 'target': None,\n",
            " 'timeout_complete': None,\n",
            " 'timeout_final_lp': 100,\n",
            " 'timeout_final_milp': 100,\n",
            " 'timeout_lp': 1,\n",
            " 'timeout_milp': 1,\n",
            " 'use_default_heuristic': True,\n",
            " 'use_milp': True,\n",
            " 'vnn_lib_spec': None,\n",
            " 'zonotope': '../../big_zonotope_example.txt'}\n",
            "netname  ../../iris_net.onnx  epsilon  0  domain  deepzono  dataset  None args complete  False  complete  False  timeout_lp  1\n",
            "This network has 10 neurons.\n",
            "nlb  [-1.5399238972226215, -2.5147959416134698, -4.923270317294783]\n",
            "nub  [3.9724499778614293, 1.325925577128069, 1.3306348210068286]\n",
            "Failed\n"
          ]
        },
        {
          "output_type": "stream",
          "name": "stderr",
          "text": [
            "2022-07-20 09:09:16.859430: E tensorflow/stream_executor/cuda/cuda_driver.cc:271] failed call to cuInit: CUDA_ERROR_NO_DEVICE: no CUDA-capable device is detected\n",
            "./optimizer.py:26: UserWarning: gpupoly not available.\n",
            "  warnings.warn(\"gpupoly not available.\")\n"
          ]
        }
      ]
    },
    {
      "cell_type": "markdown",
      "source": [
        "As we can see, the robustness of the network could not be verified with a larger zonotope. \n",
        "\n",
        "Maybe you can find some more examples and that way investigate the robustness of this very small network."
      ],
      "metadata": {
        "id": "8F-70HbjMXLc"
      }
    },
    {
      "cell_type": "markdown",
      "source": [
        "# Verification of a bit more complex neural network"
      ],
      "metadata": {
        "id": "XPlDEXUNK3HV"
      }
    },
    {
      "cell_type": "markdown",
      "source": [
        "## Definition of the Neural Network\n",
        "\n",
        "We define a network with one linear layer and ReLU as activation function. \n",
        "\n",
        "<img src=\"https://upload.wikimedia.org/wikipedia/commons/thumb/6/64/Edit_icon_%28the_Noun_Project_30184%29.svg/1024px-Edit_icon_%28the_Noun_Project_30184%29.svg.png\" alt=\"drawing\" width=\"50\"/>"
      ],
      "metadata": {
        "id": "cOjZCOQwIaUn"
      }
    },
    {
      "cell_type": "code",
      "source": [
        "class NeuralNetwork(nn.Module):\n",
        "    def __init__(self, input_dim, output_dim, number_of_neurons):\n",
        "        super(NeuralNetwork, self).__init__()\n",
        "        self.linear_relu_stack = nn.Sequential(\n",
        "            nn.Flatten(),\n",
        "            nn.Linear(input_dim, number_of_neurons),\n",
        "            nn.ReLU(),\n",
        "            nn.Linear(number_of_neurons, number_of_neurons),\n",
        "            nn.ReLU(),\n",
        "            nn.Linear(number_of_neurons, output_dim),\n",
        "        )\n",
        "\n",
        "    def forward(self, x):\n",
        "        logits = self.linear_relu_stack(x)\n",
        "        return logits"
      ],
      "metadata": {
        "id": "5p4IEz_ClDFR"
      },
      "execution_count": 134,
      "outputs": []
    },
    {
      "cell_type": "markdown",
      "source": [
        "## Training\n",
        "The model is then trained on the mnist dataset."
      ],
      "metadata": {
        "id": "kVONMGHjrT0d"
      }
    },
    {
      "cell_type": "code",
      "source": [
        "train_dataloader, test_dataloader = mnist_trainer.load_mnist_dataset(batch_size=64)\n",
        "\n",
        "model = mnist_trainer.train_model(\n",
        "    NeuralNetwork(input_dim=28*28, output_dim=10, number_of_neurons=20), \n",
        "    epochs=3, \n",
        "    train_dataloader=train_dataloader,\n",
        "    test_dataloader=test_dataloader,\n",
        "    )"
      ],
      "metadata": {
        "colab": {
          "base_uri": "https://localhost:8080/",
          "height": 787,
          "referenced_widgets": [
            "3184da12b05940cabada4316fc301afd",
            "194cbb682c62422582e77852b66513fc",
            "bf8413c1773b4eb19a3c0d0ccdb6b391",
            "951b65622130460d9ac97beb1447c6af",
            "95f82c0421ed4b94a7a32b75d84f1ca4",
            "e685d0d1c48a4740a146b48bd6939c92",
            "9d5cb96561b04db9bc17096e335eb2fb",
            "1747a41864754f7cb8b820ab41b18f6c",
            "defdb306578140a980f77b993d19e0b8",
            "0bd113ae8e1b48d18bcce695852b4d36",
            "f5d3fe134f83466c91ab41428141cf00",
            "e25a75e572b94537ab670e821bcdacb9",
            "c5d0f235a3a0469eb18523cfe5cb6b10",
            "aae116a3777f45f88b34b5d26b86ee12",
            "86d4aad536c3464a9dadc34b8ae6e031",
            "3c751dbfc95c490295c22205061c9a96",
            "6738358edb7d4e8e8c1621e070375a26",
            "ac335f8fa253490cadc15e6e1d9b3074",
            "f35d5dbe31934eeabb7c0e56115c88b1",
            "81b4bd3511fd4a06aadf2c40efd65fb4",
            "a1a47b28bb4e48f1a322cc0414ae91e0",
            "3e953bf81aca4bf7b08c9d6eca946a85",
            "8b55246811a44036898c42b21abeb507",
            "d84df0fd05f249d9a09feb97290856eb",
            "705680c60194472eb37f3c564ed95a15",
            "346d0f48e93344f38ddf1fb0c18e54f1",
            "42297310754f49bc888f447e5b544218",
            "7e0e0e53710345bf8987008f5757205b",
            "9c52c60e146549f4a219aeaeaf497c85",
            "c81dfffe60b24cdc940c5f5243bbdd8a",
            "8f70be208b8a4eb3b05cc9120b111195",
            "9e046b9936304a809ee6a526951749ac",
            "55148a75f9284373a88a7c076117beac",
            "efbe3092fd6842c3ba731e1bb426e06b",
            "d4c17ad4b20c4d3892b3864d59597850",
            "f82fbc059d994a2fbe87e14ca0f2dea0",
            "77682f3092b44495a80658763be7cc4e",
            "8063a99eb069490ea0380ef906ebe7be",
            "bf3215f8874046abad030005d28e5602",
            "10a4fd5aaf134c91933327f9b5880893",
            "f317f5f3eed64ec88c075a77d1ef8380",
            "6c17f70194264ecc92d1ac727cc95446",
            "6b54da4c4473495da3c88bdf6db339ef",
            "748ced62eb3946e4adc43c9d6538682b"
          ]
        },
        "id": "cp4tgOYXmrkC",
        "outputId": "33624c6d-6ccd-4c3a-8c7b-1d222107df24"
      },
      "execution_count": 135,
      "outputs": [
        {
          "output_type": "stream",
          "name": "stdout",
          "text": [
            "Downloading http://yann.lecun.com/exdb/mnist/train-images-idx3-ubyte.gz\n",
            "Downloading http://yann.lecun.com/exdb/mnist/train-images-idx3-ubyte.gz to data/MNIST/raw/train-images-idx3-ubyte.gz\n"
          ]
        },
        {
          "output_type": "display_data",
          "data": {
            "text/plain": [
              "  0%|          | 0/9912422 [00:00<?, ?it/s]"
            ],
            "application/vnd.jupyter.widget-view+json": {
              "version_major": 2,
              "version_minor": 0,
              "model_id": "3184da12b05940cabada4316fc301afd"
            }
          },
          "metadata": {}
        },
        {
          "output_type": "stream",
          "name": "stdout",
          "text": [
            "Extracting data/MNIST/raw/train-images-idx3-ubyte.gz to data/MNIST/raw\n",
            "\n",
            "Downloading http://yann.lecun.com/exdb/mnist/train-labels-idx1-ubyte.gz\n",
            "Downloading http://yann.lecun.com/exdb/mnist/train-labels-idx1-ubyte.gz to data/MNIST/raw/train-labels-idx1-ubyte.gz\n"
          ]
        },
        {
          "output_type": "display_data",
          "data": {
            "text/plain": [
              "  0%|          | 0/28881 [00:00<?, ?it/s]"
            ],
            "application/vnd.jupyter.widget-view+json": {
              "version_major": 2,
              "version_minor": 0,
              "model_id": "e25a75e572b94537ab670e821bcdacb9"
            }
          },
          "metadata": {}
        },
        {
          "output_type": "stream",
          "name": "stdout",
          "text": [
            "Extracting data/MNIST/raw/train-labels-idx1-ubyte.gz to data/MNIST/raw\n",
            "\n",
            "Downloading http://yann.lecun.com/exdb/mnist/t10k-images-idx3-ubyte.gz\n",
            "Downloading http://yann.lecun.com/exdb/mnist/t10k-images-idx3-ubyte.gz to data/MNIST/raw/t10k-images-idx3-ubyte.gz\n"
          ]
        },
        {
          "output_type": "display_data",
          "data": {
            "text/plain": [
              "  0%|          | 0/1648877 [00:00<?, ?it/s]"
            ],
            "application/vnd.jupyter.widget-view+json": {
              "version_major": 2,
              "version_minor": 0,
              "model_id": "8b55246811a44036898c42b21abeb507"
            }
          },
          "metadata": {}
        },
        {
          "output_type": "stream",
          "name": "stdout",
          "text": [
            "Extracting data/MNIST/raw/t10k-images-idx3-ubyte.gz to data/MNIST/raw\n",
            "\n",
            "Downloading http://yann.lecun.com/exdb/mnist/t10k-labels-idx1-ubyte.gz\n",
            "Downloading http://yann.lecun.com/exdb/mnist/t10k-labels-idx1-ubyte.gz to data/MNIST/raw/t10k-labels-idx1-ubyte.gz\n"
          ]
        },
        {
          "output_type": "display_data",
          "data": {
            "text/plain": [
              "  0%|          | 0/4542 [00:00<?, ?it/s]"
            ],
            "application/vnd.jupyter.widget-view+json": {
              "version_major": 2,
              "version_minor": 0,
              "model_id": "efbe3092fd6842c3ba731e1bb426e06b"
            }
          },
          "metadata": {}
        },
        {
          "output_type": "stream",
          "name": "stdout",
          "text": [
            "Extracting data/MNIST/raw/t10k-labels-idx1-ubyte.gz to data/MNIST/raw\n",
            "\n",
            "Shape of X [N, C, H, W]: torch.Size([64, 1, 28, 28]) torch.float32\n",
            "Shape of y: torch.Size([64]) torch.int64\n",
            "Epoch 1\n",
            "-------------------------------\n"
          ]
        },
        {
          "output_type": "stream",
          "name": "stderr",
          "text": [
            "100%|██████████| 938/938 [00:08<00:00, 107.67it/s]\n"
          ]
        },
        {
          "output_type": "stream",
          "name": "stdout",
          "text": [
            "Test Error: \n",
            " Accuracy: 91.6%, Avg loss: 0.281524 \n",
            "\n",
            "Epoch 2\n",
            "-------------------------------\n"
          ]
        },
        {
          "output_type": "stream",
          "name": "stderr",
          "text": [
            "100%|██████████| 938/938 [00:07<00:00, 120.18it/s]\n"
          ]
        },
        {
          "output_type": "stream",
          "name": "stdout",
          "text": [
            "Test Error: \n",
            " Accuracy: 92.9%, Avg loss: 0.234127 \n",
            "\n",
            "Epoch 3\n",
            "-------------------------------\n"
          ]
        },
        {
          "output_type": "stream",
          "name": "stderr",
          "text": [
            "100%|██████████| 938/938 [00:07<00:00, 120.96it/s]\n"
          ]
        },
        {
          "output_type": "stream",
          "name": "stdout",
          "text": [
            "Test Error: \n",
            " Accuracy: 93.8%, Avg loss: 0.206818 \n",
            "\n",
            "Done!\n"
          ]
        }
      ]
    },
    {
      "cell_type": "markdown",
      "source": [
        "## Save the network\n",
        "The network is then, like before exported as a ONNX file."
      ],
      "metadata": {
        "id": "1jgcNfKMIfWa"
      }
    },
    {
      "cell_type": "code",
      "source": [
        "model_filename = \"mnist_net.onnx\"\n",
        "dummy_input=torch.randn(1, 28, 28)\n",
        "\n",
        "# set model to eval mode\n",
        "model.eval()\n",
        "\n",
        "# create a dummy input in the shape of the input values\n",
        "device = \"cuda\" if torch.cuda.is_available() else \"cpu\"\n",
        "dummy_input = dummy_input.to(device)\n",
        "\n",
        "torch.onnx.export(model,\n",
        "                  dummy_input,\n",
        "                  model_filename,\n",
        "                  export_params=True,\n",
        "                  verbose=False,\n",
        "                  input_names=['image'],\n",
        "                  output_names=['classification'],\n",
        "                  )"
      ],
      "metadata": {
        "id": "6r3kJO7lmwSP"
      },
      "execution_count": 138,
      "outputs": []
    },
    {
      "cell_type": "markdown",
      "source": [
        "## Verification"
      ],
      "metadata": {
        "id": "250PCShAIhG0"
      }
    },
    {
      "cell_type": "markdown",
      "source": [
        "Another Options Eran gives us it to simply aplly an epsilon (infinity norm) value for the robustness verification. *You can have a look into our Tutorials for SMT Based Verifications for a deeper look into the usage of an epsilon.*\n",
        "\n",
        "For this follwing parameters have to be provided:\n",
        "* --netname : the location of the onnx file \n",
        "* --epsilon : our epsilon \n",
        "* --domain : which domain should be used (we use the domain 'deepzono', if you want to have a look at other domains, the manual will help you)\n",
        "* --dataset : the dataset on which we the training data is based on (Eran provides three different datasets) \n",
        "\n",
        "<img src=\"https://upload.wikimedia.org/wikipedia/commons/thumb/6/64/Edit_icon_%28the_Noun_Project_30184%29.svg/1024px-Edit_icon_%28the_Noun_Project_30184%29.svg.png\" alt=\"drawing\" width=\"50\"/>"
      ],
      "metadata": {
        "id": "7FE2anjSsQMr"
      }
    },
    {
      "cell_type": "code",
      "source": [
        "%%bash\n",
        "\n",
        "cd eran/tf_verify/\n",
        "\n",
        "python3 . --netname ../../mnist_net.onnx --epsilon 0.03 --domain deepzono --dataset mnist"
      ],
      "metadata": {
        "colab": {
          "base_uri": "https://localhost:8080/"
        },
        "id": "cNYPaOIsm7nJ",
        "outputId": "df821b25-1400-4ec4-ecad-a3969eeceb62"
      },
      "execution_count": 140,
      "outputs": [
        {
          "output_type": "stream",
          "name": "stdout",
          "text": [
            "{'approx_k': True,\n",
            " 'attack': False,\n",
            " 'complete': False,\n",
            " 'data_dir': None,\n",
            " 'dataset': 'mnist',\n",
            " 'debug': False,\n",
            " 'delta': 0.3,\n",
            " 'domain': 'deepzono',\n",
            " 'epsfile': None,\n",
            " 'epsilon': 0.03,\n",
            " 'from_test': 0,\n",
            " 'gamma': inf,\n",
            " 'geometric': False,\n",
            " 'geometric_config': None,\n",
            " 'input_box': None,\n",
            " 'k': 3,\n",
            " 'logdir': None,\n",
            " 'logname': None,\n",
            " 'max_milp_neurons': 30,\n",
            " 'mean': None,\n",
            " 'n_milp_refine': 1,\n",
            " 'netname': '../../mnist_net.onnx',\n",
            " 'normalized_region': True,\n",
            " 'num_params': 0,\n",
            " 'num_tests': None,\n",
            " 'numproc': 2,\n",
            " 'output_constraints': None,\n",
            " 'partial_milp': 0,\n",
            " 'quant_step': None,\n",
            " 'refine_neurons': False,\n",
            " 's': -2,\n",
            " 'sparse_n': 70,\n",
            " 'spatial': False,\n",
            " 'specnumber': None,\n",
            " 'std': None,\n",
            " 'subset': None,\n",
            " 't_norm': 'inf',\n",
            " 'target': None,\n",
            " 'timeout_complete': None,\n",
            " 'timeout_final_lp': 100,\n",
            " 'timeout_final_milp': 100,\n",
            " 'timeout_lp': 1,\n",
            " 'timeout_milp': 1,\n",
            " 'use_default_heuristic': True,\n",
            " 'use_milp': True,\n",
            " 'vnn_lib_spec': None,\n",
            " 'zonotope': None}\n",
            "netname  ../../mnist_net.onnx  epsilon  0.03  domain  deepzono  dataset  mnist args complete  False  complete  False  timeout_lp  1\n",
            "This network has 40 neurons.\n",
            "Only the first 100 samples are available.\n",
            "concrete  [-0.26218061837787054, -10.502530987654291, 0.9955789057493583, 1.8426040386664715, -3.142324515834118, -1.0392864077640964, -10.357016359312043, 7.5779705803634325, -1.6650842347811672, 0.496149275645671]\n",
            "nlb  [-1.558770875702246, -12.448847760818593, -0.5354728945922324, 0.48061184702152215, -5.946912422851129, -2.678223548426508, -12.177921152490276, 4.619237632606154, -3.0744520507275306, -1.7357737118759309]  nub  [0.6188803917201952, -8.666964049325822, 2.7561548361411647, 3.856696550115098, -2.005125342892066, 1.4249409269477253, -8.299172384098163, 9.448088843723006, 0.1327514000641941, 2.2106106833958306] adv labels  None\n",
            "img 0 Verified 7\n",
            "progress: 1/None, correct:  1/1, verified: 1/1, unsafe: 0/1,  time: 0.218; 0.218; 0.218\n",
            "concrete  [-1.5746197177160868, -3.4763383829581875, 4.6180700885733, 1.1400797306155774, -16.592241511948426, 0.6762372268503594, 0.7106606647955159, -12.144271864328505, -0.2890133271598005, -10.057784806367204]\n",
            "nlb  [-4.039683509067218, -6.388860966632708, 2.6866971644273168, -0.3609130051565009, -19.04882614274208, -1.5951403362070589, -1.4088816701700824, -14.987469565135187, -1.4455205593869367, -11.670418888926104]  nub  [-0.4007620169811143, -1.8948119279019275, 6.349793243590063, 3.6010515408116817, -14.903483161721464, 4.804266159728347, 2.6672418689910127, -9.93755771009663, 1.9721467670070507, -8.059356988669851] adv labels  None\n",
            "img 1 Failed\n",
            "progress: 2/None, correct:  2/2, verified: 1/2, unsafe: 0/2,  time: 0.209; 0.214; 0.427\n",
            "concrete  [-2.578990748051646, 4.947997498848049, -0.7026301444288019, -1.2821662472161208, -3.6966511330892255, -4.729863334234948, -2.579157063209398, -1.4161467258826794, -0.813440967111716, -3.651279697081197]\n",
            "nlb  [-4.425375547061584, 0.7277557001562274, -2.9824488874970303, -3.2264484154233357, -6.961046138988666, -7.803536939691169, -5.8054102515652595, -5.3007135212669505, -3.217940607206939, -6.425665898819293]  nub  [-0.35336273291786163, 6.681166911112007, 2.878367118877249, 1.8452055396239158, -1.5928101097664338, -0.23573592465073767, 0.5443024086446141, 2.3611805181291294, 1.6324129021058325, -1.1523307580778732] adv labels  None\n",
            "img 2 Failed\n",
            "progress: 3/None, correct:  3/3, verified: 1/3, unsafe: 0/3,  time: 0.210; 0.212; 0.637\n",
            "concrete  [7.070975198359948, -12.84599537320015, -2.705200252409878, -5.6188485920005515, -9.327794127245507, -0.9868007024269743, -4.175058272433703, -1.2435559049982519, -4.9830888328128795, -3.0886887591837358]\n",
            "nlb  [4.719642652293655, -15.10661081532571, -3.8815211350540624, -7.161209070169214, -12.402548243134033, -3.1273349593522064, -6.268283828930717, -4.785280444952794, -6.600387595851334, -5.30115630165753]  nub  [8.271006619808357, -10.574146501066403, -0.8332779176564977, -2.824916153422705, -7.929622020684127, 2.5225187472643884, -2.021260592173094, 1.142515931526394, -2.598211097188831, -0.9625958467805494] adv labels  None\n",
            "img 3 Verified 0\n",
            "progress: 4/None, correct:  4/4, verified: 2/4, unsafe: 0/4,  time: 0.208; 0.211; 0.845\n",
            "concrete  [-3.931642258550577, -6.926125208520369, -2.263998747628657, -6.044332870032168, 3.9813275441223728, -4.8014176930500465, -3.543179931661136, -0.9472525926843858, -3.142002582875661, 0.8181303659374595]\n",
            "nlb  [-5.545250710976573, -9.376411081720473, -3.8313083958035405, -7.752038220104922, 0.8045894976237625, -6.647159689861779, -5.901216723353082, -4.622895118950672, -4.847200812811464, -1.4233320228661517]  nub  [-1.698796410902142, -5.179282689971384, -0.5614686941246035, -3.38204214303918, 5.420752718727468, -1.8278529151907068, -0.8388429364026262, 1.8317413038082402, -0.12049883479579615, 3.5301645519291363] adv labels  None\n",
            "img 4 Failed\n",
            "progress: 5/None, correct:  5/5, verified: 2/5, unsafe: 0/5,  time: 0.211; 0.211; 1.056\n",
            "concrete  [-3.992675913087574, 5.703037621190575, -1.9204943758316904, -1.6992532627498387, -4.039217714600401, -7.708533408223522, -6.336170253933811, -0.8510664783969832, -1.1868968666637836, -3.01626921680572]\n",
            "nlb  [-5.2095276271580175, 2.049528337648883, -3.9246928687880986, -3.233558345304502, -7.300366232322312, -10.268380029197482, -9.002884838523636, -4.067835620651812, -3.275558525753803, -5.789640826330592]  nub  [-2.1257186196760434, 7.478894568582654, 1.598486006024908, 1.3137043001048552, -2.2750343918578126, -3.5984842200669567, -3.249791562047575, 2.2983353241781947, 1.177039842965548, -0.9076686867300735] adv labels  None\n",
            "img 5 Verified 1\n",
            "progress: 6/None, correct:  6/6, verified: 3/6, unsafe: 0/6,  time: 0.218; 0.212; 1.274\n",
            "concrete  [-5.045403682568298, -6.5237911143531875, -4.439273166907475, -3.4447233858471678, 5.727174407050545, -1.1698361942598692, -5.833092004669603, 0.26705315353503556, -1.2126593777883143, -0.6368836944399375]\n",
            "nlb  [-6.5872860246602, -8.87982407364238, -5.555000293108847, -4.802852039889038, 2.5679203153330157, -2.6183323966284537, -7.80200135469624, -3.7620569922615625, -2.6744570434747157, -2.698866983612538]  nub  [-3.4535880229950604, -5.123203536988648, -3.1782001568395377, -0.53134720714707, 6.754875565854863, 1.5896135916175647, -3.019559904997126, 2.908046848735281, 1.7078045040051502, 1.7965509080642497] adv labels  None\n",
            "img 6 Verified 4\n",
            "progress: 7/None, correct:  7/7, verified: 4/7, unsafe: 0/7,  time: 0.210; 0.212; 1.484\n",
            "concrete  [-6.96395940105878, -3.7555016405264654, -3.6757811433750986, -3.294095940642692, 0.8642160117256915, -5.233547055524132, -6.605386323017535, -2.171401136812051, -1.4351823200256515, 3.5950739978909576]\n",
            "nlb  [-8.094734632388164, -7.044342728824691, -5.413451843280643, -4.833896198879111, -2.893154129766508, -7.698727865863509, -9.379902304681085, -6.425016561543149, -3.466294078465931, 0.7634925828688863]  nub  [-5.083748043069077, -1.6295624133411661, -0.43554505644789704, -0.26913726875921673, 2.3559348873392847, -0.9283973769409652, -3.235718225750172, 1.5811685445552637, 0.9953880726763327, 5.529235865175402] adv labels  None\n",
            "img 7 Verified 9\n",
            "progress: 8/None, correct:  8/8, verified: 5/8, unsafe: 0/8,  time: 0.209; 0.212; 1.693\n",
            "concrete  [-1.9903952872241208, -6.436993683790329, -4.50255697785525, -9.291830423516915, -0.49507822090463205, -1.6530411893347097, 5.082066907831961, -12.703156587137952, -3.17753963028469, -5.709149720394429]\n",
            "img 8 not considered, incorrectly classified\n",
            "progress: 9/None, correct:  8/9, verified: 5/8, unsafe: 0/8,  time: 0.004; 0.212; 1.693\n",
            "concrete  [-6.430785697732978, -13.292043358826731, -8.711690424022214, -7.433300291990322, 1.8429369138119662, -5.455755078602771, -9.289491760896727, 2.6126114996432914, -1.3881004217003636, 6.91302661890344]\n",
            "nlb  [-8.182513755078148, -15.939894588966972, -10.395540240997148, -9.096327509817495, -2.004329849396718, -7.6895391207295365, -12.065011241752865, -1.7834664298191265, -3.5577559248787756, 3.588091082903769]  nub  [-3.929463336382852, -11.121396991947753, -4.9820478636128716, -4.17584881597828, 3.619594159118945, -1.8486991536977748, -5.939078881408479, 6.2364559422120225, 1.030361322296857, 8.6067769090018] adv labels  None\n",
            "img 9 Verified 9\n",
            "progress: 10/None, correct:  9/10, verified: 6/9, unsafe: 0/9,  time: 0.209; 0.211; 1.903\n",
            "concrete  [6.168945272989613, -6.306716641953247, -1.412822127057332, -3.7923482380965887, -7.540203666898321, -0.610019388046565, -5.983340946035506, -2.4534832567396827, -2.2907272452330845, -3.6576588250008064]\n",
            "nlb  [3.5341679820408363, -8.69862935126236, -3.202755035883764, -5.628685493396515, -11.060659240828679, -2.7731244261832333, -8.212423909613333, -5.837133216218863, -3.8243281022318816, -6.014122215123431]  nub  [7.307283813787991, -4.748280004128286, 1.1632810369919298, -0.9890806429771422, -5.476951158516419, 2.9651028769704464, -3.453345454818469, -0.11024278849544022, -0.11817413536491533, -1.5356486094191824] adv labels  None\n",
            "img 10 Verified 0\n",
            "progress: 11/None, correct:  10/11, verified: 7/10, unsafe: 0/10,  time: 0.210; 0.211; 2.113\n",
            "concrete  [-3.0671891366825417, -3.8700255605933833, -2.8520514058338082, -3.4493214053391386, -4.317190979918344, -0.030566507049280878, 3.3382829776425913, -9.66723466667313, 0.3569685703642459, -4.81374582408586]\n",
            "nlb  [-5.360522506678277, -6.618419441488954, -4.416322226198688, -5.377049939747022, -7.66671457869777, -2.905003296263817, 0.6380832622609361, -13.384163005635255, -1.7529495439745884, -6.664510499189395]  nub  [-1.514418834718577, -2.280285298664604, -0.5164376392257836, 0.00032838599944295943, -2.0923906647451025, 2.6429077877408993, 5.726872200892045, -6.457758166565397, 3.583696280616578, -2.4665936922174785] adv labels  None\n",
            "img 11 Failed\n",
            "progress: 12/None, correct:  11/12, verified: 7/11, unsafe: 0/11,  time: 0.221; 0.212; 2.334\n",
            "concrete  [-6.022294189199118, -12.408440295238817, -6.004560191600795, -3.26231716001184, 0.8531362984737839, -2.7828907140088908, -6.9571965814556895, -0.5117574879473918, -1.4314438350551135, 5.760881340100412]\n",
            "nlb  [-7.569179520527061, -14.67225359948248, -7.568839751676795, -4.949433110474248, -2.963340504887582, -4.79945200027119, -9.845667006764875, -4.304104772621137, -3.4237784164497027, 2.6485441955398454]  nub  [-3.694225692326528, -10.42456046270398, -2.342023183964005, -0.06986454059702789, 2.503142892897305, 0.2630187144160831, -3.9330034796611884, 3.2413572174015397, 0.8020427407481326, 7.460098395933046] adv labels  None\n",
            "img 12 Verified 9\n",
            "progress: 13/None, correct:  12/13, verified: 8/12, unsafe: 0/12,  time: 0.210; 0.212; 2.543\n",
            "concrete  [5.427248756711624, -10.627258252122529, -3.2185282843141545, -7.035734515305081, -5.355366604959522, -3.969134296290454, -8.672539931815097, -0.5844246132999111, -3.1140536033850474, 1.2157533541865688]\n",
            "nlb  [3.3452619856663155, -12.465102786074281, -4.503350688371167, -8.579365462597567, -8.78888362940927, -5.905820302578611, -10.519367424662248, -3.7639939727726746, -4.2316742612828655, -1.2423293093857002]  nub  [7.0635001163962325, -9.00106329620837, -0.8455380684590773, -4.307511032424169, -3.721912191575547, -0.14241567778287656, -6.2664291997251516, 1.6426316326899801, -1.2632589673395729, 2.8383942235934962] adv labels  None\n",
            "img 13 Verified 0\n",
            "progress: 14/None, correct:  13/14, verified: 9/13, unsafe: 0/13,  time: 0.207; 0.212; 2.751\n",
            "concrete  [-4.480298648661731, 7.905270299999882, -1.7890529178385657, -0.6004922462123676, -6.941697036672737, -8.606342545708596, -5.6161458192763645, -2.7064108151858868, -1.6485285789383282, -4.554978721185461]\n",
            "nlb  [-5.569272222495083, 4.3454010971720995, -3.695934864886902, -2.0039273602587278, -9.835995358114669, -10.620674762274406, -8.047903140631158, -5.726479639158408, -3.3338185697732508, -6.8318714233326405]  nub  [-3.0640755343365984, 9.112471068938886, 1.078733564220627, 2.3764058862528468, -5.183765279536411, -4.695549460999024, -2.861554712284395, 0.026318157366622713, 0.7018816134174997, -2.306935021492416] adv labels  None\n",
            "img 14 Verified 1\n",
            "progress: 15/None, correct:  14/15, verified: 10/14, unsafe: 0/14,  time: 0.213; 0.212; 2.964\n",
            "concrete  [-1.3784161965841162, -4.316006763784003, -3.359147464540134, 2.8687792284691165, -4.702273068565506, 6.569117556839779, -5.019886613082729, -3.9311816980947, 2.8227065222399204, -2.6105607983298498]\n",
            "nlb  [-3.428101741561664, -6.15487595745096, -4.725593883739755, 0.8712397812165815, -8.223446043390625, 4.220550721444256, -7.601659049030324, -7.2948253431136765, 1.3787845877448306, -4.488090510788017]  nub  [0.17986408614960175, -2.447010411543462, -0.8918601632816834, 5.094815333444503, -2.8738561636809905, 8.914773571188933, -2.5116333544048985, -1.2674471453488465, 4.469980846312058, -1.377264550523714] adv labels  None\n",
            "img 15 Verified 5\n",
            "progress: 16/None, correct:  15/16, verified: 11/15, unsafe: 0/15,  time: 0.214; 0.212; 3.178\n",
            "concrete  [-4.438991652252178, -13.38413246478486, -4.015327375500304, -5.798910141817344, 0.9184463629153176, -6.3307203407389165, -5.776768036652918, 0.36676346961247386, -2.2945369112737186, 5.762876572480489]\n",
            "nlb  [-6.453414244058039, -15.71948836981344, -5.5217120557547315, -7.519701762708827, -3.0359606624784004, -8.490105696403702, -8.768864497631265, -3.7941079493968806, -4.2289591135271465, 2.461970059522582]  nub  [-2.440641757015152, -11.02481321139514, -0.971634865745106, -2.4635419637876206, 2.5848483691228212, -2.3039480758005295, -2.627803367451568, 3.8575915844443736, 0.42483429961759833, 7.679651592212301] adv labels  None\n",
            "img 16 Verified 9\n",
            "progress: 17/None, correct:  16/17, verified: 12/16, unsafe: 0/16,  time: 0.218; 0.212; 3.396\n",
            "concrete  [0.38940296433259947, -12.689030529109377, 0.8201956208901738, 2.7866846963061733, -3.984592837367896, -1.5618410506951093, -11.051502261125759, 7.9398939489608775, -2.632644875992661, 0.8784505477264313]\n",
            "nlb  [-1.023538840624012, -14.427933366845071, -0.16088088066261244, 1.4759639198071426, -6.793085263277554, -2.8865178088735526, -12.723887676280343, 5.092573127497482, -3.9982159820837495, -1.699914602856633]  nub  [1.4062678998591873, -10.76463183035904, 2.295084004102365, 4.82717730531576, -2.703099328809168, 0.7216200494022397, -9.016309403284687, 9.648878746952189, -0.8225894855212594, 2.3267859972530505] adv labels  None\n",
            "img 17 Verified 7\n",
            "progress: 18/None, correct:  17/18, verified: 13/17, unsafe: 0/17,  time: 0.211; 0.212; 3.607\n",
            "concrete  [-3.349260722122888, 0.17149738984637503, 0.9254447666274526, 3.8834049174707355, -4.924899428434545, -1.9699177785925603, -3.2871019622990274, -6.627864737823272, 1.4023487285593492, -6.906816044199573]\n",
            "nlb  [-5.4950108024969495, -3.4505056310895967, -1.4744270496282534, 1.3445722989927096, -8.964838141919108, -4.634018118932698, -6.6383906841403, -10.426847387836752, -0.7464916128283129, -9.2595792409807]  nub  [-1.6158146964579005, 1.9659272780607715, 3.6157809422157303, 6.60747903688363, -2.938925201091738, 1.9952143668251696, -0.3749483784751626, -2.7602133488161034, 3.7107991315928346, -4.183057866305341] adv labels  None\n",
            "img 18 Failed\n",
            "progress: 19/None, correct:  18/19, verified: 13/18, unsafe: 0/18,  time: 0.212; 0.212; 3.819\n",
            "concrete  [-4.672440612625102, -6.711581079437826, -3.2315449717666387, -3.2171562961468236, 6.138710530076804, -1.8045434548123138, -3.36666043193373, -1.9820655955104431, -3.7624621666102103, 0.43308744865193566]\n",
            "nlb  [-6.5149402083599215, -10.070859561969932, -5.202024395242716, -5.044984983895593, 2.0622514176645006, -4.256929770917444, -5.866658852517018, -6.251840752797846, -5.855001996398776, -2.4635452505948203]  nub  [-2.029482255798788, -4.746271806183156, -0.27669358102716707, -0.07230659241153367, 7.442318434795604, 1.7037288494727727, 0.04227511216023278, 1.3127428683788323, -0.5090868714311061, 3.045007301574185] adv labels  None\n",
            "img 19 Verified 4\n",
            "progress: 20/None, correct:  19/20, verified: 14/19, unsafe: 0/19,  time: 0.214; 0.212; 4.033\n",
            "concrete  [-4.497526997959073, -10.263561092752035, -9.962126464979535, -0.39165851373999755, 0.5063896972429056, -2.0740525409327217, -11.661361197663537, 3.1928669827124843, -1.318462418576741, 6.078025110507078]\n",
            "nlb  [-5.9512020892634965, -12.787086872409386, -11.550411006500779, -2.4740563829808866, -2.4255615157093624, -4.907891666168584, -14.843516690602259, -0.9061410123457361, -3.2731546905587625, 3.313818402320064]  nub  [-2.238543786949277, -8.117940733003342, -6.5908426308109815, 2.7111738701005685, 2.363164610959602, 1.4632346304643742, -8.433173595829361, 7.1406002505423425, 0.5926892804757631, 7.8699556487472595] adv labels  None\n",
            "img 20 Failed\n",
            "progress: 21/None, correct:  20/21, verified: 14/20, unsafe: 0/20,  time: 0.220; 0.213; 4.253\n",
            "concrete  [-4.266699261854846, -6.690128648873368, -3.24008740127899, -3.1169212583583414, -3.392711137493721, 2.2479493852017134, 6.857878312357094, -13.490155953281002, -1.6728842599625866, -5.143773804375969]\n",
            "nlb  [-6.117102399404214, -9.00294283702166, -4.499758684374423, -4.926575617224146, -7.005318318229046, 0.1607695685441778, 3.9547902673552295, -16.379877716612018, -3.5904327586219913, -7.340794002840883]  nub  [-2.7335976722180417, -4.867344267997793, -0.5735049264281635, -0.32878969625089977, -1.4645623318454395, 5.289073355931742, 8.331557223872766, -9.989494799281008, 0.996795158458774, -3.0455377853936634] adv labels  None\n",
            "img 21 Failed\n",
            "progress: 22/None, correct:  21/22, verified: 14/21, unsafe: 0/21,  time: 0.230; 0.213; 4.483\n",
            "concrete  [-4.482186535965099, -4.234303583004458, -2.1259221572199394, -5.701982013498356, -0.5137039199291735, -3.524315293130336, 3.632754370091933, -3.4282480878808403, -2.567434165625325, -3.6745563421347054]\n",
            "nlb  [-6.4403277879586565, -7.16356603069822, -3.86617805884453, -7.392724548752338, -4.06898305960603, -6.343894849210042, 0.7796578413496073, -7.718988956990278, -4.319092338015241, -5.9200127543923085]  nub  [-2.8201793115930687, -1.868197562924213, -0.14220885838931369, -2.5579220242936747, 1.2389919177443898, 0.2991993734493392, 6.860306858688048, -0.5176395270365811, 1.0143435632833306, -1.120040829668832] adv labels  None\n",
            "img 22 Verified 6\n",
            "progress: 23/None, correct:  22/23, verified: 15/22, unsafe: 0/22,  time: 0.213; 0.213; 4.697\n",
            "concrete  [-2.031219801224939, -4.921836243719003, -4.4733863958618105, -1.3149561353396164, -2.987670705222045, 6.333137450049844, -0.3329426838395955, -10.769442441674942, -0.13768709179506256, -4.098116030404818]\n",
            "nlb  [-4.154744569177413, -7.813608236877707, -6.09218368325654, -2.9249425442765142, -6.735354086944978, 3.8400144997054513, -3.0949528041603047, -13.927535208038032, -2.1311563993735065, -6.481416848395522]  nub  [-0.5270906184097406, -3.2370133042129234, -1.0805870414458898, 1.6228002822341592, -1.1891654547279882, 9.383322417106525, 2.095457739879736, -7.184272038401211, 2.3567847220957105, -1.764109741616132] adv labels  None\n",
            "img 23 Verified 5\n",
            "progress: 24/None, correct:  23/24, verified: 16/23, unsafe: 0/23,  time: 0.221; 0.214; 4.918\n",
            "concrete  [-3.9675993162228607, -5.308839926697622, -1.9329098494071884, -2.468008074403029, 4.449231155946969, -2.617370350516734, -3.6394683534639505, 0.592788346296586, -3.7081544803851707, 1.1370593100601556]\n",
            "nlb  [-5.8859113067999145, -9.000188168295233, -3.9581578805183497, -4.697154507219895, 0.37549657366464645, -5.91423897090446, -6.73103421225407, -4.228997891533625, -5.897723193647831, -1.9169376285715172]  nub  [-1.3421076204080056, -2.6371744073830636, 0.5342928184145986, 0.8902755486903697, 6.160311387462967, 2.0076944218708204, 0.32512348404827374, 3.972760289637689, -0.11691285068331135, 3.989942867476263] adv labels  None\n",
            "img 24 Failed\n",
            "progress: 25/None, correct:  24/25, verified: 16/24, unsafe: 0/24,  time: 0.215; 0.214; 5.133\n",
            "concrete  [9.505139446385506, -11.432287066236299, -5.983275237384195, -13.468227111266906, -4.3123049364324615, -8.024008068153439, -2.8265638015857686, -5.915045923806708, -5.706003860228023, -6.757102857994782]\n",
            "nlb  [7.132654327220092, -13.329259505861456, -7.449229770004722, -14.643102649849784, -7.962883839167143, -9.590924170958928, -5.176610160279337, -9.134544269231759, -6.962320334817379, -9.019297299693775]  nub  [10.690415187590188, -9.784836960467283, -3.2620507408485153, -10.610133905413873, -2.8017012497152773, -4.288913312222061, -0.5400330407274407, -3.4430501626789933, -3.4484836698980597, -4.619073272685774] adv labels  None\n",
            "img 25 Verified 0\n",
            "progress: 26/None, correct:  25/26, verified: 17/25, unsafe: 0/25,  time: 0.219; 0.214; 5.352\n",
            "concrete  [-0.9874295578237999, -8.043382168277095, -1.080651482212053, -0.3045575656908865, -3.6149424420858196, 0.07910806410989585, -7.287103593365581, 6.89791607783829, -3.024993484236543, 2.3966259462177195]\n",
            "nlb  [-2.5176596271324403, -10.186444034032403, -2.31127301503769, -1.9789487420087668, -6.40268779362932, -1.6035329134239316, -9.096514578879484, 2.8098804589403517, -4.184584076596422, 0.1352435431657561]  nub  [-0.040105881153230376, -6.334311777949743, 1.0024139822830251, 2.084102778710326, -2.0713384456435167, 3.163836052281707, -4.842959603833392, 8.984742993337377, -0.9000208140243672, 3.782403771945296] adv labels  None\n",
            "img 26 Verified 7\n",
            "progress: 27/None, correct:  26/27, verified: 18/26, unsafe: 0/26,  time: 0.209; 0.214; 5.560\n",
            "concrete  [-4.4906979929382675, -9.330574619748349, -3.2713839803257057, -5.241189293598008, 6.201570178005402, -2.4458338389044956, -4.500093909704859, -2.546570303877809, -3.640853582224727, 0.6293728685253224]\n",
            "nlb  [-6.4350103275029085, -12.154731522423479, -5.1194201265902635, -6.772231918100887, 2.3272050106391786, -4.431698861088063, -6.6077035954301895, -6.765074647521668, -5.4568778460801415, -2.1328477060875057]  nub  [-2.2588992927499865, -7.404427605168641, -0.6362774747151848, -2.179696807774607, 7.498518851679248, 0.6821630882070034, -1.3189416440745407, 0.4278121819254887, -0.358639798923494, 3.1343759012665955] adv labels  None\n",
            "img 27 Verified 4\n",
            "progress: 28/None, correct:  27/28, verified: 19/27, unsafe: 0/27,  time: 0.211; 0.214; 5.771\n",
            "concrete  [8.119701152429835, -10.712009383591749, -0.9398639907964601, -3.5916853799468678, -10.594084462630436, -3.736964820760389, -9.901660438553128, -0.8727833866485444, -4.60034109863656, -2.686117970546127]\n",
            "nlb  [6.13669953545252, -12.424474658816372, -2.269072008331594, -5.023004037741455, -13.343614647287184, -5.557731719051933, -11.797117604366727, -3.2430929331284375, -5.850961133955577, -4.894615774901492]  nub  [9.199138933153408, -9.005963325204746, 0.9386645677418084, -1.0145903639253593, -9.116598204112712, -0.5701780849016824, -7.836270991452122, 0.9047743173862841, -2.453079916607842, -0.9560891580474741] adv labels  None\n",
            "img 28 Verified 0\n",
            "progress: 29/None, correct:  28/29, verified: 20/28, unsafe: 0/28,  time: 0.211; 0.214; 5.982\n",
            "concrete  [-3.1916024856183594, 5.414362481287909, -2.0455479666907004, -0.9800981774309151, -4.839299717936052, -4.112742146477781, -2.8629768286675104, -3.006314664826113, 0.005919028498441309, -3.991124658542783]\n",
            "nlb  [-4.804998607027986, 1.5502581216053548, -4.008994421882962, -2.8905689483728207, -8.294869088928598, -6.370160282668258, -5.410493908289373, -6.9389122172304285, -2.0754669195671402, -6.843548868727234]  nub  [-1.0842281288768862, 6.761743578847179, 1.594482393878743, 2.108255029244317, -2.8601501919588435, 0.16711627154872954, 0.2739894040931646, 0.2681604390436917, 2.16234172359136, -1.873194780066577] adv labels  None\n",
            "img 29 Verified 1\n",
            "progress: 30/None, correct:  29/30, verified: 21/29, unsafe: 0/29,  time: 0.209; 0.213; 6.191\n",
            "concrete  [-2.903139893727869, -5.881445072900597, -3.3377200876288566, 7.515363422716671, -6.426176422674688, 0.320140465053387, -11.137728391356738, 1.2420371403321255, -0.5857993929472304, 1.5464397200746096]\n",
            "nlb  [-4.225845551573699, -9.135136846059277, -5.490765218290519, 5.791148381293553, -9.9211214562813, -1.9913093353746887, -13.177409520550244, -2.218313054564249, -2.6809769280577527, -1.7918452969632683]  nub  [-0.9931019719581067, -3.893227558981656, -0.009534674342203647, 9.754504479308743, -4.526418881906794, 4.1259605170319, -7.761540758700134, 3.8797256680398275, 1.5013957420288602, 3.4898902001741927] adv labels  None\n",
            "img 30 Verified 3\n",
            "progress: 31/None, correct:  30/31, verified: 22/30, unsafe: 0/30,  time: 0.220; 0.214; 6.412\n",
            "concrete  [-3.3735882332788543, 4.198865348888242, -2.2714763732142393, -0.7288480191572293, -3.192355507419798, -4.987699211760419, -4.640666018051053, -0.9244360630608486, -1.3198632361655283, -1.6138170156008391]\n",
            "nlb  [-4.97961535654376, 0.6283830194943018, -4.284770172891021, -2.3882035167960396, -6.5784179215277305, -7.3130530597777925, -7.17961700239988, -4.990671080760363, -3.182065833687401, -4.294378149733794]  nub  [-1.7273990735756946, 6.039048270139548, 0.8362582513597016, 2.475528546633087, -1.3841694532031887, -0.7010505904303497, -1.4245010992040696, 2.1413663387021806, 1.12462142647159, 0.7241746600264384] adv labels  None\n",
            "img 31 Failed\n",
            "progress: 32/None, correct:  31/32, verified: 22/31, unsafe: 0/31,  time: 0.211; 0.214; 6.623\n",
            "concrete  [-3.1937856404225498, -4.647114138946156, -3.4520955890860647, 7.227209982406876, -2.2725127665277234, 2.663874617003013, -7.123056331536504, -6.01664853548103, 1.42923399017386, -2.4919925269557837]\n",
            "nlb  [-4.971883661979501, -7.911418367167876, -5.338530050774722, 5.027903149109374, -6.078172902891619, 0.5160868588963946, -9.847273405868284, -9.890012279043837, -0.3131770869678774, -4.702331586639218]  nub  [-1.77644809740373, -2.5613200139142287, -0.9069052004343308, 9.629089827888313, -0.5736016588298414, 6.0199843005245235, -4.0237231033955405, -2.5049952159269466, 3.3378224476024263, -0.3808699183216385] adv labels  None\n",
            "img 32 Verified 3\n",
            "progress: 33/None, correct:  32/33, verified: 23/32, unsafe: 0/32,  time: 0.211; 0.214; 6.834\n",
            "concrete  [-0.24122367763327712, -4.943883963181148, -2.90450641762209, -8.249430936434404, 1.6940529582632742, -0.2666293580079342, 0.5927320012023222, -5.763654691100875, -2.4324175942331316, -4.63577191652418]\n",
            "nlb  [-2.454224247350221, -7.2220463840137565, -4.408564351882966, -9.85005283241427, -1.332455624643228, -2.5143329743494145, -1.216304052235152, -8.848738293278446, -4.278893238034594, -6.329418881603614]  nub  [1.2427631323773372, -3.58644029179162, -0.9474921945952558, -5.717860281217005, 3.1246446554309655, 2.1831487867144044, 2.827801022163416, -3.4978578579527513, 0.7906650616622569, -2.358432039660204] adv labels  None\n",
            "img 33 Failed\n",
            "progress: 34/None, correct:  33/34, verified: 23/33, unsafe: 0/33,  time: 0.211; 0.213; 7.045\n",
            "concrete  [-0.34759800490435777, -7.036147873265749, 1.4648785339927315, 1.0576634159954033, -5.25013545518759, -6.06002545119676, -14.583242275257788, 7.169295452851085, -2.556748843773508, -0.30427488660042357]\n",
            "nlb  [-1.7740318869805207, -9.578636586042464, -0.6876783777832837, -0.20103214823371024, -8.096199541610032, -7.943524966375399, -16.084749453748593, 4.157117385138131, -3.840423204270857, -3.2187172374888893]  nub  [0.9625584799927785, -5.275550537365258, 4.518723428372549, 3.290090222954823, -3.4517132032242825, -2.6972337876011285, -12.00365903072997, 9.21179513003324, -0.45433517425186737, 1.6637800822852686] adv labels  None\n",
            "img 34 Verified 7\n",
            "progress: 35/None, correct:  34/35, verified: 24/34, unsafe: 0/34,  time: 0.209; 0.213; 7.253\n",
            "concrete  [-0.43924183448037657, 0.08814335368587517, 6.8012337763389645, -0.24411654334314947, -10.472095786074014, -1.9592252436335618, -5.1827774859618625, -3.251670968130494, 0.06736724443714548, -9.02116746055071]\n",
            "nlb  [-2.410113278651214, -1.879803391230329, 5.0077742665277185, -1.863381332680383, -12.897740203907203, -3.6856461554764417, -7.248074243081121, -6.512828080657506, -1.3267387796785124, -10.9568133226714]  nub  [1.0024647811132723, 1.1532522356880437, 8.246834382350816, 1.8048274607315056, -9.014898159484089, 1.112152206442195, -2.5059923078229756, -1.0980948296063615, 1.6895589931121018, -7.393175333864983] adv labels  None\n",
            "img 35 Verified 2\n",
            "progress: 36/None, correct:  35/36, verified: 25/35, unsafe: 0/35,  time: 0.223; 0.214; 7.477\n",
            "concrete  [-1.902778139708838, -10.918711190097895, 1.5269323216232475, 2.2928837177139827, -5.493802614546836, -0.7815591561403683, -9.270308378124266, 6.8625080309204485, -1.8167901752335203, 0.6521094901542203]\n",
            "nlb  [-3.411988530905157, -12.88199757953233, 0.15998226878144173, 0.851680228491273, -8.41085096846272, -2.6671572762156015, -11.283276976806606, 3.3982839099633804, -3.1995785653284674, -1.9185190245663923]  nub  [-0.6995842677320173, -8.984136322505378, 3.4486819577683416, 4.5412422344011265, -3.889039101818722, 2.244125425354309, -6.865956713954096, 9.024426508705288, 0.2854132642225497, 2.3357328993218784] adv labels  None\n",
            "img 36 Failed\n",
            "progress: 37/None, correct:  36/37, verified: 25/36, unsafe: 0/36,  time: 0.210; 0.214; 7.687\n",
            "concrete  [-4.242547845097441, 6.7473733165143654, -3.2333986214728556, -2.199628067845228, -5.099611163334105, -6.681110644576774, -5.41223734756973, -2.335957166540008, -0.8188553734374694, -3.175387305102507]\n",
            "nlb  [-5.628210979456321, 2.8972613843866686, -5.15253882963381, -3.893339817926947, -8.378800000269647, -8.996916007806881, -7.926143891809852, -5.8487023347315255, -2.7702848178284216, -5.918526372588236]  nub  [-2.391157716758661, 8.256254607667815, 0.23200367917563774, 1.1017874456905883, -3.207401203923357, -2.5440302120827707, -2.223543244110547, 1.0418616988638512, 1.510854351786338, -1.0184909821619872] adv labels  None\n",
            "img 37 Verified 1\n",
            "progress: 38/None, correct:  37/38, verified: 26/37, unsafe: 0/37,  time: 0.210; 0.213; 7.897\n",
            "concrete  [-0.6876491588956307, -1.0296969270580867, 2.305315046883386, 3.433930318043743, -12.156182586251058, 0.1120024257640434, -2.4151748699538573, -4.528003591958482, -0.6497643704378437, -6.2642545640150225]\n",
            "img 38 not considered, incorrectly classified\n",
            "progress: 39/None, correct:  37/39, verified: 26/37, unsafe: 0/37,  time: 0.004; 0.213; 7.897\n",
            "concrete  [-4.94617168599282, 7.135978725953859, -3.3359024238011727, -1.398526003565008, -7.577201059473231, -7.7142002957872755, -5.45788322835703, -5.225223195883225, 0.47980798481133746, -4.61434275981439]\n",
            "nlb  [-6.187724765722807, 3.5165690915148953, -5.136790138617748, -2.85210371308626, -10.83214396642301, -9.797149641300916, -7.9844171692184, -8.512132588735598, -1.4322314318404605, -7.293858909013233]  nub  [-3.2241730400492914, 8.42557463891446, 0.11843920371330854, 1.5652050384339287, -5.757383358411437, -3.5927347964540814, -2.433720387631201, -1.7725967549135215, 2.5478539356576424, -2.3930179452675535] adv labels  None\n",
            "img 39 Verified 1\n",
            "progress: 40/None, correct:  38/40, verified: 27/38, unsafe: 0/38,  time: 0.210; 0.213; 8.107\n",
            "concrete  [-2.186795720695896, 4.8792055619982735, -1.0175156599995767, -1.0392400496813434, -3.5892925771346564, -4.233562951825275, -2.962067899930678, -0.8427838589593988, -1.2470391840251644, -2.4286753565267576]\n",
            "nlb  [-3.803448851281452, 0.5943607346870217, -2.9518403833283924, -2.867677929795525, -6.602934509713927, -6.73205653080406, -5.723913768366225, -4.498966722683655, -3.0720273907116598, -5.061240403084401]  nub  [-0.47786882297970174, 6.0749494547931535, 2.212721251585137, 2.0871660240802634, -1.7376131470302583, 0.023736687921700306, 0.2042414731088333, 2.370511351409553, 1.144878069034209, -0.0858077198974028] adv labels  None\n",
            "img 40 Failed\n",
            "progress: 41/None, correct:  39/41, verified: 27/39, unsafe: 0/39,  time: 0.229; 0.214; 8.336\n",
            "concrete  [-1.9606411940694157, -6.735867973208823, 0.9481616853331771, 0.5109473921255292, -3.211236213228863, -3.4258809842202744, -8.553569526242494, 6.144373001087752, -3.1691876293076975, 1.77940810089353]\n",
            "nlb  [-3.8675624987557815, -9.920029910546553, -1.5000216195871785, -1.4734822169464783, -6.665397811352675, -5.826103371623885, -10.739161577879209, 1.3034225933917694, -4.957060398640468, -1.6728359226133427]  nub  [-0.24649361742714204, -4.575586165766543, 4.163349118088143, 3.230276183742651, -1.372023664831497, 1.4391304464972108, -4.6815374443112905, 8.777786300530279, -0.5347160699966373, 4.020575497433071] adv labels  None\n",
            "img 41 Failed\n",
            "progress: 42/None, correct:  40/42, verified: 27/40, unsafe: 0/40,  time: 0.211; 0.214; 8.547\n",
            "concrete  [-9.296579418878908, -8.750062067915996, -5.428692525605811, -4.369426716091441, 5.968765303898706, -5.162551301906297, -7.74870997919457, -0.12093324303582853, -0.961580162941559, 2.6628923251229697]\n",
            "nlb  [-10.47517253350554, -11.67305551397735, -7.0250876353998635, -5.6575400904915645, 2.2686776583521886, -7.569504136955613, -9.675873336959077, -4.420041972320362, -2.713060299428024, -0.12803329550900433]  nub  [-7.4250729953995735, -6.753752349359507, -2.8164547222493006, -1.2061453702411022, 7.333086005658453, -1.1980028536512313, -4.1396896318090475, 2.962733983347925, 1.9666144262926681, 4.9682785097104905] adv labels  None\n",
            "img 42 Failed\n",
            "progress: 43/None, correct:  41/43, verified: 27/41, unsafe: 0/41,  time: 0.210; 0.214; 8.757\n",
            "concrete  [-1.639039367661509, -0.11580876654626066, 3.189326836570667, 0.90224187200667, -3.7948886003603413, -2.111689469184919, -2.554529165876741, -3.8294808439204733, -0.023351003676991777, -3.8698343408752223]\n",
            "nlb  [-3.9705007603381612, -3.3352351763934545, 0.37674132435184643, -1.238110403308462, -6.9365434200326845, -5.265324473125577, -4.4693050068610995, -8.356712186385874, -1.7461600760531133, -6.089964370114436]  nub  [-0.23543412254930207, 1.584712830722852, 5.383337875599929, 3.313547483573996, -1.9778404222801758, 1.7380459787829137, 0.45799115798635504, -1.0026968066763287, 2.82178478488766, -1.5667844137038913] adv labels  None\n",
            "img 43 Failed\n",
            "progress: 44/None, correct:  42/44, verified: 27/42, unsafe: 0/42,  time: 0.213; 0.214; 8.970\n",
            "concrete  [-2.859216225872446, -2.0887006725474153, -0.34851457732932123, 4.339183998446131, -6.2007255039402285, 0.6299467532180212, -1.848941968392856, -4.36577204215585, -0.9864554550165703, -3.299349203785635]\n",
            "nlb  [-4.713358163515321, -5.562482106417702, -2.4481975056105, 2.270064252892502, -9.88333036814528, -1.8668145718635363, -4.636332288324521, -8.577466478784103, -2.604827082905657, -5.85009995610442]  nub  [-1.572259984556451, -0.28419194169664685, 2.838437893820951, 6.883850108756266, -4.249336471037916, 4.178203298862756, 0.8707148019049967, -0.8210510362429233, 1.3462621013467215, -0.9336969650262952] adv labels  None\n",
            "img 44 Failed\n",
            "progress: 45/None, correct:  43/45, verified: 27/43, unsafe: 0/43,  time: 0.210; 0.213; 9.180\n",
            "concrete  [-1.3901165676374019, -5.795160089820698, -6.29310020532565, 1.3229909949780283, -3.626816633647515, 5.801149912959317, -2.868407049517085, -9.336789034053085, 1.6894957925195526, -0.7925767965273259]\n",
            "nlb  [-3.5782889322060085, -8.630077469652708, -7.911761575763322, -0.7366033321272246, -7.582817763535518, 2.7972777693706243, -6.2051033832811715, -12.92858068358241, -0.6295682314493362, -3.5686973370838673]  nub  [0.3679618988730154, -3.545786686695897, -2.456340624787642, 4.4673639068019275, -1.5084123502236326, 8.850295415682327, -0.0349953383299311, -5.028614389377542, 3.8711297507699216, 1.323715559876477] adv labels  None\n",
            "img 45 Verified 5\n",
            "progress: 46/None, correct:  44/46, verified: 28/44, unsafe: 0/44,  time: 0.222; 0.214; 9.402\n",
            "concrete  [-4.929006256727559, 4.863608083203197, -1.0367038190639484, 1.3431154731279458, -3.8055644789450747, -5.915270126442493, -5.2996075029706216, -2.599826937823938, -0.6545920659106046, -3.533828341694171]\n",
            "nlb  [-6.4517816004484105, 1.1896203992798544, -3.09046644668186, -0.4522672204801123, -7.319497558583168, -8.114885253201034, -7.931150099871294, -6.7223433932425785, -2.6485953999379994, -6.402504339844971]  nub  [-3.145200289169924, 6.415136527976135, 2.1128809721314, 4.4384678468516325, -1.934343886273627, -1.4882291339787588, -1.960240505775348, 0.6990647190509651, 1.4538254968188213, -1.1423556169081786] adv labels  None\n",
            "img 46 Failed\n",
            "progress: 47/None, correct:  45/47, verified: 28/45, unsafe: 0/45,  time: 0.209; 0.214; 9.611\n",
            "concrete  [-1.6395957549886049, -0.009520924509776207, 4.753568377235374, -1.3313969472046199, -5.518156067604075, -4.530543880585965, -0.01761484095092536, -5.045378625294617, -1.8391377445370356, -6.437889431390579]\n",
            "nlb  [-3.9196010040198748, -2.7872148682579754, 2.8015535893258887, -3.154230415790696, -8.78666617395583, -6.828904383442695, -1.9274978469961004, -8.637828824962005, -3.4961401023185865, -8.293154253824992]  nub  [-0.23555947045954345, 1.5362300933118203, 7.045981127154403, 1.2754742051101227, -3.6731710933585324, -0.8464867152720728, 2.777086732846423, -2.5038330064584526, 0.38858610825976825, -4.691603069233967] adv labels  None\n",
            "img 47 Verified 2\n",
            "progress: 48/None, correct:  46/48, verified: 29/46, unsafe: 0/46,  time: 0.209; 0.213; 9.820\n",
            "concrete  [-10.543593906441837, -13.46710607258306, -9.14383684972486, -4.297513825475235, 6.785356429041634, -0.8185459104167014, -8.580141113990779, -5.799454752565197, -0.7743850413717297, 1.505915558292831]\n",
            "nlb  [-11.806353416415211, -16.073693907821074, -10.704847619425454, -5.9157564149228214, 3.6549104857181605, -2.644137012442369, -10.59865514694682, -9.454934961843575, -2.6236702084227104, -0.49662436911783736]  nub  [-8.292217996756055, -11.683746406075782, -6.668781625423041, -1.2525797075016307, 8.350571095498935, 1.8144703080604379, -5.6136105805905725, -2.5632982665093107, 1.9713395613553062, 3.6826884244832008] adv labels  None\n",
            "img 48 Verified 4\n",
            "progress: 49/None, correct:  47/49, verified: 30/47, unsafe: 0/47,  time: 0.211; 0.213; 10.030\n",
            "concrete  [-6.388317397372793, -8.415340866047412, -1.9190289257089819, -7.142949168596063, 5.536697887199185, -7.177124879658288, -4.879656170245442, 0.39025930422292454, -3.7542380472082324, 0.8724478031436246]\n",
            "nlb  [-8.08839143006119, -10.673586498044532, -3.2640780464783465, -8.81137772495176, 2.790129250122182, -9.241583709235865, -6.9135838949582, -3.1925284375212626, -5.270360229100951, -1.2391837438051931]  nub  [-4.183630678107221, -6.543087484285306, -0.19889250282398782, -4.558098792741694, 7.124030763490976, -4.474350118441707, -2.1353662961749422, 2.824231475825461, -0.7303005614120958, 3.456868594028634] adv labels  None\n",
            "img 49 Verified 4\n",
            "progress: 50/None, correct:  48/50, verified: 31/48, unsafe: 0/48,  time: 0.210; 0.213; 10.241\n",
            "concrete  [-0.043016748968953834, -7.4326581366954025, -2.4695728042831164, -2.6715567042018398, -3.486097462569067, 0.8975884174061232, 5.929835263302885, -9.334997085853002, -4.9277484379710925, -5.346970938220619]\n",
            "nlb  [-2.0678402036764427, -9.151908400691344, -3.9626407085079167, -4.375099537098497, -7.352669038204519, -1.3668683141518712, 3.1027241073406726, -12.291766270475348, -6.666861863132194, -7.377407056046413]  nub  [1.5305273012988336, -5.477058535217515, 0.43615248030059184, 0.1194581437516114, -1.801759151421786, 3.7964547427302566, 7.615771006546419, -6.497913349578627, -2.3926924957632387, -3.65135851045207] adv labels  None\n",
            "img 50 Verified 6\n",
            "progress: 51/None, correct:  49/51, verified: 32/49, unsafe: 0/49,  time: 0.222; 0.214; 10.462\n",
            "concrete  [-0.8825324428810032, -3.111711846553888, -1.232645147537939, 7.191447722849629, -4.604745207005033, -2.4249705332496134, -9.139813507935626, -2.8171985971997677, -2.169257763455093, -5.797694312145393]\n",
            "nlb  [-2.534786629531416, -6.06054332663328, -3.1674738145076202, 5.340186689888013, -8.599725240645261, -4.34620179922706, -11.767786956571223, -5.847902240881775, -3.559666550620974, -8.225863773332241]  nub  [0.17917898433622556, -0.960413810973604, 1.374311968619499, 9.913877263901243, -2.815898859006562, 0.99779673644235, -6.447090802492658, -0.27423165896317026, 0.24964919360001064, -3.4052849009958277] adv labels  None\n",
            "img 51 Verified 3\n",
            "progress: 52/None, correct:  50/52, verified: 33/50, unsafe: 0/50,  time: 0.210; 0.213; 10.672\n",
            "concrete  [-0.9173609729567522, -6.284984789267471, -7.973496057389254, -2.1000309604654275, -0.9650027148940503, 5.4707862662670195, -3.718319668469972, -6.0736404815026015, -0.0013900177788601087, -1.366825968939842]\n",
            "nlb  [-3.19263256289857, -9.103045684937749, -9.574463666413923, -4.155384735434716, -5.05949558126593, 2.1214146259716222, -7.043736309719838, -9.835487252447459, -2.4949592778041554, -4.352983481626636]  nub  [1.2259062825014992, -3.706898449463095, -4.2193967918865605, 1.035074667551387, 0.9719140050610898, 8.916483756212084, -0.5187350841086316, -2.0415730999453583, 2.405760711561125, 0.8229405968520345] adv labels  None\n",
            "img 52 Verified 5\n",
            "progress: 53/None, correct:  51/53, verified: 34/51, unsafe: 0/51,  time: 0.214; 0.213; 10.886\n",
            "concrete  [-1.0219343898988316, -3.508330289746844, -4.905825734394433, 0.9223795460167818, -0.7780278047496068, 4.239326421225639, -2.254623457941643, -4.633112419588421, 0.34371795297462265, -1.3466512161528543]\n",
            "nlb  [-3.1026955794654403, -6.136980166972272, -6.3633551412980935, -1.2230104466574159, -4.2811835380035035, 1.9455787959848638, -5.179637907104578, -8.266097442096205, -1.296328625035703, -3.689099029175604]  nub  [0.5427470129187009, -1.975021343861724, -2.2850238270391356, 3.763543649362494, 0.9842719300629316, 7.180995893110614, 0.31112283910740346, -1.4798683329074107, 2.7102998883561806, 0.8356053717056013] adv labels  None\n",
            "img 53 Verified 5\n",
            "progress: 54/None, correct:  52/54, verified: 35/52, unsafe: 0/52,  time: 0.213; 0.213; 11.099\n",
            "concrete  [-3.7043292973391857, -6.392604740572042, 0.904319446962828, -6.027015881938534, -8.200037618156362, -3.2031312165259846, 6.279973532656624, -11.515902443980822, 1.1638110590772621, -6.716108892505586]\n",
            "nlb  [-5.992801417470501, -8.92396671413192, -1.0218703309113855, -7.871985374684443, -11.498029266761812, -5.957923201120818, 3.582714712618854, -14.999667038279398, -0.8748240742839349, -9.036431104832408]  nub  [-1.9594392388079926, -3.7353376985512696, 3.9029199279446063, -2.7204440359916178, -6.496151417441172, 0.5959559375520684, 8.21547308889348, -8.446910852744896, 3.8703609973079125, -4.84471927882365] adv labels  None\n",
            "img 54 Verified 6\n",
            "progress: 55/None, correct:  53/55, verified: 36/53, unsafe: 0/53,  time: 0.211; 0.213; 11.310\n",
            "concrete  [5.189195134793215, -10.796189752041537, -3.0952043457251586, -4.910626562237287, -6.7968365938757085, -0.3518684038136555, -5.329257753400754, -5.127340270249075, -1.3043736916394213, -2.591340011325474]\n",
            "nlb  [2.6878386719618432, -13.094361214058361, -4.722237801634006, -6.737140495734248, -10.567035976352159, -2.5687610743057094, -8.227247336570574, -8.871018817980836, -3.0299084122219084, -5.19241951041533]  nub  [6.491758386549099, -8.801624841787564, -0.22846827575378503, -1.7056334083622955, -4.806482205877686, 3.1178562481676417, -2.456657854803432, -1.7263507888439054, 0.9677314419267122, -0.6336966597870662] adv labels  None\n",
            "img 55 Verified 0\n",
            "progress: 56/None, correct:  54/56, verified: 37/54, unsafe: 0/54,  time: 0.219; 0.214; 11.529\n",
            "concrete  [-5.611947108774162, -9.013476148640308, -4.223159166548538, -6.074116115508841, 7.519625198242574, -2.7783475281012837, -4.342115412074226, -2.763894589890155, -3.6606574231542446, -1.0532126266631903]\n",
            "nlb  [-7.440503216989942, -11.592489900871472, -5.618193251953877, -7.629764214811752, 3.6202108206418906, -4.612560354441508, -6.508441124453128, -6.852479685917947, -5.341541448795413, -3.4285754251604903]  nub  [-3.5200266156825295, -7.230568582523831, -2.277488258569548, -2.9881965162941717, 8.758939991436463, 0.4616501052757991, -1.4342009407425267, -0.14288060764923638, -0.2792186086846418, 1.5188130159947397] adv labels  None\n",
            "img 56 Verified 4\n",
            "progress: 57/None, correct:  55/57, verified: 38/55, unsafe: 0/55,  time: 0.209; 0.213; 11.739\n",
            "concrete  [-3.134916967004267, 4.923585441662786, -1.273693635202717, -0.9466295312138536, -4.033363387169316, -6.200630255413054, -5.4958044034953435, -0.7069167478609937, -1.2331196600108858, -2.2079296467608738]\n",
            "nlb  [-4.466602581238953, 1.0438680045272821, -3.322544183628936, -2.697030876242966, -7.063704170174167, -8.66950161870481, -8.022353058564235, -4.097094693452131, -3.158703759405315, -5.015109427120314]  nub  [-1.4276549904498144, 6.482688580846527, 2.075654969655704, 1.9712420892609352, -2.2603418144257814, -2.1060226041498207, -2.257696800315153, 2.5063401699388277, 1.0945256590728445, -0.0679872317150111] adv labels  None\n",
            "img 57 Verified 1\n",
            "progress: 58/None, correct:  56/58, verified: 39/56, unsafe: 0/56,  time: 0.213; 0.213; 11.951\n",
            "concrete  [-5.729688726309474, -14.482774106083388, -6.433127188827785, -5.680026061840269, 1.379157817982459, -4.482179478348325, -6.620763148226176, 0.9602002287636109, -2.853982399357695, 6.850364958469922]\n",
            "nlb  [-7.467461434321219, -16.83959412532151, -7.832456823783476, -7.3704331880577225, -2.4124534228622814, -6.448435008794729, -9.391221527644808, -3.015207020377517, -4.624958498250892, 3.9041161370260498]  nub  [-3.490093063296284, -12.279816376064973, -2.971283064597281, -2.5919437613893925, 3.095038284532475, -0.939770910787876, -3.6149109771279164, 4.5233256328348155, -0.3899415869888135, 8.536327526928991] adv labels  None\n",
            "img 58 Verified 9\n",
            "progress: 59/None, correct:  57/59, verified: 40/57, unsafe: 0/57,  time: 0.210; 0.213; 12.162\n",
            "concrete  [1.1285275296306638, -2.6933308227426798, -5.0114725750483995, -2.1907315284880404, -1.0391105603514537, 3.299395417534495, -3.9674713904314576, -0.32382875636336306, 0.664346216095416, -1.8115004451271217]\n",
            "nlb  [-1.425588742886651, -5.707629223146671, -7.065344248034726, -4.430827720762561, -5.058761392892588, -0.594814987756749, -8.024104018519157, -4.599392094464101, -2.1478386191230383, -4.808122236413489]  nub  [3.217824092497476, 0.13162027091029632, -0.6133006469191699, 1.0668725645442574, 1.1858086000393935, 6.914868118929978, -0.8829732788098356, 4.021726698999802, 3.0022708011009964, 0.4373604179028614] adv labels  None\n",
            "img 59 Failed\n",
            "progress: 60/None, correct:  58/60, verified: 40/58, unsafe: 0/58,  time: 0.216; 0.213; 12.378\n",
            "concrete  [-2.9559278937795814, -9.78997607095498, 0.5039930031209157, 3.8908933215910517, -3.136522737503842, -0.8519639866126207, -11.36583320085075, 8.719208313955736, -2.386562712889827, 1.4548311127983131]\n",
            "nlb  [-4.015605698231934, -12.01236985497205, -1.1656871445668349, 2.604253257364534, -5.7240082462150275, -2.8811213102580058, -12.98690908065003, 5.568058880522946, -3.655779353351199, -0.9317997166911764]  nub  [-1.8264470139763207, -7.818556670608771, 2.3370471209906762, 6.199678129670548, -1.7056134129575835, 2.8242422869285555, -8.829954624279718, 10.455473271739868, -0.1895936539629317, 3.0277942152204775] adv labels  None\n",
            "img 60 Failed\n",
            "progress: 61/None, correct:  59/61, verified: 40/59, unsafe: 0/59,  time: 0.213; 0.213; 12.591\n",
            "concrete  [-4.52549447771128, -5.972857693160945, -1.101559915868542, -7.800192706467845, -6.511895482232587, -0.5933280383868109, -1.7575242976759036, -13.429252557874202, 5.785467120159577, -1.7869276849864715]\n",
            "nlb  [-6.514037370983122, -8.402809250536468, -3.224502417220774, -9.416484483596383, -10.261453196727793, -3.2852415838014357, -4.946998621116751, -16.72414871134142, 3.6835583962999214, -4.84563404472311]  nub  [-2.002327761768691, -4.288224601903187, 2.554532397078015, -4.301535135553967, -4.615331531855357, 3.1709234364066856, 1.2613535971525642, -9.545041009052241, 7.472941142186195, 0.07092580375053385] adv labels  None\n",
            "img 61 Verified 8\n",
            "progress: 62/None, correct:  60/62, verified: 41/60, unsafe: 0/60,  time: 0.213; 0.213; 12.803\n",
            "concrete  [-5.476891073482606, -6.47647281077044, -2.867531867341038, -2.6928890066187328, 0.5750453272298651, -0.6709428239259405, -2.6297980347485495, -3.6199256935240682, -0.5647765980954593, 2.5799058612227665]\n",
            "nlb  [-7.014056866181395, -9.655542704813941, -4.662963352835542, -4.5467295093097455, -3.1722116493368797, -3.263869207438268, -5.264232722466887, -7.5362410981084, -2.8351055459817327, -1.0789601250038283]  nub  [-3.250492477893072, -4.291217524232662, 0.7562364755564215, 0.3471886650174546, 2.2422111767901027, 3.6067782968313513, 0.7979763619720907, 0.08204675564291967, 2.0513553638970103, 4.599388298818797] adv labels  None\n",
            "img 62 Failed\n",
            "progress: 63/None, correct:  61/63, verified: 41/61, unsafe: 0/61,  time: 0.213; 0.213; 13.016\n",
            "concrete  [-3.297254711031382, -1.2278221399524705, 3.054359236608866, 3.700025429957208, -6.533772871542, -4.067919599508191, -3.8804692661618536, -7.037385933012737, 0.4870044587374538, -3.029367743379113]\n",
            "nlb  [-5.480698192564797, -5.120051968913643, 0.2345458861844864, 1.2759778926064227, -10.279704361716929, -7.0751455172796005, -6.766195879447241, -11.191323524231299, -1.8798856845605754, -6.302371906130019]  nub  [-1.371323317352587, 0.7954608539671374, 6.185599767563029, 6.2177289812792775, -4.102393412127957, 0.3970341680878234, -0.8214790174579557, -2.724887332267008, 2.713092594847545, -0.5397077057192466] adv labels  None\n",
            "img 63 Failed\n",
            "progress: 64/None, correct:  62/64, verified: 41/62, unsafe: 0/62,  time: 0.213; 0.213; 13.229\n",
            "concrete  [-1.7064892322714147, -12.71035219203488, 2.3271414032818787, 3.469414343257842, -0.8271041827966095, -6.694943471515526, -12.346282904148776, 9.677034666491284, -3.598167597202529, 1.0711634222470479]\n",
            "nlb  [-3.300006565854602, -15.054179597370666, 0.48368992892640017, 1.8554541438628527, -4.468182578738047, -8.606225938510825, -14.343202151906503, 6.5333441758892565, -5.049525201831316, -1.9176573458555615]  nub  [-0.3073261552801327, -10.589157928099901, 4.546684889227241, 5.709265339269384, 0.8421450218298112, -3.253777793279799, -9.717902887658381, 11.50079164054915, -1.536429140849364, 3.0207489081446637] adv labels  None\n",
            "img 64 Verified 7\n",
            "progress: 65/None, correct:  63/65, verified: 42/63, unsafe: 0/63,  time: 0.221; 0.213; 13.450\n",
            "concrete  [-4.805788598494173, -3.742914738167678, -3.7609342050758117, -1.1827664950138725, 3.5497082779149705, -0.3735173167970878, -2.633537428549835, -4.490420588648022, -2.349204666174578, -0.5381467963181993]\n",
            "nlb  [-6.20384584586789, -7.319041803711514, -5.5671839068642655, -2.844061643873938, -0.1727621768780558, -3.0051978086384095, -5.167055999260814, -8.797999951981355, -4.153271844419814, -3.2962017152090417]  nub  [-2.5728754059774275, -1.9742830841662795, -0.9963518856354281, 1.9854408385244486, 5.118178929309157, 3.8244081804386574, 0.7731320063144563, -0.9716790492175329, 0.612327569864074, 2.2394234817391085] adv labels  None\n",
            "img 65 Failed\n",
            "progress: 66/None, correct:  64/66, verified: 42/64, unsafe: 0/64,  time: 0.212; 0.213; 13.662\n",
            "concrete  [-2.300175401927202, -2.5761155895543197, -1.6183666315629712, -1.454989206810065, -2.2729004200471477, -1.6288454585240122, 1.6592916167895602, -3.441751225999677, -0.8687638968241245, -4.467563462942991]\n",
            "nlb  [-4.43690498260899, -5.46704624263487, -3.3667421335447756, -3.509128413589567, -6.416671747092284, -3.9170718453513427, -1.7585821018958467, -7.558949587191127, -3.0068636961294795, -6.886135707022858]  nub  [-0.4817744438161215, -0.5853955985201108, 0.9938603550017735, 1.761504260828041, -0.4857453831510511, 1.9445392547347633, 4.370863528626135, 0.10284016995948227, 2.038863285791707, -1.977842123169195] adv labels  None\n",
            "img 66 Failed\n",
            "progress: 67/None, correct:  65/67, verified: 42/65, unsafe: 0/65,  time: 0.211; 0.213; 13.873\n",
            "concrete  [-4.37328631785058, -6.725544783842997, -1.9034471484967816, -7.77336866677859, 4.975885067690405, -4.968536222849864, -3.880284487045957, -0.7133608827064194, -5.237846589160606, -0.9699859881128562]\n",
            "nlb  [-6.0186490797289185, -8.867016574608899, -3.3709757733085457, -9.273199992165779, 2.8054672141664, -6.9160672836001185, -5.748087210677204, -3.9657243506456554, -6.580679025843404, -3.0510306996896444]  nub  [-2.186337398879035, -4.855427732900617, -0.2528527952679034, -5.579810553364045, 6.24940576048584, -2.6355821278173273, -1.2627774261704499, 1.3456055080881737, -2.2346459702533092, 1.5358129164618655] adv labels  None\n",
            "img 67 Verified 4\n",
            "progress: 68/None, correct:  66/68, verified: 43/66, unsafe: 0/66,  time: 0.211; 0.213; 14.084\n",
            "concrete  [-4.39117916316988, -7.144878042002636, -5.126191742740934, 7.5391850718216125, -4.602247332356054, 0.24936734356434753, -10.233530580141098, -6.141970013027752, 1.9745507995687874, -2.876263195697455]\n",
            "nlb  [-6.09275921217336, -10.067839597503198, -6.975833165787715, 5.666592010694734, -8.249033291688477, -2.2300742485526466, -12.828137781494988, -9.910523121761168, -0.058188424136922615, -5.434248013102636]  nub  [-2.887524510680204, -5.100640914313272, -1.571710454422697, 10.258735407510915, -3.0403853303170565, 4.033143375476996, -7.30555265420612, -2.5407344675703363, 4.09807117183075, -0.6500280638129268] adv labels  None\n",
            "img 68 Verified 3\n",
            "progress: 69/None, correct:  67/69, verified: 44/67, unsafe: 0/67,  time: 0.212; 0.213; 14.296\n",
            "concrete  [5.997759558095284, -7.16635278383235, -2.2078355766913944, -2.3594480012664145, -8.985337536036258, -0.24582638916508637, -3.0446625217620022, -2.2166034157924135, -4.938909790133257, -4.21007812438871]\n",
            "nlb  [3.5094956236584225, -9.2371899232814, -3.39587666496837, -3.91627356441125, -11.617425619791433, -1.6683149451980723, -4.757519184491427, -5.520869926847843, -6.346928274355542, -6.545409542328041]  nub  [7.105455405953472, -5.849922054655322, -0.2382202052945197, -0.28552047084291454, -7.615482775691941, 2.999581538483963, -0.8216193453208013, -0.5548208531287327, -2.5638084511316093, -2.2329633318264785] adv labels  None\n",
            "img 69 Verified 0\n",
            "progress: 70/None, correct:  68/70, verified: 45/68, unsafe: 0/68,  time: 0.216; 0.213; 14.512\n",
            "concrete  [0.24015624549529735, -11.674274641522505, 0.7456959318518668, 1.1940814854854143, -1.7850313571219347, -3.323891306521824, -10.601008002178233, 8.846221640774871, -2.4450172567664046, 0.9247111657715269]\n",
            "nlb  [-1.2806724252315245, -13.408658197500197, -0.3776862756321749, -0.12010351878631592, -4.661265789788428, -4.865330824728814, -12.505879294736209, 5.964150267575476, -3.921444300057712, -1.6664317994292839]  nub  [1.1687456070889972, -9.7092870450237, 2.3384998016349354, 3.313452483887384, -0.6081514044146366, -0.9673487023867349, -8.484255348549967, 10.608640349027944, -0.636751607961137, 2.4438710919964994] adv labels  None\n",
            "img 70 Verified 7\n",
            "progress: 71/None, correct:  69/71, verified: 46/69, unsafe: 0/69,  time: 0.230; 0.214; 14.742\n",
            "concrete  [8.802031160795726, -9.493845842250712, -1.9662510371426816, -6.612035885606258, -10.80120840107856, -3.3992388863807097, -6.704433985781276, -3.412451387353681, -3.8183982979612363, -4.950121914615039]\n",
            "nlb  [6.340958638806041, -11.413104461827405, -3.8413170101509793, -8.217332157564416, -13.73077957141017, -5.112405512419757, -8.364567698117211, -6.763433465032475, -5.2388843409032955, -7.2727251951581255]  nub  [9.805083965239103, -8.06823769569682, 0.3330277331881546, -4.21499263917753, -8.838141669620294, 0.28412627199917684, -4.2530998774934226, -1.6006349388285244, -1.6290978194530439, -2.936715184441354] adv labels  None\n",
            "img 71 Verified 0\n",
            "progress: 72/None, correct:  70/72, verified: 47/70, unsafe: 0/70,  time: 0.209; 0.214; 14.951\n",
            "concrete  [1.4700832953893395, -1.2088499745932988, 5.747652753608642, 1.8355606381012264, -10.790614864543016, -4.483410635330764, -4.4768953721255995, -3.4216660900491855, -2.658743525180679, -9.695746690056694]\n",
            "nlb  [-0.8603311981173027, -2.9608968646358114, 4.277037013303738, 0.36692584214580237, -13.162149292879882, -6.112056559999444, -6.2027830909382615, -6.0617644273473505, -3.8149558466705, -11.29074330919327]  nub  [2.711424444900436, -0.2136667139564733, 7.1611270742148445, 3.7411711924285562, -9.613159498025917, -1.2675211795429198, -2.581553026645039, -1.7040673659846464, -0.4983929984121936, -8.070550119282242] adv labels  None\n",
            "img 72 Verified 2\n",
            "progress: 73/None, correct:  71/73, verified: 48/71, unsafe: 0/71,  time: 0.207; 0.213; 15.158\n",
            "concrete  [-4.644361751795278, -4.261786333873676, -6.193679887877795, -0.3645813733678632, -6.818612524219743, -6.200568267888435, -14.2307077689556, 1.6061523370988833, -0.6716880367068, 3.516672514405395]\n",
            "nlb  [-6.2780719189245575, -7.415859967304903, -8.226349425479096, -1.7388218134183382, -9.870480127330408, -8.513551425274144, -15.65468671280792, -2.485246827153752, -2.287291614686416, 0.5064670250020576]  nub  [-2.950876421516944, -2.5010316023375925, -2.656278746263976, 2.2600811053840903, -5.136935267581298, -1.2058028495957258, -10.91534554342537, 4.359787697219119, 1.6266835775264032, 5.191992486799026] adv labels  None\n",
            "img 73 Failed\n",
            "progress: 74/None, correct:  72/74, verified: 48/72, unsafe: 0/72,  time: 0.213; 0.213; 15.371\n",
            "concrete  [-4.265215607702042, 6.583084052304362, -3.5854997036803113, -2.0968592622340876, -5.958461025366458, -6.309680392063222, -5.326477089236606, -3.35187899272799, -0.08978689872166945, -3.3836995354903743]\n",
            "nlb  [-5.716347870753682, 2.6059325421468915, -5.398189491091903, -3.824923719502033, -9.160480657133991, -8.541729891571027, -7.909690054170132, -6.94838953312231, -2.079639232454345, -6.138426561532703]  nub  [-2.3967432448273365, 7.91793247763354, -0.032509295707271124, 1.0185235711745646, -4.0808632198534305, -2.13029123073276, -2.1315736625871047, 0.14624621517438158, 2.1283118727788315, -1.1608395036177357] adv labels  None\n",
            "img 74 Verified 1\n",
            "progress: 75/None, correct:  73/75, verified: 49/73, unsafe: 0/73,  time: 0.219; 0.214; 15.590\n",
            "concrete  [-5.018910762729307, -5.305338088745695, -1.1179938572005568, -2.040442072004529, 0.014900565112519026, -7.910377577942997, -10.320349979081588, 7.143782855888038, -2.9293040898295293, 0.8791057664197337]\n",
            "nlb  [-5.979992071661951, -8.2402488977742, -3.1619851226680766, -3.465918834801204, -3.4570423395246883, -9.919290293091882, -12.535846650361812, 3.729547327026142, -4.579871554348559, -2.1912003134278715]  nub  [-3.533269560928234, -3.2763176528016937, 2.210705887596435, 1.1550666130908493, 1.4734118924062851, -3.6721294005006895, -7.064285298275957, 9.706542531741997, -0.4657959340252535, 2.822273635738966] adv labels  None\n",
            "img 75 Verified 7\n",
            "progress: 76/None, correct:  74/76, verified: 50/74, unsafe: 0/74,  time: 0.224; 0.214; 15.814\n",
            "concrete  [-2.192963776869969, -0.8509646840754155, -3.0183770814374546, 5.4638200242674415, -4.908885186351339, 2.3258866728358756, -5.370744985304167, -5.07759015147808, 2.1430311273909086, -2.8630528319471513]\n",
            "nlb  [-4.224314742145007, -3.960980562830045, -5.392630860235451, 3.275249178961245, -8.59171743973275, -0.39073294602230224, -7.872086336055143, -8.94615617378725, 0.16024866216892897, -5.136115256762397]  nub  [-0.771665184020386, 1.2610909691256098, 0.24834077657140702, 7.925244096992866, -3.002777453669036, 5.900238380804783, -2.3480838773060837, -2.04325181278241, 4.043938937680611, -0.8227022692842922] adv labels  None\n",
            "img 76 Failed\n",
            "progress: 77/None, correct:  75/77, verified: 50/75, unsafe: 0/75,  time: 0.211; 0.214; 16.025\n",
            "concrete  [-1.4624129847989038, -1.4315629005470614, 2.980037431598418, -2.9258172504481874, -5.395207650635487, -3.8309143412123463, -4.114228566146386, 0.731133343793316, -1.0894023641309285, -2.7966080792551025]\n",
            "nlb  [-3.5757107191831587, -4.979138703864227, 0.7738812074663607, -4.932613553385356, -8.400229867921775, -6.605484212279185, -6.91054566274567, -3.829941161199506, -2.839365150595951, -5.413218213612234]  nub  [0.09110174294091716, 0.6996586704730748, 5.571201387202782, 0.2959104352380714, -3.550504249267715, 1.2014296411791703, -0.5124665806948725, 3.8746509090260743, 1.2841410777125115, -0.507441602080534] adv labels  None\n",
            "img 77 Failed\n",
            "progress: 78/None, correct:  76/78, verified: 50/76, unsafe: 0/76,  time: 0.212; 0.214; 16.237\n",
            "concrete  [-5.770066790339448, -3.985676335021439, -7.259538077615187, -0.6588019960295697, -1.1802418911341594, -4.167204133814401, -8.574848314832884, -1.2163688654999298, 0.5565181142459725, 3.770445911593208]\n",
            "nlb  [-7.24971590709711, -7.2637094610236455, -8.972629041036107, -2.5147389502494613, -4.853053820822528, -6.653385154001832, -11.220318449772416, -5.588564189118879, -1.8174392192544229, -0.018803911727279438]  nub  [-3.6146979766524865, -1.9018153829318263, -3.4526172694260473, 2.5522332182847585, 0.5088229708325808, 0.5772867165408486, -4.850630871495428, 2.6775594123556323, 2.851981782406773, 5.65480143626819] adv labels  None\n",
            "img 78 Failed\n",
            "progress: 79/None, correct:  77/79, verified: 50/77, unsafe: 0/77,  time: 0.212; 0.214; 16.450\n",
            "concrete  [-2.698351299380553, -13.443960437564286, -5.052690585390674, -2.674134131164911, -6.4682011463505855, -2.361807104007436, -16.200280204944644, 10.55977383247778, -2.3207252266955796, 2.53088623910638]\n",
            "nlb  [-3.8509861698370402, -15.520363350855668, -6.798275235669208, -4.050208960294834, -9.237779700595771, -4.135359725571372, -17.708041720804108, 7.159055775436507, -3.754997066176242, -0.1046749501661017]  nub  [-1.413492092973711, -11.658221094389347, -1.8189846446173212, -0.1598895886243059, -4.852393427935853, 0.49541280060293424, -13.628942262974993, 12.788172004730493, -0.11220571127730919, 4.00061572384743] adv labels  None\n",
            "img 79 Verified 7\n",
            "progress: 80/None, correct:  78/80, verified: 51/78, unsafe: 0/78,  time: 0.214; 0.214; 16.663\n",
            "concrete  [-3.2663874300285927, -8.53451075422484, -3.794390442193172, 0.007755983146988832, -1.1205902317696899, 0.5265331497074532, -8.808014893148023, 4.1745557419126555, -2.8155662565817154, 5.0346425192664706]\n",
            "img 80 not considered, incorrectly classified\n",
            "progress: 81/None, correct:  78/81, verified: 51/78, unsafe: 0/78,  time: 0.004; 0.214; 16.663\n",
            "concrete  [-1.749467509498089, -9.029093370680457, -1.6356755246947932, -5.220226092191849, -4.035008619848293, 1.8690191354391257, 5.156202159049039, -9.865096384167174, -3.147921059252955, -5.153672838496945]\n",
            "nlb  [-3.5975626321412326, -11.294956928680332, -2.979557387668887, -6.73674303528287, -7.575848007548513, 0.05875347178945156, 2.720682759769826, -13.075203070303983, -4.675528261142072, -7.423921593331348]  nub  [-0.3554930895532059, -7.019553866207562, 0.7906606577341472, -2.6067885986267254, -2.3501048464752206, 4.791139608908163, 7.043122434189239, -6.9693385783505235, -0.7711823184018622, -2.996145773506263] adv labels  None\n",
            "img 81 Failed\n",
            "progress: 82/None, correct:  79/82, verified: 51/79, unsafe: 0/79,  time: 0.210; 0.214; 16.873\n",
            "concrete  [-2.2370056308761606, -1.9431026073195072, 10.628199824812112, -0.901689480342132, -10.70720371010016, -7.394469216528582, -5.022768098214589, -8.224537749663638, 0.4372367506462057, -9.288912715111236]\n",
            "nlb  [-4.334931605102351, -3.9426216147825306, 8.62688377232907, -2.5771815199637866, -13.184578922050559, -9.208978647653607, -7.145632837930545, -11.327556123135924, -1.0025273609806409, -11.248464959042447]  nub  [-0.6189279313720234, -0.7806921730645255, 12.22719100318503, 1.2190568735790002, -8.727971652456754, -4.484875041401869, -2.5715609044038064, -5.7799351847473845, 2.4355625408172696, -7.453706111100253] adv labels  None\n",
            "img 82 Verified 2\n",
            "progress: 83/None, correct:  80/83, verified: 52/80, unsafe: 0/80,  time: 0.209; 0.214; 17.083\n",
            "concrete  [-1.7476415216963987, -9.514578166798062, -2.8165443603696647, -0.048309084349166975, -1.634675575805355, -1.0581813954638382, -9.588644751330735, 7.3465414333541785, -3.1272250361947247, 4.101226041757701]\n",
            "nlb  [-3.3528731132715874, -11.89488847396554, -4.593731189051859, -1.9978532931305868, -5.120617698970414, -2.870054990127525, -11.679890227192786, 3.104816986896453, -4.538790354934167, 1.3318204112222332]  nub  [-0.12223000497347908, -7.547800871026246, 0.08999725781777274, 2.6958593933180888, 0.08604353405042625, 2.389360826336638, -6.764944305355434, 9.922890239349488, -0.7563042475626003, 5.572266501689551] adv labels  None\n",
            "img 83 Failed\n",
            "progress: 84/None, correct:  81/84, verified: 52/81, unsafe: 0/81,  time: 0.212; 0.214; 17.295\n",
            "concrete  [-5.7271931500988185, -5.112080422775513, -6.508317288710341, -4.820499787836078, -0.998840147587055, 2.6617910013147292, -3.7803936522047756, -9.777340268987771, 4.754928093460732, -2.463346562057834]\n",
            "nlb  [-7.775532078916422, -8.189644612420487, -8.80372042910987, -6.594520136490415, -4.717907047861518, -0.31930409967383766, -6.412543961150793, -13.317234234013961, 2.5309879369134394, -5.38846026368893]  nub  [-3.520354689075645, -3.449528458547836, -2.7772131349628744, -1.6632817407925755, 0.572051500163547, 7.116419563832779, -0.3933647900844333, -6.249545084375256, 6.87001438695799, -0.06502993222272226] adv labels  None\n",
            "img 84 Failed\n",
            "progress: 85/None, correct:  82/85, verified: 52/82, unsafe: 0/82,  time: 0.219; 0.214; 17.514\n",
            "concrete  [-9.185793713278036, -12.008432965535347, -6.406253494593599, -5.6995171532122555, 9.880002530735958, -1.9764235465744644, -6.323828251891433, -4.256918884194079, -3.7853485296738354, -0.633178490650598]\n",
            "nlb  [-10.824532599801842, -14.282127895001029, -7.876432715673525, -7.200834556528975, 6.625610228939893, -3.9687377591884276, -8.367953513987368, -8.176800393291762, -5.762730864160583, -3.104240858880701]  nub  [-7.216334778040804, -10.062578131429655, -4.632946201730449, -2.598654154061176, 11.18984259277281, 1.2333799788139805, -3.317171844761508, -1.3300057845932864, -0.6413089322445807, 1.6868757267414765] adv labels  None\n",
            "img 85 Verified 4\n",
            "progress: 86/None, correct:  83/86, verified: 53/83, unsafe: 0/83,  time: 0.210; 0.214; 17.724\n",
            "concrete  [-3.4948331636892025, -6.153827875430336, -0.5036536562893916, -1.9282067457799072, -4.780836441366135, -7.574281556734963, -15.497781270986318, 9.091298645743528, -3.4282891874487245, 0.6931442775530574]\n",
            "nlb  [-4.625116894009896, -9.13110946268045, -2.6902155725816574, -3.4862258862502227, -7.720368865215008, -9.708174525065548, -17.260573885177546, 5.546968358557585, -4.923457341129725, -2.5075495677624056]  nub  [-2.153778534790432, -4.198260436035871, 2.655389707269445, 0.755802889106742, -3.0671045754488326, -3.553930958636168, -11.985935398736721, 11.206377456652861, -0.864481097180182, 2.647029691589493] adv labels  None\n",
            "img 86 Verified 7\n",
            "progress: 87/None, correct:  84/87, verified: 54/84, unsafe: 0/84,  time: 0.213; 0.214; 17.936\n",
            "concrete  [-0.13896146321256125, -9.004023593145803, -6.157292683786652, 3.987621406848878, -0.6934143371954428, 3.0653086449269322, -2.9565020214465965, -2.388294850207412, -3.9273887755790016, -0.8638119592629925]\n",
            "nlb  [-2.267264454664898, -11.90691234795649, -7.593422378717473, 1.6534529252698085, -4.884413922095479, 0.2883147130540464, -6.30612032316735, -6.558251693675689, -5.854581847827827, -3.932846928652014]  nub  [1.3632338276914897, -6.317143374843219, -2.9054389225079382, 6.9587350176861325, 1.2307516375902448, 6.557976586730179, -0.10740141366385103, 1.1038652490087641, -1.2748595268570604, 1.4143682551849124] adv labels  None\n",
            "img 87 Failed\n",
            "progress: 88/None, correct:  85/88, verified: 54/85, unsafe: 0/85,  time: 0.210; 0.213; 18.146\n",
            "concrete  [-3.6163372331787604, -7.867653165661441, -1.464812081980129, -6.991083257964881, -1.908543434030489, -1.6906844778187393, 8.639071250595793, -9.638785345190852, -4.377598652801846, -5.433542386851983]\n",
            "nlb  [-5.552988912186889, -9.917391712393325, -2.910999565478857, -8.713944753496559, -5.180016599945937, -3.561698484100603, 6.528780642245475, -12.916335285159297, -6.116314672875263, -7.763550439209619]  nub  [-2.188699248803455, -5.8250125827839945, 1.0023715006311704, -4.237938353189662, -0.13490014751381832, 1.2227624844207392, 10.064931102631025, -7.028706104464631, -1.379576290463466, -3.3256127896367165] adv labels  None\n",
            "img 88 Verified 6\n",
            "progress: 89/None, correct:  86/89, verified: 55/86, unsafe: 0/86,  time: 0.219; 0.214; 18.365\n",
            "concrete  [-4.155736376241209, 5.960224848764998, -2.2038246105214623, -2.067423091418645, -4.625817008762753, -6.414803550712882, -3.2256366478386944, -3.5482392092425945, 0.1485416584044814, -4.966153665834849]\n",
            "nlb  [-5.998013986455954, 2.168332480223109, -4.243990078286266, -3.916102710732706, -7.9386363562355005, -9.312932724076108, -5.941577279450363, -7.864508490197776, -2.3067462495579494, -8.129919329100742]  nub  [-1.918869651130672, 7.741506309503056, 1.7421560890712053, 0.9598018851625629, -2.5349132063961624, -1.618356933989316, 0.3153179479460284, -0.003677428252235798, 2.6518924682697502, -2.891964214759503] adv labels  None\n",
            "img 89 Verified 1\n",
            "progress: 90/None, correct:  87/90, verified: 56/87, unsafe: 0/87,  time: 0.280; 0.214; 18.645\n",
            "concrete  [-0.9483482288706527, -3.124477320427693, -2.766403694813927, 8.394225573119398, -6.822350234826913, 2.635585041245704, -11.901378662786826, -1.3422186492081478, 1.7001397582912054, -0.3881989479723934]\n",
            "nlb  [-3.001800629718483, -6.5846022191994065, -5.417611998507452, 5.87235507621552, -10.290129315133958, -0.6960966112274645, -13.778960375327983, -4.932837506810333, -0.5963102865834526, -3.4705150768724544]  nub  [0.7621614512691196, -0.8408390702300657, 0.4996885676169971, 10.440491511876953, -4.815683887453098, 6.375037235753764, -8.80103591783878, 1.5083979931125215, 3.7234172968646986, 1.577900347175124] adv labels  None\n",
            "img 90 Verified 3\n",
            "progress: 91/None, correct:  88/91, verified: 57/88, unsafe: 0/88,  time: 0.332; 0.216; 18.978\n",
            "concrete  [-5.296574377330872, -5.074658032463441, -0.9661324139018671, -4.480714457084661, -3.6807440905318947, 0.0864676659069834, 7.916540616200353, -11.181531944635637, -2.4872578038637387, -5.821224466877613]\n",
            "nlb  [-7.631127079131415, -8.022268955553665, -3.0655277319114678, -6.2153983815222515, -7.179146472553737, -2.1347925462451967, 5.390561133298454, -15.020287449662947, -4.193950506347621, -8.025273293073779]  nub  [-3.7825493251591777, -3.070313237527789, 1.856262542694534, -1.4525010224883883, -1.709026840667426, 3.9373955081324676, 9.775480787506364, -8.185315589709665, 0.7016591559420176, -3.472146433381048] adv labels  None\n",
            "img 91 Verified 6\n",
            "progress: 92/None, correct:  89/92, verified: 58/89, unsafe: 0/89,  time: 0.399; 0.218; 19.376\n",
            "concrete  [-3.802398255737383, -4.141031437813333, -3.552855459054788, -2.2916242777527067, 0.9664196684275667, -1.9687282752865825, -3.3199455890291856, -2.111781605380094, -0.31755115988273536, 1.7387468851309544]\n",
            "nlb  [-5.577577290752331, -7.070386950642092, -5.448600639773419, -4.160477409956621, -2.9992697614162114, -5.287147491992977, -6.743264169396167, -6.186685887764111, -2.6771526061882946, -2.01302180132424]  nub  [-1.5436692682198487, -1.6376544965662183, 0.37353907989638074, 0.9281010722723557, 2.7114634226980425, 2.095838611239609, 0.10013250255110782, 2.174044520775976, 2.132208173672609, 3.988474098418518] adv labels  None\n",
            "img 92 Failed\n",
            "progress: 93/None, correct:  90/93, verified: 58/90, unsafe: 0/90,  time: 0.374; 0.219; 19.750\n",
            "concrete  [-2.583332975119654, -6.497614675540975, -4.565018688232137, 8.219732012614454, -10.140707012576993, 1.966556244834082, -15.254130650324868, -0.5663268353027413, 1.3680611816661692, 0.4050193755511449]\n",
            "nlb  [-4.037140085989106, -9.728739049399493, -6.919980765444397, 6.1978054117761605, -13.51695603828646, -0.6477220979243243, -17.208453491251497, -4.141839853729774, -0.9682207051982202, -3.175310731038435]  nub  [-0.5936516168683175, -4.515114584102227, -1.0870362803936495, 10.675049623017838, -8.040206332663805, 6.017659877691099, -11.608596418815175, 2.2843016847645923, 3.552596073033593, 2.641674013761657] adv labels  None\n",
            "img 93 Verified 3\n",
            "progress: 94/None, correct:  91/94, verified: 59/91, unsafe: 0/91,  time: 0.376; 0.221; 20.126\n",
            "concrete  [-6.861588166510327, 7.551937688801161, -3.5136270042290705, -2.3180038163267955, -5.727648070787854, -8.49013093068574, -5.051408432210136, -5.945776707812452, 0.7295443782197303, -5.1357692066967315]\n",
            "nlb  [-8.413518559689633, 3.9792337935571633, -5.303954205853508, -4.0496489785671645, -8.932519484221599, -10.775009548189278, -7.463559133977778, -9.81403257091298, -1.2205235691164835, -8.0374204546268]  nub  [-5.0062517184983255, 8.956496017517766, 0.0675277002782656, 0.7534782123043102, -3.7080255012116483, -4.247284028231814, -1.7503652840311568, -2.5255307925859407, 2.848238440328558, -3.038613651790866] adv labels  None\n",
            "img 94 Verified 1\n",
            "progress: 95/None, correct:  92/95, verified: 60/92, unsafe: 0/92,  time: 0.408; 0.223; 20.534\n",
            "concrete  [-8.510733144736864, -10.867698451551473, -8.01391609857523, -12.627017273164212, 6.133382102151658, -5.219227604032081, -2.083530326973543, -6.069501406248729, -3.984534330276309, -1.1796747430492782]\n",
            "nlb  [-10.571769742090146, -14.497549955626532, -9.948240384733676, -14.242372069296344, 2.148515242834096, -8.218291225401538, -4.8279240464378415, -10.511270457315831, -6.189383273751856, -4.091116438131764]  nub  [-5.725685447870339, -8.498519142405726, -4.620445937179415, -8.9731652971964, 7.809253701338063, -0.6561115231411248, 1.5436477739265992, -2.5101417718059817, -0.1330118160938684, 1.6774651999900496] adv labels  None\n",
            "img 95 Verified 4\n",
            "progress: 96/None, correct:  93/96, verified: 61/93, unsafe: 0/93,  time: 0.407; 0.225; 20.941\n",
            "concrete  [-3.619249458561108, 3.304751674853504, -3.2614684071545623, -1.0800196853782982, -2.088764384823712, -4.146064979383318, -5.431583236630545, -0.8512484129299507, -0.745612048936819, -0.6617018143907687]\n",
            "nlb  [-5.200613173111105, -0.2642858083828682, -5.151741750810116, -2.7960500264022414, -5.547407268799955, -6.400467028438235, -7.930561965615846, -5.099286821582589, -2.7324645172265347, -3.5798634397487255]  nub  [-1.9228821758964596, 5.258787562788563, 0.07788554763368657, 2.273276383150211, -0.397513224367787, 0.2193840178957716, -2.0861369123628988, 2.3522417240564697, 1.6271253792394387, 1.6470018201470198] adv labels  None\n",
            "img 96 Failed\n",
            "progress: 97/None, correct:  94/97, verified: 61/94, unsafe: 0/94,  time: 0.363; 0.227; 21.304\n",
            "concrete  [-3.747999600120166, -2.1885763063243635, 1.9039896932964635, -2.1527879577337106, -4.249408658610829, -11.409064247001522, -9.27900992009996, 4.771163935012327, -4.122802610212353, -4.693979812072383]\n",
            "nlb  [-4.931471724163785, -5.093757298726558, -0.37180747113575807, -3.6795729385919187, -7.946116789711844, -13.240121502012396, -11.785749642649279, 1.1443736433053464, -5.796363563525185, -7.7041156065305]  nub  [-2.1444188210463997, -0.21888407274954613, 4.606771817391016, 0.8792392954542738, -2.4724635914965507, -7.018990549346671, -6.082856057583511, 7.308833132051758, -1.466549453771846, -2.249935489372714] adv labels  None\n",
            "img 97 Failed\n",
            "progress: 98/None, correct:  95/98, verified: 61/95, unsafe: 0/95,  time: 0.215; 0.227; 21.519\n",
            "concrete  [-1.6438593777192985, -5.4602914150419055, -1.2392181696122537, -5.135331468323007, -4.914508079087338, 1.3376524019472436, 5.192165516751359, -10.45992112829437, -2.011696075484094, -7.417150260011733]\n",
            "nlb  [-3.4508975018565353, -7.1331889037118374, -2.674587203967795, -6.428404549717798, -8.36008936440135, -0.2746320063416423, 3.101551022880653, -12.821864749943481, -3.1696810032787646, -9.03780643093172]  nub  [-0.30389822963530616, -4.417701095910128, 1.1679207633320594, -2.7258353252480663, -3.5524594964847362, 4.558144925271348, 6.6492549920189505, -8.402878740287404, 0.07849582402148098, -5.770647344770087] adv labels  None\n",
            "img 98 Failed\n",
            "progress: 99/None, correct:  96/99, verified: 61/96, unsafe: 0/96,  time: 0.217; 0.226; 21.736\n",
            "concrete  [-9.202807853898083, -15.046509776426735, -4.892855639248151, -4.869070802911589, 0.255984935150428, -7.20879835935567, -8.224299639069098, -0.17913128701677872, -1.5136015008028267, 8.119707959999019]\n",
            "nlb  [-10.639934958267046, -17.85498905119256, -6.459548859232253, -6.6546581608583235, -3.556209965786326, -9.949474118887988, -11.031176410780029, -4.444145288212551, -3.2181563092117567, 5.443641611245606]  nub  [-7.385194210577186, -12.447193019851133, -2.1351468050754345, -1.5949199437335702, 1.902480239711906, -2.1727221836646495, -4.848188764761791, 3.056642906703668, 0.7800933613657685, 9.557858683943577] adv labels  None\n",
            "img 99 Verified 9\n",
            "progress: 100/None, correct:  97/100, verified: 62/97, unsafe: 0/97,  time: 0.214; 0.226; 21.949\n",
            "analysis precision  62 /  97\n"
          ]
        },
        {
          "output_type": "stream",
          "name": "stderr",
          "text": [
            "2022-07-20 08:24:18.226920: E tensorflow/stream_executor/cuda/cuda_driver.cc:271] failed call to cuInit: CUDA_ERROR_NO_DEVICE: no CUDA-capable device is detected\n",
            "./optimizer.py:26: UserWarning: gpupoly not available.\n",
            "  warnings.warn(\"gpupoly not available.\")\n"
          ]
        }
      ]
    },
    {
      "cell_type": "markdown",
      "source": [
        "The verifcation returns multiple pieces of information.\n",
        "\n",
        "First we can see, that from 100 tested input images only 97 where correctly predicted by our network, wich is to be expected with a accurcy of roughly 93%.\n",
        "\n",
        "Of these 97 only 62 could be verified to be robust in the are defined by our epsilon.\n",
        "\n",
        "---\n",
        "\n",
        "If we are more interested in a specific area of the input space, we could create a zonotope. But with 178 input variables this can be a hard task.\n",
        "\n",
        "We just use one that is provided. If you want to hav a look at it, you cant print the first 50 lines by commenting out the \"%%capture\"."
      ],
      "metadata": {
        "id": "gTfYcnTwtnf3"
      }
    },
    {
      "cell_type": "code",
      "source": [
        "%%capture\n",
        "!wget --no-cache --backups=1 {'https://github.com/eth-sri/eran/files/3653882/zonotope_example.txt'}\n",
        "\n",
        "with open(\"zonotope_example.txt\") as myfile:\n",
        "    head = [next(myfile) for x in range(100)]\n",
        "for l in head:\n",
        "  print(l)"
      ],
      "metadata": {
        "id": "nCLa0iZy3A6X"
      },
      "execution_count": 149,
      "outputs": []
    },
    {
      "cell_type": "markdown",
      "source": [
        "Now we can run the verificator of ERAN on the model with use of the defined zonotope, like we have seen before."
      ],
      "metadata": {
        "id": "7D792uDzxGz3"
      }
    },
    {
      "cell_type": "code",
      "source": [
        "%%bash\n",
        "cd eran/tf_verify/\n",
        "\n",
        "python3 . --netname ../../mnist_net.onnx --zonotope ../../zonotope_example.txt --domain deepzono"
      ],
      "metadata": {
        "colab": {
          "base_uri": "https://localhost:8080/"
        },
        "id": "Nuc6bcH-vuhY",
        "outputId": "813539c0-ebc0-4676-9b4f-0d024e0e8c7a"
      },
      "execution_count": 150,
      "outputs": [
        {
          "output_type": "stream",
          "name": "stdout",
          "text": [
            "{'approx_k': True,\n",
            " 'attack': False,\n",
            " 'complete': False,\n",
            " 'data_dir': None,\n",
            " 'dataset': None,\n",
            " 'debug': False,\n",
            " 'delta': 0.3,\n",
            " 'domain': 'deepzono',\n",
            " 'epsfile': None,\n",
            " 'epsilon': 0,\n",
            " 'from_test': 0,\n",
            " 'gamma': inf,\n",
            " 'geometric': False,\n",
            " 'geometric_config': None,\n",
            " 'input_box': None,\n",
            " 'k': 3,\n",
            " 'logdir': None,\n",
            " 'logname': None,\n",
            " 'max_milp_neurons': 30,\n",
            " 'mean': None,\n",
            " 'n_milp_refine': 1,\n",
            " 'netname': '../../mnist_net.onnx',\n",
            " 'normalized_region': True,\n",
            " 'num_params': 0,\n",
            " 'num_tests': None,\n",
            " 'numproc': 2,\n",
            " 'output_constraints': None,\n",
            " 'partial_milp': 0,\n",
            " 'quant_step': None,\n",
            " 'refine_neurons': False,\n",
            " 's': -2,\n",
            " 'sparse_n': 70,\n",
            " 'spatial': False,\n",
            " 'specnumber': None,\n",
            " 'std': None,\n",
            " 'subset': None,\n",
            " 't_norm': 'inf',\n",
            " 'target': None,\n",
            " 'timeout_complete': None,\n",
            " 'timeout_final_lp': 100,\n",
            " 'timeout_final_milp': 100,\n",
            " 'timeout_lp': 1,\n",
            " 'timeout_milp': 1,\n",
            " 'use_default_heuristic': True,\n",
            " 'use_milp': True,\n",
            " 'vnn_lib_spec': None,\n",
            " 'zonotope': '../../zonotope_example.txt'}\n",
            "netname  ../../mnist_net.onnx  epsilon  0  domain  deepzono  dataset  None args complete  False  complete  False  timeout_lp  1\n",
            "This network has 40 neurons.\n",
            "nlb  [-234.91048625565585, -322.89864016542816, -207.46787024907593, -244.64528920475377, -376.93550816197506, -282.6825528650159, -268.62551812331566, -360.82319036538826, -257.1222329923112, -230.95125548687128]\n",
            "nub  [110.47861369441891, 214.24014101235812, 235.28471975954375, 240.55540204594845, 194.87861767266992, 322.61647008165556, 183.30840230532846, 259.1309623890739, 213.77235239793626, 134.07455083821148]\n",
            "Failed\n"
          ]
        },
        {
          "output_type": "stream",
          "name": "stderr",
          "text": [
            "2022-07-20 08:41:43.934077: E tensorflow/stream_executor/cuda/cuda_driver.cc:271] failed call to cuInit: CUDA_ERROR_NO_DEVICE: no CUDA-capable device is detected\n",
            "./optimizer.py:26: UserWarning: gpupoly not available.\n",
            "  warnings.warn(\"gpupoly not available.\")\n"
          ]
        }
      ]
    }
  ]
}