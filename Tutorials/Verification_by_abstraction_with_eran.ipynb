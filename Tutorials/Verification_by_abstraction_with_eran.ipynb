{
  "nbformat": 4,
  "nbformat_minor": 0,
  "metadata": {
    "colab": {
      "name": "Verification_by_abstraction_with_eran.ipynb",
      "private_outputs": true,
      "provenance": [],
      "collapsed_sections": [],
      "authorship_tag": "ABX9TyPK7bD3LTX337KzJQeC2Lq1",
      "include_colab_link": true
    },
    "kernelspec": {
      "name": "python3",
      "display_name": "Python 3"
    },
    "language_info": {
      "name": "python"
    },
    "accelerator": "GPU",
    "gpuClass": "standard"
  },
  "cells": [
    {
      "cell_type": "markdown",
      "metadata": {
        "id": "view-in-github",
        "colab_type": "text"
      },
      "source": [
        "<a href=\"https://colab.research.google.com/github/DDiekmann/Applied-Verification-Lab-Neural-Networks/blob/main/Tutorials/Verification_by_abstraction_with_eran.ipynb\" target=\"_parent\"><img src=\"https://colab.research.google.com/assets/colab-badge.svg\" alt=\"Open In Colab\"/></a>"
      ]
    },
    {
      "cell_type": "markdown",
      "source": [
        "# Tutorial for Neural Network Verification with ERAN\n",
        "\n",
        "---\n",
        "\n",
        "*As an example we try to verifiy the **robustness** of a classification Network trained on the MNIST dataset.\n",
        "We are using [Eran](https://github.com/eth-sri/eran).*\n",
        "\n",
        "Important Links:\n",
        "- [Github](https://github.com/eth-sri/eran) \n",
        "- [Manual](https://files.sri.inf.ethz.ch/eran/docs/eran_manual.pdf)\n",
        "\n",
        "---"
      ],
      "metadata": {
        "id": "4sgHPyzZd9Sq"
      }
    },
    {
      "cell_type": "markdown",
      "source": [
        "The next block takes around 6 minutes."
      ],
      "metadata": {
        "id": "3Y_0E-XvsRzU"
      }
    },
    {
      "cell_type": "code",
      "source": [
        "%%capture\n",
        "%%bash\n",
        "\n",
        "git clone https://github.com/eth-sri/ERAN.git\n",
        "\n",
        "sudo apt install m4\n",
        "sudo apt install build-essential\n",
        "sudo apt install autoconf\n",
        "sudo apt install libtool\n",
        "sudo apt install texlive-latex-base\n",
        "\n",
        "cd ERAN\n",
        "sudo bash ./install.sh\n",
        "pip install -r requirements.txt"
      ],
      "metadata": {
        "id": "YT7GCZXCeIsH"
      },
      "execution_count": null,
      "outputs": []
    },
    {
      "cell_type": "code",
      "source": [
        "%pip uninstall -y pillow\n",
        "%pip install pillow"
      ],
      "metadata": {
        "id": "7bRdzYnZlurx"
      },
      "execution_count": null,
      "outputs": []
    },
    {
      "cell_type": "code",
      "source": [
        "%%capture\n",
        "\n",
        "%pip install onnx onnxruntime\n",
        "\n",
        "import torch\n",
        "from torch import nn\n",
        "import numpy as np\n",
        "import torch.onnx\n",
        "import sys\n",
        "\n",
        "import matplotlib.pyplot as plt\n",
        "\n",
        "!wget --no-cache --backups=1 {'https://raw.githubusercontent.com/DDiekmann/Applied-Verification-Lab-Neural-Networks/main/lib/mnist_trainer.py'}\n",
        "\n",
        "import mnist_trainer"
      ],
      "metadata": {
        "id": "8_6WIhmwhi8w"
      },
      "execution_count": null,
      "outputs": []
    },
    {
      "cell_type": "code",
      "source": [
        "class NeuralNetwork(nn.Module):\n",
        "    def __init__(self, input_dim, output_dim, number_of_neurons):\n",
        "        super(NeuralNetwork, self).__init__()\n",
        "        self.linear_relu_stack = nn.Sequential(\n",
        "            nn.Flatten(),\n",
        "            nn.Linear(input_dim, number_of_neurons),\n",
        "            nn.ReLU(),\n",
        "            nn.Linear(number_of_neurons, number_of_neurons),\n",
        "            nn.ReLU(),\n",
        "            nn.Linear(number_of_neurons, number_of_neurons),\n",
        "            nn.ReLU(),\n",
        "            nn.Linear(number_of_neurons, output_dim),\n",
        "        )\n",
        "\n",
        "    def forward(self, x):\n",
        "        logits = self.linear_relu_stack(x)\n",
        "        return logits"
      ],
      "metadata": {
        "id": "5p4IEz_ClDFR"
      },
      "execution_count": null,
      "outputs": []
    },
    {
      "cell_type": "code",
      "source": [
        "%%capture\n",
        "train_dataloader, test_dataloader = mnist_trainer.load_mnist_dataset(batch_size=64)"
      ],
      "metadata": {
        "id": "3dn4lukHmn2C"
      },
      "execution_count": null,
      "outputs": []
    },
    {
      "cell_type": "code",
      "source": [
        "model = mnist_trainer.train_model(\n",
        "    NeuralNetwork(input_dim=28*28, output_dim=10, number_of_neurons=40), \n",
        "    epochs=5, \n",
        "    train_dataloader=train_dataloader,\n",
        "    test_dataloader=test_dataloader,\n",
        "    )"
      ],
      "metadata": {
        "id": "cp4tgOYXmrkC"
      },
      "execution_count": null,
      "outputs": []
    },
    {
      "cell_type": "code",
      "source": [
        "model_filename = \"mnist_net.onnx\"\n",
        "dummy_input=torch.randn(1, 28, 28)\n",
        "\n",
        "# set model to eval mode\n",
        "model.eval()\n",
        "\n",
        "# create a dummy input in the shape of the input values\n",
        "device = \"cuda\" if torch.cuda.is_available() else \"cpu\"\n",
        "dummy_input = dummy_input.to(device)\n",
        "\n",
        "torch.onnx.export(model,\n",
        "                  dummy_input,\n",
        "                  model_filename,\n",
        "                  export_params=True,\n",
        "                  verbose=False,\n",
        "                  input_names=['image'],\n",
        "                  output_names=['classification'],\n",
        "                  )"
      ],
      "metadata": {
        "id": "6r3kJO7lmwSP"
      },
      "execution_count": null,
      "outputs": []
    },
    {
      "cell_type": "code",
      "source": [
        "%%bash\n",
        "\n",
        "cd ERAN/tf_verify/\n",
        "\n",
        "python3 . --netname ../../mnist_net.onnx --epsilon 0.1 --domain deepzono --dataset mnist"
      ],
      "metadata": {
        "id": "cNYPaOIsm7nJ"
      },
      "execution_count": null,
      "outputs": []
    },
    {
      "cell_type": "code",
      "source": [
        "%%bash\n",
        "\n",
        "cd ERAN/tf_verify/\n",
        "\n",
        "python3 . --netname ../../mnist_net.onnx --epsilon 0.03 --domain deepzono --dataset mnist"
      ],
      "metadata": {
        "id": "HnAs3fn-q7Ex"
      },
      "execution_count": null,
      "outputs": []
    },
    {
      "cell_type": "code",
      "source": [
        "%%bash\n",
        "\n",
        "cd ERAN/tf_verify/\n",
        "\n",
        "python3 . --netname ../../mnist_net.onnx --epsilon 0.03 --domain deepzono --from_test 240 --dataset mnist"
      ],
      "metadata": {
        "id": "qBZ4WKn1s4dJ"
      },
      "execution_count": null,
      "outputs": []
    },
    {
      "cell_type": "code",
      "source": [
        "%%bash\n",
        "wget --no-cache --backups=1 {'https://github.com/eth-sri/eran/files/3653882/zonotope_example.txt'}\n",
        "\n",
        "cd ERAN/tf_verify/\n",
        "\n",
        "python3 . --netname ../../mnist_net.onnx --zonotope ../../zonotope_example.txt --domain deepzono --dataset mnist"
      ],
      "metadata": {
        "id": "nCLa0iZy3A6X"
      },
      "execution_count": null,
      "outputs": []
    },
    {
      "cell_type": "code",
      "source": [
        "%%bash\n",
        "\n",
        "cd ERAN/tf_verify/\n",
        "python3 . --netname ../../mnist_net.onnx --dataset mnist --domain deeppoly --spatial --t-norm inf --delta 3"
      ],
      "metadata": {
        "id": "l8IkFD2nnixn"
      },
      "execution_count": null,
      "outputs": []
    },
    {
      "cell_type": "code",
      "source": [
        "%%bash\n",
        "\n",
        "#wget --no-cache --backups=1 {'https://files.sri.inf.ethz.ch/eran/nets/onnx/mnist/mnist_relu_3_50.onnx'}\n",
        "\n",
        "cd ERAN/tf_verify/\n",
        "\n",
        "python3 . --netname ../../mnist_relu_3_50.onnx --epsilon 0.1 --domain deepzono --dataset mnist"
      ],
      "metadata": {
        "id": "wlWXTYR5DkKo"
      },
      "execution_count": null,
      "outputs": []
    },
    {
      "cell_type": "code",
      "source": [
        "%%bash\n",
        "\n",
        "cd ERAN/tf_verify/\n",
        "\n",
        "python3 . --netname ../../ffnnRELU__PGDK_w_0_3_6_500.onnx --epsilon 0.1 --domain deepzono --dataset mnist"
      ],
      "metadata": {
        "id": "OLT-pVISjf4p"
      },
      "execution_count": null,
      "outputs": []
    },
    {
      "cell_type": "code",
      "source": [
        "!wget --no-cache --backups=1 {'https://raw.githubusercontent.com/eth-sri/deepg/master/code/examples/example1/config.txt'}"
      ],
      "metadata": {
        "id": "_q8IXGQDzWxM"
      },
      "execution_count": null,
      "outputs": []
    },
    {
      "cell_type": "code",
      "source": [
        "%%bash\n",
        "\n",
        "cd ERAN\n",
        "\n",
        "set -e\n",
        "\n",
        "cd gurobi912/linux64/src/build\n",
        "sed -ie 's/^C++FLAGS =.*$/& -fPIC/' Makefile\n",
        "make\n",
        "cp libgurobi_c++.a ../../lib/\n",
        "cp ../../lib/libgurobi90.so /usr/lib\n",
        "cd ..\n",
        "\n",
        "export GUROBI_HOME=\"$(pwd)/gurobi900/linux64\"\n",
        "export PATH=\"${PATH}:${GUROBI_HOME}/bin\"\n",
        "export CPATH=\"${CPATH}:${GUROBI_HOME}/include\"\n",
        "export LD_LIBRARY_PATH=$LD_LIBRARY_PATH:/usr/local/lib:${GUROBI_HOME}/lib\n",
        "\n",
        "git clone https://github.com/eth-sri/deepg.git\n",
        "cd deepg/code\n",
        "mkdir build\n",
        "make shared_object\n",
        "cp ./build/libgeometric.so /usr/lib\n",
        "cd ../..\n",
        "\n",
        "export LD_LIBRARY_PATH=$LD_LIBRARY_PATH:/usr/local/lib:/usr/lib\n",
        "\n",
        "ldconfig\n",
        "\n",
        "Footer\n",
        "\n",
        "cd tf_verify/\n",
        "\n",
        "python3 . --netname ../../mnist_net.onnx --geometric --geometric_config ../../config.txt --num_params 1 --dataset mnist"
      ],
      "metadata": {
        "id": "tN54LVRQj1n_"
      },
      "execution_count": null,
      "outputs": []
    },
    {
      "cell_type": "code",
      "source": [
        ""
      ],
      "metadata": {
        "id": "tQrZCijowgOc"
      },
      "execution_count": null,
      "outputs": []
    }
  ]
}