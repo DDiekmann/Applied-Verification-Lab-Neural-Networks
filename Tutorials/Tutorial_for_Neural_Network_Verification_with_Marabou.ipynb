{
  "nbformat": 4,
  "nbformat_minor": 0,
  "metadata": {
    "colab": {
      "name": "Tutorial for Neural Network Verification with Marabou.ipynb",
      "provenance": [],
      "authorship_tag": "ABX9TyOB1eKGlDoBxZfH68XHas9R",
      "include_colab_link": true
    },
    "kernelspec": {
      "name": "python3",
      "display_name": "Python 3"
    },
    "language_info": {
      "name": "python"
    },
    "accelerator": "GPU"
  },
  "cells": [
    {
      "cell_type": "markdown",
      "metadata": {
        "id": "view-in-github",
        "colab_type": "text"
      },
      "source": [
        "<a href=\"https://colab.research.google.com/github/DDiekmann/Applied-Verification-Lab-Neural-Networks/blob/main/Tutorials/Tutorial_for_Neural_Network_Verification_with_Marabou.ipynb\" target=\"_parent\"><img src=\"https://colab.research.google.com/assets/colab-badge.svg\" alt=\"Open In Colab\"/></a>"
      ]
    },
    {
      "cell_type": "markdown",
      "source": [
        "# Tutorial for Neural Network Verification with Marabou\n",
        "\n",
        "---\n",
        "\n",
        "*As an example we try to verifiy the **robustness** of a classification Network trained on the MNIST dataset using the [Marabou library](https://github.com/NeuralNetworkVerification/Marabou).*\n",
        "\n",
        "[Marabou documenation](https://neuralnetworkverification.github.io/Marabou/)\n",
        "\n",
        "---"
      ],
      "metadata": {
        "id": "q3qPAZj5aa1o"
      }
    },
    {
      "cell_type": "markdown",
      "source": [
        "## Neural Network Training"
      ],
      "metadata": {
        "id": "kpNvW7IGlxMV"
      }
    },
    {
      "cell_type": "code",
      "execution_count": 41,
      "metadata": {
        "id": "-GLmrl9iZwcW"
      },
      "outputs": [],
      "source": [
        "%%capture\n",
        "\n",
        "!wget --no-cache --backups=1 {'https://raw.githubusercontent.com/DDiekmann/Applied-Verification-Lab-Neural-Networks/main/lib/mnist_trainer.py'}"
      ]
    },
    {
      "cell_type": "code",
      "source": [
        "import mnist_trainer"
      ],
      "metadata": {
        "id": "id8aun2pjDKT"
      },
      "execution_count": 47,
      "outputs": []
    },
    {
      "cell_type": "markdown",
      "source": [
        "First, we will train a neural network with the [MNIST](http://yann.lecun.com/exdb/mnist/) dataset"
      ],
      "metadata": {
        "id": "ZJuFutKSlfQd"
      }
    },
    {
      "cell_type": "code",
      "source": [
        "import torch\n",
        "from torch import nn\n",
        "\n",
        "import torch.onnx"
      ],
      "metadata": {
        "id": "NusF574naZzV"
      },
      "execution_count": 31,
      "outputs": []
    },
    {
      "cell_type": "code",
      "source": [
        "class NeuralNetwork(nn.Module):\n",
        "    def __init__(self, input_dim, output_dim, number_of_neurons):\n",
        "        super(NeuralNetwork, self).__init__()\n",
        "        self.linear_relu_stack = nn.Sequential(\n",
        "            nn.Flatten(),\n",
        "            nn.Linear(input_dim, number_of_neurons),\n",
        "            nn.ReLU(),\n",
        "            nn.Linear(number_of_neurons, number_of_neurons),\n",
        "            nn.ReLU(),\n",
        "            nn.Linear(number_of_neurons, output_dim),\n",
        "        )\n",
        "\n",
        "    def forward(self, x):\n",
        "        logits = self.linear_relu_stack(x)\n",
        "        return logits"
      ],
      "metadata": {
        "id": "V-33uqG-bUtB"
      },
      "execution_count": 32,
      "outputs": []
    },
    {
      "cell_type": "code",
      "source": [
        "%%capture\n",
        "train_dataloader, test_dataloader = mnist_trainer.load_dataset(batch_size=64)"
      ],
      "metadata": {
        "id": "3UZ3etRBgxps"
      },
      "execution_count": 33,
      "outputs": []
    },
    {
      "cell_type": "code",
      "source": [
        "model = mnist_trainer.train_model(\n",
        "    NeuralNetwork(input_dim=28*28, output_dim=10, number_of_neurons=20), \n",
        "    epochs=3, \n",
        "    train_dataloader=train_dataloader,\n",
        "    test_dataloader=test_dataloader,\n",
        "    )"
      ],
      "metadata": {
        "id": "sHRs04rAbhm1",
        "outputId": "7d1c1b50-d282-4a42-8b27-3c7948b923f0",
        "colab": {
          "base_uri": "https://localhost:8080/"
        }
      },
      "execution_count": 48,
      "outputs": [
        {
          "output_type": "stream",
          "name": "stdout",
          "text": [
            "Epoch 1\n",
            "-------------------------------\n"
          ]
        },
        {
          "output_type": "stream",
          "name": "stderr",
          "text": [
            "100%|██████████| 938/938 [00:05<00:00, 162.66it/s]\n"
          ]
        },
        {
          "output_type": "stream",
          "name": "stdout",
          "text": [
            "Test Error: \n",
            " Accuracy: 91.0%, Avg loss: 0.309950 \n",
            "\n",
            "Epoch 2\n",
            "-------------------------------\n"
          ]
        },
        {
          "output_type": "stream",
          "name": "stderr",
          "text": [
            "100%|██████████| 938/938 [00:05<00:00, 162.13it/s]\n"
          ]
        },
        {
          "output_type": "stream",
          "name": "stdout",
          "text": [
            "Test Error: \n",
            " Accuracy: 92.6%, Avg loss: 0.248237 \n",
            "\n",
            "Epoch 3\n",
            "-------------------------------\n"
          ]
        },
        {
          "output_type": "stream",
          "name": "stderr",
          "text": [
            "100%|██████████| 938/938 [00:05<00:00, 159.48it/s]\n"
          ]
        },
        {
          "output_type": "stream",
          "name": "stdout",
          "text": [
            "Test Error: \n",
            " Accuracy: 93.2%, Avg loss: 0.219686 \n",
            "\n",
            "Done!\n"
          ]
        }
      ]
    },
    {
      "cell_type": "markdown",
      "source": [
        "## Export the neural network"
      ],
      "metadata": {
        "id": "SJ17PQrsnIre"
      }
    },
    {
      "cell_type": "code",
      "source": [
        "%pip install onnx onnxruntime"
      ],
      "metadata": {
        "colab": {
          "base_uri": "https://localhost:8080/"
        },
        "id": "mZSEL4pI33rE",
        "outputId": "5933e515-f52a-466d-beb1-112c10a46220"
      },
      "execution_count": 27,
      "outputs": [
        {
          "output_type": "stream",
          "name": "stdout",
          "text": [
            "Looking in indexes: https://pypi.org/simple, https://us-python.pkg.dev/colab-wheels/public/simple/\n",
            "Requirement already satisfied: onnx in /usr/local/lib/python3.7/dist-packages (1.11.0)\n",
            "Requirement already satisfied: onnxruntime in /usr/local/lib/python3.7/dist-packages (1.11.1)\n",
            "Requirement already satisfied: typing-extensions>=3.6.2.1 in /usr/local/lib/python3.7/dist-packages (from onnx) (4.2.0)\n",
            "Requirement already satisfied: numpy>=1.16.6 in /usr/local/lib/python3.7/dist-packages (from onnx) (1.21.6)\n",
            "Requirement already satisfied: protobuf>=3.12.2 in /usr/local/lib/python3.7/dist-packages (from onnx) (3.17.3)\n",
            "Requirement already satisfied: six>=1.9 in /usr/local/lib/python3.7/dist-packages (from protobuf>=3.12.2->onnx) (1.15.0)\n",
            "Requirement already satisfied: flatbuffers in /usr/local/lib/python3.7/dist-packages (from onnxruntime) (2.0)\n"
          ]
        }
      ]
    },
    {
      "cell_type": "code",
      "source": [
        "model_filename = \"mnist_net.onnx\"\n",
        "\n",
        "# set model to eval mode\n",
        "model.eval()\n",
        "\n",
        "# create a dummy input in the shape of the input values\n",
        "dummy_input = torch.randn(1, 28, 28)\n",
        "\n",
        "torch.onnx.export(model,\n",
        "                  dummy_input,\n",
        "                  model_filename,\n",
        "                  export_params=True,\n",
        "                  verbose=False,\n",
        "                  input_names=['image'],\n",
        "                  output_names=['classification'],\n",
        "                  )"
      ],
      "metadata": {
        "id": "Q0VJc7Dwp5jH"
      },
      "execution_count": 53,
      "outputs": []
    },
    {
      "cell_type": "markdown",
      "source": [
        "## Installing Marabou"
      ],
      "metadata": {
        "id": "pWBCdhS6l0aP"
      }
    },
    {
      "cell_type": "code",
      "source": [
        "!git clone https://github.com/NeuralNetworkVerification/Marabou.git"
      ],
      "metadata": {
        "id": "xSHDfOyol1Nt",
        "outputId": "ef74eff1-804d-4aa7-8b91-e5bae7db0722",
        "colab": {
          "base_uri": "https://localhost:8080/"
        }
      },
      "execution_count": 1,
      "outputs": [
        {
          "output_type": "stream",
          "name": "stdout",
          "text": [
            "Cloning into 'Marabou'...\n",
            "remote: Enumerating objects: 25698, done.\u001b[K\n",
            "remote: Counting objects: 100% (12/12), done.\u001b[K\n",
            "remote: Compressing objects: 100% (12/12), done.\u001b[K\n",
            "remote: Total 25698 (delta 4), reused 1 (delta 0), pack-reused 25686\u001b[K\n",
            "Receiving objects: 100% (25698/25698), 208.52 MiB | 29.27 MiB/s, done.\n",
            "Resolving deltas: 100% (18527/18527), done.\n"
          ]
        }
      ]
    },
    {
      "cell_type": "markdown",
      "source": [
        "The following script builds and installs marabou. It takes about 20 minutes in colab."
      ],
      "metadata": {
        "id": "HI1TkfdA1FuA"
      }
    },
    {
      "cell_type": "code",
      "source": [
        "%cd Marabou\n",
        "!mkdir build\n",
        "%cd build\n",
        "!cmake .. -DBUILD_PYTHON=ON\n",
        "!cmake --build .\n",
        "%cd /content"
      ],
      "metadata": {
        "id": "2oCFAOS0v2J9"
      },
      "execution_count": null,
      "outputs": []
    },
    {
      "cell_type": "markdown",
      "source": [
        "maybe this also works (haven't tried yet):"
      ],
      "metadata": {
        "id": "n8tkIjyg_BLX"
      }
    },
    {
      "cell_type": "code",
      "source": [
        "%%bash\n",
        "cd Marabou\n",
        "mkdir build\n",
        "cd build\n",
        "cmake .. -DBUILD_PYTHON=ON\n",
        "cmake --build ."
      ],
      "metadata": {
        "id": "jiTG00J3-ih4",
        "outputId": "84ba0750-7380-4b9d-8c99-31b2828c1d0b",
        "colab": {
          "base_uri": "https://localhost:8080/"
        }
      },
      "execution_count": 65,
      "outputs": [
        {
          "output_type": "stream",
          "name": "stdout",
          "text": [
            "Process is interrupted.\n"
          ]
        }
      ]
    },
    {
      "cell_type": "code",
      "source": [
        "import sys\n",
        "sys.path.insert(1, '/content/Marabou')"
      ],
      "metadata": {
        "id": "mzBlTO-5w6KB"
      },
      "execution_count": 17,
      "outputs": []
    },
    {
      "cell_type": "markdown",
      "source": [
        "https://neuralnetworkverification.github.io/Marabou/Examples/2_ONNXExample.html"
      ],
      "metadata": {
        "id": "vR6AgzYp7Bky"
      }
    },
    {
      "cell_type": "code",
      "source": [
        "from maraboupy import Marabou\n",
        "import numpy as np"
      ],
      "metadata": {
        "id": "qgyFeB4uqeSS"
      },
      "execution_count": 58,
      "outputs": []
    },
    {
      "cell_type": "code",
      "source": [
        "options = Marabou.createOptions(verbosity = 0)"
      ],
      "metadata": {
        "id": "o5_gYn5sqpwT"
      },
      "execution_count": 52,
      "outputs": []
    },
    {
      "cell_type": "code",
      "source": [
        "network = Marabou.read_onnx(model_filename)"
      ],
      "metadata": {
        "id": "T5eysj4r2bxz"
      },
      "execution_count": 59,
      "outputs": []
    },
    {
      "cell_type": "code",
      "source": [
        ""
      ],
      "metadata": {
        "id": "YiEUl7HT7SJR"
      },
      "execution_count": null,
      "outputs": []
    }
  ]
}