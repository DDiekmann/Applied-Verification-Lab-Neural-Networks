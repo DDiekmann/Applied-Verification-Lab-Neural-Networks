{
  "nbformat": 4,
  "nbformat_minor": 0,
  "metadata": {
    "colab": {
      "name": "Tutorial for Neural Network Verification with Marabou.ipynb",
      "provenance": [],
      "authorship_tag": "ABX9TyN049P8bSqWVrnQQcnRWuGf",
      "include_colab_link": true
    },
    "kernelspec": {
      "name": "python3",
      "display_name": "Python 3"
    },
    "language_info": {
      "name": "python"
    },
    "accelerator": "GPU"
  },
  "cells": [
    {
      "cell_type": "markdown",
      "metadata": {
        "id": "view-in-github",
        "colab_type": "text"
      },
      "source": [
        "<a href=\"https://colab.research.google.com/github/DDiekmann/Applied-Verification-Lab-Neural-Networks/blob/main/Tutorial_for_Neural_Network_Verification_with_Marabou.ipynb\" target=\"_parent\"><img src=\"https://colab.research.google.com/assets/colab-badge.svg\" alt=\"Open In Colab\"/></a>"
      ]
    },
    {
      "cell_type": "markdown",
      "source": [
        "# Tutorial for Neural Network Verification with Marabou\n",
        "\n",
        "---\n",
        "\n",
        "*As an example we try to verifiy the **robustness** of a classification Network trained on the MNIST dataset using the [Marabou library](https://github.com/NeuralNetworkVerification/Marabou).*\n",
        "\n",
        "[Marabou documenation](https://neuralnetworkverification.github.io/Marabou/)\n",
        "\n",
        "---"
      ],
      "metadata": {
        "id": "q3qPAZj5aa1o"
      }
    },
    {
      "cell_type": "code",
      "execution_count": 55,
      "metadata": {
        "id": "-GLmrl9iZwcW"
      },
      "outputs": [],
      "source": [
        "%%capture\n",
        "\n",
        "!wget --no-cache --backups=1 {'https://raw.githubusercontent.com/DDiekmann/Applied-Verification-Lab-Neural-Networks/main/lib/mnist_trainer.py'}"
      ]
    },
    {
      "cell_type": "code",
      "source": [
        "import mnist_trainer"
      ],
      "metadata": {
        "id": "id8aun2pjDKT"
      },
      "execution_count": 56,
      "outputs": []
    },
    {
      "cell_type": "code",
      "source": [
        "import torch\n",
        "from torch import nn"
      ],
      "metadata": {
        "id": "NusF574naZzV"
      },
      "execution_count": 57,
      "outputs": []
    },
    {
      "cell_type": "code",
      "source": [
        "class NeuralNetwork(nn.Module):\n",
        "    def __init__(self, input_dim, output_dim, number_of_neurons):\n",
        "        super(NeuralNetwork, self).__init__()\n",
        "        self.linear_relu_stack = nn.Sequential(\n",
        "            nn.Flatten(),\n",
        "            nn.Linear(input_dim, number_of_neurons),\n",
        "            nn.ReLU(),\n",
        "            nn.Linear(number_of_neurons, number_of_neurons),\n",
        "            nn.ReLU(),\n",
        "            nn.Linear(number_of_neurons, output_dim),\n",
        "        )\n",
        "\n",
        "    def forward(self, x):\n",
        "        logits = self.linear_relu_stack(x)\n",
        "        return logits"
      ],
      "metadata": {
        "id": "V-33uqG-bUtB"
      },
      "execution_count": 58,
      "outputs": []
    },
    {
      "cell_type": "code",
      "source": [
        "train_dataloader, test_dataloader = mnist_trainer.load_dataset(batch_size=64)"
      ],
      "metadata": {
        "id": "3UZ3etRBgxps"
      },
      "execution_count": null,
      "outputs": []
    },
    {
      "cell_type": "code",
      "source": [
        "model = mnist_trainer.train_model(\n",
        "    NeuralNetwork(input_dim=28*28, output_dim=10, number_of_neurons=20), \n",
        "    epochs=5, \n",
        "    train_dataloader=train_dataloader,\n",
        "    test_dataloader=test_dataloader,\n",
        "    )"
      ],
      "metadata": {
        "id": "sHRs04rAbhm1"
      },
      "execution_count": null,
      "outputs": []
    },
    {
      "cell_type": "code",
      "source": [
        ""
      ],
      "metadata": {
        "id": "qhwwzOECeHKR"
      },
      "execution_count": null,
      "outputs": []
    }
  ]
}