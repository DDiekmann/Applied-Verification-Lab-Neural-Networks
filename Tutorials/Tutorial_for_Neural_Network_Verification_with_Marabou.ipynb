{
  "nbformat": 4,
  "nbformat_minor": 0,
  "metadata": {
    "colab": {
      "name": "Tutorial for Neural Network Verification with Marabou.ipynb",
      "provenance": [],
      "toc_visible": true,
      "include_colab_link": true
    },
    "kernelspec": {
      "name": "python3",
      "display_name": "Python 3"
    },
    "language_info": {
      "name": "python"
    },
    "gpuClass": "standard",
    "accelerator": "GPU"
  },
  "cells": [
    {
      "cell_type": "markdown",
      "metadata": {
        "id": "view-in-github",
        "colab_type": "text"
      },
      "source": [
        "<a href=\"https://colab.research.google.com/github/DDiekmann/Applied-Verification-Lab-Neural-Networks/blob/main/Tutorials/Tutorial_for_Neural_Network_Verification_with_Marabou.ipynb\" target=\"_parent\"><img src=\"https://colab.research.google.com/assets/colab-badge.svg\" alt=\"Open In Colab\"/></a>"
      ]
    },
    {
      "cell_type": "markdown",
      "source": [
        "# Tutorial for Neural Network Robustness Verification with Marabou\n",
        "\n",
        "---\n",
        "\n",
        "*As an example we try to verify the **robustness** of a classification network trained on the MNIST dataset.\n",
        "In this tutorial, we use the SMT-based neural network verification tool [Marabou](https://neuralnetworkverification.github.io/) for this purpose.\n",
        "Marabou is written in C++ and provides a Python API called Maraboupy.*\n",
        "\n",
        "---"
      ],
      "metadata": {
        "id": "q3qPAZj5aa1o"
      }
    },
    {
      "cell_type": "markdown",
      "source": [
        "As in the other tutorials, the focus of this tutorial we don´t focus on details of the preprocessing and training. If you are interested in that part you can look into the training code for this tutorial at our [mnist trainer](https://github.com/DDiekmann/Applied-Verification-Lab-Neural-Networks/blob/main/lib/mnist_trainer.py). Before starting the tutorials we will import required packages and train a model with the mentioned mnist trainer. The model is defined and then used for solving in marabou. Before solving we also need to build and install Marabou. For more details on that you can take a look at the [sourcecode](https://github.com/NeuralNetworkVerification/Marabou) or the [documentation](https://neuralnetworkverification.github.io/Marabou/).\n",
        "\n",
        "Our model will be trained with [PyTorch](https://pytorch.org/), as we did in the other tutorials. If you followed them, you can use these models with this tutorial as well. The tutorial can also be executed in Google Colab, where PyTorch is already preinstalled.\n",
        "\n",
        "In addition, you can also use your own model to verify with Marabou. Marabou can use models of TensorFlow directly, if you want to use PyTorch, we need to export our model to the [Open Neural Network Exchange (ONNX)](https://onnx.ai/) format first, which is a open format for machine learning interoperability."
      ],
      "metadata": {
        "id": "adH-rPo1wP2t"
      }
    },
    {
      "cell_type": "markdown",
      "source": [
        "## Prerequisites"
      ],
      "metadata": {
        "id": "kpNvW7IGlxMV"
      }
    },
    {
      "cell_type": "markdown",
      "source": [
        "First, we need to import some packages and load the mnist trainer. For export to ONNX, we also import the module ```torch.onnx``` provided by PyTorch. Additionally, we use pip to install ONNX."
      ],
      "metadata": {
        "id": "p-YQIOGvwSqr"
      }
    },
    {
      "cell_type": "code",
      "source": [
        "%%capture \n",
        "import torch\n",
        "from torch import nn\n",
        "import numpy as np\n",
        "import torch.onnx\n",
        "import sys\n",
        "\n",
        "import matplotlib.pyplot as plt\n",
        "\n",
        "!wget --no-cache --backups=1 {'https://raw.githubusercontent.com/DDiekmann/Applied-Verification-Lab-Neural-Networks/main/lib/mnist_trainer.py'}\n",
        "\n",
        "import mnist_trainer"
      ],
      "metadata": {
        "id": "NusF574naZzV"
      },
      "execution_count": null,
      "outputs": []
    },
    {
      "cell_type": "code",
      "source": [
        "%%capture \n",
        "%pip install onnx onnxruntime"
      ],
      "metadata": {
        "id": "1O17HlvczPwP"
      },
      "execution_count": null,
      "outputs": []
    },
    {
      "cell_type": "markdown",
      "source": [
        "## Install Marabou"
      ],
      "metadata": {
        "id": "pWBCdhS6l0aP"
      }
    },
    {
      "cell_type": "markdown",
      "source": [
        "For installation we followed the instructions of the marabou [documentation](https://neuralnetworkverification.github.io/Marabou/Setup/0_Installation.html). First, we clone the repository and fix a certain commit. You can also use a newer version of Marabou, but the Python API may have changed."
      ],
      "metadata": {
        "id": "obwLHsjCySsZ"
      }
    },
    {
      "cell_type": "code",
      "source": [
        "!git clone https://github.com/NeuralNetworkVerification/Marabou.git\n",
        "!cd Marabou && git checkout \"492c1b8c703c8a383f421468a104c34710e6d26d\""
      ],
      "metadata": {
        "id": "xSHDfOyol1Nt",
        "outputId": "ec91081e-0eec-404a-d8fc-6ff425efdcff",
        "colab": {
          "base_uri": "https://localhost:8080/"
        }
      },
      "execution_count": null,
      "outputs": [
        {
          "output_type": "stream",
          "name": "stdout",
          "text": [
            "Cloning into 'Marabou'...\n",
            "remote: Enumerating objects: 25758, done.\u001b[K\n",
            "remote: Counting objects: 100% (72/72), done.\u001b[K\n",
            "remote: Compressing objects: 100% (66/66), done.\u001b[K\n",
            "remote: Total 25758 (delta 32), reused 17 (delta 6), pack-reused 25686\u001b[K\n",
            "Receiving objects: 100% (25758/25758), 208.88 MiB | 15.20 MiB/s, done.\n",
            "Resolving deltas: 100% (18555/18555), done.\n",
            "Note: checking out '492c1b8c703c8a383f421468a104c34710e6d26d'.\n",
            "\n",
            "You are in 'detached HEAD' state. You can look around, make experimental\n",
            "changes and commit them, and you can discard any commits you make in this\n",
            "state without impacting any branches by performing another checkout.\n",
            "\n",
            "If you want to create a new branch to retain commits you create, you may\n",
            "do so (now or later) by using -b with the checkout command again. Example:\n",
            "\n",
            "  git checkout -b <new-branch-name>\n",
            "\n",
            "HEAD is now at 492c1b8c Remove ConstraintBoundTightener (#560)\n"
          ]
        }
      ]
    },
    {
      "cell_type": "markdown",
      "source": [
        "Marabou and Maraboupy must first be built from source using CMake. The following instructions for Linux or MacOS build and install marabou. They also work in Google Colab, where you can use ```%%shell``` to run multiple shell commands in the current cell. \n",
        "The build needs some time depending on available ressources, in Colab it takes about 15 to 20 minutes. \n",
        "Don`t matter if the build ends at 98%. In our cases all functions worked well. "
      ],
      "metadata": {
        "id": "HI1TkfdA1FuA"
      }
    },
    {
      "cell_type": "code",
      "source": [
        "%%shell\n",
        "cd Marabou\n",
        "mkdir build\n",
        "cd build\n",
        "cmake .. -DBUILD_PYTHON=ON\n",
        "cmake --build .\n",
        "cd /content"
      ],
      "metadata": {
        "id": "jiTG00J3-ih4"
      },
      "execution_count": null,
      "outputs": []
    },
    {
      "cell_type": "markdown",
      "source": [
        "To finish the installation and use marabou in python we need to add the path of Maraboupy to the PYTHONPATH. For that we add the path to ```sys.path```-list in python. Use your prefered method to add it to your PYTHONPATH."
      ],
      "metadata": {
        "id": "niXgX-l_v4ly"
      }
    },
    {
      "cell_type": "code",
      "source": [
        "sys.path.insert(1, '/content/Marabou')"
      ],
      "metadata": {
        "id": "mzBlTO-5w6KB"
      },
      "execution_count": null,
      "outputs": []
    },
    {
      "cell_type": "markdown",
      "source": [
        "Now everything is prepared to import Maraboupy and to use the API in Python."
      ],
      "metadata": {
        "id": "70K6YrCQv7vw"
      }
    },
    {
      "cell_type": "code",
      "source": [
        "%%capture \n",
        "from maraboupy import Marabou\n",
        "from maraboupy import MarabouCore"
      ],
      "metadata": {
        "id": "qgyFeB4uqeSS"
      },
      "execution_count": null,
      "outputs": []
    },
    {
      "cell_type": "markdown",
      "source": [
        "Set the Marabou option to restrict printing."
      ],
      "metadata": {
        "id": "VO5Lud35qgh0"
      }
    },
    {
      "cell_type": "code",
      "source": [
        "options = Marabou.createOptions(verbosity = 0)"
      ],
      "metadata": {
        "id": "o5_gYn5sqpwT"
      },
      "execution_count": null,
      "outputs": []
    },
    {
      "cell_type": "markdown",
      "source": [
        "## Train and export Neural Network"
      ],
      "metadata": {
        "id": "XrtpFIcWxZvP"
      }
    },
    {
      "cell_type": "markdown",
      "source": [
        "In this section, we define and train our neural network, which we want to use for the robustness verification. If you want to use your own model, you can export it in the ONNX format and go to the next section.\n",
        "\n",
        "Marabou is a more powerful tool than Z3 and so we can define a more complex neural network with more neurons than in the [smt-based solver tutorial](https://github.com/DDiekmann/Applied-Verification-Lab-Neural-Networks/blob/main/Tutorials/Tutorial%20for%20SMT%20based%20Verification.ipynb)."
      ],
      "metadata": {
        "id": "GDTKwcKkwogP"
      }
    },
    {
      "cell_type": "code",
      "source": [
        "class NeuralNetwork(nn.Module):\n",
        "    def __init__(self, input_dim, output_dim, number_of_neurons):\n",
        "        super(NeuralNetwork, self).__init__()\n",
        "        self.linear_relu_stack = nn.Sequential(\n",
        "            nn.Flatten(),\n",
        "            nn.Linear(input_dim, number_of_neurons),\n",
        "            nn.ReLU(),\n",
        "            nn.Linear(number_of_neurons, number_of_neurons),\n",
        "            nn.ReLU(),\n",
        "            nn.Linear(number_of_neurons, output_dim),\n",
        "        )\n",
        "\n",
        "    def forward(self, x):\n",
        "        logits = self.linear_relu_stack(x)\n",
        "        return logits"
      ],
      "metadata": {
        "id": "V-33uqG-bUtB"
      },
      "execution_count": null,
      "outputs": []
    },
    {
      "cell_type": "markdown",
      "source": [
        "To train the defined model, we load the mnist dataset and save a dataloader each for training and testing. With the train-dataset we train the defined model. As seen in the constructor of the neural network the dimensions of neurons are a lot bigger than last time."
      ],
      "metadata": {
        "id": "dsx_MMW5xdgM"
      }
    },
    {
      "cell_type": "code",
      "source": [
        "%%capture\n",
        "train_dataloader, test_dataloader = mnist_trainer.load_mnist_dataset(batch_size=64)"
      ],
      "metadata": {
        "id": "3UZ3etRBgxps"
      },
      "execution_count": null,
      "outputs": []
    },
    {
      "cell_type": "code",
      "source": [
        "model = mnist_trainer.train_model(\n",
        "    NeuralNetwork(input_dim=28*28, output_dim=10, number_of_neurons=20), \n",
        "    epochs=3, \n",
        "    train_dataloader=train_dataloader,\n",
        "    test_dataloader=test_dataloader,\n",
        "    )"
      ],
      "metadata": {
        "id": "yp5skKQ_xtBo",
        "outputId": "60821429-5641-4871-cba7-e9369e4a8efb",
        "colab": {
          "base_uri": "https://localhost:8080/"
        }
      },
      "execution_count": null,
      "outputs": [
        {
          "output_type": "stream",
          "name": "stdout",
          "text": [
            "Epoch 1\n",
            "-------------------------------\n"
          ]
        },
        {
          "output_type": "stream",
          "name": "stderr",
          "text": [
            "100%|██████████| 938/938 [00:06<00:00, 152.60it/s]\n"
          ]
        },
        {
          "output_type": "stream",
          "name": "stdout",
          "text": [
            "Test Error: \n",
            " Accuracy: 90.5%, Avg loss: 0.320908 \n",
            "\n",
            "Epoch 2\n",
            "-------------------------------\n"
          ]
        },
        {
          "output_type": "stream",
          "name": "stderr",
          "text": [
            "100%|██████████| 938/938 [00:05<00:00, 156.78it/s]\n"
          ]
        },
        {
          "output_type": "stream",
          "name": "stdout",
          "text": [
            "Test Error: \n",
            " Accuracy: 91.7%, Avg loss: 0.280069 \n",
            "\n",
            "Epoch 3\n",
            "-------------------------------\n"
          ]
        },
        {
          "output_type": "stream",
          "name": "stderr",
          "text": [
            "100%|██████████| 938/938 [00:06<00:00, 154.95it/s]\n"
          ]
        },
        {
          "output_type": "stream",
          "name": "stdout",
          "text": [
            "Test Error: \n",
            " Accuracy: 92.5%, Avg loss: 0.254752 \n",
            "\n",
            "Done!\n"
          ]
        }
      ]
    },
    {
      "cell_type": "markdown",
      "source": [
        "Next, we export the model as a ```.onnx``` format. If you trained a model with tensorflow, you can later import a ```.tf``` model. Marabou also can import ```.nnet``` format. \n",
        "We choose the ```.onnx``` format, because you can easily export the model from PyTorch with ```torch.onnx.export(..)```. "
      ],
      "metadata": {
        "id": "TbgahIWjxoZq"
      }
    },
    {
      "cell_type": "code",
      "source": [
        "model_filename = \"mnist_net.onnx\"\n",
        "\n",
        "# set model to eval mode\n",
        "model.eval()\n",
        "\n",
        "# create a dummy input in the shape of the input values\n",
        "dummy_input = torch.randn(1, 28, 28)\n",
        "device = \"cuda\" if torch.cuda.is_available() else \"cpu\"\n",
        "dummy_input = dummy_input.to(device)\n",
        "\n",
        "torch.onnx.export(model,\n",
        "                  dummy_input,\n",
        "                  model_filename,\n",
        "                  export_params=True,\n",
        "                  verbose=False,\n",
        "                  )"
      ],
      "metadata": {
        "id": "Q0VJc7Dwp5jH"
      },
      "execution_count": null,
      "outputs": []
    },
    {
      "cell_type": "markdown",
      "source": [
        "## Verify Robustness With Marabou"
      ],
      "metadata": {
        "id": "p7qvNVTY63tS"
      }
    },
    {
      "cell_type": "markdown",
      "source": [
        "Now we have completed all preparations: Marabou is installed and we have trained and exported a neural network. Thus, we can move on to the main part: The robustness verification."
      ],
      "metadata": {
        "id": "SCFwmpBInQEz"
      }
    },
    {
      "cell_type": "markdown",
      "source": [
        "### Import Neural Network into Marabou"
      ],
      "metadata": {
        "id": "U50TcupFnDlx"
      }
    },
    {
      "cell_type": "markdown",
      "source": [
        "First, we need to import the exported model into Marabou. As mentioned, you can import also other model-types or from other frameworks than PyTorch. \n",
        "You can take a look at the documentation [here](https://neuralnetworkverification.github.io/Marabou/API/0_Marabou.html#maraboupy.Marabou.read_nnet).\n",
        "\n",
        "For the ONNX format, you can use the ```read_onnx(..)``` function to get a Marabou network and lists of its input and output variables. In Marabou variables are represented as integer values. You can use them in equations and constraints for the verification. "
      ],
      "metadata": {
        "id": "goGrzTsov9Lx"
      }
    },
    {
      "cell_type": "code",
      "source": [
        "network = Marabou.read_onnx(model_filename)\n",
        "\n",
        "inputVars = network.inputVars[0][0]\n",
        "outputVars = network.outputVars[0][0]"
      ],
      "metadata": {
        "id": "T5eysj4r2bxz"
      },
      "execution_count": null,
      "outputs": []
    },
    {
      "cell_type": "markdown",
      "source": [
        "Now we need to choose an image for which we want to verify robustness or find an adversarial example. We are using the first image of the training dataset.\n",
        "Using the Marabou function ```evaluateWithoutMarabou(..)``` we predict the class of the image and visualize it together with the correct class (label). As we can see, the network correctly predicts the image as class *5*."
      ],
      "metadata": {
        "id": "gj7MbOkEuSRZ"
      }
    },
    {
      "cell_type": "code",
      "source": [
        "inputs, classes = next(iter(train_dataloader))\n",
        "image = inputs[0].numpy()[0]\n",
        "correct_class = classes[0].item()\n",
        "\n",
        "network_ouput = network.evaluateWithoutMarabou([image])[0]\n",
        "predicted_class = np.argmax(network_ouput)\n",
        "\n",
        "plt.title(f\"correct:{correct_class}, predicted: {predicted_class}\")\n",
        "plt.imshow(image.reshape(28,28), cmap='gray')"
      ],
      "metadata": {
        "id": "YiEUl7HT7SJR",
        "outputId": "237bb46f-e89e-4be7-eb74-dbe7c6141e94",
        "colab": {
          "base_uri": "https://localhost:8080/",
          "height": 298
        }
      },
      "execution_count": null,
      "outputs": [
        {
          "output_type": "execute_result",
          "data": {
            "text/plain": [
              "<matplotlib.image.AxesImage at 0x7f821d7be3d0>"
            ]
          },
          "metadata": {},
          "execution_count": 59
        },
        {
          "output_type": "display_data",
          "data": {
            "text/plain": [
              "<Figure size 432x288 with 1 Axes>"
            ],
            "image/png": "[encoded data removed]"
          },
          "metadata": {
            "needs_background": "light"
          }
        }
      ]
    },
    {
      "cell_type": "markdown",
      "source": [
        "### Encode robustness property with Marabou"
      ],
      "metadata": {
        "id": "DnWp-PGjotsw"
      }
    },
    {
      "cell_type": "markdown",
      "source": [
        "As in the last tutorial our goal is to find a pertubation so that the model fails to identify the correct class. This is called the adversarial example. For that we define an epsilon. \n",
        "The epsilon is used for the maximum change. In our case this difference can be applied to every pixel of the (grayscale) image."
      ],
      "metadata": {
        "id": "3BzV4VAb1UGd"
      }
    },
    {
      "cell_type": "code",
      "source": [
        "epsilon = 0.1"
      ],
      "metadata": {
        "id": "c57-rTJMmyXt"
      },
      "execution_count": null,
      "outputs": []
    },
    {
      "cell_type": "markdown",
      "source": [
        "Now we define bounds and constraints for our network, which represent the verification property. \n",
        "For a more fundamental understanding of the API, take a close look at the [documentation](https://neuralnetworkverification.github.io/Marabou/API/4_MarabouNetworkONNX.html).\n",
        "\n",
        "To define the bounds for every pixel, we set the value of the input variables for marabou to the current value of the before shown picture +/- epsilon as lower and upper bounds."
      ],
      "metadata": {
        "id": "ioRj5GK612fS"
      }
    },
    {
      "cell_type": "code",
      "source": [
        "for h in range(inputVars.shape[0]):\n",
        "  for w in range(inputVars.shape[1]):\n",
        "    network.setLowerBound(inputVars[h][w], image[h][w] - epsilon)\n",
        "    network.setUpperBound(inputVars[h][w], image[h][w] + epsilon)"
      ],
      "metadata": {
        "id": "6-xbc4nmwfmM"
      },
      "execution_count": null,
      "outputs": []
    },
    {
      "cell_type": "markdown",
      "source": [
        "In the next step we define the constraints for the output. As a short remainder: We want to find an advesarial example. This means, that we add a little bit of difference (epsilon) to a correct example. In the end the network should output a different prediction.\n",
        "\n",
        "With marabou we solve the network with our defined constraints.\n",
        "Out network outputs 10 values, one for every number of mnist (0...9). \n",
        "The maximum output value of the network indicates the predicted number. \n",
        "For our constraint this means that another index ```i``` as the correct class has to be greater than the value at the index ```i```.\n",
        "\n",
        "In the code you see one way to add this constraint. We iterate over each possible class that is different than the correct output and add a max constraint. The max constraint means that the second parameter of the function (here one specific output variable in each loop iteration) has to be the maximum element of the set specifed in the first parameter (all output variables). Then we solve the formula. So, in each iteration Marabou has to find an adversarial example for the specified class. If marabou returns \"sat\" and finds a solution (an example) we break the loop. "
      ],
      "metadata": {
        "id": "LqZMi1Cq14VZ"
      }
    },
    {
      "cell_type": "code",
      "source": [
        "for i in range(outputVars.shape[0]):\n",
        "  if i != correct_class:\n",
        "    # add max constraint\n",
        "    network.addMaxConstraint(set(outputVars), outputVars[i])\n",
        "    # solve\n",
        "    exit_code, vals, stats = network.solve(verbose = False, options = options)\n",
        "    # if solution found, break\n",
        "    print(exit_code)\n",
        "    if len(vals) > 0:\n",
        "      break"
      ],
      "metadata": {
        "id": "iaajApMdwYp_",
        "colab": {
          "base_uri": "https://localhost:8080/"
        },
        "outputId": "3e47d1c5-2572-4a5f-d0c3-828702e6b415"
      },
      "execution_count": null,
      "outputs": [
        {
          "output_type": "stream",
          "name": "stdout",
          "text": [
            "sat\n"
          ]
        }
      ]
    },
    {
      "cell_type": "markdown",
      "source": [
        "As Marabou returns \"sat\", it has found an adversarial example, which we would like to visualize in the next step."
      ],
      "metadata": {
        "id": "WgLJbuBGpNWG"
      }
    },
    {
      "cell_type": "markdown",
      "source": [
        "### Visualise the adversarial example"
      ],
      "metadata": {
        "id": "ka90lrAf2yoY"
      }
    },
    {
      "cell_type": "markdown",
      "source": [
        "To visualize the adversarial example we extract the input data of the input variables and save that in an numpy array."
      ],
      "metadata": {
        "id": "g89uf3w-17-q"
      }
    },
    {
      "cell_type": "code",
      "source": [
        "def get_image_from_marabou(inputVariables):\n",
        "  adversarial_image = [[] for _ in range(inputVariables.shape[1])]\n",
        "  for h in range(inputVariables.shape[0]):\n",
        "    for w in range(inputVariables.shape[1]):\n",
        "      adversarial_image[h].insert(w, vals[inputVariables[h][w]])\n",
        "  adversarial_image = np.array(adversarial_image)\n",
        "\n",
        "  return adversarial_image"
      ],
      "metadata": {
        "id": "iwGaQhYqzjxa"
      },
      "execution_count": null,
      "outputs": []
    },
    {
      "cell_type": "markdown",
      "source": [
        "Now we can visualize the slightly changed adversarial example image calculated by Marabou. If we predict the model without Marabou, we can see that the model does not predict the correct number."
      ],
      "metadata": {
        "id": "nY2faD8n2f2E"
      }
    },
    {
      "cell_type": "code",
      "source": [
        "adversarial_image = get_image_from_marabou(inputVars)\n",
        "network_ouput = network.evaluateWithoutMarabou([adversarial_image])[0]\n",
        "predicted_class = np.argmax(network_ouput)\n",
        "\n",
        "plt.title(f\"correct:{correct_class}, predicted: {predicted_class}\")\n",
        "plt.imshow(adversarial_image, cmap='gray')"
      ],
      "metadata": {
        "colab": {
          "base_uri": "https://localhost:8080/",
          "height": 298
        },
        "id": "fpUjWw45z-69",
        "outputId": "c4714e0a-dce4-40e1-efad-395ec76285e7"
      },
      "execution_count": null,
      "outputs": [
        {
          "output_type": "execute_result",
          "data": {
            "text/plain": [
              "<matplotlib.image.AxesImage at 0x7f821d8216d0>"
            ]
          },
          "metadata": {},
          "execution_count": 64
        },
        {
          "output_type": "display_data",
          "data": {
            "text/plain": [
              "<Figure size 432x288 with 1 Axes>"
            ],
            "image/png": "[encoded data removed]"
          },
          "metadata": {
            "needs_background": "light"
          }
        }
      ]
    },
    {
      "cell_type": "markdown",
      "source": [
        "### Use Marabou's robustness function to find an adversarial example"
      ],
      "metadata": {
        "id": "ZGz32ezup82Z"
      }
    },
    {
      "cell_type": "markdown",
      "source": [
        "The implementation of Marabou provides also a function to verify the robustness directly (not yet mentioned in the documentation). \n",
        "Marabou evaluates the robustness with a given epsilon. \n",
        "In the source code the same technique for the constraints is used as well. \n",
        "Maybe you can come up with another solution. Feel free to experiment with it!\n",
        "\n",
        "We use the ```evaluateLocalRobustness(..)``` function to do the same as above and we get another adversarial example."
      ],
      "metadata": {
        "id": "Pt_sCui5_s9A"
      }
    },
    {
      "cell_type": "code",
      "source": [
        "network = Marabou.read_onnx(model_filename)\n",
        "vals, stats, maxClass = network.evaluateLocalRobustness(image, epsilon, correct_class, options=options)"
      ],
      "metadata": {
        "id": "jtZJCCZzzJRa"
      },
      "execution_count": null,
      "outputs": []
    },
    {
      "cell_type": "code",
      "source": [
        "adversarial_image = get_image_from_marabou(network.inputVars[0][0])\n",
        "network_ouput = network.evaluateWithoutMarabou([adversarial_image])[0]\n",
        "predicted_class = np.argmax(network_ouput)\n",
        "\n",
        "plt.title(f\"correct:{correct_class}, predicted: {predicted_class}\")\n",
        "plt.imshow(adversarial_image, cmap='gray')"
      ],
      "metadata": {
        "id": "BhcAEUAQ9HR4",
        "outputId": "b140c6df-9904-44b9-c7bd-79ab2fdacb4d",
        "colab": {
          "base_uri": "https://localhost:8080/",
          "height": 298
        }
      },
      "execution_count": null,
      "outputs": [
        {
          "output_type": "execute_result",
          "data": {
            "text/plain": [
              "<matplotlib.image.AxesImage at 0x7f821c360a90>"
            ]
          },
          "metadata": {},
          "execution_count": 66
        },
        {
          "output_type": "display_data",
          "data": {
            "text/plain": [
              "<Figure size 432x288 with 1 Axes>"
            ],
            "image/png": "[encoded data removed]"
          },
          "metadata": {
            "needs_background": "light"
          }
        }
      ]
    },
    {
      "cell_type": "markdown",
      "source": [
        "### Verify robustness with a smaller epsilon value"
      ],
      "metadata": {
        "id": "WTSrfz38qJ-L"
      }
    },
    {
      "cell_type": "markdown",
      "source": [
        "Now we choose a smaller epsilon and try to verify the robustness instead of finding an adversarial example. As we can see, Marabou results in \"unsat\", which means that the robustness is verified."
      ],
      "metadata": {
        "id": "OJIpx21iziCJ"
      }
    },
    {
      "cell_type": "code",
      "source": [
        "epsilon = 0.05\n",
        "\n",
        "network = Marabou.read_onnx(model_filename)\n",
        "network.evaluateLocalRobustness(image, epsilon, correct_class, options=options)"
      ],
      "metadata": {
        "id": "oAnaKcukAULX",
        "outputId": "364eb1b4-1d80-440d-f83c-ab40164c12f6",
        "colab": {
          "base_uri": "https://localhost:8080/"
        }
      },
      "execution_count": null,
      "outputs": [
        {
          "output_type": "stream",
          "name": "stdout",
          "text": [
            "unsat\n",
            "unsat\n",
            "unsat\n",
            "unsat\n",
            "unsat\n",
            "unsat\n",
            "unsat\n",
            "unsat\n",
            "unsat\n"
          ]
        },
        {
          "output_type": "execute_result",
          "data": {
            "text/plain": [
              "[{}, <maraboupy.MarabouCore.Statistics at 0x7f82782c57f0>, None]"
            ]
          },
          "metadata": {},
          "execution_count": 67
        }
      ]
    },
    {
      "cell_type": "markdown",
      "source": [
        "This concludes our tutorial. Now it's your turn to use different networks for verification or change parameters as you like."
      ],
      "metadata": {
        "id": "tB64bUM10CCt"
      }
    }
  ]
}