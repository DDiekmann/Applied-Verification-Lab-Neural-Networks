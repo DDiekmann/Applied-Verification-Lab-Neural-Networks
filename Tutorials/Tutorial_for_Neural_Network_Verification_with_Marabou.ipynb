{
  "nbformat": 4,
  "nbformat_minor": 0,
  "metadata": {
    "colab": {
      "name": "Tutorial for Neural Network Verification with Marabou.ipynb",
      "provenance": [],
      "include_colab_link": true
    },
    "kernelspec": {
      "name": "python3",
      "display_name": "Python 3"
    },
    "language_info": {
      "name": "python"
    },
    "gpuClass": "standard",
    "accelerator": "GPU"
  },
  "cells": [
    {
      "cell_type": "markdown",
      "metadata": {
        "id": "view-in-github",
        "colab_type": "text"
      },
      "source": [
        "<a href=\"https://colab.research.google.com/github/DDiekmann/Applied-Verification-Lab-Neural-Networks/blob/main/Tutorials/Tutorial_for_Neural_Network_Verification_with_Marabou.ipynb\" target=\"_parent\"><img src=\"https://colab.research.google.com/assets/colab-badge.svg\" alt=\"Open In Colab\"/></a>"
      ]
    },
    {
      "cell_type": "markdown",
      "source": [
        "# Tutorial for Neural Network Verification with Marabou\n",
        "\n",
        "---\n",
        "\n",
        "*As an example we try to verifiy the **robustness** of a classification Network trained on the MNIST dataset and **fairness** of a classification network trained on the census income dataset.\n",
        "In both verifications we are using [Marabou](https://neuralnetworkverification.github.io/).*\n",
        "\n",
        "Important Links:\n",
        "- [Marabou sourcecode](https://github.com/NeuralNetworkVerification/Marabou)\n",
        "- [Marabou documenation](https://neuralnetworkverification.github.io/Marabou/)\n",
        "\n",
        "---"
      ],
      "metadata": {
        "id": "q3qPAZj5aa1o"
      }
    },
    {
      "cell_type": "markdown",
      "source": [
        "As in the other tutorials, the focus of this tutorial we don´t focus on details of the pre processing and training. If you are interested in that part you can look into the training code for this tutorial at our [mnist trainer](https://github.com/DDiekmann/Applied-Verification-Lab-Neural-Networks/blob/main/lib/mnist_trainer.py). Before starting the tutorials we will import required packages and train a model with the mentioned mnist trainer. The model is defined and then used for solving in marabou. Before solving we also need to build and install Marabou. For more details on that you can take a look at the [sourcecode](https://github.com/NeuralNetworkVerification/Marabou) or the [documentation](https://neuralnetworkverification.github.io/Marabou/)."
      ],
      "metadata": {
        "id": "adH-rPo1wP2t"
      }
    },
    {
      "cell_type": "markdown",
      "source": [
        "## Prerequisites"
      ],
      "metadata": {
        "id": "kpNvW7IGlxMV"
      }
    },
    {
      "cell_type": "markdown",
      "source": [
        "Our model will be trained with [pytorch](https://pytorch.org/). We import needed packages and the mnist trainer. To export our trained model and use it with marabou we also import ```torch.onnx```. That´s a format for saving neural networks."
      ],
      "metadata": {
        "id": "p-YQIOGvwSqr"
      }
    },
    {
      "cell_type": "code",
      "source": [
        "%%capture \n",
        "import torch\n",
        "from torch import nn\n",
        "import numpy as np\n",
        "import torch.onnx\n",
        "import sys\n",
        "\n",
        "import matplotlib.pyplot as plt\n",
        "\n",
        "!wget --no-cache --backups=1 {'https://raw.githubusercontent.com/DDiekmann/Applied-Verification-Lab-Neural-Networks/main/lib/mnist_trainer.py'}\n",
        "\n",
        "import mnist_trainer"
      ],
      "metadata": {
        "id": "NusF574naZzV"
      },
      "execution_count": null,
      "outputs": []
    },
    {
      "cell_type": "code",
      "source": [
        "%pip install onnx onnxruntime"
      ],
      "metadata": {
        "id": "1O17HlvczPwP",
        "outputId": "346952aa-0328-4789-dbaa-40f8e1377cc4",
        "colab": {
          "base_uri": "https://localhost:8080/"
        }
      },
      "execution_count": null,
      "outputs": [
        {
          "output_type": "stream",
          "name": "stdout",
          "text": [
            "Looking in indexes: https://pypi.org/simple, https://us-python.pkg.dev/colab-wheels/public/simple/\n",
            "Collecting onnx\n",
            "  Downloading onnx-1.12.0-cp37-cp37m-manylinux_2_17_x86_64.manylinux2014_x86_64.whl (13.1 MB)\n",
            "\u001b[K     |████████████████████████████████| 13.1 MB 5.2 MB/s \n",
            "\u001b[?25hCollecting onnxruntime\n",
            "  Downloading onnxruntime-1.11.1-cp37-cp37m-manylinux_2_17_x86_64.manylinux2014_x86_64.whl (5.2 MB)\n",
            "\u001b[K     |████████████████████████████████| 5.2 MB 48.5 MB/s \n",
            "\u001b[?25hRequirement already satisfied: numpy>=1.16.6 in /usr/local/lib/python3.7/dist-packages (from onnx) (1.21.6)\n",
            "Requirement already satisfied: protobuf<=3.20.1,>=3.12.2 in /usr/local/lib/python3.7/dist-packages (from onnx) (3.17.3)\n",
            "Requirement already satisfied: typing-extensions>=3.6.2.1 in /usr/local/lib/python3.7/dist-packages (from onnx) (4.1.1)\n",
            "Requirement already satisfied: six>=1.9 in /usr/local/lib/python3.7/dist-packages (from protobuf<=3.20.1,>=3.12.2->onnx) (1.15.0)\n",
            "Requirement already satisfied: flatbuffers in /usr/local/lib/python3.7/dist-packages (from onnxruntime) (2.0)\n",
            "Installing collected packages: onnxruntime, onnx\n",
            "Successfully installed onnx-1.12.0 onnxruntime-1.11.1\n"
          ]
        }
      ]
    },
    {
      "cell_type": "markdown",
      "source": [
        "## Install Marabou"
      ],
      "metadata": {
        "id": "pWBCdhS6l0aP"
      }
    },
    {
      "cell_type": "markdown",
      "source": [
        "For installation we followed the instructions of the marabou [documentation](https://neuralnetworkverification.github.io/Marabou/Setup/0_Installation.html)."
      ],
      "metadata": {
        "id": "obwLHsjCySsZ"
      }
    },
    {
      "cell_type": "code",
      "source": [
        "!git clone https://github.com/NeuralNetworkVerification/Marabou.git\n",
        "!cd Marabou && git checkout \"492c1b8c703c8a383f421468a104c34710e6d26d\""
      ],
      "metadata": {
        "id": "xSHDfOyol1Nt",
        "outputId": "03c798fe-5e09-42c2-985c-864c126dac68",
        "colab": {
          "base_uri": "https://localhost:8080/"
        }
      },
      "execution_count": null,
      "outputs": [
        {
          "output_type": "stream",
          "name": "stdout",
          "text": [
            "Cloning into 'Marabou'...\n",
            "remote: Enumerating objects: 25724, done.\u001b[K\n",
            "remote: Counting objects: 100% (38/38), done.\u001b[K\n",
            "remote: Compressing objects: 100% (37/37), done.\u001b[K\n",
            "remote: Total 25724 (delta 13), reused 8 (delta 1), pack-reused 25686\u001b[K\n",
            "Receiving objects: 100% (25724/25724), 208.60 MiB | 29.72 MiB/s, done.\n",
            "Resolving deltas: 100% (18530/18530), done.\n",
            "Note: checking out '492c1b8c703c8a383f421468a104c34710e6d26d'.\n",
            "\n",
            "You are in 'detached HEAD' state. You can look around, make experimental\n",
            "changes and commit them, and you can discard any commits you make in this\n",
            "state without impacting any branches by performing another checkout.\n",
            "\n",
            "If you want to create a new branch to retain commits you create, you may\n",
            "do so (now or later) by using -b with the checkout command again. Example:\n",
            "\n",
            "  git checkout -b <new-branch-name>\n",
            "\n",
            "HEAD is now at 492c1b8c Remove ConstraintBoundTightener (#560)\n"
          ]
        }
      ]
    },
    {
      "cell_type": "markdown",
      "source": [
        "The following instructions build and install marabou. In Google Colab you use ```%%shell``` to use shell commands in the current cell. \n",
        "The build needs about 15 to 20 minutes. \n",
        "When building it locally it can depend on available ressources."
      ],
      "metadata": {
        "id": "HI1TkfdA1FuA"
      }
    },
    {
      "cell_type": "code",
      "source": [
        "%%shell\n",
        "cd Marabou\n",
        "mkdir build\n",
        "cd build\n",
        "cmake .. -DBUILD_PYTHON=ON\n",
        "cmake --build .\n",
        "cd /content"
      ],
      "metadata": {
        "id": "jiTG00J3-ih4"
      },
      "execution_count": null,
      "outputs": []
    },
    {
      "cell_type": "markdown",
      "source": [
        "To finish the installation and use marabou in python we need to add the path to the PYTHONPATH. For that we add the path to ```sys.path```-list in python. Use your prefered method to add it to your PYTHONPATH."
      ],
      "metadata": {
        "id": "niXgX-l_v4ly"
      }
    },
    {
      "cell_type": "code",
      "source": [
        "sys.path.insert(1, '/content/Marabou')"
      ],
      "metadata": {
        "id": "mzBlTO-5w6KB"
      },
      "execution_count": null,
      "outputs": []
    },
    {
      "cell_type": "markdown",
      "source": [
        "Now everything is prepared to import the api for python."
      ],
      "metadata": {
        "id": "70K6YrCQv7vw"
      }
    },
    {
      "cell_type": "code",
      "source": [
        "from maraboupy import Marabou\n",
        "from maraboupy import MarabouCore"
      ],
      "metadata": {
        "id": "qgyFeB4uqeSS",
        "colab": {
          "base_uri": "https://localhost:8080/"
        },
        "outputId": "8cc10d17-0103-4fd0-d4ef-4ae2f4ee9059"
      },
      "execution_count": null,
      "outputs": [
        {
          "output_type": "stream",
          "name": "stdout",
          "text": [
            "WARNING:tensorflow:From /usr/local/lib/python3.7/dist-packages/tensorflow/python/compat/v2_compat.py:107: disable_resource_variables (from tensorflow.python.ops.variable_scope) is deprecated and will be removed in a future version.\n",
            "Instructions for updating:\n",
            "non-resource variables are not supported in the long term\n"
          ]
        }
      ]
    },
    {
      "cell_type": "code",
      "source": [
        "options = Marabou.createOptions(verbosity = 0)"
      ],
      "metadata": {
        "id": "o5_gYn5sqpwT"
      },
      "execution_count": null,
      "outputs": []
    },
    {
      "cell_type": "markdown",
      "source": [
        "# Verification Of Robustness With Marabou"
      ],
      "metadata": {
        "id": "mFVdWfCojxvf"
      }
    },
    {
      "cell_type": "markdown",
      "source": [
        "## Train and export Neural Network"
      ],
      "metadata": {
        "id": "XrtpFIcWxZvP"
      }
    },
    {
      "cell_type": "markdown",
      "source": [
        "First we define the model. Marabou is a more powerfull tool than z3 and so we can define a more complex neural network as in the [smt-based solver](https://github.com/DDiekmann/Applied-Verification-Lab-Neural-Networks/blob/main/Tutorials/Tutorial%20for%20SMT%20based%20Verification.ipynb).\n",
        "We define multiple hidden layers and will use way more neurons then in the other tutorial."
      ],
      "metadata": {
        "id": "GDTKwcKkwogP"
      }
    },
    {
      "cell_type": "code",
      "source": [
        "class NeuralNetwork(nn.Module):\n",
        "    def __init__(self, input_dim, output_dim, number_of_neurons):\n",
        "        super(NeuralNetwork, self).__init__()\n",
        "        self.linear_relu_stack = nn.Sequential(\n",
        "            nn.Flatten(),\n",
        "            nn.Linear(input_dim, number_of_neurons),\n",
        "            nn.ReLU(),\n",
        "            nn.Linear(number_of_neurons, number_of_neurons),\n",
        "            nn.ReLU(),\n",
        "            nn.Linear(number_of_neurons, output_dim),\n",
        "        )\n",
        "\n",
        "    def forward(self, x):\n",
        "        logits = self.linear_relu_stack(x)\n",
        "        return logits"
      ],
      "metadata": {
        "id": "V-33uqG-bUtB"
      },
      "execution_count": null,
      "outputs": []
    },
    {
      "cell_type": "markdown",
      "source": [
        "To train the defined model, we load the mnist dataset and save a dataloader each for training and testing. With the train-dataset we train the defined model. As seen in the constructor of the neural network the dimensions of neurons are a lot bigger than last time."
      ],
      "metadata": {
        "id": "dsx_MMW5xdgM"
      }
    },
    {
      "cell_type": "code",
      "source": [
        "%%capture\n",
        "train_dataloader, test_dataloader = mnist_trainer.load_mnist_dataset(batch_size=64)"
      ],
      "metadata": {
        "id": "3UZ3etRBgxps"
      },
      "execution_count": null,
      "outputs": []
    },
    {
      "cell_type": "code",
      "source": [
        "model = mnist_trainer.train_model(\n",
        "    NeuralNetwork(input_dim=28*28, output_dim=10, number_of_neurons=20), \n",
        "    epochs=3, \n",
        "    train_dataloader=train_dataloader,\n",
        "    test_dataloader=test_dataloader,\n",
        "    )"
      ],
      "metadata": {
        "id": "yp5skKQ_xtBo",
        "outputId": "ce420bb7-9e5d-413c-91be-ba9d999363b4",
        "colab": {
          "base_uri": "https://localhost:8080/"
        }
      },
      "execution_count": null,
      "outputs": [
        {
          "output_type": "stream",
          "name": "stdout",
          "text": [
            "Epoch 1\n",
            "-------------------------------\n"
          ]
        },
        {
          "output_type": "stream",
          "name": "stderr",
          "text": [
            "100%|██████████| 938/938 [00:06<00:00, 146.03it/s]\n"
          ]
        },
        {
          "output_type": "stream",
          "name": "stdout",
          "text": [
            "Test Error: \n",
            " Accuracy: 91.6%, Avg loss: 0.278558 \n",
            "\n",
            "Epoch 2\n",
            "-------------------------------\n"
          ]
        },
        {
          "output_type": "stream",
          "name": "stderr",
          "text": [
            "100%|██████████| 938/938 [00:06<00:00, 151.16it/s]\n"
          ]
        },
        {
          "output_type": "stream",
          "name": "stdout",
          "text": [
            "Test Error: \n",
            " Accuracy: 92.9%, Avg loss: 0.229148 \n",
            "\n",
            "Epoch 3\n",
            "-------------------------------\n"
          ]
        },
        {
          "output_type": "stream",
          "name": "stderr",
          "text": [
            "100%|██████████| 938/938 [00:06<00:00, 150.27it/s]\n"
          ]
        },
        {
          "output_type": "stream",
          "name": "stdout",
          "text": [
            "Test Error: \n",
            " Accuracy: 93.8%, Avg loss: 0.201582 \n",
            "\n",
            "Done!\n"
          ]
        }
      ]
    },
    {
      "cell_type": "markdown",
      "source": [
        "Next we export the model as a ```.onnx``` format. Because we need to export another model later again, we define a function to do so. In your code you can also just use the code block in your script without defining a function."
      ],
      "metadata": {
        "id": "TbgahIWjxoZq"
      }
    },
    {
      "cell_type": "code",
      "source": [
        "def export_as_onnx(model, model_filename, dummy_input): \n",
        "  # set model to eval mode\n",
        "  model.eval()\n",
        "\n",
        "  # create a dummy input in the shape of the input values\n",
        "  device = \"cuda\" if torch.cuda.is_available() else \"cpu\"\n",
        "  dummy_input = dummy_input.to(device)\n",
        "\n",
        "  torch.onnx.export(model,\n",
        "                    dummy_input,\n",
        "                    model_filename,\n",
        "                    export_params=True,\n",
        "                    verbose=False,\n",
        "                    input_names=['image'],\n",
        "                    output_names=['classification'],\n",
        "                    )"
      ],
      "metadata": {
        "id": "Q0VJc7Dwp5jH"
      },
      "execution_count": null,
      "outputs": []
    },
    {
      "cell_type": "code",
      "source": [
        "model_filename = \"mnist_net.onnx\"\n",
        "export_as_onnx(model, model_filename=model_filename, dummy_input=torch.randn(1, 28, 28))"
      ],
      "metadata": {
        "id": "qS-08ZNLnfmP"
      },
      "execution_count": null,
      "outputs": []
    },
    {
      "cell_type": "markdown",
      "source": [
        "## Verify Robustness With Marabou"
      ],
      "metadata": {
        "id": "p7qvNVTY63tS"
      }
    },
    {
      "cell_type": "markdown",
      "source": [
        "With marabou we read the exported model. "
      ],
      "metadata": {
        "id": "goGrzTsov9Lx"
      }
    },
    {
      "cell_type": "code",
      "source": [
        "network = Marabou.read_onnx(model_filename)\n",
        "\n",
        "inputVars = network.inputVars[0][0]\n",
        "outputVars = network.outputVars[0][0]"
      ],
      "metadata": {
        "id": "T5eysj4r2bxz"
      },
      "execution_count": null,
      "outputs": []
    },
    {
      "cell_type": "markdown",
      "source": [
        "Using marabou we predict the class of our example image. \n",
        "For verification we will use that example. For now we evaluate the number of the mnist test image. \n",
        "For visualisation we show the image and the correct and predicted class."
      ],
      "metadata": {
        "id": "gj7MbOkEuSRZ"
      }
    },
    {
      "cell_type": "code",
      "source": [
        "inputs, classes = next(iter(train_dataloader))\n",
        "image = inputs[0].numpy()[0]\n",
        "correct_class = classes[0].item()\n",
        "\n",
        "network_ouput = network.evaluateWithoutMarabou([image])[0]\n",
        "predicted_class = np.argmax(network_ouput)\n",
        "\n",
        "plt.title(f\"correct:{correct_class}, predicted: {predicted_class}\")\n",
        "plt.imshow(image.reshape(28,28), cmap='gray')"
      ],
      "metadata": {
        "id": "YiEUl7HT7SJR",
        "outputId": "b243837f-6828-4d6e-86b2-622d02a07efa",
        "colab": {
          "base_uri": "https://localhost:8080/",
          "height": 298
        }
      },
      "execution_count": null,
      "outputs": [
        {
          "output_type": "execute_result",
          "data": {
            "text/plain": [
              "<matplotlib.image.AxesImage at 0x7f9e0e219fd0>"
            ]
          },
          "metadata": {},
          "execution_count": 14
        },
        {
          "output_type": "display_data",
          "data": {
            "text/plain": [
              "<Figure size 432x288 with 1 Axes>"
            ],
            "image/png": "[encoded data removed]"
          },
          "metadata": {
            "needs_background": "light"
          }
        }
      ]
    },
    {
      "cell_type": "markdown",
      "source": [
        "As in the last tutorial our goal is to find a pertubation so that the model fails to identify the correct class. For that we define an epsilon. "
      ],
      "metadata": {
        "id": "3BzV4VAb1UGd"
      }
    },
    {
      "cell_type": "code",
      "source": [
        "epsilon = 0.1"
      ],
      "metadata": {
        "id": "c57-rTJMmyXt"
      },
      "execution_count": null,
      "outputs": []
    },
    {
      "cell_type": "markdown",
      "source": [
        "We define bounds for every pixel so that the value is the old value +/- epsilon."
      ],
      "metadata": {
        "id": "ioRj5GK612fS"
      }
    },
    {
      "cell_type": "code",
      "source": [
        "for h in range(inputVars.shape[0]):\n",
        "  for w in range(inputVars.shape[1]):\n",
        "    network.setLowerBound(inputVars[h][w], image[h][w] - epsilon)\n",
        "    network.setUpperBound(inputVars[h][w], image[h][w] + epsilon)"
      ],
      "metadata": {
        "id": "6-xbc4nmwfmM"
      },
      "execution_count": null,
      "outputs": []
    },
    {
      "cell_type": "markdown",
      "source": [
        "With marabou we solve the network with defined constraints."
      ],
      "metadata": {
        "id": "LqZMi1Cq14VZ"
      }
    },
    {
      "cell_type": "code",
      "source": [
        "for i in range(outputVars.shape[0]):\n",
        "  if i != correct_class:\n",
        "    # add max constraint\n",
        "    network.addMaxConstraint(set(outputVars), outputVars[i])\n",
        "    # solve\n",
        "    exit_code, vals, stats = network.solve(verbose = False, options = options)\n",
        "    # if solution found, break\n",
        "    print(exit_code)\n",
        "    if len(vals) > 0:\n",
        "      break"
      ],
      "metadata": {
        "id": "iaajApMdwYp_",
        "colab": {
          "base_uri": "https://localhost:8080/"
        },
        "outputId": "cffb2145-673a-4eb5-ee00-86a0d8242e2d"
      },
      "execution_count": null,
      "outputs": [
        {
          "output_type": "stream",
          "name": "stdout",
          "text": [
            "sat\n"
          ]
        }
      ]
    },
    {
      "cell_type": "markdown",
      "source": [
        "## Visualise Adversarial Example"
      ],
      "metadata": {
        "id": "ka90lrAf2yoY"
      }
    },
    {
      "cell_type": "markdown",
      "source": [
        "To show the adversarial example we extract the new input data and save that in an numpy array.\n",
        "Next we extract the new class that the neural network predicts"
      ],
      "metadata": {
        "id": "g89uf3w-17-q"
      }
    },
    {
      "cell_type": "code",
      "source": [
        "adversarial_image = [[] for _ in range(inputVars.shape[1])]\n",
        "for h in range(inputVars.shape[0]):\n",
        "  for w in range(inputVars.shape[1]):\n",
        "    adversarial_image[h].insert(w, vals[inputVars[h][w]])\n",
        "adversarial_image = np.array(adversarial_image)\n",
        "\n",
        "outputs = []\n",
        "for h in range(outputVars.shape[0]):\n",
        "  outputs.insert(h, vals[outputVars[h]])\n",
        "print(outputs)\n",
        "print(np.argmax(outputs))"
      ],
      "metadata": {
        "id": "iwGaQhYqzjxa",
        "outputId": "1961e0ef-3ddd-4e51-e601-294293e9f863",
        "colab": {
          "base_uri": "https://localhost:8080/"
        }
      },
      "execution_count": null,
      "outputs": [
        {
          "output_type": "stream",
          "name": "stdout",
          "text": [
            "[1.0108358040902936, -3.3322240972374173, -0.9263046957677025, 1.0108358040902936, -11.79549507597237, 1.0108358040902936, -5.362842758272533, -0.409780070635525, -3.168059930004339, 0.31925748517365293]\n",
            "0\n"
          ]
        }
      ]
    },
    {
      "cell_type": "markdown",
      "source": [
        "Now we can see the slightly changed image. The model should not predict the correct number."
      ],
      "metadata": {
        "id": "nY2faD8n2f2E"
      }
    },
    {
      "cell_type": "code",
      "source": [
        "network_ouput = network.evaluateWithoutMarabou([adversarial_image])[0]\n",
        "predicted_class = np.argmax(network_ouput)\n",
        "\n",
        "plt.title(f\"correct:{correct_class}, predicted: {predicted_class}\")\n",
        "plt.imshow(adversarial_image, cmap='gray')"
      ],
      "metadata": {
        "colab": {
          "base_uri": "https://localhost:8080/",
          "height": 298
        },
        "id": "fpUjWw45z-69",
        "outputId": "8be929e6-7441-48f2-9e2e-fdda50073e57"
      },
      "execution_count": null,
      "outputs": [
        {
          "output_type": "execute_result",
          "data": {
            "text/plain": [
              "<matplotlib.image.AxesImage at 0x7f9e0e1093d0>"
            ]
          },
          "metadata": {},
          "execution_count": 19
        },
        {
          "output_type": "display_data",
          "data": {
            "text/plain": [
              "<Figure size 432x288 with 1 Axes>"
            ],
            "image/png": "[encoded data removed]"
          },
          "metadata": {
            "needs_background": "light"
          }
        }
      ]
    },
    {
      "cell_type": "markdown",
      "source": [
        "All the work we have done is included in the marabou implementation. \n",
        "Marabou evaluates the robustness with a given epsilon."
      ],
      "metadata": {
        "id": "Pt_sCui5_s9A"
      }
    },
    {
      "cell_type": "code",
      "source": [
        "epsilon = 0.05\n",
        "\n",
        "network = Marabou.read_onnx(model_filename)\n",
        "network.evaluateLocalRobustness(image, epsilon, correct_class, options=options)"
      ],
      "metadata": {
        "id": "oAnaKcukAULX",
        "outputId": "629ccc16-0b69-4cba-9b0f-88f5c96f004b",
        "colab": {
          "base_uri": "https://localhost:8080/"
        }
      },
      "execution_count": null,
      "outputs": [
        {
          "output_type": "stream",
          "name": "stdout",
          "text": [
            "unsat\n",
            "unsat\n",
            "unsat\n",
            "unsat\n",
            "unsat\n",
            "unsat\n",
            "unsat\n",
            "unsat\n",
            "unsat\n"
          ]
        },
        {
          "output_type": "execute_result",
          "data": {
            "text/plain": [
              "[{}, <maraboupy.MarabouCore.Statistics at 0x7f9e10993670>, None]"
            ]
          },
          "metadata": {},
          "execution_count": 20
        }
      ]
    },
    {
      "cell_type": "markdown",
      "source": [
        "## Training And Exporting The Neural Network"
      ],
      "metadata": {
        "id": "eX2dWMs57QRj"
      }
    },
    {
      "cell_type": "markdown",
      "source": [
        "\n",
        "We train the neural network on the [Census Income Data Set](https://archive.ics.uci.edu/ml/datasets/census+income). \n",
        "This classification problem has a set of inputs like age, gender, workclass and other. \n",
        "The classifier now has to predict whether the income is above or below \\$50,000.\n",
        "\n",
        "---\n",
        "\n",
        "Listing of input features (encoded with integers starting with 1):\n",
        "\n",
        "* age: continuous.\n",
        "\n",
        "* workclass: Private, Self-emp-not-inc, Self-emp-inc, Federal-gov, Local-gov, State-gov, Without-pay, Never-worked.\n",
        "\n",
        "* fnlwgt: continuous.\n",
        "\n",
        "* education: Bachelors, Some-college, 11th, HS-grad, Prof-school, Assoc-acdm, Assoc-voc, 9th, 7th-8th, 12th, Masters, 1st-4th, 10th, Doctorate, 5th-6th, Preschool.\n",
        "\n",
        "* education-num: continuous.\n",
        "\n",
        "* marital-status: Married-civ-spouse, Divorced, Never-married, Separated, Widowed, Married-spouse-absent, Married-AF-spouse.\n",
        "\n",
        "* occupation: Tech-support, Craft-repair, Other-service, Sales, Exec-managerial, Prof-specialty, Handlers-cleaners, Machine-op-inspct, Adm-clerical, Farming-fishing, Transport-moving, Priv-house-serv, Protective-serv, Armed-Forces.\n",
        "\n",
        "* relationship: Wife, Own-child, Husband, Not-in-family, Other-relative, Unmarried.\n",
        "\n",
        "* race: White, Asian-Pac-Islander, Amer-Indian-Eskimo, Other, Black.\n",
        "\n",
        "* sex: Female, Male.\n",
        "\n",
        "* capital-gain: continuous.\n",
        "\n",
        "* capital-loss: continuous.\n",
        "\n",
        "* hours-per-week: continuous.\n",
        "\n",
        "* native-country: United-States, Cambodia, England, Puerto-Rico, Canada, Germany, Outlying-US(Guam-USVI-etc), India, Japan, Greece, South, China, Cuba, Iran, Honduras, Philippines, Italy, Poland, Jamaica, Vietnam, Mexico, Portugal, Ireland, France, Dominican-Republic, Laos, Ecuador, Taiwan, Haiti, Columbia, Hungary, Guatemala, Nicaragua, Scotland, Thailand, Yugoslavia, El-Salvador, Trinadad&Tobago, Peru, Hong, Holand-Netherlands.\n",
        "\n",
        "Output (encoded with two neurons): \n",
        "* <=50K or >50K"
      ],
      "metadata": {
        "id": "52_y7PoFkUpT"
      }
    },
    {
      "cell_type": "markdown",
      "source": [
        "To check the fairness in Marabou, we need to slightly modify our neural network"
      ],
      "metadata": {
        "id": "9sh2k3mCmGUd"
      }
    },
    {
      "cell_type": "code",
      "source": [
        "%%capture\n",
        "census_train_dataloader, census_test_dataloader = mnist_trainer.load_census_income_dataset(batch_size=64)"
      ],
      "metadata": {
        "id": "0j9OTZ8Ammle"
      },
      "execution_count": null,
      "outputs": []
    },
    {
      "cell_type": "code",
      "source": [
        "# train model\n",
        "census_model = mnist_trainer.train_model(\n",
        "    NeuralNetwork(input_dim=14, output_dim=2, number_of_neurons=20), \n",
        "    epochs=5, \n",
        "    train_dataloader=census_train_dataloader,    \n",
        "    test_dataloader=census_test_dataloader,\n",
        "    )\n",
        "\n",
        "# export model\n",
        "census_model_filename = \"census_net.onnx\"\n",
        "export_as_onnx(census_model, model_filename=census_model_filename, dummy_input=torch.randn(2, 14))"
      ],
      "metadata": {
        "colab": {
          "base_uri": "https://localhost:8080/"
        },
        "id": "HbCo0D3YnJTZ",
        "outputId": "db590d8f-6c54-4829-e0f5-4f7488c2bb9f"
      },
      "execution_count": null,
      "outputs": [
        {
          "output_type": "stream",
          "name": "stdout",
          "text": [
            "Epoch 1\n",
            "-------------------------------\n"
          ]
        },
        {
          "output_type": "stream",
          "name": "stderr",
          "text": [
            "100%|██████████| 378/378 [00:00<00:00, 463.42it/s]\n"
          ]
        },
        {
          "output_type": "stream",
          "name": "stdout",
          "text": [
            "Test Error: \n",
            " Accuracy: 77.5%, Avg loss: 36.385952 \n",
            "\n",
            "Epoch 2\n",
            "-------------------------------\n"
          ]
        },
        {
          "output_type": "stream",
          "name": "stderr",
          "text": [
            "100%|██████████| 378/378 [00:00<00:00, 506.79it/s]\n"
          ]
        },
        {
          "output_type": "stream",
          "name": "stdout",
          "text": [
            "Test Error: \n",
            " Accuracy: 78.1%, Avg loss: 25.673706 \n",
            "\n",
            "Epoch 3\n",
            "-------------------------------\n"
          ]
        },
        {
          "output_type": "stream",
          "name": "stderr",
          "text": [
            "100%|██████████| 378/378 [00:00<00:00, 508.09it/s]\n"
          ]
        },
        {
          "output_type": "stream",
          "name": "stdout",
          "text": [
            "Test Error: \n",
            " Accuracy: 79.0%, Avg loss: 19.107695 \n",
            "\n",
            "Epoch 4\n",
            "-------------------------------\n"
          ]
        },
        {
          "output_type": "stream",
          "name": "stderr",
          "text": [
            "100%|██████████| 378/378 [00:00<00:00, 510.71it/s]\n"
          ]
        },
        {
          "output_type": "stream",
          "name": "stdout",
          "text": [
            "Test Error: \n",
            " Accuracy: 77.7%, Avg loss: 37.834902 \n",
            "\n",
            "Epoch 5\n",
            "-------------------------------\n"
          ]
        },
        {
          "output_type": "stream",
          "name": "stderr",
          "text": [
            "100%|██████████| 378/378 [00:00<00:00, 512.72it/s]\n"
          ]
        },
        {
          "output_type": "stream",
          "name": "stdout",
          "text": [
            "Test Error: \n",
            " Accuracy: 78.8%, Avg loss: 10.081996 \n",
            "\n",
            "Done!\n"
          ]
        }
      ]
    },
    {
      "cell_type": "markdown",
      "source": [
        "## Verify Fairness With Marabou\n"
      ],
      "metadata": {
        "id": "s-twgz0kkHwy"
      }
    },
    {
      "cell_type": "markdown",
      "source": [
        "As before we need to read the network with marabou again."
      ],
      "metadata": {
        "id": "C2wWjDMLpKFV"
      }
    },
    {
      "cell_type": "code",
      "source": [
        "census_network = Marabou.read_onnx(census_model_filename)\n",
        "\n",
        "inputVars1 = census_network.inputVars[0][0]\n",
        "inputVars2 = census_network.inputVars[0][1]\n",
        "outputVars1 = census_network.outputVars[0][0]\n",
        "outputVars2 = census_network.outputVars[0][1]\n",
        "\n",
        "#inputVars1, inputVars2 = split_list(inputVars)\n",
        "#outputVars1, outputVars2 = split_list(outputVars)"
      ],
      "metadata": {
        "id": "dAaLt2MruV7d"
      },
      "execution_count": null,
      "outputs": []
    },
    {
      "cell_type": "markdown",
      "source": [
        "The fairness property states, that the neural network should output the same result, if exactly one input, but no other, is changed. This can be applied to sensitive attributes like sex or race. In our example a sensitive attribute can be the sex. \n",
        "So if the network predicts that a male earns more than \\\\$50,000 with given attributes, then a female with the same attributes also has to earn more than \\\\$50,000, when the network is fair.\n",
        "\n",
        "Let $\\mathcal{N}$ be our neural network with $\\mathcal{f}_{\\mathcal{N}}: \\mathbb{R}^m\\rightarrow\\mathbb{R}^n$ and $i \\in \\{1...,m\\}$ is a sensitive attribute. \n",
        "\n",
        "The neural network $\\mathcal{N}$ is fair if:\n",
        "$$\n",
        "∀\\vec{x},\\vec{y}\\in\\mathbb{R}^m:(x_i \\neq y_i \\wedge \\displaystyle\\bigwedge_{j \\neq i} x_j = y_j) \\Rightarrow \\mathcal{f}_{\\mathcal{N}}(\\vec{x}) = \\mathcal{f}_{\\mathcal{N}}(\\vec{y}).\n",
        "$$"
      ],
      "metadata": {
        "id": "rzkAKBDBkhSz"
      }
    },
    {
      "cell_type": "code",
      "source": [
        "inputs, classes = next(iter(census_train_dataloader))\n",
        "inputs = inputs[0].numpy()\n",
        "correct_class = classes[0].item()\n",
        "print(inputs)\n",
        "print(correct_class)\n",
        "\n",
        "network_ouput = census_network.evaluateWithoutMarabou([np.array([inputs, inputs])])[0]\n",
        "predicted_class = np.argmax(network_ouput)\n",
        "print(network_ouput)\n",
        "print(predicted_class)"
      ],
      "metadata": {
        "colab": {
          "base_uri": "https://localhost:8080/"
        },
        "id": "ig9JiYT819Jo",
        "outputId": "da7f1757-2cd5-4d41-f790-06b31c104a42"
      },
      "execution_count": null,
      "outputs": [
        {
          "output_type": "stream",
          "name": "stdout",
          "text": [
            "[2.70000e+01 1.00000e+00 2.51905e+05 7.00000e+00 1.10000e+01 3.00000e+00\n",
            " 5.00000e+00 2.00000e+00 1.00000e+00 2.00000e+00 0.00000e+00 0.00000e+00\n",
            " 5.00000e+01 1.00000e+00]\n",
            "0\n",
            "[[2164.708  2091.7886]\n",
            " [2164.708  2091.7886]]\n",
            "0\n"
          ]
        }
      ]
    },
    {
      "cell_type": "code",
      "source": [
        "# sex: index 9\n",
        "i = 9\n",
        "\n",
        "#network.addEquality([inputVars1[i], inputVars2[i]], [1, -1], 0) # 1*x + (-1)*y = 0\n",
        "\n",
        "for x, y in zip(inputVars1, inputVars2):\n",
        "  if x != inputVars1[i]:\n",
        "    census_network.addEquality([x, y], [1, -1], 0) # 1*x + (-1)*y = 0\n",
        "\n",
        "for i in range(outputVars1.shape[0]):\n",
        "  print(f\"iteration: {i}\")\n",
        "  census_network.maxList = []\n",
        "  census_network.addMaxConstraint(set(outputVars1), outputVars1[i])\n",
        "  census_network.addMaxConstraint(set(outputVars2), outputVars2[i])\n",
        "  \n",
        "  # solve\n",
        "  exit_code, vals, stats = census_network.solve(verbose = False, options = options)\n",
        "  # if solution found, break\n",
        "  print(exit_code)\n",
        "  if len(vals) > 0:\n",
        "    break\n"
      ],
      "metadata": {
        "colab": {
          "base_uri": "https://localhost:8080/"
        },
        "id": "L-wNGtdep-fb",
        "outputId": "55ee871b-0af8-4f76-8895-75e2a824a96a"
      },
      "execution_count": null,
      "outputs": [
        {
          "output_type": "stream",
          "name": "stdout",
          "text": [
            "iteration: 0\n",
            "ERROR\n",
            "iteration: 1\n",
            "ERROR\n"
          ]
        }
      ]
    }
  ]
}