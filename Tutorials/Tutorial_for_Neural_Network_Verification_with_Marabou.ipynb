{
  "nbformat": 4,
  "nbformat_minor": 0,
  "metadata": {
    "colab": {
      "name": "Tutorial for Neural Network Verification with Marabou.ipynb",
      "provenance": [],
      "include_colab_link": true
    },
    "kernelspec": {
      "name": "python3",
      "display_name": "Python 3"
    },
    "language_info": {
      "name": "python"
    },
    "gpuClass": "standard",
    "accelerator": "GPU"
  },
  "cells": [
    {
      "cell_type": "markdown",
      "metadata": {
        "id": "view-in-github",
        "colab_type": "text"
      },
      "source": [
        "<a href=\"https://colab.research.google.com/github/DDiekmann/Applied-Verification-Lab-Neural-Networks/blob/main/Tutorials/Tutorial_for_Neural_Network_Verification_with_Marabou.ipynb\" target=\"_parent\"><img src=\"https://colab.research.google.com/assets/colab-badge.svg\" alt=\"Open In Colab\"/></a>"
      ]
    },
    {
      "cell_type": "markdown",
      "source": [
        "# Tutorial for Neural Network Verification with Marabou\n",
        "\n",
        "---\n",
        "\n",
        "*As an example we try to verifiy the **robustness** of a classification Network trained on the MNIST dataset and **fairness** of a classification network trained on the census income dataset.\n",
        "In both verifications we are using [Marabou](https://neuralnetworkverification.github.io/).*\n",
        "\n",
        "Important Links:\n",
        "- [Marabou sourcecode](https://github.com/NeuralNetworkVerification/Marabou)\n",
        "- [Marabou documenation](https://neuralnetworkverification.github.io/Marabou/)\n",
        "\n",
        "---"
      ],
      "metadata": {
        "id": "q3qPAZj5aa1o"
      }
    },
    {
      "cell_type": "markdown",
      "source": [
        "As in the other tutorials, the focus of this tutorial we don´t focus on details of the pre processing and training. If you are interested in that part you can look into the training code for this tutorial at our [mnist trainer](https://github.com/DDiekmann/Applied-Verification-Lab-Neural-Networks/blob/main/lib/mnist_trainer.py). Before starting the tutorials we will import required packages and train a model with the mentioned mnist trainer. The model is defined and then used for solving in marabou. Before solving we also need to build and install Marabou. For more details on that you can take a look at the [sourcecode](https://github.com/NeuralNetworkVerification/Marabou) or the [documentation](https://neuralnetworkverification.github.io/Marabou/)."
      ],
      "metadata": {
        "id": "adH-rPo1wP2t"
      }
    },
    {
      "cell_type": "markdown",
      "source": [
        "## Prerequisites"
      ],
      "metadata": {
        "id": "kpNvW7IGlxMV"
      }
    },
    {
      "cell_type": "markdown",
      "source": [
        "Our model will be trained with [pytorch](https://pytorch.org/). We import needed packages and the mnist trainer. To export our trained model and use it with marabou we also import ```torch.onnx```. That´s a format for saving neural networks."
      ],
      "metadata": {
        "id": "p-YQIOGvwSqr"
      }
    },
    {
      "cell_type": "code",
      "source": [
        "%%capture \n",
        "import torch\n",
        "from torch import nn\n",
        "import numpy as np\n",
        "import torch.onnx\n",
        "import sys\n",
        "\n",
        "import matplotlib.pyplot as plt\n",
        "\n",
        "!wget --no-cache --backups=1 {'https://raw.githubusercontent.com/DDiekmann/Applied-Verification-Lab-Neural-Networks/main/lib/mnist_trainer.py'}\n",
        "\n",
        "import mnist_trainer"
      ],
      "metadata": {
        "id": "NusF574naZzV"
      },
      "execution_count": null,
      "outputs": []
    },
    {
      "cell_type": "code",
      "source": [
        "%pip install onnx onnxruntime"
      ],
      "metadata": {
        "id": "1O17HlvczPwP",
        "outputId": "4d4d775f-710e-4d8a-e03b-7a7e151f8a69",
        "colab": {
          "base_uri": "https://localhost:8080/"
        }
      },
      "execution_count": null,
      "outputs": [
        {
          "output_type": "stream",
          "name": "stdout",
          "text": [
            "Looking in indexes: https://pypi.org/simple, https://us-python.pkg.dev/colab-wheels/public/simple/\n",
            "Collecting onnx\n",
            "  Downloading onnx-1.11.0-cp37-cp37m-manylinux_2_12_x86_64.manylinux2010_x86_64.whl (12.8 MB)\n",
            "\u001b[K     |████████████████████████████████| 12.8 MB 7.9 MB/s \n",
            "\u001b[?25hCollecting onnxruntime\n",
            "  Downloading onnxruntime-1.11.1-cp37-cp37m-manylinux_2_17_x86_64.manylinux2014_x86_64.whl (5.2 MB)\n",
            "\u001b[K     |████████████████████████████████| 5.2 MB 47.7 MB/s \n",
            "\u001b[?25hRequirement already satisfied: protobuf>=3.12.2 in /usr/local/lib/python3.7/dist-packages (from onnx) (3.17.3)\n",
            "Requirement already satisfied: numpy>=1.16.6 in /usr/local/lib/python3.7/dist-packages (from onnx) (1.21.6)\n",
            "Requirement already satisfied: typing-extensions>=3.6.2.1 in /usr/local/lib/python3.7/dist-packages (from onnx) (4.2.0)\n",
            "Requirement already satisfied: six>=1.9 in /usr/local/lib/python3.7/dist-packages (from protobuf>=3.12.2->onnx) (1.15.0)\n",
            "Requirement already satisfied: flatbuffers in /usr/local/lib/python3.7/dist-packages (from onnxruntime) (2.0)\n",
            "Installing collected packages: onnxruntime, onnx\n",
            "Successfully installed onnx-1.11.0 onnxruntime-1.11.1\n"
          ]
        }
      ]
    },
    {
      "cell_type": "markdown",
      "source": [
        "## Install Marabou"
      ],
      "metadata": {
        "id": "pWBCdhS6l0aP"
      }
    },
    {
      "cell_type": "markdown",
      "source": [
        "For installation we followed the instructions of the marabou [documentation](https://neuralnetworkverification.github.io/Marabou/Setup/0_Installation.html)."
      ],
      "metadata": {
        "id": "obwLHsjCySsZ"
      }
    },
    {
      "cell_type": "code",
      "source": [
        "!git clone https://github.com/NeuralNetworkVerification/Marabou.git\n",
        "!cd Marabou && git checkout \"492c1b8c703c8a383f421468a104c34710e6d26d\""
      ],
      "metadata": {
        "id": "xSHDfOyol1Nt",
        "outputId": "d8ab6442-2b7c-4ef3-895e-bd8578259359",
        "colab": {
          "base_uri": "https://localhost:8080/"
        }
      },
      "execution_count": null,
      "outputs": [
        {
          "output_type": "stream",
          "name": "stdout",
          "text": [
            "Cloning into 'Marabou'...\n",
            "remote: Enumerating objects: 25703, done.\u001b[K\n",
            "remote: Counting objects: 100% (17/17), done.\u001b[K\n",
            "remote: Compressing objects: 100% (17/17), done.\u001b[K\n",
            "remote: Total 25703 (delta 7), reused 5 (delta 0), pack-reused 25686\u001b[K\n",
            "Receiving objects: 100% (25703/25703), 208.53 MiB | 27.72 MiB/s, done.\n",
            "Resolving deltas: 100% (18524/18524), done.\n",
            "Note: checking out '492c1b8c703c8a383f421468a104c34710e6d26d'.\n",
            "\n",
            "You are in 'detached HEAD' state. You can look around, make experimental\n",
            "changes and commit them, and you can discard any commits you make in this\n",
            "state without impacting any branches by performing another checkout.\n",
            "\n",
            "If you want to create a new branch to retain commits you create, you may\n",
            "do so (now or later) by using -b with the checkout command again. Example:\n",
            "\n",
            "  git checkout -b <new-branch-name>\n",
            "\n",
            "HEAD is now at 492c1b8c Remove ConstraintBoundTightener (#560)\n"
          ]
        }
      ]
    },
    {
      "cell_type": "markdown",
      "source": [
        "The following instructions build and install marabou. In Google Colab you use ```%%shell``` to use shell commands in the current cell. \n",
        "The build needs about 15 to 20 minutes. \n",
        "When building it locally it can depend on available ressources."
      ],
      "metadata": {
        "id": "HI1TkfdA1FuA"
      }
    },
    {
      "cell_type": "code",
      "source": [
        "%%shell\n",
        "cd Marabou\n",
        "mkdir build\n",
        "cd build\n",
        "cmake .. -DBUILD_PYTHON=ON\n",
        "cmake --build .\n",
        "cd /content"
      ],
      "metadata": {
        "id": "jiTG00J3-ih4"
      },
      "execution_count": null,
      "outputs": []
    },
    {
      "cell_type": "markdown",
      "source": [
        "To finish the installation and use marabou in python we need to add the path to the PYTHONPATH. For that we add the path to ```sys.path```-list in python. Use your prefered method to add it to your PYTHONPATH."
      ],
      "metadata": {
        "id": "niXgX-l_v4ly"
      }
    },
    {
      "cell_type": "code",
      "source": [
        "sys.path.insert(1, '/content/Marabou')"
      ],
      "metadata": {
        "id": "mzBlTO-5w6KB"
      },
      "execution_count": null,
      "outputs": []
    },
    {
      "cell_type": "markdown",
      "source": [
        "Now everything is prepared to import the api for python."
      ],
      "metadata": {
        "id": "70K6YrCQv7vw"
      }
    },
    {
      "cell_type": "code",
      "source": [
        "from maraboupy import Marabou"
      ],
      "metadata": {
        "id": "qgyFeB4uqeSS"
      },
      "execution_count": null,
      "outputs": []
    },
    {
      "cell_type": "code",
      "source": [
        "options = Marabou.createOptions(verbosity = 0)"
      ],
      "metadata": {
        "id": "o5_gYn5sqpwT"
      },
      "execution_count": null,
      "outputs": []
    },
    {
      "cell_type": "markdown",
      "source": [
        "# Verification Of Robustness With Marabou"
      ],
      "metadata": {
        "id": "mFVdWfCojxvf"
      }
    },
    {
      "cell_type": "markdown",
      "source": [
        "## Train and export Neural Network"
      ],
      "metadata": {
        "id": "XrtpFIcWxZvP"
      }
    },
    {
      "cell_type": "markdown",
      "source": [
        "First we define the model. Marabou is a more powerfull tool than z3 and so we can define a more complex neural network as in the [smt-based solver](https://github.com/DDiekmann/Applied-Verification-Lab-Neural-Networks/blob/main/Tutorials/Tutorial%20for%20SMT%20based%20Verification.ipynb).\n",
        "We define multiple hidden layers and will use way more neurons then in the other tutorial."
      ],
      "metadata": {
        "id": "GDTKwcKkwogP"
      }
    },
    {
      "cell_type": "code",
      "source": [
        "class NeuralNetwork(nn.Module):\n",
        "    def __init__(self, input_dim, output_dim, number_of_neurons):\n",
        "        super(NeuralNetwork, self).__init__()\n",
        "        self.linear_relu_stack = nn.Sequential(\n",
        "            nn.Flatten(),\n",
        "            nn.Linear(input_dim, number_of_neurons),\n",
        "            nn.ReLU(),\n",
        "            nn.Linear(number_of_neurons, number_of_neurons),\n",
        "            nn.ReLU(),\n",
        "            nn.Linear(number_of_neurons, output_dim),\n",
        "        )\n",
        "\n",
        "    def forward(self, x):\n",
        "        logits = self.linear_relu_stack(x)\n",
        "        return logits"
      ],
      "metadata": {
        "id": "V-33uqG-bUtB"
      },
      "execution_count": null,
      "outputs": []
    },
    {
      "cell_type": "markdown",
      "source": [
        "To train the defined model, we load the mnist dataset and save a dataloader each for training and testing. With the train-dataset we train the defined model. As seen in the constructor of the neural network the dimensions of neurons are a lot bigger than last time."
      ],
      "metadata": {
        "id": "dsx_MMW5xdgM"
      }
    },
    {
      "cell_type": "code",
      "source": [
        "%%capture\n",
        "train_dataloader, test_dataloader = mnist_trainer.load_mnist_dataset(batch_size=64)"
      ],
      "metadata": {
        "id": "3UZ3etRBgxps"
      },
      "execution_count": null,
      "outputs": []
    },
    {
      "cell_type": "code",
      "source": [
        "model = mnist_trainer.train_model(\n",
        "    NeuralNetwork(input_dim=28*28, output_dim=10, number_of_neurons=20), \n",
        "    epochs=3, \n",
        "    train_dataloader=train_dataloader,\n",
        "    test_dataloader=test_dataloader,\n",
        "    )"
      ],
      "metadata": {
        "id": "yp5skKQ_xtBo",
        "outputId": "fcbb1814-e3df-437d-9bbc-76c86f8349e9",
        "colab": {
          "base_uri": "https://localhost:8080/"
        }
      },
      "execution_count": null,
      "outputs": [
        {
          "output_type": "stream",
          "name": "stdout",
          "text": [
            "Epoch 1\n",
            "-------------------------------\n"
          ]
        },
        {
          "output_type": "stream",
          "name": "stderr",
          "text": [
            "100%|██████████| 938/938 [00:07<00:00, 130.46it/s]\n"
          ]
        },
        {
          "output_type": "stream",
          "name": "stdout",
          "text": [
            "Test Error: \n",
            " Accuracy: 91.0%, Avg loss: 0.306887 \n",
            "\n",
            "Epoch 2\n",
            "-------------------------------\n"
          ]
        },
        {
          "output_type": "stream",
          "name": "stderr",
          "text": [
            "100%|██████████| 938/938 [00:07<00:00, 128.36it/s]\n"
          ]
        },
        {
          "output_type": "stream",
          "name": "stdout",
          "text": [
            "Test Error: \n",
            " Accuracy: 92.4%, Avg loss: 0.255010 \n",
            "\n",
            "Epoch 3\n",
            "-------------------------------\n"
          ]
        },
        {
          "output_type": "stream",
          "name": "stderr",
          "text": [
            "100%|██████████| 938/938 [00:07<00:00, 130.35it/s]\n"
          ]
        },
        {
          "output_type": "stream",
          "name": "stdout",
          "text": [
            "Test Error: \n",
            " Accuracy: 93.0%, Avg loss: 0.230946 \n",
            "\n",
            "Done!\n"
          ]
        }
      ]
    },
    {
      "cell_type": "markdown",
      "source": [
        "Next we export the model as a ```.onnx``` format. Because we need to export another model later again, we define a function to do so. In your code you can also just use the code block in your script without defining a function."
      ],
      "metadata": {
        "id": "TbgahIWjxoZq"
      }
    },
    {
      "cell_type": "code",
      "source": [
        "def export_as_onnx(model, model_filename, dummy_input): \n",
        "  # set model to eval mode\n",
        "  model.eval()\n",
        "\n",
        "  # create a dummy input in the shape of the input values\n",
        "  device = \"cuda\" if torch.cuda.is_available() else \"cpu\"\n",
        "  dummy_input = dummy_input.to(device)\n",
        "\n",
        "  torch.onnx.export(model,\n",
        "                    dummy_input,\n",
        "                    model_filename,\n",
        "                    export_params=True,\n",
        "                    verbose=False,\n",
        "                    input_names=['image'],\n",
        "                    output_names=['classification'],\n",
        "                    )"
      ],
      "metadata": {
        "id": "Q0VJc7Dwp5jH"
      },
      "execution_count": 3,
      "outputs": []
    },
    {
      "cell_type": "code",
      "source": [
        "model_filename = \"mnist_net.onnx\"\n",
        "export_as_onnx(model, model_filename=model_filename, dummy_input=torch.randn(1, 28, 28))"
      ],
      "metadata": {
        "id": "qS-08ZNLnfmP"
      },
      "execution_count": null,
      "outputs": []
    },
    {
      "cell_type": "markdown",
      "source": [
        "## Verify Robustness With Marabou"
      ],
      "metadata": {
        "id": "p7qvNVTY63tS"
      }
    },
    {
      "cell_type": "markdown",
      "source": [
        "With marabou we read the exported model. "
      ],
      "metadata": {
        "id": "goGrzTsov9Lx"
      }
    },
    {
      "cell_type": "code",
      "source": [
        "network = Marabou.read_onnx(model_filename)\n",
        "\n",
        "inputVars = network.inputVars[0][0]\n",
        "outputVars = network.outputVars[0][0]"
      ],
      "metadata": {
        "id": "T5eysj4r2bxz"
      },
      "execution_count": null,
      "outputs": []
    },
    {
      "cell_type": "markdown",
      "source": [
        "Using marabou we predict the class of our example image. \n",
        "For verification we will use that example. For now we evaluate the number of the mnist test image. \n",
        "For visualisation we show the image and the correct and predicted class."
      ],
      "metadata": {
        "id": "gj7MbOkEuSRZ"
      }
    },
    {
      "cell_type": "code",
      "source": [
        "inputs, classes = next(iter(train_dataloader))\n",
        "image = inputs[0].numpy()[0]\n",
        "correct_class = classes[0].item()\n",
        "\n",
        "network_ouput = network.evaluateWithoutMarabou([image])[0]\n",
        "predicted_class = np.argmax(network_ouput)\n",
        "\n",
        "plt.title(f\"correct:{correct_class}, predicted: {predicted_class}\")\n",
        "plt.imshow(image.reshape(28,28), cmap='gray')"
      ],
      "metadata": {
        "id": "YiEUl7HT7SJR",
        "outputId": "67796298-b1d0-4aa0-cdf4-0b9c1fd54d06",
        "colab": {
          "base_uri": "https://localhost:8080/",
          "height": 298
        }
      },
      "execution_count": null,
      "outputs": [
        {
          "output_type": "execute_result",
          "data": {
            "text/plain": [
              "<matplotlib.image.AxesImage at 0x7f91f1244790>"
            ]
          },
          "metadata": {},
          "execution_count": 15
        },
        {
          "output_type": "display_data",
          "data": {
            "text/plain": [
              "<Figure size 432x288 with 1 Axes>"
            ],
            "image/png": "[encoded data removed]"
          },
          "metadata": {
            "needs_background": "light"
          }
        }
      ]
    },
    {
      "cell_type": "markdown",
      "source": [
        "As in the last tutorial our goal is to find a pertubation so that the model fails to identify the correct class. For that we define an epsilon. "
      ],
      "metadata": {
        "id": "3BzV4VAb1UGd"
      }
    },
    {
      "cell_type": "code",
      "source": [
        "epsilon = 0.1"
      ],
      "metadata": {
        "id": "c57-rTJMmyXt"
      },
      "execution_count": null,
      "outputs": []
    },
    {
      "cell_type": "markdown",
      "source": [
        "We define bounds for every pixel so that the value is the old value +/- epsilon."
      ],
      "metadata": {
        "id": "ioRj5GK612fS"
      }
    },
    {
      "cell_type": "code",
      "source": [
        "for h in range(inputVars.shape[0]):\n",
        "  for w in range(inputVars.shape[1]):\n",
        "    network.setLowerBound(inputVars[h][w], image[h][w] - epsilon)\n",
        "    network.setUpperBound(inputVars[h][w], image[h][w] + epsilon)"
      ],
      "metadata": {
        "id": "6-xbc4nmwfmM"
      },
      "execution_count": null,
      "outputs": []
    },
    {
      "cell_type": "markdown",
      "source": [
        "With marabou we solve the network with defined constraints."
      ],
      "metadata": {
        "id": "LqZMi1Cq14VZ"
      }
    },
    {
      "cell_type": "code",
      "source": [
        "for i in range(outputVars.shape[0]):\n",
        "  if i != correct_class:\n",
        "    # add max constraint\n",
        "    network.addMaxConstraint(set(outputVars), outputVars[i])\n",
        "    # solve\n",
        "    exit_code, vals, stats = network.solve(verbose = False, options = options)\n",
        "    # if solution found, break\n",
        "    print(exit_code)\n",
        "    if len(vals) > 0:\n",
        "      break"
      ],
      "metadata": {
        "id": "iaajApMdwYp_",
        "colab": {
          "base_uri": "https://localhost:8080/"
        },
        "outputId": "b8ae092e-ac85-4649-b4b8-b3480c872e50"
      },
      "execution_count": null,
      "outputs": [
        {
          "output_type": "stream",
          "name": "stdout",
          "text": [
            "sat\n"
          ]
        }
      ]
    },
    {
      "cell_type": "markdown",
      "source": [
        "## Visualise Adversarial Example"
      ],
      "metadata": {
        "id": "ka90lrAf2yoY"
      }
    },
    {
      "cell_type": "markdown",
      "source": [
        "To show the adversarial example we extract the new input data and save that in an numpy array.\n",
        "Next we extract the new class that the neural network predicts"
      ],
      "metadata": {
        "id": "g89uf3w-17-q"
      }
    },
    {
      "cell_type": "code",
      "source": [
        "adversarial_image = [[] for _ in range(inputVars.shape[1])]\n",
        "for h in range(inputVars.shape[0]):\n",
        "  for w in range(inputVars.shape[1]):\n",
        "    adversarial_image[h].insert(w, vals[inputVars[h][w]])\n",
        "adversarial_image = np.array(adversarial_image)\n",
        "\n",
        "outputs = []\n",
        "for h in range(outputVars.shape[0]):\n",
        "  outputs.insert(h, vals[outputVars[h]])\n",
        "print(outputs)\n",
        "print(np.argmax(outputs))"
      ],
      "metadata": {
        "id": "iwGaQhYqzjxa",
        "outputId": "31cf84bb-bb14-412f-8109-00f3dd267231",
        "colab": {
          "base_uri": "https://localhost:8080/"
        }
      },
      "execution_count": null,
      "outputs": [
        {
          "output_type": "stream",
          "name": "stdout",
          "text": [
            "[-2.094623769819583, -2.094623769819583, -3.4436123316690326, -2.094623769819583, -7.328257865187606, -2.094623769819583, -4.198666076957091, -2.425855902306662, -2.57220759021058, -2.094623769819583]\n",
            "0\n"
          ]
        }
      ]
    },
    {
      "cell_type": "markdown",
      "source": [
        "Now we can see the slightly changed image. The model should not predict the correct number."
      ],
      "metadata": {
        "id": "nY2faD8n2f2E"
      }
    },
    {
      "cell_type": "code",
      "source": [
        "network_ouput = network.evaluateWithoutMarabou([adversarial_image])[0]\n",
        "predicted_class = np.argmax(network_ouput)\n",
        "\n",
        "plt.title(f\"correct:{correct_class}, predicted: {predicted_class}\")\n",
        "plt.imshow(adversarial_image, cmap='gray')"
      ],
      "metadata": {
        "colab": {
          "base_uri": "https://localhost:8080/",
          "height": 282
        },
        "id": "fpUjWw45z-69",
        "outputId": "6231f447-b820-47c0-9fcc-bcf594ccf35a"
      },
      "execution_count": null,
      "outputs": [
        {
          "output_type": "stream",
          "name": "stdout",
          "text": [
            "3\n"
          ]
        },
        {
          "output_type": "display_data",
          "data": {
            "text/plain": [
              "<Figure size 432x288 with 1 Axes>"
            ],
            "image/png": "[encoded data removed]"
          },
          "metadata": {
            "needs_background": "light"
          }
        }
      ]
    },
    {
      "cell_type": "markdown",
      "source": [
        "All the work we have done is included in the marabou implementation. \n",
        "Marabou evaluates the robustness with a given epsilon."
      ],
      "metadata": {
        "id": "Pt_sCui5_s9A"
      }
    },
    {
      "cell_type": "code",
      "source": [
        "epsilon = 0.05\n",
        "\n",
        "network = Marabou.read_onnx(model_filename)\n",
        "network.evaluateLocalRobustness(image, epsilon, correct_class, options=options)"
      ],
      "metadata": {
        "id": "oAnaKcukAULX",
        "outputId": "3eb07650-a84c-4033-be92-717511c7425c",
        "colab": {
          "base_uri": "https://localhost:8080/"
        }
      },
      "execution_count": null,
      "outputs": [
        {
          "output_type": "stream",
          "name": "stdout",
          "text": [
            "unsat\n",
            "unsat\n",
            "unsat\n",
            "unsat\n",
            "unsat\n",
            "unsat\n",
            "unsat\n",
            "unsat\n",
            "unsat\n"
          ]
        },
        {
          "output_type": "execute_result",
          "data": {
            "text/plain": [
              "[{}, <maraboupy.MarabouCore.Statistics at 0x7f91f245c8b0>, None]"
            ]
          },
          "metadata": {},
          "execution_count": 21
        }
      ]
    },
    {
      "cell_type": "markdown",
      "source": [
        "# Verification Of Fairness With Marabou\n",
        "\n",
        "As mentioned in this subsection we guide you through the verification of the fairness property with marabou. For that we will train a network on another dataset and then verify the fairness with marabou as we did with robustness."
      ],
      "metadata": {
        "id": "ivTVe0u67XXM"
      }
    },
    {
      "cell_type": "markdown",
      "source": [
        "## Training And Exporting The Neural Network"
      ],
      "metadata": {
        "id": "eX2dWMs57QRj"
      }
    },
    {
      "cell_type": "markdown",
      "source": [
        "\n",
        "We train the neural network on the [Census Income Data Set](https://archive.ics.uci.edu/ml/datasets/census+income). \n",
        "This classification problem has a set of inputs like age, gender, workclass and other. \n",
        "The classifier now has to predict whether the income is above or below $50.000.\n",
        "\n",
        "---\n",
        "\n",
        "### Listing of input features (encoded with integers starting with 1):\n",
        "\n",
        "* age: continuous.\n",
        "\n",
        "* workclass: Private, Self-emp-not-inc, Self-emp-inc, Federal-gov, Local-gov, State-gov, Without-pay, Never-worked.\n",
        "\n",
        "* fnlwgt: continuous.\n",
        "\n",
        "* education: Bachelors, Some-college, 11th, HS-grad, Prof-school, Assoc-acdm, Assoc-voc, 9th, 7th-8th, 12th, Masters, 1st-4th, 10th, Doctorate, 5th-6th, Preschool.\n",
        "\n",
        "* education-num: continuous.\n",
        "\n",
        "* marital-status: Married-civ-spouse, Divorced, Never-married, Separated, Widowed, Married-spouse-absent, Married-AF-spouse.\n",
        "\n",
        "* occupation: Tech-support, Craft-repair, Other-service, Sales, Exec-managerial, Prof-specialty, Handlers-cleaners, Machine-op-inspct, Adm-clerical, Farming-fishing, Transport-moving, Priv-house-serv, Protective-serv, Armed-Forces.\n",
        "\n",
        "* relationship: Wife, Own-child, Husband, Not-in-family, Other-relative, Unmarried.\n",
        "\n",
        "* race: White, Asian-Pac-Islander, Amer-Indian-Eskimo, Other, Black.\n",
        "\n",
        "* sex: Female, Male.\n",
        "\n",
        "* capital-gain: continuous.\n",
        "\n",
        "* capital-loss: continuous.\n",
        "\n",
        "* hours-per-week: continuous.\n",
        "\n",
        "* native-country: United-States, Cambodia, England, Puerto-Rico, Canada, Germany, Outlying-US(Guam-USVI-etc), India, Japan, Greece, South, China, Cuba, Iran, Honduras, Philippines, Italy, Poland, Jamaica, Vietnam, Mexico, Portugal, Ireland, France, Dominican-Republic, Laos, Ecuador, Taiwan, Haiti, Columbia, Hungary, Guatemala, Nicaragua, Scotland, Thailand, Yugoslavia, El-Salvador, Trinadad&Tobago, Peru, Hong, Holand-Netherlands.\n",
        "\n",
        "### Output (encoded with two neurons): \n",
        "* <=50K or >50K"
      ],
      "metadata": {
        "id": "52_y7PoFkUpT"
      }
    },
    {
      "cell_type": "code",
      "source": [
        "%%capture\n",
        "census_train_dataloader, census_test_dataloader = mnist_trainer.load_census_income_dataset(batch_size=64)"
      ],
      "metadata": {
        "id": "0j9OTZ8Ammle"
      },
      "execution_count": null,
      "outputs": []
    },
    {
      "cell_type": "code",
      "source": [
        "# train model\n",
        "census_model = mnist_trainer.train_model(\n",
        "    NeuralNetwork(input_dim=14, output_dim=2, number_of_neurons=20), \n",
        "    epochs=5, \n",
        "    train_dataloader=census_train_dataloader,    \n",
        "    test_dataloader=census_test_dataloader,\n",
        "    )\n",
        "\n",
        "# export model\n",
        "census_model_filename = \"census_net.onnx\"\n",
        "export_as_onnx(census_model, model_filename=census_model_filename, dummy_input=torch.randn(1, 14))"
      ],
      "metadata": {
        "id": "HbCo0D3YnJTZ"
      },
      "execution_count": null,
      "outputs": []
    },
    {
      "cell_type": "markdown",
      "source": [
        "## Verify Fairness With Marabou\n"
      ],
      "metadata": {
        "id": "s-twgz0kkHwy"
      }
    },
    {
      "cell_type": "markdown",
      "source": [
        "As before we need to read the network with marabou again."
      ],
      "metadata": {
        "id": "C2wWjDMLpKFV"
      }
    },
    {
      "cell_type": "code",
      "source": [
        "census_network = Marabou.read_onnx(census_model_filename)\n",
        "\n",
        "inputVars = census_network.inputVars[0][0]\n",
        "outputVars = census_network.outputVars[0][0]"
      ],
      "metadata": {
        "id": "dAaLt2MruV7d"
      },
      "execution_count": null,
      "outputs": []
    },
    {
      "cell_type": "markdown",
      "source": [
        "The fairness property states"
      ],
      "metadata": {
        "id": "rzkAKBDBkhSz"
      }
    },
    {
      "cell_type": "code",
      "source": [
        "# TODO\n",
        "\n",
        "\n",
        "\n",
        "exit_code, vals, stats = network.solve(verbose = False, options = options)"
      ],
      "metadata": {
        "id": "TboAwFt6VlvQ"
      },
      "execution_count": null,
      "outputs": []
    }
  ]
}